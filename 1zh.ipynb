{
    "metadata": {
        "kernelspec": {
            "name": "SQL",
            "display_name": "SQL",
            "language": "sql"
        },
        "language_info": {
            "name": "sql",
            "version": ""
        }
    },
    "nbformat_minor": 2,
    "nbformat": 4,
    "cells": [
        {
            "cell_type": "code",
            "source": [
                "--1.feladat\r\n",
                "\r\n",
                "select SZOBA_FK, COUNT(*)\r\n",
                "from Foglalas\r\n",
                "WHERE FELNOTT_SZAM>GYERMEK_SZAM\r\n",
                "GROUP BY SZOBA_FK\r\n",
                "HAVING COUNT(*)>2"
            ],
            "metadata": {
                "azdata_cell_guid": "9e55731f-a86c-43ce-810d-f1945242fc98",
                "language": "sql"
            },
            "outputs": [
                {
                    "output_type": "display_data",
                    "data": {
                        "text/html": "(130 rows affected)"
                    },
                    "metadata": {}
                },
                {
                    "output_type": "display_data",
                    "data": {
                        "text/html": "Total execution time: 00:00:00.012"
                    },
                    "metadata": {}
                },
                {
                    "output_type": "execute_result",
                    "metadata": {},
                    "execution_count": 4,
                    "data": {
                        "application/vnd.dataresource+json": {
                            "schema": {
                                "fields": [
                                    {
                                        "name": "SZOBA_FK"
                                    },
                                    {
                                        "name": "(No column name)"
                                    }
                                ]
                            },
                            "data": [
                                {
                                    "SZOBA_FK": "1",
                                    "(No column name)": "7"
                                },
                                {
                                    "SZOBA_FK": "3",
                                    "(No column name)": "3"
                                },
                                {
                                    "SZOBA_FK": "4",
                                    "(No column name)": "5"
                                },
                                {
                                    "SZOBA_FK": "6",
                                    "(No column name)": "5"
                                },
                                {
                                    "SZOBA_FK": "7",
                                    "(No column name)": "6"
                                },
                                {
                                    "SZOBA_FK": "8",
                                    "(No column name)": "5"
                                },
                                {
                                    "SZOBA_FK": "9",
                                    "(No column name)": "4"
                                },
                                {
                                    "SZOBA_FK": "10",
                                    "(No column name)": "4"
                                },
                                {
                                    "SZOBA_FK": "11",
                                    "(No column name)": "4"
                                },
                                {
                                    "SZOBA_FK": "12",
                                    "(No column name)": "7"
                                },
                                {
                                    "SZOBA_FK": "13",
                                    "(No column name)": "4"
                                },
                                {
                                    "SZOBA_FK": "14",
                                    "(No column name)": "3"
                                },
                                {
                                    "SZOBA_FK": "15",
                                    "(No column name)": "4"
                                },
                                {
                                    "SZOBA_FK": "18",
                                    "(No column name)": "3"
                                },
                                {
                                    "SZOBA_FK": "19",
                                    "(No column name)": "4"
                                },
                                {
                                    "SZOBA_FK": "20",
                                    "(No column name)": "5"
                                },
                                {
                                    "SZOBA_FK": "23",
                                    "(No column name)": "3"
                                },
                                {
                                    "SZOBA_FK": "24",
                                    "(No column name)": "3"
                                },
                                {
                                    "SZOBA_FK": "27",
                                    "(No column name)": "5"
                                },
                                {
                                    "SZOBA_FK": "28",
                                    "(No column name)": "5"
                                },
                                {
                                    "SZOBA_FK": "29",
                                    "(No column name)": "3"
                                },
                                {
                                    "SZOBA_FK": "33",
                                    "(No column name)": "3"
                                },
                                {
                                    "SZOBA_FK": "34",
                                    "(No column name)": "3"
                                },
                                {
                                    "SZOBA_FK": "35",
                                    "(No column name)": "6"
                                },
                                {
                                    "SZOBA_FK": "36",
                                    "(No column name)": "4"
                                },
                                {
                                    "SZOBA_FK": "38",
                                    "(No column name)": "5"
                                },
                                {
                                    "SZOBA_FK": "39",
                                    "(No column name)": "4"
                                },
                                {
                                    "SZOBA_FK": "40",
                                    "(No column name)": "3"
                                },
                                {
                                    "SZOBA_FK": "42",
                                    "(No column name)": "5"
                                },
                                {
                                    "SZOBA_FK": "43",
                                    "(No column name)": "4"
                                },
                                {
                                    "SZOBA_FK": "44",
                                    "(No column name)": "6"
                                },
                                {
                                    "SZOBA_FK": "45",
                                    "(No column name)": "4"
                                },
                                {
                                    "SZOBA_FK": "46",
                                    "(No column name)": "3"
                                },
                                {
                                    "SZOBA_FK": "48",
                                    "(No column name)": "6"
                                },
                                {
                                    "SZOBA_FK": "49",
                                    "(No column name)": "5"
                                },
                                {
                                    "SZOBA_FK": "50",
                                    "(No column name)": "3"
                                },
                                {
                                    "SZOBA_FK": "51",
                                    "(No column name)": "3"
                                },
                                {
                                    "SZOBA_FK": "52",
                                    "(No column name)": "5"
                                },
                                {
                                    "SZOBA_FK": "54",
                                    "(No column name)": "4"
                                },
                                {
                                    "SZOBA_FK": "55",
                                    "(No column name)": "3"
                                },
                                {
                                    "SZOBA_FK": "57",
                                    "(No column name)": "3"
                                },
                                {
                                    "SZOBA_FK": "58",
                                    "(No column name)": "8"
                                },
                                {
                                    "SZOBA_FK": "59",
                                    "(No column name)": "4"
                                },
                                {
                                    "SZOBA_FK": "61",
                                    "(No column name)": "4"
                                },
                                {
                                    "SZOBA_FK": "62",
                                    "(No column name)": "3"
                                },
                                {
                                    "SZOBA_FK": "63",
                                    "(No column name)": "3"
                                },
                                {
                                    "SZOBA_FK": "64",
                                    "(No column name)": "5"
                                },
                                {
                                    "SZOBA_FK": "66",
                                    "(No column name)": "3"
                                },
                                {
                                    "SZOBA_FK": "70",
                                    "(No column name)": "8"
                                },
                                {
                                    "SZOBA_FK": "73",
                                    "(No column name)": "4"
                                },
                                {
                                    "SZOBA_FK": "74",
                                    "(No column name)": "8"
                                },
                                {
                                    "SZOBA_FK": "77",
                                    "(No column name)": "3"
                                },
                                {
                                    "SZOBA_FK": "78",
                                    "(No column name)": "3"
                                },
                                {
                                    "SZOBA_FK": "79",
                                    "(No column name)": "4"
                                },
                                {
                                    "SZOBA_FK": "80",
                                    "(No column name)": "5"
                                },
                                {
                                    "SZOBA_FK": "81",
                                    "(No column name)": "3"
                                },
                                {
                                    "SZOBA_FK": "82",
                                    "(No column name)": "5"
                                },
                                {
                                    "SZOBA_FK": "83",
                                    "(No column name)": "5"
                                },
                                {
                                    "SZOBA_FK": "84",
                                    "(No column name)": "3"
                                },
                                {
                                    "SZOBA_FK": "86",
                                    "(No column name)": "4"
                                },
                                {
                                    "SZOBA_FK": "87",
                                    "(No column name)": "5"
                                },
                                {
                                    "SZOBA_FK": "88",
                                    "(No column name)": "5"
                                },
                                {
                                    "SZOBA_FK": "89",
                                    "(No column name)": "8"
                                },
                                {
                                    "SZOBA_FK": "90",
                                    "(No column name)": "3"
                                },
                                {
                                    "SZOBA_FK": "92",
                                    "(No column name)": "5"
                                },
                                {
                                    "SZOBA_FK": "93",
                                    "(No column name)": "3"
                                },
                                {
                                    "SZOBA_FK": "94",
                                    "(No column name)": "6"
                                },
                                {
                                    "SZOBA_FK": "95",
                                    "(No column name)": "3"
                                },
                                {
                                    "SZOBA_FK": "96",
                                    "(No column name)": "6"
                                },
                                {
                                    "SZOBA_FK": "97",
                                    "(No column name)": "5"
                                },
                                {
                                    "SZOBA_FK": "98",
                                    "(No column name)": "4"
                                },
                                {
                                    "SZOBA_FK": "99",
                                    "(No column name)": "4"
                                },
                                {
                                    "SZOBA_FK": "104",
                                    "(No column name)": "3"
                                },
                                {
                                    "SZOBA_FK": "106",
                                    "(No column name)": "4"
                                },
                                {
                                    "SZOBA_FK": "107",
                                    "(No column name)": "4"
                                },
                                {
                                    "SZOBA_FK": "110",
                                    "(No column name)": "5"
                                },
                                {
                                    "SZOBA_FK": "112",
                                    "(No column name)": "4"
                                },
                                {
                                    "SZOBA_FK": "115",
                                    "(No column name)": "5"
                                },
                                {
                                    "SZOBA_FK": "117",
                                    "(No column name)": "4"
                                },
                                {
                                    "SZOBA_FK": "119",
                                    "(No column name)": "4"
                                },
                                {
                                    "SZOBA_FK": "121",
                                    "(No column name)": "5"
                                },
                                {
                                    "SZOBA_FK": "122",
                                    "(No column name)": "3"
                                },
                                {
                                    "SZOBA_FK": "123",
                                    "(No column name)": "5"
                                },
                                {
                                    "SZOBA_FK": "124",
                                    "(No column name)": "4"
                                },
                                {
                                    "SZOBA_FK": "126",
                                    "(No column name)": "4"
                                },
                                {
                                    "SZOBA_FK": "127",
                                    "(No column name)": "5"
                                },
                                {
                                    "SZOBA_FK": "129",
                                    "(No column name)": "3"
                                },
                                {
                                    "SZOBA_FK": "130",
                                    "(No column name)": "5"
                                },
                                {
                                    "SZOBA_FK": "131",
                                    "(No column name)": "4"
                                },
                                {
                                    "SZOBA_FK": "132",
                                    "(No column name)": "4"
                                },
                                {
                                    "SZOBA_FK": "133",
                                    "(No column name)": "4"
                                },
                                {
                                    "SZOBA_FK": "134",
                                    "(No column name)": "4"
                                },
                                {
                                    "SZOBA_FK": "135",
                                    "(No column name)": "3"
                                },
                                {
                                    "SZOBA_FK": "138",
                                    "(No column name)": "5"
                                },
                                {
                                    "SZOBA_FK": "139",
                                    "(No column name)": "6"
                                },
                                {
                                    "SZOBA_FK": "140",
                                    "(No column name)": "5"
                                },
                                {
                                    "SZOBA_FK": "141",
                                    "(No column name)": "4"
                                },
                                {
                                    "SZOBA_FK": "143",
                                    "(No column name)": "5"
                                },
                                {
                                    "SZOBA_FK": "146",
                                    "(No column name)": "3"
                                },
                                {
                                    "SZOBA_FK": "148",
                                    "(No column name)": "5"
                                },
                                {
                                    "SZOBA_FK": "149",
                                    "(No column name)": "5"
                                },
                                {
                                    "SZOBA_FK": "150",
                                    "(No column name)": "6"
                                },
                                {
                                    "SZOBA_FK": "152",
                                    "(No column name)": "3"
                                },
                                {
                                    "SZOBA_FK": "153",
                                    "(No column name)": "4"
                                },
                                {
                                    "SZOBA_FK": "154",
                                    "(No column name)": "3"
                                },
                                {
                                    "SZOBA_FK": "155",
                                    "(No column name)": "3"
                                },
                                {
                                    "SZOBA_FK": "158",
                                    "(No column name)": "3"
                                },
                                {
                                    "SZOBA_FK": "161",
                                    "(No column name)": "3"
                                },
                                {
                                    "SZOBA_FK": "163",
                                    "(No column name)": "5"
                                },
                                {
                                    "SZOBA_FK": "164",
                                    "(No column name)": "4"
                                },
                                {
                                    "SZOBA_FK": "165",
                                    "(No column name)": "5"
                                },
                                {
                                    "SZOBA_FK": "166",
                                    "(No column name)": "3"
                                },
                                {
                                    "SZOBA_FK": "169",
                                    "(No column name)": "3"
                                },
                                {
                                    "SZOBA_FK": "170",
                                    "(No column name)": "3"
                                },
                                {
                                    "SZOBA_FK": "171",
                                    "(No column name)": "5"
                                },
                                {
                                    "SZOBA_FK": "172",
                                    "(No column name)": "6"
                                },
                                {
                                    "SZOBA_FK": "173",
                                    "(No column name)": "3"
                                },
                                {
                                    "SZOBA_FK": "174",
                                    "(No column name)": "4"
                                },
                                {
                                    "SZOBA_FK": "175",
                                    "(No column name)": "3"
                                },
                                {
                                    "SZOBA_FK": "181",
                                    "(No column name)": "5"
                                },
                                {
                                    "SZOBA_FK": "182",
                                    "(No column name)": "11"
                                },
                                {
                                    "SZOBA_FK": "183",
                                    "(No column name)": "3"
                                },
                                {
                                    "SZOBA_FK": "184",
                                    "(No column name)": "4"
                                },
                                {
                                    "SZOBA_FK": "185",
                                    "(No column name)": "10"
                                },
                                {
                                    "SZOBA_FK": "187",
                                    "(No column name)": "6"
                                },
                                {
                                    "SZOBA_FK": "190",
                                    "(No column name)": "5"
                                },
                                {
                                    "SZOBA_FK": "191",
                                    "(No column name)": "3"
                                },
                                {
                                    "SZOBA_FK": "195",
                                    "(No column name)": "5"
                                },
                                {
                                    "SZOBA_FK": "197",
                                    "(No column name)": "6"
                                },
                                {
                                    "SZOBA_FK": "198",
                                    "(No column name)": "7"
                                }
                            ]
                        },
                        "text/html": [
                            "<table>",
                            "<tr><th>SZOBA_FK</th><th>(No column name)</th></tr>",
                            "<tr><td>1</td><td>7</td></tr>",
                            "<tr><td>3</td><td>3</td></tr>",
                            "<tr><td>4</td><td>5</td></tr>",
                            "<tr><td>6</td><td>5</td></tr>",
                            "<tr><td>7</td><td>6</td></tr>",
                            "<tr><td>8</td><td>5</td></tr>",
                            "<tr><td>9</td><td>4</td></tr>",
                            "<tr><td>10</td><td>4</td></tr>",
                            "<tr><td>11</td><td>4</td></tr>",
                            "<tr><td>12</td><td>7</td></tr>",
                            "<tr><td>13</td><td>4</td></tr>",
                            "<tr><td>14</td><td>3</td></tr>",
                            "<tr><td>15</td><td>4</td></tr>",
                            "<tr><td>18</td><td>3</td></tr>",
                            "<tr><td>19</td><td>4</td></tr>",
                            "<tr><td>20</td><td>5</td></tr>",
                            "<tr><td>23</td><td>3</td></tr>",
                            "<tr><td>24</td><td>3</td></tr>",
                            "<tr><td>27</td><td>5</td></tr>",
                            "<tr><td>28</td><td>5</td></tr>",
                            "<tr><td>29</td><td>3</td></tr>",
                            "<tr><td>33</td><td>3</td></tr>",
                            "<tr><td>34</td><td>3</td></tr>",
                            "<tr><td>35</td><td>6</td></tr>",
                            "<tr><td>36</td><td>4</td></tr>",
                            "<tr><td>38</td><td>5</td></tr>",
                            "<tr><td>39</td><td>4</td></tr>",
                            "<tr><td>40</td><td>3</td></tr>",
                            "<tr><td>42</td><td>5</td></tr>",
                            "<tr><td>43</td><td>4</td></tr>",
                            "<tr><td>44</td><td>6</td></tr>",
                            "<tr><td>45</td><td>4</td></tr>",
                            "<tr><td>46</td><td>3</td></tr>",
                            "<tr><td>48</td><td>6</td></tr>",
                            "<tr><td>49</td><td>5</td></tr>",
                            "<tr><td>50</td><td>3</td></tr>",
                            "<tr><td>51</td><td>3</td></tr>",
                            "<tr><td>52</td><td>5</td></tr>",
                            "<tr><td>54</td><td>4</td></tr>",
                            "<tr><td>55</td><td>3</td></tr>",
                            "<tr><td>57</td><td>3</td></tr>",
                            "<tr><td>58</td><td>8</td></tr>",
                            "<tr><td>59</td><td>4</td></tr>",
                            "<tr><td>61</td><td>4</td></tr>",
                            "<tr><td>62</td><td>3</td></tr>",
                            "<tr><td>63</td><td>3</td></tr>",
                            "<tr><td>64</td><td>5</td></tr>",
                            "<tr><td>66</td><td>3</td></tr>",
                            "<tr><td>70</td><td>8</td></tr>",
                            "<tr><td>73</td><td>4</td></tr>",
                            "<tr><td>74</td><td>8</td></tr>",
                            "<tr><td>77</td><td>3</td></tr>",
                            "<tr><td>78</td><td>3</td></tr>",
                            "<tr><td>79</td><td>4</td></tr>",
                            "<tr><td>80</td><td>5</td></tr>",
                            "<tr><td>81</td><td>3</td></tr>",
                            "<tr><td>82</td><td>5</td></tr>",
                            "<tr><td>83</td><td>5</td></tr>",
                            "<tr><td>84</td><td>3</td></tr>",
                            "<tr><td>86</td><td>4</td></tr>",
                            "<tr><td>87</td><td>5</td></tr>",
                            "<tr><td>88</td><td>5</td></tr>",
                            "<tr><td>89</td><td>8</td></tr>",
                            "<tr><td>90</td><td>3</td></tr>",
                            "<tr><td>92</td><td>5</td></tr>",
                            "<tr><td>93</td><td>3</td></tr>",
                            "<tr><td>94</td><td>6</td></tr>",
                            "<tr><td>95</td><td>3</td></tr>",
                            "<tr><td>96</td><td>6</td></tr>",
                            "<tr><td>97</td><td>5</td></tr>",
                            "<tr><td>98</td><td>4</td></tr>",
                            "<tr><td>99</td><td>4</td></tr>",
                            "<tr><td>104</td><td>3</td></tr>",
                            "<tr><td>106</td><td>4</td></tr>",
                            "<tr><td>107</td><td>4</td></tr>",
                            "<tr><td>110</td><td>5</td></tr>",
                            "<tr><td>112</td><td>4</td></tr>",
                            "<tr><td>115</td><td>5</td></tr>",
                            "<tr><td>117</td><td>4</td></tr>",
                            "<tr><td>119</td><td>4</td></tr>",
                            "<tr><td>121</td><td>5</td></tr>",
                            "<tr><td>122</td><td>3</td></tr>",
                            "<tr><td>123</td><td>5</td></tr>",
                            "<tr><td>124</td><td>4</td></tr>",
                            "<tr><td>126</td><td>4</td></tr>",
                            "<tr><td>127</td><td>5</td></tr>",
                            "<tr><td>129</td><td>3</td></tr>",
                            "<tr><td>130</td><td>5</td></tr>",
                            "<tr><td>131</td><td>4</td></tr>",
                            "<tr><td>132</td><td>4</td></tr>",
                            "<tr><td>133</td><td>4</td></tr>",
                            "<tr><td>134</td><td>4</td></tr>",
                            "<tr><td>135</td><td>3</td></tr>",
                            "<tr><td>138</td><td>5</td></tr>",
                            "<tr><td>139</td><td>6</td></tr>",
                            "<tr><td>140</td><td>5</td></tr>",
                            "<tr><td>141</td><td>4</td></tr>",
                            "<tr><td>143</td><td>5</td></tr>",
                            "<tr><td>146</td><td>3</td></tr>",
                            "<tr><td>148</td><td>5</td></tr>",
                            "<tr><td>149</td><td>5</td></tr>",
                            "<tr><td>150</td><td>6</td></tr>",
                            "<tr><td>152</td><td>3</td></tr>",
                            "<tr><td>153</td><td>4</td></tr>",
                            "<tr><td>154</td><td>3</td></tr>",
                            "<tr><td>155</td><td>3</td></tr>",
                            "<tr><td>158</td><td>3</td></tr>",
                            "<tr><td>161</td><td>3</td></tr>",
                            "<tr><td>163</td><td>5</td></tr>",
                            "<tr><td>164</td><td>4</td></tr>",
                            "<tr><td>165</td><td>5</td></tr>",
                            "<tr><td>166</td><td>3</td></tr>",
                            "<tr><td>169</td><td>3</td></tr>",
                            "<tr><td>170</td><td>3</td></tr>",
                            "<tr><td>171</td><td>5</td></tr>",
                            "<tr><td>172</td><td>6</td></tr>",
                            "<tr><td>173</td><td>3</td></tr>",
                            "<tr><td>174</td><td>4</td></tr>",
                            "<tr><td>175</td><td>3</td></tr>",
                            "<tr><td>181</td><td>5</td></tr>",
                            "<tr><td>182</td><td>11</td></tr>",
                            "<tr><td>183</td><td>3</td></tr>",
                            "<tr><td>184</td><td>4</td></tr>",
                            "<tr><td>185</td><td>10</td></tr>",
                            "<tr><td>187</td><td>6</td></tr>",
                            "<tr><td>190</td><td>5</td></tr>",
                            "<tr><td>191</td><td>3</td></tr>",
                            "<tr><td>195</td><td>5</td></tr>",
                            "<tr><td>197</td><td>6</td></tr>",
                            "<tr><td>198</td><td>7</td></tr>",
                            "</table>"
                        ]
                    }
                }
            ],
            "execution_count": 4
        },
        {
            "cell_type": "code",
            "source": [
                "--2.feladat\r\n",
                "\r\n",
                "select SZOBA_ID,SZOBA_SZAMA,FEROHELY,POTAGY,KLIMAS,SZALLAS_FK, SZALLAS_NEV,\r\n",
                "       CASE WHEN szall.TIPUS='panzió' THEN 'Igen' \r\n",
                "       ELSE 'nem'\r\n",
                "       END AS 'panzió-e'\r\n",
                "from Szoba sz LEFT JOIN Foglalas f ON sz.SZOBA_ID=f.SZOBA_FK\r\n",
                "JOIN Szallashely szall ON sz.SZALLAS_FK=szall.SZALLAS_ID\r\n",
                "WHERE FOGLALAS_PK IS NULL\r\n",
                ""
            ],
            "metadata": {
                "azdata_cell_guid": "aec3ad1e-1c49-4419-ae79-efe73dca5a01",
                "language": "sql"
            },
            "outputs": [
                {
                    "output_type": "display_data",
                    "data": {
                        "text/html": "(97 rows affected)"
                    },
                    "metadata": {}
                },
                {
                    "output_type": "display_data",
                    "data": {
                        "text/html": "Total execution time: 00:00:00.016"
                    },
                    "metadata": {}
                },
                {
                    "output_type": "execute_result",
                    "metadata": {},
                    "execution_count": 15,
                    "data": {
                        "application/vnd.dataresource+json": {
                            "schema": {
                                "fields": [
                                    {
                                        "name": "SZOBA_ID"
                                    },
                                    {
                                        "name": "SZOBA_SZAMA"
                                    },
                                    {
                                        "name": "FEROHELY"
                                    },
                                    {
                                        "name": "POTAGY"
                                    },
                                    {
                                        "name": "KLIMAS"
                                    },
                                    {
                                        "name": "SZALLAS_FK"
                                    },
                                    {
                                        "name": "SZALLAS_NEV"
                                    },
                                    {
                                        "name": "panzió-e"
                                    }
                                ]
                            },
                            "data": [
                                {
                                    "SZOBA_ID": "159",
                                    "SZOBA_SZAMA": "25",
                                    "FEROHELY": "3",
                                    "POTAGY": "1",
                                    "KLIMAS": "n",
                                    "SZALLAS_FK": "10",
                                    "SZALLAS_NEV": "Lagúna Hotel",
                                    "panzió-e": "nem"
                                },
                                {
                                    "SZOBA_ID": "199",
                                    "SZOBA_SZAMA": "35",
                                    "FEROHELY": "3",
                                    "POTAGY": "2",
                                    "KLIMAS": "i",
                                    "SZALLAS_FK": "12",
                                    "SZALLAS_NEV": "Gold Hotel",
                                    "panzió-e": "nem"
                                },
                                {
                                    "SZOBA_ID": "200",
                                    "SZOBA_SZAMA": "36",
                                    "FEROHELY": "2",
                                    "POTAGY": "0",
                                    "KLIMAS": "i",
                                    "SZALLAS_FK": "12",
                                    "SZALLAS_NEV": "Gold Hotel",
                                    "panzió-e": "nem"
                                },
                                {
                                    "SZOBA_ID": "201",
                                    "SZOBA_SZAMA": "37",
                                    "FEROHELY": "3",
                                    "POTAGY": "1",
                                    "KLIMAS": "n",
                                    "SZALLAS_FK": "12",
                                    "SZALLAS_NEV": "Gold Hotel",
                                    "panzió-e": "nem"
                                },
                                {
                                    "SZOBA_ID": "202",
                                    "SZOBA_SZAMA": "38",
                                    "FEROHELY": "3",
                                    "POTAGY": "1",
                                    "KLIMAS": "i",
                                    "SZALLAS_FK": "12",
                                    "SZALLAS_NEV": "Gold Hotel",
                                    "panzió-e": "nem"
                                },
                                {
                                    "SZOBA_ID": "203",
                                    "SZOBA_SZAMA": "39",
                                    "FEROHELY": "3",
                                    "POTAGY": "0",
                                    "KLIMAS": "i",
                                    "SZALLAS_FK": "12",
                                    "SZALLAS_NEV": "Gold Hotel",
                                    "panzió-e": "nem"
                                },
                                {
                                    "SZOBA_ID": "204",
                                    "SZOBA_SZAMA": "40",
                                    "FEROHELY": "3",
                                    "POTAGY": "1",
                                    "KLIMAS": "i",
                                    "SZALLAS_FK": "12",
                                    "SZALLAS_NEV": "Gold Hotel",
                                    "panzió-e": "nem"
                                },
                                {
                                    "SZOBA_ID": "205",
                                    "SZOBA_SZAMA": "41",
                                    "FEROHELY": "3",
                                    "POTAGY": "0",
                                    "KLIMAS": "i",
                                    "SZALLAS_FK": "12",
                                    "SZALLAS_NEV": "Gold Hotel",
                                    "panzió-e": "nem"
                                },
                                {
                                    "SZOBA_ID": "206",
                                    "SZOBA_SZAMA": "42",
                                    "FEROHELY": "2",
                                    "POTAGY": "1",
                                    "KLIMAS": "i",
                                    "SZALLAS_FK": "12",
                                    "SZALLAS_NEV": "Gold Hotel",
                                    "panzió-e": "nem"
                                },
                                {
                                    "SZOBA_ID": "207",
                                    "SZOBA_SZAMA": "43",
                                    "FEROHELY": "2",
                                    "POTAGY": "1",
                                    "KLIMAS": "i",
                                    "SZALLAS_FK": "12",
                                    "SZALLAS_NEV": "Gold Hotel",
                                    "panzió-e": "nem"
                                },
                                {
                                    "SZOBA_ID": "208",
                                    "SZOBA_SZAMA": "44",
                                    "FEROHELY": "2",
                                    "POTAGY": "1",
                                    "KLIMAS": "i",
                                    "SZALLAS_FK": "12",
                                    "SZALLAS_NEV": "Gold Hotel",
                                    "panzió-e": "nem"
                                },
                                {
                                    "SZOBA_ID": "209",
                                    "SZOBA_SZAMA": "45",
                                    "FEROHELY": "3",
                                    "POTAGY": "2",
                                    "KLIMAS": "n",
                                    "SZALLAS_FK": "12",
                                    "SZALLAS_NEV": "Gold Hotel",
                                    "panzió-e": "nem"
                                },
                                {
                                    "SZOBA_ID": "210",
                                    "SZOBA_SZAMA": "46",
                                    "FEROHELY": "2",
                                    "POTAGY": "0",
                                    "KLIMAS": "i",
                                    "SZALLAS_FK": "12",
                                    "SZALLAS_NEV": "Gold Hotel",
                                    "panzió-e": "nem"
                                },
                                {
                                    "SZOBA_ID": "211",
                                    "SZOBA_SZAMA": "47",
                                    "FEROHELY": "2",
                                    "POTAGY": "1",
                                    "KLIMAS": "i",
                                    "SZALLAS_FK": "12",
                                    "SZALLAS_NEV": "Gold Hotel",
                                    "panzió-e": "nem"
                                },
                                {
                                    "SZOBA_ID": "212",
                                    "SZOBA_SZAMA": "48",
                                    "FEROHELY": "3",
                                    "POTAGY": "0",
                                    "KLIMAS": "n",
                                    "SZALLAS_FK": "12",
                                    "SZALLAS_NEV": "Gold Hotel",
                                    "panzió-e": "nem"
                                },
                                {
                                    "SZOBA_ID": "213",
                                    "SZOBA_SZAMA": "49",
                                    "FEROHELY": "3",
                                    "POTAGY": "0",
                                    "KLIMAS": "i",
                                    "SZALLAS_FK": "12",
                                    "SZALLAS_NEV": "Gold Hotel",
                                    "panzió-e": "nem"
                                },
                                {
                                    "SZOBA_ID": "214",
                                    "SZOBA_SZAMA": "50",
                                    "FEROHELY": "3",
                                    "POTAGY": "1",
                                    "KLIMAS": "i",
                                    "SZALLAS_FK": "12",
                                    "SZALLAS_NEV": "Gold Hotel",
                                    "panzió-e": "nem"
                                },
                                {
                                    "SZOBA_ID": "215",
                                    "SZOBA_SZAMA": "1",
                                    "FEROHELY": "2",
                                    "POTAGY": "1",
                                    "KLIMAS": "i",
                                    "SZALLAS_FK": "13",
                                    "SZALLAS_NEV": "Riviéra Panzió",
                                    "panzió-e": "Igen"
                                },
                                {
                                    "SZOBA_ID": "216",
                                    "SZOBA_SZAMA": "2",
                                    "FEROHELY": "3",
                                    "POTAGY": "1",
                                    "KLIMAS": "i",
                                    "SZALLAS_FK": "13",
                                    "SZALLAS_NEV": "Riviéra Panzió",
                                    "panzió-e": "Igen"
                                },
                                {
                                    "SZOBA_ID": "217",
                                    "SZOBA_SZAMA": "3",
                                    "FEROHELY": "2",
                                    "POTAGY": "1",
                                    "KLIMAS": "n",
                                    "SZALLAS_FK": "13",
                                    "SZALLAS_NEV": "Riviéra Panzió",
                                    "panzió-e": "Igen"
                                },
                                {
                                    "SZOBA_ID": "218",
                                    "SZOBA_SZAMA": "4",
                                    "FEROHELY": "3",
                                    "POTAGY": "0",
                                    "KLIMAS": "i",
                                    "SZALLAS_FK": "13",
                                    "SZALLAS_NEV": "Riviéra Panzió",
                                    "panzió-e": "Igen"
                                },
                                {
                                    "SZOBA_ID": "219",
                                    "SZOBA_SZAMA": "5",
                                    "FEROHELY": "2",
                                    "POTAGY": "0",
                                    "KLIMAS": "n",
                                    "SZALLAS_FK": "13",
                                    "SZALLAS_NEV": "Riviéra Panzió",
                                    "panzió-e": "Igen"
                                },
                                {
                                    "SZOBA_ID": "220",
                                    "SZOBA_SZAMA": "6",
                                    "FEROHELY": "3",
                                    "POTAGY": "0",
                                    "KLIMAS": "i",
                                    "SZALLAS_FK": "13",
                                    "SZALLAS_NEV": "Riviéra Panzió",
                                    "panzió-e": "Igen"
                                },
                                {
                                    "SZOBA_ID": "221",
                                    "SZOBA_SZAMA": "7",
                                    "FEROHELY": "3",
                                    "POTAGY": "0",
                                    "KLIMAS": "i",
                                    "SZALLAS_FK": "13",
                                    "SZALLAS_NEV": "Riviéra Panzió",
                                    "panzió-e": "Igen"
                                },
                                {
                                    "SZOBA_ID": "222",
                                    "SZOBA_SZAMA": "8",
                                    "FEROHELY": "2",
                                    "POTAGY": "0",
                                    "KLIMAS": "n",
                                    "SZALLAS_FK": "13",
                                    "SZALLAS_NEV": "Riviéra Panzió",
                                    "panzió-e": "Igen"
                                },
                                {
                                    "SZOBA_ID": "223",
                                    "SZOBA_SZAMA": "9",
                                    "FEROHELY": "2",
                                    "POTAGY": "1",
                                    "KLIMAS": "i",
                                    "SZALLAS_FK": "13",
                                    "SZALLAS_NEV": "Riviéra Panzió",
                                    "panzió-e": "Igen"
                                },
                                {
                                    "SZOBA_ID": "224",
                                    "SZOBA_SZAMA": "10",
                                    "FEROHELY": "2",
                                    "POTAGY": "0",
                                    "KLIMAS": "i",
                                    "SZALLAS_FK": "13",
                                    "SZALLAS_NEV": "Riviéra Panzió",
                                    "panzió-e": "Igen"
                                },
                                {
                                    "SZOBA_ID": "225",
                                    "SZOBA_SZAMA": "11",
                                    "FEROHELY": "2",
                                    "POTAGY": "1",
                                    "KLIMAS": "i",
                                    "SZALLAS_FK": "13",
                                    "SZALLAS_NEV": "Riviéra Panzió",
                                    "panzió-e": "Igen"
                                },
                                {
                                    "SZOBA_ID": "226",
                                    "SZOBA_SZAMA": "12",
                                    "FEROHELY": "3",
                                    "POTAGY": "1",
                                    "KLIMAS": "n",
                                    "SZALLAS_FK": "13",
                                    "SZALLAS_NEV": "Riviéra Panzió",
                                    "panzió-e": "Igen"
                                },
                                {
                                    "SZOBA_ID": "227",
                                    "SZOBA_SZAMA": "1",
                                    "FEROHELY": "2",
                                    "POTAGY": "1",
                                    "KLIMAS": "i",
                                    "SZALLAS_FK": "14",
                                    "SZALLAS_NEV": "Nyárfás Vendégház",
                                    "panzió-e": "nem"
                                },
                                {
                                    "SZOBA_ID": "228",
                                    "SZOBA_SZAMA": "2",
                                    "FEROHELY": "3",
                                    "POTAGY": "0",
                                    "KLIMAS": "i",
                                    "SZALLAS_FK": "14",
                                    "SZALLAS_NEV": "Nyárfás Vendégház",
                                    "panzió-e": "nem"
                                },
                                {
                                    "SZOBA_ID": "229",
                                    "SZOBA_SZAMA": "3",
                                    "FEROHELY": "2",
                                    "POTAGY": "0",
                                    "KLIMAS": "i",
                                    "SZALLAS_FK": "14",
                                    "SZALLAS_NEV": "Nyárfás Vendégház",
                                    "panzió-e": "nem"
                                },
                                {
                                    "SZOBA_ID": "230",
                                    "SZOBA_SZAMA": "4",
                                    "FEROHELY": "3",
                                    "POTAGY": "2",
                                    "KLIMAS": "i",
                                    "SZALLAS_FK": "14",
                                    "SZALLAS_NEV": "Nyárfás Vendégház",
                                    "panzió-e": "nem"
                                },
                                {
                                    "SZOBA_ID": "231",
                                    "SZOBA_SZAMA": "1",
                                    "FEROHELY": "2",
                                    "POTAGY": "0",
                                    "KLIMAS": "i",
                                    "SZALLAS_FK": "15",
                                    "SZALLAS_NEV": "Tímárház Panzió",
                                    "panzió-e": "Igen"
                                },
                                {
                                    "SZOBA_ID": "232",
                                    "SZOBA_SZAMA": "2",
                                    "FEROHELY": "2",
                                    "POTAGY": "0",
                                    "KLIMAS": "i",
                                    "SZALLAS_FK": "15",
                                    "SZALLAS_NEV": "Tímárház Panzió",
                                    "panzió-e": "Igen"
                                },
                                {
                                    "SZOBA_ID": "233",
                                    "SZOBA_SZAMA": "3",
                                    "FEROHELY": "3",
                                    "POTAGY": "0",
                                    "KLIMAS": "n",
                                    "SZALLAS_FK": "15",
                                    "SZALLAS_NEV": "Tímárház Panzió",
                                    "panzió-e": "Igen"
                                },
                                {
                                    "SZOBA_ID": "234",
                                    "SZOBA_SZAMA": "4",
                                    "FEROHELY": "3",
                                    "POTAGY": "1",
                                    "KLIMAS": "i",
                                    "SZALLAS_FK": "15",
                                    "SZALLAS_NEV": "Tímárház Panzió",
                                    "panzió-e": "Igen"
                                },
                                {
                                    "SZOBA_ID": "235",
                                    "SZOBA_SZAMA": "5",
                                    "FEROHELY": "3",
                                    "POTAGY": "0",
                                    "KLIMAS": "i",
                                    "SZALLAS_FK": "15",
                                    "SZALLAS_NEV": "Tímárház Panzió",
                                    "panzió-e": "Igen"
                                },
                                {
                                    "SZOBA_ID": "236",
                                    "SZOBA_SZAMA": "6",
                                    "FEROHELY": "3",
                                    "POTAGY": "1",
                                    "KLIMAS": "n",
                                    "SZALLAS_FK": "15",
                                    "SZALLAS_NEV": "Tímárház Panzió",
                                    "panzió-e": "Igen"
                                },
                                {
                                    "SZOBA_ID": "237",
                                    "SZOBA_SZAMA": "7",
                                    "FEROHELY": "2",
                                    "POTAGY": "2",
                                    "KLIMAS": "n",
                                    "SZALLAS_FK": "15",
                                    "SZALLAS_NEV": "Tímárház Panzió",
                                    "panzió-e": "Igen"
                                },
                                {
                                    "SZOBA_ID": "238",
                                    "SZOBA_SZAMA": "8",
                                    "FEROHELY": "3",
                                    "POTAGY": "1",
                                    "KLIMAS": "i",
                                    "SZALLAS_FK": "15",
                                    "SZALLAS_NEV": "Tímárház Panzió",
                                    "panzió-e": "Igen"
                                },
                                {
                                    "SZOBA_ID": "239",
                                    "SZOBA_SZAMA": "9",
                                    "FEROHELY": "2",
                                    "POTAGY": "2",
                                    "KLIMAS": "i",
                                    "SZALLAS_FK": "15",
                                    "SZALLAS_NEV": "Tímárház Panzió",
                                    "panzió-e": "Igen"
                                },
                                {
                                    "SZOBA_ID": "240",
                                    "SZOBA_SZAMA": "10",
                                    "FEROHELY": "3",
                                    "POTAGY": "0",
                                    "KLIMAS": "i",
                                    "SZALLAS_FK": "15",
                                    "SZALLAS_NEV": "Tímárház Panzió",
                                    "panzió-e": "Igen"
                                },
                                {
                                    "SZOBA_ID": "241",
                                    "SZOBA_SZAMA": "11",
                                    "FEROHELY": "2",
                                    "POTAGY": "0",
                                    "KLIMAS": "i",
                                    "SZALLAS_FK": "15",
                                    "SZALLAS_NEV": "Tímárház Panzió",
                                    "panzió-e": "Igen"
                                },
                                {
                                    "SZOBA_ID": "242",
                                    "SZOBA_SZAMA": "12",
                                    "FEROHELY": "2",
                                    "POTAGY": "1",
                                    "KLIMAS": "i",
                                    "SZALLAS_FK": "15",
                                    "SZALLAS_NEV": "Tímárház Panzió",
                                    "panzió-e": "Igen"
                                },
                                {
                                    "SZOBA_ID": "243",
                                    "SZOBA_SZAMA": "1",
                                    "FEROHELY": "2",
                                    "POTAGY": "0",
                                    "KLIMAS": "i",
                                    "SZALLAS_FK": "16",
                                    "SZALLAS_NEV": "Bagoly Hotel",
                                    "panzió-e": "nem"
                                },
                                {
                                    "SZOBA_ID": "244",
                                    "SZOBA_SZAMA": "2",
                                    "FEROHELY": "2",
                                    "POTAGY": "1",
                                    "KLIMAS": "i",
                                    "SZALLAS_FK": "16",
                                    "SZALLAS_NEV": "Bagoly Hotel",
                                    "panzió-e": "nem"
                                },
                                {
                                    "SZOBA_ID": "245",
                                    "SZOBA_SZAMA": "3",
                                    "FEROHELY": "2",
                                    "POTAGY": "1",
                                    "KLIMAS": "i",
                                    "SZALLAS_FK": "16",
                                    "SZALLAS_NEV": "Bagoly Hotel",
                                    "panzió-e": "nem"
                                },
                                {
                                    "SZOBA_ID": "246",
                                    "SZOBA_SZAMA": "4",
                                    "FEROHELY": "2",
                                    "POTAGY": "0",
                                    "KLIMAS": "i",
                                    "SZALLAS_FK": "16",
                                    "SZALLAS_NEV": "Bagoly Hotel",
                                    "panzió-e": "nem"
                                },
                                {
                                    "SZOBA_ID": "247",
                                    "SZOBA_SZAMA": "5",
                                    "FEROHELY": "2",
                                    "POTAGY": "0",
                                    "KLIMAS": "i",
                                    "SZALLAS_FK": "16",
                                    "SZALLAS_NEV": "Bagoly Hotel",
                                    "panzió-e": "nem"
                                },
                                {
                                    "SZOBA_ID": "248",
                                    "SZOBA_SZAMA": "6",
                                    "FEROHELY": "2",
                                    "POTAGY": "2",
                                    "KLIMAS": "i",
                                    "SZALLAS_FK": "16",
                                    "SZALLAS_NEV": "Bagoly Hotel",
                                    "panzió-e": "nem"
                                },
                                {
                                    "SZOBA_ID": "249",
                                    "SZOBA_SZAMA": "7",
                                    "FEROHELY": "2",
                                    "POTAGY": "1",
                                    "KLIMAS": "n",
                                    "SZALLAS_FK": "16",
                                    "SZALLAS_NEV": "Bagoly Hotel",
                                    "panzió-e": "nem"
                                },
                                {
                                    "SZOBA_ID": "250",
                                    "SZOBA_SZAMA": "8",
                                    "FEROHELY": "3",
                                    "POTAGY": "1",
                                    "KLIMAS": "n",
                                    "SZALLAS_FK": "16",
                                    "SZALLAS_NEV": "Bagoly Hotel",
                                    "panzió-e": "nem"
                                },
                                {
                                    "SZOBA_ID": "251",
                                    "SZOBA_SZAMA": "9",
                                    "FEROHELY": "3",
                                    "POTAGY": "0",
                                    "KLIMAS": "n",
                                    "SZALLAS_FK": "16",
                                    "SZALLAS_NEV": "Bagoly Hotel",
                                    "panzió-e": "nem"
                                },
                                {
                                    "SZOBA_ID": "252",
                                    "SZOBA_SZAMA": "10",
                                    "FEROHELY": "3",
                                    "POTAGY": "1",
                                    "KLIMAS": "i",
                                    "SZALLAS_FK": "16",
                                    "SZALLAS_NEV": "Bagoly Hotel",
                                    "panzió-e": "nem"
                                },
                                {
                                    "SZOBA_ID": "253",
                                    "SZOBA_SZAMA": "11",
                                    "FEROHELY": "2",
                                    "POTAGY": "0",
                                    "KLIMAS": "i",
                                    "SZALLAS_FK": "16",
                                    "SZALLAS_NEV": "Bagoly Hotel",
                                    "panzió-e": "nem"
                                },
                                {
                                    "SZOBA_ID": "254",
                                    "SZOBA_SZAMA": "12",
                                    "FEROHELY": "2",
                                    "POTAGY": "0",
                                    "KLIMAS": "i",
                                    "SZALLAS_FK": "16",
                                    "SZALLAS_NEV": "Bagoly Hotel",
                                    "panzió-e": "nem"
                                },
                                {
                                    "SZOBA_ID": "255",
                                    "SZOBA_SZAMA": "13",
                                    "FEROHELY": "3",
                                    "POTAGY": "0",
                                    "KLIMAS": "n",
                                    "SZALLAS_FK": "16",
                                    "SZALLAS_NEV": "Bagoly Hotel",
                                    "panzió-e": "nem"
                                },
                                {
                                    "SZOBA_ID": "256",
                                    "SZOBA_SZAMA": "14",
                                    "FEROHELY": "3",
                                    "POTAGY": "1",
                                    "KLIMAS": "i",
                                    "SZALLAS_FK": "16",
                                    "SZALLAS_NEV": "Bagoly Hotel",
                                    "panzió-e": "nem"
                                },
                                {
                                    "SZOBA_ID": "257",
                                    "SZOBA_SZAMA": "15",
                                    "FEROHELY": "2",
                                    "POTAGY": "0",
                                    "KLIMAS": "i",
                                    "SZALLAS_FK": "16",
                                    "SZALLAS_NEV": "Bagoly Hotel",
                                    "panzió-e": "nem"
                                },
                                {
                                    "SZOBA_ID": "258",
                                    "SZOBA_SZAMA": "16",
                                    "FEROHELY": "2",
                                    "POTAGY": "0",
                                    "KLIMAS": "i",
                                    "SZALLAS_FK": "16",
                                    "SZALLAS_NEV": "Bagoly Hotel",
                                    "panzió-e": "nem"
                                },
                                {
                                    "SZOBA_ID": "259",
                                    "SZOBA_SZAMA": "17",
                                    "FEROHELY": "2",
                                    "POTAGY": "0",
                                    "KLIMAS": "i",
                                    "SZALLAS_FK": "16",
                                    "SZALLAS_NEV": "Bagoly Hotel",
                                    "panzió-e": "nem"
                                },
                                {
                                    "SZOBA_ID": "260",
                                    "SZOBA_SZAMA": "18",
                                    "FEROHELY": "2",
                                    "POTAGY": "0",
                                    "KLIMAS": "i",
                                    "SZALLAS_FK": "16",
                                    "SZALLAS_NEV": "Bagoly Hotel",
                                    "panzió-e": "nem"
                                },
                                {
                                    "SZOBA_ID": "261",
                                    "SZOBA_SZAMA": "19",
                                    "FEROHELY": "1",
                                    "POTAGY": "1",
                                    "KLIMAS": "n",
                                    "SZALLAS_FK": "16",
                                    "SZALLAS_NEV": "Bagoly Hotel",
                                    "panzió-e": "nem"
                                },
                                {
                                    "SZOBA_ID": "262",
                                    "SZOBA_SZAMA": "20",
                                    "FEROHELY": "1",
                                    "POTAGY": "0",
                                    "KLIMAS": "n",
                                    "SZALLAS_FK": "16",
                                    "SZALLAS_NEV": "Bagoly Hotel",
                                    "panzió-e": "nem"
                                },
                                {
                                    "SZOBA_ID": "263",
                                    "SZOBA_SZAMA": "1",
                                    "FEROHELY": "2",
                                    "POTAGY": "2",
                                    "KLIMAS": "i",
                                    "SZALLAS_FK": "17",
                                    "SZALLAS_NEV": "Szarvas Hotel",
                                    "panzió-e": "nem"
                                },
                                {
                                    "SZOBA_ID": "264",
                                    "SZOBA_SZAMA": "2",
                                    "FEROHELY": "3",
                                    "POTAGY": "0",
                                    "KLIMAS": "i",
                                    "SZALLAS_FK": "17",
                                    "SZALLAS_NEV": "Szarvas Hotel",
                                    "panzió-e": "nem"
                                },
                                {
                                    "SZOBA_ID": "265",
                                    "SZOBA_SZAMA": "3",
                                    "FEROHELY": "3",
                                    "POTAGY": "0",
                                    "KLIMAS": "i",
                                    "SZALLAS_FK": "17",
                                    "SZALLAS_NEV": "Szarvas Hotel",
                                    "panzió-e": "nem"
                                },
                                {
                                    "SZOBA_ID": "266",
                                    "SZOBA_SZAMA": "4",
                                    "FEROHELY": "2",
                                    "POTAGY": "1",
                                    "KLIMAS": "i",
                                    "SZALLAS_FK": "17",
                                    "SZALLAS_NEV": "Szarvas Hotel",
                                    "panzió-e": "nem"
                                },
                                {
                                    "SZOBA_ID": "267",
                                    "SZOBA_SZAMA": "5",
                                    "FEROHELY": "2",
                                    "POTAGY": "1",
                                    "KLIMAS": "n",
                                    "SZALLAS_FK": "17",
                                    "SZALLAS_NEV": "Szarvas Hotel",
                                    "panzió-e": "nem"
                                },
                                {
                                    "SZOBA_ID": "268",
                                    "SZOBA_SZAMA": "6",
                                    "FEROHELY": "2",
                                    "POTAGY": "2",
                                    "KLIMAS": "n",
                                    "SZALLAS_FK": "17",
                                    "SZALLAS_NEV": "Szarvas Hotel",
                                    "panzió-e": "nem"
                                },
                                {
                                    "SZOBA_ID": "269",
                                    "SZOBA_SZAMA": "7",
                                    "FEROHELY": "2",
                                    "POTAGY": "1",
                                    "KLIMAS": "i",
                                    "SZALLAS_FK": "17",
                                    "SZALLAS_NEV": "Szarvas Hotel",
                                    "panzió-e": "nem"
                                },
                                {
                                    "SZOBA_ID": "270",
                                    "SZOBA_SZAMA": "8",
                                    "FEROHELY": "3",
                                    "POTAGY": "0",
                                    "KLIMAS": "n",
                                    "SZALLAS_FK": "17",
                                    "SZALLAS_NEV": "Szarvas Hotel",
                                    "panzió-e": "nem"
                                },
                                {
                                    "SZOBA_ID": "271",
                                    "SZOBA_SZAMA": "9",
                                    "FEROHELY": "3",
                                    "POTAGY": "0",
                                    "KLIMAS": "i",
                                    "SZALLAS_FK": "17",
                                    "SZALLAS_NEV": "Szarvas Hotel",
                                    "panzió-e": "nem"
                                },
                                {
                                    "SZOBA_ID": "272",
                                    "SZOBA_SZAMA": "10",
                                    "FEROHELY": "3",
                                    "POTAGY": "0",
                                    "KLIMAS": "i",
                                    "SZALLAS_FK": "17",
                                    "SZALLAS_NEV": "Szarvas Hotel",
                                    "panzió-e": "nem"
                                },
                                {
                                    "SZOBA_ID": "273",
                                    "SZOBA_SZAMA": "11",
                                    "FEROHELY": "2",
                                    "POTAGY": "1",
                                    "KLIMAS": "i",
                                    "SZALLAS_FK": "17",
                                    "SZALLAS_NEV": "Szarvas Hotel",
                                    "panzió-e": "nem"
                                },
                                {
                                    "SZOBA_ID": "274",
                                    "SZOBA_SZAMA": "12",
                                    "FEROHELY": "3",
                                    "POTAGY": "1",
                                    "KLIMAS": "i",
                                    "SZALLAS_FK": "17",
                                    "SZALLAS_NEV": "Szarvas Hotel",
                                    "panzió-e": "nem"
                                },
                                {
                                    "SZOBA_ID": "275",
                                    "SZOBA_SZAMA": "13",
                                    "FEROHELY": "2",
                                    "POTAGY": "1",
                                    "KLIMAS": "n",
                                    "SZALLAS_FK": "17",
                                    "SZALLAS_NEV": "Szarvas Hotel",
                                    "panzió-e": "nem"
                                },
                                {
                                    "SZOBA_ID": "276",
                                    "SZOBA_SZAMA": "14",
                                    "FEROHELY": "2",
                                    "POTAGY": "0",
                                    "KLIMAS": "i",
                                    "SZALLAS_FK": "17",
                                    "SZALLAS_NEV": "Szarvas Hotel",
                                    "panzió-e": "nem"
                                },
                                {
                                    "SZOBA_ID": "277",
                                    "SZOBA_SZAMA": "15",
                                    "FEROHELY": "2",
                                    "POTAGY": "0",
                                    "KLIMAS": "i",
                                    "SZALLAS_FK": "17",
                                    "SZALLAS_NEV": "Szarvas Hotel",
                                    "panzió-e": "nem"
                                },
                                {
                                    "SZOBA_ID": "278",
                                    "SZOBA_SZAMA": "1",
                                    "FEROHELY": "3",
                                    "POTAGY": "1",
                                    "KLIMAS": "i",
                                    "SZALLAS_FK": "18",
                                    "SZALLAS_NEV": "Fortuna Apartman",
                                    "panzió-e": "nem"
                                },
                                {
                                    "SZOBA_ID": "279",
                                    "SZOBA_SZAMA": "2",
                                    "FEROHELY": "2",
                                    "POTAGY": "1",
                                    "KLIMAS": "i",
                                    "SZALLAS_FK": "18",
                                    "SZALLAS_NEV": "Fortuna Apartman",
                                    "panzió-e": "nem"
                                },
                                {
                                    "SZOBA_ID": "280",
                                    "SZOBA_SZAMA": "3",
                                    "FEROHELY": "3",
                                    "POTAGY": "0",
                                    "KLIMAS": "n",
                                    "SZALLAS_FK": "18",
                                    "SZALLAS_NEV": "Fortuna Apartman",
                                    "panzió-e": "nem"
                                },
                                {
                                    "SZOBA_ID": "281",
                                    "SZOBA_SZAMA": "1",
                                    "FEROHELY": "2",
                                    "POTAGY": "0",
                                    "KLIMAS": "n",
                                    "SZALLAS_FK": "19",
                                    "SZALLAS_NEV": "Nyárfás Vendégház",
                                    "panzió-e": "nem"
                                },
                                {
                                    "SZOBA_ID": "282",
                                    "SZOBA_SZAMA": "2",
                                    "FEROHELY": "2",
                                    "POTAGY": "0",
                                    "KLIMAS": "i",
                                    "SZALLAS_FK": "19",
                                    "SZALLAS_NEV": "Nyárfás Vendégház",
                                    "panzió-e": "nem"
                                },
                                {
                                    "SZOBA_ID": "283",
                                    "SZOBA_SZAMA": "3",
                                    "FEROHELY": "2",
                                    "POTAGY": "0",
                                    "KLIMAS": "n",
                                    "SZALLAS_FK": "19",
                                    "SZALLAS_NEV": "Nyárfás Vendégház",
                                    "panzió-e": "nem"
                                },
                                {
                                    "SZOBA_ID": "284",
                                    "SZOBA_SZAMA": "4",
                                    "FEROHELY": "2",
                                    "POTAGY": "2",
                                    "KLIMAS": "i",
                                    "SZALLAS_FK": "19",
                                    "SZALLAS_NEV": "Nyárfás Vendégház",
                                    "panzió-e": "nem"
                                },
                                {
                                    "SZOBA_ID": "285",
                                    "SZOBA_SZAMA": "1",
                                    "FEROHELY": "2",
                                    "POTAGY": "1",
                                    "KLIMAS": "i",
                                    "SZALLAS_FK": "20",
                                    "SZALLAS_NEV": "Kollégium",
                                    "panzió-e": "nem"
                                },
                                {
                                    "SZOBA_ID": "286",
                                    "SZOBA_SZAMA": "2",
                                    "FEROHELY": "3",
                                    "POTAGY": "0",
                                    "KLIMAS": "i",
                                    "SZALLAS_FK": "20",
                                    "SZALLAS_NEV": "Kollégium",
                                    "panzió-e": "nem"
                                },
                                {
                                    "SZOBA_ID": "287",
                                    "SZOBA_SZAMA": "3",
                                    "FEROHELY": "3",
                                    "POTAGY": "0",
                                    "KLIMAS": "n",
                                    "SZALLAS_FK": "20",
                                    "SZALLAS_NEV": "Kollégium",
                                    "panzió-e": "nem"
                                },
                                {
                                    "SZOBA_ID": "288",
                                    "SZOBA_SZAMA": "4",
                                    "FEROHELY": "2",
                                    "POTAGY": "1",
                                    "KLIMAS": "i",
                                    "SZALLAS_FK": "20",
                                    "SZALLAS_NEV": "Kollégium",
                                    "panzió-e": "nem"
                                },
                                {
                                    "SZOBA_ID": "289",
                                    "SZOBA_SZAMA": "5",
                                    "FEROHELY": "3",
                                    "POTAGY": "0",
                                    "KLIMAS": "i",
                                    "SZALLAS_FK": "20",
                                    "SZALLAS_NEV": "Kollégium",
                                    "panzió-e": "nem"
                                },
                                {
                                    "SZOBA_ID": "290",
                                    "SZOBA_SZAMA": "6",
                                    "FEROHELY": "2",
                                    "POTAGY": "1",
                                    "KLIMAS": "i",
                                    "SZALLAS_FK": "20",
                                    "SZALLAS_NEV": "Kollégium",
                                    "panzió-e": "nem"
                                },
                                {
                                    "SZOBA_ID": "291",
                                    "SZOBA_SZAMA": "7",
                                    "FEROHELY": "2",
                                    "POTAGY": "1",
                                    "KLIMAS": "i",
                                    "SZALLAS_FK": "20",
                                    "SZALLAS_NEV": "Kollégium",
                                    "panzió-e": "nem"
                                },
                                {
                                    "SZOBA_ID": "292",
                                    "SZOBA_SZAMA": "8",
                                    "FEROHELY": "2",
                                    "POTAGY": "1",
                                    "KLIMAS": "i",
                                    "SZALLAS_FK": "20",
                                    "SZALLAS_NEV": "Kollégium",
                                    "panzió-e": "nem"
                                },
                                {
                                    "SZOBA_ID": "293",
                                    "SZOBA_SZAMA": "9",
                                    "FEROHELY": "2",
                                    "POTAGY": "1",
                                    "KLIMAS": "i",
                                    "SZALLAS_FK": "20",
                                    "SZALLAS_NEV": "Kollégium",
                                    "panzió-e": "nem"
                                },
                                {
                                    "SZOBA_ID": "294",
                                    "SZOBA_SZAMA": "10",
                                    "FEROHELY": "3",
                                    "POTAGY": "0",
                                    "KLIMAS": "i",
                                    "SZALLAS_FK": "20",
                                    "SZALLAS_NEV": "Kollégium",
                                    "panzió-e": "nem"
                                }
                            ]
                        },
                        "text/html": [
                            "<table>",
                            "<tr><th>SZOBA_ID</th><th>SZOBA_SZAMA</th><th>FEROHELY</th><th>POTAGY</th><th>KLIMAS</th><th>SZALLAS_FK</th><th>SZALLAS_NEV</th><th>panzió-e</th></tr>",
                            "<tr><td>159</td><td>25</td><td>3</td><td>1</td><td>n</td><td>10</td><td>Lagúna Hotel</td><td>nem</td></tr>",
                            "<tr><td>199</td><td>35</td><td>3</td><td>2</td><td>i</td><td>12</td><td>Gold Hotel</td><td>nem</td></tr>",
                            "<tr><td>200</td><td>36</td><td>2</td><td>0</td><td>i</td><td>12</td><td>Gold Hotel</td><td>nem</td></tr>",
                            "<tr><td>201</td><td>37</td><td>3</td><td>1</td><td>n</td><td>12</td><td>Gold Hotel</td><td>nem</td></tr>",
                            "<tr><td>202</td><td>38</td><td>3</td><td>1</td><td>i</td><td>12</td><td>Gold Hotel</td><td>nem</td></tr>",
                            "<tr><td>203</td><td>39</td><td>3</td><td>0</td><td>i</td><td>12</td><td>Gold Hotel</td><td>nem</td></tr>",
                            "<tr><td>204</td><td>40</td><td>3</td><td>1</td><td>i</td><td>12</td><td>Gold Hotel</td><td>nem</td></tr>",
                            "<tr><td>205</td><td>41</td><td>3</td><td>0</td><td>i</td><td>12</td><td>Gold Hotel</td><td>nem</td></tr>",
                            "<tr><td>206</td><td>42</td><td>2</td><td>1</td><td>i</td><td>12</td><td>Gold Hotel</td><td>nem</td></tr>",
                            "<tr><td>207</td><td>43</td><td>2</td><td>1</td><td>i</td><td>12</td><td>Gold Hotel</td><td>nem</td></tr>",
                            "<tr><td>208</td><td>44</td><td>2</td><td>1</td><td>i</td><td>12</td><td>Gold Hotel</td><td>nem</td></tr>",
                            "<tr><td>209</td><td>45</td><td>3</td><td>2</td><td>n</td><td>12</td><td>Gold Hotel</td><td>nem</td></tr>",
                            "<tr><td>210</td><td>46</td><td>2</td><td>0</td><td>i</td><td>12</td><td>Gold Hotel</td><td>nem</td></tr>",
                            "<tr><td>211</td><td>47</td><td>2</td><td>1</td><td>i</td><td>12</td><td>Gold Hotel</td><td>nem</td></tr>",
                            "<tr><td>212</td><td>48</td><td>3</td><td>0</td><td>n</td><td>12</td><td>Gold Hotel</td><td>nem</td></tr>",
                            "<tr><td>213</td><td>49</td><td>3</td><td>0</td><td>i</td><td>12</td><td>Gold Hotel</td><td>nem</td></tr>",
                            "<tr><td>214</td><td>50</td><td>3</td><td>1</td><td>i</td><td>12</td><td>Gold Hotel</td><td>nem</td></tr>",
                            "<tr><td>215</td><td>1</td><td>2</td><td>1</td><td>i</td><td>13</td><td>Riviéra Panzió</td><td>Igen</td></tr>",
                            "<tr><td>216</td><td>2</td><td>3</td><td>1</td><td>i</td><td>13</td><td>Riviéra Panzió</td><td>Igen</td></tr>",
                            "<tr><td>217</td><td>3</td><td>2</td><td>1</td><td>n</td><td>13</td><td>Riviéra Panzió</td><td>Igen</td></tr>",
                            "<tr><td>218</td><td>4</td><td>3</td><td>0</td><td>i</td><td>13</td><td>Riviéra Panzió</td><td>Igen</td></tr>",
                            "<tr><td>219</td><td>5</td><td>2</td><td>0</td><td>n</td><td>13</td><td>Riviéra Panzió</td><td>Igen</td></tr>",
                            "<tr><td>220</td><td>6</td><td>3</td><td>0</td><td>i</td><td>13</td><td>Riviéra Panzió</td><td>Igen</td></tr>",
                            "<tr><td>221</td><td>7</td><td>3</td><td>0</td><td>i</td><td>13</td><td>Riviéra Panzió</td><td>Igen</td></tr>",
                            "<tr><td>222</td><td>8</td><td>2</td><td>0</td><td>n</td><td>13</td><td>Riviéra Panzió</td><td>Igen</td></tr>",
                            "<tr><td>223</td><td>9</td><td>2</td><td>1</td><td>i</td><td>13</td><td>Riviéra Panzió</td><td>Igen</td></tr>",
                            "<tr><td>224</td><td>10</td><td>2</td><td>0</td><td>i</td><td>13</td><td>Riviéra Panzió</td><td>Igen</td></tr>",
                            "<tr><td>225</td><td>11</td><td>2</td><td>1</td><td>i</td><td>13</td><td>Riviéra Panzió</td><td>Igen</td></tr>",
                            "<tr><td>226</td><td>12</td><td>3</td><td>1</td><td>n</td><td>13</td><td>Riviéra Panzió</td><td>Igen</td></tr>",
                            "<tr><td>227</td><td>1</td><td>2</td><td>1</td><td>i</td><td>14</td><td>Nyárfás Vendégház</td><td>nem</td></tr>",
                            "<tr><td>228</td><td>2</td><td>3</td><td>0</td><td>i</td><td>14</td><td>Nyárfás Vendégház</td><td>nem</td></tr>",
                            "<tr><td>229</td><td>3</td><td>2</td><td>0</td><td>i</td><td>14</td><td>Nyárfás Vendégház</td><td>nem</td></tr>",
                            "<tr><td>230</td><td>4</td><td>3</td><td>2</td><td>i</td><td>14</td><td>Nyárfás Vendégház</td><td>nem</td></tr>",
                            "<tr><td>231</td><td>1</td><td>2</td><td>0</td><td>i</td><td>15</td><td>Tímárház Panzió</td><td>Igen</td></tr>",
                            "<tr><td>232</td><td>2</td><td>2</td><td>0</td><td>i</td><td>15</td><td>Tímárház Panzió</td><td>Igen</td></tr>",
                            "<tr><td>233</td><td>3</td><td>3</td><td>0</td><td>n</td><td>15</td><td>Tímárház Panzió</td><td>Igen</td></tr>",
                            "<tr><td>234</td><td>4</td><td>3</td><td>1</td><td>i</td><td>15</td><td>Tímárház Panzió</td><td>Igen</td></tr>",
                            "<tr><td>235</td><td>5</td><td>3</td><td>0</td><td>i</td><td>15</td><td>Tímárház Panzió</td><td>Igen</td></tr>",
                            "<tr><td>236</td><td>6</td><td>3</td><td>1</td><td>n</td><td>15</td><td>Tímárház Panzió</td><td>Igen</td></tr>",
                            "<tr><td>237</td><td>7</td><td>2</td><td>2</td><td>n</td><td>15</td><td>Tímárház Panzió</td><td>Igen</td></tr>",
                            "<tr><td>238</td><td>8</td><td>3</td><td>1</td><td>i</td><td>15</td><td>Tímárház Panzió</td><td>Igen</td></tr>",
                            "<tr><td>239</td><td>9</td><td>2</td><td>2</td><td>i</td><td>15</td><td>Tímárház Panzió</td><td>Igen</td></tr>",
                            "<tr><td>240</td><td>10</td><td>3</td><td>0</td><td>i</td><td>15</td><td>Tímárház Panzió</td><td>Igen</td></tr>",
                            "<tr><td>241</td><td>11</td><td>2</td><td>0</td><td>i</td><td>15</td><td>Tímárház Panzió</td><td>Igen</td></tr>",
                            "<tr><td>242</td><td>12</td><td>2</td><td>1</td><td>i</td><td>15</td><td>Tímárház Panzió</td><td>Igen</td></tr>",
                            "<tr><td>243</td><td>1</td><td>2</td><td>0</td><td>i</td><td>16</td><td>Bagoly Hotel</td><td>nem</td></tr>",
                            "<tr><td>244</td><td>2</td><td>2</td><td>1</td><td>i</td><td>16</td><td>Bagoly Hotel</td><td>nem</td></tr>",
                            "<tr><td>245</td><td>3</td><td>2</td><td>1</td><td>i</td><td>16</td><td>Bagoly Hotel</td><td>nem</td></tr>",
                            "<tr><td>246</td><td>4</td><td>2</td><td>0</td><td>i</td><td>16</td><td>Bagoly Hotel</td><td>nem</td></tr>",
                            "<tr><td>247</td><td>5</td><td>2</td><td>0</td><td>i</td><td>16</td><td>Bagoly Hotel</td><td>nem</td></tr>",
                            "<tr><td>248</td><td>6</td><td>2</td><td>2</td><td>i</td><td>16</td><td>Bagoly Hotel</td><td>nem</td></tr>",
                            "<tr><td>249</td><td>7</td><td>2</td><td>1</td><td>n</td><td>16</td><td>Bagoly Hotel</td><td>nem</td></tr>",
                            "<tr><td>250</td><td>8</td><td>3</td><td>1</td><td>n</td><td>16</td><td>Bagoly Hotel</td><td>nem</td></tr>",
                            "<tr><td>251</td><td>9</td><td>3</td><td>0</td><td>n</td><td>16</td><td>Bagoly Hotel</td><td>nem</td></tr>",
                            "<tr><td>252</td><td>10</td><td>3</td><td>1</td><td>i</td><td>16</td><td>Bagoly Hotel</td><td>nem</td></tr>",
                            "<tr><td>253</td><td>11</td><td>2</td><td>0</td><td>i</td><td>16</td><td>Bagoly Hotel</td><td>nem</td></tr>",
                            "<tr><td>254</td><td>12</td><td>2</td><td>0</td><td>i</td><td>16</td><td>Bagoly Hotel</td><td>nem</td></tr>",
                            "<tr><td>255</td><td>13</td><td>3</td><td>0</td><td>n</td><td>16</td><td>Bagoly Hotel</td><td>nem</td></tr>",
                            "<tr><td>256</td><td>14</td><td>3</td><td>1</td><td>i</td><td>16</td><td>Bagoly Hotel</td><td>nem</td></tr>",
                            "<tr><td>257</td><td>15</td><td>2</td><td>0</td><td>i</td><td>16</td><td>Bagoly Hotel</td><td>nem</td></tr>",
                            "<tr><td>258</td><td>16</td><td>2</td><td>0</td><td>i</td><td>16</td><td>Bagoly Hotel</td><td>nem</td></tr>",
                            "<tr><td>259</td><td>17</td><td>2</td><td>0</td><td>i</td><td>16</td><td>Bagoly Hotel</td><td>nem</td></tr>",
                            "<tr><td>260</td><td>18</td><td>2</td><td>0</td><td>i</td><td>16</td><td>Bagoly Hotel</td><td>nem</td></tr>",
                            "<tr><td>261</td><td>19</td><td>1</td><td>1</td><td>n</td><td>16</td><td>Bagoly Hotel</td><td>nem</td></tr>",
                            "<tr><td>262</td><td>20</td><td>1</td><td>0</td><td>n</td><td>16</td><td>Bagoly Hotel</td><td>nem</td></tr>",
                            "<tr><td>263</td><td>1</td><td>2</td><td>2</td><td>i</td><td>17</td><td>Szarvas Hotel</td><td>nem</td></tr>",
                            "<tr><td>264</td><td>2</td><td>3</td><td>0</td><td>i</td><td>17</td><td>Szarvas Hotel</td><td>nem</td></tr>",
                            "<tr><td>265</td><td>3</td><td>3</td><td>0</td><td>i</td><td>17</td><td>Szarvas Hotel</td><td>nem</td></tr>",
                            "<tr><td>266</td><td>4</td><td>2</td><td>1</td><td>i</td><td>17</td><td>Szarvas Hotel</td><td>nem</td></tr>",
                            "<tr><td>267</td><td>5</td><td>2</td><td>1</td><td>n</td><td>17</td><td>Szarvas Hotel</td><td>nem</td></tr>",
                            "<tr><td>268</td><td>6</td><td>2</td><td>2</td><td>n</td><td>17</td><td>Szarvas Hotel</td><td>nem</td></tr>",
                            "<tr><td>269</td><td>7</td><td>2</td><td>1</td><td>i</td><td>17</td><td>Szarvas Hotel</td><td>nem</td></tr>",
                            "<tr><td>270</td><td>8</td><td>3</td><td>0</td><td>n</td><td>17</td><td>Szarvas Hotel</td><td>nem</td></tr>",
                            "<tr><td>271</td><td>9</td><td>3</td><td>0</td><td>i</td><td>17</td><td>Szarvas Hotel</td><td>nem</td></tr>",
                            "<tr><td>272</td><td>10</td><td>3</td><td>0</td><td>i</td><td>17</td><td>Szarvas Hotel</td><td>nem</td></tr>",
                            "<tr><td>273</td><td>11</td><td>2</td><td>1</td><td>i</td><td>17</td><td>Szarvas Hotel</td><td>nem</td></tr>",
                            "<tr><td>274</td><td>12</td><td>3</td><td>1</td><td>i</td><td>17</td><td>Szarvas Hotel</td><td>nem</td></tr>",
                            "<tr><td>275</td><td>13</td><td>2</td><td>1</td><td>n</td><td>17</td><td>Szarvas Hotel</td><td>nem</td></tr>",
                            "<tr><td>276</td><td>14</td><td>2</td><td>0</td><td>i</td><td>17</td><td>Szarvas Hotel</td><td>nem</td></tr>",
                            "<tr><td>277</td><td>15</td><td>2</td><td>0</td><td>i</td><td>17</td><td>Szarvas Hotel</td><td>nem</td></tr>",
                            "<tr><td>278</td><td>1</td><td>3</td><td>1</td><td>i</td><td>18</td><td>Fortuna Apartman</td><td>nem</td></tr>",
                            "<tr><td>279</td><td>2</td><td>2</td><td>1</td><td>i</td><td>18</td><td>Fortuna Apartman</td><td>nem</td></tr>",
                            "<tr><td>280</td><td>3</td><td>3</td><td>0</td><td>n</td><td>18</td><td>Fortuna Apartman</td><td>nem</td></tr>",
                            "<tr><td>281</td><td>1</td><td>2</td><td>0</td><td>n</td><td>19</td><td>Nyárfás Vendégház</td><td>nem</td></tr>",
                            "<tr><td>282</td><td>2</td><td>2</td><td>0</td><td>i</td><td>19</td><td>Nyárfás Vendégház</td><td>nem</td></tr>",
                            "<tr><td>283</td><td>3</td><td>2</td><td>0</td><td>n</td><td>19</td><td>Nyárfás Vendégház</td><td>nem</td></tr>",
                            "<tr><td>284</td><td>4</td><td>2</td><td>2</td><td>i</td><td>19</td><td>Nyárfás Vendégház</td><td>nem</td></tr>",
                            "<tr><td>285</td><td>1</td><td>2</td><td>1</td><td>i</td><td>20</td><td>Kollégium</td><td>nem</td></tr>",
                            "<tr><td>286</td><td>2</td><td>3</td><td>0</td><td>i</td><td>20</td><td>Kollégium</td><td>nem</td></tr>",
                            "<tr><td>287</td><td>3</td><td>3</td><td>0</td><td>n</td><td>20</td><td>Kollégium</td><td>nem</td></tr>",
                            "<tr><td>288</td><td>4</td><td>2</td><td>1</td><td>i</td><td>20</td><td>Kollégium</td><td>nem</td></tr>",
                            "<tr><td>289</td><td>5</td><td>3</td><td>0</td><td>i</td><td>20</td><td>Kollégium</td><td>nem</td></tr>",
                            "<tr><td>290</td><td>6</td><td>2</td><td>1</td><td>i</td><td>20</td><td>Kollégium</td><td>nem</td></tr>",
                            "<tr><td>291</td><td>7</td><td>2</td><td>1</td><td>i</td><td>20</td><td>Kollégium</td><td>nem</td></tr>",
                            "<tr><td>292</td><td>8</td><td>2</td><td>1</td><td>i</td><td>20</td><td>Kollégium</td><td>nem</td></tr>",
                            "<tr><td>293</td><td>9</td><td>2</td><td>1</td><td>i</td><td>20</td><td>Kollégium</td><td>nem</td></tr>",
                            "<tr><td>294</td><td>10</td><td>3</td><td>0</td><td>i</td><td>20</td><td>Kollégium</td><td>nem</td></tr>",
                            "</table>"
                        ]
                    }
                }
            ],
            "execution_count": 15
        }
    ]
}