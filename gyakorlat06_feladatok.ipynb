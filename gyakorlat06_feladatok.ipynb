{
    "metadata": {
        "kernelspec": {
            "name": "SQL",
            "display_name": "SQL",
            "language": "sql"
        },
        "language_info": {
            "name": "sql",
            "version": ""
        }
    },
    "nbformat_minor": 2,
    "nbformat": 4,
    "cells": [
        {
            "cell_type": "markdown",
            "source": [
                "1. <span style=\"background-color: rgb(255, 255, 255); color: rgb(0, 0, 0); font-family: &quot;Open Sans&quot;, sans-serif; font-size: 14.44px;\">Készítsünk sorszámozott listát a szálláshelyek adatairól!&nbsp;</span> \n",
                "\n",
                "a. A lista legyen a szálláshely típusa szerint, azon belül hely szerint, majd a neve szerint növekvően rendezve! \n",
                "\n",
                "b. A számozás típusonként kezdődjön újra!"
            ],
            "metadata": {
                "azdata_cell_guid": "363cd270-6577-449b-9c89-d4b7c7972d52"
            },
            "attachments": {}
        },
        {
            "cell_type": "code",
            "source": [
                "FAST_FORWARD"
            ],
            "metadata": {
                "azdata_cell_guid": "6ab9f633-a3b5-48c9-a1dc-4fb8235ae85b",
                "language": "sql"
            },
            "outputs": [],
            "execution_count": null
        },
        {
            "cell_type": "markdown",
            "source": [
                "2. <span style=\"background-color: rgb(255, 255, 255); color: rgb(0, 0, 0); font-family: &quot;Open Sans&quot;, sans-serif; font-size: 14.44px;\">Készítsünk lekérdezést, amely a foglalások adatait jeleníti meg!&nbsp;</span> \n",
                "\n",
                "a. A lista tartalmazzon két új oszlopot, amelyek az adott ügyfél legrövidebb, illetve leghosszabb foglalásának hosszát (a foglalt napok számát) mutatják meg! \n",
                "\n",
                "b. Az oszlopokat nevezzük el értelemszerűen!"
            ],
            "metadata": {
                "azdata_cell_guid": "ea75c103-911f-41a3-a32c-3d40fb3e4e4a"
            },
            "attachments": {}
        },
        {
            "cell_type": "code",
            "source": [
                ""
            ],
            "metadata": {
                "azdata_cell_guid": "222b9618-a8e8-42b4-a8e8-d002257122b7",
                "language": "sql"
            },
            "outputs": [],
            "execution_count": null
        },
        {
            "cell_type": "markdown",
            "source": [
                "```\n",
                "3. Készítsük listát, amely megjeleníti az ügyfelek azonosítóját, nevét és a foglalásainak kezdő- és befejező dátumát, valamint azt, hogy a foglalás összesen hány főre történt! \n",
                "```\n",
                "\n",
                "a. Egy új oszlopban jelenítsük meg azt is, hogy az ügyfél előző három foglalása összesen hány főre történt!\n",
                "\n",
                "![](https://moodle.uni-corvinus.hu/theme/image.php/adaptable/atto_h5p/1709548862/icon)"
            ],
            "metadata": {
                "azdata_cell_guid": "d7876bb9-76d0-4d07-baed-3cb17b2f96c3"
            },
            "attachments": {}
        },
        {
            "cell_type": "code",
            "source": [
                "SELECT UGYFEL_FK,\r\n",
                "       NEV, \r\n",
                "       METTOL, \r\n",
                "       MEDDIG,\r\n",
                "       FELNOTT_SZAM+GYERMEK_SZAM AS 'fő',\r\n",
                "       \r\n",
                "       SUM(FELNOTT_SZAM+GYERMEK_SZAM) OVER(\r\n",
                "                    PARTITION BY f.UGYFEL_FK\r\n",
                "                    ORDER BY f.FOGLALAS_PK\r\n",
                "                    ROWS BETWEEN 3 PRECEDING AND 1 PRECEDING)              \r\n",
                "FROM Foglalas f JOIN Vendeg v ON f.UGYFEL_FK=v.USERNEV"
            ],
            "metadata": {
                "azdata_cell_guid": "56ec19ce-e249-4551-b2a8-f17569765acc",
                "language": "sql"
            },
            "outputs": [
                {
                    "output_type": "display_data",
                    "data": {
                        "text/html": "(1027 rows affected)"
                    },
                    "metadata": {}
                },
                {
                    "output_type": "display_data",
                    "data": {
                        "text/html": "Total execution time: 00:00:00.058"
                    },
                    "metadata": {}
                },
                {
                    "output_type": "execute_result",
                    "execution_count": 9,
                    "data": {
                        "application/vnd.dataresource+json": {
                            "schema": {
                                "fields": [
                                    {
                                        "name": "UGYFEL_FK"
                                    },
                                    {
                                        "name": "NEV"
                                    },
                                    {
                                        "name": "METTOL"
                                    },
                                    {
                                        "name": "MEDDIG"
                                    },
                                    {
                                        "name": "fő"
                                    },
                                    {
                                        "name": "(No column name)"
                                    }
                                ]
                            },
                            "data": [
                                {
                                    "UGYFEL_FK": "adam1",
                                    "NEV": "Kiss Ádám",
                                    "METTOL": "2016-08-20",
                                    "MEDDIG": "2016-08-24",
                                    "fő": "1",
                                    "(No column name)": "NULL"
                                },
                                {
                                    "UGYFEL_FK": "adam1",
                                    "NEV": "Kiss Ádám",
                                    "METTOL": "2016-05-28",
                                    "MEDDIG": "2016-06-03",
                                    "fő": "3",
                                    "(No column name)": "1"
                                },
                                {
                                    "UGYFEL_FK": "adam1",
                                    "NEV": "Kiss Ádám",
                                    "METTOL": "2016-10-19",
                                    "MEDDIG": "2016-10-24",
                                    "fő": "2",
                                    "(No column name)": "4"
                                },
                                {
                                    "UGYFEL_FK": "adam3",
                                    "NEV": "Barkóci Ádám",
                                    "METTOL": "2016-09-12",
                                    "MEDDIG": "2016-09-16",
                                    "fő": "2",
                                    "(No column name)": "NULL"
                                },
                                {
                                    "UGYFEL_FK": "adam3",
                                    "NEV": "Barkóci Ádám",
                                    "METTOL": "2017-02-06",
                                    "MEDDIG": "2017-02-10",
                                    "fő": "1",
                                    "(No column name)": "2"
                                },
                                {
                                    "UGYFEL_FK": "adam4",
                                    "NEV": "Bieniek Ádám",
                                    "METTOL": "2016-08-28",
                                    "MEDDIG": "2016-08-30",
                                    "fő": "3",
                                    "(No column name)": "NULL"
                                },
                                {
                                    "UGYFEL_FK": "adam4",
                                    "NEV": "Bieniek Ádám",
                                    "METTOL": "2016-10-27",
                                    "MEDDIG": "2016-11-02",
                                    "fő": "3",
                                    "(No column name)": "3"
                                },
                                {
                                    "UGYFEL_FK": "adam4",
                                    "NEV": "Bieniek Ádám",
                                    "METTOL": "2016-11-15",
                                    "MEDDIG": "2016-11-18",
                                    "fő": "2",
                                    "(No column name)": "6"
                                },
                                {
                                    "UGYFEL_FK": "adam4",
                                    "NEV": "Bieniek Ádám",
                                    "METTOL": "2016-12-06",
                                    "MEDDIG": "2016-12-09",
                                    "fő": "3",
                                    "(No column name)": "8"
                                },
                                {
                                    "UGYFEL_FK": "adam4",
                                    "NEV": "Bieniek Ádám",
                                    "METTOL": "2017-01-12",
                                    "MEDDIG": "2017-01-19",
                                    "fő": "2",
                                    "(No column name)": "8"
                                },
                                {
                                    "UGYFEL_FK": "adam4",
                                    "NEV": "Bieniek Ádám",
                                    "METTOL": "2017-02-23",
                                    "MEDDIG": "2017-02-27",
                                    "fő": "3",
                                    "(No column name)": "7"
                                },
                                {
                                    "UGYFEL_FK": "agnes",
                                    "NEV": "Lengyel Ágnes",
                                    "METTOL": "2016-05-09",
                                    "MEDDIG": "2016-05-11",
                                    "fő": "3",
                                    "(No column name)": "NULL"
                                },
                                {
                                    "UGYFEL_FK": "agnes",
                                    "NEV": "Lengyel Ágnes",
                                    "METTOL": "2016-07-13",
                                    "MEDDIG": "2016-07-19",
                                    "fő": "3",
                                    "(No column name)": "3"
                                },
                                {
                                    "UGYFEL_FK": "agnes",
                                    "NEV": "Lengyel Ágnes",
                                    "METTOL": "2016-07-30",
                                    "MEDDIG": "2016-08-06",
                                    "fő": "3",
                                    "(No column name)": "6"
                                },
                                {
                                    "UGYFEL_FK": "agnes",
                                    "NEV": "Lengyel Ágnes",
                                    "METTOL": "2016-05-25",
                                    "MEDDIG": "2016-05-30",
                                    "fő": "1",
                                    "(No column name)": "9"
                                },
                                {
                                    "UGYFEL_FK": "agnes",
                                    "NEV": "Lengyel Ágnes",
                                    "METTOL": "2016-11-07",
                                    "MEDDIG": "2016-11-13",
                                    "fő": "2",
                                    "(No column name)": "7"
                                },
                                {
                                    "UGYFEL_FK": "agnes3",
                                    "NEV": "Hartyánszky Ágnes",
                                    "METTOL": "2016-08-04",
                                    "MEDDIG": "2016-08-10",
                                    "fő": "1",
                                    "(No column name)": "NULL"
                                },
                                {
                                    "UGYFEL_FK": "agnes3",
                                    "NEV": "Hartyánszky Ágnes",
                                    "METTOL": "2016-10-22",
                                    "MEDDIG": "2016-10-23",
                                    "fő": "3",
                                    "(No column name)": "1"
                                },
                                {
                                    "UGYFEL_FK": "agnes3",
                                    "NEV": "Hartyánszky Ágnes",
                                    "METTOL": "2017-02-16",
                                    "MEDDIG": "2017-02-21",
                                    "fő": "3",
                                    "(No column name)": "4"
                                },
                                {
                                    "UGYFEL_FK": "AGNESH",
                                    "NEV": "Horváth Ágnes",
                                    "METTOL": "2016-04-10",
                                    "MEDDIG": "2016-04-12",
                                    "fő": "2",
                                    "(No column name)": "NULL"
                                },
                                {
                                    "UGYFEL_FK": "AGNESH",
                                    "NEV": "Horváth Ágnes",
                                    "METTOL": "2016-04-27",
                                    "MEDDIG": "2016-04-28",
                                    "fő": "4",
                                    "(No column name)": "2"
                                },
                                {
                                    "UGYFEL_FK": "AGNESH",
                                    "NEV": "Horváth Ágnes",
                                    "METTOL": "2016-06-23",
                                    "MEDDIG": "2016-06-26",
                                    "fő": "1",
                                    "(No column name)": "6"
                                },
                                {
                                    "UGYFEL_FK": "AGNESH",
                                    "NEV": "Horváth Ágnes",
                                    "METTOL": "2016-10-30",
                                    "MEDDIG": "2016-11-04",
                                    "fő": "1",
                                    "(No column name)": "7"
                                },
                                {
                                    "UGYFEL_FK": "AGNESH",
                                    "NEV": "Horváth Ágnes",
                                    "METTOL": "2017-01-03",
                                    "MEDDIG": "2017-01-10",
                                    "fő": "2",
                                    "(No column name)": "6"
                                },
                                {
                                    "UGYFEL_FK": "AGNESH",
                                    "NEV": "Horváth Ágnes",
                                    "METTOL": "2017-01-16",
                                    "MEDDIG": "2017-01-23",
                                    "fő": "3",
                                    "(No column name)": "4"
                                },
                                {
                                    "UGYFEL_FK": "AGNESK",
                                    "NEV": "Kovács Ágnes",
                                    "METTOL": "2016-07-29",
                                    "MEDDIG": "2016-08-01",
                                    "fő": "3",
                                    "(No column name)": "NULL"
                                },
                                {
                                    "UGYFEL_FK": "AGNESK",
                                    "NEV": "Kovács Ágnes",
                                    "METTOL": "2016-10-17",
                                    "MEDDIG": "2016-10-19",
                                    "fő": "2",
                                    "(No column name)": "3"
                                },
                                {
                                    "UGYFEL_FK": "AGNESK",
                                    "NEV": "Kovács Ágnes",
                                    "METTOL": "2016-12-17",
                                    "MEDDIG": "2016-12-18",
                                    "fő": "2",
                                    "(No column name)": "5"
                                },
                                {
                                    "UGYFEL_FK": "akos",
                                    "NEV": "Bíró Ákos",
                                    "METTOL": "2016-05-18",
                                    "MEDDIG": "2016-05-19",
                                    "fő": "2",
                                    "(No column name)": "NULL"
                                },
                                {
                                    "UGYFEL_FK": "akos",
                                    "NEV": "Bíró Ákos",
                                    "METTOL": "2016-07-14",
                                    "MEDDIG": "2016-07-19",
                                    "fő": "2",
                                    "(No column name)": "2"
                                },
                                {
                                    "UGYFEL_FK": "akos",
                                    "NEV": "Bíró Ákos",
                                    "METTOL": "2016-07-16",
                                    "MEDDIG": "2016-07-18",
                                    "fő": "2",
                                    "(No column name)": "4"
                                },
                                {
                                    "UGYFEL_FK": "akos",
                                    "NEV": "Bíró Ákos",
                                    "METTOL": "2016-07-22",
                                    "MEDDIG": "2016-07-26",
                                    "fő": "1",
                                    "(No column name)": "6"
                                },
                                {
                                    "UGYFEL_FK": "akos",
                                    "NEV": "Bíró Ákos",
                                    "METTOL": "2016-09-06",
                                    "MEDDIG": "2016-09-12",
                                    "fő": "1",
                                    "(No column name)": "5"
                                },
                                {
                                    "UGYFEL_FK": "akos",
                                    "NEV": "Bíró Ákos",
                                    "METTOL": "2016-10-05",
                                    "MEDDIG": "2016-10-09",
                                    "fő": "2",
                                    "(No column name)": "4"
                                },
                                {
                                    "UGYFEL_FK": "akos",
                                    "NEV": "Bíró Ákos",
                                    "METTOL": "2016-10-18",
                                    "MEDDIG": "2016-10-23",
                                    "fő": "2",
                                    "(No column name)": "4"
                                },
                                {
                                    "UGYFEL_FK": "akos",
                                    "NEV": "Bíró Ákos",
                                    "METTOL": "2016-11-21",
                                    "MEDDIG": "2016-11-27",
                                    "fő": "2",
                                    "(No column name)": "5"
                                },
                                {
                                    "UGYFEL_FK": "akos",
                                    "NEV": "Bíró Ákos",
                                    "METTOL": "2016-12-15",
                                    "MEDDIG": "2016-12-21",
                                    "fő": "2",
                                    "(No column name)": "6"
                                },
                                {
                                    "UGYFEL_FK": "akos",
                                    "NEV": "Bíró Ákos",
                                    "METTOL": "2016-12-29",
                                    "MEDDIG": "2016-12-30",
                                    "fő": "3",
                                    "(No column name)": "6"
                                },
                                {
                                    "UGYFEL_FK": "aladar",
                                    "NEV": "Dunai Aladár",
                                    "METTOL": "2016-05-17",
                                    "MEDDIG": "2016-05-24",
                                    "fő": "1",
                                    "(No column name)": "NULL"
                                },
                                {
                                    "UGYFEL_FK": "aladar",
                                    "NEV": "Dunai Aladár",
                                    "METTOL": "2016-09-24",
                                    "MEDDIG": "2016-09-28",
                                    "fő": "1",
                                    "(No column name)": "1"
                                },
                                {
                                    "UGYFEL_FK": "aladar",
                                    "NEV": "Dunai Aladár",
                                    "METTOL": "2016-11-22",
                                    "MEDDIG": "2016-11-23",
                                    "fő": "2",
                                    "(No column name)": "2"
                                },
                                {
                                    "UGYFEL_FK": "alexandra",
                                    "NEV": "Bagóczki Alexandra",
                                    "METTOL": "2016-05-21",
                                    "MEDDIG": "2016-05-27",
                                    "fő": "3",
                                    "(No column name)": "NULL"
                                },
                                {
                                    "UGYFEL_FK": "alexandra",
                                    "NEV": "Bagóczki Alexandra",
                                    "METTOL": "2016-07-27",
                                    "MEDDIG": "2016-07-30",
                                    "fő": "2",
                                    "(No column name)": "3"
                                },
                                {
                                    "UGYFEL_FK": "alexandra",
                                    "NEV": "Bagóczki Alexandra",
                                    "METTOL": "2016-06-08",
                                    "MEDDIG": "2016-06-11",
                                    "fő": "3",
                                    "(No column name)": "5"
                                },
                                {
                                    "UGYFEL_FK": "alexandra",
                                    "NEV": "Bagóczki Alexandra",
                                    "METTOL": "2016-10-21",
                                    "MEDDIG": "2016-10-25",
                                    "fő": "2",
                                    "(No column name)": "8"
                                },
                                {
                                    "UGYFEL_FK": "alexandra",
                                    "NEV": "Bagóczki Alexandra",
                                    "METTOL": "2016-11-29",
                                    "MEDDIG": "2016-12-05",
                                    "fő": "2",
                                    "(No column name)": "7"
                                },
                                {
                                    "UGYFEL_FK": "alexandra",
                                    "NEV": "Bagóczki Alexandra",
                                    "METTOL": "2017-01-13",
                                    "MEDDIG": "2017-01-14",
                                    "fő": "1",
                                    "(No column name)": "7"
                                },
                                {
                                    "UGYFEL_FK": "alexandra",
                                    "NEV": "Bagóczki Alexandra",
                                    "METTOL": "2017-01-19",
                                    "MEDDIG": "2017-01-26",
                                    "fő": "2",
                                    "(No column name)": "5"
                                },
                                {
                                    "UGYFEL_FK": "andi",
                                    "NEV": "Maródi Andrea",
                                    "METTOL": "2016-05-08",
                                    "MEDDIG": "2016-05-14",
                                    "fő": "4",
                                    "(No column name)": "NULL"
                                },
                                {
                                    "UGYFEL_FK": "andi",
                                    "NEV": "Maródi Andrea",
                                    "METTOL": "2016-06-13",
                                    "MEDDIG": "2016-06-14",
                                    "fő": "1",
                                    "(No column name)": "4"
                                },
                                {
                                    "UGYFEL_FK": "andi",
                                    "NEV": "Maródi Andrea",
                                    "METTOL": "2016-09-13",
                                    "MEDDIG": "2016-09-16",
                                    "fő": "2",
                                    "(No column name)": "5"
                                },
                                {
                                    "UGYFEL_FK": "andi",
                                    "NEV": "Maródi Andrea",
                                    "METTOL": "2016-11-16",
                                    "MEDDIG": "2016-11-17",
                                    "fő": "3",
                                    "(No column name)": "7"
                                },
                                {
                                    "UGYFEL_FK": "andi",
                                    "NEV": "Maródi Andrea",
                                    "METTOL": "2017-01-13",
                                    "MEDDIG": "2017-01-17",
                                    "fő": "3",
                                    "(No column name)": "6"
                                },
                                {
                                    "UGYFEL_FK": "andras2",
                                    "NEV": "Tóth András",
                                    "METTOL": "2016-07-20",
                                    "MEDDIG": "2016-07-22",
                                    "fő": "2",
                                    "(No column name)": "NULL"
                                },
                                {
                                    "UGYFEL_FK": "andras2",
                                    "NEV": "Tóth András",
                                    "METTOL": "2016-05-30",
                                    "MEDDIG": "2016-06-04",
                                    "fő": "1",
                                    "(No column name)": "2"
                                },
                                {
                                    "UGYFEL_FK": "andras2",
                                    "NEV": "Tóth András",
                                    "METTOL": "2016-09-30",
                                    "MEDDIG": "2016-10-03",
                                    "fő": "2",
                                    "(No column name)": "3"
                                },
                                {
                                    "UGYFEL_FK": "andras2",
                                    "NEV": "Tóth András",
                                    "METTOL": "2016-10-07",
                                    "MEDDIG": "2016-10-10",
                                    "fő": "3",
                                    "(No column name)": "5"
                                },
                                {
                                    "UGYFEL_FK": "andras2",
                                    "NEV": "Tóth András",
                                    "METTOL": "2017-02-08",
                                    "MEDDIG": "2017-02-10",
                                    "fő": "4",
                                    "(No column name)": "6"
                                },
                                {
                                    "UGYFEL_FK": "andras21",
                                    "NEV": "Molnár András",
                                    "METTOL": "2016-07-20",
                                    "MEDDIG": "2016-07-22",
                                    "fő": "1",
                                    "(No column name)": "NULL"
                                },
                                {
                                    "UGYFEL_FK": "andras21",
                                    "NEV": "Molnár András",
                                    "METTOL": "2016-06-21",
                                    "MEDDIG": "2016-06-26",
                                    "fő": "2",
                                    "(No column name)": "1"
                                },
                                {
                                    "UGYFEL_FK": "andras21",
                                    "NEV": "Molnár András",
                                    "METTOL": "2016-07-04",
                                    "MEDDIG": "2016-07-05",
                                    "fő": "3",
                                    "(No column name)": "3"
                                },
                                {
                                    "UGYFEL_FK": "andras21",
                                    "NEV": "Molnár András",
                                    "METTOL": "2016-10-01",
                                    "MEDDIG": "2016-10-06",
                                    "fő": "3",
                                    "(No column name)": "6"
                                },
                                {
                                    "UGYFEL_FK": "andras21",
                                    "NEV": "Molnár András",
                                    "METTOL": "2016-10-04",
                                    "MEDDIG": "2016-10-11",
                                    "fő": "3",
                                    "(No column name)": "8"
                                },
                                {
                                    "UGYFEL_FK": "andras21",
                                    "NEV": "Molnár András",
                                    "METTOL": "2016-11-23",
                                    "MEDDIG": "2016-11-24",
                                    "fő": "4",
                                    "(No column name)": "9"
                                },
                                {
                                    "UGYFEL_FK": "andras21",
                                    "NEV": "Molnár András",
                                    "METTOL": "2017-01-28",
                                    "MEDDIG": "2017-02-01",
                                    "fő": "2",
                                    "(No column name)": "10"
                                },
                                {
                                    "UGYFEL_FK": "andras3",
                                    "NEV": "Vígh András",
                                    "METTOL": "2016-05-01",
                                    "MEDDIG": "2016-05-06",
                                    "fő": "2",
                                    "(No column name)": "NULL"
                                },
                                {
                                    "UGYFEL_FK": "andras3",
                                    "NEV": "Vígh András",
                                    "METTOL": "2016-07-15",
                                    "MEDDIG": "2016-07-19",
                                    "fő": "3",
                                    "(No column name)": "2"
                                },
                                {
                                    "UGYFEL_FK": "andras3",
                                    "NEV": "Vígh András",
                                    "METTOL": "2016-07-21",
                                    "MEDDIG": "2016-07-23",
                                    "fő": "2",
                                    "(No column name)": "5"
                                },
                                {
                                    "UGYFEL_FK": "andras3",
                                    "NEV": "Vígh András",
                                    "METTOL": "2016-08-29",
                                    "MEDDIG": "2016-09-02",
                                    "fő": "3",
                                    "(No column name)": "7"
                                },
                                {
                                    "UGYFEL_FK": "andras3",
                                    "NEV": "Vígh András",
                                    "METTOL": "2016-05-30",
                                    "MEDDIG": "2016-06-03",
                                    "fő": "1",
                                    "(No column name)": "8"
                                },
                                {
                                    "UGYFEL_FK": "andras3",
                                    "NEV": "Vígh András",
                                    "METTOL": "2016-06-10",
                                    "MEDDIG": "2016-06-11",
                                    "fő": "1",
                                    "(No column name)": "6"
                                },
                                {
                                    "UGYFEL_FK": "andras3",
                                    "NEV": "Vígh András",
                                    "METTOL": "2016-11-28",
                                    "MEDDIG": "2016-12-02",
                                    "fő": "2",
                                    "(No column name)": "5"
                                },
                                {
                                    "UGYFEL_FK": "andras3",
                                    "NEV": "Vígh András",
                                    "METTOL": "2017-02-02",
                                    "MEDDIG": "2017-02-08",
                                    "fő": "2",
                                    "(No column name)": "4"
                                },
                                {
                                    "UGYFEL_FK": "andras4",
                                    "NEV": "Back András",
                                    "METTOL": "2016-09-17",
                                    "MEDDIG": "2016-09-20",
                                    "fő": "2",
                                    "(No column name)": "NULL"
                                },
                                {
                                    "UGYFEL_FK": "andras4",
                                    "NEV": "Back András",
                                    "METTOL": "2016-11-25",
                                    "MEDDIG": "2016-11-28",
                                    "fő": "2",
                                    "(No column name)": "2"
                                },
                                {
                                    "UGYFEL_FK": "andras4",
                                    "NEV": "Back András",
                                    "METTOL": "2017-01-09",
                                    "MEDDIG": "2017-01-10",
                                    "fő": "2",
                                    "(No column name)": "4"
                                },
                                {
                                    "UGYFEL_FK": "andras41",
                                    "NEV": "Komjáti András",
                                    "METTOL": "2016-05-14",
                                    "MEDDIG": "2016-05-16",
                                    "fő": "2",
                                    "(No column name)": "NULL"
                                },
                                {
                                    "UGYFEL_FK": "andras41",
                                    "NEV": "Komjáti András",
                                    "METTOL": "2016-05-21",
                                    "MEDDIG": "2016-05-23",
                                    "fő": "4",
                                    "(No column name)": "2"
                                },
                                {
                                    "UGYFEL_FK": "andras41",
                                    "NEV": "Komjáti András",
                                    "METTOL": "2016-07-28",
                                    "MEDDIG": "2016-08-03",
                                    "fő": "3",
                                    "(No column name)": "6"
                                },
                                {
                                    "UGYFEL_FK": "andras41",
                                    "NEV": "Komjáti András",
                                    "METTOL": "2016-08-17",
                                    "MEDDIG": "2016-08-21",
                                    "fő": "3",
                                    "(No column name)": "9"
                                },
                                {
                                    "UGYFEL_FK": "andras41",
                                    "NEV": "Komjáti András",
                                    "METTOL": "2016-08-19",
                                    "MEDDIG": "2016-08-23",
                                    "fő": "1",
                                    "(No column name)": "10"
                                },
                                {
                                    "UGYFEL_FK": "andras41",
                                    "NEV": "Komjáti András",
                                    "METTOL": "2016-06-07",
                                    "MEDDIG": "2016-06-11",
                                    "fő": "3",
                                    "(No column name)": "7"
                                },
                                {
                                    "UGYFEL_FK": "andras41",
                                    "NEV": "Komjáti András",
                                    "METTOL": "2016-06-23",
                                    "MEDDIG": "2016-06-29",
                                    "fő": "2",
                                    "(No column name)": "7"
                                },
                                {
                                    "UGYFEL_FK": "andras41",
                                    "NEV": "Komjáti András",
                                    "METTOL": "2016-09-22",
                                    "MEDDIG": "2016-09-29",
                                    "fő": "1",
                                    "(No column name)": "6"
                                },
                                {
                                    "UGYFEL_FK": "andras41",
                                    "NEV": "Komjáti András",
                                    "METTOL": "2016-09-30",
                                    "MEDDIG": "2016-10-05",
                                    "fő": "2",
                                    "(No column name)": "6"
                                },
                                {
                                    "UGYFEL_FK": "andras41",
                                    "NEV": "Komjáti András",
                                    "METTOL": "2016-10-09",
                                    "MEDDIG": "2016-10-13",
                                    "fő": "2",
                                    "(No column name)": "5"
                                },
                                {
                                    "UGYFEL_FK": "andras41",
                                    "NEV": "Komjáti András",
                                    "METTOL": "2016-10-15",
                                    "MEDDIG": "2016-10-18",
                                    "fő": "3",
                                    "(No column name)": "5"
                                },
                                {
                                    "UGYFEL_FK": "andras41",
                                    "NEV": "Komjáti András",
                                    "METTOL": "2016-11-20",
                                    "MEDDIG": "2016-11-24",
                                    "fő": "3",
                                    "(No column name)": "7"
                                },
                                {
                                    "UGYFEL_FK": "andras41",
                                    "NEV": "Komjáti András",
                                    "METTOL": "2016-11-23",
                                    "MEDDIG": "2016-11-24",
                                    "fő": "1",
                                    "(No column name)": "8"
                                },
                                {
                                    "UGYFEL_FK": "ANDRASE",
                                    "NEV": "Erdei András",
                                    "METTOL": "2016-04-24",
                                    "MEDDIG": "2016-05-01",
                                    "fő": "1",
                                    "(No column name)": "NULL"
                                },
                                {
                                    "UGYFEL_FK": "ANDRASE",
                                    "NEV": "Erdei András",
                                    "METTOL": "2016-08-16",
                                    "MEDDIG": "2016-08-20",
                                    "fő": "2",
                                    "(No column name)": "1"
                                },
                                {
                                    "UGYFEL_FK": "ANDRASE",
                                    "NEV": "Erdei András",
                                    "METTOL": "2016-07-06",
                                    "MEDDIG": "2016-07-07",
                                    "fő": "2",
                                    "(No column name)": "3"
                                },
                                {
                                    "UGYFEL_FK": "ANDRASE",
                                    "NEV": "Erdei András",
                                    "METTOL": "2016-11-19",
                                    "MEDDIG": "2016-11-20",
                                    "fő": "4",
                                    "(No column name)": "5"
                                },
                                {
                                    "UGYFEL_FK": "ANDRASE",
                                    "NEV": "Erdei András",
                                    "METTOL": "2016-11-29",
                                    "MEDDIG": "2016-12-06",
                                    "fő": "3",
                                    "(No column name)": "8"
                                },
                                {
                                    "UGYFEL_FK": "ANDRASN",
                                    "NEV": "Nagy András",
                                    "METTOL": "2016-11-25",
                                    "MEDDIG": "2016-12-01",
                                    "fő": "2",
                                    "(No column name)": "NULL"
                                },
                                {
                                    "UGYFEL_FK": "andrea",
                                    "NEV": "Kiss Andrea",
                                    "METTOL": "2016-07-27",
                                    "MEDDIG": "2016-07-28",
                                    "fő": "2",
                                    "(No column name)": "NULL"
                                },
                                {
                                    "UGYFEL_FK": "andrea",
                                    "NEV": "Kiss Andrea",
                                    "METTOL": "2016-08-01",
                                    "MEDDIG": "2016-08-02",
                                    "fő": "2",
                                    "(No column name)": "2"
                                },
                                {
                                    "UGYFEL_FK": "andrea",
                                    "NEV": "Kiss Andrea",
                                    "METTOL": "2016-08-23",
                                    "MEDDIG": "2016-08-26",
                                    "fő": "3",
                                    "(No column name)": "4"
                                },
                                {
                                    "UGYFEL_FK": "andrea",
                                    "NEV": "Kiss Andrea",
                                    "METTOL": "2016-08-26",
                                    "MEDDIG": "2016-08-30",
                                    "fő": "2",
                                    "(No column name)": "7"
                                },
                                {
                                    "UGYFEL_FK": "andrea",
                                    "NEV": "Kiss Andrea",
                                    "METTOL": "2016-10-21",
                                    "MEDDIG": "2016-10-27",
                                    "fő": "4",
                                    "(No column name)": "7"
                                },
                                {
                                    "UGYFEL_FK": "andrea",
                                    "NEV": "Kiss Andrea",
                                    "METTOL": "2017-02-09",
                                    "MEDDIG": "2017-02-14",
                                    "fő": "2",
                                    "(No column name)": "9"
                                },
                                {
                                    "UGYFEL_FK": "andrea3",
                                    "NEV": "Szomor Andrea",
                                    "METTOL": "2016-11-19",
                                    "MEDDIG": "2016-11-21",
                                    "fő": "3",
                                    "(No column name)": "NULL"
                                },
                                {
                                    "UGYFEL_FK": "andrea4",
                                    "NEV": "Neizer Andrea",
                                    "METTOL": "2016-05-27",
                                    "MEDDIG": "2016-05-29",
                                    "fő": "1",
                                    "(No column name)": "NULL"
                                },
                                {
                                    "UGYFEL_FK": "andrea4",
                                    "NEV": "Neizer Andrea",
                                    "METTOL": "2016-09-13",
                                    "MEDDIG": "2016-09-17",
                                    "fő": "2",
                                    "(No column name)": "1"
                                },
                                {
                                    "UGYFEL_FK": "andrea4",
                                    "NEV": "Neizer Andrea",
                                    "METTOL": "2016-10-30",
                                    "MEDDIG": "2016-11-06",
                                    "fő": "3",
                                    "(No column name)": "3"
                                },
                                {
                                    "UGYFEL_FK": "andrea4",
                                    "NEV": "Neizer Andrea",
                                    "METTOL": "2017-01-22",
                                    "MEDDIG": "2017-01-29",
                                    "fő": "2",
                                    "(No column name)": "6"
                                },
                                {
                                    "UGYFEL_FK": "ANDREAT",
                                    "NEV": "Tornyos Andrea",
                                    "METTOL": "2016-07-27",
                                    "MEDDIG": "2016-08-01",
                                    "fő": "2",
                                    "(No column name)": "NULL"
                                },
                                {
                                    "UGYFEL_FK": "ANDREAT",
                                    "NEV": "Tornyos Andrea",
                                    "METTOL": "2016-09-15",
                                    "MEDDIG": "2016-09-16",
                                    "fő": "2",
                                    "(No column name)": "2"
                                },
                                {
                                    "UGYFEL_FK": "ANDREAT",
                                    "NEV": "Tornyos Andrea",
                                    "METTOL": "2016-10-08",
                                    "MEDDIG": "2016-10-12",
                                    "fő": "3",
                                    "(No column name)": "4"
                                },
                                {
                                    "UGYFEL_FK": "anett3",
                                    "NEV": "Pivarcsi Anett",
                                    "METTOL": "2016-04-10",
                                    "MEDDIG": "2016-04-17",
                                    "fő": "1",
                                    "(No column name)": "NULL"
                                },
                                {
                                    "UGYFEL_FK": "anett3",
                                    "NEV": "Pivarcsi Anett",
                                    "METTOL": "2016-04-13",
                                    "MEDDIG": "2016-04-19",
                                    "fő": "3",
                                    "(No column name)": "1"
                                },
                                {
                                    "UGYFEL_FK": "anett3",
                                    "NEV": "Pivarcsi Anett",
                                    "METTOL": "2016-04-15",
                                    "MEDDIG": "2016-04-19",
                                    "fő": "3",
                                    "(No column name)": "4"
                                },
                                {
                                    "UGYFEL_FK": "anett3",
                                    "NEV": "Pivarcsi Anett",
                                    "METTOL": "2016-04-28",
                                    "MEDDIG": "2016-05-02",
                                    "fő": "3",
                                    "(No column name)": "7"
                                },
                                {
                                    "UGYFEL_FK": "anett3",
                                    "NEV": "Pivarcsi Anett",
                                    "METTOL": "2016-08-15",
                                    "MEDDIG": "2016-08-16",
                                    "fő": "2",
                                    "(No column name)": "9"
                                },
                                {
                                    "UGYFEL_FK": "anett3",
                                    "NEV": "Pivarcsi Anett",
                                    "METTOL": "2016-08-17",
                                    "MEDDIG": "2016-08-23",
                                    "fő": "3",
                                    "(No column name)": "8"
                                },
                                {
                                    "UGYFEL_FK": "anett3",
                                    "NEV": "Pivarcsi Anett",
                                    "METTOL": "2016-10-12",
                                    "MEDDIG": "2016-10-19",
                                    "fő": "3",
                                    "(No column name)": "8"
                                },
                                {
                                    "UGYFEL_FK": "anett3",
                                    "NEV": "Pivarcsi Anett",
                                    "METTOL": "2016-10-16",
                                    "MEDDIG": "2016-10-21",
                                    "fő": "1",
                                    "(No column name)": "8"
                                },
                                {
                                    "UGYFEL_FK": "aniko",
                                    "NEV": "Tóth Anikó",
                                    "METTOL": "2016-06-25",
                                    "MEDDIG": "2016-06-30",
                                    "fő": "3",
                                    "(No column name)": "NULL"
                                },
                                {
                                    "UGYFEL_FK": "aniko",
                                    "NEV": "Tóth Anikó",
                                    "METTOL": "2017-02-12",
                                    "MEDDIG": "2017-02-14",
                                    "fő": "3",
                                    "(No column name)": "3"
                                },
                                {
                                    "UGYFEL_FK": "aniko",
                                    "NEV": "Tóth Anikó",
                                    "METTOL": "2017-02-23",
                                    "MEDDIG": "2017-02-24",
                                    "fő": "2",
                                    "(No column name)": "6"
                                },
                                {
                                    "UGYFEL_FK": "aniko4",
                                    "NEV": "Böröcz Anikó",
                                    "METTOL": "2016-07-22",
                                    "MEDDIG": "2016-07-25",
                                    "fő": "3",
                                    "(No column name)": "NULL"
                                },
                                {
                                    "UGYFEL_FK": "aniko4",
                                    "NEV": "Böröcz Anikó",
                                    "METTOL": "2016-07-02",
                                    "MEDDIG": "2016-07-09",
                                    "fő": "1",
                                    "(No column name)": "3"
                                },
                                {
                                    "UGYFEL_FK": "aniko4",
                                    "NEV": "Böröcz Anikó",
                                    "METTOL": "2016-09-05",
                                    "MEDDIG": "2016-09-07",
                                    "fő": "4",
                                    "(No column name)": "4"
                                },
                                {
                                    "UGYFEL_FK": "aniko4",
                                    "NEV": "Böröcz Anikó",
                                    "METTOL": "2016-10-16",
                                    "MEDDIG": "2016-10-18",
                                    "fő": "3",
                                    "(No column name)": "8"
                                },
                                {
                                    "UGYFEL_FK": "ANIKOS",
                                    "NEV": "Simon Anikó",
                                    "METTOL": "2016-04-19",
                                    "MEDDIG": "2016-04-24",
                                    "fő": "2",
                                    "(No column name)": "NULL"
                                },
                                {
                                    "UGYFEL_FK": "ANIKOS",
                                    "NEV": "Simon Anikó",
                                    "METTOL": "2016-07-17",
                                    "MEDDIG": "2016-07-22",
                                    "fő": "3",
                                    "(No column name)": "2"
                                },
                                {
                                    "UGYFEL_FK": "ANIKOS",
                                    "NEV": "Simon Anikó",
                                    "METTOL": "2016-08-26",
                                    "MEDDIG": "2016-09-02",
                                    "fő": "2",
                                    "(No column name)": "5"
                                },
                                {
                                    "UGYFEL_FK": "ANIKOS",
                                    "NEV": "Simon Anikó",
                                    "METTOL": "2016-05-24",
                                    "MEDDIG": "2016-05-25",
                                    "fő": "3",
                                    "(No column name)": "7"
                                },
                                {
                                    "UGYFEL_FK": "ANIKOS",
                                    "NEV": "Simon Anikó",
                                    "METTOL": "2016-06-16",
                                    "MEDDIG": "2016-06-23",
                                    "fő": "1",
                                    "(No column name)": "8"
                                },
                                {
                                    "UGYFEL_FK": "ANIKOS",
                                    "NEV": "Simon Anikó",
                                    "METTOL": "2016-06-27",
                                    "MEDDIG": "2016-06-30",
                                    "fő": "2",
                                    "(No column name)": "6"
                                },
                                {
                                    "UGYFEL_FK": "ANIKOS",
                                    "NEV": "Simon Anikó",
                                    "METTOL": "2016-10-08",
                                    "MEDDIG": "2016-10-14",
                                    "fő": "2",
                                    "(No column name)": "6"
                                },
                                {
                                    "UGYFEL_FK": "ANIKOS",
                                    "NEV": "Simon Anikó",
                                    "METTOL": "2016-10-29",
                                    "MEDDIG": "2016-11-05",
                                    "fő": "3",
                                    "(No column name)": "5"
                                },
                                {
                                    "UGYFEL_FK": "ANIKOS",
                                    "NEV": "Simon Anikó",
                                    "METTOL": "2016-11-10",
                                    "MEDDIG": "2016-11-15",
                                    "fő": "2",
                                    "(No column name)": "7"
                                },
                                {
                                    "UGYFEL_FK": "anita",
                                    "NEV": "Hamvay-Kovács Anita",
                                    "METTOL": "2016-09-28",
                                    "MEDDIG": "2016-10-02",
                                    "fő": "4",
                                    "(No column name)": "NULL"
                                },
                                {
                                    "UGYFEL_FK": "anita",
                                    "NEV": "Hamvay-Kovács Anita",
                                    "METTOL": "2016-10-01",
                                    "MEDDIG": "2016-10-04",
                                    "fő": "2",
                                    "(No column name)": "4"
                                },
                                {
                                    "UGYFEL_FK": "anita",
                                    "NEV": "Hamvay-Kovács Anita",
                                    "METTOL": "2017-02-19",
                                    "MEDDIG": "2017-02-22",
                                    "fő": "2",
                                    "(No column name)": "6"
                                },
                                {
                                    "UGYFEL_FK": "anita",
                                    "NEV": "Hamvay-Kovács Anita",
                                    "METTOL": "2017-02-20",
                                    "MEDDIG": "2017-02-25",
                                    "fő": "2",
                                    "(No column name)": "8"
                                },
                                {
                                    "UGYFEL_FK": "annamaria1",
                                    "NEV": "Szűcs Annamária",
                                    "METTOL": "2016-06-06",
                                    "MEDDIG": "2016-06-07",
                                    "fő": "3",
                                    "(No column name)": "NULL"
                                },
                                {
                                    "UGYFEL_FK": "annamaria1",
                                    "NEV": "Szűcs Annamária",
                                    "METTOL": "2017-01-30",
                                    "MEDDIG": "2017-01-31",
                                    "fő": "4",
                                    "(No column name)": "3"
                                },
                                {
                                    "UGYFEL_FK": "ANNAMARIAR",
                                    "NEV": "Regős Annamária",
                                    "METTOL": "2016-07-18",
                                    "MEDDIG": "2016-07-21",
                                    "fő": "1",
                                    "(No column name)": "NULL"
                                },
                                {
                                    "UGYFEL_FK": "ANNAMARIAR",
                                    "NEV": "Regős Annamária",
                                    "METTOL": "2016-06-08",
                                    "MEDDIG": "2016-06-11",
                                    "fő": "2",
                                    "(No column name)": "1"
                                },
                                {
                                    "UGYFEL_FK": "ANNAMARIAR",
                                    "NEV": "Regős Annamária",
                                    "METTOL": "2016-09-23",
                                    "MEDDIG": "2016-09-27",
                                    "fő": "2",
                                    "(No column name)": "3"
                                },
                                {
                                    "UGYFEL_FK": "ANNAMARIAR",
                                    "NEV": "Regős Annamária",
                                    "METTOL": "2016-11-11",
                                    "MEDDIG": "2016-11-12",
                                    "fő": "3",
                                    "(No column name)": "5"
                                },
                                {
                                    "UGYFEL_FK": "ANNAMARIAR",
                                    "NEV": "Regős Annamária",
                                    "METTOL": "2017-01-10",
                                    "MEDDIG": "2017-01-13",
                                    "fő": "2",
                                    "(No column name)": "7"
                                },
                                {
                                    "UGYFEL_FK": "ANNAMARIAR",
                                    "NEV": "Regős Annamária",
                                    "METTOL": "2017-02-16",
                                    "MEDDIG": "2017-02-18",
                                    "fő": "2",
                                    "(No column name)": "7"
                                },
                                {
                                    "UGYFEL_FK": "aron2",
                                    "NEV": "Jakab Áron",
                                    "METTOL": "2016-04-11",
                                    "MEDDIG": "2016-04-12",
                                    "fő": "3",
                                    "(No column name)": "NULL"
                                },
                                {
                                    "UGYFEL_FK": "aron2",
                                    "NEV": "Jakab Áron",
                                    "METTOL": "2016-07-04",
                                    "MEDDIG": "2016-07-06",
                                    "fő": "3",
                                    "(No column name)": "3"
                                },
                                {
                                    "UGYFEL_FK": "aron2",
                                    "NEV": "Jakab Áron",
                                    "METTOL": "2016-10-23",
                                    "MEDDIG": "2016-10-27",
                                    "fő": "2",
                                    "(No column name)": "6"
                                },
                                {
                                    "UGYFEL_FK": "aron2",
                                    "NEV": "Jakab Áron",
                                    "METTOL": "2016-11-05",
                                    "MEDDIG": "2016-11-09",
                                    "fő": "2",
                                    "(No column name)": "8"
                                },
                                {
                                    "UGYFEL_FK": "aron2",
                                    "NEV": "Jakab Áron",
                                    "METTOL": "2017-01-17",
                                    "MEDDIG": "2017-01-18",
                                    "fő": "3",
                                    "(No column name)": "7"
                                },
                                {
                                    "UGYFEL_FK": "aron2",
                                    "NEV": "Jakab Áron",
                                    "METTOL": "2017-02-26",
                                    "MEDDIG": "2017-02-27",
                                    "fő": "3",
                                    "(No column name)": "7"
                                },
                                {
                                    "UGYFEL_FK": "ARONK",
                                    "NEV": "Kelemen Áron",
                                    "METTOL": "2016-04-06",
                                    "MEDDIG": "2016-04-08",
                                    "fő": "2",
                                    "(No column name)": "NULL"
                                },
                                {
                                    "UGYFEL_FK": "ARONK",
                                    "NEV": "Kelemen Áron",
                                    "METTOL": "2016-05-14",
                                    "MEDDIG": "2016-05-20",
                                    "fő": "4",
                                    "(No column name)": "2"
                                },
                                {
                                    "UGYFEL_FK": "ARONK",
                                    "NEV": "Kelemen Áron",
                                    "METTOL": "2016-08-05",
                                    "MEDDIG": "2016-08-08",
                                    "fő": "4",
                                    "(No column name)": "6"
                                },
                                {
                                    "UGYFEL_FK": "ARONK",
                                    "NEV": "Kelemen Áron",
                                    "METTOL": "2016-06-04",
                                    "MEDDIG": "2016-06-09",
                                    "fő": "2",
                                    "(No column name)": "10"
                                },
                                {
                                    "UGYFEL_FK": "ARONK",
                                    "NEV": "Kelemen Áron",
                                    "METTOL": "2016-06-07",
                                    "MEDDIG": "2016-06-13",
                                    "fő": "3",
                                    "(No column name)": "10"
                                },
                                {
                                    "UGYFEL_FK": "ARONK",
                                    "NEV": "Kelemen Áron",
                                    "METTOL": "2016-07-03",
                                    "MEDDIG": "2016-07-07",
                                    "fő": "2",
                                    "(No column name)": "9"
                                },
                                {
                                    "UGYFEL_FK": "ARONK",
                                    "NEV": "Kelemen Áron",
                                    "METTOL": "2016-09-08",
                                    "MEDDIG": "2016-09-15",
                                    "fő": "2",
                                    "(No column name)": "7"
                                },
                                {
                                    "UGYFEL_FK": "ARONK",
                                    "NEV": "Kelemen Áron",
                                    "METTOL": "2016-11-03",
                                    "MEDDIG": "2016-11-10",
                                    "fő": "2",
                                    "(No column name)": "7"
                                },
                                {
                                    "UGYFEL_FK": "ARONK",
                                    "NEV": "Kelemen Áron",
                                    "METTOL": "2016-11-05",
                                    "MEDDIG": "2016-11-07",
                                    "fő": "2",
                                    "(No column name)": "6"
                                },
                                {
                                    "UGYFEL_FK": "ARONK",
                                    "NEV": "Kelemen Áron",
                                    "METTOL": "2016-12-07",
                                    "MEDDIG": "2016-12-12",
                                    "fő": "3",
                                    "(No column name)": "6"
                                },
                                {
                                    "UGYFEL_FK": "ARONK",
                                    "NEV": "Kelemen Áron",
                                    "METTOL": "2017-01-01",
                                    "MEDDIG": "2017-01-03",
                                    "fő": "2",
                                    "(No column name)": "7"
                                },
                                {
                                    "UGYFEL_FK": "ARONK",
                                    "NEV": "Kelemen Áron",
                                    "METTOL": "2017-01-30",
                                    "MEDDIG": "2017-02-03",
                                    "fő": "2",
                                    "(No column name)": "7"
                                },
                                {
                                    "UGYFEL_FK": "ARONK",
                                    "NEV": "Kelemen Áron",
                                    "METTOL": "2017-02-21",
                                    "MEDDIG": "2017-02-23",
                                    "fő": "2",
                                    "(No column name)": "7"
                                },
                                {
                                    "UGYFEL_FK": "arpad2",
                                    "NEV": "Ötvös Árpád",
                                    "METTOL": "2016-08-23",
                                    "MEDDIG": "2016-08-25",
                                    "fő": "2",
                                    "(No column name)": "NULL"
                                },
                                {
                                    "UGYFEL_FK": "arpad2",
                                    "NEV": "Ötvös Árpád",
                                    "METTOL": "2016-06-05",
                                    "MEDDIG": "2016-06-07",
                                    "fő": "2",
                                    "(No column name)": "2"
                                },
                                {
                                    "UGYFEL_FK": "arpad2",
                                    "NEV": "Ötvös Árpád",
                                    "METTOL": "2016-09-28",
                                    "MEDDIG": "2016-09-30",
                                    "fő": "2",
                                    "(No column name)": "4"
                                },
                                {
                                    "UGYFEL_FK": "arpad2",
                                    "NEV": "Ötvös Árpád",
                                    "METTOL": "2016-10-13",
                                    "MEDDIG": "2016-10-19",
                                    "fő": "3",
                                    "(No column name)": "6"
                                },
                                {
                                    "UGYFEL_FK": "arpad2",
                                    "NEV": "Ötvös Árpád",
                                    "METTOL": "2016-11-06",
                                    "MEDDIG": "2016-11-10",
                                    "fő": "2",
                                    "(No column name)": "7"
                                },
                                {
                                    "UGYFEL_FK": "arpad2",
                                    "NEV": "Ötvös Árpád",
                                    "METTOL": "2016-12-24",
                                    "MEDDIG": "2016-12-27",
                                    "fő": "3",
                                    "(No column name)": "7"
                                },
                                {
                                    "UGYFEL_FK": "arpad2",
                                    "NEV": "Ötvös Árpád",
                                    "METTOL": "2017-02-18",
                                    "MEDDIG": "2017-02-19",
                                    "fő": "4",
                                    "(No column name)": "8"
                                },
                                {
                                    "UGYFEL_FK": "ARPADH",
                                    "NEV": "Horváth Árpád",
                                    "METTOL": "2016-07-14",
                                    "MEDDIG": "2016-07-18",
                                    "fő": "2",
                                    "(No column name)": "NULL"
                                },
                                {
                                    "UGYFEL_FK": "ARPADH",
                                    "NEV": "Horváth Árpád",
                                    "METTOL": "2016-06-06",
                                    "MEDDIG": "2016-06-07",
                                    "fő": "3",
                                    "(No column name)": "2"
                                },
                                {
                                    "UGYFEL_FK": "ARPADH",
                                    "NEV": "Horváth Árpád",
                                    "METTOL": "2016-09-16",
                                    "MEDDIG": "2016-09-23",
                                    "fő": "1",
                                    "(No column name)": "5"
                                },
                                {
                                    "UGYFEL_FK": "ARPADH",
                                    "NEV": "Horváth Árpád",
                                    "METTOL": "2016-09-18",
                                    "MEDDIG": "2016-09-25",
                                    "fő": "1",
                                    "(No column name)": "6"
                                },
                                {
                                    "UGYFEL_FK": "ARPADH",
                                    "NEV": "Horváth Árpád",
                                    "METTOL": "2016-12-04",
                                    "MEDDIG": "2016-12-10",
                                    "fő": "1",
                                    "(No column name)": "5"
                                },
                                {
                                    "UGYFEL_FK": "ARPADH",
                                    "NEV": "Horváth Árpád",
                                    "METTOL": "2016-12-18",
                                    "MEDDIG": "2016-12-19",
                                    "fő": "3",
                                    "(No column name)": "3"
                                },
                                {
                                    "UGYFEL_FK": "ARPADH",
                                    "NEV": "Horváth Árpád",
                                    "METTOL": "2017-02-16",
                                    "MEDDIG": "2017-02-18",
                                    "fő": "2",
                                    "(No column name)": "5"
                                },
                                {
                                    "UGYFEL_FK": "ARPADM",
                                    "NEV": "Móricz Árpád",
                                    "METTOL": "2016-08-12",
                                    "MEDDIG": "2016-08-16",
                                    "fő": "2",
                                    "(No column name)": "NULL"
                                },
                                {
                                    "UGYFEL_FK": "ARPADM",
                                    "NEV": "Móricz Árpád",
                                    "METTOL": "2016-05-29",
                                    "MEDDIG": "2016-06-01",
                                    "fő": "2",
                                    "(No column name)": "2"
                                },
                                {
                                    "UGYFEL_FK": "ARPADM",
                                    "NEV": "Móricz Árpád",
                                    "METTOL": "2016-11-09",
                                    "MEDDIG": "2016-11-11",
                                    "fő": "2",
                                    "(No column name)": "4"
                                },
                                {
                                    "UGYFEL_FK": "ARPADM",
                                    "NEV": "Móricz Árpád",
                                    "METTOL": "2016-12-14",
                                    "MEDDIG": "2016-12-17",
                                    "fő": "3",
                                    "(No column name)": "6"
                                },
                                {
                                    "UGYFEL_FK": "ARPADM",
                                    "NEV": "Móricz Árpád",
                                    "METTOL": "2017-01-05",
                                    "MEDDIG": "2017-01-10",
                                    "fő": "1",
                                    "(No column name)": "7"
                                },
                                {
                                    "UGYFEL_FK": "ARPADM",
                                    "NEV": "Móricz Árpád",
                                    "METTOL": "2017-02-12",
                                    "MEDDIG": "2017-02-14",
                                    "fő": "3",
                                    "(No column name)": "6"
                                },
                                {
                                    "UGYFEL_FK": "attila",
                                    "NEV": "Csóti Attila",
                                    "METTOL": "2016-09-30",
                                    "MEDDIG": "2016-10-07",
                                    "fő": "3",
                                    "(No column name)": "NULL"
                                },
                                {
                                    "UGYFEL_FK": "attila",
                                    "NEV": "Csóti Attila",
                                    "METTOL": "2016-10-15",
                                    "MEDDIG": "2016-10-19",
                                    "fő": "1",
                                    "(No column name)": "3"
                                },
                                {
                                    "UGYFEL_FK": "attila",
                                    "NEV": "Csóti Attila",
                                    "METTOL": "2016-12-22",
                                    "MEDDIG": "2016-12-26",
                                    "fő": "2",
                                    "(No column name)": "4"
                                },
                                {
                                    "UGYFEL_FK": "attila1",
                                    "NEV": "Gulyás Attila",
                                    "METTOL": "2016-05-20",
                                    "MEDDIG": "2016-05-26",
                                    "fő": "1",
                                    "(No column name)": "NULL"
                                },
                                {
                                    "UGYFEL_FK": "attila1",
                                    "NEV": "Gulyás Attila",
                                    "METTOL": "2016-10-09",
                                    "MEDDIG": "2016-10-12",
                                    "fő": "2",
                                    "(No column name)": "1"
                                },
                                {
                                    "UGYFEL_FK": "attila1",
                                    "NEV": "Gulyás Attila",
                                    "METTOL": "2016-10-15",
                                    "MEDDIG": "2016-10-16",
                                    "fő": "3",
                                    "(No column name)": "3"
                                },
                                {
                                    "UGYFEL_FK": "attila1",
                                    "NEV": "Gulyás Attila",
                                    "METTOL": "2016-10-30",
                                    "MEDDIG": "2016-11-05",
                                    "fő": "2",
                                    "(No column name)": "6"
                                },
                                {
                                    "UGYFEL_FK": "attila1",
                                    "NEV": "Gulyás Attila",
                                    "METTOL": "2016-11-10",
                                    "MEDDIG": "2016-11-14",
                                    "fő": "2",
                                    "(No column name)": "7"
                                },
                                {
                                    "UGYFEL_FK": "attila1",
                                    "NEV": "Gulyás Attila",
                                    "METTOL": "2017-01-23",
                                    "MEDDIG": "2017-01-30",
                                    "fő": "4",
                                    "(No column name)": "7"
                                },
                                {
                                    "UGYFEL_FK": "attila4",
                                    "NEV": "Baróti Attila",
                                    "METTOL": "2016-08-18",
                                    "MEDDIG": "2016-08-23",
                                    "fő": "4",
                                    "(No column name)": "NULL"
                                },
                                {
                                    "UGYFEL_FK": "attila4",
                                    "NEV": "Baróti Attila",
                                    "METTOL": "2016-12-31",
                                    "MEDDIG": "2017-01-01",
                                    "fő": "2",
                                    "(No column name)": "4"
                                },
                                {
                                    "UGYFEL_FK": "attila4",
                                    "NEV": "Baróti Attila",
                                    "METTOL": "2017-02-15",
                                    "MEDDIG": "2017-02-22",
                                    "fő": "2",
                                    "(No column name)": "6"
                                },
                                {
                                    "UGYFEL_FK": "ATTILAO",
                                    "NEV": "Opra Attila",
                                    "METTOL": "2016-05-21",
                                    "MEDDIG": "2016-05-26",
                                    "fő": "3",
                                    "(No column name)": "NULL"
                                },
                                {
                                    "UGYFEL_FK": "ATTILAO",
                                    "NEV": "Opra Attila",
                                    "METTOL": "2016-06-04",
                                    "MEDDIG": "2016-06-11",
                                    "fő": "3",
                                    "(No column name)": "3"
                                },
                                {
                                    "UGYFEL_FK": "ATTILAO",
                                    "NEV": "Opra Attila",
                                    "METTOL": "2016-10-30",
                                    "MEDDIG": "2016-11-03",
                                    "fő": "2",
                                    "(No column name)": "6"
                                },
                                {
                                    "UGYFEL_FK": "ATTILAO",
                                    "NEV": "Opra Attila",
                                    "METTOL": "2017-02-22",
                                    "MEDDIG": "2017-02-25",
                                    "fő": "3",
                                    "(No column name)": "8"
                                },
                                {
                                    "UGYFEL_FK": "balazs1",
                                    "NEV": "Bozsik Balázs",
                                    "METTOL": "2016-05-07",
                                    "MEDDIG": "2016-05-14",
                                    "fő": "2",
                                    "(No column name)": "NULL"
                                },
                                {
                                    "UGYFEL_FK": "balazs1",
                                    "NEV": "Bozsik Balázs",
                                    "METTOL": "2016-07-22",
                                    "MEDDIG": "2016-07-26",
                                    "fő": "4",
                                    "(No column name)": "2"
                                },
                                {
                                    "UGYFEL_FK": "balazs1",
                                    "NEV": "Bozsik Balázs",
                                    "METTOL": "2016-12-26",
                                    "MEDDIG": "2016-12-28",
                                    "fő": "3",
                                    "(No column name)": "6"
                                },
                                {
                                    "UGYFEL_FK": "balazs1",
                                    "NEV": "Bozsik Balázs",
                                    "METTOL": "2017-01-01",
                                    "MEDDIG": "2017-01-05",
                                    "fő": "2",
                                    "(No column name)": "9"
                                },
                                {
                                    "UGYFEL_FK": "balazs1",
                                    "NEV": "Bozsik Balázs",
                                    "METTOL": "2017-02-10",
                                    "MEDDIG": "2017-02-14",
                                    "fő": "3",
                                    "(No column name)": "9"
                                },
                                {
                                    "UGYFEL_FK": "balazs1",
                                    "NEV": "Bozsik Balázs",
                                    "METTOL": "2017-02-12",
                                    "MEDDIG": "2017-02-14",
                                    "fő": "2",
                                    "(No column name)": "8"
                                },
                                {
                                    "UGYFEL_FK": "balazs2",
                                    "NEV": "Szűcs Balázs",
                                    "METTOL": "2016-04-16",
                                    "MEDDIG": "2016-04-19",
                                    "fő": "2",
                                    "(No column name)": "NULL"
                                },
                                {
                                    "UGYFEL_FK": "balazs2",
                                    "NEV": "Szűcs Balázs",
                                    "METTOL": "2016-07-20",
                                    "MEDDIG": "2016-07-25",
                                    "fő": "2",
                                    "(No column name)": "2"
                                },
                                {
                                    "UGYFEL_FK": "balazs2",
                                    "NEV": "Szűcs Balázs",
                                    "METTOL": "2016-08-21",
                                    "MEDDIG": "2016-08-22",
                                    "fő": "3",
                                    "(No column name)": "4"
                                },
                                {
                                    "UGYFEL_FK": "balazs2",
                                    "NEV": "Szűcs Balázs",
                                    "METTOL": "2016-05-22",
                                    "MEDDIG": "2016-05-29",
                                    "fő": "3",
                                    "(No column name)": "7"
                                },
                                {
                                    "UGYFEL_FK": "balazs2",
                                    "NEV": "Szűcs Balázs",
                                    "METTOL": "2016-05-28",
                                    "MEDDIG": "2016-06-01",
                                    "fő": "3",
                                    "(No column name)": "8"
                                },
                                {
                                    "UGYFEL_FK": "balazs2",
                                    "NEV": "Szűcs Balázs",
                                    "METTOL": "2016-07-08",
                                    "MEDDIG": "2016-07-12",
                                    "fő": "3",
                                    "(No column name)": "9"
                                },
                                {
                                    "UGYFEL_FK": "balazs2",
                                    "NEV": "Szűcs Balázs",
                                    "METTOL": "2016-07-10",
                                    "MEDDIG": "2016-07-17",
                                    "fő": "3",
                                    "(No column name)": "9"
                                },
                                {
                                    "UGYFEL_FK": "balazs2",
                                    "NEV": "Szűcs Balázs",
                                    "METTOL": "2016-09-12",
                                    "MEDDIG": "2016-09-14",
                                    "fő": "3",
                                    "(No column name)": "9"
                                },
                                {
                                    "UGYFEL_FK": "balazs2",
                                    "NEV": "Szűcs Balázs",
                                    "METTOL": "2016-11-03",
                                    "MEDDIG": "2016-11-05",
                                    "fő": "3",
                                    "(No column name)": "9"
                                },
                                {
                                    "UGYFEL_FK": "balazs2",
                                    "NEV": "Szűcs Balázs",
                                    "METTOL": "2017-02-27",
                                    "MEDDIG": "2017-03-06",
                                    "fő": "1",
                                    "(No column name)": "9"
                                },
                                {
                                    "UGYFEL_FK": "balazs3",
                                    "NEV": "Bakódy Balázs",
                                    "METTOL": "2016-07-17",
                                    "MEDDIG": "2016-07-21",
                                    "fő": "2",
                                    "(No column name)": "NULL"
                                },
                                {
                                    "UGYFEL_FK": "balazs3",
                                    "NEV": "Bakódy Balázs",
                                    "METTOL": "2016-07-27",
                                    "MEDDIG": "2016-07-31",
                                    "fő": "4",
                                    "(No column name)": "2"
                                },
                                {
                                    "UGYFEL_FK": "balazs3",
                                    "NEV": "Bakódy Balázs",
                                    "METTOL": "2016-08-24",
                                    "MEDDIG": "2016-08-28",
                                    "fő": "3",
                                    "(No column name)": "6"
                                },
                                {
                                    "UGYFEL_FK": "balazs3",
                                    "NEV": "Bakódy Balázs",
                                    "METTOL": "2016-09-15",
                                    "MEDDIG": "2016-09-16",
                                    "fő": "3",
                                    "(No column name)": "9"
                                },
                                {
                                    "UGYFEL_FK": "balazs3",
                                    "NEV": "Bakódy Balázs",
                                    "METTOL": "2016-12-05",
                                    "MEDDIG": "2016-12-11",
                                    "fő": "3",
                                    "(No column name)": "10"
                                },
                                {
                                    "UGYFEL_FK": "balazs3",
                                    "NEV": "Bakódy Balázs",
                                    "METTOL": "2017-01-20",
                                    "MEDDIG": "2017-01-22",
                                    "fő": "2",
                                    "(No column name)": "9"
                                },
                                {
                                    "UGYFEL_FK": "balint",
                                    "NEV": "Horváth Bálint",
                                    "METTOL": "2016-04-22",
                                    "MEDDIG": "2016-04-29",
                                    "fő": "2",
                                    "(No column name)": "NULL"
                                },
                                {
                                    "UGYFEL_FK": "balint",
                                    "NEV": "Horváth Bálint",
                                    "METTOL": "2016-10-09",
                                    "MEDDIG": "2016-10-11",
                                    "fő": "2",
                                    "(No column name)": "2"
                                },
                                {
                                    "UGYFEL_FK": "balint",
                                    "NEV": "Horváth Bálint",
                                    "METTOL": "2016-11-24",
                                    "MEDDIG": "2016-11-29",
                                    "fő": "3",
                                    "(No column name)": "4"
                                },
                                {
                                    "UGYFEL_FK": "balint1",
                                    "NEV": "Molnár Bálint",
                                    "METTOL": "2016-07-26",
                                    "MEDDIG": "2016-07-28",
                                    "fő": "2",
                                    "(No column name)": "NULL"
                                },
                                {
                                    "UGYFEL_FK": "balint1",
                                    "NEV": "Molnár Bálint",
                                    "METTOL": "2016-08-03",
                                    "MEDDIG": "2016-08-08",
                                    "fő": "2",
                                    "(No column name)": "2"
                                },
                                {
                                    "UGYFEL_FK": "balint1",
                                    "NEV": "Molnár Bálint",
                                    "METTOL": "2016-06-07",
                                    "MEDDIG": "2016-06-12",
                                    "fő": "3",
                                    "(No column name)": "4"
                                },
                                {
                                    "UGYFEL_FK": "balint1",
                                    "NEV": "Molnár Bálint",
                                    "METTOL": "2016-06-07",
                                    "MEDDIG": "2016-06-11",
                                    "fő": "3",
                                    "(No column name)": "7"
                                },
                                {
                                    "UGYFEL_FK": "balint1",
                                    "NEV": "Molnár Bálint",
                                    "METTOL": "2016-06-10",
                                    "MEDDIG": "2016-06-12",
                                    "fő": "1",
                                    "(No column name)": "8"
                                },
                                {
                                    "UGYFEL_FK": "balint1",
                                    "NEV": "Molnár Bálint",
                                    "METTOL": "2016-09-16",
                                    "MEDDIG": "2016-09-21",
                                    "fő": "1",
                                    "(No column name)": "7"
                                },
                                {
                                    "UGYFEL_FK": "balint1",
                                    "NEV": "Molnár Bálint",
                                    "METTOL": "2016-11-07",
                                    "MEDDIG": "2016-11-10",
                                    "fő": "2",
                                    "(No column name)": "5"
                                },
                                {
                                    "UGYFEL_FK": "balint1",
                                    "NEV": "Molnár Bálint",
                                    "METTOL": "2016-12-17",
                                    "MEDDIG": "2016-12-22",
                                    "fő": "3",
                                    "(No column name)": "4"
                                },
                                {
                                    "UGYFEL_FK": "balint1",
                                    "NEV": "Molnár Bálint",
                                    "METTOL": "2016-12-29",
                                    "MEDDIG": "2016-12-31",
                                    "fő": "3",
                                    "(No column name)": "6"
                                },
                                {
                                    "UGYFEL_FK": "balint1",
                                    "NEV": "Molnár Bálint",
                                    "METTOL": "2017-01-03",
                                    "MEDDIG": "2017-01-08",
                                    "fő": "2",
                                    "(No column name)": "8"
                                },
                                {
                                    "UGYFEL_FK": "balint2",
                                    "NEV": "Vukasinovity Bálint",
                                    "METTOL": "2016-07-21",
                                    "MEDDIG": "2016-07-26",
                                    "fő": "1",
                                    "(No column name)": "NULL"
                                },
                                {
                                    "UGYFEL_FK": "balint2",
                                    "NEV": "Vukasinovity Bálint",
                                    "METTOL": "2016-12-04",
                                    "MEDDIG": "2016-12-06",
                                    "fő": "3",
                                    "(No column name)": "1"
                                },
                                {
                                    "UGYFEL_FK": "balu",
                                    "NEV": "Endresz Bálint",
                                    "METTOL": "2016-08-06",
                                    "MEDDIG": "2016-08-10",
                                    "fő": "2",
                                    "(No column name)": "NULL"
                                },
                                {
                                    "UGYFEL_FK": "balu",
                                    "NEV": "Endresz Bálint",
                                    "METTOL": "2016-12-22",
                                    "MEDDIG": "2016-12-23",
                                    "fő": "2",
                                    "(No column name)": "2"
                                },
                                {
                                    "UGYFEL_FK": "beata4",
                                    "NEV": "Bagi Beáta",
                                    "METTOL": "2016-04-20",
                                    "MEDDIG": "2016-04-21",
                                    "fő": "2",
                                    "(No column name)": "NULL"
                                },
                                {
                                    "UGYFEL_FK": "beata4",
                                    "NEV": "Bagi Beáta",
                                    "METTOL": "2016-08-25",
                                    "MEDDIG": "2016-08-27",
                                    "fő": "3",
                                    "(No column name)": "2"
                                },
                                {
                                    "UGYFEL_FK": "beata4",
                                    "NEV": "Bagi Beáta",
                                    "METTOL": "2016-06-03",
                                    "MEDDIG": "2016-06-04",
                                    "fő": "2",
                                    "(No column name)": "5"
                                },
                                {
                                    "UGYFEL_FK": "beata4",
                                    "NEV": "Bagi Beáta",
                                    "METTOL": "2016-07-03",
                                    "MEDDIG": "2016-07-06",
                                    "fő": "1",
                                    "(No column name)": "7"
                                },
                                {
                                    "UGYFEL_FK": "beata4",
                                    "NEV": "Bagi Beáta",
                                    "METTOL": "2016-10-01",
                                    "MEDDIG": "2016-10-05",
                                    "fő": "1",
                                    "(No column name)": "6"
                                },
                                {
                                    "UGYFEL_FK": "beata4",
                                    "NEV": "Bagi Beáta",
                                    "METTOL": "2016-10-03",
                                    "MEDDIG": "2016-10-06",
                                    "fő": "3",
                                    "(No column name)": "4"
                                },
                                {
                                    "UGYFEL_FK": "BEATRIXK",
                                    "NEV": "Kerényi Beatrix",
                                    "METTOL": "2016-08-12",
                                    "MEDDIG": "2016-08-18",
                                    "fő": "4",
                                    "(No column name)": "NULL"
                                },
                                {
                                    "UGYFEL_FK": "BEATRIXK",
                                    "NEV": "Kerényi Beatrix",
                                    "METTOL": "2016-06-10",
                                    "MEDDIG": "2016-06-11",
                                    "fő": "2",
                                    "(No column name)": "4"
                                },
                                {
                                    "UGYFEL_FK": "BEATRIXK",
                                    "NEV": "Kerényi Beatrix",
                                    "METTOL": "2016-06-10",
                                    "MEDDIG": "2016-06-14",
                                    "fő": "2",
                                    "(No column name)": "6"
                                },
                                {
                                    "UGYFEL_FK": "BEATRIXK",
                                    "NEV": "Kerényi Beatrix",
                                    "METTOL": "2016-06-19",
                                    "MEDDIG": "2016-06-21",
                                    "fő": "3",
                                    "(No column name)": "8"
                                },
                                {
                                    "UGYFEL_FK": "BEATRIXK",
                                    "NEV": "Kerényi Beatrix",
                                    "METTOL": "2016-10-23",
                                    "MEDDIG": "2016-10-28",
                                    "fő": "2",
                                    "(No column name)": "7"
                                },
                                {
                                    "UGYFEL_FK": "BEATRIXK",
                                    "NEV": "Kerényi Beatrix",
                                    "METTOL": "2016-11-14",
                                    "MEDDIG": "2016-11-19",
                                    "fő": "2",
                                    "(No column name)": "7"
                                },
                                {
                                    "UGYFEL_FK": "BEATRIXK",
                                    "NEV": "Kerényi Beatrix",
                                    "METTOL": "2016-12-12",
                                    "MEDDIG": "2016-12-14",
                                    "fő": "3",
                                    "(No column name)": "7"
                                },
                                {
                                    "UGYFEL_FK": "BEATRIXK",
                                    "NEV": "Kerényi Beatrix",
                                    "METTOL": "2016-12-17",
                                    "MEDDIG": "2016-12-22",
                                    "fő": "4",
                                    "(No column name)": "7"
                                },
                                {
                                    "UGYFEL_FK": "BEATRIXK",
                                    "NEV": "Kerényi Beatrix",
                                    "METTOL": "2017-02-08",
                                    "MEDDIG": "2017-02-09",
                                    "fő": "3",
                                    "(No column name)": "9"
                                },
                                {
                                    "UGYFEL_FK": "BEATRIXS",
                                    "NEV": "Szekendi Beatrix",
                                    "METTOL": "2016-04-18",
                                    "MEDDIG": "2016-04-24",
                                    "fő": "1",
                                    "(No column name)": "NULL"
                                },
                                {
                                    "UGYFEL_FK": "BEATRIXS",
                                    "NEV": "Szekendi Beatrix",
                                    "METTOL": "2016-06-11",
                                    "MEDDIG": "2016-06-14",
                                    "fő": "3",
                                    "(No column name)": "1"
                                },
                                {
                                    "UGYFEL_FK": "BEATRIXS",
                                    "NEV": "Szekendi Beatrix",
                                    "METTOL": "2016-10-01",
                                    "MEDDIG": "2016-10-03",
                                    "fő": "3",
                                    "(No column name)": "4"
                                },
                                {
                                    "UGYFEL_FK": "BEATRIXS",
                                    "NEV": "Szekendi Beatrix",
                                    "METTOL": "2016-10-01",
                                    "MEDDIG": "2016-10-05",
                                    "fő": "3",
                                    "(No column name)": "7"
                                },
                                {
                                    "UGYFEL_FK": "BEATRIXS",
                                    "NEV": "Szekendi Beatrix",
                                    "METTOL": "2016-12-21",
                                    "MEDDIG": "2016-12-27",
                                    "fő": "2",
                                    "(No column name)": "9"
                                },
                                {
                                    "UGYFEL_FK": "BEATRIXS",
                                    "NEV": "Szekendi Beatrix",
                                    "METTOL": "2017-02-03",
                                    "MEDDIG": "2017-02-04",
                                    "fő": "2",
                                    "(No column name)": "8"
                                },
                                {
                                    "UGYFEL_FK": "BELAF",
                                    "NEV": "Farkas Béla",
                                    "METTOL": "2016-07-27",
                                    "MEDDIG": "2016-07-30",
                                    "fő": "3",
                                    "(No column name)": "NULL"
                                },
                                {
                                    "UGYFEL_FK": "BELAF",
                                    "NEV": "Farkas Béla",
                                    "METTOL": "2016-07-29",
                                    "MEDDIG": "2016-07-31",
                                    "fő": "2",
                                    "(No column name)": "3"
                                },
                                {
                                    "UGYFEL_FK": "BELAF",
                                    "NEV": "Farkas Béla",
                                    "METTOL": "2016-08-29",
                                    "MEDDIG": "2016-08-31",
                                    "fő": "2",
                                    "(No column name)": "5"
                                },
                                {
                                    "UGYFEL_FK": "BELAF",
                                    "NEV": "Farkas Béla",
                                    "METTOL": "2016-11-03",
                                    "MEDDIG": "2016-11-09",
                                    "fő": "4",
                                    "(No column name)": "7"
                                },
                                {
                                    "UGYFEL_FK": "BELAF",
                                    "NEV": "Farkas Béla",
                                    "METTOL": "2016-12-02",
                                    "MEDDIG": "2016-12-04",
                                    "fő": "3",
                                    "(No column name)": "8"
                                },
                                {
                                    "UGYFEL_FK": "BELAF",
                                    "NEV": "Farkas Béla",
                                    "METTOL": "2016-12-06",
                                    "MEDDIG": "2016-12-09",
                                    "fő": "1",
                                    "(No column name)": "9"
                                },
                                {
                                    "UGYFEL_FK": "bence",
                                    "NEV": "Győrffy Bence",
                                    "METTOL": "2016-05-08",
                                    "MEDDIG": "2016-05-11",
                                    "fő": "2",
                                    "(No column name)": "NULL"
                                },
                                {
                                    "UGYFEL_FK": "bence",
                                    "NEV": "Győrffy Bence",
                                    "METTOL": "2016-07-24",
                                    "MEDDIG": "2016-07-30",
                                    "fő": "2",
                                    "(No column name)": "2"
                                },
                                {
                                    "UGYFEL_FK": "bence",
                                    "NEV": "Győrffy Bence",
                                    "METTOL": "2016-07-25",
                                    "MEDDIG": "2016-08-01",
                                    "fő": "3",
                                    "(No column name)": "4"
                                },
                                {
                                    "UGYFEL_FK": "bence",
                                    "NEV": "Győrffy Bence",
                                    "METTOL": "2016-09-03",
                                    "MEDDIG": "2016-09-06",
                                    "fő": "3",
                                    "(No column name)": "7"
                                },
                                {
                                    "UGYFEL_FK": "bence",
                                    "NEV": "Győrffy Bence",
                                    "METTOL": "2016-05-29",
                                    "MEDDIG": "2016-06-03",
                                    "fő": "1",
                                    "(No column name)": "8"
                                },
                                {
                                    "UGYFEL_FK": "bence",
                                    "NEV": "Győrffy Bence",
                                    "METTOL": "2016-10-30",
                                    "MEDDIG": "2016-11-02",
                                    "fő": "4",
                                    "(No column name)": "7"
                                },
                                {
                                    "UGYFEL_FK": "bence",
                                    "NEV": "Győrffy Bence",
                                    "METTOL": "2016-12-17",
                                    "MEDDIG": "2016-12-18",
                                    "fő": "2",
                                    "(No column name)": "8"
                                },
                                {
                                    "UGYFEL_FK": "bence",
                                    "NEV": "Győrffy Bence",
                                    "METTOL": "2016-12-26",
                                    "MEDDIG": "2016-12-27",
                                    "fő": "2",
                                    "(No column name)": "7"
                                },
                                {
                                    "UGYFEL_FK": "bence",
                                    "NEV": "Győrffy Bence",
                                    "METTOL": "2017-02-05",
                                    "MEDDIG": "2017-02-09",
                                    "fő": "3",
                                    "(No column name)": "8"
                                },
                                {
                                    "UGYFEL_FK": "BENCEB",
                                    "NEV": "Bajusz Bence",
                                    "METTOL": "2016-05-14",
                                    "MEDDIG": "2016-05-17",
                                    "fő": "3",
                                    "(No column name)": "NULL"
                                },
                                {
                                    "UGYFEL_FK": "BENCEB",
                                    "NEV": "Bajusz Bence",
                                    "METTOL": "2016-08-01",
                                    "MEDDIG": "2016-08-02",
                                    "fő": "2",
                                    "(No column name)": "3"
                                },
                                {
                                    "UGYFEL_FK": "BENCEB",
                                    "NEV": "Bajusz Bence",
                                    "METTOL": "2016-06-03",
                                    "MEDDIG": "2016-06-09",
                                    "fő": "2",
                                    "(No column name)": "5"
                                },
                                {
                                    "UGYFEL_FK": "BENCEB",
                                    "NEV": "Bajusz Bence",
                                    "METTOL": "2016-10-22",
                                    "MEDDIG": "2016-10-29",
                                    "fő": "3",
                                    "(No column name)": "7"
                                },
                                {
                                    "UGYFEL_FK": "BENCEB",
                                    "NEV": "Bajusz Bence",
                                    "METTOL": "2016-11-28",
                                    "MEDDIG": "2016-12-02",
                                    "fő": "2",
                                    "(No column name)": "7"
                                },
                                {
                                    "UGYFEL_FK": "BENCEB",
                                    "NEV": "Bajusz Bence",
                                    "METTOL": "2017-02-12",
                                    "MEDDIG": "2017-02-19",
                                    "fő": "3",
                                    "(No column name)": "7"
                                },
                                {
                                    "UGYFEL_FK": "bernadett1",
                                    "NEV": "Simon Bernadett",
                                    "METTOL": "2016-06-12",
                                    "MEDDIG": "2016-06-17",
                                    "fő": "3",
                                    "(No column name)": "NULL"
                                },
                                {
                                    "UGYFEL_FK": "bernadett1",
                                    "NEV": "Simon Bernadett",
                                    "METTOL": "2016-10-08",
                                    "MEDDIG": "2016-10-09",
                                    "fő": "4",
                                    "(No column name)": "3"
                                },
                                {
                                    "UGYFEL_FK": "bernadett1",
                                    "NEV": "Simon Bernadett",
                                    "METTOL": "2016-10-15",
                                    "MEDDIG": "2016-10-22",
                                    "fő": "3",
                                    "(No column name)": "7"
                                },
                                {
                                    "UGYFEL_FK": "bernadett1",
                                    "NEV": "Simon Bernadett",
                                    "METTOL": "2016-10-26",
                                    "MEDDIG": "2016-11-02",
                                    "fő": "3",
                                    "(No column name)": "10"
                                },
                                {
                                    "UGYFEL_FK": "bernadett1",
                                    "NEV": "Simon Bernadett",
                                    "METTOL": "2016-10-28",
                                    "MEDDIG": "2016-11-01",
                                    "fő": "3",
                                    "(No column name)": "10"
                                },
                                {
                                    "UGYFEL_FK": "bernadett1",
                                    "NEV": "Simon Bernadett",
                                    "METTOL": "2017-02-14",
                                    "MEDDIG": "2017-02-15",
                                    "fő": "3",
                                    "(No column name)": "9"
                                },
                                {
                                    "UGYFEL_FK": "bernadett1",
                                    "NEV": "Simon Bernadett",
                                    "METTOL": "2017-02-24",
                                    "MEDDIG": "2017-03-03",
                                    "fő": "1",
                                    "(No column name)": "9"
                                },
                                {
                                    "UGYFEL_FK": "bernadett2",
                                    "NEV": "Kovács Bernadett",
                                    "METTOL": "2016-05-01",
                                    "MEDDIG": "2016-05-03",
                                    "fő": "2",
                                    "(No column name)": "NULL"
                                },
                                {
                                    "UGYFEL_FK": "bernadett2",
                                    "NEV": "Kovács Bernadett",
                                    "METTOL": "2016-08-23",
                                    "MEDDIG": "2016-08-29",
                                    "fő": "2",
                                    "(No column name)": "2"
                                },
                                {
                                    "UGYFEL_FK": "bernadett2",
                                    "NEV": "Kovács Bernadett",
                                    "METTOL": "2016-08-25",
                                    "MEDDIG": "2016-08-27",
                                    "fő": "3",
                                    "(No column name)": "4"
                                },
                                {
                                    "UGYFEL_FK": "bernadett2",
                                    "NEV": "Kovács Bernadett",
                                    "METTOL": "2016-06-17",
                                    "MEDDIG": "2016-06-23",
                                    "fő": "3",
                                    "(No column name)": "7"
                                },
                                {
                                    "UGYFEL_FK": "bernadett2",
                                    "NEV": "Kovács Bernadett",
                                    "METTOL": "2016-09-07",
                                    "MEDDIG": "2016-09-13",
                                    "fő": "3",
                                    "(No column name)": "8"
                                },
                                {
                                    "UGYFEL_FK": "bernadett2",
                                    "NEV": "Kovács Bernadett",
                                    "METTOL": "2016-10-30",
                                    "MEDDIG": "2016-11-06",
                                    "fő": "3",
                                    "(No column name)": "9"
                                },
                                {
                                    "UGYFEL_FK": "bernadett2",
                                    "NEV": "Kovács Bernadett",
                                    "METTOL": "2016-12-17",
                                    "MEDDIG": "2016-12-20",
                                    "fő": "1",
                                    "(No column name)": "9"
                                },
                                {
                                    "UGYFEL_FK": "bernadett2",
                                    "NEV": "Kovács Bernadett",
                                    "METTOL": "2017-01-24",
                                    "MEDDIG": "2017-01-30",
                                    "fő": "3",
                                    "(No column name)": "7"
                                },
                                {
                                    "UGYFEL_FK": "BERNADETTO",
                                    "NEV": "Orbán Bernadett",
                                    "METTOL": "2016-04-10",
                                    "MEDDIG": "2016-04-17",
                                    "fő": "2",
                                    "(No column name)": "NULL"
                                },
                                {
                                    "UGYFEL_FK": "BERNADETTO",
                                    "NEV": "Orbán Bernadett",
                                    "METTOL": "2016-04-17",
                                    "MEDDIG": "2016-04-19",
                                    "fő": "2",
                                    "(No column name)": "2"
                                },
                                {
                                    "UGYFEL_FK": "BERNADETTO",
                                    "NEV": "Orbán Bernadett",
                                    "METTOL": "2016-06-07",
                                    "MEDDIG": "2016-06-13",
                                    "fő": "3",
                                    "(No column name)": "4"
                                },
                                {
                                    "UGYFEL_FK": "BERNADETTO",
                                    "NEV": "Orbán Bernadett",
                                    "METTOL": "2016-06-10",
                                    "MEDDIG": "2016-06-16",
                                    "fő": "4",
                                    "(No column name)": "7"
                                },
                                {
                                    "UGYFEL_FK": "BERNADETTO",
                                    "NEV": "Orbán Bernadett",
                                    "METTOL": "2016-10-04",
                                    "MEDDIG": "2016-10-05",
                                    "fő": "2",
                                    "(No column name)": "9"
                                },
                                {
                                    "UGYFEL_FK": "BERNADETTO",
                                    "NEV": "Orbán Bernadett",
                                    "METTOL": "2017-01-01",
                                    "MEDDIG": "2017-01-02",
                                    "fő": "3",
                                    "(No column name)": "9"
                                },
                                {
                                    "UGYFEL_FK": "BERNADETTO",
                                    "NEV": "Orbán Bernadett",
                                    "METTOL": "2017-01-28",
                                    "MEDDIG": "2017-02-03",
                                    "fő": "2",
                                    "(No column name)": "9"
                                },
                                {
                                    "UGYFEL_FK": "bertalan",
                                    "NEV": "Csiger Bertalan",
                                    "METTOL": "2016-05-18",
                                    "MEDDIG": "2016-05-23",
                                    "fő": "2",
                                    "(No column name)": "NULL"
                                },
                                {
                                    "UGYFEL_FK": "bertalan",
                                    "NEV": "Csiger Bertalan",
                                    "METTOL": "2016-06-20",
                                    "MEDDIG": "2016-06-21",
                                    "fő": "1",
                                    "(No column name)": "2"
                                },
                                {
                                    "UGYFEL_FK": "bertalan",
                                    "NEV": "Csiger Bertalan",
                                    "METTOL": "2016-11-03",
                                    "MEDDIG": "2016-11-10",
                                    "fő": "2",
                                    "(No column name)": "3"
                                },
                                {
                                    "UGYFEL_FK": "bertalan",
                                    "NEV": "Csiger Bertalan",
                                    "METTOL": "2016-11-26",
                                    "MEDDIG": "2016-11-29",
                                    "fő": "3",
                                    "(No column name)": "5"
                                },
                                {
                                    "UGYFEL_FK": "bertalan",
                                    "NEV": "Csiger Bertalan",
                                    "METTOL": "2017-02-16",
                                    "MEDDIG": "2017-02-22",
                                    "fő": "2",
                                    "(No column name)": "6"
                                },
                                {
                                    "UGYFEL_FK": "bertalan",
                                    "NEV": "Csiger Bertalan",
                                    "METTOL": "2017-02-20",
                                    "MEDDIG": "2017-02-24",
                                    "fő": "4",
                                    "(No column name)": "7"
                                },
                                {
                                    "UGYFEL_FK": "brigitta",
                                    "NEV": "Székely Brigitta",
                                    "METTOL": "2016-08-28",
                                    "MEDDIG": "2016-09-01",
                                    "fő": "3",
                                    "(No column name)": "NULL"
                                },
                                {
                                    "UGYFEL_FK": "brigitta",
                                    "NEV": "Székely Brigitta",
                                    "METTOL": "2016-05-30",
                                    "MEDDIG": "2016-06-06",
                                    "fő": "3",
                                    "(No column name)": "3"
                                },
                                {
                                    "UGYFEL_FK": "brigitta",
                                    "NEV": "Székely Brigitta",
                                    "METTOL": "2016-10-21",
                                    "MEDDIG": "2016-10-28",
                                    "fő": "3",
                                    "(No column name)": "6"
                                },
                                {
                                    "UGYFEL_FK": "brigitta",
                                    "NEV": "Székely Brigitta",
                                    "METTOL": "2016-12-17",
                                    "MEDDIG": "2016-12-22",
                                    "fő": "2",
                                    "(No column name)": "9"
                                },
                                {
                                    "UGYFEL_FK": "brigitta",
                                    "NEV": "Székely Brigitta",
                                    "METTOL": "2017-01-23",
                                    "MEDDIG": "2017-01-25",
                                    "fő": "1",
                                    "(No column name)": "8"
                                },
                                {
                                    "UGYFEL_FK": "brigitta3",
                                    "NEV": "Pataki Brigitta",
                                    "METTOL": "2016-06-01",
                                    "MEDDIG": "2016-06-05",
                                    "fő": "2",
                                    "(No column name)": "NULL"
                                },
                                {
                                    "UGYFEL_FK": "brigitta3",
                                    "NEV": "Pataki Brigitta",
                                    "METTOL": "2016-06-13",
                                    "MEDDIG": "2016-06-17",
                                    "fő": "3",
                                    "(No column name)": "2"
                                },
                                {
                                    "UGYFEL_FK": "brigitta3",
                                    "NEV": "Pataki Brigitta",
                                    "METTOL": "2016-10-10",
                                    "MEDDIG": "2016-10-14",
                                    "fő": "2",
                                    "(No column name)": "5"
                                },
                                {
                                    "UGYFEL_FK": "brigitta3",
                                    "NEV": "Pataki Brigitta",
                                    "METTOL": "2016-11-03",
                                    "MEDDIG": "2016-11-09",
                                    "fő": "3",
                                    "(No column name)": "7"
                                },
                                {
                                    "UGYFEL_FK": "brigitta3",
                                    "NEV": "Pataki Brigitta",
                                    "METTOL": "2017-02-09",
                                    "MEDDIG": "2017-02-16",
                                    "fő": "2",
                                    "(No column name)": "8"
                                },
                                {
                                    "UGYFEL_FK": "csongor3",
                                    "NEV": "Nagymihály Csongor",
                                    "METTOL": "2016-05-01",
                                    "MEDDIG": "2016-05-04",
                                    "fő": "2",
                                    "(No column name)": "NULL"
                                },
                                {
                                    "UGYFEL_FK": "csongor3",
                                    "NEV": "Nagymihály Csongor",
                                    "METTOL": "2016-05-08",
                                    "MEDDIG": "2016-05-15",
                                    "fő": "3",
                                    "(No column name)": "2"
                                },
                                {
                                    "UGYFEL_FK": "csongor3",
                                    "NEV": "Nagymihály Csongor",
                                    "METTOL": "2016-06-04",
                                    "MEDDIG": "2016-06-05",
                                    "fő": "2",
                                    "(No column name)": "5"
                                },
                                {
                                    "UGYFEL_FK": "csongor3",
                                    "NEV": "Nagymihály Csongor",
                                    "METTOL": "2016-06-10",
                                    "MEDDIG": "2016-06-17",
                                    "fő": "3",
                                    "(No column name)": "7"
                                },
                                {
                                    "UGYFEL_FK": "csongor3",
                                    "NEV": "Nagymihály Csongor",
                                    "METTOL": "2016-06-11",
                                    "MEDDIG": "2016-06-14",
                                    "fő": "2",
                                    "(No column name)": "8"
                                },
                                {
                                    "UGYFEL_FK": "csongor3",
                                    "NEV": "Nagymihály Csongor",
                                    "METTOL": "2016-07-09",
                                    "MEDDIG": "2016-07-10",
                                    "fő": "4",
                                    "(No column name)": "7"
                                },
                                {
                                    "UGYFEL_FK": "csongor3",
                                    "NEV": "Nagymihály Csongor",
                                    "METTOL": "2016-11-12",
                                    "MEDDIG": "2016-11-17",
                                    "fő": "3",
                                    "(No column name)": "9"
                                },
                                {
                                    "UGYFEL_FK": "csongor3",
                                    "NEV": "Nagymihály Csongor",
                                    "METTOL": "2017-02-13",
                                    "MEDDIG": "2017-02-19",
                                    "fő": "3",
                                    "(No column name)": "9"
                                },
                                {
                                    "UGYFEL_FK": "dani",
                                    "NEV": "Vörös Dániel",
                                    "METTOL": "2016-08-06",
                                    "MEDDIG": "2016-08-09",
                                    "fő": "2",
                                    "(No column name)": "NULL"
                                },
                                {
                                    "UGYFEL_FK": "dani",
                                    "NEV": "Vörös Dániel",
                                    "METTOL": "2016-06-06",
                                    "MEDDIG": "2016-06-10",
                                    "fő": "3",
                                    "(No column name)": "2"
                                },
                                {
                                    "UGYFEL_FK": "dani",
                                    "NEV": "Vörös Dániel",
                                    "METTOL": "2016-07-11",
                                    "MEDDIG": "2016-07-12",
                                    "fő": "3",
                                    "(No column name)": "5"
                                },
                                {
                                    "UGYFEL_FK": "dani",
                                    "NEV": "Vörös Dániel",
                                    "METTOL": "2016-09-19",
                                    "MEDDIG": "2016-09-25",
                                    "fő": "4",
                                    "(No column name)": "8"
                                },
                                {
                                    "UGYFEL_FK": "dani",
                                    "NEV": "Vörös Dániel",
                                    "METTOL": "2016-10-01",
                                    "MEDDIG": "2016-10-02",
                                    "fő": "1",
                                    "(No column name)": "10"
                                },
                                {
                                    "UGYFEL_FK": "dani",
                                    "NEV": "Vörös Dániel",
                                    "METTOL": "2016-11-22",
                                    "MEDDIG": "2016-11-24",
                                    "fő": "2",
                                    "(No column name)": "8"
                                },
                                {
                                    "UGYFEL_FK": "dani",
                                    "NEV": "Vörös Dániel",
                                    "METTOL": "2017-01-17",
                                    "MEDDIG": "2017-01-23",
                                    "fő": "2",
                                    "(No column name)": "7"
                                },
                                {
                                    "UGYFEL_FK": "dani",
                                    "NEV": "Vörös Dániel",
                                    "METTOL": "2017-01-22",
                                    "MEDDIG": "2017-01-29",
                                    "fő": "1",
                                    "(No column name)": "5"
                                },
                                {
                                    "UGYFEL_FK": "dani",
                                    "NEV": "Vörös Dániel",
                                    "METTOL": "2017-02-25",
                                    "MEDDIG": "2017-03-01",
                                    "fő": "3",
                                    "(No column name)": "5"
                                },
                                {
                                    "UGYFEL_FK": "daniel",
                                    "NEV": "Rácz Dániel",
                                    "METTOL": "2016-04-10",
                                    "MEDDIG": "2016-04-11",
                                    "fő": "4",
                                    "(No column name)": "NULL"
                                },
                                {
                                    "UGYFEL_FK": "daniel",
                                    "NEV": "Rácz Dániel",
                                    "METTOL": "2016-04-22",
                                    "MEDDIG": "2016-04-25",
                                    "fő": "2",
                                    "(No column name)": "4"
                                },
                                {
                                    "UGYFEL_FK": "daniel",
                                    "NEV": "Rácz Dániel",
                                    "METTOL": "2016-05-09",
                                    "MEDDIG": "2016-05-13",
                                    "fő": "3",
                                    "(No column name)": "6"
                                },
                                {
                                    "UGYFEL_FK": "daniel",
                                    "NEV": "Rácz Dániel",
                                    "METTOL": "2016-09-08",
                                    "MEDDIG": "2016-09-10",
                                    "fő": "4",
                                    "(No column name)": "9"
                                },
                                {
                                    "UGYFEL_FK": "daniel",
                                    "NEV": "Rácz Dániel",
                                    "METTOL": "2016-11-13",
                                    "MEDDIG": "2016-11-19",
                                    "fő": "3",
                                    "(No column name)": "9"
                                },
                                {
                                    "UGYFEL_FK": "daniel",
                                    "NEV": "Rácz Dániel",
                                    "METTOL": "2016-12-25",
                                    "MEDDIG": "2016-12-26",
                                    "fő": "3",
                                    "(No column name)": "10"
                                },
                                {
                                    "UGYFEL_FK": "daniel",
                                    "NEV": "Rácz Dániel",
                                    "METTOL": "2017-01-09",
                                    "MEDDIG": "2017-01-11",
                                    "fő": "1",
                                    "(No column name)": "10"
                                },
                                {
                                    "UGYFEL_FK": "daniel",
                                    "NEV": "Rácz Dániel",
                                    "METTOL": "2017-02-12",
                                    "MEDDIG": "2017-02-13",
                                    "fő": "3",
                                    "(No column name)": "7"
                                },
                                {
                                    "UGYFEL_FK": "daniel",
                                    "NEV": "Rácz Dániel",
                                    "METTOL": "2017-02-20",
                                    "MEDDIG": "2017-02-23",
                                    "fő": "3",
                                    "(No column name)": "7"
                                },
                                {
                                    "UGYFEL_FK": "daniel1",
                                    "NEV": "Keszler Dániel",
                                    "METTOL": "2016-04-10",
                                    "MEDDIG": "2016-04-15",
                                    "fő": "2",
                                    "(No column name)": "NULL"
                                },
                                {
                                    "UGYFEL_FK": "daniel1",
                                    "NEV": "Keszler Dániel",
                                    "METTOL": "2016-05-10",
                                    "MEDDIG": "2016-05-13",
                                    "fő": "4",
                                    "(No column name)": "2"
                                },
                                {
                                    "UGYFEL_FK": "daniel1",
                                    "NEV": "Keszler Dániel",
                                    "METTOL": "2016-05-26",
                                    "MEDDIG": "2016-05-27",
                                    "fő": "3",
                                    "(No column name)": "6"
                                },
                                {
                                    "UGYFEL_FK": "daniel1",
                                    "NEV": "Keszler Dániel",
                                    "METTOL": "2016-11-09",
                                    "MEDDIG": "2016-11-11",
                                    "fő": "2",
                                    "(No column name)": "9"
                                },
                                {
                                    "UGYFEL_FK": "daniel1",
                                    "NEV": "Keszler Dániel",
                                    "METTOL": "2016-11-23",
                                    "MEDDIG": "2016-11-25",
                                    "fő": "2",
                                    "(No column name)": "9"
                                },
                                {
                                    "UGYFEL_FK": "daniel1",
                                    "NEV": "Keszler Dániel",
                                    "METTOL": "2017-01-05",
                                    "MEDDIG": "2017-01-08",
                                    "fő": "3",
                                    "(No column name)": "7"
                                },
                                {
                                    "UGYFEL_FK": "daniel1",
                                    "NEV": "Keszler Dániel",
                                    "METTOL": "2017-03-01",
                                    "MEDDIG": "2017-03-06",
                                    "fő": "4",
                                    "(No column name)": "7"
                                },
                                {
                                    "UGYFEL_FK": "david",
                                    "NEV": "Ambrus Dávid",
                                    "METTOL": "2016-05-18",
                                    "MEDDIG": "2016-05-25",
                                    "fő": "2",
                                    "(No column name)": "NULL"
                                },
                                {
                                    "UGYFEL_FK": "david",
                                    "NEV": "Ambrus Dávid",
                                    "METTOL": "2016-07-18",
                                    "MEDDIG": "2016-07-21",
                                    "fő": "2",
                                    "(No column name)": "2"
                                },
                                {
                                    "UGYFEL_FK": "david",
                                    "NEV": "Ambrus Dávid",
                                    "METTOL": "2016-08-05",
                                    "MEDDIG": "2016-08-12",
                                    "fő": "1",
                                    "(No column name)": "4"
                                },
                                {
                                    "UGYFEL_FK": "david",
                                    "NEV": "Ambrus Dávid",
                                    "METTOL": "2016-08-20",
                                    "MEDDIG": "2016-08-25",
                                    "fő": "3",
                                    "(No column name)": "5"
                                },
                                {
                                    "UGYFEL_FK": "david",
                                    "NEV": "Ambrus Dávid",
                                    "METTOL": "2016-08-22",
                                    "MEDDIG": "2016-08-24",
                                    "fő": "3",
                                    "(No column name)": "6"
                                },
                                {
                                    "UGYFEL_FK": "david",
                                    "NEV": "Ambrus Dávid",
                                    "METTOL": "2016-06-09",
                                    "MEDDIG": "2016-06-10",
                                    "fő": "2",
                                    "(No column name)": "7"
                                },
                                {
                                    "UGYFEL_FK": "david",
                                    "NEV": "Ambrus Dávid",
                                    "METTOL": "2016-06-30",
                                    "MEDDIG": "2016-07-07",
                                    "fő": "2",
                                    "(No column name)": "8"
                                },
                                {
                                    "UGYFEL_FK": "david",
                                    "NEV": "Ambrus Dávid",
                                    "METTOL": "2016-10-30",
                                    "MEDDIG": "2016-11-04",
                                    "fő": "2",
                                    "(No column name)": "7"
                                },
                                {
                                    "UGYFEL_FK": "david",
                                    "NEV": "Ambrus Dávid",
                                    "METTOL": "2017-01-18",
                                    "MEDDIG": "2017-01-19",
                                    "fő": "2",
                                    "(No column name)": "6"
                                },
                                {
                                    "UGYFEL_FK": "david1",
                                    "NEV": "Sobják Dávid",
                                    "METTOL": "2016-09-20",
                                    "MEDDIG": "2016-09-21",
                                    "fő": "2",
                                    "(No column name)": "NULL"
                                },
                                {
                                    "UGYFEL_FK": "david1",
                                    "NEV": "Sobják Dávid",
                                    "METTOL": "2016-10-01",
                                    "MEDDIG": "2016-10-02",
                                    "fő": "2",
                                    "(No column name)": "2"
                                },
                                {
                                    "UGYFEL_FK": "david1",
                                    "NEV": "Sobják Dávid",
                                    "METTOL": "2016-11-19",
                                    "MEDDIG": "2016-11-22",
                                    "fő": "2",
                                    "(No column name)": "4"
                                },
                                {
                                    "UGYFEL_FK": "david1",
                                    "NEV": "Sobják Dávid",
                                    "METTOL": "2016-12-30",
                                    "MEDDIG": "2017-01-06",
                                    "fő": "2",
                                    "(No column name)": "6"
                                },
                                {
                                    "UGYFEL_FK": "david1",
                                    "NEV": "Sobják Dávid",
                                    "METTOL": "2017-02-17",
                                    "MEDDIG": "2017-02-20",
                                    "fő": "3",
                                    "(No column name)": "6"
                                },
                                {
                                    "UGYFEL_FK": "david1",
                                    "NEV": "Sobják Dávid",
                                    "METTOL": "2017-02-25",
                                    "MEDDIG": "2017-02-27",
                                    "fő": "4",
                                    "(No column name)": "7"
                                },
                                {
                                    "UGYFEL_FK": "david4",
                                    "NEV": "Berta Dávid",
                                    "METTOL": "2017-02-16",
                                    "MEDDIG": "2017-02-19",
                                    "fő": "3",
                                    "(No column name)": "NULL"
                                },
                                {
                                    "UGYFEL_FK": "debora",
                                    "NEV": "Barna Debóra",
                                    "METTOL": "2016-06-22",
                                    "MEDDIG": "2016-06-24",
                                    "fő": "5",
                                    "(No column name)": "NULL"
                                },
                                {
                                    "UGYFEL_FK": "debora",
                                    "NEV": "Barna Debóra",
                                    "METTOL": "2016-10-29",
                                    "MEDDIG": "2016-11-03",
                                    "fő": "2",
                                    "(No column name)": "5"
                                },
                                {
                                    "UGYFEL_FK": "debora",
                                    "NEV": "Barna Debóra",
                                    "METTOL": "2017-01-23",
                                    "MEDDIG": "2017-01-28",
                                    "fő": "3",
                                    "(No column name)": "7"
                                },
                                {
                                    "UGYFEL_FK": "debora",
                                    "NEV": "Barna Debóra",
                                    "METTOL": "2017-02-04",
                                    "MEDDIG": "2017-02-06",
                                    "fő": "3",
                                    "(No column name)": "10"
                                },
                                {
                                    "UGYFEL_FK": "denes",
                                    "NEV": "Tömböly Dénes",
                                    "METTOL": "2016-07-19",
                                    "MEDDIG": "2016-07-23",
                                    "fő": "2",
                                    "(No column name)": "NULL"
                                },
                                {
                                    "UGYFEL_FK": "denes",
                                    "NEV": "Tömböly Dénes",
                                    "METTOL": "2016-08-01",
                                    "MEDDIG": "2016-08-08",
                                    "fő": "3",
                                    "(No column name)": "2"
                                },
                                {
                                    "UGYFEL_FK": "denes",
                                    "NEV": "Tömböly Dénes",
                                    "METTOL": "2016-08-16",
                                    "MEDDIG": "2016-08-23",
                                    "fő": "2",
                                    "(No column name)": "5"
                                },
                                {
                                    "UGYFEL_FK": "denes",
                                    "NEV": "Tömböly Dénes",
                                    "METTOL": "2016-08-20",
                                    "MEDDIG": "2016-08-27",
                                    "fő": "3",
                                    "(No column name)": "7"
                                },
                                {
                                    "UGYFEL_FK": "denes",
                                    "NEV": "Tömböly Dénes",
                                    "METTOL": "2016-05-27",
                                    "MEDDIG": "2016-05-31",
                                    "fő": "3",
                                    "(No column name)": "8"
                                },
                                {
                                    "UGYFEL_FK": "denes",
                                    "NEV": "Tömböly Dénes",
                                    "METTOL": "2016-11-06",
                                    "MEDDIG": "2016-11-10",
                                    "fő": "2",
                                    "(No column name)": "8"
                                },
                                {
                                    "UGYFEL_FK": "dora3",
                                    "NEV": "Sarodi Dóra",
                                    "METTOL": "2016-08-16",
                                    "MEDDIG": "2016-08-19",
                                    "fő": "4",
                                    "(No column name)": "NULL"
                                },
                                {
                                    "UGYFEL_FK": "dora3",
                                    "NEV": "Sarodi Dóra",
                                    "METTOL": "2016-08-25",
                                    "MEDDIG": "2016-08-29",
                                    "fő": "3",
                                    "(No column name)": "4"
                                },
                                {
                                    "UGYFEL_FK": "dora3",
                                    "NEV": "Sarodi Dóra",
                                    "METTOL": "2016-10-09",
                                    "MEDDIG": "2016-10-12",
                                    "fő": "3",
                                    "(No column name)": "7"
                                },
                                {
                                    "UGYFEL_FK": "dora3",
                                    "NEV": "Sarodi Dóra",
                                    "METTOL": "2016-10-29",
                                    "MEDDIG": "2016-11-02",
                                    "fő": "3",
                                    "(No column name)": "10"
                                },
                                {
                                    "UGYFEL_FK": "dora3",
                                    "NEV": "Sarodi Dóra",
                                    "METTOL": "2016-11-22",
                                    "MEDDIG": "2016-11-29",
                                    "fő": "3",
                                    "(No column name)": "9"
                                },
                                {
                                    "UGYFEL_FK": "edit",
                                    "NEV": "Bittmann Edit",
                                    "METTOL": "2016-07-14",
                                    "MEDDIG": "2016-07-17",
                                    "fő": "3",
                                    "(No column name)": "NULL"
                                },
                                {
                                    "UGYFEL_FK": "edit",
                                    "NEV": "Bittmann Edit",
                                    "METTOL": "2016-08-03",
                                    "MEDDIG": "2016-08-09",
                                    "fő": "4",
                                    "(No column name)": "3"
                                },
                                {
                                    "UGYFEL_FK": "edit",
                                    "NEV": "Bittmann Edit",
                                    "METTOL": "2016-08-12",
                                    "MEDDIG": "2016-08-14",
                                    "fő": "2",
                                    "(No column name)": "7"
                                },
                                {
                                    "UGYFEL_FK": "edit",
                                    "NEV": "Bittmann Edit",
                                    "METTOL": "2016-09-17",
                                    "MEDDIG": "2016-09-24",
                                    "fő": "2",
                                    "(No column name)": "9"
                                },
                                {
                                    "UGYFEL_FK": "edit",
                                    "NEV": "Bittmann Edit",
                                    "METTOL": "2016-09-18",
                                    "MEDDIG": "2016-09-21",
                                    "fő": "3",
                                    "(No column name)": "8"
                                },
                                {
                                    "UGYFEL_FK": "edit",
                                    "NEV": "Bittmann Edit",
                                    "METTOL": "2017-01-15",
                                    "MEDDIG": "2017-01-18",
                                    "fő": "4",
                                    "(No column name)": "7"
                                },
                                {
                                    "UGYFEL_FK": "edit",
                                    "NEV": "Bittmann Edit",
                                    "METTOL": "2017-02-08",
                                    "MEDDIG": "2017-02-14",
                                    "fő": "3",
                                    "(No column name)": "9"
                                },
                                {
                                    "UGYFEL_FK": "emese",
                                    "NEV": "Kuruc Emese",
                                    "METTOL": "2016-07-22",
                                    "MEDDIG": "2016-07-24",
                                    "fő": "2",
                                    "(No column name)": "NULL"
                                },
                                {
                                    "UGYFEL_FK": "emese",
                                    "NEV": "Kuruc Emese",
                                    "METTOL": "2016-08-09",
                                    "MEDDIG": "2016-08-12",
                                    "fő": "2",
                                    "(No column name)": "2"
                                },
                                {
                                    "UGYFEL_FK": "emese",
                                    "NEV": "Kuruc Emese",
                                    "METTOL": "2016-09-27",
                                    "MEDDIG": "2016-09-28",
                                    "fő": "3",
                                    "(No column name)": "4"
                                },
                                {
                                    "UGYFEL_FK": "emese",
                                    "NEV": "Kuruc Emese",
                                    "METTOL": "2016-11-05",
                                    "MEDDIG": "2016-11-09",
                                    "fő": "1",
                                    "(No column name)": "7"
                                },
                                {
                                    "UGYFEL_FK": "emese",
                                    "NEV": "Kuruc Emese",
                                    "METTOL": "2016-11-23",
                                    "MEDDIG": "2016-11-27",
                                    "fő": "4",
                                    "(No column name)": "6"
                                },
                                {
                                    "UGYFEL_FK": "emese",
                                    "NEV": "Kuruc Emese",
                                    "METTOL": "2016-12-07",
                                    "MEDDIG": "2016-12-08",
                                    "fő": "3",
                                    "(No column name)": "8"
                                },
                                {
                                    "UGYFEL_FK": "emese",
                                    "NEV": "Kuruc Emese",
                                    "METTOL": "2017-01-30",
                                    "MEDDIG": "2017-01-31",
                                    "fő": "2",
                                    "(No column name)": "8"
                                },
                                {
                                    "UGYFEL_FK": "eszter",
                                    "NEV": "Molnár Eszter",
                                    "METTOL": "2016-08-12",
                                    "MEDDIG": "2016-08-18",
                                    "fő": "3",
                                    "(No column name)": "NULL"
                                },
                                {
                                    "UGYFEL_FK": "eszter",
                                    "NEV": "Molnár Eszter",
                                    "METTOL": "2016-10-04",
                                    "MEDDIG": "2016-10-10",
                                    "fő": "3",
                                    "(No column name)": "3"
                                },
                                {
                                    "UGYFEL_FK": "eszter",
                                    "NEV": "Molnár Eszter",
                                    "METTOL": "2016-10-26",
                                    "MEDDIG": "2016-11-01",
                                    "fő": "3",
                                    "(No column name)": "6"
                                },
                                {
                                    "UGYFEL_FK": "eszter",
                                    "NEV": "Molnár Eszter",
                                    "METTOL": "2016-12-23",
                                    "MEDDIG": "2016-12-28",
                                    "fő": "2",
                                    "(No column name)": "9"
                                },
                                {
                                    "UGYFEL_FK": "eszter2",
                                    "NEV": "Balogh Eszter",
                                    "METTOL": "2016-06-30",
                                    "MEDDIG": "2016-07-07",
                                    "fő": "3",
                                    "(No column name)": "NULL"
                                },
                                {
                                    "UGYFEL_FK": "eszter2",
                                    "NEV": "Balogh Eszter",
                                    "METTOL": "2016-07-08",
                                    "MEDDIG": "2016-07-09",
                                    "fő": "1",
                                    "(No column name)": "3"
                                },
                                {
                                    "UGYFEL_FK": "eszter2",
                                    "NEV": "Balogh Eszter",
                                    "METTOL": "2016-10-01",
                                    "MEDDIG": "2016-10-05",
                                    "fő": "3",
                                    "(No column name)": "4"
                                },
                                {
                                    "UGYFEL_FK": "eszter2",
                                    "NEV": "Balogh Eszter",
                                    "METTOL": "2016-10-01",
                                    "MEDDIG": "2016-10-06",
                                    "fő": "1",
                                    "(No column name)": "7"
                                },
                                {
                                    "UGYFEL_FK": "eszter2",
                                    "NEV": "Balogh Eszter",
                                    "METTOL": "2016-10-20",
                                    "MEDDIG": "2016-10-25",
                                    "fő": "1",
                                    "(No column name)": "5"
                                },
                                {
                                    "UGYFEL_FK": "eszter2",
                                    "NEV": "Balogh Eszter",
                                    "METTOL": "2016-10-23",
                                    "MEDDIG": "2016-10-30",
                                    "fő": "1",
                                    "(No column name)": "5"
                                },
                                {
                                    "UGYFEL_FK": "eszter2",
                                    "NEV": "Balogh Eszter",
                                    "METTOL": "2016-11-05",
                                    "MEDDIG": "2016-11-12",
                                    "fő": "4",
                                    "(No column name)": "3"
                                },
                                {
                                    "UGYFEL_FK": "eszter2",
                                    "NEV": "Balogh Eszter",
                                    "METTOL": "2016-12-02",
                                    "MEDDIG": "2016-12-07",
                                    "fő": "1",
                                    "(No column name)": "6"
                                },
                                {
                                    "UGYFEL_FK": "eszter2",
                                    "NEV": "Balogh Eszter",
                                    "METTOL": "2016-12-05",
                                    "MEDDIG": "2016-12-08",
                                    "fő": "2",
                                    "(No column name)": "6"
                                },
                                {
                                    "UGYFEL_FK": "eszter2",
                                    "NEV": "Balogh Eszter",
                                    "METTOL": "2016-12-29",
                                    "MEDDIG": "2017-02-04",
                                    "fő": "1",
                                    "(No column name)": "7"
                                },
                                {
                                    "UGYFEL_FK": "eszter4",
                                    "NEV": "Fülöp Eszter",
                                    "METTOL": "2017-01-05",
                                    "MEDDIG": "2017-01-10",
                                    "fő": "2",
                                    "(No column name)": "NULL"
                                },
                                {
                                    "UGYFEL_FK": "eszter4",
                                    "NEV": "Fülöp Eszter",
                                    "METTOL": "2017-01-26",
                                    "MEDDIG": "2017-02-02",
                                    "fő": "2",
                                    "(No column name)": "2"
                                },
                                {
                                    "UGYFEL_FK": "eszter4",
                                    "NEV": "Fülöp Eszter",
                                    "METTOL": "2017-02-26",
                                    "MEDDIG": "2017-02-27",
                                    "fő": "3",
                                    "(No column name)": "4"
                                },
                                {
                                    "UGYFEL_FK": "ESZTERE",
                                    "NEV": "Érsek Eszter",
                                    "METTOL": "2016-07-19",
                                    "MEDDIG": "2016-07-21",
                                    "fő": "2",
                                    "(No column name)": "NULL"
                                },
                                {
                                    "UGYFEL_FK": "ESZTERE",
                                    "NEV": "Érsek Eszter",
                                    "METTOL": "2016-05-30",
                                    "MEDDIG": "2016-06-05",
                                    "fő": "2",
                                    "(No column name)": "2"
                                },
                                {
                                    "UGYFEL_FK": "ESZTERE",
                                    "NEV": "Érsek Eszter",
                                    "METTOL": "2016-11-01",
                                    "MEDDIG": "2016-11-08",
                                    "fő": "2",
                                    "(No column name)": "4"
                                },
                                {
                                    "UGYFEL_FK": "ESZTERE",
                                    "NEV": "Érsek Eszter",
                                    "METTOL": "2017-02-10",
                                    "MEDDIG": "2017-02-14",
                                    "fő": "2",
                                    "(No column name)": "6"
                                },
                                {
                                    "UGYFEL_FK": "eva",
                                    "NEV": "Enyedi Éva",
                                    "METTOL": "2016-10-06",
                                    "MEDDIG": "2016-10-09",
                                    "fő": "3",
                                    "(No column name)": "NULL"
                                },
                                {
                                    "UGYFEL_FK": "eva",
                                    "NEV": "Enyedi Éva",
                                    "METTOL": "2017-01-14",
                                    "MEDDIG": "2017-01-16",
                                    "fő": "2",
                                    "(No column name)": "3"
                                },
                                {
                                    "UGYFEL_FK": "eva2",
                                    "NEV": "Perlinger Éva",
                                    "METTOL": "2016-09-02",
                                    "MEDDIG": "2016-09-03",
                                    "fő": "1",
                                    "(No column name)": "NULL"
                                },
                                {
                                    "UGYFEL_FK": "eva2",
                                    "NEV": "Perlinger Éva",
                                    "METTOL": "2016-11-06",
                                    "MEDDIG": "2016-11-13",
                                    "fő": "2",
                                    "(No column name)": "1"
                                },
                                {
                                    "UGYFEL_FK": "eva2",
                                    "NEV": "Perlinger Éva",
                                    "METTOL": "2016-12-06",
                                    "MEDDIG": "2016-12-11",
                                    "fő": "2",
                                    "(No column name)": "3"
                                },
                                {
                                    "UGYFEL_FK": "eva2",
                                    "NEV": "Perlinger Éva",
                                    "METTOL": "2017-01-06",
                                    "MEDDIG": "2017-01-09",
                                    "fő": "4",
                                    "(No column name)": "5"
                                },
                                {
                                    "UGYFEL_FK": "EVAV",
                                    "NEV": "Viktor Éva",
                                    "METTOL": "2016-05-01",
                                    "MEDDIG": "2016-05-05",
                                    "fő": "3",
                                    "(No column name)": "NULL"
                                },
                                {
                                    "UGYFEL_FK": "EVAV",
                                    "NEV": "Viktor Éva",
                                    "METTOL": "2016-08-31",
                                    "MEDDIG": "2016-09-04",
                                    "fő": "2",
                                    "(No column name)": "3"
                                },
                                {
                                    "UGYFEL_FK": "EVAV",
                                    "NEV": "Viktor Éva",
                                    "METTOL": "2016-10-15",
                                    "MEDDIG": "2016-10-21",
                                    "fő": "3",
                                    "(No column name)": "5"
                                },
                                {
                                    "UGYFEL_FK": "EVAV",
                                    "NEV": "Viktor Éva",
                                    "METTOL": "2016-10-16",
                                    "MEDDIG": "2016-10-23",
                                    "fő": "2",
                                    "(No column name)": "8"
                                },
                                {
                                    "UGYFEL_FK": "EVAV",
                                    "NEV": "Viktor Éva",
                                    "METTOL": "2017-02-04",
                                    "MEDDIG": "2017-02-11",
                                    "fő": "5",
                                    "(No column name)": "7"
                                },
                                {
                                    "UGYFEL_FK": "ferenc1",
                                    "NEV": "Orosz Ferenc",
                                    "METTOL": "2016-05-08",
                                    "MEDDIG": "2016-05-11",
                                    "fő": "2",
                                    "(No column name)": "NULL"
                                },
                                {
                                    "UGYFEL_FK": "ferenc1",
                                    "NEV": "Orosz Ferenc",
                                    "METTOL": "2016-06-16",
                                    "MEDDIG": "2016-06-22",
                                    "fő": "2",
                                    "(No column name)": "2"
                                },
                                {
                                    "UGYFEL_FK": "ferenc1",
                                    "NEV": "Orosz Ferenc",
                                    "METTOL": "2016-10-08",
                                    "MEDDIG": "2016-10-09",
                                    "fő": "2",
                                    "(No column name)": "4"
                                },
                                {
                                    "UGYFEL_FK": "ferenc1",
                                    "NEV": "Orosz Ferenc",
                                    "METTOL": "2016-11-07",
                                    "MEDDIG": "2016-11-08",
                                    "fő": "3",
                                    "(No column name)": "6"
                                },
                                {
                                    "UGYFEL_FK": "fruzsina4",
                                    "NEV": "Frank Fruzsina",
                                    "METTOL": "2016-07-13",
                                    "MEDDIG": "2016-07-19",
                                    "fő": "3",
                                    "(No column name)": "NULL"
                                },
                                {
                                    "UGYFEL_FK": "fruzsina4",
                                    "NEV": "Frank Fruzsina",
                                    "METTOL": "2016-08-27",
                                    "MEDDIG": "2016-08-30",
                                    "fő": "4",
                                    "(No column name)": "3"
                                },
                                {
                                    "UGYFEL_FK": "fruzsina4",
                                    "NEV": "Frank Fruzsina",
                                    "METTOL": "2016-06-02",
                                    "MEDDIG": "2016-06-04",
                                    "fő": "2",
                                    "(No column name)": "7"
                                },
                                {
                                    "UGYFEL_FK": "fruzsina4",
                                    "NEV": "Frank Fruzsina",
                                    "METTOL": "2016-07-01",
                                    "MEDDIG": "2016-07-04",
                                    "fő": "3",
                                    "(No column name)": "9"
                                },
                                {
                                    "UGYFEL_FK": "fruzsina4",
                                    "NEV": "Frank Fruzsina",
                                    "METTOL": "2016-09-29",
                                    "MEDDIG": "2016-10-01",
                                    "fő": "3",
                                    "(No column name)": "9"
                                },
                                {
                                    "UGYFEL_FK": "fruzsina4",
                                    "NEV": "Frank Fruzsina",
                                    "METTOL": "2016-11-22",
                                    "MEDDIG": "2016-11-24",
                                    "fő": "2",
                                    "(No column name)": "8"
                                },
                                {
                                    "UGYFEL_FK": "fruzsina4",
                                    "NEV": "Frank Fruzsina",
                                    "METTOL": "2016-12-16",
                                    "MEDDIG": "2016-12-21",
                                    "fő": "1",
                                    "(No column name)": "8"
                                },
                                {
                                    "UGYFEL_FK": "fruzsina4",
                                    "NEV": "Frank Fruzsina",
                                    "METTOL": "2017-01-22",
                                    "MEDDIG": "2017-01-25",
                                    "fő": "4",
                                    "(No column name)": "6"
                                },
                                {
                                    "UGYFEL_FK": "gabor1",
                                    "NEV": "Köves Gábor",
                                    "METTOL": "2016-07-28",
                                    "MEDDIG": "2016-07-30",
                                    "fő": "2",
                                    "(No column name)": "NULL"
                                },
                                {
                                    "UGYFEL_FK": "gabor1",
                                    "NEV": "Köves Gábor",
                                    "METTOL": "2016-09-02",
                                    "MEDDIG": "2016-09-03",
                                    "fő": "3",
                                    "(No column name)": "2"
                                },
                                {
                                    "UGYFEL_FK": "gabor1",
                                    "NEV": "Köves Gábor",
                                    "METTOL": "2016-06-20",
                                    "MEDDIG": "2016-06-21",
                                    "fő": "4",
                                    "(No column name)": "5"
                                },
                                {
                                    "UGYFEL_FK": "gabor1",
                                    "NEV": "Köves Gábor",
                                    "METTOL": "2016-07-12",
                                    "MEDDIG": "2016-07-15",
                                    "fő": "1",
                                    "(No column name)": "9"
                                },
                                {
                                    "UGYFEL_FK": "gabor1",
                                    "NEV": "Köves Gábor",
                                    "METTOL": "2016-10-20",
                                    "MEDDIG": "2016-10-24",
                                    "fő": "1",
                                    "(No column name)": "8"
                                },
                                {
                                    "UGYFEL_FK": "gabor1",
                                    "NEV": "Köves Gábor",
                                    "METTOL": "2016-11-19",
                                    "MEDDIG": "2016-11-22",
                                    "fő": "2",
                                    "(No column name)": "6"
                                },
                                {
                                    "UGYFEL_FK": "gabor4",
                                    "NEV": "Telek Gábor",
                                    "METTOL": "2016-04-26",
                                    "MEDDIG": "2016-04-29",
                                    "fő": "3",
                                    "(No column name)": "NULL"
                                },
                                {
                                    "UGYFEL_FK": "gabor4",
                                    "NEV": "Telek Gábor",
                                    "METTOL": "2016-08-31",
                                    "MEDDIG": "2016-09-06",
                                    "fő": "4",
                                    "(No column name)": "3"
                                },
                                {
                                    "UGYFEL_FK": "gabor4",
                                    "NEV": "Telek Gábor",
                                    "METTOL": "2016-05-30",
                                    "MEDDIG": "2016-06-05",
                                    "fő": "1",
                                    "(No column name)": "7"
                                },
                                {
                                    "UGYFEL_FK": "gabor4",
                                    "NEV": "Telek Gábor",
                                    "METTOL": "2016-11-07",
                                    "MEDDIG": "2016-11-13",
                                    "fő": "4",
                                    "(No column name)": "8"
                                },
                                {
                                    "UGYFEL_FK": "gabriella1",
                                    "NEV": "Nagy Gabriella",
                                    "METTOL": "2016-04-21",
                                    "MEDDIG": "2016-04-24",
                                    "fő": "3",
                                    "(No column name)": "NULL"
                                },
                                {
                                    "UGYFEL_FK": "gabriella1",
                                    "NEV": "Nagy Gabriella",
                                    "METTOL": "2016-07-24",
                                    "MEDDIG": "2016-07-31",
                                    "fő": "2",
                                    "(No column name)": "3"
                                },
                                {
                                    "UGYFEL_FK": "gabriella1",
                                    "NEV": "Nagy Gabriella",
                                    "METTOL": "2016-07-10",
                                    "MEDDIG": "2016-07-11",
                                    "fő": "3",
                                    "(No column name)": "5"
                                },
                                {
                                    "UGYFEL_FK": "gabriella1",
                                    "NEV": "Nagy Gabriella",
                                    "METTOL": "2017-02-04",
                                    "MEDDIG": "2017-02-11",
                                    "fő": "3",
                                    "(No column name)": "8"
                                },
                                {
                                    "UGYFEL_FK": "gabriella1",
                                    "NEV": "Nagy Gabriella",
                                    "METTOL": "2017-02-12",
                                    "MEDDIG": "2017-02-13",
                                    "fő": "2",
                                    "(No column name)": "8"
                                },
                                {
                                    "UGYFEL_FK": "gabriella1",
                                    "NEV": "Nagy Gabriella",
                                    "METTOL": "2017-02-21",
                                    "MEDDIG": "2017-02-27",
                                    "fő": "3",
                                    "(No column name)": "8"
                                },
                                {
                                    "UGYFEL_FK": "gabriella10",
                                    "NEV": "Vida Gabriella",
                                    "METTOL": "2016-10-01",
                                    "MEDDIG": "2016-10-06",
                                    "fő": "3",
                                    "(No column name)": "NULL"
                                },
                                {
                                    "UGYFEL_FK": "georgij",
                                    "NEV": "Nyíri Georgij",
                                    "METTOL": "2016-08-16",
                                    "MEDDIG": "2016-08-22",
                                    "fő": "4",
                                    "(No column name)": "NULL"
                                },
                                {
                                    "UGYFEL_FK": "georgij",
                                    "NEV": "Nyíri Georgij",
                                    "METTOL": "2016-08-28",
                                    "MEDDIG": "2016-09-04",
                                    "fő": "2",
                                    "(No column name)": "4"
                                },
                                {
                                    "UGYFEL_FK": "georgij",
                                    "NEV": "Nyíri Georgij",
                                    "METTOL": "2016-06-16",
                                    "MEDDIG": "2016-06-20",
                                    "fő": "3",
                                    "(No column name)": "6"
                                },
                                {
                                    "UGYFEL_FK": "georgij",
                                    "NEV": "Nyíri Georgij",
                                    "METTOL": "2016-09-18",
                                    "MEDDIG": "2016-09-24",
                                    "fő": "3",
                                    "(No column name)": "9"
                                },
                                {
                                    "UGYFEL_FK": "gusztav",
                                    "NEV": "Bárci Gusztáv",
                                    "METTOL": "2016-05-06",
                                    "MEDDIG": "2016-05-13",
                                    "fő": "2",
                                    "(No column name)": "NULL"
                                },
                                {
                                    "UGYFEL_FK": "gusztav",
                                    "NEV": "Bárci Gusztáv",
                                    "METTOL": "2016-08-05",
                                    "MEDDIG": "2016-08-11",
                                    "fő": "3",
                                    "(No column name)": "2"
                                },
                                {
                                    "UGYFEL_FK": "gusztav",
                                    "NEV": "Bárci Gusztáv",
                                    "METTOL": "2016-10-01",
                                    "MEDDIG": "2016-10-03",
                                    "fő": "3",
                                    "(No column name)": "5"
                                },
                                {
                                    "UGYFEL_FK": "gusztav",
                                    "NEV": "Bárci Gusztáv",
                                    "METTOL": "2017-02-03",
                                    "MEDDIG": "2017-02-09",
                                    "fő": "2",
                                    "(No column name)": "8"
                                },
                                {
                                    "UGYFEL_FK": "gusztav",
                                    "NEV": "Bárci Gusztáv",
                                    "METTOL": "2017-02-23",
                                    "MEDDIG": "2017-03-01",
                                    "fő": "4",
                                    "(No column name)": "8"
                                },
                                {
                                    "UGYFEL_FK": "GYONGYIK",
                                    "NEV": "Kornseé Gyöngyi",
                                    "METTOL": "2016-08-17",
                                    "MEDDIG": "2016-08-21",
                                    "fő": "3",
                                    "(No column name)": "NULL"
                                },
                                {
                                    "UGYFEL_FK": "GYONGYIK",
                                    "NEV": "Kornseé Gyöngyi",
                                    "METTOL": "2016-06-02",
                                    "MEDDIG": "2016-06-05",
                                    "fő": "3",
                                    "(No column name)": "3"
                                },
                                {
                                    "UGYFEL_FK": "GYONGYIK",
                                    "NEV": "Kornseé Gyöngyi",
                                    "METTOL": "2016-06-10",
                                    "MEDDIG": "2016-06-17",
                                    "fő": "1",
                                    "(No column name)": "6"
                                },
                                {
                                    "UGYFEL_FK": "GYONGYIK",
                                    "NEV": "Kornseé Gyöngyi",
                                    "METTOL": "2016-07-01",
                                    "MEDDIG": "2016-07-05",
                                    "fő": "2",
                                    "(No column name)": "7"
                                },
                                {
                                    "UGYFEL_FK": "GYONGYIK",
                                    "NEV": "Kornseé Gyöngyi",
                                    "METTOL": "2016-11-08",
                                    "MEDDIG": "2016-11-13",
                                    "fő": "2",
                                    "(No column name)": "6"
                                },
                                {
                                    "UGYFEL_FK": "GYONGYIK",
                                    "NEV": "Kornseé Gyöngyi",
                                    "METTOL": "2016-12-01",
                                    "MEDDIG": "2016-12-08",
                                    "fő": "2",
                                    "(No column name)": "5"
                                },
                                {
                                    "UGYFEL_FK": "GYONGYIK",
                                    "NEV": "Kornseé Gyöngyi",
                                    "METTOL": "2017-01-22",
                                    "MEDDIG": "2017-01-29",
                                    "fő": "3",
                                    "(No column name)": "6"
                                },
                                {
                                    "UGYFEL_FK": "GYORGYO",
                                    "NEV": "Oroszi György",
                                    "METTOL": "2016-07-18",
                                    "MEDDIG": "2016-07-25",
                                    "fő": "2",
                                    "(No column name)": "NULL"
                                },
                                {
                                    "UGYFEL_FK": "GYORGYO",
                                    "NEV": "Oroszi György",
                                    "METTOL": "2016-07-28",
                                    "MEDDIG": "2016-08-03",
                                    "fő": "3",
                                    "(No column name)": "2"
                                },
                                {
                                    "UGYFEL_FK": "GYORGYO",
                                    "NEV": "Oroszi György",
                                    "METTOL": "2016-05-27",
                                    "MEDDIG": "2016-05-28",
                                    "fő": "3",
                                    "(No column name)": "5"
                                },
                                {
                                    "UGYFEL_FK": "GYORGYO",
                                    "NEV": "Oroszi György",
                                    "METTOL": "2016-06-01",
                                    "MEDDIG": "2016-06-07",
                                    "fő": "2",
                                    "(No column name)": "8"
                                },
                                {
                                    "UGYFEL_FK": "GYORGYO",
                                    "NEV": "Oroszi György",
                                    "METTOL": "2016-06-10",
                                    "MEDDIG": "2016-06-15",
                                    "fő": "2",
                                    "(No column name)": "8"
                                },
                                {
                                    "UGYFEL_FK": "GYORGYO",
                                    "NEV": "Oroszi György",
                                    "METTOL": "2016-10-28",
                                    "MEDDIG": "2016-10-31",
                                    "fő": "1",
                                    "(No column name)": "7"
                                },
                                {
                                    "UGYFEL_FK": "GYORGYO",
                                    "NEV": "Oroszi György",
                                    "METTOL": "2017-02-13",
                                    "MEDDIG": "2017-02-15",
                                    "fő": "2",
                                    "(No column name)": "5"
                                },
                                {
                                    "UGYFEL_FK": "GYORGYO",
                                    "NEV": "Oroszi György",
                                    "METTOL": "2017-02-24",
                                    "MEDDIG": "2017-02-25",
                                    "fő": "3",
                                    "(No column name)": "5"
                                },
                                {
                                    "UGYFEL_FK": "henrik3",
                                    "NEV": "Nádudvari Henrik",
                                    "METTOL": "2016-08-24",
                                    "MEDDIG": "2016-08-28",
                                    "fő": "1",
                                    "(No column name)": "NULL"
                                },
                                {
                                    "UGYFEL_FK": "henrik3",
                                    "NEV": "Nádudvari Henrik",
                                    "METTOL": "2016-12-29",
                                    "MEDDIG": "2017-01-03",
                                    "fő": "3",
                                    "(No column name)": "1"
                                },
                                {
                                    "UGYFEL_FK": "henrik3",
                                    "NEV": "Nádudvari Henrik",
                                    "METTOL": "2017-01-27",
                                    "MEDDIG": "2017-01-28",
                                    "fő": "3",
                                    "(No column name)": "4"
                                },
                                {
                                    "UGYFEL_FK": "IBOLYAA",
                                    "NEV": "Andor Ibolya",
                                    "METTOL": "2016-08-29",
                                    "MEDDIG": "2016-08-31",
                                    "fő": "5",
                                    "(No column name)": "NULL"
                                },
                                {
                                    "UGYFEL_FK": "IBOLYAA",
                                    "NEV": "Andor Ibolya",
                                    "METTOL": "2016-10-23",
                                    "MEDDIG": "2016-10-28",
                                    "fő": "2",
                                    "(No column name)": "5"
                                },
                                {
                                    "UGYFEL_FK": "IBOLYAA",
                                    "NEV": "Andor Ibolya",
                                    "METTOL": "2017-01-17",
                                    "MEDDIG": "2017-01-23",
                                    "fő": "3",
                                    "(No column name)": "7"
                                },
                                {
                                    "UGYFEL_FK": "ilona3",
                                    "NEV": "Bosnyák Ilona",
                                    "METTOL": "2016-07-31",
                                    "MEDDIG": "2016-08-06",
                                    "fő": "2",
                                    "(No column name)": "NULL"
                                },
                                {
                                    "UGYFEL_FK": "ilona3",
                                    "NEV": "Bosnyák Ilona",
                                    "METTOL": "2016-08-04",
                                    "MEDDIG": "2016-08-08",
                                    "fő": "3",
                                    "(No column name)": "2"
                                },
                                {
                                    "UGYFEL_FK": "ilona3",
                                    "NEV": "Bosnyák Ilona",
                                    "METTOL": "2016-11-04",
                                    "MEDDIG": "2016-11-06",
                                    "fő": "4",
                                    "(No column name)": "5"
                                },
                                {
                                    "UGYFEL_FK": "ilona3",
                                    "NEV": "Bosnyák Ilona",
                                    "METTOL": "2016-12-25",
                                    "MEDDIG": "2016-12-31",
                                    "fő": "3",
                                    "(No column name)": "9"
                                },
                                {
                                    "UGYFEL_FK": "imre",
                                    "NEV": "Búza Imre",
                                    "METTOL": "2016-09-17",
                                    "MEDDIG": "2016-09-19",
                                    "fő": "3",
                                    "(No column name)": "NULL"
                                },
                                {
                                    "UGYFEL_FK": "imre",
                                    "NEV": "Búza Imre",
                                    "METTOL": "2016-10-28",
                                    "MEDDIG": "2016-10-29",
                                    "fő": "4",
                                    "(No column name)": "3"
                                },
                                {
                                    "UGYFEL_FK": "imre1",
                                    "NEV": "Papp Imre",
                                    "METTOL": "2016-08-21",
                                    "MEDDIG": "2016-08-27",
                                    "fő": "2",
                                    "(No column name)": "NULL"
                                },
                                {
                                    "UGYFEL_FK": "imre1",
                                    "NEV": "Papp Imre",
                                    "METTOL": "2016-08-23",
                                    "MEDDIG": "2016-08-25",
                                    "fő": "3",
                                    "(No column name)": "2"
                                },
                                {
                                    "UGYFEL_FK": "imre1",
                                    "NEV": "Papp Imre",
                                    "METTOL": "2016-08-29",
                                    "MEDDIG": "2016-08-31",
                                    "fő": "2",
                                    "(No column name)": "5"
                                },
                                {
                                    "UGYFEL_FK": "imre1",
                                    "NEV": "Papp Imre",
                                    "METTOL": "2016-06-23",
                                    "MEDDIG": "2016-06-26",
                                    "fő": "4",
                                    "(No column name)": "7"
                                },
                                {
                                    "UGYFEL_FK": "imre1",
                                    "NEV": "Papp Imre",
                                    "METTOL": "2016-06-27",
                                    "MEDDIG": "2016-06-28",
                                    "fő": "2",
                                    "(No column name)": "9"
                                },
                                {
                                    "UGYFEL_FK": "imre1",
                                    "NEV": "Papp Imre",
                                    "METTOL": "2017-02-01",
                                    "MEDDIG": "2017-02-04",
                                    "fő": "2",
                                    "(No column name)": "8"
                                },
                                {
                                    "UGYFEL_FK": "imre1",
                                    "NEV": "Papp Imre",
                                    "METTOL": "2017-02-05",
                                    "MEDDIG": "2017-02-07",
                                    "fő": "4",
                                    "(No column name)": "8"
                                },
                                {
                                    "UGYFEL_FK": "istvan",
                                    "NEV": "Soós István",
                                    "METTOL": "2016-10-07",
                                    "MEDDIG": "2016-10-10",
                                    "fő": "2",
                                    "(No column name)": "NULL"
                                },
                                {
                                    "UGYFEL_FK": "istvan",
                                    "NEV": "Soós István",
                                    "METTOL": "2016-11-22",
                                    "MEDDIG": "2016-11-24",
                                    "fő": "3",
                                    "(No column name)": "2"
                                },
                                {
                                    "UGYFEL_FK": "istvan",
                                    "NEV": "Soós István",
                                    "METTOL": "2017-01-02",
                                    "MEDDIG": "2017-01-05",
                                    "fő": "2",
                                    "(No column name)": "5"
                                },
                                {
                                    "UGYFEL_FK": "istvan1",
                                    "NEV": "Vizi István",
                                    "METTOL": "2016-04-16",
                                    "MEDDIG": "2016-04-22",
                                    "fő": "3",
                                    "(No column name)": "NULL"
                                },
                                {
                                    "UGYFEL_FK": "istvan1",
                                    "NEV": "Vizi István",
                                    "METTOL": "2016-04-24",
                                    "MEDDIG": "2016-04-28",
                                    "fő": "3",
                                    "(No column name)": "3"
                                },
                                {
                                    "UGYFEL_FK": "istvan1",
                                    "NEV": "Vizi István",
                                    "METTOL": "2016-07-19",
                                    "MEDDIG": "2016-07-24",
                                    "fő": "1",
                                    "(No column name)": "6"
                                },
                                {
                                    "UGYFEL_FK": "istvan1",
                                    "NEV": "Vizi István",
                                    "METTOL": "2017-02-07",
                                    "MEDDIG": "2017-02-10",
                                    "fő": "3",
                                    "(No column name)": "7"
                                },
                                {
                                    "UGYFEL_FK": "ISTVANV",
                                    "NEV": "Varga István",
                                    "METTOL": "2016-07-01",
                                    "MEDDIG": "2016-07-04",
                                    "fő": "4",
                                    "(No column name)": "NULL"
                                },
                                {
                                    "UGYFEL_FK": "ISTVANV",
                                    "NEV": "Varga István",
                                    "METTOL": "2016-09-29",
                                    "MEDDIG": "2016-10-01",
                                    "fő": "3",
                                    "(No column name)": "4"
                                },
                                {
                                    "UGYFEL_FK": "janos3",
                                    "NEV": "Harangozó János",
                                    "METTOL": "2016-08-24",
                                    "MEDDIG": "2016-08-25",
                                    "fő": "3",
                                    "(No column name)": "NULL"
                                },
                                {
                                    "UGYFEL_FK": "janos3",
                                    "NEV": "Harangozó János",
                                    "METTOL": "2016-06-04",
                                    "MEDDIG": "2016-06-06",
                                    "fő": "1",
                                    "(No column name)": "3"
                                },
                                {
                                    "UGYFEL_FK": "janos3",
                                    "NEV": "Harangozó János",
                                    "METTOL": "2016-10-03",
                                    "MEDDIG": "2016-10-08",
                                    "fő": "3",
                                    "(No column name)": "4"
                                },
                                {
                                    "UGYFEL_FK": "janos3",
                                    "NEV": "Harangozó János",
                                    "METTOL": "2016-10-22",
                                    "MEDDIG": "2016-10-23",
                                    "fő": "1",
                                    "(No column name)": "7"
                                },
                                {
                                    "UGYFEL_FK": "janos3",
                                    "NEV": "Harangozó János",
                                    "METTOL": "2017-02-12",
                                    "MEDDIG": "2017-02-14",
                                    "fő": "3",
                                    "(No column name)": "5"
                                },
                                {
                                    "UGYFEL_FK": "JANOSG",
                                    "NEV": "Giliga János",
                                    "METTOL": "2016-05-09",
                                    "MEDDIG": "2016-05-15",
                                    "fő": "1",
                                    "(No column name)": "NULL"
                                },
                                {
                                    "UGYFEL_FK": "JANOSG",
                                    "NEV": "Giliga János",
                                    "METTOL": "2016-08-16",
                                    "MEDDIG": "2016-08-23",
                                    "fő": "3",
                                    "(No column name)": "1"
                                },
                                {
                                    "UGYFEL_FK": "JANOSG",
                                    "NEV": "Giliga János",
                                    "METTOL": "2016-08-30",
                                    "MEDDIG": "2016-09-03",
                                    "fő": "3",
                                    "(No column name)": "4"
                                },
                                {
                                    "UGYFEL_FK": "JANOSG",
                                    "NEV": "Giliga János",
                                    "METTOL": "2016-11-07",
                                    "MEDDIG": "2016-11-14",
                                    "fő": "3",
                                    "(No column name)": "7"
                                },
                                {
                                    "UGYFEL_FK": "JANOSG",
                                    "NEV": "Giliga János",
                                    "METTOL": "2016-12-28",
                                    "MEDDIG": "2016-12-30",
                                    "fő": "2",
                                    "(No column name)": "9"
                                },
                                {
                                    "UGYFEL_FK": "JANOSG",
                                    "NEV": "Giliga János",
                                    "METTOL": "2017-01-10",
                                    "MEDDIG": "2017-01-15",
                                    "fő": "2",
                                    "(No column name)": "8"
                                },
                                {
                                    "UGYFEL_FK": "JANOSG",
                                    "NEV": "Giliga János",
                                    "METTOL": "2017-01-31",
                                    "MEDDIG": "2017-02-05",
                                    "fő": "2",
                                    "(No column name)": "7"
                                },
                                {
                                    "UGYFEL_FK": "JANOSP",
                                    "NEV": "Pálinkás János",
                                    "METTOL": "2016-07-04",
                                    "MEDDIG": "2016-07-11",
                                    "fő": "3",
                                    "(No column name)": "NULL"
                                },
                                {
                                    "UGYFEL_FK": "JANOSP",
                                    "NEV": "Pálinkás János",
                                    "METTOL": "2016-11-23",
                                    "MEDDIG": "2016-11-28",
                                    "fő": "2",
                                    "(No column name)": "3"
                                },
                                {
                                    "UGYFEL_FK": "JANOSP",
                                    "NEV": "Pálinkás János",
                                    "METTOL": "2016-11-25",
                                    "MEDDIG": "2016-11-27",
                                    "fő": "2",
                                    "(No column name)": "5"
                                },
                                {
                                    "UGYFEL_FK": "JANOSP",
                                    "NEV": "Pálinkás János",
                                    "METTOL": "2016-12-18",
                                    "MEDDIG": "2016-12-21",
                                    "fő": "2",
                                    "(No column name)": "7"
                                },
                                {
                                    "UGYFEL_FK": "jozsef",
                                    "NEV": "Gergely József",
                                    "METTOL": "2016-09-13",
                                    "MEDDIG": "2016-09-19",
                                    "fő": "2",
                                    "(No column name)": "NULL"
                                },
                                {
                                    "UGYFEL_FK": "jozsef",
                                    "NEV": "Gergely József",
                                    "METTOL": "2016-10-08",
                                    "MEDDIG": "2016-10-10",
                                    "fő": "2",
                                    "(No column name)": "2"
                                },
                                {
                                    "UGYFEL_FK": "jozsef",
                                    "NEV": "Gergely József",
                                    "METTOL": "2016-12-06",
                                    "MEDDIG": "2016-12-07",
                                    "fő": "2",
                                    "(No column name)": "4"
                                },
                                {
                                    "UGYFEL_FK": "jozsef2",
                                    "NEV": "Vajda József",
                                    "METTOL": "2016-07-16",
                                    "MEDDIG": "2016-07-20",
                                    "fő": "3",
                                    "(No column name)": "NULL"
                                },
                                {
                                    "UGYFEL_FK": "jozsef2",
                                    "NEV": "Vajda József",
                                    "METTOL": "2016-07-06",
                                    "MEDDIG": "2016-07-11",
                                    "fő": "2",
                                    "(No column name)": "3"
                                },
                                {
                                    "UGYFEL_FK": "jozsef2",
                                    "NEV": "Vajda József",
                                    "METTOL": "2016-09-09",
                                    "MEDDIG": "2016-09-15",
                                    "fő": "2",
                                    "(No column name)": "5"
                                },
                                {
                                    "UGYFEL_FK": "jozsef2",
                                    "NEV": "Vajda József",
                                    "METTOL": "2016-11-23",
                                    "MEDDIG": "2016-11-29",
                                    "fő": "3",
                                    "(No column name)": "7"
                                },
                                {
                                    "UGYFEL_FK": "jozsef2",
                                    "NEV": "Vajda József",
                                    "METTOL": "2016-11-25",
                                    "MEDDIG": "2016-11-29",
                                    "fő": "3",
                                    "(No column name)": "7"
                                },
                                {
                                    "UGYFEL_FK": "JOZSEFG",
                                    "NEV": "Gyuris József",
                                    "METTOL": "2016-05-02",
                                    "MEDDIG": "2016-05-06",
                                    "fő": "2",
                                    "(No column name)": "NULL"
                                },
                                {
                                    "UGYFEL_FK": "JOZSEFG",
                                    "NEV": "Gyuris József",
                                    "METTOL": "2016-08-24",
                                    "MEDDIG": "2016-08-27",
                                    "fő": "3",
                                    "(No column name)": "2"
                                },
                                {
                                    "UGYFEL_FK": "JOZSEFG",
                                    "NEV": "Gyuris József",
                                    "METTOL": "2016-05-23",
                                    "MEDDIG": "2016-05-25",
                                    "fő": "1",
                                    "(No column name)": "5"
                                },
                                {
                                    "UGYFEL_FK": "JOZSEFG",
                                    "NEV": "Gyuris József",
                                    "METTOL": "2016-06-04",
                                    "MEDDIG": "2016-06-09",
                                    "fő": "4",
                                    "(No column name)": "6"
                                },
                                {
                                    "UGYFEL_FK": "JOZSEFG",
                                    "NEV": "Gyuris József",
                                    "METTOL": "2017-01-09",
                                    "MEDDIG": "2017-01-13",
                                    "fő": "2",
                                    "(No column name)": "8"
                                },
                                {
                                    "UGYFEL_FK": "JOZSEFG",
                                    "NEV": "Gyuris József",
                                    "METTOL": "2017-01-22",
                                    "MEDDIG": "2017-01-26",
                                    "fő": "1",
                                    "(No column name)": "7"
                                },
                                {
                                    "UGYFEL_FK": "JOZSEFG",
                                    "NEV": "Gyuris József",
                                    "METTOL": "2017-02-24",
                                    "MEDDIG": "2017-03-03",
                                    "fő": "3",
                                    "(No column name)": "7"
                                },
                                {
                                    "UGYFEL_FK": "JUDITH",
                                    "NEV": "Hídasi Judit",
                                    "METTOL": "2016-07-28",
                                    "MEDDIG": "2016-07-30",
                                    "fő": "2",
                                    "(No column name)": "NULL"
                                },
                                {
                                    "UGYFEL_FK": "JUDITH",
                                    "NEV": "Hídasi Judit",
                                    "METTOL": "2016-06-06",
                                    "MEDDIG": "2016-06-10",
                                    "fő": "2",
                                    "(No column name)": "2"
                                },
                                {
                                    "UGYFEL_FK": "JUDITH",
                                    "NEV": "Hídasi Judit",
                                    "METTOL": "2016-12-19",
                                    "MEDDIG": "2016-12-26",
                                    "fő": "1",
                                    "(No column name)": "4"
                                },
                                {
                                    "UGYFEL_FK": "julia",
                                    "NEV": "Tóth Júlia",
                                    "METTOL": "2016-04-21",
                                    "MEDDIG": "2016-04-26",
                                    "fő": "2",
                                    "(No column name)": "NULL"
                                },
                                {
                                    "UGYFEL_FK": "julia",
                                    "NEV": "Tóth Júlia",
                                    "METTOL": "2016-05-12",
                                    "MEDDIG": "2016-05-17",
                                    "fő": "1",
                                    "(No column name)": "2"
                                },
                                {
                                    "UGYFEL_FK": "julia",
                                    "NEV": "Tóth Júlia",
                                    "METTOL": "2016-07-20",
                                    "MEDDIG": "2016-07-22",
                                    "fő": "2",
                                    "(No column name)": "3"
                                },
                                {
                                    "UGYFEL_FK": "julia",
                                    "NEV": "Tóth Júlia",
                                    "METTOL": "2016-06-07",
                                    "MEDDIG": "2016-06-08",
                                    "fő": "5",
                                    "(No column name)": "5"
                                },
                                {
                                    "UGYFEL_FK": "julia",
                                    "NEV": "Tóth Júlia",
                                    "METTOL": "2017-02-27",
                                    "MEDDIG": "2017-03-06",
                                    "fő": "3",
                                    "(No column name)": "8"
                                },
                                {
                                    "UGYFEL_FK": "julia4",
                                    "NEV": "Nagy Júlia",
                                    "METTOL": "2016-11-07",
                                    "MEDDIG": "2016-11-12",
                                    "fő": "1",
                                    "(No column name)": "NULL"
                                },
                                {
                                    "UGYFEL_FK": "julia4",
                                    "NEV": "Nagy Júlia",
                                    "METTOL": "2017-02-04",
                                    "MEDDIG": "2017-02-11",
                                    "fő": "4",
                                    "(No column name)": "1"
                                },
                                {
                                    "UGYFEL_FK": "julianna4",
                                    "NEV": "Szabó Julianna",
                                    "METTOL": "2016-07-20",
                                    "MEDDIG": "2016-07-26",
                                    "fő": "2",
                                    "(No column name)": "NULL"
                                },
                                {
                                    "UGYFEL_FK": "julianna4",
                                    "NEV": "Szabó Julianna",
                                    "METTOL": "2016-10-29",
                                    "MEDDIG": "2016-10-31",
                                    "fő": "3",
                                    "(No column name)": "2"
                                },
                                {
                                    "UGYFEL_FK": "julianna4",
                                    "NEV": "Szabó Julianna",
                                    "METTOL": "2016-11-03",
                                    "MEDDIG": "2016-11-04",
                                    "fő": "2",
                                    "(No column name)": "5"
                                },
                                {
                                    "UGYFEL_FK": "julianna4",
                                    "NEV": "Szabó Julianna",
                                    "METTOL": "2016-11-27",
                                    "MEDDIG": "2016-12-04",
                                    "fő": "3",
                                    "(No column name)": "7"
                                },
                                {
                                    "UGYFEL_FK": "kata",
                                    "NEV": "Gondos Katalin",
                                    "METTOL": "2016-04-10",
                                    "MEDDIG": "2016-04-11",
                                    "fő": "2",
                                    "(No column name)": "NULL"
                                },
                                {
                                    "UGYFEL_FK": "kata",
                                    "NEV": "Gondos Katalin",
                                    "METTOL": "2016-04-25",
                                    "MEDDIG": "2016-05-01",
                                    "fő": "1",
                                    "(No column name)": "2"
                                },
                                {
                                    "UGYFEL_FK": "kata",
                                    "NEV": "Gondos Katalin",
                                    "METTOL": "2016-08-24",
                                    "MEDDIG": "2016-08-27",
                                    "fő": "3",
                                    "(No column name)": "3"
                                },
                                {
                                    "UGYFEL_FK": "kata",
                                    "NEV": "Gondos Katalin",
                                    "METTOL": "2016-05-31",
                                    "MEDDIG": "2016-06-01",
                                    "fő": "3",
                                    "(No column name)": "6"
                                },
                                {
                                    "UGYFEL_FK": "kata",
                                    "NEV": "Gondos Katalin",
                                    "METTOL": "2016-06-07",
                                    "MEDDIG": "2016-06-12",
                                    "fő": "2",
                                    "(No column name)": "7"
                                },
                                {
                                    "UGYFEL_FK": "kata",
                                    "NEV": "Gondos Katalin",
                                    "METTOL": "2016-07-01",
                                    "MEDDIG": "2016-07-07",
                                    "fő": "2",
                                    "(No column name)": "8"
                                },
                                {
                                    "UGYFEL_FK": "kata",
                                    "NEV": "Gondos Katalin",
                                    "METTOL": "2016-07-03",
                                    "MEDDIG": "2016-07-06",
                                    "fő": "1",
                                    "(No column name)": "7"
                                },
                                {
                                    "UGYFEL_FK": "kata",
                                    "NEV": "Gondos Katalin",
                                    "METTOL": "2016-07-07",
                                    "MEDDIG": "2016-07-09",
                                    "fő": "3",
                                    "(No column name)": "5"
                                },
                                {
                                    "UGYFEL_FK": "kata",
                                    "NEV": "Gondos Katalin",
                                    "METTOL": "2016-09-19",
                                    "MEDDIG": "2016-09-20",
                                    "fő": "3",
                                    "(No column name)": "6"
                                },
                                {
                                    "UGYFEL_FK": "kata",
                                    "NEV": "Gondos Katalin",
                                    "METTOL": "2017-01-15",
                                    "MEDDIG": "2017-01-21",
                                    "fő": "3",
                                    "(No column name)": "7"
                                },
                                {
                                    "UGYFEL_FK": "katalin",
                                    "NEV": "Horváth Katalin",
                                    "METTOL": "2016-04-10",
                                    "MEDDIG": "2016-04-17",
                                    "fő": "2",
                                    "(No column name)": "NULL"
                                },
                                {
                                    "UGYFEL_FK": "katalin",
                                    "NEV": "Horváth Katalin",
                                    "METTOL": "2016-05-21",
                                    "MEDDIG": "2016-05-26",
                                    "fő": "1",
                                    "(No column name)": "2"
                                },
                                {
                                    "UGYFEL_FK": "katalin",
                                    "NEV": "Horváth Katalin",
                                    "METTOL": "2016-07-28",
                                    "MEDDIG": "2016-07-29",
                                    "fő": "1",
                                    "(No column name)": "3"
                                },
                                {
                                    "UGYFEL_FK": "katalin",
                                    "NEV": "Horváth Katalin",
                                    "METTOL": "2016-07-06",
                                    "MEDDIG": "2016-07-11",
                                    "fő": "1",
                                    "(No column name)": "4"
                                },
                                {
                                    "UGYFEL_FK": "katalin",
                                    "NEV": "Horváth Katalin",
                                    "METTOL": "2016-10-26",
                                    "MEDDIG": "2016-10-30",
                                    "fő": "2",
                                    "(No column name)": "3"
                                },
                                {
                                    "UGYFEL_FK": "katalin",
                                    "NEV": "Horváth Katalin",
                                    "METTOL": "2016-12-13",
                                    "MEDDIG": "2016-12-19",
                                    "fő": "2",
                                    "(No column name)": "4"
                                },
                                {
                                    "UGYFEL_FK": "katalin",
                                    "NEV": "Horváth Katalin",
                                    "METTOL": "2016-12-17",
                                    "MEDDIG": "2016-12-24",
                                    "fő": "1",
                                    "(No column name)": "5"
                                },
                                {
                                    "UGYFEL_FK": "katalin",
                                    "NEV": "Horváth Katalin",
                                    "METTOL": "2016-12-24",
                                    "MEDDIG": "2016-12-27",
                                    "fő": "2",
                                    "(No column name)": "5"
                                },
                                {
                                    "UGYFEL_FK": "katalin",
                                    "NEV": "Horváth Katalin",
                                    "METTOL": "2017-02-24",
                                    "MEDDIG": "2017-02-27",
                                    "fő": "3",
                                    "(No column name)": "5"
                                },
                                {
                                    "UGYFEL_FK": "katalin4",
                                    "NEV": "Kertész Katalin",
                                    "METTOL": "2016-07-01",
                                    "MEDDIG": "2016-07-07",
                                    "fő": "1",
                                    "(No column name)": "NULL"
                                },
                                {
                                    "UGYFEL_FK": "katalin4",
                                    "NEV": "Kertész Katalin",
                                    "METTOL": "2016-07-03",
                                    "MEDDIG": "2016-07-04",
                                    "fő": "4",
                                    "(No column name)": "1"
                                },
                                {
                                    "UGYFEL_FK": "katalin4",
                                    "NEV": "Kertész Katalin",
                                    "METTOL": "2016-11-27",
                                    "MEDDIG": "2016-12-04",
                                    "fő": "3",
                                    "(No column name)": "5"
                                },
                                {
                                    "UGYFEL_FK": "katalin4",
                                    "NEV": "Kertész Katalin",
                                    "METTOL": "2016-12-04",
                                    "MEDDIG": "2016-12-09",
                                    "fő": "3",
                                    "(No column name)": "8"
                                },
                                {
                                    "UGYFEL_FK": "katalin4",
                                    "NEV": "Kertész Katalin",
                                    "METTOL": "2017-01-18",
                                    "MEDDIG": "2017-01-20",
                                    "fő": "2",
                                    "(No column name)": "10"
                                },
                                {
                                    "UGYFEL_FK": "katalin4",
                                    "NEV": "Kertész Katalin",
                                    "METTOL": "2017-01-24",
                                    "MEDDIG": "2017-01-31",
                                    "fő": "2",
                                    "(No column name)": "8"
                                },
                                {
                                    "UGYFEL_FK": "kati",
                                    "NEV": "Zatykó Katalin",
                                    "METTOL": "2016-07-13",
                                    "MEDDIG": "2016-07-20",
                                    "fő": "2",
                                    "(No column name)": "NULL"
                                },
                                {
                                    "UGYFEL_FK": "kati",
                                    "NEV": "Zatykó Katalin",
                                    "METTOL": "2016-07-27",
                                    "MEDDIG": "2016-08-03",
                                    "fő": "2",
                                    "(No column name)": "2"
                                },
                                {
                                    "UGYFEL_FK": "kati",
                                    "NEV": "Zatykó Katalin",
                                    "METTOL": "2016-08-03",
                                    "MEDDIG": "2016-08-07",
                                    "fő": "2",
                                    "(No column name)": "4"
                                },
                                {
                                    "UGYFEL_FK": "kati",
                                    "NEV": "Zatykó Katalin",
                                    "METTOL": "2016-06-06",
                                    "MEDDIG": "2016-06-10",
                                    "fő": "2",
                                    "(No column name)": "6"
                                },
                                {
                                    "UGYFEL_FK": "kati",
                                    "NEV": "Zatykó Katalin",
                                    "METTOL": "2016-06-06",
                                    "MEDDIG": "2016-06-11",
                                    "fő": "3",
                                    "(No column name)": "6"
                                },
                                {
                                    "UGYFEL_FK": "kati",
                                    "NEV": "Zatykó Katalin",
                                    "METTOL": "2016-10-26",
                                    "MEDDIG": "2016-10-28",
                                    "fő": "2",
                                    "(No column name)": "7"
                                },
                                {
                                    "UGYFEL_FK": "kati",
                                    "NEV": "Zatykó Katalin",
                                    "METTOL": "2016-10-30",
                                    "MEDDIG": "2016-11-01",
                                    "fő": "3",
                                    "(No column name)": "7"
                                },
                                {
                                    "UGYFEL_FK": "katka",
                                    "NEV": "Kovács Katalin",
                                    "METTOL": "2016-04-10",
                                    "MEDDIG": "2016-04-12",
                                    "fő": "2",
                                    "(No column name)": "NULL"
                                },
                                {
                                    "UGYFEL_FK": "katka",
                                    "NEV": "Kovács Katalin",
                                    "METTOL": "2016-05-09",
                                    "MEDDIG": "2016-05-15",
                                    "fő": "3",
                                    "(No column name)": "2"
                                },
                                {
                                    "UGYFEL_FK": "katka",
                                    "NEV": "Kovács Katalin",
                                    "METTOL": "2016-08-24",
                                    "MEDDIG": "2016-08-26",
                                    "fő": "2",
                                    "(No column name)": "5"
                                },
                                {
                                    "UGYFEL_FK": "katka",
                                    "NEV": "Kovács Katalin",
                                    "METTOL": "2016-06-13",
                                    "MEDDIG": "2016-06-18",
                                    "fő": "1",
                                    "(No column name)": "7"
                                },
                                {
                                    "UGYFEL_FK": "katka",
                                    "NEV": "Kovács Katalin",
                                    "METTOL": "2016-06-13",
                                    "MEDDIG": "2016-06-19",
                                    "fő": "4",
                                    "(No column name)": "6"
                                },
                                {
                                    "UGYFEL_FK": "katka",
                                    "NEV": "Kovács Katalin",
                                    "METTOL": "2016-09-05",
                                    "MEDDIG": "2016-09-10",
                                    "fő": "4",
                                    "(No column name)": "7"
                                },
                                {
                                    "UGYFEL_FK": "katka",
                                    "NEV": "Kovács Katalin",
                                    "METTOL": "2016-11-05",
                                    "MEDDIG": "2016-11-08",
                                    "fő": "3",
                                    "(No column name)": "9"
                                },
                                {
                                    "UGYFEL_FK": "katka",
                                    "NEV": "Kovács Katalin",
                                    "METTOL": "2017-01-02",
                                    "MEDDIG": "2017-01-05",
                                    "fő": "3",
                                    "(No column name)": "11"
                                },
                                {
                                    "UGYFEL_FK": "katka",
                                    "NEV": "Kovács Katalin",
                                    "METTOL": "2017-01-19",
                                    "MEDDIG": "2017-01-20",
                                    "fő": "3",
                                    "(No column name)": "10"
                                },
                                {
                                    "UGYFEL_FK": "klaudia2",
                                    "NEV": "Bakó Klaudia",
                                    "METTOL": "2016-06-06",
                                    "MEDDIG": "2016-06-08",
                                    "fő": "4",
                                    "(No column name)": "NULL"
                                },
                                {
                                    "UGYFEL_FK": "klaudia2",
                                    "NEV": "Bakó Klaudia",
                                    "METTOL": "2016-10-01",
                                    "MEDDIG": "2016-10-02",
                                    "fő": "2",
                                    "(No column name)": "4"
                                },
                                {
                                    "UGYFEL_FK": "klaudia2",
                                    "NEV": "Bakó Klaudia",
                                    "METTOL": "2016-10-02",
                                    "MEDDIG": "2016-10-05",
                                    "fő": "2",
                                    "(No column name)": "6"
                                },
                                {
                                    "UGYFEL_FK": "kornel4",
                                    "NEV": "Lukács Kornél",
                                    "METTOL": "2016-05-08",
                                    "MEDDIG": "2016-05-14",
                                    "fő": "3",
                                    "(No column name)": "NULL"
                                },
                                {
                                    "UGYFEL_FK": "kornel4",
                                    "NEV": "Lukács Kornél",
                                    "METTOL": "2016-06-02",
                                    "MEDDIG": "2016-06-09",
                                    "fő": "3",
                                    "(No column name)": "3"
                                },
                                {
                                    "UGYFEL_FK": "kornel4",
                                    "NEV": "Lukács Kornél",
                                    "METTOL": "2016-09-23",
                                    "MEDDIG": "2016-09-24",
                                    "fő": "3",
                                    "(No column name)": "6"
                                },
                                {
                                    "UGYFEL_FK": "kristof4",
                                    "NEV": "Poprádi Kristóf",
                                    "METTOL": "2016-04-08",
                                    "MEDDIG": "2016-04-14",
                                    "fő": "2",
                                    "(No column name)": "NULL"
                                },
                                {
                                    "UGYFEL_FK": "kristof4",
                                    "NEV": "Poprádi Kristóf",
                                    "METTOL": "2016-09-30",
                                    "MEDDIG": "2016-10-04",
                                    "fő": "2",
                                    "(No column name)": "2"
                                },
                                {
                                    "UGYFEL_FK": "kriszti",
                                    "NEV": "Horváth Krisztina",
                                    "METTOL": "2016-05-19",
                                    "MEDDIG": "2016-05-26",
                                    "fő": "2",
                                    "(No column name)": "NULL"
                                },
                                {
                                    "UGYFEL_FK": "kriszti",
                                    "NEV": "Horváth Krisztina",
                                    "METTOL": "2016-08-24",
                                    "MEDDIG": "2016-08-25",
                                    "fő": "3",
                                    "(No column name)": "2"
                                },
                                {
                                    "UGYFEL_FK": "kriszti",
                                    "NEV": "Horváth Krisztina",
                                    "METTOL": "2016-09-30",
                                    "MEDDIG": "2016-10-05",
                                    "fő": "3",
                                    "(No column name)": "5"
                                },
                                {
                                    "UGYFEL_FK": "kriszti",
                                    "NEV": "Horváth Krisztina",
                                    "METTOL": "2016-10-01",
                                    "MEDDIG": "2016-10-02",
                                    "fő": "3",
                                    "(No column name)": "8"
                                },
                                {
                                    "UGYFEL_FK": "kriszti",
                                    "NEV": "Horváth Krisztina",
                                    "METTOL": "2017-02-04",
                                    "MEDDIG": "2017-02-11",
                                    "fő": "3",
                                    "(No column name)": "9"
                                },
                                {
                                    "UGYFEL_FK": "kriszti",
                                    "NEV": "Horváth Krisztina",
                                    "METTOL": "2017-03-03",
                                    "MEDDIG": "2017-03-04",
                                    "fő": "3",
                                    "(No column name)": "9"
                                },
                                {
                                    "UGYFEL_FK": "krisztian4",
                                    "NEV": "Czérna Krisztián",
                                    "METTOL": "2016-07-28",
                                    "MEDDIG": "2016-08-01",
                                    "fő": "2",
                                    "(No column name)": "NULL"
                                },
                                {
                                    "UGYFEL_FK": "krisztian4",
                                    "NEV": "Czérna Krisztián",
                                    "METTOL": "2016-08-01",
                                    "MEDDIG": "2016-08-04",
                                    "fő": "3",
                                    "(No column name)": "2"
                                },
                                {
                                    "UGYFEL_FK": "krisztian4",
                                    "NEV": "Czérna Krisztián",
                                    "METTOL": "2016-08-16",
                                    "MEDDIG": "2016-08-19",
                                    "fő": "1",
                                    "(No column name)": "5"
                                },
                                {
                                    "UGYFEL_FK": "krisztian4",
                                    "NEV": "Czérna Krisztián",
                                    "METTOL": "2016-08-29",
                                    "MEDDIG": "2016-09-03",
                                    "fő": "1",
                                    "(No column name)": "6"
                                },
                                {
                                    "UGYFEL_FK": "krisztian4",
                                    "NEV": "Czérna Krisztián",
                                    "METTOL": "2016-06-03",
                                    "MEDDIG": "2016-06-04",
                                    "fő": "2",
                                    "(No column name)": "5"
                                },
                                {
                                    "UGYFEL_FK": "krisztian4",
                                    "NEV": "Czérna Krisztián",
                                    "METTOL": "2016-06-07",
                                    "MEDDIG": "2016-06-09",
                                    "fő": "2",
                                    "(No column name)": "4"
                                },
                                {
                                    "UGYFEL_FK": "krisztian4",
                                    "NEV": "Czérna Krisztián",
                                    "METTOL": "2016-10-17",
                                    "MEDDIG": "2016-10-22",
                                    "fő": "3",
                                    "(No column name)": "5"
                                },
                                {
                                    "UGYFEL_FK": "krisztian4",
                                    "NEV": "Czérna Krisztián",
                                    "METTOL": "2016-11-02",
                                    "MEDDIG": "2016-11-03",
                                    "fő": "2",
                                    "(No column name)": "7"
                                },
                                {
                                    "UGYFEL_FK": "krisztian4",
                                    "NEV": "Czérna Krisztián",
                                    "METTOL": "2016-12-11",
                                    "MEDDIG": "2016-12-18",
                                    "fő": "2",
                                    "(No column name)": "7"
                                },
                                {
                                    "UGYFEL_FK": "krisztian4",
                                    "NEV": "Czérna Krisztián",
                                    "METTOL": "2017-01-06",
                                    "MEDDIG": "2017-01-09",
                                    "fő": "1",
                                    "(No column name)": "7"
                                },
                                {
                                    "UGYFEL_FK": "krisztian4",
                                    "NEV": "Czérna Krisztián",
                                    "METTOL": "2017-01-16",
                                    "MEDDIG": "2017-01-23",
                                    "fő": "3",
                                    "(No column name)": "5"
                                },
                                {
                                    "UGYFEL_FK": "krisztian4",
                                    "NEV": "Czérna Krisztián",
                                    "METTOL": "2017-02-23",
                                    "MEDDIG": "2017-03-02",
                                    "fő": "2",
                                    "(No column name)": "6"
                                },
                                {
                                    "UGYFEL_FK": "KRISZTIANM",
                                    "NEV": "Mogyródi Krisztián",
                                    "METTOL": "2016-04-09",
                                    "MEDDIG": "2016-04-15",
                                    "fő": "2",
                                    "(No column name)": "NULL"
                                },
                                {
                                    "UGYFEL_FK": "KRISZTIANM",
                                    "NEV": "Mogyródi Krisztián",
                                    "METTOL": "2016-08-02",
                                    "MEDDIG": "2016-08-08",
                                    "fő": "4",
                                    "(No column name)": "2"
                                },
                                {
                                    "UGYFEL_FK": "KRISZTIANM",
                                    "NEV": "Mogyródi Krisztián",
                                    "METTOL": "2016-06-04",
                                    "MEDDIG": "2016-06-08",
                                    "fő": "2",
                                    "(No column name)": "6"
                                },
                                {
                                    "UGYFEL_FK": "KRISZTIANM",
                                    "NEV": "Mogyródi Krisztián",
                                    "METTOL": "2016-07-09",
                                    "MEDDIG": "2016-07-14",
                                    "fő": "3",
                                    "(No column name)": "8"
                                },
                                {
                                    "UGYFEL_FK": "KRISZTIANM",
                                    "NEV": "Mogyródi Krisztián",
                                    "METTOL": "2016-12-25",
                                    "MEDDIG": "2016-12-31",
                                    "fő": "2",
                                    "(No column name)": "9"
                                },
                                {
                                    "UGYFEL_FK": "KRISZTIANM",
                                    "NEV": "Mogyródi Krisztián",
                                    "METTOL": "2017-01-16",
                                    "MEDDIG": "2017-01-23",
                                    "fő": "1",
                                    "(No column name)": "7"
                                },
                                {
                                    "UGYFEL_FK": "krisztina",
                                    "NEV": "Szedlár Krisztina",
                                    "METTOL": "2016-05-21",
                                    "MEDDIG": "2016-05-27",
                                    "fő": "2",
                                    "(No column name)": "NULL"
                                },
                                {
                                    "UGYFEL_FK": "krisztina",
                                    "NEV": "Szedlár Krisztina",
                                    "METTOL": "2016-07-05",
                                    "MEDDIG": "2016-07-12",
                                    "fő": "3",
                                    "(No column name)": "2"
                                },
                                {
                                    "UGYFEL_FK": "krisztina",
                                    "NEV": "Szedlár Krisztina",
                                    "METTOL": "2016-09-13",
                                    "MEDDIG": "2016-09-16",
                                    "fő": "1",
                                    "(No column name)": "5"
                                },
                                {
                                    "UGYFEL_FK": "krisztina",
                                    "NEV": "Szedlár Krisztina",
                                    "METTOL": "2016-09-19",
                                    "MEDDIG": "2016-09-26",
                                    "fő": "2",
                                    "(No column name)": "6"
                                },
                                {
                                    "UGYFEL_FK": "krisztina",
                                    "NEV": "Szedlár Krisztina",
                                    "METTOL": "2016-11-08",
                                    "MEDDIG": "2016-11-12",
                                    "fő": "2",
                                    "(No column name)": "6"
                                },
                                {
                                    "UGYFEL_FK": "krisztina",
                                    "NEV": "Szedlár Krisztina",
                                    "METTOL": "2016-11-22",
                                    "MEDDIG": "2016-11-25",
                                    "fő": "1",
                                    "(No column name)": "5"
                                },
                                {
                                    "UGYFEL_FK": "krisztina",
                                    "NEV": "Szedlár Krisztina",
                                    "METTOL": "2017-02-05",
                                    "MEDDIG": "2017-02-07",
                                    "fő": "2",
                                    "(No column name)": "5"
                                },
                                {
                                    "UGYFEL_FK": "krisztina",
                                    "NEV": "Szedlár Krisztina",
                                    "METTOL": "2017-02-16",
                                    "MEDDIG": "2017-02-20",
                                    "fő": "4",
                                    "(No column name)": "5"
                                },
                                {
                                    "UGYFEL_FK": "krisztina1",
                                    "NEV": "Bori Krisztina",
                                    "METTOL": "2016-04-28",
                                    "MEDDIG": "2016-04-30",
                                    "fő": "2",
                                    "(No column name)": "NULL"
                                },
                                {
                                    "UGYFEL_FK": "krisztina1",
                                    "NEV": "Bori Krisztina",
                                    "METTOL": "2016-05-16",
                                    "MEDDIG": "2016-05-20",
                                    "fő": "1",
                                    "(No column name)": "2"
                                },
                                {
                                    "UGYFEL_FK": "krisztina1",
                                    "NEV": "Bori Krisztina",
                                    "METTOL": "2016-06-16",
                                    "MEDDIG": "2016-06-22",
                                    "fő": "2",
                                    "(No column name)": "3"
                                },
                                {
                                    "UGYFEL_FK": "krisztina1",
                                    "NEV": "Bori Krisztina",
                                    "METTOL": "2016-09-15",
                                    "MEDDIG": "2016-09-20",
                                    "fő": "3",
                                    "(No column name)": "5"
                                },
                                {
                                    "UGYFEL_FK": "krisztina1",
                                    "NEV": "Bori Krisztina",
                                    "METTOL": "2016-10-29",
                                    "MEDDIG": "2016-10-30",
                                    "fő": "4",
                                    "(No column name)": "6"
                                },
                                {
                                    "UGYFEL_FK": "krisztina1",
                                    "NEV": "Bori Krisztina",
                                    "METTOL": "2017-01-21",
                                    "MEDDIG": "2017-01-24",
                                    "fő": "2",
                                    "(No column name)": "9"
                                },
                                {
                                    "UGYFEL_FK": "KRISZTINAG",
                                    "NEV": "Gyárfás Krisztina",
                                    "METTOL": "2016-04-23",
                                    "MEDDIG": "2016-04-24",
                                    "fő": "2",
                                    "(No column name)": "NULL"
                                },
                                {
                                    "UGYFEL_FK": "KRISZTINAG",
                                    "NEV": "Gyárfás Krisztina",
                                    "METTOL": "2016-08-08",
                                    "MEDDIG": "2016-08-12",
                                    "fő": "3",
                                    "(No column name)": "2"
                                },
                                {
                                    "UGYFEL_FK": "KRISZTINAG",
                                    "NEV": "Gyárfás Krisztina",
                                    "METTOL": "2016-05-24",
                                    "MEDDIG": "2016-05-31",
                                    "fő": "1",
                                    "(No column name)": "5"
                                },
                                {
                                    "UGYFEL_FK": "KRISZTINAG",
                                    "NEV": "Gyárfás Krisztina",
                                    "METTOL": "2016-06-08",
                                    "MEDDIG": "2016-06-12",
                                    "fő": "1",
                                    "(No column name)": "6"
                                },
                                {
                                    "UGYFEL_FK": "KRISZTINAG",
                                    "NEV": "Gyárfás Krisztina",
                                    "METTOL": "2017-01-25",
                                    "MEDDIG": "2017-01-30",
                                    "fő": "2",
                                    "(No column name)": "5"
                                },
                                {
                                    "UGYFEL_FK": "lajos",
                                    "NEV": "Kiss Lajos",
                                    "METTOL": "2016-07-18",
                                    "MEDDIG": "2016-07-21",
                                    "fő": "2",
                                    "(No column name)": "NULL"
                                },
                                {
                                    "UGYFEL_FK": "lajos",
                                    "NEV": "Kiss Lajos",
                                    "METTOL": "2016-12-25",
                                    "MEDDIG": "2016-12-28",
                                    "fő": "4",
                                    "(No column name)": "2"
                                },
                                {
                                    "UGYFEL_FK": "lajos",
                                    "NEV": "Kiss Lajos",
                                    "METTOL": "2017-02-12",
                                    "MEDDIG": "2017-02-13",
                                    "fő": "1",
                                    "(No column name)": "6"
                                },
                                {
                                    "UGYFEL_FK": "lala",
                                    "NEV": "Nagymihály Lajos",
                                    "METTOL": "2016-07-20",
                                    "MEDDIG": "2016-07-21",
                                    "fő": "3",
                                    "(No column name)": "NULL"
                                },
                                {
                                    "UGYFEL_FK": "lala",
                                    "NEV": "Nagymihály Lajos",
                                    "METTOL": "2016-07-26",
                                    "MEDDIG": "2016-07-27",
                                    "fő": "3",
                                    "(No column name)": "3"
                                },
                                {
                                    "UGYFEL_FK": "lala",
                                    "NEV": "Nagymihály Lajos",
                                    "METTOL": "2016-06-16",
                                    "MEDDIG": "2016-06-22",
                                    "fő": "2",
                                    "(No column name)": "6"
                                },
                                {
                                    "UGYFEL_FK": "lala",
                                    "NEV": "Nagymihály Lajos",
                                    "METTOL": "2016-10-30",
                                    "MEDDIG": "2016-10-31",
                                    "fő": "3",
                                    "(No column name)": "8"
                                },
                                {
                                    "UGYFEL_FK": "lala",
                                    "NEV": "Nagymihály Lajos",
                                    "METTOL": "2017-01-08",
                                    "MEDDIG": "2017-01-10",
                                    "fő": "3",
                                    "(No column name)": "8"
                                },
                                {
                                    "UGYFEL_FK": "lala",
                                    "NEV": "Nagymihály Lajos",
                                    "METTOL": "2017-01-17",
                                    "MEDDIG": "2017-01-19",
                                    "fő": "2",
                                    "(No column name)": "8"
                                },
                                {
                                    "UGYFEL_FK": "laszlo1",
                                    "NEV": "Farkas László",
                                    "METTOL": "2016-09-23",
                                    "MEDDIG": "2016-09-30",
                                    "fő": "3",
                                    "(No column name)": "NULL"
                                },
                                {
                                    "UGYFEL_FK": "laszlo2",
                                    "NEV": "Móra László",
                                    "METTOL": "2016-04-06",
                                    "MEDDIG": "2016-04-10",
                                    "fő": "2",
                                    "(No column name)": "NULL"
                                },
                                {
                                    "UGYFEL_FK": "laszlo2",
                                    "NEV": "Móra László",
                                    "METTOL": "2016-04-27",
                                    "MEDDIG": "2016-04-29",
                                    "fő": "2",
                                    "(No column name)": "2"
                                },
                                {
                                    "UGYFEL_FK": "laszlo2",
                                    "NEV": "Móra László",
                                    "METTOL": "2016-08-14",
                                    "MEDDIG": "2016-08-15",
                                    "fő": "3",
                                    "(No column name)": "4"
                                },
                                {
                                    "UGYFEL_FK": "laszlo2",
                                    "NEV": "Móra László",
                                    "METTOL": "2016-09-05",
                                    "MEDDIG": "2016-09-10",
                                    "fő": "3",
                                    "(No column name)": "7"
                                },
                                {
                                    "UGYFEL_FK": "laszlo2",
                                    "NEV": "Móra László",
                                    "METTOL": "2016-11-25",
                                    "MEDDIG": "2016-11-26",
                                    "fő": "3",
                                    "(No column name)": "8"
                                },
                                {
                                    "UGYFEL_FK": "LASZLOA",
                                    "NEV": "Antal László",
                                    "METTOL": "2016-06-03",
                                    "MEDDIG": "2016-06-09",
                                    "fő": "2",
                                    "(No column name)": "NULL"
                                },
                                {
                                    "UGYFEL_FK": "LASZLOA",
                                    "NEV": "Antal László",
                                    "METTOL": "2016-06-07",
                                    "MEDDIG": "2016-06-11",
                                    "fő": "1",
                                    "(No column name)": "2"
                                },
                                {
                                    "UGYFEL_FK": "LASZLOA",
                                    "NEV": "Antal László",
                                    "METTOL": "2016-06-10",
                                    "MEDDIG": "2016-06-13",
                                    "fő": "3",
                                    "(No column name)": "3"
                                },
                                {
                                    "UGYFEL_FK": "LASZLOA",
                                    "NEV": "Antal László",
                                    "METTOL": "2017-02-08",
                                    "MEDDIG": "2017-02-14",
                                    "fő": "2",
                                    "(No column name)": "6"
                                },
                                {
                                    "UGYFEL_FK": "LASZLON",
                                    "NEV": "Nagy László",
                                    "METTOL": "2016-06-03",
                                    "MEDDIG": "2016-06-06",
                                    "fő": "1",
                                    "(No column name)": "NULL"
                                },
                                {
                                    "UGYFEL_FK": "LASZLON",
                                    "NEV": "Nagy László",
                                    "METTOL": "2016-06-08",
                                    "MEDDIG": "2016-06-09",
                                    "fő": "2",
                                    "(No column name)": "1"
                                },
                                {
                                    "UGYFEL_FK": "LASZLON",
                                    "NEV": "Nagy László",
                                    "METTOL": "2016-10-01",
                                    "MEDDIG": "2016-10-04",
                                    "fő": "3",
                                    "(No column name)": "3"
                                },
                                {
                                    "UGYFEL_FK": "LASZLON",
                                    "NEV": "Nagy László",
                                    "METTOL": "2016-10-09",
                                    "MEDDIG": "2016-10-14",
                                    "fő": "1",
                                    "(No column name)": "6"
                                },
                                {
                                    "UGYFEL_FK": "LASZLON",
                                    "NEV": "Nagy László",
                                    "METTOL": "2016-11-29",
                                    "MEDDIG": "2016-12-04",
                                    "fő": "1",
                                    "(No column name)": "6"
                                },
                                {
                                    "UGYFEL_FK": "LASZLON",
                                    "NEV": "Nagy László",
                                    "METTOL": "2017-02-18",
                                    "MEDDIG": "2017-02-25",
                                    "fő": "3",
                                    "(No column name)": "5"
                                },
                                {
                                    "UGYFEL_FK": "maria1",
                                    "NEV": "Baráth Mária",
                                    "METTOL": "2016-05-13",
                                    "MEDDIG": "2016-05-18",
                                    "fő": "2",
                                    "(No column name)": "NULL"
                                },
                                {
                                    "UGYFEL_FK": "maria1",
                                    "NEV": "Baráth Mária",
                                    "METTOL": "2016-05-18",
                                    "MEDDIG": "2016-05-19",
                                    "fő": "1",
                                    "(No column name)": "2"
                                },
                                {
                                    "UGYFEL_FK": "maria1",
                                    "NEV": "Baráth Mária",
                                    "METTOL": "2016-08-11",
                                    "MEDDIG": "2016-08-14",
                                    "fő": "3",
                                    "(No column name)": "3"
                                },
                                {
                                    "UGYFEL_FK": "maria1",
                                    "NEV": "Baráth Mária",
                                    "METTOL": "2016-09-02",
                                    "MEDDIG": "2016-09-05",
                                    "fő": "1",
                                    "(No column name)": "6"
                                },
                                {
                                    "UGYFEL_FK": "maria1",
                                    "NEV": "Baráth Mária",
                                    "METTOL": "2016-05-28",
                                    "MEDDIG": "2016-06-03",
                                    "fő": "2",
                                    "(No column name)": "5"
                                },
                                {
                                    "UGYFEL_FK": "maria1",
                                    "NEV": "Baráth Mária",
                                    "METTOL": "2016-06-23",
                                    "MEDDIG": "2016-06-27",
                                    "fő": "1",
                                    "(No column name)": "6"
                                },
                                {
                                    "UGYFEL_FK": "maria1",
                                    "NEV": "Baráth Mária",
                                    "METTOL": "2016-11-08",
                                    "MEDDIG": "2016-11-12",
                                    "fő": "3",
                                    "(No column name)": "4"
                                },
                                {
                                    "UGYFEL_FK": "maria1",
                                    "NEV": "Baráth Mária",
                                    "METTOL": "2017-02-24",
                                    "MEDDIG": "2017-03-02",
                                    "fő": "2",
                                    "(No column name)": "6"
                                },
                                {
                                    "UGYFEL_FK": "mark",
                                    "NEV": "Kispál Márk",
                                    "METTOL": "2016-04-19",
                                    "MEDDIG": "2016-04-26",
                                    "fő": "4",
                                    "(No column name)": "NULL"
                                },
                                {
                                    "UGYFEL_FK": "mark",
                                    "NEV": "Kispál Márk",
                                    "METTOL": "2016-08-09",
                                    "MEDDIG": "2016-08-16",
                                    "fő": "3",
                                    "(No column name)": "4"
                                },
                                {
                                    "UGYFEL_FK": "mark",
                                    "NEV": "Kispál Márk",
                                    "METTOL": "2016-06-13",
                                    "MEDDIG": "2016-06-18",
                                    "fő": "3",
                                    "(No column name)": "7"
                                },
                                {
                                    "UGYFEL_FK": "mark",
                                    "NEV": "Kispál Márk",
                                    "METTOL": "2016-10-20",
                                    "MEDDIG": "2016-10-27",
                                    "fő": "1",
                                    "(No column name)": "10"
                                },
                                {
                                    "UGYFEL_FK": "mark",
                                    "NEV": "Kispál Márk",
                                    "METTOL": "2016-11-19",
                                    "MEDDIG": "2016-11-22",
                                    "fő": "2",
                                    "(No column name)": "7"
                                },
                                {
                                    "UGYFEL_FK": "MARKH",
                                    "NEV": "Horváth Márk",
                                    "METTOL": "2016-09-14",
                                    "MEDDIG": "2016-09-17",
                                    "fő": "3",
                                    "(No column name)": "NULL"
                                },
                                {
                                    "UGYFEL_FK": "MARKH",
                                    "NEV": "Horváth Márk",
                                    "METTOL": "2016-09-23",
                                    "MEDDIG": "2016-09-30",
                                    "fő": "2",
                                    "(No column name)": "3"
                                },
                                {
                                    "UGYFEL_FK": "MARKH",
                                    "NEV": "Horváth Márk",
                                    "METTOL": "2016-09-26",
                                    "MEDDIG": "2016-10-01",
                                    "fő": "4",
                                    "(No column name)": "5"
                                },
                                {
                                    "UGYFEL_FK": "MARKH",
                                    "NEV": "Horváth Márk",
                                    "METTOL": "2017-01-22",
                                    "MEDDIG": "2017-01-29",
                                    "fő": "4",
                                    "(No column name)": "9"
                                },
                                {
                                    "UGYFEL_FK": "marton",
                                    "NEV": "Kalacsi Márton",
                                    "METTOL": "2016-04-27",
                                    "MEDDIG": "2016-05-04",
                                    "fő": "3",
                                    "(No column name)": "NULL"
                                },
                                {
                                    "UGYFEL_FK": "marton",
                                    "NEV": "Kalacsi Márton",
                                    "METTOL": "2016-05-05",
                                    "MEDDIG": "2016-05-10",
                                    "fő": "1",
                                    "(No column name)": "3"
                                },
                                {
                                    "UGYFEL_FK": "marton",
                                    "NEV": "Kalacsi Márton",
                                    "METTOL": "2016-08-12",
                                    "MEDDIG": "2016-08-17",
                                    "fő": "2",
                                    "(No column name)": "4"
                                },
                                {
                                    "UGYFEL_FK": "marton",
                                    "NEV": "Kalacsi Márton",
                                    "METTOL": "2016-06-06",
                                    "MEDDIG": "2016-06-08",
                                    "fő": "3",
                                    "(No column name)": "6"
                                },
                                {
                                    "UGYFEL_FK": "marton",
                                    "NEV": "Kalacsi Márton",
                                    "METTOL": "2016-06-22",
                                    "MEDDIG": "2016-06-29",
                                    "fő": "2",
                                    "(No column name)": "6"
                                },
                                {
                                    "UGYFEL_FK": "marton",
                                    "NEV": "Kalacsi Márton",
                                    "METTOL": "2016-09-10",
                                    "MEDDIG": "2016-09-12",
                                    "fő": "2",
                                    "(No column name)": "7"
                                },
                                {
                                    "UGYFEL_FK": "marton",
                                    "NEV": "Kalacsi Márton",
                                    "METTOL": "2017-03-02",
                                    "MEDDIG": "2017-03-03",
                                    "fő": "2",
                                    "(No column name)": "7"
                                },
                                {
                                    "UGYFEL_FK": "MATEK",
                                    "NEV": "Koza Máté",
                                    "METTOL": "2016-08-17",
                                    "MEDDIG": "2016-08-21",
                                    "fő": "4",
                                    "(No column name)": "NULL"
                                },
                                {
                                    "UGYFEL_FK": "MATEK",
                                    "NEV": "Koza Máté",
                                    "METTOL": "2016-10-01",
                                    "MEDDIG": "2016-10-04",
                                    "fő": "2",
                                    "(No column name)": "4"
                                },
                                {
                                    "UGYFEL_FK": "MATEK",
                                    "NEV": "Koza Máté",
                                    "METTOL": "2017-01-16",
                                    "MEDDIG": "2017-01-22",
                                    "fő": "2",
                                    "(No column name)": "6"
                                },
                                {
                                    "UGYFEL_FK": "matyas2",
                                    "NEV": "Botka Mátyás",
                                    "METTOL": "2016-07-13",
                                    "MEDDIG": "2016-07-16",
                                    "fő": "2",
                                    "(No column name)": "NULL"
                                },
                                {
                                    "UGYFEL_FK": "matyas2",
                                    "NEV": "Botka Mátyás",
                                    "METTOL": "2016-12-09",
                                    "MEDDIG": "2016-12-13",
                                    "fő": "3",
                                    "(No column name)": "2"
                                },
                                {
                                    "UGYFEL_FK": "MATYASS",
                                    "NEV": "Szilágyi Mátyás",
                                    "METTOL": "2016-05-10",
                                    "MEDDIG": "2016-05-16",
                                    "fő": "2",
                                    "(No column name)": "NULL"
                                },
                                {
                                    "UGYFEL_FK": "MATYASS",
                                    "NEV": "Szilágyi Mátyás",
                                    "METTOL": "2016-07-23",
                                    "MEDDIG": "2016-07-25",
                                    "fő": "3",
                                    "(No column name)": "2"
                                },
                                {
                                    "UGYFEL_FK": "MATYASS",
                                    "NEV": "Szilágyi Mátyás",
                                    "METTOL": "2016-06-02",
                                    "MEDDIG": "2016-06-08",
                                    "fő": "1",
                                    "(No column name)": "5"
                                },
                                {
                                    "UGYFEL_FK": "MATYASS",
                                    "NEV": "Szilágyi Mátyás",
                                    "METTOL": "2016-10-09",
                                    "MEDDIG": "2016-10-15",
                                    "fő": "3",
                                    "(No column name)": "6"
                                },
                                {
                                    "UGYFEL_FK": "MATYASS",
                                    "NEV": "Szilágyi Mátyás",
                                    "METTOL": "2016-10-24",
                                    "MEDDIG": "2016-10-31",
                                    "fő": "1",
                                    "(No column name)": "7"
                                },
                                {
                                    "UGYFEL_FK": "MATYASS",
                                    "NEV": "Szilágyi Mátyás",
                                    "METTOL": "2016-10-30",
                                    "MEDDIG": "2016-11-04",
                                    "fő": "3",
                                    "(No column name)": "5"
                                },
                                {
                                    "UGYFEL_FK": "MATYASS",
                                    "NEV": "Szilágyi Mátyás",
                                    "METTOL": "2016-12-20",
                                    "MEDDIG": "2016-12-25",
                                    "fő": "2",
                                    "(No column name)": "7"
                                },
                                {
                                    "UGYFEL_FK": "MATYASS",
                                    "NEV": "Szilágyi Mátyás",
                                    "METTOL": "2017-01-09",
                                    "MEDDIG": "2017-01-13",
                                    "fő": "2",
                                    "(No column name)": "6"
                                },
                                {
                                    "UGYFEL_FK": "MIHALYJ",
                                    "NEV": "Juhász Mihály",
                                    "METTOL": "2016-08-29",
                                    "MEDDIG": "2016-09-03",
                                    "fő": "1",
                                    "(No column name)": "NULL"
                                },
                                {
                                    "UGYFEL_FK": "MIHALYJ",
                                    "NEV": "Juhász Mihály",
                                    "METTOL": "2016-05-30",
                                    "MEDDIG": "2016-06-01",
                                    "fő": "2",
                                    "(No column name)": "1"
                                },
                                {
                                    "UGYFEL_FK": "MIHALYJ",
                                    "NEV": "Juhász Mihály",
                                    "METTOL": "2016-06-27",
                                    "MEDDIG": "2016-07-01",
                                    "fő": "1",
                                    "(No column name)": "3"
                                },
                                {
                                    "UGYFEL_FK": "MIHALYJ",
                                    "NEV": "Juhász Mihály",
                                    "METTOL": "2016-11-01",
                                    "MEDDIG": "2016-11-04",
                                    "fő": "3",
                                    "(No column name)": "4"
                                },
                                {
                                    "UGYFEL_FK": "MIHALYJ",
                                    "NEV": "Juhász Mihály",
                                    "METTOL": "2017-02-06",
                                    "MEDDIG": "2017-02-12",
                                    "fő": "4",
                                    "(No column name)": "6"
                                },
                                {
                                    "UGYFEL_FK": "miklos2",
                                    "NEV": "Gondos Miklós",
                                    "METTOL": "2016-04-19",
                                    "MEDDIG": "2016-04-21",
                                    "fő": "3",
                                    "(No column name)": "NULL"
                                },
                                {
                                    "UGYFEL_FK": "miklos2",
                                    "NEV": "Gondos Miklós",
                                    "METTOL": "2016-10-08",
                                    "MEDDIG": "2016-10-09",
                                    "fő": "1",
                                    "(No column name)": "3"
                                },
                                {
                                    "UGYFEL_FK": "miklos2",
                                    "NEV": "Gondos Miklós",
                                    "METTOL": "2016-11-16",
                                    "MEDDIG": "2016-11-18",
                                    "fő": "3",
                                    "(No column name)": "4"
                                },
                                {
                                    "UGYFEL_FK": "MIKLOSB",
                                    "NEV": "Balla Miklós",
                                    "METTOL": "2016-07-18",
                                    "MEDDIG": "2016-07-21",
                                    "fő": "2",
                                    "(No column name)": "NULL"
                                },
                                {
                                    "UGYFEL_FK": "MIKLOSB",
                                    "NEV": "Balla Miklós",
                                    "METTOL": "2016-06-26",
                                    "MEDDIG": "2016-06-30",
                                    "fő": "2",
                                    "(No column name)": "2"
                                },
                                {
                                    "UGYFEL_FK": "MIKLOSB",
                                    "NEV": "Balla Miklós",
                                    "METTOL": "2016-12-05",
                                    "MEDDIG": "2016-12-10",
                                    "fő": "2",
                                    "(No column name)": "4"
                                },
                                {
                                    "UGYFEL_FK": "MONIKAM",
                                    "NEV": "Mohos Mónika",
                                    "METTOL": "2016-04-29",
                                    "MEDDIG": "2016-05-01",
                                    "fő": "2",
                                    "(No column name)": "NULL"
                                },
                                {
                                    "UGYFEL_FK": "MONIKAM",
                                    "NEV": "Mohos Mónika",
                                    "METTOL": "2016-07-23",
                                    "MEDDIG": "2016-07-30",
                                    "fő": "1",
                                    "(No column name)": "2"
                                },
                                {
                                    "UGYFEL_FK": "MONIKAM",
                                    "NEV": "Mohos Mónika",
                                    "METTOL": "2016-11-09",
                                    "MEDDIG": "2016-11-16",
                                    "fő": "2",
                                    "(No column name)": "3"
                                },
                                {
                                    "UGYFEL_FK": "MONIKAM",
                                    "NEV": "Mohos Mónika",
                                    "METTOL": "2017-01-17",
                                    "MEDDIG": "2017-01-24",
                                    "fő": "1",
                                    "(No column name)": "5"
                                },
                                {
                                    "UGYFEL_FK": "MONIKAM",
                                    "NEV": "Mohos Mónika",
                                    "METTOL": "2017-02-06",
                                    "MEDDIG": "2017-02-09",
                                    "fő": "2",
                                    "(No column name)": "4"
                                },
                                {
                                    "UGYFEL_FK": "MONIKAM",
                                    "NEV": "Mohos Mónika",
                                    "METTOL": "2017-02-23",
                                    "MEDDIG": "2017-02-26",
                                    "fő": "2",
                                    "(No column name)": "5"
                                },
                                {
                                    "UGYFEL_FK": "NANDORF",
                                    "NEV": "Fő Nándor",
                                    "METTOL": "2016-04-06",
                                    "MEDDIG": "2016-04-10",
                                    "fő": "3",
                                    "(No column name)": "NULL"
                                },
                                {
                                    "UGYFEL_FK": "NANDORF",
                                    "NEV": "Fő Nándor",
                                    "METTOL": "2016-11-03",
                                    "MEDDIG": "2016-11-04",
                                    "fő": "3",
                                    "(No column name)": "3"
                                },
                                {
                                    "UGYFEL_FK": "NANDORF",
                                    "NEV": "Fő Nándor",
                                    "METTOL": "2017-02-05",
                                    "MEDDIG": "2017-02-08",
                                    "fő": "3",
                                    "(No column name)": "6"
                                },
                                {
                                    "UGYFEL_FK": "nikolett3",
                                    "NEV": "Horváth Nikolett",
                                    "METTOL": "2016-05-24",
                                    "MEDDIG": "2016-05-29",
                                    "fő": "2",
                                    "(No column name)": "NULL"
                                },
                                {
                                    "UGYFEL_FK": "nikolett3",
                                    "NEV": "Horváth Nikolett",
                                    "METTOL": "2016-06-03",
                                    "MEDDIG": "2016-06-09",
                                    "fő": "1",
                                    "(No column name)": "2"
                                },
                                {
                                    "UGYFEL_FK": "nikolett3",
                                    "NEV": "Horváth Nikolett",
                                    "METTOL": "2016-06-22",
                                    "MEDDIG": "2016-06-24",
                                    "fő": "1",
                                    "(No column name)": "3"
                                },
                                {
                                    "UGYFEL_FK": "nikolett3",
                                    "NEV": "Horváth Nikolett",
                                    "METTOL": "2016-10-22",
                                    "MEDDIG": "2016-10-29",
                                    "fő": "3",
                                    "(No column name)": "4"
                                },
                                {
                                    "UGYFEL_FK": "nikoletta4",
                                    "NEV": "Kő Nikoletta",
                                    "METTOL": "2016-04-08",
                                    "MEDDIG": "2016-04-10",
                                    "fő": "2",
                                    "(No column name)": "NULL"
                                },
                                {
                                    "UGYFEL_FK": "nikoletta4",
                                    "NEV": "Kő Nikoletta",
                                    "METTOL": "2016-05-09",
                                    "MEDDIG": "2016-05-15",
                                    "fő": "2",
                                    "(No column name)": "2"
                                },
                                {
                                    "UGYFEL_FK": "nikoletta4",
                                    "NEV": "Kő Nikoletta",
                                    "METTOL": "2016-08-13",
                                    "MEDDIG": "2016-08-17",
                                    "fő": "3",
                                    "(No column name)": "4"
                                },
                                {
                                    "UGYFEL_FK": "nikoletta4",
                                    "NEV": "Kő Nikoletta",
                                    "METTOL": "2016-05-30",
                                    "MEDDIG": "2016-06-03",
                                    "fő": "3",
                                    "(No column name)": "7"
                                },
                                {
                                    "UGYFEL_FK": "nikoletta4",
                                    "NEV": "Kő Nikoletta",
                                    "METTOL": "2016-06-29",
                                    "MEDDIG": "2016-07-06",
                                    "fő": "2",
                                    "(No column name)": "8"
                                },
                                {
                                    "UGYFEL_FK": "nikoletta4",
                                    "NEV": "Kő Nikoletta",
                                    "METTOL": "2016-12-08",
                                    "MEDDIG": "2016-12-10",
                                    "fő": "5",
                                    "(No column name)": "8"
                                },
                                {
                                    "UGYFEL_FK": "nikoletta4",
                                    "NEV": "Kő Nikoletta",
                                    "METTOL": "2017-02-01",
                                    "MEDDIG": "2017-02-04",
                                    "fő": "2",
                                    "(No column name)": "10"
                                },
                                {
                                    "UGYFEL_FK": "NIKOLETTAT",
                                    "NEV": "Tatár Nikoletta",
                                    "METTOL": "2016-05-22",
                                    "MEDDIG": "2016-05-23",
                                    "fő": "4",
                                    "(No column name)": "NULL"
                                },
                                {
                                    "UGYFEL_FK": "NIKOLETTAT",
                                    "NEV": "Tatár Nikoletta",
                                    "METTOL": "2016-07-27",
                                    "MEDDIG": "2016-07-29",
                                    "fő": "4",
                                    "(No column name)": "4"
                                },
                                {
                                    "UGYFEL_FK": "NIKOLETTAT",
                                    "NEV": "Tatár Nikoletta",
                                    "METTOL": "2016-06-07",
                                    "MEDDIG": "2016-06-09",
                                    "fő": "2",
                                    "(No column name)": "8"
                                },
                                {
                                    "UGYFEL_FK": "NIKOLETTAT",
                                    "NEV": "Tatár Nikoletta",
                                    "METTOL": "2016-09-21",
                                    "MEDDIG": "2016-09-26",
                                    "fő": "2",
                                    "(No column name)": "10"
                                },
                                {
                                    "UGYFEL_FK": "norbert",
                                    "NEV": "Szűcs Norbert",
                                    "METTOL": "2016-07-08",
                                    "MEDDIG": "2016-07-13",
                                    "fő": "1",
                                    "(No column name)": "NULL"
                                },
                                {
                                    "UGYFEL_FK": "norbert",
                                    "NEV": "Szűcs Norbert",
                                    "METTOL": "2016-11-16",
                                    "MEDDIG": "2016-11-23",
                                    "fő": "3",
                                    "(No column name)": "1"
                                },
                                {
                                    "UGYFEL_FK": "norbert",
                                    "NEV": "Szűcs Norbert",
                                    "METTOL": "2016-12-15",
                                    "MEDDIG": "2016-12-18",
                                    "fő": "2",
                                    "(No column name)": "4"
                                },
                                {
                                    "UGYFEL_FK": "norbert",
                                    "NEV": "Szűcs Norbert",
                                    "METTOL": "2017-02-13",
                                    "MEDDIG": "2017-02-15",
                                    "fő": "3",
                                    "(No column name)": "6"
                                },
                                {
                                    "UGYFEL_FK": "norbert",
                                    "NEV": "Szűcs Norbert",
                                    "METTOL": "2017-02-26",
                                    "MEDDIG": "2017-03-01",
                                    "fő": "1",
                                    "(No column name)": "8"
                                },
                                {
                                    "UGYFEL_FK": "norbert2",
                                    "NEV": "Hegedűs Norbert",
                                    "METTOL": "2016-04-19",
                                    "MEDDIG": "2016-04-26",
                                    "fő": "1",
                                    "(No column name)": "NULL"
                                },
                                {
                                    "UGYFEL_FK": "norbert2",
                                    "NEV": "Hegedűs Norbert",
                                    "METTOL": "2016-05-09",
                                    "MEDDIG": "2016-05-10",
                                    "fő": "2",
                                    "(No column name)": "1"
                                },
                                {
                                    "UGYFEL_FK": "norbert2",
                                    "NEV": "Hegedűs Norbert",
                                    "METTOL": "2016-07-27",
                                    "MEDDIG": "2016-08-02",
                                    "fő": "2",
                                    "(No column name)": "3"
                                },
                                {
                                    "UGYFEL_FK": "norbert2",
                                    "NEV": "Hegedűs Norbert",
                                    "METTOL": "2016-08-16",
                                    "MEDDIG": "2016-08-19",
                                    "fő": "1",
                                    "(No column name)": "5"
                                },
                                {
                                    "UGYFEL_FK": "norbert2",
                                    "NEV": "Hegedűs Norbert",
                                    "METTOL": "2016-07-13",
                                    "MEDDIG": "2016-07-15",
                                    "fő": "3",
                                    "(No column name)": "5"
                                },
                                {
                                    "UGYFEL_FK": "norbert2",
                                    "NEV": "Hegedűs Norbert",
                                    "METTOL": "2016-10-31",
                                    "MEDDIG": "2016-11-07",
                                    "fő": "2",
                                    "(No column name)": "6"
                                },
                                {
                                    "UGYFEL_FK": "norbert2",
                                    "NEV": "Hegedűs Norbert",
                                    "METTOL": "2017-01-29",
                                    "MEDDIG": "2017-02-05",
                                    "fő": "3",
                                    "(No column name)": "6"
                                },
                                {
                                    "UGYFEL_FK": "norbert4",
                                    "NEV": "Mile Norbert",
                                    "METTOL": "2016-04-10",
                                    "MEDDIG": "2016-04-13",
                                    "fő": "2",
                                    "(No column name)": "NULL"
                                },
                                {
                                    "UGYFEL_FK": "norbert4",
                                    "NEV": "Mile Norbert",
                                    "METTOL": "2016-05-29",
                                    "MEDDIG": "2016-06-03",
                                    "fő": "3",
                                    "(No column name)": "2"
                                },
                                {
                                    "UGYFEL_FK": "norbert4",
                                    "NEV": "Mile Norbert",
                                    "METTOL": "2016-06-16",
                                    "MEDDIG": "2016-06-17",
                                    "fő": "4",
                                    "(No column name)": "5"
                                },
                                {
                                    "UGYFEL_FK": "norbert4",
                                    "NEV": "Mile Norbert",
                                    "METTOL": "2016-06-16",
                                    "MEDDIG": "2016-06-21",
                                    "fő": "3",
                                    "(No column name)": "9"
                                },
                                {
                                    "UGYFEL_FK": "norbert4",
                                    "NEV": "Mile Norbert",
                                    "METTOL": "2016-10-05",
                                    "MEDDIG": "2016-10-10",
                                    "fő": "3",
                                    "(No column name)": "10"
                                },
                                {
                                    "UGYFEL_FK": "norbert4",
                                    "NEV": "Mile Norbert",
                                    "METTOL": "2016-10-28",
                                    "MEDDIG": "2016-10-31",
                                    "fő": "3",
                                    "(No column name)": "10"
                                },
                                {
                                    "UGYFEL_FK": "norbert4",
                                    "NEV": "Mile Norbert",
                                    "METTOL": "2016-11-30",
                                    "MEDDIG": "2016-12-06",
                                    "fő": "3",
                                    "(No column name)": "9"
                                },
                                {
                                    "UGYFEL_FK": "norbert4",
                                    "NEV": "Mile Norbert",
                                    "METTOL": "2017-02-16",
                                    "MEDDIG": "2017-02-17",
                                    "fő": "1",
                                    "(No column name)": "9"
                                },
                                {
                                    "UGYFEL_FK": "norbert4",
                                    "NEV": "Mile Norbert",
                                    "METTOL": "2017-03-03",
                                    "MEDDIG": "2017-03-07",
                                    "fő": "2",
                                    "(No column name)": "7"
                                },
                                {
                                    "UGYFEL_FK": "norbert5",
                                    "NEV": "Béres Norbert",
                                    "METTOL": "2016-08-10",
                                    "MEDDIG": "2016-08-11",
                                    "fő": "2",
                                    "(No column name)": "NULL"
                                },
                                {
                                    "UGYFEL_FK": "norbert5",
                                    "NEV": "Béres Norbert",
                                    "METTOL": "2016-06-24",
                                    "MEDDIG": "2016-06-28",
                                    "fő": "2",
                                    "(No column name)": "2"
                                },
                                {
                                    "UGYFEL_FK": "norbert5",
                                    "NEV": "Béres Norbert",
                                    "METTOL": "2016-11-05",
                                    "MEDDIG": "2016-11-07",
                                    "fő": "1",
                                    "(No column name)": "4"
                                },
                                {
                                    "UGYFEL_FK": "pal",
                                    "NEV": "Barabás Pál",
                                    "METTOL": "2016-08-14",
                                    "MEDDIG": "2016-08-18",
                                    "fő": "3",
                                    "(No column name)": "NULL"
                                },
                                {
                                    "UGYFEL_FK": "pal",
                                    "NEV": "Barabás Pál",
                                    "METTOL": "2016-09-16",
                                    "MEDDIG": "2016-09-19",
                                    "fő": "2",
                                    "(No column name)": "3"
                                },
                                {
                                    "UGYFEL_FK": "pal",
                                    "NEV": "Barabás Pál",
                                    "METTOL": "2016-12-17",
                                    "MEDDIG": "2016-12-23",
                                    "fő": "3",
                                    "(No column name)": "5"
                                },
                                {
                                    "UGYFEL_FK": "pal",
                                    "NEV": "Barabás Pál",
                                    "METTOL": "2017-02-13",
                                    "MEDDIG": "2017-02-19",
                                    "fő": "3",
                                    "(No column name)": "8"
                                },
                                {
                                    "UGYFEL_FK": "pal",
                                    "NEV": "Barabás Pál",
                                    "METTOL": "2017-02-20",
                                    "MEDDIG": "2017-02-22",
                                    "fő": "3",
                                    "(No column name)": "8"
                                },
                                {
                                    "UGYFEL_FK": "peter1",
                                    "NEV": "Kozma Péter",
                                    "METTOL": "2016-07-14",
                                    "MEDDIG": "2016-07-18",
                                    "fő": "3",
                                    "(No column name)": "NULL"
                                },
                                {
                                    "UGYFEL_FK": "peter1",
                                    "NEV": "Kozma Péter",
                                    "METTOL": "2016-10-26",
                                    "MEDDIG": "2016-11-01",
                                    "fő": "3",
                                    "(No column name)": "3"
                                },
                                {
                                    "UGYFEL_FK": "peter1",
                                    "NEV": "Kozma Péter",
                                    "METTOL": "2017-02-23",
                                    "MEDDIG": "2017-02-26",
                                    "fő": "3",
                                    "(No column name)": "6"
                                },
                                {
                                    "UGYFEL_FK": "peter1",
                                    "NEV": "Kozma Péter",
                                    "METTOL": "2017-02-28",
                                    "MEDDIG": "2017-03-05",
                                    "fő": "3",
                                    "(No column name)": "9"
                                },
                                {
                                    "UGYFEL_FK": "peter2",
                                    "NEV": "Bozsó Péter",
                                    "METTOL": "2016-07-03",
                                    "MEDDIG": "2016-07-08",
                                    "fő": "2",
                                    "(No column name)": "NULL"
                                },
                                {
                                    "UGYFEL_FK": "peter2",
                                    "NEV": "Bozsó Péter",
                                    "METTOL": "2016-10-10",
                                    "MEDDIG": "2016-10-16",
                                    "fő": "2",
                                    "(No column name)": "2"
                                },
                                {
                                    "UGYFEL_FK": "peter2",
                                    "NEV": "Bozsó Péter",
                                    "METTOL": "2016-11-01",
                                    "MEDDIG": "2016-11-02",
                                    "fő": "2",
                                    "(No column name)": "4"
                                },
                                {
                                    "UGYFEL_FK": "peter2",
                                    "NEV": "Bozsó Péter",
                                    "METTOL": "2016-11-15",
                                    "MEDDIG": "2016-11-21",
                                    "fő": "3",
                                    "(No column name)": "6"
                                },
                                {
                                    "UGYFEL_FK": "peter3",
                                    "NEV": "Szalai Péter",
                                    "METTOL": "2016-07-27",
                                    "MEDDIG": "2016-07-31",
                                    "fő": "4",
                                    "(No column name)": "NULL"
                                },
                                {
                                    "UGYFEL_FK": "peter3",
                                    "NEV": "Szalai Péter",
                                    "METTOL": "2016-06-30",
                                    "MEDDIG": "2016-07-05",
                                    "fő": "3",
                                    "(No column name)": "4"
                                },
                                {
                                    "UGYFEL_FK": "peter3",
                                    "NEV": "Szalai Péter",
                                    "METTOL": "2016-10-30",
                                    "MEDDIG": "2016-11-06",
                                    "fő": "2",
                                    "(No column name)": "7"
                                },
                                {
                                    "UGYFEL_FK": "peter3",
                                    "NEV": "Szalai Péter",
                                    "METTOL": "2016-12-25",
                                    "MEDDIG": "2016-12-28",
                                    "fő": "1",
                                    "(No column name)": "9"
                                },
                                {
                                    "UGYFEL_FK": "peter3",
                                    "NEV": "Szalai Péter",
                                    "METTOL": "2017-01-12",
                                    "MEDDIG": "2017-01-17",
                                    "fő": "1",
                                    "(No column name)": "6"
                                },
                                {
                                    "UGYFEL_FK": "peter3",
                                    "NEV": "Szalai Péter",
                                    "METTOL": "2017-02-21",
                                    "MEDDIG": "2017-02-24",
                                    "fő": "2",
                                    "(No column name)": "4"
                                },
                                {
                                    "UGYFEL_FK": "peter4",
                                    "NEV": "Bíró Péter",
                                    "METTOL": "2016-04-12",
                                    "MEDDIG": "2016-04-15",
                                    "fő": "3",
                                    "(No column name)": "NULL"
                                },
                                {
                                    "UGYFEL_FK": "peter4",
                                    "NEV": "Bíró Péter",
                                    "METTOL": "2016-08-06",
                                    "MEDDIG": "2016-08-13",
                                    "fő": "2",
                                    "(No column name)": "3"
                                },
                                {
                                    "UGYFEL_FK": "peter4",
                                    "NEV": "Bíró Péter",
                                    "METTOL": "2016-08-24",
                                    "MEDDIG": "2016-08-25",
                                    "fő": "3",
                                    "(No column name)": "5"
                                },
                                {
                                    "UGYFEL_FK": "peter4",
                                    "NEV": "Bíró Péter",
                                    "METTOL": "2016-09-11",
                                    "MEDDIG": "2016-09-17",
                                    "fő": "4",
                                    "(No column name)": "8"
                                },
                                {
                                    "UGYFEL_FK": "peter4",
                                    "NEV": "Bíró Péter",
                                    "METTOL": "2016-09-25",
                                    "MEDDIG": "2016-09-26",
                                    "fő": "3",
                                    "(No column name)": "9"
                                },
                                {
                                    "UGYFEL_FK": "peter4",
                                    "NEV": "Bíró Péter",
                                    "METTOL": "2016-09-30",
                                    "MEDDIG": "2016-10-06",
                                    "fő": "3",
                                    "(No column name)": "10"
                                },
                                {
                                    "UGYFEL_FK": "peter4",
                                    "NEV": "Bíró Péter",
                                    "METTOL": "2016-10-09",
                                    "MEDDIG": "2016-10-16",
                                    "fő": "3",
                                    "(No column name)": "10"
                                },
                                {
                                    "UGYFEL_FK": "peter4",
                                    "NEV": "Bíró Péter",
                                    "METTOL": "2016-10-24",
                                    "MEDDIG": "2016-10-25",
                                    "fő": "2",
                                    "(No column name)": "9"
                                },
                                {
                                    "UGYFEL_FK": "peter4",
                                    "NEV": "Bíró Péter",
                                    "METTOL": "2016-10-30",
                                    "MEDDIG": "2016-11-01",
                                    "fő": "3",
                                    "(No column name)": "8"
                                },
                                {
                                    "UGYFEL_FK": "peter4",
                                    "NEV": "Bíró Péter",
                                    "METTOL": "2016-11-10",
                                    "MEDDIG": "2016-11-17",
                                    "fő": "3",
                                    "(No column name)": "8"
                                },
                                {
                                    "UGYFEL_FK": "peter4",
                                    "NEV": "Bíró Péter",
                                    "METTOL": "2016-11-25",
                                    "MEDDIG": "2016-11-30",
                                    "fő": "3",
                                    "(No column name)": "8"
                                },
                                {
                                    "UGYFEL_FK": "peter4",
                                    "NEV": "Bíró Péter",
                                    "METTOL": "2017-02-05",
                                    "MEDDIG": "2017-02-09",
                                    "fő": "3",
                                    "(No column name)": "9"
                                },
                                {
                                    "UGYFEL_FK": "PETERB",
                                    "NEV": "Berendi Péter",
                                    "METTOL": "2016-04-06",
                                    "MEDDIG": "2016-04-10",
                                    "fő": "1",
                                    "(No column name)": "NULL"
                                },
                                {
                                    "UGYFEL_FK": "PETERB",
                                    "NEV": "Berendi Péter",
                                    "METTOL": "2016-07-20",
                                    "MEDDIG": "2016-07-24",
                                    "fő": "2",
                                    "(No column name)": "1"
                                },
                                {
                                    "UGYFEL_FK": "PETERB",
                                    "NEV": "Berendi Péter",
                                    "METTOL": "2016-08-16",
                                    "MEDDIG": "2016-08-23",
                                    "fő": "1",
                                    "(No column name)": "3"
                                },
                                {
                                    "UGYFEL_FK": "PETERB",
                                    "NEV": "Berendi Péter",
                                    "METTOL": "2016-10-19",
                                    "MEDDIG": "2016-10-20",
                                    "fő": "4",
                                    "(No column name)": "4"
                                },
                                {
                                    "UGYFEL_FK": "PETERB",
                                    "NEV": "Berendi Péter",
                                    "METTOL": "2016-11-17",
                                    "MEDDIG": "2016-11-20",
                                    "fő": "2",
                                    "(No column name)": "7"
                                },
                                {
                                    "UGYFEL_FK": "polla",
                                    "NEV": "Palágyi Polla",
                                    "METTOL": "2016-04-17",
                                    "MEDDIG": "2016-04-22",
                                    "fő": "3",
                                    "(No column name)": "NULL"
                                },
                                {
                                    "UGYFEL_FK": "polla",
                                    "NEV": "Palágyi Polla",
                                    "METTOL": "2016-08-14",
                                    "MEDDIG": "2016-08-17",
                                    "fő": "2",
                                    "(No column name)": "3"
                                },
                                {
                                    "UGYFEL_FK": "polla",
                                    "NEV": "Palágyi Polla",
                                    "METTOL": "2016-08-16",
                                    "MEDDIG": "2016-08-19",
                                    "fő": "4",
                                    "(No column name)": "5"
                                },
                                {
                                    "UGYFEL_FK": "polla",
                                    "NEV": "Palágyi Polla",
                                    "METTOL": "2016-05-28",
                                    "MEDDIG": "2016-06-04",
                                    "fő": "2",
                                    "(No column name)": "9"
                                },
                                {
                                    "UGYFEL_FK": "polla",
                                    "NEV": "Palágyi Polla",
                                    "METTOL": "2017-01-29",
                                    "MEDDIG": "2017-02-01",
                                    "fő": "2",
                                    "(No column name)": "8"
                                },
                                {
                                    "UGYFEL_FK": "polla",
                                    "NEV": "Palágyi Polla",
                                    "METTOL": "2017-02-11",
                                    "MEDDIG": "2017-02-16",
                                    "fő": "2",
                                    "(No column name)": "8"
                                },
                                {
                                    "UGYFEL_FK": "rajmond4",
                                    "NEV": "Rácz Rajmond",
                                    "METTOL": "2016-09-05",
                                    "MEDDIG": "2016-09-07",
                                    "fő": "3",
                                    "(No column name)": "NULL"
                                },
                                {
                                    "UGYFEL_FK": "rajmond4",
                                    "NEV": "Rácz Rajmond",
                                    "METTOL": "2016-10-03",
                                    "MEDDIG": "2016-10-04",
                                    "fő": "3",
                                    "(No column name)": "3"
                                },
                                {
                                    "UGYFEL_FK": "rajmond4",
                                    "NEV": "Rácz Rajmond",
                                    "METTOL": "2016-11-08",
                                    "MEDDIG": "2016-11-09",
                                    "fő": "4",
                                    "(No column name)": "6"
                                },
                                {
                                    "UGYFEL_FK": "rajmond4",
                                    "NEV": "Rácz Rajmond",
                                    "METTOL": "2016-11-16",
                                    "MEDDIG": "2016-11-20",
                                    "fő": "2",
                                    "(No column name)": "10"
                                },
                                {
                                    "UGYFEL_FK": "reka4",
                                    "NEV": "Szikszai Réka",
                                    "METTOL": "2016-07-27",
                                    "MEDDIG": "2016-07-31",
                                    "fő": "2",
                                    "(No column name)": "NULL"
                                },
                                {
                                    "UGYFEL_FK": "reka4",
                                    "NEV": "Szikszai Réka",
                                    "METTOL": "2016-08-02",
                                    "MEDDIG": "2016-08-04",
                                    "fő": "4",
                                    "(No column name)": "2"
                                },
                                {
                                    "UGYFEL_FK": "reka4",
                                    "NEV": "Szikszai Réka",
                                    "METTOL": "2016-09-05",
                                    "MEDDIG": "2016-09-07",
                                    "fő": "3",
                                    "(No column name)": "6"
                                },
                                {
                                    "UGYFEL_FK": "reka4",
                                    "NEV": "Szikszai Réka",
                                    "METTOL": "2016-09-30",
                                    "MEDDIG": "2016-10-06",
                                    "fő": "2",
                                    "(No column name)": "9"
                                },
                                {
                                    "UGYFEL_FK": "reka4",
                                    "NEV": "Szikszai Réka",
                                    "METTOL": "2017-02-26",
                                    "MEDDIG": "2017-03-04",
                                    "fő": "2",
                                    "(No column name)": "9"
                                },
                                {
                                    "UGYFEL_FK": "RENATAK",
                                    "NEV": "Kardos Renáta",
                                    "METTOL": "2016-10-27",
                                    "MEDDIG": "2016-10-29",
                                    "fő": "4",
                                    "(No column name)": "NULL"
                                },
                                {
                                    "UGYFEL_FK": "RENATAK",
                                    "NEV": "Kardos Renáta",
                                    "METTOL": "2016-10-30",
                                    "MEDDIG": "2016-10-31",
                                    "fő": "1",
                                    "(No column name)": "4"
                                },
                                {
                                    "UGYFEL_FK": "RENATAK",
                                    "NEV": "Kardos Renáta",
                                    "METTOL": "2016-11-23",
                                    "MEDDIG": "2016-11-26",
                                    "fő": "1",
                                    "(No column name)": "5"
                                },
                                {
                                    "UGYFEL_FK": "RENATAK",
                                    "NEV": "Kardos Renáta",
                                    "METTOL": "2017-01-23",
                                    "MEDDIG": "2017-01-24",
                                    "fő": "3",
                                    "(No column name)": "6"
                                },
                                {
                                    "UGYFEL_FK": "RENATAK",
                                    "NEV": "Kardos Renáta",
                                    "METTOL": "2017-02-16",
                                    "MEDDIG": "2017-02-23",
                                    "fő": "1",
                                    "(No column name)": "5"
                                },
                                {
                                    "UGYFEL_FK": "RENATAK",
                                    "NEV": "Kardos Renáta",
                                    "METTOL": "2017-03-01",
                                    "MEDDIG": "2017-03-06",
                                    "fő": "1",
                                    "(No column name)": "5"
                                },
                                {
                                    "UGYFEL_FK": "RENATAS",
                                    "NEV": "Szirmai Renáta",
                                    "METTOL": "2016-05-04",
                                    "MEDDIG": "2016-05-11",
                                    "fő": "2",
                                    "(No column name)": "NULL"
                                },
                                {
                                    "UGYFEL_FK": "RENATAS",
                                    "NEV": "Szirmai Renáta",
                                    "METTOL": "2016-05-11",
                                    "MEDDIG": "2016-05-16",
                                    "fő": "2",
                                    "(No column name)": "2"
                                },
                                {
                                    "UGYFEL_FK": "RENATAS",
                                    "NEV": "Szirmai Renáta",
                                    "METTOL": "2016-06-24",
                                    "MEDDIG": "2016-06-30",
                                    "fő": "5",
                                    "(No column name)": "4"
                                },
                                {
                                    "UGYFEL_FK": "RENATAS",
                                    "NEV": "Szirmai Renáta",
                                    "METTOL": "2017-02-13",
                                    "MEDDIG": "2017-02-17",
                                    "fő": "1",
                                    "(No column name)": "9"
                                },
                                {
                                    "UGYFEL_FK": "RENATAS",
                                    "NEV": "Szirmai Renáta",
                                    "METTOL": "2017-02-14",
                                    "MEDDIG": "2017-02-17",
                                    "fő": "2",
                                    "(No column name)": "8"
                                },
                                {
                                    "UGYFEL_FK": "robert2",
                                    "NEV": "Patay Róbert",
                                    "METTOL": "2016-05-15",
                                    "MEDDIG": "2016-05-18",
                                    "fő": "2",
                                    "(No column name)": "NULL"
                                },
                                {
                                    "UGYFEL_FK": "robert2",
                                    "NEV": "Patay Róbert",
                                    "METTOL": "2016-08-20",
                                    "MEDDIG": "2016-08-27",
                                    "fő": "2",
                                    "(No column name)": "2"
                                },
                                {
                                    "UGYFEL_FK": "robert2",
                                    "NEV": "Patay Róbert",
                                    "METTOL": "2016-10-23",
                                    "MEDDIG": "2016-10-28",
                                    "fő": "3",
                                    "(No column name)": "4"
                                },
                                {
                                    "UGYFEL_FK": "robert2",
                                    "NEV": "Patay Róbert",
                                    "METTOL": "2016-12-17",
                                    "MEDDIG": "2016-12-22",
                                    "fő": "1",
                                    "(No column name)": "7"
                                },
                                {
                                    "UGYFEL_FK": "ROBERTI",
                                    "NEV": "Iván Róbert",
                                    "METTOL": "2016-08-16",
                                    "MEDDIG": "2016-08-21",
                                    "fő": "2",
                                    "(No column name)": "NULL"
                                },
                                {
                                    "UGYFEL_FK": "ROBERTI",
                                    "NEV": "Iván Róbert",
                                    "METTOL": "2016-08-23",
                                    "MEDDIG": "2016-08-25",
                                    "fő": "2",
                                    "(No column name)": "2"
                                },
                                {
                                    "UGYFEL_FK": "ROBERTI",
                                    "NEV": "Iván Róbert",
                                    "METTOL": "2016-07-12",
                                    "MEDDIG": "2016-07-19",
                                    "fő": "4",
                                    "(No column name)": "4"
                                },
                                {
                                    "UGYFEL_FK": "ROBERTI",
                                    "NEV": "Iván Róbert",
                                    "METTOL": "2016-10-08",
                                    "MEDDIG": "2016-10-12",
                                    "fő": "3",
                                    "(No column name)": "8"
                                },
                                {
                                    "UGYFEL_FK": "ROBERTI",
                                    "NEV": "Iván Róbert",
                                    "METTOL": "2016-10-09",
                                    "MEDDIG": "2016-10-10",
                                    "fő": "2",
                                    "(No column name)": "9"
                                },
                                {
                                    "UGYFEL_FK": "ROBERTI",
                                    "NEV": "Iván Róbert",
                                    "METTOL": "2016-10-23",
                                    "MEDDIG": "2016-10-29",
                                    "fő": "1",
                                    "(No column name)": "9"
                                },
                                {
                                    "UGYFEL_FK": "ROBERTI",
                                    "NEV": "Iván Róbert",
                                    "METTOL": "2016-10-26",
                                    "MEDDIG": "2016-11-01",
                                    "fő": "2",
                                    "(No column name)": "6"
                                },
                                {
                                    "UGYFEL_FK": "ROBERTI",
                                    "NEV": "Iván Róbert",
                                    "METTOL": "2017-02-17",
                                    "MEDDIG": "2017-02-20",
                                    "fő": "2",
                                    "(No column name)": "5"
                                },
                                {
                                    "UGYFEL_FK": "ROBERTP",
                                    "NEV": "Pásztor Róbert",
                                    "METTOL": "2016-07-30",
                                    "MEDDIG": "2016-08-05",
                                    "fő": "2",
                                    "(No column name)": "NULL"
                                },
                                {
                                    "UGYFEL_FK": "ROBERTP",
                                    "NEV": "Pásztor Róbert",
                                    "METTOL": "2016-09-08",
                                    "MEDDIG": "2016-09-11",
                                    "fő": "4",
                                    "(No column name)": "2"
                                },
                                {
                                    "UGYFEL_FK": "roland",
                                    "NEV": "Tóth Roland",
                                    "METTOL": "2016-09-04",
                                    "MEDDIG": "2016-09-05",
                                    "fő": "2",
                                    "(No column name)": "NULL"
                                },
                                {
                                    "UGYFEL_FK": "roland",
                                    "NEV": "Tóth Roland",
                                    "METTOL": "2016-06-09",
                                    "MEDDIG": "2016-06-13",
                                    "fő": "3",
                                    "(No column name)": "2"
                                },
                                {
                                    "UGYFEL_FK": "roland",
                                    "NEV": "Tóth Roland",
                                    "METTOL": "2016-06-22",
                                    "MEDDIG": "2016-06-23",
                                    "fő": "3",
                                    "(No column name)": "5"
                                },
                                {
                                    "UGYFEL_FK": "roland",
                                    "NEV": "Tóth Roland",
                                    "METTOL": "2016-11-19",
                                    "MEDDIG": "2016-11-24",
                                    "fő": "2",
                                    "(No column name)": "8"
                                },
                                {
                                    "UGYFEL_FK": "roland1",
                                    "NEV": "Ferencz Roland",
                                    "METTOL": "2016-11-05",
                                    "MEDDIG": "2016-11-07",
                                    "fő": "3",
                                    "(No column name)": "NULL"
                                },
                                {
                                    "UGYFEL_FK": "roland1",
                                    "NEV": "Ferencz Roland",
                                    "METTOL": "2016-12-22",
                                    "MEDDIG": "2016-12-29",
                                    "fő": "1",
                                    "(No column name)": "3"
                                },
                                {
                                    "UGYFEL_FK": "roland1",
                                    "NEV": "Ferencz Roland",
                                    "METTOL": "2017-01-04",
                                    "MEDDIG": "2017-01-08",
                                    "fő": "3",
                                    "(No column name)": "4"
                                },
                                {
                                    "UGYFEL_FK": "roland1",
                                    "NEV": "Ferencz Roland",
                                    "METTOL": "2017-01-16",
                                    "MEDDIG": "2017-01-22",
                                    "fő": "2",
                                    "(No column name)": "7"
                                },
                                {
                                    "UGYFEL_FK": "roza2",
                                    "NEV": "Bucskó Róza",
                                    "METTOL": "2016-09-10",
                                    "MEDDIG": "2016-09-13",
                                    "fő": "2",
                                    "(No column name)": "NULL"
                                },
                                {
                                    "UGYFEL_FK": "roza2",
                                    "NEV": "Bucskó Róza",
                                    "METTOL": "2017-01-11",
                                    "MEDDIG": "2017-01-17",
                                    "fő": "3",
                                    "(No column name)": "2"
                                },
                                {
                                    "UGYFEL_FK": "roza2",
                                    "NEV": "Bucskó Róza",
                                    "METTOL": "2017-02-18",
                                    "MEDDIG": "2017-02-21",
                                    "fő": "3",
                                    "(No column name)": "5"
                                },
                                {
                                    "UGYFEL_FK": "sandor",
                                    "NEV": "Karasz Sándor",
                                    "METTOL": "2016-07-18",
                                    "MEDDIG": "2016-07-24",
                                    "fő": "2",
                                    "(No column name)": "NULL"
                                },
                                {
                                    "UGYFEL_FK": "sandor",
                                    "NEV": "Karasz Sándor",
                                    "METTOL": "2016-08-20",
                                    "MEDDIG": "2016-08-25",
                                    "fő": "2",
                                    "(No column name)": "2"
                                },
                                {
                                    "UGYFEL_FK": "sandor",
                                    "NEV": "Karasz Sándor",
                                    "METTOL": "2016-07-04",
                                    "MEDDIG": "2016-07-06",
                                    "fő": "2",
                                    "(No column name)": "4"
                                },
                                {
                                    "UGYFEL_FK": "sandor",
                                    "NEV": "Karasz Sándor",
                                    "METTOL": "2016-09-19",
                                    "MEDDIG": "2016-09-26",
                                    "fő": "4",
                                    "(No column name)": "6"
                                },
                                {
                                    "UGYFEL_FK": "sandor3",
                                    "NEV": "Farkas Sándor",
                                    "METTOL": "2016-05-12",
                                    "MEDDIG": "2016-05-15",
                                    "fő": "2",
                                    "(No column name)": "NULL"
                                },
                                {
                                    "UGYFEL_FK": "sandor3",
                                    "NEV": "Farkas Sándor",
                                    "METTOL": "2016-05-25",
                                    "MEDDIG": "2016-05-30",
                                    "fő": "1",
                                    "(No column name)": "2"
                                },
                                {
                                    "UGYFEL_FK": "sandor3",
                                    "NEV": "Farkas Sándor",
                                    "METTOL": "2016-10-09",
                                    "MEDDIG": "2016-10-14",
                                    "fő": "2",
                                    "(No column name)": "3"
                                },
                                {
                                    "UGYFEL_FK": "sandor3",
                                    "NEV": "Farkas Sándor",
                                    "METTOL": "2016-10-23",
                                    "MEDDIG": "2016-10-29",
                                    "fő": "3",
                                    "(No column name)": "5"
                                },
                                {
                                    "UGYFEL_FK": "sandor3",
                                    "NEV": "Farkas Sándor",
                                    "METTOL": "2016-11-10",
                                    "MEDDIG": "2016-11-11",
                                    "fő": "2",
                                    "(No column name)": "6"
                                },
                                {
                                    "UGYFEL_FK": "sandor4",
                                    "NEV": "Nagy Sándor",
                                    "METTOL": "2016-10-15",
                                    "MEDDIG": "2016-10-18",
                                    "fő": "1",
                                    "(No column name)": "NULL"
                                },
                                {
                                    "UGYFEL_FK": "sandor4",
                                    "NEV": "Nagy Sándor",
                                    "METTOL": "2016-11-29",
                                    "MEDDIG": "2016-12-03",
                                    "fő": "2",
                                    "(No column name)": "1"
                                },
                                {
                                    "UGYFEL_FK": "sandor4",
                                    "NEV": "Nagy Sándor",
                                    "METTOL": "2016-12-03",
                                    "MEDDIG": "2016-12-09",
                                    "fő": "1",
                                    "(No column name)": "3"
                                },
                                {
                                    "UGYFEL_FK": "sandor4",
                                    "NEV": "Nagy Sándor",
                                    "METTOL": "2017-01-22",
                                    "MEDDIG": "2017-01-26",
                                    "fő": "2",
                                    "(No column name)": "4"
                                },
                                {
                                    "UGYFEL_FK": "sara",
                                    "NEV": "Farkas Sára",
                                    "METTOL": "2016-07-15",
                                    "MEDDIG": "2016-07-17",
                                    "fő": "3",
                                    "(No column name)": "NULL"
                                },
                                {
                                    "UGYFEL_FK": "sara",
                                    "NEV": "Farkas Sára",
                                    "METTOL": "2016-07-24",
                                    "MEDDIG": "2016-07-27",
                                    "fő": "3",
                                    "(No column name)": "3"
                                },
                                {
                                    "UGYFEL_FK": "sara",
                                    "NEV": "Farkas Sára",
                                    "METTOL": "2016-05-28",
                                    "MEDDIG": "2016-05-30",
                                    "fő": "2",
                                    "(No column name)": "6"
                                },
                                {
                                    "UGYFEL_FK": "sara",
                                    "NEV": "Farkas Sára",
                                    "METTOL": "2016-05-30",
                                    "MEDDIG": "2016-05-31",
                                    "fő": "2",
                                    "(No column name)": "8"
                                },
                                {
                                    "UGYFEL_FK": "sara",
                                    "NEV": "Farkas Sára",
                                    "METTOL": "2016-06-06",
                                    "MEDDIG": "2016-06-08",
                                    "fő": "2",
                                    "(No column name)": "7"
                                },
                                {
                                    "UGYFEL_FK": "sara",
                                    "NEV": "Farkas Sára",
                                    "METTOL": "2016-10-06",
                                    "MEDDIG": "2016-10-12",
                                    "fő": "3",
                                    "(No column name)": "6"
                                },
                                {
                                    "UGYFEL_FK": "sara",
                                    "NEV": "Farkas Sára",
                                    "METTOL": "2016-10-11",
                                    "MEDDIG": "2016-10-14",
                                    "fő": "3",
                                    "(No column name)": "7"
                                },
                                {
                                    "UGYFEL_FK": "sara",
                                    "NEV": "Farkas Sára",
                                    "METTOL": "2016-10-28",
                                    "MEDDIG": "2016-11-03",
                                    "fő": "2",
                                    "(No column name)": "8"
                                },
                                {
                                    "UGYFEL_FK": "sara",
                                    "NEV": "Farkas Sára",
                                    "METTOL": "2016-11-18",
                                    "MEDDIG": "2016-11-21",
                                    "fő": "3",
                                    "(No column name)": "8"
                                },
                                {
                                    "UGYFEL_FK": "sara",
                                    "NEV": "Farkas Sára",
                                    "METTOL": "2016-11-23",
                                    "MEDDIG": "2016-11-30",
                                    "fő": "4",
                                    "(No column name)": "8"
                                },
                                {
                                    "UGYFEL_FK": "sara",
                                    "NEV": "Farkas Sára",
                                    "METTOL": "2016-12-06",
                                    "MEDDIG": "2016-12-10",
                                    "fő": "1",
                                    "(No column name)": "9"
                                },
                                {
                                    "UGYFEL_FK": "sara",
                                    "NEV": "Farkas Sára",
                                    "METTOL": "2016-12-25",
                                    "MEDDIG": "2016-12-30",
                                    "fő": "2",
                                    "(No column name)": "8"
                                },
                                {
                                    "UGYFEL_FK": "SEBASTIANF",
                                    "NEV": "Foltényi Sebastián",
                                    "METTOL": "2016-04-06",
                                    "MEDDIG": "2016-04-12",
                                    "fő": "2",
                                    "(No column name)": "NULL"
                                },
                                {
                                    "UGYFEL_FK": "SEBASTIANF",
                                    "NEV": "Foltényi Sebastián",
                                    "METTOL": "2016-07-17",
                                    "MEDDIG": "2016-07-21",
                                    "fő": "2",
                                    "(No column name)": "2"
                                },
                                {
                                    "UGYFEL_FK": "SEBASTIANF",
                                    "NEV": "Foltényi Sebastián",
                                    "METTOL": "2016-07-30",
                                    "MEDDIG": "2016-08-06",
                                    "fő": "4",
                                    "(No column name)": "4"
                                },
                                {
                                    "UGYFEL_FK": "SEBASTIANF",
                                    "NEV": "Foltényi Sebastián",
                                    "METTOL": "2016-09-14",
                                    "MEDDIG": "2016-09-15",
                                    "fő": "3",
                                    "(No column name)": "8"
                                },
                                {
                                    "UGYFEL_FK": "SEBASTIANF",
                                    "NEV": "Foltényi Sebastián",
                                    "METTOL": "2016-09-17",
                                    "MEDDIG": "2016-09-20",
                                    "fő": "3",
                                    "(No column name)": "9"
                                },
                                {
                                    "UGYFEL_FK": "sebestyen",
                                    "NEV": "Rab Sebestyén",
                                    "METTOL": "2016-04-07",
                                    "MEDDIG": "2016-04-12",
                                    "fő": "4",
                                    "(No column name)": "NULL"
                                },
                                {
                                    "UGYFEL_FK": "sebestyen",
                                    "NEV": "Rab Sebestyén",
                                    "METTOL": "2016-04-26",
                                    "MEDDIG": "2016-05-02",
                                    "fő": "4",
                                    "(No column name)": "4"
                                },
                                {
                                    "UGYFEL_FK": "sebestyen",
                                    "NEV": "Rab Sebestyén",
                                    "METTOL": "2016-06-09",
                                    "MEDDIG": "2016-06-14",
                                    "fő": "4",
                                    "(No column name)": "8"
                                },
                                {
                                    "UGYFEL_FK": "sebestyen",
                                    "NEV": "Rab Sebestyén",
                                    "METTOL": "2016-10-26",
                                    "MEDDIG": "2016-11-01",
                                    "fő": "5",
                                    "(No column name)": "12"
                                },
                                {
                                    "UGYFEL_FK": "szabolcs",
                                    "NEV": "Bodor Szabolcs",
                                    "METTOL": "2016-12-05",
                                    "MEDDIG": "2016-12-07",
                                    "fő": "2",
                                    "(No column name)": "NULL"
                                },
                                {
                                    "UGYFEL_FK": "SZABOLCSM",
                                    "NEV": "Miklós Szabolcs",
                                    "METTOL": "2016-07-28",
                                    "MEDDIG": "2016-08-03",
                                    "fő": "2",
                                    "(No column name)": "NULL"
                                },
                                {
                                    "UGYFEL_FK": "SZABOLCSM",
                                    "NEV": "Miklós Szabolcs",
                                    "METTOL": "2016-06-18",
                                    "MEDDIG": "2016-06-21",
                                    "fő": "3",
                                    "(No column name)": "2"
                                },
                                {
                                    "UGYFEL_FK": "SZABOLCSM",
                                    "NEV": "Miklós Szabolcs",
                                    "METTOL": "2016-10-17",
                                    "MEDDIG": "2016-10-19",
                                    "fő": "2",
                                    "(No column name)": "5"
                                },
                                {
                                    "UGYFEL_FK": "SZABOLCSM",
                                    "NEV": "Miklós Szabolcs",
                                    "METTOL": "2016-10-28",
                                    "MEDDIG": "2016-11-03",
                                    "fő": "3",
                                    "(No column name)": "7"
                                },
                                {
                                    "UGYFEL_FK": "SZABOLCSM",
                                    "NEV": "Miklós Szabolcs",
                                    "METTOL": "2016-11-12",
                                    "MEDDIG": "2016-11-13",
                                    "fő": "2",
                                    "(No column name)": "8"
                                },
                                {
                                    "UGYFEL_FK": "SZABOLCSM",
                                    "NEV": "Miklós Szabolcs",
                                    "METTOL": "2017-01-07",
                                    "MEDDIG": "2017-01-08",
                                    "fő": "2",
                                    "(No column name)": "7"
                                },
                                {
                                    "UGYFEL_FK": "SZABOLCSM",
                                    "NEV": "Miklós Szabolcs",
                                    "METTOL": "2017-02-04",
                                    "MEDDIG": "2017-02-05",
                                    "fő": "3",
                                    "(No column name)": "7"
                                },
                                {
                                    "UGYFEL_FK": "SZILARDS",
                                    "NEV": "Szalai Szilárd",
                                    "METTOL": "2016-04-23",
                                    "MEDDIG": "2016-04-30",
                                    "fő": "3",
                                    "(No column name)": "NULL"
                                },
                                {
                                    "UGYFEL_FK": "SZILARDS",
                                    "NEV": "Szalai Szilárd",
                                    "METTOL": "2016-07-27",
                                    "MEDDIG": "2016-08-03",
                                    "fő": "5",
                                    "(No column name)": "3"
                                },
                                {
                                    "UGYFEL_FK": "SZILARDS",
                                    "NEV": "Szalai Szilárd",
                                    "METTOL": "2016-08-28",
                                    "MEDDIG": "2016-08-29",
                                    "fő": "4",
                                    "(No column name)": "8"
                                },
                                {
                                    "UGYFEL_FK": "SZILARDS",
                                    "NEV": "Szalai Szilárd",
                                    "METTOL": "2016-09-20",
                                    "MEDDIG": "2016-09-24",
                                    "fő": "3",
                                    "(No column name)": "12"
                                },
                                {
                                    "UGYFEL_FK": "SZILARDS",
                                    "NEV": "Szalai Szilárd",
                                    "METTOL": "2016-10-01",
                                    "MEDDIG": "2016-10-08",
                                    "fő": "3",
                                    "(No column name)": "12"
                                },
                                {
                                    "UGYFEL_FK": "SZILARDS",
                                    "NEV": "Szalai Szilárd",
                                    "METTOL": "2017-01-16",
                                    "MEDDIG": "2017-01-19",
                                    "fő": "3",
                                    "(No column name)": "10"
                                },
                                {
                                    "UGYFEL_FK": "SZILARDS",
                                    "NEV": "Szalai Szilárd",
                                    "METTOL": "2017-02-08",
                                    "MEDDIG": "2017-02-15",
                                    "fő": "1",
                                    "(No column name)": "9"
                                },
                                {
                                    "UGYFEL_FK": "szilvia1",
                                    "NEV": "Tari Szilvia",
                                    "METTOL": "2016-05-14",
                                    "MEDDIG": "2016-05-21",
                                    "fő": "2",
                                    "(No column name)": "NULL"
                                },
                                {
                                    "UGYFEL_FK": "szilvia1",
                                    "NEV": "Tari Szilvia",
                                    "METTOL": "2016-07-25",
                                    "MEDDIG": "2016-07-28",
                                    "fő": "2",
                                    "(No column name)": "2"
                                },
                                {
                                    "UGYFEL_FK": "szilvia1",
                                    "NEV": "Tari Szilvia",
                                    "METTOL": "2016-05-28",
                                    "MEDDIG": "2016-06-03",
                                    "fő": "2",
                                    "(No column name)": "4"
                                },
                                {
                                    "UGYFEL_FK": "szilvia1",
                                    "NEV": "Tari Szilvia",
                                    "METTOL": "2016-10-09",
                                    "MEDDIG": "2016-10-10",
                                    "fő": "3",
                                    "(No column name)": "6"
                                },
                                {
                                    "UGYFEL_FK": "szilvia1",
                                    "NEV": "Tari Szilvia",
                                    "METTOL": "2016-10-25",
                                    "MEDDIG": "2016-10-31",
                                    "fő": "3",
                                    "(No column name)": "7"
                                },
                                {
                                    "UGYFEL_FK": "szilvia1",
                                    "NEV": "Tari Szilvia",
                                    "METTOL": "2016-10-27",
                                    "MEDDIG": "2016-10-28",
                                    "fő": "2",
                                    "(No column name)": "8"
                                },
                                {
                                    "UGYFEL_FK": "szilvia1",
                                    "NEV": "Tari Szilvia",
                                    "METTOL": "2016-12-25",
                                    "MEDDIG": "2016-12-29",
                                    "fő": "5",
                                    "(No column name)": "8"
                                },
                                {
                                    "UGYFEL_FK": "szilvia1",
                                    "NEV": "Tari Szilvia",
                                    "METTOL": "2016-12-27",
                                    "MEDDIG": "2017-01-02",
                                    "fő": "2",
                                    "(No column name)": "10"
                                },
                                {
                                    "UGYFEL_FK": "szilvia1",
                                    "NEV": "Tari Szilvia",
                                    "METTOL": "2017-01-28",
                                    "MEDDIG": "2017-02-03",
                                    "fő": "2",
                                    "(No column name)": "9"
                                },
                                {
                                    "UGYFEL_FK": "tamara2",
                                    "NEV": "Miklós Tamara",
                                    "METTOL": "2016-08-12",
                                    "MEDDIG": "2016-08-15",
                                    "fő": "3",
                                    "(No column name)": "NULL"
                                },
                                {
                                    "UGYFEL_FK": "tamara2",
                                    "NEV": "Miklós Tamara",
                                    "METTOL": "2016-11-15",
                                    "MEDDIG": "2016-11-18",
                                    "fő": "2",
                                    "(No column name)": "3"
                                },
                                {
                                    "UGYFEL_FK": "tamas",
                                    "NEV": "Antal Tamás",
                                    "METTOL": "2016-05-17",
                                    "MEDDIG": "2016-05-22",
                                    "fő": "2",
                                    "(No column name)": "NULL"
                                },
                                {
                                    "UGYFEL_FK": "tamas",
                                    "NEV": "Antal Tamás",
                                    "METTOL": "2016-08-24",
                                    "MEDDIG": "2016-08-27",
                                    "fő": "3",
                                    "(No column name)": "2"
                                },
                                {
                                    "UGYFEL_FK": "tamas",
                                    "NEV": "Antal Tamás",
                                    "METTOL": "2016-06-14",
                                    "MEDDIG": "2016-06-21",
                                    "fő": "2",
                                    "(No column name)": "5"
                                },
                                {
                                    "UGYFEL_FK": "tamas",
                                    "NEV": "Antal Tamás",
                                    "METTOL": "2017-02-14",
                                    "MEDDIG": "2017-02-19",
                                    "fő": "3",
                                    "(No column name)": "7"
                                },
                                {
                                    "UGYFEL_FK": "TAMASF",
                                    "NEV": "Fényes Tamás",
                                    "METTOL": "2016-05-03",
                                    "MEDDIG": "2016-05-04",
                                    "fő": "2",
                                    "(No column name)": "NULL"
                                },
                                {
                                    "UGYFEL_FK": "TAMASF",
                                    "NEV": "Fényes Tamás",
                                    "METTOL": "2016-06-10",
                                    "MEDDIG": "2016-06-13",
                                    "fő": "3",
                                    "(No column name)": "2"
                                },
                                {
                                    "UGYFEL_FK": "TAMASF",
                                    "NEV": "Fényes Tamás",
                                    "METTOL": "2016-06-28",
                                    "MEDDIG": "2016-07-05",
                                    "fő": "3",
                                    "(No column name)": "5"
                                },
                                {
                                    "UGYFEL_FK": "TAMASF",
                                    "NEV": "Fényes Tamás",
                                    "METTOL": "2016-07-04",
                                    "MEDDIG": "2016-07-10",
                                    "fő": "2",
                                    "(No column name)": "8"
                                },
                                {
                                    "UGYFEL_FK": "TAMASF",
                                    "NEV": "Fényes Tamás",
                                    "METTOL": "2016-09-12",
                                    "MEDDIG": "2016-09-18",
                                    "fő": "3",
                                    "(No column name)": "8"
                                },
                                {
                                    "UGYFEL_FK": "TAMASF",
                                    "NEV": "Fényes Tamás",
                                    "METTOL": "2016-12-02",
                                    "MEDDIG": "2016-12-04",
                                    "fő": "1",
                                    "(No column name)": "8"
                                },
                                {
                                    "UGYFEL_FK": "TAMASF",
                                    "NEV": "Fényes Tamás",
                                    "METTOL": "2016-12-10",
                                    "MEDDIG": "2016-12-14",
                                    "fő": "3",
                                    "(No column name)": "6"
                                },
                                {
                                    "UGYFEL_FK": "TAMASF",
                                    "NEV": "Fényes Tamás",
                                    "METTOL": "2017-02-12",
                                    "MEDDIG": "2017-02-17",
                                    "fő": "2",
                                    "(No column name)": "7"
                                },
                                {
                                    "UGYFEL_FK": "TAMASF",
                                    "NEV": "Fényes Tamás",
                                    "METTOL": "2017-02-16",
                                    "MEDDIG": "2017-02-19",
                                    "fő": "4",
                                    "(No column name)": "6"
                                },
                                {
                                    "UGYFEL_FK": "tibor",
                                    "NEV": "Gombos Tibor",
                                    "METTOL": "2016-10-09",
                                    "MEDDIG": "2016-10-13",
                                    "fő": "2",
                                    "(No column name)": "NULL"
                                },
                                {
                                    "UGYFEL_FK": "tibor",
                                    "NEV": "Gombos Tibor",
                                    "METTOL": "2016-11-05",
                                    "MEDDIG": "2016-11-09",
                                    "fő": "1",
                                    "(No column name)": "2"
                                },
                                {
                                    "UGYFEL_FK": "tibor2",
                                    "NEV": "Dániel Tibor",
                                    "METTOL": "2016-10-20",
                                    "MEDDIG": "2016-10-25",
                                    "fő": "2",
                                    "(No column name)": "NULL"
                                },
                                {
                                    "UGYFEL_FK": "tihamer",
                                    "NEV": "Kazy Tihamér",
                                    "METTOL": "2016-07-20",
                                    "MEDDIG": "2016-07-24",
                                    "fő": "3",
                                    "(No column name)": "NULL"
                                },
                                {
                                    "UGYFEL_FK": "tihamer",
                                    "NEV": "Kazy Tihamér",
                                    "METTOL": "2016-08-18",
                                    "MEDDIG": "2016-08-22",
                                    "fő": "3",
                                    "(No column name)": "3"
                                },
                                {
                                    "UGYFEL_FK": "tihamer",
                                    "NEV": "Kazy Tihamér",
                                    "METTOL": "2016-05-30",
                                    "MEDDIG": "2016-06-05",
                                    "fő": "1",
                                    "(No column name)": "6"
                                },
                                {
                                    "UGYFEL_FK": "tihamer",
                                    "NEV": "Kazy Tihamér",
                                    "METTOL": "2016-06-03",
                                    "MEDDIG": "2016-06-08",
                                    "fő": "5",
                                    "(No column name)": "7"
                                },
                                {
                                    "UGYFEL_FK": "tihamer",
                                    "NEV": "Kazy Tihamér",
                                    "METTOL": "2016-10-19",
                                    "MEDDIG": "2016-10-23",
                                    "fő": "2",
                                    "(No column name)": "9"
                                },
                                {
                                    "UGYFEL_FK": "tihamer",
                                    "NEV": "Kazy Tihamér",
                                    "METTOL": "2016-12-25",
                                    "MEDDIG": "2016-12-26",
                                    "fő": "2",
                                    "(No column name)": "8"
                                },
                                {
                                    "UGYFEL_FK": "timea",
                                    "NEV": "Papós Tímea",
                                    "METTOL": "2016-12-26",
                                    "MEDDIG": "2016-12-27",
                                    "fő": "2",
                                    "(No column name)": "NULL"
                                },
                                {
                                    "UGYFEL_FK": "timea2",
                                    "NEV": "Dusha Tímea",
                                    "METTOL": "2016-08-07",
                                    "MEDDIG": "2016-08-10",
                                    "fő": "3",
                                    "(No column name)": "NULL"
                                },
                                {
                                    "UGYFEL_FK": "timea2",
                                    "NEV": "Dusha Tímea",
                                    "METTOL": "2016-06-06",
                                    "MEDDIG": "2016-06-07",
                                    "fő": "2",
                                    "(No column name)": "3"
                                },
                                {
                                    "UGYFEL_FK": "timea2",
                                    "NEV": "Dusha Tímea",
                                    "METTOL": "2016-10-26",
                                    "MEDDIG": "2016-10-29",
                                    "fő": "3",
                                    "(No column name)": "5"
                                },
                                {
                                    "UGYFEL_FK": "timea2",
                                    "NEV": "Dusha Tímea",
                                    "METTOL": "2016-11-27",
                                    "MEDDIG": "2016-12-01",
                                    "fő": "4",
                                    "(No column name)": "8"
                                },
                                {
                                    "UGYFEL_FK": "timea2",
                                    "NEV": "Dusha Tímea",
                                    "METTOL": "2016-12-14",
                                    "MEDDIG": "2016-12-16",
                                    "fő": "4",
                                    "(No column name)": "9"
                                },
                                {
                                    "UGYFEL_FK": "tunde",
                                    "NEV": "Turcsik Tünde",
                                    "METTOL": "2016-07-14",
                                    "MEDDIG": "2016-07-21",
                                    "fő": "1",
                                    "(No column name)": "NULL"
                                },
                                {
                                    "UGYFEL_FK": "tunde",
                                    "NEV": "Turcsik Tünde",
                                    "METTOL": "2016-09-05",
                                    "MEDDIG": "2016-09-12",
                                    "fő": "2",
                                    "(No column name)": "1"
                                },
                                {
                                    "UGYFEL_FK": "tunde",
                                    "NEV": "Turcsik Tünde",
                                    "METTOL": "2016-06-03",
                                    "MEDDIG": "2016-06-07",
                                    "fő": "3",
                                    "(No column name)": "3"
                                },
                                {
                                    "UGYFEL_FK": "tunde",
                                    "NEV": "Turcsik Tünde",
                                    "METTOL": "2016-06-06",
                                    "MEDDIG": "2016-06-12",
                                    "fő": "3",
                                    "(No column name)": "6"
                                },
                                {
                                    "UGYFEL_FK": "tunde",
                                    "NEV": "Turcsik Tünde",
                                    "METTOL": "2016-10-24",
                                    "MEDDIG": "2016-10-30",
                                    "fő": "3",
                                    "(No column name)": "8"
                                },
                                {
                                    "UGYFEL_FK": "tunde",
                                    "NEV": "Turcsik Tünde",
                                    "METTOL": "2016-11-19",
                                    "MEDDIG": "2016-11-20",
                                    "fő": "3",
                                    "(No column name)": "9"
                                },
                                {
                                    "UGYFEL_FK": "tunde",
                                    "NEV": "Turcsik Tünde",
                                    "METTOL": "2016-12-15",
                                    "MEDDIG": "2016-12-20",
                                    "fő": "3",
                                    "(No column name)": "9"
                                },
                                {
                                    "UGYFEL_FK": "tunde",
                                    "NEV": "Turcsik Tünde",
                                    "METTOL": "2017-01-03",
                                    "MEDDIG": "2017-01-06",
                                    "fő": "5",
                                    "(No column name)": "9"
                                },
                                {
                                    "UGYFEL_FK": "valentin",
                                    "NEV": "Feró Valentin",
                                    "METTOL": "2016-07-24",
                                    "MEDDIG": "2016-07-29",
                                    "fő": "1",
                                    "(No column name)": "NULL"
                                },
                                {
                                    "UGYFEL_FK": "valentin",
                                    "NEV": "Feró Valentin",
                                    "METTOL": "2016-05-24",
                                    "MEDDIG": "2016-05-30",
                                    "fő": "4",
                                    "(No column name)": "1"
                                },
                                {
                                    "UGYFEL_FK": "valentin",
                                    "NEV": "Feró Valentin",
                                    "METTOL": "2016-10-26",
                                    "MEDDIG": "2016-10-30",
                                    "fő": "3",
                                    "(No column name)": "5"
                                },
                                {
                                    "UGYFEL_FK": "valentin",
                                    "NEV": "Feró Valentin",
                                    "METTOL": "2016-11-11",
                                    "MEDDIG": "2016-11-17",
                                    "fő": "3",
                                    "(No column name)": "8"
                                },
                                {
                                    "UGYFEL_FK": "valentin",
                                    "NEV": "Feró Valentin",
                                    "METTOL": "2016-12-01",
                                    "MEDDIG": "2016-12-05",
                                    "fő": "3",
                                    "(No column name)": "10"
                                },
                                {
                                    "UGYFEL_FK": "veronika4",
                                    "NEV": "Tankó Veronika",
                                    "METTOL": "2016-07-20",
                                    "MEDDIG": "2016-07-26",
                                    "fő": "3",
                                    "(No column name)": "NULL"
                                },
                                {
                                    "UGYFEL_FK": "veronika4",
                                    "NEV": "Tankó Veronika",
                                    "METTOL": "2016-08-16",
                                    "MEDDIG": "2016-08-21",
                                    "fő": "1",
                                    "(No column name)": "3"
                                },
                                {
                                    "UGYFEL_FK": "veronika4",
                                    "NEV": "Tankó Veronika",
                                    "METTOL": "2016-05-30",
                                    "MEDDIG": "2016-06-04",
                                    "fő": "2",
                                    "(No column name)": "4"
                                },
                                {
                                    "UGYFEL_FK": "veronika4",
                                    "NEV": "Tankó Veronika",
                                    "METTOL": "2016-09-26",
                                    "MEDDIG": "2016-10-03",
                                    "fő": "2",
                                    "(No column name)": "6"
                                },
                                {
                                    "UGYFEL_FK": "veronika4",
                                    "NEV": "Tankó Veronika",
                                    "METTOL": "2017-01-19",
                                    "MEDDIG": "2017-01-24",
                                    "fő": "3",
                                    "(No column name)": "5"
                                },
                                {
                                    "UGYFEL_FK": "veronika4",
                                    "NEV": "Tankó Veronika",
                                    "METTOL": "2017-02-03",
                                    "MEDDIG": "2017-02-05",
                                    "fő": "2",
                                    "(No column name)": "7"
                                },
                                {
                                    "UGYFEL_FK": "VIKTORIAU",
                                    "NEV": "Urbán Viktoria",
                                    "METTOL": "2016-04-30",
                                    "MEDDIG": "2016-05-03",
                                    "fő": "1",
                                    "(No column name)": "NULL"
                                },
                                {
                                    "UGYFEL_FK": "VIKTORIAU",
                                    "NEV": "Urbán Viktoria",
                                    "METTOL": "2016-08-03",
                                    "MEDDIG": "2016-08-04",
                                    "fő": "2",
                                    "(No column name)": "1"
                                },
                                {
                                    "UGYFEL_FK": "VIKTORIAU",
                                    "NEV": "Urbán Viktoria",
                                    "METTOL": "2016-10-14",
                                    "MEDDIG": "2016-10-15",
                                    "fő": "3",
                                    "(No column name)": "3"
                                },
                                {
                                    "UGYFEL_FK": "VIKTORIAU",
                                    "NEV": "Urbán Viktoria",
                                    "METTOL": "2016-10-26",
                                    "MEDDIG": "2016-11-02",
                                    "fő": "4",
                                    "(No column name)": "6"
                                },
                                {
                                    "UGYFEL_FK": "VIKTORK",
                                    "NEV": "Keresztúri Viktor",
                                    "METTOL": "2016-05-30",
                                    "MEDDIG": "2016-06-01",
                                    "fő": "2",
                                    "(No column name)": "NULL"
                                },
                                {
                                    "UGYFEL_FK": "VIKTORK",
                                    "NEV": "Keresztúri Viktor",
                                    "METTOL": "2016-06-06",
                                    "MEDDIG": "2016-06-07",
                                    "fő": "4",
                                    "(No column name)": "2"
                                },
                                {
                                    "UGYFEL_FK": "vivien3",
                                    "NEV": "Boros Vivien",
                                    "METTOL": "2016-05-02",
                                    "MEDDIG": "2016-05-05",
                                    "fő": "3",
                                    "(No column name)": "NULL"
                                },
                                {
                                    "UGYFEL_FK": "vivien3",
                                    "NEV": "Boros Vivien",
                                    "METTOL": "2016-08-13",
                                    "MEDDIG": "2016-08-18",
                                    "fő": "2",
                                    "(No column name)": "3"
                                },
                                {
                                    "UGYFEL_FK": "vivien3",
                                    "NEV": "Boros Vivien",
                                    "METTOL": "2016-09-01",
                                    "MEDDIG": "2016-09-05",
                                    "fő": "2",
                                    "(No column name)": "5"
                                },
                                {
                                    "UGYFEL_FK": "vivien3",
                                    "NEV": "Boros Vivien",
                                    "METTOL": "2016-10-01",
                                    "MEDDIG": "2016-10-04",
                                    "fő": "1",
                                    "(No column name)": "7"
                                },
                                {
                                    "UGYFEL_FK": "vivien3",
                                    "NEV": "Boros Vivien",
                                    "METTOL": "2016-11-17",
                                    "MEDDIG": "2016-11-20",
                                    "fő": "2",
                                    "(No column name)": "5"
                                },
                                {
                                    "UGYFEL_FK": "vivien3",
                                    "NEV": "Boros Vivien",
                                    "METTOL": "2016-12-17",
                                    "MEDDIG": "2016-12-21",
                                    "fő": "2",
                                    "(No column name)": "5"
                                },
                                {
                                    "UGYFEL_FK": "vivien3",
                                    "NEV": "Boros Vivien",
                                    "METTOL": "2016-12-24",
                                    "MEDDIG": "2016-12-26",
                                    "fő": "3",
                                    "(No column name)": "5"
                                },
                                {
                                    "UGYFEL_FK": "zoltan",
                                    "NEV": "Fodor Zoltán",
                                    "METTOL": "2016-08-24",
                                    "MEDDIG": "2016-08-31",
                                    "fő": "2",
                                    "(No column name)": "NULL"
                                },
                                {
                                    "UGYFEL_FK": "zoltan",
                                    "NEV": "Fodor Zoltán",
                                    "METTOL": "2016-09-05",
                                    "MEDDIG": "2016-09-09",
                                    "fő": "3",
                                    "(No column name)": "2"
                                },
                                {
                                    "UGYFEL_FK": "zoltan4",
                                    "NEV": "Barna Zoltán",
                                    "METTOL": "2016-05-12",
                                    "MEDDIG": "2016-05-16",
                                    "fő": "3",
                                    "(No column name)": "NULL"
                                },
                                {
                                    "UGYFEL_FK": "zoltan4",
                                    "NEV": "Barna Zoltán",
                                    "METTOL": "2016-05-13",
                                    "MEDDIG": "2016-05-16",
                                    "fő": "3",
                                    "(No column name)": "3"
                                },
                                {
                                    "UGYFEL_FK": "zoltan4",
                                    "NEV": "Barna Zoltán",
                                    "METTOL": "2016-08-15",
                                    "MEDDIG": "2016-08-21",
                                    "fő": "1",
                                    "(No column name)": "6"
                                },
                                {
                                    "UGYFEL_FK": "zoltan4",
                                    "NEV": "Barna Zoltán",
                                    "METTOL": "2016-08-16",
                                    "MEDDIG": "2016-08-23",
                                    "fő": "2",
                                    "(No column name)": "7"
                                },
                                {
                                    "UGYFEL_FK": "zoltan4",
                                    "NEV": "Barna Zoltán",
                                    "METTOL": "2016-06-03",
                                    "MEDDIG": "2016-06-06",
                                    "fő": "1",
                                    "(No column name)": "6"
                                },
                                {
                                    "UGYFEL_FK": "zoltan4",
                                    "NEV": "Barna Zoltán",
                                    "METTOL": "2016-09-30",
                                    "MEDDIG": "2016-10-07",
                                    "fő": "3",
                                    "(No column name)": "4"
                                },
                                {
                                    "UGYFEL_FK": "zoltan4",
                                    "NEV": "Barna Zoltán",
                                    "METTOL": "2016-10-21",
                                    "MEDDIG": "2016-10-24",
                                    "fő": "5",
                                    "(No column name)": "6"
                                },
                                {
                                    "UGYFEL_FK": "zoltan4",
                                    "NEV": "Barna Zoltán",
                                    "METTOL": "2016-10-26",
                                    "MEDDIG": "2016-10-30",
                                    "fő": "2",
                                    "(No column name)": "9"
                                },
                                {
                                    "UGYFEL_FK": "zoltan4",
                                    "NEV": "Barna Zoltán",
                                    "METTOL": "2016-10-30",
                                    "MEDDIG": "2016-11-06",
                                    "fő": "1",
                                    "(No column name)": "10"
                                },
                                {
                                    "UGYFEL_FK": "zoltan4",
                                    "NEV": "Barna Zoltán",
                                    "METTOL": "2016-11-19",
                                    "MEDDIG": "2016-11-21",
                                    "fő": "2",
                                    "(No column name)": "8"
                                },
                                {
                                    "UGYFEL_FK": "zoltan4",
                                    "NEV": "Barna Zoltán",
                                    "METTOL": "2016-12-29",
                                    "MEDDIG": "2017-01-04",
                                    "fő": "1",
                                    "(No column name)": "5"
                                },
                                {
                                    "UGYFEL_FK": "zoltan4",
                                    "NEV": "Barna Zoltán",
                                    "METTOL": "2017-01-01",
                                    "MEDDIG": "2017-01-02",
                                    "fő": "3",
                                    "(No column name)": "4"
                                },
                                {
                                    "UGYFEL_FK": "ZOLTANP",
                                    "NEV": "Pintér Zoltán",
                                    "METTOL": "2016-07-20",
                                    "MEDDIG": "2016-07-25",
                                    "fő": "3",
                                    "(No column name)": "NULL"
                                },
                                {
                                    "UGYFEL_FK": "ZOLTANP",
                                    "NEV": "Pintér Zoltán",
                                    "METTOL": "2016-06-05",
                                    "MEDDIG": "2016-06-08",
                                    "fő": "2",
                                    "(No column name)": "3"
                                },
                                {
                                    "UGYFEL_FK": "ZOLTANP",
                                    "NEV": "Pintér Zoltán",
                                    "METTOL": "2016-06-06",
                                    "MEDDIG": "2016-06-08",
                                    "fő": "2",
                                    "(No column name)": "5"
                                },
                                {
                                    "UGYFEL_FK": "ZOLTANP",
                                    "NEV": "Pintér Zoltán",
                                    "METTOL": "2016-10-19",
                                    "MEDDIG": "2016-10-25",
                                    "fő": "2",
                                    "(No column name)": "7"
                                },
                                {
                                    "UGYFEL_FK": "ZOLTANP",
                                    "NEV": "Pintér Zoltán",
                                    "METTOL": "2016-12-07",
                                    "MEDDIG": "2016-12-10",
                                    "fő": "3",
                                    "(No column name)": "6"
                                },
                                {
                                    "UGYFEL_FK": "ZOLTANP",
                                    "NEV": "Pintér Zoltán",
                                    "METTOL": "2016-12-25",
                                    "MEDDIG": "2016-12-29",
                                    "fő": "2",
                                    "(No column name)": "7"
                                },
                                {
                                    "UGYFEL_FK": "ZOLTANT",
                                    "NEV": "Tóth Zoltán",
                                    "METTOL": "2016-05-01",
                                    "MEDDIG": "2016-05-04",
                                    "fő": "3",
                                    "(No column name)": "NULL"
                                },
                                {
                                    "UGYFEL_FK": "ZOLTANT",
                                    "NEV": "Tóth Zoltán",
                                    "METTOL": "2016-07-14",
                                    "MEDDIG": "2016-07-15",
                                    "fő": "3",
                                    "(No column name)": "3"
                                },
                                {
                                    "UGYFEL_FK": "ZOLTANT",
                                    "NEV": "Tóth Zoltán",
                                    "METTOL": "2017-01-16",
                                    "MEDDIG": "2017-01-20",
                                    "fő": "2",
                                    "(No column name)": "6"
                                },
                                {
                                    "UGYFEL_FK": "zsofi1",
                                    "NEV": "Molnár Zsófi",
                                    "METTOL": "2016-06-16",
                                    "MEDDIG": "2016-06-17",
                                    "fő": "2",
                                    "(No column name)": "NULL"
                                },
                                {
                                    "UGYFEL_FK": "zsofi1",
                                    "NEV": "Molnár Zsófi",
                                    "METTOL": "2017-02-18",
                                    "MEDDIG": "2017-02-19",
                                    "fő": "3",
                                    "(No column name)": "2"
                                },
                                {
                                    "UGYFEL_FK": "zsolt1",
                                    "NEV": "Pulai Zsolt",
                                    "METTOL": "2016-04-14",
                                    "MEDDIG": "2016-04-17",
                                    "fő": "2",
                                    "(No column name)": "NULL"
                                },
                                {
                                    "UGYFEL_FK": "zsolt1",
                                    "NEV": "Pulai Zsolt",
                                    "METTOL": "2016-07-31",
                                    "MEDDIG": "2016-08-02",
                                    "fő": "2",
                                    "(No column name)": "2"
                                },
                                {
                                    "UGYFEL_FK": "zsolt1",
                                    "NEV": "Pulai Zsolt",
                                    "METTOL": "2016-06-06",
                                    "MEDDIG": "2016-06-08",
                                    "fő": "2",
                                    "(No column name)": "4"
                                },
                                {
                                    "UGYFEL_FK": "zsolt1",
                                    "NEV": "Pulai Zsolt",
                                    "METTOL": "2016-06-07",
                                    "MEDDIG": "2016-06-10",
                                    "fő": "4",
                                    "(No column name)": "6"
                                },
                                {
                                    "UGYFEL_FK": "ZSOLTJ",
                                    "NEV": "Józsa Zsolt",
                                    "METTOL": "2016-04-24",
                                    "MEDDIG": "2016-04-26",
                                    "fő": "4",
                                    "(No column name)": "NULL"
                                },
                                {
                                    "UGYFEL_FK": "ZSOLTJ",
                                    "NEV": "Józsa Zsolt",
                                    "METTOL": "2016-05-09",
                                    "MEDDIG": "2016-05-11",
                                    "fő": "2",
                                    "(No column name)": "4"
                                },
                                {
                                    "UGYFEL_FK": "ZSOLTJ",
                                    "NEV": "Józsa Zsolt",
                                    "METTOL": "2016-07-18",
                                    "MEDDIG": "2016-07-19",
                                    "fő": "2",
                                    "(No column name)": "6"
                                },
                                {
                                    "UGYFEL_FK": "ZSOLTJ",
                                    "NEV": "Józsa Zsolt",
                                    "METTOL": "2016-05-28",
                                    "MEDDIG": "2016-06-03",
                                    "fő": "1",
                                    "(No column name)": "8"
                                },
                                {
                                    "UGYFEL_FK": "ZSOLTJ",
                                    "NEV": "Józsa Zsolt",
                                    "METTOL": "2016-06-17",
                                    "MEDDIG": "2016-06-19",
                                    "fő": "2",
                                    "(No column name)": "5"
                                },
                                {
                                    "UGYFEL_FK": "ZSOLTJ",
                                    "NEV": "Józsa Zsolt",
                                    "METTOL": "2016-10-01",
                                    "MEDDIG": "2016-10-06",
                                    "fő": "2",
                                    "(No column name)": "5"
                                },
                                {
                                    "UGYFEL_FK": "zsuzsa",
                                    "NEV": "Pusztai Zsuzsanna",
                                    "METTOL": "2016-07-24",
                                    "MEDDIG": "2016-07-25",
                                    "fő": "3",
                                    "(No column name)": "NULL"
                                },
                                {
                                    "UGYFEL_FK": "zsuzsa",
                                    "NEV": "Pusztai Zsuzsanna",
                                    "METTOL": "2016-08-28",
                                    "MEDDIG": "2016-08-30",
                                    "fő": "2",
                                    "(No column name)": "3"
                                },
                                {
                                    "UGYFEL_FK": "zsuzsa",
                                    "NEV": "Pusztai Zsuzsanna",
                                    "METTOL": "2016-11-28",
                                    "MEDDIG": "2016-12-04",
                                    "fő": "3",
                                    "(No column name)": "5"
                                },
                                {
                                    "UGYFEL_FK": "zsuzsa3",
                                    "NEV": "Varsányi Zsuzsa",
                                    "METTOL": "2016-07-30",
                                    "MEDDIG": "2016-08-02",
                                    "fő": "2",
                                    "(No column name)": "NULL"
                                },
                                {
                                    "UGYFEL_FK": "zsuzsa3",
                                    "NEV": "Varsányi Zsuzsa",
                                    "METTOL": "2016-09-09",
                                    "MEDDIG": "2016-09-10",
                                    "fő": "2",
                                    "(No column name)": "2"
                                },
                                {
                                    "UGYFEL_FK": "zsuzsa3",
                                    "NEV": "Varsányi Zsuzsa",
                                    "METTOL": "2016-09-28",
                                    "MEDDIG": "2016-10-03",
                                    "fő": "2",
                                    "(No column name)": "4"
                                },
                                {
                                    "UGYFEL_FK": "zsuzsa3",
                                    "NEV": "Varsányi Zsuzsa",
                                    "METTOL": "2016-10-27",
                                    "MEDDIG": "2016-11-03",
                                    "fő": "4",
                                    "(No column name)": "6"
                                },
                                {
                                    "UGYFEL_FK": "zsuzsanna",
                                    "NEV": "Barta Zsuzsanna",
                                    "METTOL": "2016-05-17",
                                    "MEDDIG": "2016-05-23",
                                    "fő": "2",
                                    "(No column name)": "NULL"
                                },
                                {
                                    "UGYFEL_FK": "zsuzsanna",
                                    "NEV": "Barta Zsuzsanna",
                                    "METTOL": "2016-07-12",
                                    "MEDDIG": "2016-07-15",
                                    "fő": "2",
                                    "(No column name)": "2"
                                },
                                {
                                    "UGYFEL_FK": "zsuzsanna",
                                    "NEV": "Barta Zsuzsanna",
                                    "METTOL": "2017-01-09",
                                    "MEDDIG": "2017-01-16",
                                    "fő": "1",
                                    "(No column name)": "4"
                                },
                                {
                                    "UGYFEL_FK": "zsuzsanna",
                                    "NEV": "Barta Zsuzsanna",
                                    "METTOL": "2017-01-16",
                                    "MEDDIG": "2017-01-22",
                                    "fő": "2",
                                    "(No column name)": "5"
                                },
                                {
                                    "UGYFEL_FK": "ZSUZSAV",
                                    "NEV": "Vajda Zsuzsa",
                                    "METTOL": "2016-04-14",
                                    "MEDDIG": "2016-04-16",
                                    "fő": "2",
                                    "(No column name)": "NULL"
                                },
                                {
                                    "UGYFEL_FK": "ZSUZSAV",
                                    "NEV": "Vajda Zsuzsa",
                                    "METTOL": "2016-05-28",
                                    "MEDDIG": "2016-06-01",
                                    "fő": "4",
                                    "(No column name)": "2"
                                },
                                {
                                    "UGYFEL_FK": "ZSUZSAV",
                                    "NEV": "Vajda Zsuzsa",
                                    "METTOL": "2016-06-15",
                                    "MEDDIG": "2016-06-21",
                                    "fő": "3",
                                    "(No column name)": "6"
                                },
                                {
                                    "UGYFEL_FK": "ZSUZSAV",
                                    "NEV": "Vajda Zsuzsa",
                                    "METTOL": "2016-09-18",
                                    "MEDDIG": "2016-09-20",
                                    "fő": "2",
                                    "(No column name)": "9"
                                },
                                {
                                    "UGYFEL_FK": "ZSUZSAV",
                                    "NEV": "Vajda Zsuzsa",
                                    "METTOL": "2016-10-26",
                                    "MEDDIG": "2016-10-28",
                                    "fő": "1",
                                    "(No column name)": "9"
                                },
                                {
                                    "UGYFEL_FK": "ZSUZSAV",
                                    "NEV": "Vajda Zsuzsa",
                                    "METTOL": "2016-11-21",
                                    "MEDDIG": "2016-11-24",
                                    "fő": "3",
                                    "(No column name)": "6"
                                }
                            ]
                        },
                        "text/html": "<table><tr><th>UGYFEL_FK</th><th>NEV</th><th>METTOL</th><th>MEDDIG</th><th>fő</th><th>(No column name)</th></tr><tr><td>adam1</td><td>Kiss Ádám</td><td>2016-08-20</td><td>2016-08-24</td><td>1</td><td>NULL</td></tr><tr><td>adam1</td><td>Kiss Ádám</td><td>2016-05-28</td><td>2016-06-03</td><td>3</td><td>1</td></tr><tr><td>adam1</td><td>Kiss Ádám</td><td>2016-10-19</td><td>2016-10-24</td><td>2</td><td>4</td></tr><tr><td>adam3</td><td>Barkóci Ádám</td><td>2016-09-12</td><td>2016-09-16</td><td>2</td><td>NULL</td></tr><tr><td>adam3</td><td>Barkóci Ádám</td><td>2017-02-06</td><td>2017-02-10</td><td>1</td><td>2</td></tr><tr><td>adam4</td><td>Bieniek Ádám</td><td>2016-08-28</td><td>2016-08-30</td><td>3</td><td>NULL</td></tr><tr><td>adam4</td><td>Bieniek Ádám</td><td>2016-10-27</td><td>2016-11-02</td><td>3</td><td>3</td></tr><tr><td>adam4</td><td>Bieniek Ádám</td><td>2016-11-15</td><td>2016-11-18</td><td>2</td><td>6</td></tr><tr><td>adam4</td><td>Bieniek Ádám</td><td>2016-12-06</td><td>2016-12-09</td><td>3</td><td>8</td></tr><tr><td>adam4</td><td>Bieniek Ádám</td><td>2017-01-12</td><td>2017-01-19</td><td>2</td><td>8</td></tr><tr><td>adam4</td><td>Bieniek Ádám</td><td>2017-02-23</td><td>2017-02-27</td><td>3</td><td>7</td></tr><tr><td>agnes</td><td>Lengyel Ágnes</td><td>2016-05-09</td><td>2016-05-11</td><td>3</td><td>NULL</td></tr><tr><td>agnes</td><td>Lengyel Ágnes</td><td>2016-07-13</td><td>2016-07-19</td><td>3</td><td>3</td></tr><tr><td>agnes</td><td>Lengyel Ágnes</td><td>2016-07-30</td><td>2016-08-06</td><td>3</td><td>6</td></tr><tr><td>agnes</td><td>Lengyel Ágnes</td><td>2016-05-25</td><td>2016-05-30</td><td>1</td><td>9</td></tr><tr><td>agnes</td><td>Lengyel Ágnes</td><td>2016-11-07</td><td>2016-11-13</td><td>2</td><td>7</td></tr><tr><td>agnes3</td><td>Hartyánszky Ágnes</td><td>2016-08-04</td><td>2016-08-10</td><td>1</td><td>NULL</td></tr><tr><td>agnes3</td><td>Hartyánszky Ágnes</td><td>2016-10-22</td><td>2016-10-23</td><td>3</td><td>1</td></tr><tr><td>agnes3</td><td>Hartyánszky Ágnes</td><td>2017-02-16</td><td>2017-02-21</td><td>3</td><td>4</td></tr><tr><td>AGNESH</td><td>Horváth Ágnes</td><td>2016-04-10</td><td>2016-04-12</td><td>2</td><td>NULL</td></tr><tr><td>AGNESH</td><td>Horváth Ágnes</td><td>2016-04-27</td><td>2016-04-28</td><td>4</td><td>2</td></tr><tr><td>AGNESH</td><td>Horváth Ágnes</td><td>2016-06-23</td><td>2016-06-26</td><td>1</td><td>6</td></tr><tr><td>AGNESH</td><td>Horváth Ágnes</td><td>2016-10-30</td><td>2016-11-04</td><td>1</td><td>7</td></tr><tr><td>AGNESH</td><td>Horváth Ágnes</td><td>2017-01-03</td><td>2017-01-10</td><td>2</td><td>6</td></tr><tr><td>AGNESH</td><td>Horváth Ágnes</td><td>2017-01-16</td><td>2017-01-23</td><td>3</td><td>4</td></tr><tr><td>AGNESK</td><td>Kovács Ágnes</td><td>2016-07-29</td><td>2016-08-01</td><td>3</td><td>NULL</td></tr><tr><td>AGNESK</td><td>Kovács Ágnes</td><td>2016-10-17</td><td>2016-10-19</td><td>2</td><td>3</td></tr><tr><td>AGNESK</td><td>Kovács Ágnes</td><td>2016-12-17</td><td>2016-12-18</td><td>2</td><td>5</td></tr><tr><td>akos</td><td>Bíró Ákos</td><td>2016-05-18</td><td>2016-05-19</td><td>2</td><td>NULL</td></tr><tr><td>akos</td><td>Bíró Ákos</td><td>2016-07-14</td><td>2016-07-19</td><td>2</td><td>2</td></tr><tr><td>akos</td><td>Bíró Ákos</td><td>2016-07-16</td><td>2016-07-18</td><td>2</td><td>4</td></tr><tr><td>akos</td><td>Bíró Ákos</td><td>2016-07-22</td><td>2016-07-26</td><td>1</td><td>6</td></tr><tr><td>akos</td><td>Bíró Ákos</td><td>2016-09-06</td><td>2016-09-12</td><td>1</td><td>5</td></tr><tr><td>akos</td><td>Bíró Ákos</td><td>2016-10-05</td><td>2016-10-09</td><td>2</td><td>4</td></tr><tr><td>akos</td><td>Bíró Ákos</td><td>2016-10-18</td><td>2016-10-23</td><td>2</td><td>4</td></tr><tr><td>akos</td><td>Bíró Ákos</td><td>2016-11-21</td><td>2016-11-27</td><td>2</td><td>5</td></tr><tr><td>akos</td><td>Bíró Ákos</td><td>2016-12-15</td><td>2016-12-21</td><td>2</td><td>6</td></tr><tr><td>akos</td><td>Bíró Ákos</td><td>2016-12-29</td><td>2016-12-30</td><td>3</td><td>6</td></tr><tr><td>aladar</td><td>Dunai Aladár</td><td>2016-05-17</td><td>2016-05-24</td><td>1</td><td>NULL</td></tr><tr><td>aladar</td><td>Dunai Aladár</td><td>2016-09-24</td><td>2016-09-28</td><td>1</td><td>1</td></tr><tr><td>aladar</td><td>Dunai Aladár</td><td>2016-11-22</td><td>2016-11-23</td><td>2</td><td>2</td></tr><tr><td>alexandra</td><td>Bagóczki Alexandra</td><td>2016-05-21</td><td>2016-05-27</td><td>3</td><td>NULL</td></tr><tr><td>alexandra</td><td>Bagóczki Alexandra</td><td>2016-07-27</td><td>2016-07-30</td><td>2</td><td>3</td></tr><tr><td>alexandra</td><td>Bagóczki Alexandra</td><td>2016-06-08</td><td>2016-06-11</td><td>3</td><td>5</td></tr><tr><td>alexandra</td><td>Bagóczki Alexandra</td><td>2016-10-21</td><td>2016-10-25</td><td>2</td><td>8</td></tr><tr><td>alexandra</td><td>Bagóczki Alexandra</td><td>2016-11-29</td><td>2016-12-05</td><td>2</td><td>7</td></tr><tr><td>alexandra</td><td>Bagóczki Alexandra</td><td>2017-01-13</td><td>2017-01-14</td><td>1</td><td>7</td></tr><tr><td>alexandra</td><td>Bagóczki Alexandra</td><td>2017-01-19</td><td>2017-01-26</td><td>2</td><td>5</td></tr><tr><td>andi</td><td>Maródi Andrea</td><td>2016-05-08</td><td>2016-05-14</td><td>4</td><td>NULL</td></tr><tr><td>andi</td><td>Maródi Andrea</td><td>2016-06-13</td><td>2016-06-14</td><td>1</td><td>4</td></tr><tr><td>andi</td><td>Maródi Andrea</td><td>2016-09-13</td><td>2016-09-16</td><td>2</td><td>5</td></tr><tr><td>andi</td><td>Maródi Andrea</td><td>2016-11-16</td><td>2016-11-17</td><td>3</td><td>7</td></tr><tr><td>andi</td><td>Maródi Andrea</td><td>2017-01-13</td><td>2017-01-17</td><td>3</td><td>6</td></tr><tr><td>andras2</td><td>Tóth András</td><td>2016-07-20</td><td>2016-07-22</td><td>2</td><td>NULL</td></tr><tr><td>andras2</td><td>Tóth András</td><td>2016-05-30</td><td>2016-06-04</td><td>1</td><td>2</td></tr><tr><td>andras2</td><td>Tóth András</td><td>2016-09-30</td><td>2016-10-03</td><td>2</td><td>3</td></tr><tr><td>andras2</td><td>Tóth András</td><td>2016-10-07</td><td>2016-10-10</td><td>3</td><td>5</td></tr><tr><td>andras2</td><td>Tóth András</td><td>2017-02-08</td><td>2017-02-10</td><td>4</td><td>6</td></tr><tr><td>andras21</td><td>Molnár András</td><td>2016-07-20</td><td>2016-07-22</td><td>1</td><td>NULL</td></tr><tr><td>andras21</td><td>Molnár András</td><td>2016-06-21</td><td>2016-06-26</td><td>2</td><td>1</td></tr><tr><td>andras21</td><td>Molnár András</td><td>2016-07-04</td><td>2016-07-05</td><td>3</td><td>3</td></tr><tr><td>andras21</td><td>Molnár András</td><td>2016-10-01</td><td>2016-10-06</td><td>3</td><td>6</td></tr><tr><td>andras21</td><td>Molnár András</td><td>2016-10-04</td><td>2016-10-11</td><td>3</td><td>8</td></tr><tr><td>andras21</td><td>Molnár András</td><td>2016-11-23</td><td>2016-11-24</td><td>4</td><td>9</td></tr><tr><td>andras21</td><td>Molnár András</td><td>2017-01-28</td><td>2017-02-01</td><td>2</td><td>10</td></tr><tr><td>andras3</td><td>Vígh András</td><td>2016-05-01</td><td>2016-05-06</td><td>2</td><td>NULL</td></tr><tr><td>andras3</td><td>Vígh András</td><td>2016-07-15</td><td>2016-07-19</td><td>3</td><td>2</td></tr><tr><td>andras3</td><td>Vígh András</td><td>2016-07-21</td><td>2016-07-23</td><td>2</td><td>5</td></tr><tr><td>andras3</td><td>Vígh András</td><td>2016-08-29</td><td>2016-09-02</td><td>3</td><td>7</td></tr><tr><td>andras3</td><td>Vígh András</td><td>2016-05-30</td><td>2016-06-03</td><td>1</td><td>8</td></tr><tr><td>andras3</td><td>Vígh András</td><td>2016-06-10</td><td>2016-06-11</td><td>1</td><td>6</td></tr><tr><td>andras3</td><td>Vígh András</td><td>2016-11-28</td><td>2016-12-02</td><td>2</td><td>5</td></tr><tr><td>andras3</td><td>Vígh András</td><td>2017-02-02</td><td>2017-02-08</td><td>2</td><td>4</td></tr><tr><td>andras4</td><td>Back András</td><td>2016-09-17</td><td>2016-09-20</td><td>2</td><td>NULL</td></tr><tr><td>andras4</td><td>Back András</td><td>2016-11-25</td><td>2016-11-28</td><td>2</td><td>2</td></tr><tr><td>andras4</td><td>Back András</td><td>2017-01-09</td><td>2017-01-10</td><td>2</td><td>4</td></tr><tr><td>andras41</td><td>Komjáti András</td><td>2016-05-14</td><td>2016-05-16</td><td>2</td><td>NULL</td></tr><tr><td>andras41</td><td>Komjáti András</td><td>2016-05-21</td><td>2016-05-23</td><td>4</td><td>2</td></tr><tr><td>andras41</td><td>Komjáti András</td><td>2016-07-28</td><td>2016-08-03</td><td>3</td><td>6</td></tr><tr><td>andras41</td><td>Komjáti András</td><td>2016-08-17</td><td>2016-08-21</td><td>3</td><td>9</td></tr><tr><td>andras41</td><td>Komjáti András</td><td>2016-08-19</td><td>2016-08-23</td><td>1</td><td>10</td></tr><tr><td>andras41</td><td>Komjáti András</td><td>2016-06-07</td><td>2016-06-11</td><td>3</td><td>7</td></tr><tr><td>andras41</td><td>Komjáti András</td><td>2016-06-23</td><td>2016-06-29</td><td>2</td><td>7</td></tr><tr><td>andras41</td><td>Komjáti András</td><td>2016-09-22</td><td>2016-09-29</td><td>1</td><td>6</td></tr><tr><td>andras41</td><td>Komjáti András</td><td>2016-09-30</td><td>2016-10-05</td><td>2</td><td>6</td></tr><tr><td>andras41</td><td>Komjáti András</td><td>2016-10-09</td><td>2016-10-13</td><td>2</td><td>5</td></tr><tr><td>andras41</td><td>Komjáti András</td><td>2016-10-15</td><td>2016-10-18</td><td>3</td><td>5</td></tr><tr><td>andras41</td><td>Komjáti András</td><td>2016-11-20</td><td>2016-11-24</td><td>3</td><td>7</td></tr><tr><td>andras41</td><td>Komjáti András</td><td>2016-11-23</td><td>2016-11-24</td><td>1</td><td>8</td></tr><tr><td>ANDRASE</td><td>Erdei András</td><td>2016-04-24</td><td>2016-05-01</td><td>1</td><td>NULL</td></tr><tr><td>ANDRASE</td><td>Erdei András</td><td>2016-08-16</td><td>2016-08-20</td><td>2</td><td>1</td></tr><tr><td>ANDRASE</td><td>Erdei András</td><td>2016-07-06</td><td>2016-07-07</td><td>2</td><td>3</td></tr><tr><td>ANDRASE</td><td>Erdei András</td><td>2016-11-19</td><td>2016-11-20</td><td>4</td><td>5</td></tr><tr><td>ANDRASE</td><td>Erdei András</td><td>2016-11-29</td><td>2016-12-06</td><td>3</td><td>8</td></tr><tr><td>ANDRASN</td><td>Nagy András</td><td>2016-11-25</td><td>2016-12-01</td><td>2</td><td>NULL</td></tr><tr><td>andrea</td><td>Kiss Andrea</td><td>2016-07-27</td><td>2016-07-28</td><td>2</td><td>NULL</td></tr><tr><td>andrea</td><td>Kiss Andrea</td><td>2016-08-01</td><td>2016-08-02</td><td>2</td><td>2</td></tr><tr><td>andrea</td><td>Kiss Andrea</td><td>2016-08-23</td><td>2016-08-26</td><td>3</td><td>4</td></tr><tr><td>andrea</td><td>Kiss Andrea</td><td>2016-08-26</td><td>2016-08-30</td><td>2</td><td>7</td></tr><tr><td>andrea</td><td>Kiss Andrea</td><td>2016-10-21</td><td>2016-10-27</td><td>4</td><td>7</td></tr><tr><td>andrea</td><td>Kiss Andrea</td><td>2017-02-09</td><td>2017-02-14</td><td>2</td><td>9</td></tr><tr><td>andrea3</td><td>Szomor Andrea</td><td>2016-11-19</td><td>2016-11-21</td><td>3</td><td>NULL</td></tr><tr><td>andrea4</td><td>Neizer Andrea</td><td>2016-05-27</td><td>2016-05-29</td><td>1</td><td>NULL</td></tr><tr><td>andrea4</td><td>Neizer Andrea</td><td>2016-09-13</td><td>2016-09-17</td><td>2</td><td>1</td></tr><tr><td>andrea4</td><td>Neizer Andrea</td><td>2016-10-30</td><td>2016-11-06</td><td>3</td><td>3</td></tr><tr><td>andrea4</td><td>Neizer Andrea</td><td>2017-01-22</td><td>2017-01-29</td><td>2</td><td>6</td></tr><tr><td>ANDREAT</td><td>Tornyos Andrea</td><td>2016-07-27</td><td>2016-08-01</td><td>2</td><td>NULL</td></tr><tr><td>ANDREAT</td><td>Tornyos Andrea</td><td>2016-09-15</td><td>2016-09-16</td><td>2</td><td>2</td></tr><tr><td>ANDREAT</td><td>Tornyos Andrea</td><td>2016-10-08</td><td>2016-10-12</td><td>3</td><td>4</td></tr><tr><td>anett3</td><td>Pivarcsi Anett</td><td>2016-04-10</td><td>2016-04-17</td><td>1</td><td>NULL</td></tr><tr><td>anett3</td><td>Pivarcsi Anett</td><td>2016-04-13</td><td>2016-04-19</td><td>3</td><td>1</td></tr><tr><td>anett3</td><td>Pivarcsi Anett</td><td>2016-04-15</td><td>2016-04-19</td><td>3</td><td>4</td></tr><tr><td>anett3</td><td>Pivarcsi Anett</td><td>2016-04-28</td><td>2016-05-02</td><td>3</td><td>7</td></tr><tr><td>anett3</td><td>Pivarcsi Anett</td><td>2016-08-15</td><td>2016-08-16</td><td>2</td><td>9</td></tr><tr><td>anett3</td><td>Pivarcsi Anett</td><td>2016-08-17</td><td>2016-08-23</td><td>3</td><td>8</td></tr><tr><td>anett3</td><td>Pivarcsi Anett</td><td>2016-10-12</td><td>2016-10-19</td><td>3</td><td>8</td></tr><tr><td>anett3</td><td>Pivarcsi Anett</td><td>2016-10-16</td><td>2016-10-21</td><td>1</td><td>8</td></tr><tr><td>aniko</td><td>Tóth Anikó</td><td>2016-06-25</td><td>2016-06-30</td><td>3</td><td>NULL</td></tr><tr><td>aniko</td><td>Tóth Anikó</td><td>2017-02-12</td><td>2017-02-14</td><td>3</td><td>3</td></tr><tr><td>aniko</td><td>Tóth Anikó</td><td>2017-02-23</td><td>2017-02-24</td><td>2</td><td>6</td></tr><tr><td>aniko4</td><td>Böröcz Anikó</td><td>2016-07-22</td><td>2016-07-25</td><td>3</td><td>NULL</td></tr><tr><td>aniko4</td><td>Böröcz Anikó</td><td>2016-07-02</td><td>2016-07-09</td><td>1</td><td>3</td></tr><tr><td>aniko4</td><td>Böröcz Anikó</td><td>2016-09-05</td><td>2016-09-07</td><td>4</td><td>4</td></tr><tr><td>aniko4</td><td>Böröcz Anikó</td><td>2016-10-16</td><td>2016-10-18</td><td>3</td><td>8</td></tr><tr><td>ANIKOS</td><td>Simon Anikó</td><td>2016-04-19</td><td>2016-04-24</td><td>2</td><td>NULL</td></tr><tr><td>ANIKOS</td><td>Simon Anikó</td><td>2016-07-17</td><td>2016-07-22</td><td>3</td><td>2</td></tr><tr><td>ANIKOS</td><td>Simon Anikó</td><td>2016-08-26</td><td>2016-09-02</td><td>2</td><td>5</td></tr><tr><td>ANIKOS</td><td>Simon Anikó</td><td>2016-05-24</td><td>2016-05-25</td><td>3</td><td>7</td></tr><tr><td>ANIKOS</td><td>Simon Anikó</td><td>2016-06-16</td><td>2016-06-23</td><td>1</td><td>8</td></tr><tr><td>ANIKOS</td><td>Simon Anikó</td><td>2016-06-27</td><td>2016-06-30</td><td>2</td><td>6</td></tr><tr><td>ANIKOS</td><td>Simon Anikó</td><td>2016-10-08</td><td>2016-10-14</td><td>2</td><td>6</td></tr><tr><td>ANIKOS</td><td>Simon Anikó</td><td>2016-10-29</td><td>2016-11-05</td><td>3</td><td>5</td></tr><tr><td>ANIKOS</td><td>Simon Anikó</td><td>2016-11-10</td><td>2016-11-15</td><td>2</td><td>7</td></tr><tr><td>anita</td><td>Hamvay-Kovács Anita</td><td>2016-09-28</td><td>2016-10-02</td><td>4</td><td>NULL</td></tr><tr><td>anita</td><td>Hamvay-Kovács Anita</td><td>2016-10-01</td><td>2016-10-04</td><td>2</td><td>4</td></tr><tr><td>anita</td><td>Hamvay-Kovács Anita</td><td>2017-02-19</td><td>2017-02-22</td><td>2</td><td>6</td></tr><tr><td>anita</td><td>Hamvay-Kovács Anita</td><td>2017-02-20</td><td>2017-02-25</td><td>2</td><td>8</td></tr><tr><td>annamaria1</td><td>Szűcs Annamária</td><td>2016-06-06</td><td>2016-06-07</td><td>3</td><td>NULL</td></tr><tr><td>annamaria1</td><td>Szűcs Annamária</td><td>2017-01-30</td><td>2017-01-31</td><td>4</td><td>3</td></tr><tr><td>ANNAMARIAR</td><td>Regős Annamária</td><td>2016-07-18</td><td>2016-07-21</td><td>1</td><td>NULL</td></tr><tr><td>ANNAMARIAR</td><td>Regős Annamária</td><td>2016-06-08</td><td>2016-06-11</td><td>2</td><td>1</td></tr><tr><td>ANNAMARIAR</td><td>Regős Annamária</td><td>2016-09-23</td><td>2016-09-27</td><td>2</td><td>3</td></tr><tr><td>ANNAMARIAR</td><td>Regős Annamária</td><td>2016-11-11</td><td>2016-11-12</td><td>3</td><td>5</td></tr><tr><td>ANNAMARIAR</td><td>Regős Annamária</td><td>2017-01-10</td><td>2017-01-13</td><td>2</td><td>7</td></tr><tr><td>ANNAMARIAR</td><td>Regős Annamária</td><td>2017-02-16</td><td>2017-02-18</td><td>2</td><td>7</td></tr><tr><td>aron2</td><td>Jakab Áron</td><td>2016-04-11</td><td>2016-04-12</td><td>3</td><td>NULL</td></tr><tr><td>aron2</td><td>Jakab Áron</td><td>2016-07-04</td><td>2016-07-06</td><td>3</td><td>3</td></tr><tr><td>aron2</td><td>Jakab Áron</td><td>2016-10-23</td><td>2016-10-27</td><td>2</td><td>6</td></tr><tr><td>aron2</td><td>Jakab Áron</td><td>2016-11-05</td><td>2016-11-09</td><td>2</td><td>8</td></tr><tr><td>aron2</td><td>Jakab Áron</td><td>2017-01-17</td><td>2017-01-18</td><td>3</td><td>7</td></tr><tr><td>aron2</td><td>Jakab Áron</td><td>2017-02-26</td><td>2017-02-27</td><td>3</td><td>7</td></tr><tr><td>ARONK</td><td>Kelemen Áron</td><td>2016-04-06</td><td>2016-04-08</td><td>2</td><td>NULL</td></tr><tr><td>ARONK</td><td>Kelemen Áron</td><td>2016-05-14</td><td>2016-05-20</td><td>4</td><td>2</td></tr><tr><td>ARONK</td><td>Kelemen Áron</td><td>2016-08-05</td><td>2016-08-08</td><td>4</td><td>6</td></tr><tr><td>ARONK</td><td>Kelemen Áron</td><td>2016-06-04</td><td>2016-06-09</td><td>2</td><td>10</td></tr><tr><td>ARONK</td><td>Kelemen Áron</td><td>2016-06-07</td><td>2016-06-13</td><td>3</td><td>10</td></tr><tr><td>ARONK</td><td>Kelemen Áron</td><td>2016-07-03</td><td>2016-07-07</td><td>2</td><td>9</td></tr><tr><td>ARONK</td><td>Kelemen Áron</td><td>2016-09-08</td><td>2016-09-15</td><td>2</td><td>7</td></tr><tr><td>ARONK</td><td>Kelemen Áron</td><td>2016-11-03</td><td>2016-11-10</td><td>2</td><td>7</td></tr><tr><td>ARONK</td><td>Kelemen Áron</td><td>2016-11-05</td><td>2016-11-07</td><td>2</td><td>6</td></tr><tr><td>ARONK</td><td>Kelemen Áron</td><td>2016-12-07</td><td>2016-12-12</td><td>3</td><td>6</td></tr><tr><td>ARONK</td><td>Kelemen Áron</td><td>2017-01-01</td><td>2017-01-03</td><td>2</td><td>7</td></tr><tr><td>ARONK</td><td>Kelemen Áron</td><td>2017-01-30</td><td>2017-02-03</td><td>2</td><td>7</td></tr><tr><td>ARONK</td><td>Kelemen Áron</td><td>2017-02-21</td><td>2017-02-23</td><td>2</td><td>7</td></tr><tr><td>arpad2</td><td>Ötvös Árpád</td><td>2016-08-23</td><td>2016-08-25</td><td>2</td><td>NULL</td></tr><tr><td>arpad2</td><td>Ötvös Árpád</td><td>2016-06-05</td><td>2016-06-07</td><td>2</td><td>2</td></tr><tr><td>arpad2</td><td>Ötvös Árpád</td><td>2016-09-28</td><td>2016-09-30</td><td>2</td><td>4</td></tr><tr><td>arpad2</td><td>Ötvös Árpád</td><td>2016-10-13</td><td>2016-10-19</td><td>3</td><td>6</td></tr><tr><td>arpad2</td><td>Ötvös Árpád</td><td>2016-11-06</td><td>2016-11-10</td><td>2</td><td>7</td></tr><tr><td>arpad2</td><td>Ötvös Árpád</td><td>2016-12-24</td><td>2016-12-27</td><td>3</td><td>7</td></tr><tr><td>arpad2</td><td>Ötvös Árpád</td><td>2017-02-18</td><td>2017-02-19</td><td>4</td><td>8</td></tr><tr><td>ARPADH</td><td>Horváth Árpád</td><td>2016-07-14</td><td>2016-07-18</td><td>2</td><td>NULL</td></tr><tr><td>ARPADH</td><td>Horváth Árpád</td><td>2016-06-06</td><td>2016-06-07</td><td>3</td><td>2</td></tr><tr><td>ARPADH</td><td>Horváth Árpád</td><td>2016-09-16</td><td>2016-09-23</td><td>1</td><td>5</td></tr><tr><td>ARPADH</td><td>Horváth Árpád</td><td>2016-09-18</td><td>2016-09-25</td><td>1</td><td>6</td></tr><tr><td>ARPADH</td><td>Horváth Árpád</td><td>2016-12-04</td><td>2016-12-10</td><td>1</td><td>5</td></tr><tr><td>ARPADH</td><td>Horváth Árpád</td><td>2016-12-18</td><td>2016-12-19</td><td>3</td><td>3</td></tr><tr><td>ARPADH</td><td>Horváth Árpád</td><td>2017-02-16</td><td>2017-02-18</td><td>2</td><td>5</td></tr><tr><td>ARPADM</td><td>Móricz Árpád</td><td>2016-08-12</td><td>2016-08-16</td><td>2</td><td>NULL</td></tr><tr><td>ARPADM</td><td>Móricz Árpád</td><td>2016-05-29</td><td>2016-06-01</td><td>2</td><td>2</td></tr><tr><td>ARPADM</td><td>Móricz Árpád</td><td>2016-11-09</td><td>2016-11-11</td><td>2</td><td>4</td></tr><tr><td>ARPADM</td><td>Móricz Árpád</td><td>2016-12-14</td><td>2016-12-17</td><td>3</td><td>6</td></tr><tr><td>ARPADM</td><td>Móricz Árpád</td><td>2017-01-05</td><td>2017-01-10</td><td>1</td><td>7</td></tr><tr><td>ARPADM</td><td>Móricz Árpád</td><td>2017-02-12</td><td>2017-02-14</td><td>3</td><td>6</td></tr><tr><td>attila</td><td>Csóti Attila</td><td>2016-09-30</td><td>2016-10-07</td><td>3</td><td>NULL</td></tr><tr><td>attila</td><td>Csóti Attila</td><td>2016-10-15</td><td>2016-10-19</td><td>1</td><td>3</td></tr><tr><td>attila</td><td>Csóti Attila</td><td>2016-12-22</td><td>2016-12-26</td><td>2</td><td>4</td></tr><tr><td>attila1</td><td>Gulyás Attila</td><td>2016-05-20</td><td>2016-05-26</td><td>1</td><td>NULL</td></tr><tr><td>attila1</td><td>Gulyás Attila</td><td>2016-10-09</td><td>2016-10-12</td><td>2</td><td>1</td></tr><tr><td>attila1</td><td>Gulyás Attila</td><td>2016-10-15</td><td>2016-10-16</td><td>3</td><td>3</td></tr><tr><td>attila1</td><td>Gulyás Attila</td><td>2016-10-30</td><td>2016-11-05</td><td>2</td><td>6</td></tr><tr><td>attila1</td><td>Gulyás Attila</td><td>2016-11-10</td><td>2016-11-14</td><td>2</td><td>7</td></tr><tr><td>attila1</td><td>Gulyás Attila</td><td>2017-01-23</td><td>2017-01-30</td><td>4</td><td>7</td></tr><tr><td>attila4</td><td>Baróti Attila</td><td>2016-08-18</td><td>2016-08-23</td><td>4</td><td>NULL</td></tr><tr><td>attila4</td><td>Baróti Attila</td><td>2016-12-31</td><td>2017-01-01</td><td>2</td><td>4</td></tr><tr><td>attila4</td><td>Baróti Attila</td><td>2017-02-15</td><td>2017-02-22</td><td>2</td><td>6</td></tr><tr><td>ATTILAO</td><td>Opra Attila</td><td>2016-05-21</td><td>2016-05-26</td><td>3</td><td>NULL</td></tr><tr><td>ATTILAO</td><td>Opra Attila</td><td>2016-06-04</td><td>2016-06-11</td><td>3</td><td>3</td></tr><tr><td>ATTILAO</td><td>Opra Attila</td><td>2016-10-30</td><td>2016-11-03</td><td>2</td><td>6</td></tr><tr><td>ATTILAO</td><td>Opra Attila</td><td>2017-02-22</td><td>2017-02-25</td><td>3</td><td>8</td></tr><tr><td>balazs1</td><td>Bozsik Balázs</td><td>2016-05-07</td><td>2016-05-14</td><td>2</td><td>NULL</td></tr><tr><td>balazs1</td><td>Bozsik Balázs</td><td>2016-07-22</td><td>2016-07-26</td><td>4</td><td>2</td></tr><tr><td>balazs1</td><td>Bozsik Balázs</td><td>2016-12-26</td><td>2016-12-28</td><td>3</td><td>6</td></tr><tr><td>balazs1</td><td>Bozsik Balázs</td><td>2017-01-01</td><td>2017-01-05</td><td>2</td><td>9</td></tr><tr><td>balazs1</td><td>Bozsik Balázs</td><td>2017-02-10</td><td>2017-02-14</td><td>3</td><td>9</td></tr><tr><td>balazs1</td><td>Bozsik Balázs</td><td>2017-02-12</td><td>2017-02-14</td><td>2</td><td>8</td></tr><tr><td>balazs2</td><td>Szűcs Balázs</td><td>2016-04-16</td><td>2016-04-19</td><td>2</td><td>NULL</td></tr><tr><td>balazs2</td><td>Szűcs Balázs</td><td>2016-07-20</td><td>2016-07-25</td><td>2</td><td>2</td></tr><tr><td>balazs2</td><td>Szűcs Balázs</td><td>2016-08-21</td><td>2016-08-22</td><td>3</td><td>4</td></tr><tr><td>balazs2</td><td>Szűcs Balázs</td><td>2016-05-22</td><td>2016-05-29</td><td>3</td><td>7</td></tr><tr><td>balazs2</td><td>Szűcs Balázs</td><td>2016-05-28</td><td>2016-06-01</td><td>3</td><td>8</td></tr><tr><td>balazs2</td><td>Szűcs Balázs</td><td>2016-07-08</td><td>2016-07-12</td><td>3</td><td>9</td></tr><tr><td>balazs2</td><td>Szűcs Balázs</td><td>2016-07-10</td><td>2016-07-17</td><td>3</td><td>9</td></tr><tr><td>balazs2</td><td>Szűcs Balázs</td><td>2016-09-12</td><td>2016-09-14</td><td>3</td><td>9</td></tr><tr><td>balazs2</td><td>Szűcs Balázs</td><td>2016-11-03</td><td>2016-11-05</td><td>3</td><td>9</td></tr><tr><td>balazs2</td><td>Szűcs Balázs</td><td>2017-02-27</td><td>2017-03-06</td><td>1</td><td>9</td></tr><tr><td>balazs3</td><td>Bakódy Balázs</td><td>2016-07-17</td><td>2016-07-21</td><td>2</td><td>NULL</td></tr><tr><td>balazs3</td><td>Bakódy Balázs</td><td>2016-07-27</td><td>2016-07-31</td><td>4</td><td>2</td></tr><tr><td>balazs3</td><td>Bakódy Balázs</td><td>2016-08-24</td><td>2016-08-28</td><td>3</td><td>6</td></tr><tr><td>balazs3</td><td>Bakódy Balázs</td><td>2016-09-15</td><td>2016-09-16</td><td>3</td><td>9</td></tr><tr><td>balazs3</td><td>Bakódy Balázs</td><td>2016-12-05</td><td>2016-12-11</td><td>3</td><td>10</td></tr><tr><td>balazs3</td><td>Bakódy Balázs</td><td>2017-01-20</td><td>2017-01-22</td><td>2</td><td>9</td></tr><tr><td>balint</td><td>Horváth Bálint</td><td>2016-04-22</td><td>2016-04-29</td><td>2</td><td>NULL</td></tr><tr><td>balint</td><td>Horváth Bálint</td><td>2016-10-09</td><td>2016-10-11</td><td>2</td><td>2</td></tr><tr><td>balint</td><td>Horváth Bálint</td><td>2016-11-24</td><td>2016-11-29</td><td>3</td><td>4</td></tr><tr><td>balint1</td><td>Molnár Bálint</td><td>2016-07-26</td><td>2016-07-28</td><td>2</td><td>NULL</td></tr><tr><td>balint1</td><td>Molnár Bálint</td><td>2016-08-03</td><td>2016-08-08</td><td>2</td><td>2</td></tr><tr><td>balint1</td><td>Molnár Bálint</td><td>2016-06-07</td><td>2016-06-12</td><td>3</td><td>4</td></tr><tr><td>balint1</td><td>Molnár Bálint</td><td>2016-06-07</td><td>2016-06-11</td><td>3</td><td>7</td></tr><tr><td>balint1</td><td>Molnár Bálint</td><td>2016-06-10</td><td>2016-06-12</td><td>1</td><td>8</td></tr><tr><td>balint1</td><td>Molnár Bálint</td><td>2016-09-16</td><td>2016-09-21</td><td>1</td><td>7</td></tr><tr><td>balint1</td><td>Molnár Bálint</td><td>2016-11-07</td><td>2016-11-10</td><td>2</td><td>5</td></tr><tr><td>balint1</td><td>Molnár Bálint</td><td>2016-12-17</td><td>2016-12-22</td><td>3</td><td>4</td></tr><tr><td>balint1</td><td>Molnár Bálint</td><td>2016-12-29</td><td>2016-12-31</td><td>3</td><td>6</td></tr><tr><td>balint1</td><td>Molnár Bálint</td><td>2017-01-03</td><td>2017-01-08</td><td>2</td><td>8</td></tr><tr><td>balint2</td><td>Vukasinovity Bálint</td><td>2016-07-21</td><td>2016-07-26</td><td>1</td><td>NULL</td></tr><tr><td>balint2</td><td>Vukasinovity Bálint</td><td>2016-12-04</td><td>2016-12-06</td><td>3</td><td>1</td></tr><tr><td>balu</td><td>Endresz Bálint</td><td>2016-08-06</td><td>2016-08-10</td><td>2</td><td>NULL</td></tr><tr><td>balu</td><td>Endresz Bálint</td><td>2016-12-22</td><td>2016-12-23</td><td>2</td><td>2</td></tr><tr><td>beata4</td><td>Bagi Beáta</td><td>2016-04-20</td><td>2016-04-21</td><td>2</td><td>NULL</td></tr><tr><td>beata4</td><td>Bagi Beáta</td><td>2016-08-25</td><td>2016-08-27</td><td>3</td><td>2</td></tr><tr><td>beata4</td><td>Bagi Beáta</td><td>2016-06-03</td><td>2016-06-04</td><td>2</td><td>5</td></tr><tr><td>beata4</td><td>Bagi Beáta</td><td>2016-07-03</td><td>2016-07-06</td><td>1</td><td>7</td></tr><tr><td>beata4</td><td>Bagi Beáta</td><td>2016-10-01</td><td>2016-10-05</td><td>1</td><td>6</td></tr><tr><td>beata4</td><td>Bagi Beáta</td><td>2016-10-03</td><td>2016-10-06</td><td>3</td><td>4</td></tr><tr><td>BEATRIXK</td><td>Kerényi Beatrix</td><td>2016-08-12</td><td>2016-08-18</td><td>4</td><td>NULL</td></tr><tr><td>BEATRIXK</td><td>Kerényi Beatrix</td><td>2016-06-10</td><td>2016-06-11</td><td>2</td><td>4</td></tr><tr><td>BEATRIXK</td><td>Kerényi Beatrix</td><td>2016-06-10</td><td>2016-06-14</td><td>2</td><td>6</td></tr><tr><td>BEATRIXK</td><td>Kerényi Beatrix</td><td>2016-06-19</td><td>2016-06-21</td><td>3</td><td>8</td></tr><tr><td>BEATRIXK</td><td>Kerényi Beatrix</td><td>2016-10-23</td><td>2016-10-28</td><td>2</td><td>7</td></tr><tr><td>BEATRIXK</td><td>Kerényi Beatrix</td><td>2016-11-14</td><td>2016-11-19</td><td>2</td><td>7</td></tr><tr><td>BEATRIXK</td><td>Kerényi Beatrix</td><td>2016-12-12</td><td>2016-12-14</td><td>3</td><td>7</td></tr><tr><td>BEATRIXK</td><td>Kerényi Beatrix</td><td>2016-12-17</td><td>2016-12-22</td><td>4</td><td>7</td></tr><tr><td>BEATRIXK</td><td>Kerényi Beatrix</td><td>2017-02-08</td><td>2017-02-09</td><td>3</td><td>9</td></tr><tr><td>BEATRIXS</td><td>Szekendi Beatrix</td><td>2016-04-18</td><td>2016-04-24</td><td>1</td><td>NULL</td></tr><tr><td>BEATRIXS</td><td>Szekendi Beatrix</td><td>2016-06-11</td><td>2016-06-14</td><td>3</td><td>1</td></tr><tr><td>BEATRIXS</td><td>Szekendi Beatrix</td><td>2016-10-01</td><td>2016-10-03</td><td>3</td><td>4</td></tr><tr><td>BEATRIXS</td><td>Szekendi Beatrix</td><td>2016-10-01</td><td>2016-10-05</td><td>3</td><td>7</td></tr><tr><td>BEATRIXS</td><td>Szekendi Beatrix</td><td>2016-12-21</td><td>2016-12-27</td><td>2</td><td>9</td></tr><tr><td>BEATRIXS</td><td>Szekendi Beatrix</td><td>2017-02-03</td><td>2017-02-04</td><td>2</td><td>8</td></tr><tr><td>BELAF</td><td>Farkas Béla</td><td>2016-07-27</td><td>2016-07-30</td><td>3</td><td>NULL</td></tr><tr><td>BELAF</td><td>Farkas Béla</td><td>2016-07-29</td><td>2016-07-31</td><td>2</td><td>3</td></tr><tr><td>BELAF</td><td>Farkas Béla</td><td>2016-08-29</td><td>2016-08-31</td><td>2</td><td>5</td></tr><tr><td>BELAF</td><td>Farkas Béla</td><td>2016-11-03</td><td>2016-11-09</td><td>4</td><td>7</td></tr><tr><td>BELAF</td><td>Farkas Béla</td><td>2016-12-02</td><td>2016-12-04</td><td>3</td><td>8</td></tr><tr><td>BELAF</td><td>Farkas Béla</td><td>2016-12-06</td><td>2016-12-09</td><td>1</td><td>9</td></tr><tr><td>bence</td><td>Győrffy Bence</td><td>2016-05-08</td><td>2016-05-11</td><td>2</td><td>NULL</td></tr><tr><td>bence</td><td>Győrffy Bence</td><td>2016-07-24</td><td>2016-07-30</td><td>2</td><td>2</td></tr><tr><td>bence</td><td>Győrffy Bence</td><td>2016-07-25</td><td>2016-08-01</td><td>3</td><td>4</td></tr><tr><td>bence</td><td>Győrffy Bence</td><td>2016-09-03</td><td>2016-09-06</td><td>3</td><td>7</td></tr><tr><td>bence</td><td>Győrffy Bence</td><td>2016-05-29</td><td>2016-06-03</td><td>1</td><td>8</td></tr><tr><td>bence</td><td>Győrffy Bence</td><td>2016-10-30</td><td>2016-11-02</td><td>4</td><td>7</td></tr><tr><td>bence</td><td>Győrffy Bence</td><td>2016-12-17</td><td>2016-12-18</td><td>2</td><td>8</td></tr><tr><td>bence</td><td>Győrffy Bence</td><td>2016-12-26</td><td>2016-12-27</td><td>2</td><td>7</td></tr><tr><td>bence</td><td>Győrffy Bence</td><td>2017-02-05</td><td>2017-02-09</td><td>3</td><td>8</td></tr><tr><td>BENCEB</td><td>Bajusz Bence</td><td>2016-05-14</td><td>2016-05-17</td><td>3</td><td>NULL</td></tr><tr><td>BENCEB</td><td>Bajusz Bence</td><td>2016-08-01</td><td>2016-08-02</td><td>2</td><td>3</td></tr><tr><td>BENCEB</td><td>Bajusz Bence</td><td>2016-06-03</td><td>2016-06-09</td><td>2</td><td>5</td></tr><tr><td>BENCEB</td><td>Bajusz Bence</td><td>2016-10-22</td><td>2016-10-29</td><td>3</td><td>7</td></tr><tr><td>BENCEB</td><td>Bajusz Bence</td><td>2016-11-28</td><td>2016-12-02</td><td>2</td><td>7</td></tr><tr><td>BENCEB</td><td>Bajusz Bence</td><td>2017-02-12</td><td>2017-02-19</td><td>3</td><td>7</td></tr><tr><td>bernadett1</td><td>Simon Bernadett</td><td>2016-06-12</td><td>2016-06-17</td><td>3</td><td>NULL</td></tr><tr><td>bernadett1</td><td>Simon Bernadett</td><td>2016-10-08</td><td>2016-10-09</td><td>4</td><td>3</td></tr><tr><td>bernadett1</td><td>Simon Bernadett</td><td>2016-10-15</td><td>2016-10-22</td><td>3</td><td>7</td></tr><tr><td>bernadett1</td><td>Simon Bernadett</td><td>2016-10-26</td><td>2016-11-02</td><td>3</td><td>10</td></tr><tr><td>bernadett1</td><td>Simon Bernadett</td><td>2016-10-28</td><td>2016-11-01</td><td>3</td><td>10</td></tr><tr><td>bernadett1</td><td>Simon Bernadett</td><td>2017-02-14</td><td>2017-02-15</td><td>3</td><td>9</td></tr><tr><td>bernadett1</td><td>Simon Bernadett</td><td>2017-02-24</td><td>2017-03-03</td><td>1</td><td>9</td></tr><tr><td>bernadett2</td><td>Kovács Bernadett</td><td>2016-05-01</td><td>2016-05-03</td><td>2</td><td>NULL</td></tr><tr><td>bernadett2</td><td>Kovács Bernadett</td><td>2016-08-23</td><td>2016-08-29</td><td>2</td><td>2</td></tr><tr><td>bernadett2</td><td>Kovács Bernadett</td><td>2016-08-25</td><td>2016-08-27</td><td>3</td><td>4</td></tr><tr><td>bernadett2</td><td>Kovács Bernadett</td><td>2016-06-17</td><td>2016-06-23</td><td>3</td><td>7</td></tr><tr><td>bernadett2</td><td>Kovács Bernadett</td><td>2016-09-07</td><td>2016-09-13</td><td>3</td><td>8</td></tr><tr><td>bernadett2</td><td>Kovács Bernadett</td><td>2016-10-30</td><td>2016-11-06</td><td>3</td><td>9</td></tr><tr><td>bernadett2</td><td>Kovács Bernadett</td><td>2016-12-17</td><td>2016-12-20</td><td>1</td><td>9</td></tr><tr><td>bernadett2</td><td>Kovács Bernadett</td><td>2017-01-24</td><td>2017-01-30</td><td>3</td><td>7</td></tr><tr><td>BERNADETTO</td><td>Orbán Bernadett</td><td>2016-04-10</td><td>2016-04-17</td><td>2</td><td>NULL</td></tr><tr><td>BERNADETTO</td><td>Orbán Bernadett</td><td>2016-04-17</td><td>2016-04-19</td><td>2</td><td>2</td></tr><tr><td>BERNADETTO</td><td>Orbán Bernadett</td><td>2016-06-07</td><td>2016-06-13</td><td>3</td><td>4</td></tr><tr><td>BERNADETTO</td><td>Orbán Bernadett</td><td>2016-06-10</td><td>2016-06-16</td><td>4</td><td>7</td></tr><tr><td>BERNADETTO</td><td>Orbán Bernadett</td><td>2016-10-04</td><td>2016-10-05</td><td>2</td><td>9</td></tr><tr><td>BERNADETTO</td><td>Orbán Bernadett</td><td>2017-01-01</td><td>2017-01-02</td><td>3</td><td>9</td></tr><tr><td>BERNADETTO</td><td>Orbán Bernadett</td><td>2017-01-28</td><td>2017-02-03</td><td>2</td><td>9</td></tr><tr><td>bertalan</td><td>Csiger Bertalan</td><td>2016-05-18</td><td>2016-05-23</td><td>2</td><td>NULL</td></tr><tr><td>bertalan</td><td>Csiger Bertalan</td><td>2016-06-20</td><td>2016-06-21</td><td>1</td><td>2</td></tr><tr><td>bertalan</td><td>Csiger Bertalan</td><td>2016-11-03</td><td>2016-11-10</td><td>2</td><td>3</td></tr><tr><td>bertalan</td><td>Csiger Bertalan</td><td>2016-11-26</td><td>2016-11-29</td><td>3</td><td>5</td></tr><tr><td>bertalan</td><td>Csiger Bertalan</td><td>2017-02-16</td><td>2017-02-22</td><td>2</td><td>6</td></tr><tr><td>bertalan</td><td>Csiger Bertalan</td><td>2017-02-20</td><td>2017-02-24</td><td>4</td><td>7</td></tr><tr><td>brigitta</td><td>Székely Brigitta</td><td>2016-08-28</td><td>2016-09-01</td><td>3</td><td>NULL</td></tr><tr><td>brigitta</td><td>Székely Brigitta</td><td>2016-05-30</td><td>2016-06-06</td><td>3</td><td>3</td></tr><tr><td>brigitta</td><td>Székely Brigitta</td><td>2016-10-21</td><td>2016-10-28</td><td>3</td><td>6</td></tr><tr><td>brigitta</td><td>Székely Brigitta</td><td>2016-12-17</td><td>2016-12-22</td><td>2</td><td>9</td></tr><tr><td>brigitta</td><td>Székely Brigitta</td><td>2017-01-23</td><td>2017-01-25</td><td>1</td><td>8</td></tr><tr><td>brigitta3</td><td>Pataki Brigitta</td><td>2016-06-01</td><td>2016-06-05</td><td>2</td><td>NULL</td></tr><tr><td>brigitta3</td><td>Pataki Brigitta</td><td>2016-06-13</td><td>2016-06-17</td><td>3</td><td>2</td></tr><tr><td>brigitta3</td><td>Pataki Brigitta</td><td>2016-10-10</td><td>2016-10-14</td><td>2</td><td>5</td></tr><tr><td>brigitta3</td><td>Pataki Brigitta</td><td>2016-11-03</td><td>2016-11-09</td><td>3</td><td>7</td></tr><tr><td>brigitta3</td><td>Pataki Brigitta</td><td>2017-02-09</td><td>2017-02-16</td><td>2</td><td>8</td></tr><tr><td>csongor3</td><td>Nagymihály Csongor</td><td>2016-05-01</td><td>2016-05-04</td><td>2</td><td>NULL</td></tr><tr><td>csongor3</td><td>Nagymihály Csongor</td><td>2016-05-08</td><td>2016-05-15</td><td>3</td><td>2</td></tr><tr><td>csongor3</td><td>Nagymihály Csongor</td><td>2016-06-04</td><td>2016-06-05</td><td>2</td><td>5</td></tr><tr><td>csongor3</td><td>Nagymihály Csongor</td><td>2016-06-10</td><td>2016-06-17</td><td>3</td><td>7</td></tr><tr><td>csongor3</td><td>Nagymihály Csongor</td><td>2016-06-11</td><td>2016-06-14</td><td>2</td><td>8</td></tr><tr><td>csongor3</td><td>Nagymihály Csongor</td><td>2016-07-09</td><td>2016-07-10</td><td>4</td><td>7</td></tr><tr><td>csongor3</td><td>Nagymihály Csongor</td><td>2016-11-12</td><td>2016-11-17</td><td>3</td><td>9</td></tr><tr><td>csongor3</td><td>Nagymihály Csongor</td><td>2017-02-13</td><td>2017-02-19</td><td>3</td><td>9</td></tr><tr><td>dani</td><td>Vörös Dániel</td><td>2016-08-06</td><td>2016-08-09</td><td>2</td><td>NULL</td></tr><tr><td>dani</td><td>Vörös Dániel</td><td>2016-06-06</td><td>2016-06-10</td><td>3</td><td>2</td></tr><tr><td>dani</td><td>Vörös Dániel</td><td>2016-07-11</td><td>2016-07-12</td><td>3</td><td>5</td></tr><tr><td>dani</td><td>Vörös Dániel</td><td>2016-09-19</td><td>2016-09-25</td><td>4</td><td>8</td></tr><tr><td>dani</td><td>Vörös Dániel</td><td>2016-10-01</td><td>2016-10-02</td><td>1</td><td>10</td></tr><tr><td>dani</td><td>Vörös Dániel</td><td>2016-11-22</td><td>2016-11-24</td><td>2</td><td>8</td></tr><tr><td>dani</td><td>Vörös Dániel</td><td>2017-01-17</td><td>2017-01-23</td><td>2</td><td>7</td></tr><tr><td>dani</td><td>Vörös Dániel</td><td>2017-01-22</td><td>2017-01-29</td><td>1</td><td>5</td></tr><tr><td>dani</td><td>Vörös Dániel</td><td>2017-02-25</td><td>2017-03-01</td><td>3</td><td>5</td></tr><tr><td>daniel</td><td>Rácz Dániel</td><td>2016-04-10</td><td>2016-04-11</td><td>4</td><td>NULL</td></tr><tr><td>daniel</td><td>Rácz Dániel</td><td>2016-04-22</td><td>2016-04-25</td><td>2</td><td>4</td></tr><tr><td>daniel</td><td>Rácz Dániel</td><td>2016-05-09</td><td>2016-05-13</td><td>3</td><td>6</td></tr><tr><td>daniel</td><td>Rácz Dániel</td><td>2016-09-08</td><td>2016-09-10</td><td>4</td><td>9</td></tr><tr><td>daniel</td><td>Rácz Dániel</td><td>2016-11-13</td><td>2016-11-19</td><td>3</td><td>9</td></tr><tr><td>daniel</td><td>Rácz Dániel</td><td>2016-12-25</td><td>2016-12-26</td><td>3</td><td>10</td></tr><tr><td>daniel</td><td>Rácz Dániel</td><td>2017-01-09</td><td>2017-01-11</td><td>1</td><td>10</td></tr><tr><td>daniel</td><td>Rácz Dániel</td><td>2017-02-12</td><td>2017-02-13</td><td>3</td><td>7</td></tr><tr><td>daniel</td><td>Rácz Dániel</td><td>2017-02-20</td><td>2017-02-23</td><td>3</td><td>7</td></tr><tr><td>daniel1</td><td>Keszler Dániel</td><td>2016-04-10</td><td>2016-04-15</td><td>2</td><td>NULL</td></tr><tr><td>daniel1</td><td>Keszler Dániel</td><td>2016-05-10</td><td>2016-05-13</td><td>4</td><td>2</td></tr><tr><td>daniel1</td><td>Keszler Dániel</td><td>2016-05-26</td><td>2016-05-27</td><td>3</td><td>6</td></tr><tr><td>daniel1</td><td>Keszler Dániel</td><td>2016-11-09</td><td>2016-11-11</td><td>2</td><td>9</td></tr><tr><td>daniel1</td><td>Keszler Dániel</td><td>2016-11-23</td><td>2016-11-25</td><td>2</td><td>9</td></tr><tr><td>daniel1</td><td>Keszler Dániel</td><td>2017-01-05</td><td>2017-01-08</td><td>3</td><td>7</td></tr><tr><td>daniel1</td><td>Keszler Dániel</td><td>2017-03-01</td><td>2017-03-06</td><td>4</td><td>7</td></tr><tr><td>david</td><td>Ambrus Dávid</td><td>2016-05-18</td><td>2016-05-25</td><td>2</td><td>NULL</td></tr><tr><td>david</td><td>Ambrus Dávid</td><td>2016-07-18</td><td>2016-07-21</td><td>2</td><td>2</td></tr><tr><td>david</td><td>Ambrus Dávid</td><td>2016-08-05</td><td>2016-08-12</td><td>1</td><td>4</td></tr><tr><td>david</td><td>Ambrus Dávid</td><td>2016-08-20</td><td>2016-08-25</td><td>3</td><td>5</td></tr><tr><td>david</td><td>Ambrus Dávid</td><td>2016-08-22</td><td>2016-08-24</td><td>3</td><td>6</td></tr><tr><td>david</td><td>Ambrus Dávid</td><td>2016-06-09</td><td>2016-06-10</td><td>2</td><td>7</td></tr><tr><td>david</td><td>Ambrus Dávid</td><td>2016-06-30</td><td>2016-07-07</td><td>2</td><td>8</td></tr><tr><td>david</td><td>Ambrus Dávid</td><td>2016-10-30</td><td>2016-11-04</td><td>2</td><td>7</td></tr><tr><td>david</td><td>Ambrus Dávid</td><td>2017-01-18</td><td>2017-01-19</td><td>2</td><td>6</td></tr><tr><td>david1</td><td>Sobják Dávid</td><td>2016-09-20</td><td>2016-09-21</td><td>2</td><td>NULL</td></tr><tr><td>david1</td><td>Sobják Dávid</td><td>2016-10-01</td><td>2016-10-02</td><td>2</td><td>2</td></tr><tr><td>david1</td><td>Sobják Dávid</td><td>2016-11-19</td><td>2016-11-22</td><td>2</td><td>4</td></tr><tr><td>david1</td><td>Sobják Dávid</td><td>2016-12-30</td><td>2017-01-06</td><td>2</td><td>6</td></tr><tr><td>david1</td><td>Sobják Dávid</td><td>2017-02-17</td><td>2017-02-20</td><td>3</td><td>6</td></tr><tr><td>david1</td><td>Sobják Dávid</td><td>2017-02-25</td><td>2017-02-27</td><td>4</td><td>7</td></tr><tr><td>david4</td><td>Berta Dávid</td><td>2017-02-16</td><td>2017-02-19</td><td>3</td><td>NULL</td></tr><tr><td>debora</td><td>Barna Debóra</td><td>2016-06-22</td><td>2016-06-24</td><td>5</td><td>NULL</td></tr><tr><td>debora</td><td>Barna Debóra</td><td>2016-10-29</td><td>2016-11-03</td><td>2</td><td>5</td></tr><tr><td>debora</td><td>Barna Debóra</td><td>2017-01-23</td><td>2017-01-28</td><td>3</td><td>7</td></tr><tr><td>debora</td><td>Barna Debóra</td><td>2017-02-04</td><td>2017-02-06</td><td>3</td><td>10</td></tr><tr><td>denes</td><td>Tömböly Dénes</td><td>2016-07-19</td><td>2016-07-23</td><td>2</td><td>NULL</td></tr><tr><td>denes</td><td>Tömböly Dénes</td><td>2016-08-01</td><td>2016-08-08</td><td>3</td><td>2</td></tr><tr><td>denes</td><td>Tömböly Dénes</td><td>2016-08-16</td><td>2016-08-23</td><td>2</td><td>5</td></tr><tr><td>denes</td><td>Tömböly Dénes</td><td>2016-08-20</td><td>2016-08-27</td><td>3</td><td>7</td></tr><tr><td>denes</td><td>Tömböly Dénes</td><td>2016-05-27</td><td>2016-05-31</td><td>3</td><td>8</td></tr><tr><td>denes</td><td>Tömböly Dénes</td><td>2016-11-06</td><td>2016-11-10</td><td>2</td><td>8</td></tr><tr><td>dora3</td><td>Sarodi Dóra</td><td>2016-08-16</td><td>2016-08-19</td><td>4</td><td>NULL</td></tr><tr><td>dora3</td><td>Sarodi Dóra</td><td>2016-08-25</td><td>2016-08-29</td><td>3</td><td>4</td></tr><tr><td>dora3</td><td>Sarodi Dóra</td><td>2016-10-09</td><td>2016-10-12</td><td>3</td><td>7</td></tr><tr><td>dora3</td><td>Sarodi Dóra</td><td>2016-10-29</td><td>2016-11-02</td><td>3</td><td>10</td></tr><tr><td>dora3</td><td>Sarodi Dóra</td><td>2016-11-22</td><td>2016-11-29</td><td>3</td><td>9</td></tr><tr><td>edit</td><td>Bittmann Edit</td><td>2016-07-14</td><td>2016-07-17</td><td>3</td><td>NULL</td></tr><tr><td>edit</td><td>Bittmann Edit</td><td>2016-08-03</td><td>2016-08-09</td><td>4</td><td>3</td></tr><tr><td>edit</td><td>Bittmann Edit</td><td>2016-08-12</td><td>2016-08-14</td><td>2</td><td>7</td></tr><tr><td>edit</td><td>Bittmann Edit</td><td>2016-09-17</td><td>2016-09-24</td><td>2</td><td>9</td></tr><tr><td>edit</td><td>Bittmann Edit</td><td>2016-09-18</td><td>2016-09-21</td><td>3</td><td>8</td></tr><tr><td>edit</td><td>Bittmann Edit</td><td>2017-01-15</td><td>2017-01-18</td><td>4</td><td>7</td></tr><tr><td>edit</td><td>Bittmann Edit</td><td>2017-02-08</td><td>2017-02-14</td><td>3</td><td>9</td></tr><tr><td>emese</td><td>Kuruc Emese</td><td>2016-07-22</td><td>2016-07-24</td><td>2</td><td>NULL</td></tr><tr><td>emese</td><td>Kuruc Emese</td><td>2016-08-09</td><td>2016-08-12</td><td>2</td><td>2</td></tr><tr><td>emese</td><td>Kuruc Emese</td><td>2016-09-27</td><td>2016-09-28</td><td>3</td><td>4</td></tr><tr><td>emese</td><td>Kuruc Emese</td><td>2016-11-05</td><td>2016-11-09</td><td>1</td><td>7</td></tr><tr><td>emese</td><td>Kuruc Emese</td><td>2016-11-23</td><td>2016-11-27</td><td>4</td><td>6</td></tr><tr><td>emese</td><td>Kuruc Emese</td><td>2016-12-07</td><td>2016-12-08</td><td>3</td><td>8</td></tr><tr><td>emese</td><td>Kuruc Emese</td><td>2017-01-30</td><td>2017-01-31</td><td>2</td><td>8</td></tr><tr><td>eszter</td><td>Molnár Eszter</td><td>2016-08-12</td><td>2016-08-18</td><td>3</td><td>NULL</td></tr><tr><td>eszter</td><td>Molnár Eszter</td><td>2016-10-04</td><td>2016-10-10</td><td>3</td><td>3</td></tr><tr><td>eszter</td><td>Molnár Eszter</td><td>2016-10-26</td><td>2016-11-01</td><td>3</td><td>6</td></tr><tr><td>eszter</td><td>Molnár Eszter</td><td>2016-12-23</td><td>2016-12-28</td><td>2</td><td>9</td></tr><tr><td>eszter2</td><td>Balogh Eszter</td><td>2016-06-30</td><td>2016-07-07</td><td>3</td><td>NULL</td></tr><tr><td>eszter2</td><td>Balogh Eszter</td><td>2016-07-08</td><td>2016-07-09</td><td>1</td><td>3</td></tr><tr><td>eszter2</td><td>Balogh Eszter</td><td>2016-10-01</td><td>2016-10-05</td><td>3</td><td>4</td></tr><tr><td>eszter2</td><td>Balogh Eszter</td><td>2016-10-01</td><td>2016-10-06</td><td>1</td><td>7</td></tr><tr><td>eszter2</td><td>Balogh Eszter</td><td>2016-10-20</td><td>2016-10-25</td><td>1</td><td>5</td></tr><tr><td>eszter2</td><td>Balogh Eszter</td><td>2016-10-23</td><td>2016-10-30</td><td>1</td><td>5</td></tr><tr><td>eszter2</td><td>Balogh Eszter</td><td>2016-11-05</td><td>2016-11-12</td><td>4</td><td>3</td></tr><tr><td>eszter2</td><td>Balogh Eszter</td><td>2016-12-02</td><td>2016-12-07</td><td>1</td><td>6</td></tr><tr><td>eszter2</td><td>Balogh Eszter</td><td>2016-12-05</td><td>2016-12-08</td><td>2</td><td>6</td></tr><tr><td>eszter2</td><td>Balogh Eszter</td><td>2016-12-29</td><td>2017-02-04</td><td>1</td><td>7</td></tr><tr><td>eszter4</td><td>Fülöp Eszter</td><td>2017-01-05</td><td>2017-01-10</td><td>2</td><td>NULL</td></tr><tr><td>eszter4</td><td>Fülöp Eszter</td><td>2017-01-26</td><td>2017-02-02</td><td>2</td><td>2</td></tr><tr><td>eszter4</td><td>Fülöp Eszter</td><td>2017-02-26</td><td>2017-02-27</td><td>3</td><td>4</td></tr><tr><td>ESZTERE</td><td>Érsek Eszter</td><td>2016-07-19</td><td>2016-07-21</td><td>2</td><td>NULL</td></tr><tr><td>ESZTERE</td><td>Érsek Eszter</td><td>2016-05-30</td><td>2016-06-05</td><td>2</td><td>2</td></tr><tr><td>ESZTERE</td><td>Érsek Eszter</td><td>2016-11-01</td><td>2016-11-08</td><td>2</td><td>4</td></tr><tr><td>ESZTERE</td><td>Érsek Eszter</td><td>2017-02-10</td><td>2017-02-14</td><td>2</td><td>6</td></tr><tr><td>eva</td><td>Enyedi Éva</td><td>2016-10-06</td><td>2016-10-09</td><td>3</td><td>NULL</td></tr><tr><td>eva</td><td>Enyedi Éva</td><td>2017-01-14</td><td>2017-01-16</td><td>2</td><td>3</td></tr><tr><td>eva2</td><td>Perlinger Éva</td><td>2016-09-02</td><td>2016-09-03</td><td>1</td><td>NULL</td></tr><tr><td>eva2</td><td>Perlinger Éva</td><td>2016-11-06</td><td>2016-11-13</td><td>2</td><td>1</td></tr><tr><td>eva2</td><td>Perlinger Éva</td><td>2016-12-06</td><td>2016-12-11</td><td>2</td><td>3</td></tr><tr><td>eva2</td><td>Perlinger Éva</td><td>2017-01-06</td><td>2017-01-09</td><td>4</td><td>5</td></tr><tr><td>EVAV</td><td>Viktor Éva</td><td>2016-05-01</td><td>2016-05-05</td><td>3</td><td>NULL</td></tr><tr><td>EVAV</td><td>Viktor Éva</td><td>2016-08-31</td><td>2016-09-04</td><td>2</td><td>3</td></tr><tr><td>EVAV</td><td>Viktor Éva</td><td>2016-10-15</td><td>2016-10-21</td><td>3</td><td>5</td></tr><tr><td>EVAV</td><td>Viktor Éva</td><td>2016-10-16</td><td>2016-10-23</td><td>2</td><td>8</td></tr><tr><td>EVAV</td><td>Viktor Éva</td><td>2017-02-04</td><td>2017-02-11</td><td>5</td><td>7</td></tr><tr><td>ferenc1</td><td>Orosz Ferenc</td><td>2016-05-08</td><td>2016-05-11</td><td>2</td><td>NULL</td></tr><tr><td>ferenc1</td><td>Orosz Ferenc</td><td>2016-06-16</td><td>2016-06-22</td><td>2</td><td>2</td></tr><tr><td>ferenc1</td><td>Orosz Ferenc</td><td>2016-10-08</td><td>2016-10-09</td><td>2</td><td>4</td></tr><tr><td>ferenc1</td><td>Orosz Ferenc</td><td>2016-11-07</td><td>2016-11-08</td><td>3</td><td>6</td></tr><tr><td>fruzsina4</td><td>Frank Fruzsina</td><td>2016-07-13</td><td>2016-07-19</td><td>3</td><td>NULL</td></tr><tr><td>fruzsina4</td><td>Frank Fruzsina</td><td>2016-08-27</td><td>2016-08-30</td><td>4</td><td>3</td></tr><tr><td>fruzsina4</td><td>Frank Fruzsina</td><td>2016-06-02</td><td>2016-06-04</td><td>2</td><td>7</td></tr><tr><td>fruzsina4</td><td>Frank Fruzsina</td><td>2016-07-01</td><td>2016-07-04</td><td>3</td><td>9</td></tr><tr><td>fruzsina4</td><td>Frank Fruzsina</td><td>2016-09-29</td><td>2016-10-01</td><td>3</td><td>9</td></tr><tr><td>fruzsina4</td><td>Frank Fruzsina</td><td>2016-11-22</td><td>2016-11-24</td><td>2</td><td>8</td></tr><tr><td>fruzsina4</td><td>Frank Fruzsina</td><td>2016-12-16</td><td>2016-12-21</td><td>1</td><td>8</td></tr><tr><td>fruzsina4</td><td>Frank Fruzsina</td><td>2017-01-22</td><td>2017-01-25</td><td>4</td><td>6</td></tr><tr><td>gabor1</td><td>Köves Gábor</td><td>2016-07-28</td><td>2016-07-30</td><td>2</td><td>NULL</td></tr><tr><td>gabor1</td><td>Köves Gábor</td><td>2016-09-02</td><td>2016-09-03</td><td>3</td><td>2</td></tr><tr><td>gabor1</td><td>Köves Gábor</td><td>2016-06-20</td><td>2016-06-21</td><td>4</td><td>5</td></tr><tr><td>gabor1</td><td>Köves Gábor</td><td>2016-07-12</td><td>2016-07-15</td><td>1</td><td>9</td></tr><tr><td>gabor1</td><td>Köves Gábor</td><td>2016-10-20</td><td>2016-10-24</td><td>1</td><td>8</td></tr><tr><td>gabor1</td><td>Köves Gábor</td><td>2016-11-19</td><td>2016-11-22</td><td>2</td><td>6</td></tr><tr><td>gabor4</td><td>Telek Gábor</td><td>2016-04-26</td><td>2016-04-29</td><td>3</td><td>NULL</td></tr><tr><td>gabor4</td><td>Telek Gábor</td><td>2016-08-31</td><td>2016-09-06</td><td>4</td><td>3</td></tr><tr><td>gabor4</td><td>Telek Gábor</td><td>2016-05-30</td><td>2016-06-05</td><td>1</td><td>7</td></tr><tr><td>gabor4</td><td>Telek Gábor</td><td>2016-11-07</td><td>2016-11-13</td><td>4</td><td>8</td></tr><tr><td>gabriella1</td><td>Nagy Gabriella</td><td>2016-04-21</td><td>2016-04-24</td><td>3</td><td>NULL</td></tr><tr><td>gabriella1</td><td>Nagy Gabriella</td><td>2016-07-24</td><td>2016-07-31</td><td>2</td><td>3</td></tr><tr><td>gabriella1</td><td>Nagy Gabriella</td><td>2016-07-10</td><td>2016-07-11</td><td>3</td><td>5</td></tr><tr><td>gabriella1</td><td>Nagy Gabriella</td><td>2017-02-04</td><td>2017-02-11</td><td>3</td><td>8</td></tr><tr><td>gabriella1</td><td>Nagy Gabriella</td><td>2017-02-12</td><td>2017-02-13</td><td>2</td><td>8</td></tr><tr><td>gabriella1</td><td>Nagy Gabriella</td><td>2017-02-21</td><td>2017-02-27</td><td>3</td><td>8</td></tr><tr><td>gabriella10</td><td>Vida Gabriella</td><td>2016-10-01</td><td>2016-10-06</td><td>3</td><td>NULL</td></tr><tr><td>georgij</td><td>Nyíri Georgij</td><td>2016-08-16</td><td>2016-08-22</td><td>4</td><td>NULL</td></tr><tr><td>georgij</td><td>Nyíri Georgij</td><td>2016-08-28</td><td>2016-09-04</td><td>2</td><td>4</td></tr><tr><td>georgij</td><td>Nyíri Georgij</td><td>2016-06-16</td><td>2016-06-20</td><td>3</td><td>6</td></tr><tr><td>georgij</td><td>Nyíri Georgij</td><td>2016-09-18</td><td>2016-09-24</td><td>3</td><td>9</td></tr><tr><td>gusztav</td><td>Bárci Gusztáv</td><td>2016-05-06</td><td>2016-05-13</td><td>2</td><td>NULL</td></tr><tr><td>gusztav</td><td>Bárci Gusztáv</td><td>2016-08-05</td><td>2016-08-11</td><td>3</td><td>2</td></tr><tr><td>gusztav</td><td>Bárci Gusztáv</td><td>2016-10-01</td><td>2016-10-03</td><td>3</td><td>5</td></tr><tr><td>gusztav</td><td>Bárci Gusztáv</td><td>2017-02-03</td><td>2017-02-09</td><td>2</td><td>8</td></tr><tr><td>gusztav</td><td>Bárci Gusztáv</td><td>2017-02-23</td><td>2017-03-01</td><td>4</td><td>8</td></tr><tr><td>GYONGYIK</td><td>Kornseé Gyöngyi</td><td>2016-08-17</td><td>2016-08-21</td><td>3</td><td>NULL</td></tr><tr><td>GYONGYIK</td><td>Kornseé Gyöngyi</td><td>2016-06-02</td><td>2016-06-05</td><td>3</td><td>3</td></tr><tr><td>GYONGYIK</td><td>Kornseé Gyöngyi</td><td>2016-06-10</td><td>2016-06-17</td><td>1</td><td>6</td></tr><tr><td>GYONGYIK</td><td>Kornseé Gyöngyi</td><td>2016-07-01</td><td>2016-07-05</td><td>2</td><td>7</td></tr><tr><td>GYONGYIK</td><td>Kornseé Gyöngyi</td><td>2016-11-08</td><td>2016-11-13</td><td>2</td><td>6</td></tr><tr><td>GYONGYIK</td><td>Kornseé Gyöngyi</td><td>2016-12-01</td><td>2016-12-08</td><td>2</td><td>5</td></tr><tr><td>GYONGYIK</td><td>Kornseé Gyöngyi</td><td>2017-01-22</td><td>2017-01-29</td><td>3</td><td>6</td></tr><tr><td>GYORGYO</td><td>Oroszi György</td><td>2016-07-18</td><td>2016-07-25</td><td>2</td><td>NULL</td></tr><tr><td>GYORGYO</td><td>Oroszi György</td><td>2016-07-28</td><td>2016-08-03</td><td>3</td><td>2</td></tr><tr><td>GYORGYO</td><td>Oroszi György</td><td>2016-05-27</td><td>2016-05-28</td><td>3</td><td>5</td></tr><tr><td>GYORGYO</td><td>Oroszi György</td><td>2016-06-01</td><td>2016-06-07</td><td>2</td><td>8</td></tr><tr><td>GYORGYO</td><td>Oroszi György</td><td>2016-06-10</td><td>2016-06-15</td><td>2</td><td>8</td></tr><tr><td>GYORGYO</td><td>Oroszi György</td><td>2016-10-28</td><td>2016-10-31</td><td>1</td><td>7</td></tr><tr><td>GYORGYO</td><td>Oroszi György</td><td>2017-02-13</td><td>2017-02-15</td><td>2</td><td>5</td></tr><tr><td>GYORGYO</td><td>Oroszi György</td><td>2017-02-24</td><td>2017-02-25</td><td>3</td><td>5</td></tr><tr><td>henrik3</td><td>Nádudvari Henrik</td><td>2016-08-24</td><td>2016-08-28</td><td>1</td><td>NULL</td></tr><tr><td>henrik3</td><td>Nádudvari Henrik</td><td>2016-12-29</td><td>2017-01-03</td><td>3</td><td>1</td></tr><tr><td>henrik3</td><td>Nádudvari Henrik</td><td>2017-01-27</td><td>2017-01-28</td><td>3</td><td>4</td></tr><tr><td>IBOLYAA</td><td>Andor Ibolya</td><td>2016-08-29</td><td>2016-08-31</td><td>5</td><td>NULL</td></tr><tr><td>IBOLYAA</td><td>Andor Ibolya</td><td>2016-10-23</td><td>2016-10-28</td><td>2</td><td>5</td></tr><tr><td>IBOLYAA</td><td>Andor Ibolya</td><td>2017-01-17</td><td>2017-01-23</td><td>3</td><td>7</td></tr><tr><td>ilona3</td><td>Bosnyák Ilona</td><td>2016-07-31</td><td>2016-08-06</td><td>2</td><td>NULL</td></tr><tr><td>ilona3</td><td>Bosnyák Ilona</td><td>2016-08-04</td><td>2016-08-08</td><td>3</td><td>2</td></tr><tr><td>ilona3</td><td>Bosnyák Ilona</td><td>2016-11-04</td><td>2016-11-06</td><td>4</td><td>5</td></tr><tr><td>ilona3</td><td>Bosnyák Ilona</td><td>2016-12-25</td><td>2016-12-31</td><td>3</td><td>9</td></tr><tr><td>imre</td><td>Búza Imre</td><td>2016-09-17</td><td>2016-09-19</td><td>3</td><td>NULL</td></tr><tr><td>imre</td><td>Búza Imre</td><td>2016-10-28</td><td>2016-10-29</td><td>4</td><td>3</td></tr><tr><td>imre1</td><td>Papp Imre</td><td>2016-08-21</td><td>2016-08-27</td><td>2</td><td>NULL</td></tr><tr><td>imre1</td><td>Papp Imre</td><td>2016-08-23</td><td>2016-08-25</td><td>3</td><td>2</td></tr><tr><td>imre1</td><td>Papp Imre</td><td>2016-08-29</td><td>2016-08-31</td><td>2</td><td>5</td></tr><tr><td>imre1</td><td>Papp Imre</td><td>2016-06-23</td><td>2016-06-26</td><td>4</td><td>7</td></tr><tr><td>imre1</td><td>Papp Imre</td><td>2016-06-27</td><td>2016-06-28</td><td>2</td><td>9</td></tr><tr><td>imre1</td><td>Papp Imre</td><td>2017-02-01</td><td>2017-02-04</td><td>2</td><td>8</td></tr><tr><td>imre1</td><td>Papp Imre</td><td>2017-02-05</td><td>2017-02-07</td><td>4</td><td>8</td></tr><tr><td>istvan</td><td>Soós István</td><td>2016-10-07</td><td>2016-10-10</td><td>2</td><td>NULL</td></tr><tr><td>istvan</td><td>Soós István</td><td>2016-11-22</td><td>2016-11-24</td><td>3</td><td>2</td></tr><tr><td>istvan</td><td>Soós István</td><td>2017-01-02</td><td>2017-01-05</td><td>2</td><td>5</td></tr><tr><td>istvan1</td><td>Vizi István</td><td>2016-04-16</td><td>2016-04-22</td><td>3</td><td>NULL</td></tr><tr><td>istvan1</td><td>Vizi István</td><td>2016-04-24</td><td>2016-04-28</td><td>3</td><td>3</td></tr><tr><td>istvan1</td><td>Vizi István</td><td>2016-07-19</td><td>2016-07-24</td><td>1</td><td>6</td></tr><tr><td>istvan1</td><td>Vizi István</td><td>2017-02-07</td><td>2017-02-10</td><td>3</td><td>7</td></tr><tr><td>ISTVANV</td><td>Varga István</td><td>2016-07-01</td><td>2016-07-04</td><td>4</td><td>NULL</td></tr><tr><td>ISTVANV</td><td>Varga István</td><td>2016-09-29</td><td>2016-10-01</td><td>3</td><td>4</td></tr><tr><td>janos3</td><td>Harangozó János</td><td>2016-08-24</td><td>2016-08-25</td><td>3</td><td>NULL</td></tr><tr><td>janos3</td><td>Harangozó János</td><td>2016-06-04</td><td>2016-06-06</td><td>1</td><td>3</td></tr><tr><td>janos3</td><td>Harangozó János</td><td>2016-10-03</td><td>2016-10-08</td><td>3</td><td>4</td></tr><tr><td>janos3</td><td>Harangozó János</td><td>2016-10-22</td><td>2016-10-23</td><td>1</td><td>7</td></tr><tr><td>janos3</td><td>Harangozó János</td><td>2017-02-12</td><td>2017-02-14</td><td>3</td><td>5</td></tr><tr><td>JANOSG</td><td>Giliga János</td><td>2016-05-09</td><td>2016-05-15</td><td>1</td><td>NULL</td></tr><tr><td>JANOSG</td><td>Giliga János</td><td>2016-08-16</td><td>2016-08-23</td><td>3</td><td>1</td></tr><tr><td>JANOSG</td><td>Giliga János</td><td>2016-08-30</td><td>2016-09-03</td><td>3</td><td>4</td></tr><tr><td>JANOSG</td><td>Giliga János</td><td>2016-11-07</td><td>2016-11-14</td><td>3</td><td>7</td></tr><tr><td>JANOSG</td><td>Giliga János</td><td>2016-12-28</td><td>2016-12-30</td><td>2</td><td>9</td></tr><tr><td>JANOSG</td><td>Giliga János</td><td>2017-01-10</td><td>2017-01-15</td><td>2</td><td>8</td></tr><tr><td>JANOSG</td><td>Giliga János</td><td>2017-01-31</td><td>2017-02-05</td><td>2</td><td>7</td></tr><tr><td>JANOSP</td><td>Pálinkás János</td><td>2016-07-04</td><td>2016-07-11</td><td>3</td><td>NULL</td></tr><tr><td>JANOSP</td><td>Pálinkás János</td><td>2016-11-23</td><td>2016-11-28</td><td>2</td><td>3</td></tr><tr><td>JANOSP</td><td>Pálinkás János</td><td>2016-11-25</td><td>2016-11-27</td><td>2</td><td>5</td></tr><tr><td>JANOSP</td><td>Pálinkás János</td><td>2016-12-18</td><td>2016-12-21</td><td>2</td><td>7</td></tr><tr><td>jozsef</td><td>Gergely József</td><td>2016-09-13</td><td>2016-09-19</td><td>2</td><td>NULL</td></tr><tr><td>jozsef</td><td>Gergely József</td><td>2016-10-08</td><td>2016-10-10</td><td>2</td><td>2</td></tr><tr><td>jozsef</td><td>Gergely József</td><td>2016-12-06</td><td>2016-12-07</td><td>2</td><td>4</td></tr><tr><td>jozsef2</td><td>Vajda József</td><td>2016-07-16</td><td>2016-07-20</td><td>3</td><td>NULL</td></tr><tr><td>jozsef2</td><td>Vajda József</td><td>2016-07-06</td><td>2016-07-11</td><td>2</td><td>3</td></tr><tr><td>jozsef2</td><td>Vajda József</td><td>2016-09-09</td><td>2016-09-15</td><td>2</td><td>5</td></tr><tr><td>jozsef2</td><td>Vajda József</td><td>2016-11-23</td><td>2016-11-29</td><td>3</td><td>7</td></tr><tr><td>jozsef2</td><td>Vajda József</td><td>2016-11-25</td><td>2016-11-29</td><td>3</td><td>7</td></tr><tr><td>JOZSEFG</td><td>Gyuris József</td><td>2016-05-02</td><td>2016-05-06</td><td>2</td><td>NULL</td></tr><tr><td>JOZSEFG</td><td>Gyuris József</td><td>2016-08-24</td><td>2016-08-27</td><td>3</td><td>2</td></tr><tr><td>JOZSEFG</td><td>Gyuris József</td><td>2016-05-23</td><td>2016-05-25</td><td>1</td><td>5</td></tr><tr><td>JOZSEFG</td><td>Gyuris József</td><td>2016-06-04</td><td>2016-06-09</td><td>4</td><td>6</td></tr><tr><td>JOZSEFG</td><td>Gyuris József</td><td>2017-01-09</td><td>2017-01-13</td><td>2</td><td>8</td></tr><tr><td>JOZSEFG</td><td>Gyuris József</td><td>2017-01-22</td><td>2017-01-26</td><td>1</td><td>7</td></tr><tr><td>JOZSEFG</td><td>Gyuris József</td><td>2017-02-24</td><td>2017-03-03</td><td>3</td><td>7</td></tr><tr><td>JUDITH</td><td>Hídasi Judit</td><td>2016-07-28</td><td>2016-07-30</td><td>2</td><td>NULL</td></tr><tr><td>JUDITH</td><td>Hídasi Judit</td><td>2016-06-06</td><td>2016-06-10</td><td>2</td><td>2</td></tr><tr><td>JUDITH</td><td>Hídasi Judit</td><td>2016-12-19</td><td>2016-12-26</td><td>1</td><td>4</td></tr><tr><td>julia</td><td>Tóth Júlia</td><td>2016-04-21</td><td>2016-04-26</td><td>2</td><td>NULL</td></tr><tr><td>julia</td><td>Tóth Júlia</td><td>2016-05-12</td><td>2016-05-17</td><td>1</td><td>2</td></tr><tr><td>julia</td><td>Tóth Júlia</td><td>2016-07-20</td><td>2016-07-22</td><td>2</td><td>3</td></tr><tr><td>julia</td><td>Tóth Júlia</td><td>2016-06-07</td><td>2016-06-08</td><td>5</td><td>5</td></tr><tr><td>julia</td><td>Tóth Júlia</td><td>2017-02-27</td><td>2017-03-06</td><td>3</td><td>8</td></tr><tr><td>julia4</td><td>Nagy Júlia</td><td>2016-11-07</td><td>2016-11-12</td><td>1</td><td>NULL</td></tr><tr><td>julia4</td><td>Nagy Júlia</td><td>2017-02-04</td><td>2017-02-11</td><td>4</td><td>1</td></tr><tr><td>julianna4</td><td>Szabó Julianna</td><td>2016-07-20</td><td>2016-07-26</td><td>2</td><td>NULL</td></tr><tr><td>julianna4</td><td>Szabó Julianna</td><td>2016-10-29</td><td>2016-10-31</td><td>3</td><td>2</td></tr><tr><td>julianna4</td><td>Szabó Julianna</td><td>2016-11-03</td><td>2016-11-04</td><td>2</td><td>5</td></tr><tr><td>julianna4</td><td>Szabó Julianna</td><td>2016-11-27</td><td>2016-12-04</td><td>3</td><td>7</td></tr><tr><td>kata</td><td>Gondos Katalin</td><td>2016-04-10</td><td>2016-04-11</td><td>2</td><td>NULL</td></tr><tr><td>kata</td><td>Gondos Katalin</td><td>2016-04-25</td><td>2016-05-01</td><td>1</td><td>2</td></tr><tr><td>kata</td><td>Gondos Katalin</td><td>2016-08-24</td><td>2016-08-27</td><td>3</td><td>3</td></tr><tr><td>kata</td><td>Gondos Katalin</td><td>2016-05-31</td><td>2016-06-01</td><td>3</td><td>6</td></tr><tr><td>kata</td><td>Gondos Katalin</td><td>2016-06-07</td><td>2016-06-12</td><td>2</td><td>7</td></tr><tr><td>kata</td><td>Gondos Katalin</td><td>2016-07-01</td><td>2016-07-07</td><td>2</td><td>8</td></tr><tr><td>kata</td><td>Gondos Katalin</td><td>2016-07-03</td><td>2016-07-06</td><td>1</td><td>7</td></tr><tr><td>kata</td><td>Gondos Katalin</td><td>2016-07-07</td><td>2016-07-09</td><td>3</td><td>5</td></tr><tr><td>kata</td><td>Gondos Katalin</td><td>2016-09-19</td><td>2016-09-20</td><td>3</td><td>6</td></tr><tr><td>kata</td><td>Gondos Katalin</td><td>2017-01-15</td><td>2017-01-21</td><td>3</td><td>7</td></tr><tr><td>katalin</td><td>Horváth Katalin</td><td>2016-04-10</td><td>2016-04-17</td><td>2</td><td>NULL</td></tr><tr><td>katalin</td><td>Horváth Katalin</td><td>2016-05-21</td><td>2016-05-26</td><td>1</td><td>2</td></tr><tr><td>katalin</td><td>Horváth Katalin</td><td>2016-07-28</td><td>2016-07-29</td><td>1</td><td>3</td></tr><tr><td>katalin</td><td>Horváth Katalin</td><td>2016-07-06</td><td>2016-07-11</td><td>1</td><td>4</td></tr><tr><td>katalin</td><td>Horváth Katalin</td><td>2016-10-26</td><td>2016-10-30</td><td>2</td><td>3</td></tr><tr><td>katalin</td><td>Horváth Katalin</td><td>2016-12-13</td><td>2016-12-19</td><td>2</td><td>4</td></tr><tr><td>katalin</td><td>Horváth Katalin</td><td>2016-12-17</td><td>2016-12-24</td><td>1</td><td>5</td></tr><tr><td>katalin</td><td>Horváth Katalin</td><td>2016-12-24</td><td>2016-12-27</td><td>2</td><td>5</td></tr><tr><td>katalin</td><td>Horváth Katalin</td><td>2017-02-24</td><td>2017-02-27</td><td>3</td><td>5</td></tr><tr><td>katalin4</td><td>Kertész Katalin</td><td>2016-07-01</td><td>2016-07-07</td><td>1</td><td>NULL</td></tr><tr><td>katalin4</td><td>Kertész Katalin</td><td>2016-07-03</td><td>2016-07-04</td><td>4</td><td>1</td></tr><tr><td>katalin4</td><td>Kertész Katalin</td><td>2016-11-27</td><td>2016-12-04</td><td>3</td><td>5</td></tr><tr><td>katalin4</td><td>Kertész Katalin</td><td>2016-12-04</td><td>2016-12-09</td><td>3</td><td>8</td></tr><tr><td>katalin4</td><td>Kertész Katalin</td><td>2017-01-18</td><td>2017-01-20</td><td>2</td><td>10</td></tr><tr><td>katalin4</td><td>Kertész Katalin</td><td>2017-01-24</td><td>2017-01-31</td><td>2</td><td>8</td></tr><tr><td>kati</td><td>Zatykó Katalin</td><td>2016-07-13</td><td>2016-07-20</td><td>2</td><td>NULL</td></tr><tr><td>kati</td><td>Zatykó Katalin</td><td>2016-07-27</td><td>2016-08-03</td><td>2</td><td>2</td></tr><tr><td>kati</td><td>Zatykó Katalin</td><td>2016-08-03</td><td>2016-08-07</td><td>2</td><td>4</td></tr><tr><td>kati</td><td>Zatykó Katalin</td><td>2016-06-06</td><td>2016-06-10</td><td>2</td><td>6</td></tr><tr><td>kati</td><td>Zatykó Katalin</td><td>2016-06-06</td><td>2016-06-11</td><td>3</td><td>6</td></tr><tr><td>kati</td><td>Zatykó Katalin</td><td>2016-10-26</td><td>2016-10-28</td><td>2</td><td>7</td></tr><tr><td>kati</td><td>Zatykó Katalin</td><td>2016-10-30</td><td>2016-11-01</td><td>3</td><td>7</td></tr><tr><td>katka</td><td>Kovács Katalin</td><td>2016-04-10</td><td>2016-04-12</td><td>2</td><td>NULL</td></tr><tr><td>katka</td><td>Kovács Katalin</td><td>2016-05-09</td><td>2016-05-15</td><td>3</td><td>2</td></tr><tr><td>katka</td><td>Kovács Katalin</td><td>2016-08-24</td><td>2016-08-26</td><td>2</td><td>5</td></tr><tr><td>katka</td><td>Kovács Katalin</td><td>2016-06-13</td><td>2016-06-18</td><td>1</td><td>7</td></tr><tr><td>katka</td><td>Kovács Katalin</td><td>2016-06-13</td><td>2016-06-19</td><td>4</td><td>6</td></tr><tr><td>katka</td><td>Kovács Katalin</td><td>2016-09-05</td><td>2016-09-10</td><td>4</td><td>7</td></tr><tr><td>katka</td><td>Kovács Katalin</td><td>2016-11-05</td><td>2016-11-08</td><td>3</td><td>9</td></tr><tr><td>katka</td><td>Kovács Katalin</td><td>2017-01-02</td><td>2017-01-05</td><td>3</td><td>11</td></tr><tr><td>katka</td><td>Kovács Katalin</td><td>2017-01-19</td><td>2017-01-20</td><td>3</td><td>10</td></tr><tr><td>klaudia2</td><td>Bakó Klaudia</td><td>2016-06-06</td><td>2016-06-08</td><td>4</td><td>NULL</td></tr><tr><td>klaudia2</td><td>Bakó Klaudia</td><td>2016-10-01</td><td>2016-10-02</td><td>2</td><td>4</td></tr><tr><td>klaudia2</td><td>Bakó Klaudia</td><td>2016-10-02</td><td>2016-10-05</td><td>2</td><td>6</td></tr><tr><td>kornel4</td><td>Lukács Kornél</td><td>2016-05-08</td><td>2016-05-14</td><td>3</td><td>NULL</td></tr><tr><td>kornel4</td><td>Lukács Kornél</td><td>2016-06-02</td><td>2016-06-09</td><td>3</td><td>3</td></tr><tr><td>kornel4</td><td>Lukács Kornél</td><td>2016-09-23</td><td>2016-09-24</td><td>3</td><td>6</td></tr><tr><td>kristof4</td><td>Poprádi Kristóf</td><td>2016-04-08</td><td>2016-04-14</td><td>2</td><td>NULL</td></tr><tr><td>kristof4</td><td>Poprádi Kristóf</td><td>2016-09-30</td><td>2016-10-04</td><td>2</td><td>2</td></tr><tr><td>kriszti</td><td>Horváth Krisztina</td><td>2016-05-19</td><td>2016-05-26</td><td>2</td><td>NULL</td></tr><tr><td>kriszti</td><td>Horváth Krisztina</td><td>2016-08-24</td><td>2016-08-25</td><td>3</td><td>2</td></tr><tr><td>kriszti</td><td>Horváth Krisztina</td><td>2016-09-30</td><td>2016-10-05</td><td>3</td><td>5</td></tr><tr><td>kriszti</td><td>Horváth Krisztina</td><td>2016-10-01</td><td>2016-10-02</td><td>3</td><td>8</td></tr><tr><td>kriszti</td><td>Horváth Krisztina</td><td>2017-02-04</td><td>2017-02-11</td><td>3</td><td>9</td></tr><tr><td>kriszti</td><td>Horváth Krisztina</td><td>2017-03-03</td><td>2017-03-04</td><td>3</td><td>9</td></tr><tr><td>krisztian4</td><td>Czérna Krisztián</td><td>2016-07-28</td><td>2016-08-01</td><td>2</td><td>NULL</td></tr><tr><td>krisztian4</td><td>Czérna Krisztián</td><td>2016-08-01</td><td>2016-08-04</td><td>3</td><td>2</td></tr><tr><td>krisztian4</td><td>Czérna Krisztián</td><td>2016-08-16</td><td>2016-08-19</td><td>1</td><td>5</td></tr><tr><td>krisztian4</td><td>Czérna Krisztián</td><td>2016-08-29</td><td>2016-09-03</td><td>1</td><td>6</td></tr><tr><td>krisztian4</td><td>Czérna Krisztián</td><td>2016-06-03</td><td>2016-06-04</td><td>2</td><td>5</td></tr><tr><td>krisztian4</td><td>Czérna Krisztián</td><td>2016-06-07</td><td>2016-06-09</td><td>2</td><td>4</td></tr><tr><td>krisztian4</td><td>Czérna Krisztián</td><td>2016-10-17</td><td>2016-10-22</td><td>3</td><td>5</td></tr><tr><td>krisztian4</td><td>Czérna Krisztián</td><td>2016-11-02</td><td>2016-11-03</td><td>2</td><td>7</td></tr><tr><td>krisztian4</td><td>Czérna Krisztián</td><td>2016-12-11</td><td>2016-12-18</td><td>2</td><td>7</td></tr><tr><td>krisztian4</td><td>Czérna Krisztián</td><td>2017-01-06</td><td>2017-01-09</td><td>1</td><td>7</td></tr><tr><td>krisztian4</td><td>Czérna Krisztián</td><td>2017-01-16</td><td>2017-01-23</td><td>3</td><td>5</td></tr><tr><td>krisztian4</td><td>Czérna Krisztián</td><td>2017-02-23</td><td>2017-03-02</td><td>2</td><td>6</td></tr><tr><td>KRISZTIANM</td><td>Mogyródi Krisztián</td><td>2016-04-09</td><td>2016-04-15</td><td>2</td><td>NULL</td></tr><tr><td>KRISZTIANM</td><td>Mogyródi Krisztián</td><td>2016-08-02</td><td>2016-08-08</td><td>4</td><td>2</td></tr><tr><td>KRISZTIANM</td><td>Mogyródi Krisztián</td><td>2016-06-04</td><td>2016-06-08</td><td>2</td><td>6</td></tr><tr><td>KRISZTIANM</td><td>Mogyródi Krisztián</td><td>2016-07-09</td><td>2016-07-14</td><td>3</td><td>8</td></tr><tr><td>KRISZTIANM</td><td>Mogyródi Krisztián</td><td>2016-12-25</td><td>2016-12-31</td><td>2</td><td>9</td></tr><tr><td>KRISZTIANM</td><td>Mogyródi Krisztián</td><td>2017-01-16</td><td>2017-01-23</td><td>1</td><td>7</td></tr><tr><td>krisztina</td><td>Szedlár Krisztina</td><td>2016-05-21</td><td>2016-05-27</td><td>2</td><td>NULL</td></tr><tr><td>krisztina</td><td>Szedlár Krisztina</td><td>2016-07-05</td><td>2016-07-12</td><td>3</td><td>2</td></tr><tr><td>krisztina</td><td>Szedlár Krisztina</td><td>2016-09-13</td><td>2016-09-16</td><td>1</td><td>5</td></tr><tr><td>krisztina</td><td>Szedlár Krisztina</td><td>2016-09-19</td><td>2016-09-26</td><td>2</td><td>6</td></tr><tr><td>krisztina</td><td>Szedlár Krisztina</td><td>2016-11-08</td><td>2016-11-12</td><td>2</td><td>6</td></tr><tr><td>krisztina</td><td>Szedlár Krisztina</td><td>2016-11-22</td><td>2016-11-25</td><td>1</td><td>5</td></tr><tr><td>krisztina</td><td>Szedlár Krisztina</td><td>2017-02-05</td><td>2017-02-07</td><td>2</td><td>5</td></tr><tr><td>krisztina</td><td>Szedlár Krisztina</td><td>2017-02-16</td><td>2017-02-20</td><td>4</td><td>5</td></tr><tr><td>krisztina1</td><td>Bori Krisztina</td><td>2016-04-28</td><td>2016-04-30</td><td>2</td><td>NULL</td></tr><tr><td>krisztina1</td><td>Bori Krisztina</td><td>2016-05-16</td><td>2016-05-20</td><td>1</td><td>2</td></tr><tr><td>krisztina1</td><td>Bori Krisztina</td><td>2016-06-16</td><td>2016-06-22</td><td>2</td><td>3</td></tr><tr><td>krisztina1</td><td>Bori Krisztina</td><td>2016-09-15</td><td>2016-09-20</td><td>3</td><td>5</td></tr><tr><td>krisztina1</td><td>Bori Krisztina</td><td>2016-10-29</td><td>2016-10-30</td><td>4</td><td>6</td></tr><tr><td>krisztina1</td><td>Bori Krisztina</td><td>2017-01-21</td><td>2017-01-24</td><td>2</td><td>9</td></tr><tr><td>KRISZTINAG</td><td>Gyárfás Krisztina</td><td>2016-04-23</td><td>2016-04-24</td><td>2</td><td>NULL</td></tr><tr><td>KRISZTINAG</td><td>Gyárfás Krisztina</td><td>2016-08-08</td><td>2016-08-12</td><td>3</td><td>2</td></tr><tr><td>KRISZTINAG</td><td>Gyárfás Krisztina</td><td>2016-05-24</td><td>2016-05-31</td><td>1</td><td>5</td></tr><tr><td>KRISZTINAG</td><td>Gyárfás Krisztina</td><td>2016-06-08</td><td>2016-06-12</td><td>1</td><td>6</td></tr><tr><td>KRISZTINAG</td><td>Gyárfás Krisztina</td><td>2017-01-25</td><td>2017-01-30</td><td>2</td><td>5</td></tr><tr><td>lajos</td><td>Kiss Lajos</td><td>2016-07-18</td><td>2016-07-21</td><td>2</td><td>NULL</td></tr><tr><td>lajos</td><td>Kiss Lajos</td><td>2016-12-25</td><td>2016-12-28</td><td>4</td><td>2</td></tr><tr><td>lajos</td><td>Kiss Lajos</td><td>2017-02-12</td><td>2017-02-13</td><td>1</td><td>6</td></tr><tr><td>lala</td><td>Nagymihály Lajos</td><td>2016-07-20</td><td>2016-07-21</td><td>3</td><td>NULL</td></tr><tr><td>lala</td><td>Nagymihály Lajos</td><td>2016-07-26</td><td>2016-07-27</td><td>3</td><td>3</td></tr><tr><td>lala</td><td>Nagymihály Lajos</td><td>2016-06-16</td><td>2016-06-22</td><td>2</td><td>6</td></tr><tr><td>lala</td><td>Nagymihály Lajos</td><td>2016-10-30</td><td>2016-10-31</td><td>3</td><td>8</td></tr><tr><td>lala</td><td>Nagymihály Lajos</td><td>2017-01-08</td><td>2017-01-10</td><td>3</td><td>8</td></tr><tr><td>lala</td><td>Nagymihály Lajos</td><td>2017-01-17</td><td>2017-01-19</td><td>2</td><td>8</td></tr><tr><td>laszlo1</td><td>Farkas László</td><td>2016-09-23</td><td>2016-09-30</td><td>3</td><td>NULL</td></tr><tr><td>laszlo2</td><td>Móra László</td><td>2016-04-06</td><td>2016-04-10</td><td>2</td><td>NULL</td></tr><tr><td>laszlo2</td><td>Móra László</td><td>2016-04-27</td><td>2016-04-29</td><td>2</td><td>2</td></tr><tr><td>laszlo2</td><td>Móra László</td><td>2016-08-14</td><td>2016-08-15</td><td>3</td><td>4</td></tr><tr><td>laszlo2</td><td>Móra László</td><td>2016-09-05</td><td>2016-09-10</td><td>3</td><td>7</td></tr><tr><td>laszlo2</td><td>Móra László</td><td>2016-11-25</td><td>2016-11-26</td><td>3</td><td>8</td></tr><tr><td>LASZLOA</td><td>Antal László</td><td>2016-06-03</td><td>2016-06-09</td><td>2</td><td>NULL</td></tr><tr><td>LASZLOA</td><td>Antal László</td><td>2016-06-07</td><td>2016-06-11</td><td>1</td><td>2</td></tr><tr><td>LASZLOA</td><td>Antal László</td><td>2016-06-10</td><td>2016-06-13</td><td>3</td><td>3</td></tr><tr><td>LASZLOA</td><td>Antal László</td><td>2017-02-08</td><td>2017-02-14</td><td>2</td><td>6</td></tr><tr><td>LASZLON</td><td>Nagy László</td><td>2016-06-03</td><td>2016-06-06</td><td>1</td><td>NULL</td></tr><tr><td>LASZLON</td><td>Nagy László</td><td>2016-06-08</td><td>2016-06-09</td><td>2</td><td>1</td></tr><tr><td>LASZLON</td><td>Nagy László</td><td>2016-10-01</td><td>2016-10-04</td><td>3</td><td>3</td></tr><tr><td>LASZLON</td><td>Nagy László</td><td>2016-10-09</td><td>2016-10-14</td><td>1</td><td>6</td></tr><tr><td>LASZLON</td><td>Nagy László</td><td>2016-11-29</td><td>2016-12-04</td><td>1</td><td>6</td></tr><tr><td>LASZLON</td><td>Nagy László</td><td>2017-02-18</td><td>2017-02-25</td><td>3</td><td>5</td></tr><tr><td>maria1</td><td>Baráth Mária</td><td>2016-05-13</td><td>2016-05-18</td><td>2</td><td>NULL</td></tr><tr><td>maria1</td><td>Baráth Mária</td><td>2016-05-18</td><td>2016-05-19</td><td>1</td><td>2</td></tr><tr><td>maria1</td><td>Baráth Mária</td><td>2016-08-11</td><td>2016-08-14</td><td>3</td><td>3</td></tr><tr><td>maria1</td><td>Baráth Mária</td><td>2016-09-02</td><td>2016-09-05</td><td>1</td><td>6</td></tr><tr><td>maria1</td><td>Baráth Mária</td><td>2016-05-28</td><td>2016-06-03</td><td>2</td><td>5</td></tr><tr><td>maria1</td><td>Baráth Mária</td><td>2016-06-23</td><td>2016-06-27</td><td>1</td><td>6</td></tr><tr><td>maria1</td><td>Baráth Mária</td><td>2016-11-08</td><td>2016-11-12</td><td>3</td><td>4</td></tr><tr><td>maria1</td><td>Baráth Mária</td><td>2017-02-24</td><td>2017-03-02</td><td>2</td><td>6</td></tr><tr><td>mark</td><td>Kispál Márk</td><td>2016-04-19</td><td>2016-04-26</td><td>4</td><td>NULL</td></tr><tr><td>mark</td><td>Kispál Márk</td><td>2016-08-09</td><td>2016-08-16</td><td>3</td><td>4</td></tr><tr><td>mark</td><td>Kispál Márk</td><td>2016-06-13</td><td>2016-06-18</td><td>3</td><td>7</td></tr><tr><td>mark</td><td>Kispál Márk</td><td>2016-10-20</td><td>2016-10-27</td><td>1</td><td>10</td></tr><tr><td>mark</td><td>Kispál Márk</td><td>2016-11-19</td><td>2016-11-22</td><td>2</td><td>7</td></tr><tr><td>MARKH</td><td>Horváth Márk</td><td>2016-09-14</td><td>2016-09-17</td><td>3</td><td>NULL</td></tr><tr><td>MARKH</td><td>Horváth Márk</td><td>2016-09-23</td><td>2016-09-30</td><td>2</td><td>3</td></tr><tr><td>MARKH</td><td>Horváth Márk</td><td>2016-09-26</td><td>2016-10-01</td><td>4</td><td>5</td></tr><tr><td>MARKH</td><td>Horváth Márk</td><td>2017-01-22</td><td>2017-01-29</td><td>4</td><td>9</td></tr><tr><td>marton</td><td>Kalacsi Márton</td><td>2016-04-27</td><td>2016-05-04</td><td>3</td><td>NULL</td></tr><tr><td>marton</td><td>Kalacsi Márton</td><td>2016-05-05</td><td>2016-05-10</td><td>1</td><td>3</td></tr><tr><td>marton</td><td>Kalacsi Márton</td><td>2016-08-12</td><td>2016-08-17</td><td>2</td><td>4</td></tr><tr><td>marton</td><td>Kalacsi Márton</td><td>2016-06-06</td><td>2016-06-08</td><td>3</td><td>6</td></tr><tr><td>marton</td><td>Kalacsi Márton</td><td>2016-06-22</td><td>2016-06-29</td><td>2</td><td>6</td></tr><tr><td>marton</td><td>Kalacsi Márton</td><td>2016-09-10</td><td>2016-09-12</td><td>2</td><td>7</td></tr><tr><td>marton</td><td>Kalacsi Márton</td><td>2017-03-02</td><td>2017-03-03</td><td>2</td><td>7</td></tr><tr><td>MATEK</td><td>Koza Máté</td><td>2016-08-17</td><td>2016-08-21</td><td>4</td><td>NULL</td></tr><tr><td>MATEK</td><td>Koza Máté</td><td>2016-10-01</td><td>2016-10-04</td><td>2</td><td>4</td></tr><tr><td>MATEK</td><td>Koza Máté</td><td>2017-01-16</td><td>2017-01-22</td><td>2</td><td>6</td></tr><tr><td>matyas2</td><td>Botka Mátyás</td><td>2016-07-13</td><td>2016-07-16</td><td>2</td><td>NULL</td></tr><tr><td>matyas2</td><td>Botka Mátyás</td><td>2016-12-09</td><td>2016-12-13</td><td>3</td><td>2</td></tr><tr><td>MATYASS</td><td>Szilágyi Mátyás</td><td>2016-05-10</td><td>2016-05-16</td><td>2</td><td>NULL</td></tr><tr><td>MATYASS</td><td>Szilágyi Mátyás</td><td>2016-07-23</td><td>2016-07-25</td><td>3</td><td>2</td></tr><tr><td>MATYASS</td><td>Szilágyi Mátyás</td><td>2016-06-02</td><td>2016-06-08</td><td>1</td><td>5</td></tr><tr><td>MATYASS</td><td>Szilágyi Mátyás</td><td>2016-10-09</td><td>2016-10-15</td><td>3</td><td>6</td></tr><tr><td>MATYASS</td><td>Szilágyi Mátyás</td><td>2016-10-24</td><td>2016-10-31</td><td>1</td><td>7</td></tr><tr><td>MATYASS</td><td>Szilágyi Mátyás</td><td>2016-10-30</td><td>2016-11-04</td><td>3</td><td>5</td></tr><tr><td>MATYASS</td><td>Szilágyi Mátyás</td><td>2016-12-20</td><td>2016-12-25</td><td>2</td><td>7</td></tr><tr><td>MATYASS</td><td>Szilágyi Mátyás</td><td>2017-01-09</td><td>2017-01-13</td><td>2</td><td>6</td></tr><tr><td>MIHALYJ</td><td>Juhász Mihály</td><td>2016-08-29</td><td>2016-09-03</td><td>1</td><td>NULL</td></tr><tr><td>MIHALYJ</td><td>Juhász Mihály</td><td>2016-05-30</td><td>2016-06-01</td><td>2</td><td>1</td></tr><tr><td>MIHALYJ</td><td>Juhász Mihály</td><td>2016-06-27</td><td>2016-07-01</td><td>1</td><td>3</td></tr><tr><td>MIHALYJ</td><td>Juhász Mihály</td><td>2016-11-01</td><td>2016-11-04</td><td>3</td><td>4</td></tr><tr><td>MIHALYJ</td><td>Juhász Mihály</td><td>2017-02-06</td><td>2017-02-12</td><td>4</td><td>6</td></tr><tr><td>miklos2</td><td>Gondos Miklós</td><td>2016-04-19</td><td>2016-04-21</td><td>3</td><td>NULL</td></tr><tr><td>miklos2</td><td>Gondos Miklós</td><td>2016-10-08</td><td>2016-10-09</td><td>1</td><td>3</td></tr><tr><td>miklos2</td><td>Gondos Miklós</td><td>2016-11-16</td><td>2016-11-18</td><td>3</td><td>4</td></tr><tr><td>MIKLOSB</td><td>Balla Miklós</td><td>2016-07-18</td><td>2016-07-21</td><td>2</td><td>NULL</td></tr><tr><td>MIKLOSB</td><td>Balla Miklós</td><td>2016-06-26</td><td>2016-06-30</td><td>2</td><td>2</td></tr><tr><td>MIKLOSB</td><td>Balla Miklós</td><td>2016-12-05</td><td>2016-12-10</td><td>2</td><td>4</td></tr><tr><td>MONIKAM</td><td>Mohos Mónika</td><td>2016-04-29</td><td>2016-05-01</td><td>2</td><td>NULL</td></tr><tr><td>MONIKAM</td><td>Mohos Mónika</td><td>2016-07-23</td><td>2016-07-30</td><td>1</td><td>2</td></tr><tr><td>MONIKAM</td><td>Mohos Mónika</td><td>2016-11-09</td><td>2016-11-16</td><td>2</td><td>3</td></tr><tr><td>MONIKAM</td><td>Mohos Mónika</td><td>2017-01-17</td><td>2017-01-24</td><td>1</td><td>5</td></tr><tr><td>MONIKAM</td><td>Mohos Mónika</td><td>2017-02-06</td><td>2017-02-09</td><td>2</td><td>4</td></tr><tr><td>MONIKAM</td><td>Mohos Mónika</td><td>2017-02-23</td><td>2017-02-26</td><td>2</td><td>5</td></tr><tr><td>NANDORF</td><td>Fő Nándor</td><td>2016-04-06</td><td>2016-04-10</td><td>3</td><td>NULL</td></tr><tr><td>NANDORF</td><td>Fő Nándor</td><td>2016-11-03</td><td>2016-11-04</td><td>3</td><td>3</td></tr><tr><td>NANDORF</td><td>Fő Nándor</td><td>2017-02-05</td><td>2017-02-08</td><td>3</td><td>6</td></tr><tr><td>nikolett3</td><td>Horváth Nikolett</td><td>2016-05-24</td><td>2016-05-29</td><td>2</td><td>NULL</td></tr><tr><td>nikolett3</td><td>Horváth Nikolett</td><td>2016-06-03</td><td>2016-06-09</td><td>1</td><td>2</td></tr><tr><td>nikolett3</td><td>Horváth Nikolett</td><td>2016-06-22</td><td>2016-06-24</td><td>1</td><td>3</td></tr><tr><td>nikolett3</td><td>Horváth Nikolett</td><td>2016-10-22</td><td>2016-10-29</td><td>3</td><td>4</td></tr><tr><td>nikoletta4</td><td>Kő Nikoletta</td><td>2016-04-08</td><td>2016-04-10</td><td>2</td><td>NULL</td></tr><tr><td>nikoletta4</td><td>Kő Nikoletta</td><td>2016-05-09</td><td>2016-05-15</td><td>2</td><td>2</td></tr><tr><td>nikoletta4</td><td>Kő Nikoletta</td><td>2016-08-13</td><td>2016-08-17</td><td>3</td><td>4</td></tr><tr><td>nikoletta4</td><td>Kő Nikoletta</td><td>2016-05-30</td><td>2016-06-03</td><td>3</td><td>7</td></tr><tr><td>nikoletta4</td><td>Kő Nikoletta</td><td>2016-06-29</td><td>2016-07-06</td><td>2</td><td>8</td></tr><tr><td>nikoletta4</td><td>Kő Nikoletta</td><td>2016-12-08</td><td>2016-12-10</td><td>5</td><td>8</td></tr><tr><td>nikoletta4</td><td>Kő Nikoletta</td><td>2017-02-01</td><td>2017-02-04</td><td>2</td><td>10</td></tr><tr><td>NIKOLETTAT</td><td>Tatár Nikoletta</td><td>2016-05-22</td><td>2016-05-23</td><td>4</td><td>NULL</td></tr><tr><td>NIKOLETTAT</td><td>Tatár Nikoletta</td><td>2016-07-27</td><td>2016-07-29</td><td>4</td><td>4</td></tr><tr><td>NIKOLETTAT</td><td>Tatár Nikoletta</td><td>2016-06-07</td><td>2016-06-09</td><td>2</td><td>8</td></tr><tr><td>NIKOLETTAT</td><td>Tatár Nikoletta</td><td>2016-09-21</td><td>2016-09-26</td><td>2</td><td>10</td></tr><tr><td>norbert</td><td>Szűcs Norbert</td><td>2016-07-08</td><td>2016-07-13</td><td>1</td><td>NULL</td></tr><tr><td>norbert</td><td>Szűcs Norbert</td><td>2016-11-16</td><td>2016-11-23</td><td>3</td><td>1</td></tr><tr><td>norbert</td><td>Szűcs Norbert</td><td>2016-12-15</td><td>2016-12-18</td><td>2</td><td>4</td></tr><tr><td>norbert</td><td>Szűcs Norbert</td><td>2017-02-13</td><td>2017-02-15</td><td>3</td><td>6</td></tr><tr><td>norbert</td><td>Szűcs Norbert</td><td>2017-02-26</td><td>2017-03-01</td><td>1</td><td>8</td></tr><tr><td>norbert2</td><td>Hegedűs Norbert</td><td>2016-04-19</td><td>2016-04-26</td><td>1</td><td>NULL</td></tr><tr><td>norbert2</td><td>Hegedűs Norbert</td><td>2016-05-09</td><td>2016-05-10</td><td>2</td><td>1</td></tr><tr><td>norbert2</td><td>Hegedűs Norbert</td><td>2016-07-27</td><td>2016-08-02</td><td>2</td><td>3</td></tr><tr><td>norbert2</td><td>Hegedűs Norbert</td><td>2016-08-16</td><td>2016-08-19</td><td>1</td><td>5</td></tr><tr><td>norbert2</td><td>Hegedűs Norbert</td><td>2016-07-13</td><td>2016-07-15</td><td>3</td><td>5</td></tr><tr><td>norbert2</td><td>Hegedűs Norbert</td><td>2016-10-31</td><td>2016-11-07</td><td>2</td><td>6</td></tr><tr><td>norbert2</td><td>Hegedűs Norbert</td><td>2017-01-29</td><td>2017-02-05</td><td>3</td><td>6</td></tr><tr><td>norbert4</td><td>Mile Norbert</td><td>2016-04-10</td><td>2016-04-13</td><td>2</td><td>NULL</td></tr><tr><td>norbert4</td><td>Mile Norbert</td><td>2016-05-29</td><td>2016-06-03</td><td>3</td><td>2</td></tr><tr><td>norbert4</td><td>Mile Norbert</td><td>2016-06-16</td><td>2016-06-17</td><td>4</td><td>5</td></tr><tr><td>norbert4</td><td>Mile Norbert</td><td>2016-06-16</td><td>2016-06-21</td><td>3</td><td>9</td></tr><tr><td>norbert4</td><td>Mile Norbert</td><td>2016-10-05</td><td>2016-10-10</td><td>3</td><td>10</td></tr><tr><td>norbert4</td><td>Mile Norbert</td><td>2016-10-28</td><td>2016-10-31</td><td>3</td><td>10</td></tr><tr><td>norbert4</td><td>Mile Norbert</td><td>2016-11-30</td><td>2016-12-06</td><td>3</td><td>9</td></tr><tr><td>norbert4</td><td>Mile Norbert</td><td>2017-02-16</td><td>2017-02-17</td><td>1</td><td>9</td></tr><tr><td>norbert4</td><td>Mile Norbert</td><td>2017-03-03</td><td>2017-03-07</td><td>2</td><td>7</td></tr><tr><td>norbert5</td><td>Béres Norbert</td><td>2016-08-10</td><td>2016-08-11</td><td>2</td><td>NULL</td></tr><tr><td>norbert5</td><td>Béres Norbert</td><td>2016-06-24</td><td>2016-06-28</td><td>2</td><td>2</td></tr><tr><td>norbert5</td><td>Béres Norbert</td><td>2016-11-05</td><td>2016-11-07</td><td>1</td><td>4</td></tr><tr><td>pal</td><td>Barabás Pál</td><td>2016-08-14</td><td>2016-08-18</td><td>3</td><td>NULL</td></tr><tr><td>pal</td><td>Barabás Pál</td><td>2016-09-16</td><td>2016-09-19</td><td>2</td><td>3</td></tr><tr><td>pal</td><td>Barabás Pál</td><td>2016-12-17</td><td>2016-12-23</td><td>3</td><td>5</td></tr><tr><td>pal</td><td>Barabás Pál</td><td>2017-02-13</td><td>2017-02-19</td><td>3</td><td>8</td></tr><tr><td>pal</td><td>Barabás Pál</td><td>2017-02-20</td><td>2017-02-22</td><td>3</td><td>8</td></tr><tr><td>peter1</td><td>Kozma Péter</td><td>2016-07-14</td><td>2016-07-18</td><td>3</td><td>NULL</td></tr><tr><td>peter1</td><td>Kozma Péter</td><td>2016-10-26</td><td>2016-11-01</td><td>3</td><td>3</td></tr><tr><td>peter1</td><td>Kozma Péter</td><td>2017-02-23</td><td>2017-02-26</td><td>3</td><td>6</td></tr><tr><td>peter1</td><td>Kozma Péter</td><td>2017-02-28</td><td>2017-03-05</td><td>3</td><td>9</td></tr><tr><td>peter2</td><td>Bozsó Péter</td><td>2016-07-03</td><td>2016-07-08</td><td>2</td><td>NULL</td></tr><tr><td>peter2</td><td>Bozsó Péter</td><td>2016-10-10</td><td>2016-10-16</td><td>2</td><td>2</td></tr><tr><td>peter2</td><td>Bozsó Péter</td><td>2016-11-01</td><td>2016-11-02</td><td>2</td><td>4</td></tr><tr><td>peter2</td><td>Bozsó Péter</td><td>2016-11-15</td><td>2016-11-21</td><td>3</td><td>6</td></tr><tr><td>peter3</td><td>Szalai Péter</td><td>2016-07-27</td><td>2016-07-31</td><td>4</td><td>NULL</td></tr><tr><td>peter3</td><td>Szalai Péter</td><td>2016-06-30</td><td>2016-07-05</td><td>3</td><td>4</td></tr><tr><td>peter3</td><td>Szalai Péter</td><td>2016-10-30</td><td>2016-11-06</td><td>2</td><td>7</td></tr><tr><td>peter3</td><td>Szalai Péter</td><td>2016-12-25</td><td>2016-12-28</td><td>1</td><td>9</td></tr><tr><td>peter3</td><td>Szalai Péter</td><td>2017-01-12</td><td>2017-01-17</td><td>1</td><td>6</td></tr><tr><td>peter3</td><td>Szalai Péter</td><td>2017-02-21</td><td>2017-02-24</td><td>2</td><td>4</td></tr><tr><td>peter4</td><td>Bíró Péter</td><td>2016-04-12</td><td>2016-04-15</td><td>3</td><td>NULL</td></tr><tr><td>peter4</td><td>Bíró Péter</td><td>2016-08-06</td><td>2016-08-13</td><td>2</td><td>3</td></tr><tr><td>peter4</td><td>Bíró Péter</td><td>2016-08-24</td><td>2016-08-25</td><td>3</td><td>5</td></tr><tr><td>peter4</td><td>Bíró Péter</td><td>2016-09-11</td><td>2016-09-17</td><td>4</td><td>8</td></tr><tr><td>peter4</td><td>Bíró Péter</td><td>2016-09-25</td><td>2016-09-26</td><td>3</td><td>9</td></tr><tr><td>peter4</td><td>Bíró Péter</td><td>2016-09-30</td><td>2016-10-06</td><td>3</td><td>10</td></tr><tr><td>peter4</td><td>Bíró Péter</td><td>2016-10-09</td><td>2016-10-16</td><td>3</td><td>10</td></tr><tr><td>peter4</td><td>Bíró Péter</td><td>2016-10-24</td><td>2016-10-25</td><td>2</td><td>9</td></tr><tr><td>peter4</td><td>Bíró Péter</td><td>2016-10-30</td><td>2016-11-01</td><td>3</td><td>8</td></tr><tr><td>peter4</td><td>Bíró Péter</td><td>2016-11-10</td><td>2016-11-17</td><td>3</td><td>8</td></tr><tr><td>peter4</td><td>Bíró Péter</td><td>2016-11-25</td><td>2016-11-30</td><td>3</td><td>8</td></tr><tr><td>peter4</td><td>Bíró Péter</td><td>2017-02-05</td><td>2017-02-09</td><td>3</td><td>9</td></tr><tr><td>PETERB</td><td>Berendi Péter</td><td>2016-04-06</td><td>2016-04-10</td><td>1</td><td>NULL</td></tr><tr><td>PETERB</td><td>Berendi Péter</td><td>2016-07-20</td><td>2016-07-24</td><td>2</td><td>1</td></tr><tr><td>PETERB</td><td>Berendi Péter</td><td>2016-08-16</td><td>2016-08-23</td><td>1</td><td>3</td></tr><tr><td>PETERB</td><td>Berendi Péter</td><td>2016-10-19</td><td>2016-10-20</td><td>4</td><td>4</td></tr><tr><td>PETERB</td><td>Berendi Péter</td><td>2016-11-17</td><td>2016-11-20</td><td>2</td><td>7</td></tr><tr><td>polla</td><td>Palágyi Polla</td><td>2016-04-17</td><td>2016-04-22</td><td>3</td><td>NULL</td></tr><tr><td>polla</td><td>Palágyi Polla</td><td>2016-08-14</td><td>2016-08-17</td><td>2</td><td>3</td></tr><tr><td>polla</td><td>Palágyi Polla</td><td>2016-08-16</td><td>2016-08-19</td><td>4</td><td>5</td></tr><tr><td>polla</td><td>Palágyi Polla</td><td>2016-05-28</td><td>2016-06-04</td><td>2</td><td>9</td></tr><tr><td>polla</td><td>Palágyi Polla</td><td>2017-01-29</td><td>2017-02-01</td><td>2</td><td>8</td></tr><tr><td>polla</td><td>Palágyi Polla</td><td>2017-02-11</td><td>2017-02-16</td><td>2</td><td>8</td></tr><tr><td>rajmond4</td><td>Rácz Rajmond</td><td>2016-09-05</td><td>2016-09-07</td><td>3</td><td>NULL</td></tr><tr><td>rajmond4</td><td>Rácz Rajmond</td><td>2016-10-03</td><td>2016-10-04</td><td>3</td><td>3</td></tr><tr><td>rajmond4</td><td>Rácz Rajmond</td><td>2016-11-08</td><td>2016-11-09</td><td>4</td><td>6</td></tr><tr><td>rajmond4</td><td>Rácz Rajmond</td><td>2016-11-16</td><td>2016-11-20</td><td>2</td><td>10</td></tr><tr><td>reka4</td><td>Szikszai Réka</td><td>2016-07-27</td><td>2016-07-31</td><td>2</td><td>NULL</td></tr><tr><td>reka4</td><td>Szikszai Réka</td><td>2016-08-02</td><td>2016-08-04</td><td>4</td><td>2</td></tr><tr><td>reka4</td><td>Szikszai Réka</td><td>2016-09-05</td><td>2016-09-07</td><td>3</td><td>6</td></tr><tr><td>reka4</td><td>Szikszai Réka</td><td>2016-09-30</td><td>2016-10-06</td><td>2</td><td>9</td></tr><tr><td>reka4</td><td>Szikszai Réka</td><td>2017-02-26</td><td>2017-03-04</td><td>2</td><td>9</td></tr><tr><td>RENATAK</td><td>Kardos Renáta</td><td>2016-10-27</td><td>2016-10-29</td><td>4</td><td>NULL</td></tr><tr><td>RENATAK</td><td>Kardos Renáta</td><td>2016-10-30</td><td>2016-10-31</td><td>1</td><td>4</td></tr><tr><td>RENATAK</td><td>Kardos Renáta</td><td>2016-11-23</td><td>2016-11-26</td><td>1</td><td>5</td></tr><tr><td>RENATAK</td><td>Kardos Renáta</td><td>2017-01-23</td><td>2017-01-24</td><td>3</td><td>6</td></tr><tr><td>RENATAK</td><td>Kardos Renáta</td><td>2017-02-16</td><td>2017-02-23</td><td>1</td><td>5</td></tr><tr><td>RENATAK</td><td>Kardos Renáta</td><td>2017-03-01</td><td>2017-03-06</td><td>1</td><td>5</td></tr><tr><td>RENATAS</td><td>Szirmai Renáta</td><td>2016-05-04</td><td>2016-05-11</td><td>2</td><td>NULL</td></tr><tr><td>RENATAS</td><td>Szirmai Renáta</td><td>2016-05-11</td><td>2016-05-16</td><td>2</td><td>2</td></tr><tr><td>RENATAS</td><td>Szirmai Renáta</td><td>2016-06-24</td><td>2016-06-30</td><td>5</td><td>4</td></tr><tr><td>RENATAS</td><td>Szirmai Renáta</td><td>2017-02-13</td><td>2017-02-17</td><td>1</td><td>9</td></tr><tr><td>RENATAS</td><td>Szirmai Renáta</td><td>2017-02-14</td><td>2017-02-17</td><td>2</td><td>8</td></tr><tr><td>robert2</td><td>Patay Róbert</td><td>2016-05-15</td><td>2016-05-18</td><td>2</td><td>NULL</td></tr><tr><td>robert2</td><td>Patay Róbert</td><td>2016-08-20</td><td>2016-08-27</td><td>2</td><td>2</td></tr><tr><td>robert2</td><td>Patay Róbert</td><td>2016-10-23</td><td>2016-10-28</td><td>3</td><td>4</td></tr><tr><td>robert2</td><td>Patay Róbert</td><td>2016-12-17</td><td>2016-12-22</td><td>1</td><td>7</td></tr><tr><td>ROBERTI</td><td>Iván Róbert</td><td>2016-08-16</td><td>2016-08-21</td><td>2</td><td>NULL</td></tr><tr><td>ROBERTI</td><td>Iván Róbert</td><td>2016-08-23</td><td>2016-08-25</td><td>2</td><td>2</td></tr><tr><td>ROBERTI</td><td>Iván Róbert</td><td>2016-07-12</td><td>2016-07-19</td><td>4</td><td>4</td></tr><tr><td>ROBERTI</td><td>Iván Róbert</td><td>2016-10-08</td><td>2016-10-12</td><td>3</td><td>8</td></tr><tr><td>ROBERTI</td><td>Iván Róbert</td><td>2016-10-09</td><td>2016-10-10</td><td>2</td><td>9</td></tr><tr><td>ROBERTI</td><td>Iván Róbert</td><td>2016-10-23</td><td>2016-10-29</td><td>1</td><td>9</td></tr><tr><td>ROBERTI</td><td>Iván Róbert</td><td>2016-10-26</td><td>2016-11-01</td><td>2</td><td>6</td></tr><tr><td>ROBERTI</td><td>Iván Róbert</td><td>2017-02-17</td><td>2017-02-20</td><td>2</td><td>5</td></tr><tr><td>ROBERTP</td><td>Pásztor Róbert</td><td>2016-07-30</td><td>2016-08-05</td><td>2</td><td>NULL</td></tr><tr><td>ROBERTP</td><td>Pásztor Róbert</td><td>2016-09-08</td><td>2016-09-11</td><td>4</td><td>2</td></tr><tr><td>roland</td><td>Tóth Roland</td><td>2016-09-04</td><td>2016-09-05</td><td>2</td><td>NULL</td></tr><tr><td>roland</td><td>Tóth Roland</td><td>2016-06-09</td><td>2016-06-13</td><td>3</td><td>2</td></tr><tr><td>roland</td><td>Tóth Roland</td><td>2016-06-22</td><td>2016-06-23</td><td>3</td><td>5</td></tr><tr><td>roland</td><td>Tóth Roland</td><td>2016-11-19</td><td>2016-11-24</td><td>2</td><td>8</td></tr><tr><td>roland1</td><td>Ferencz Roland</td><td>2016-11-05</td><td>2016-11-07</td><td>3</td><td>NULL</td></tr><tr><td>roland1</td><td>Ferencz Roland</td><td>2016-12-22</td><td>2016-12-29</td><td>1</td><td>3</td></tr><tr><td>roland1</td><td>Ferencz Roland</td><td>2017-01-04</td><td>2017-01-08</td><td>3</td><td>4</td></tr><tr><td>roland1</td><td>Ferencz Roland</td><td>2017-01-16</td><td>2017-01-22</td><td>2</td><td>7</td></tr><tr><td>roza2</td><td>Bucskó Róza</td><td>2016-09-10</td><td>2016-09-13</td><td>2</td><td>NULL</td></tr><tr><td>roza2</td><td>Bucskó Róza</td><td>2017-01-11</td><td>2017-01-17</td><td>3</td><td>2</td></tr><tr><td>roza2</td><td>Bucskó Róza</td><td>2017-02-18</td><td>2017-02-21</td><td>3</td><td>5</td></tr><tr><td>sandor</td><td>Karasz Sándor</td><td>2016-07-18</td><td>2016-07-24</td><td>2</td><td>NULL</td></tr><tr><td>sandor</td><td>Karasz Sándor</td><td>2016-08-20</td><td>2016-08-25</td><td>2</td><td>2</td></tr><tr><td>sandor</td><td>Karasz Sándor</td><td>2016-07-04</td><td>2016-07-06</td><td>2</td><td>4</td></tr><tr><td>sandor</td><td>Karasz Sándor</td><td>2016-09-19</td><td>2016-09-26</td><td>4</td><td>6</td></tr><tr><td>sandor3</td><td>Farkas Sándor</td><td>2016-05-12</td><td>2016-05-15</td><td>2</td><td>NULL</td></tr><tr><td>sandor3</td><td>Farkas Sándor</td><td>2016-05-25</td><td>2016-05-30</td><td>1</td><td>2</td></tr><tr><td>sandor3</td><td>Farkas Sándor</td><td>2016-10-09</td><td>2016-10-14</td><td>2</td><td>3</td></tr><tr><td>sandor3</td><td>Farkas Sándor</td><td>2016-10-23</td><td>2016-10-29</td><td>3</td><td>5</td></tr><tr><td>sandor3</td><td>Farkas Sándor</td><td>2016-11-10</td><td>2016-11-11</td><td>2</td><td>6</td></tr><tr><td>sandor4</td><td>Nagy Sándor</td><td>2016-10-15</td><td>2016-10-18</td><td>1</td><td>NULL</td></tr><tr><td>sandor4</td><td>Nagy Sándor</td><td>2016-11-29</td><td>2016-12-03</td><td>2</td><td>1</td></tr><tr><td>sandor4</td><td>Nagy Sándor</td><td>2016-12-03</td><td>2016-12-09</td><td>1</td><td>3</td></tr><tr><td>sandor4</td><td>Nagy Sándor</td><td>2017-01-22</td><td>2017-01-26</td><td>2</td><td>4</td></tr><tr><td>sara</td><td>Farkas Sára</td><td>2016-07-15</td><td>2016-07-17</td><td>3</td><td>NULL</td></tr><tr><td>sara</td><td>Farkas Sára</td><td>2016-07-24</td><td>2016-07-27</td><td>3</td><td>3</td></tr><tr><td>sara</td><td>Farkas Sára</td><td>2016-05-28</td><td>2016-05-30</td><td>2</td><td>6</td></tr><tr><td>sara</td><td>Farkas Sára</td><td>2016-05-30</td><td>2016-05-31</td><td>2</td><td>8</td></tr><tr><td>sara</td><td>Farkas Sára</td><td>2016-06-06</td><td>2016-06-08</td><td>2</td><td>7</td></tr><tr><td>sara</td><td>Farkas Sára</td><td>2016-10-06</td><td>2016-10-12</td><td>3</td><td>6</td></tr><tr><td>sara</td><td>Farkas Sára</td><td>2016-10-11</td><td>2016-10-14</td><td>3</td><td>7</td></tr><tr><td>sara</td><td>Farkas Sára</td><td>2016-10-28</td><td>2016-11-03</td><td>2</td><td>8</td></tr><tr><td>sara</td><td>Farkas Sára</td><td>2016-11-18</td><td>2016-11-21</td><td>3</td><td>8</td></tr><tr><td>sara</td><td>Farkas Sára</td><td>2016-11-23</td><td>2016-11-30</td><td>4</td><td>8</td></tr><tr><td>sara</td><td>Farkas Sára</td><td>2016-12-06</td><td>2016-12-10</td><td>1</td><td>9</td></tr><tr><td>sara</td><td>Farkas Sára</td><td>2016-12-25</td><td>2016-12-30</td><td>2</td><td>8</td></tr><tr><td>SEBASTIANF</td><td>Foltényi Sebastián</td><td>2016-04-06</td><td>2016-04-12</td><td>2</td><td>NULL</td></tr><tr><td>SEBASTIANF</td><td>Foltényi Sebastián</td><td>2016-07-17</td><td>2016-07-21</td><td>2</td><td>2</td></tr><tr><td>SEBASTIANF</td><td>Foltényi Sebastián</td><td>2016-07-30</td><td>2016-08-06</td><td>4</td><td>4</td></tr><tr><td>SEBASTIANF</td><td>Foltényi Sebastián</td><td>2016-09-14</td><td>2016-09-15</td><td>3</td><td>8</td></tr><tr><td>SEBASTIANF</td><td>Foltényi Sebastián</td><td>2016-09-17</td><td>2016-09-20</td><td>3</td><td>9</td></tr><tr><td>sebestyen</td><td>Rab Sebestyén</td><td>2016-04-07</td><td>2016-04-12</td><td>4</td><td>NULL</td></tr><tr><td>sebestyen</td><td>Rab Sebestyén</td><td>2016-04-26</td><td>2016-05-02</td><td>4</td><td>4</td></tr><tr><td>sebestyen</td><td>Rab Sebestyén</td><td>2016-06-09</td><td>2016-06-14</td><td>4</td><td>8</td></tr><tr><td>sebestyen</td><td>Rab Sebestyén</td><td>2016-10-26</td><td>2016-11-01</td><td>5</td><td>12</td></tr><tr><td>szabolcs</td><td>Bodor Szabolcs</td><td>2016-12-05</td><td>2016-12-07</td><td>2</td><td>NULL</td></tr><tr><td>SZABOLCSM</td><td>Miklós Szabolcs</td><td>2016-07-28</td><td>2016-08-03</td><td>2</td><td>NULL</td></tr><tr><td>SZABOLCSM</td><td>Miklós Szabolcs</td><td>2016-06-18</td><td>2016-06-21</td><td>3</td><td>2</td></tr><tr><td>SZABOLCSM</td><td>Miklós Szabolcs</td><td>2016-10-17</td><td>2016-10-19</td><td>2</td><td>5</td></tr><tr><td>SZABOLCSM</td><td>Miklós Szabolcs</td><td>2016-10-28</td><td>2016-11-03</td><td>3</td><td>7</td></tr><tr><td>SZABOLCSM</td><td>Miklós Szabolcs</td><td>2016-11-12</td><td>2016-11-13</td><td>2</td><td>8</td></tr><tr><td>SZABOLCSM</td><td>Miklós Szabolcs</td><td>2017-01-07</td><td>2017-01-08</td><td>2</td><td>7</td></tr><tr><td>SZABOLCSM</td><td>Miklós Szabolcs</td><td>2017-02-04</td><td>2017-02-05</td><td>3</td><td>7</td></tr><tr><td>SZILARDS</td><td>Szalai Szilárd</td><td>2016-04-23</td><td>2016-04-30</td><td>3</td><td>NULL</td></tr><tr><td>SZILARDS</td><td>Szalai Szilárd</td><td>2016-07-27</td><td>2016-08-03</td><td>5</td><td>3</td></tr><tr><td>SZILARDS</td><td>Szalai Szilárd</td><td>2016-08-28</td><td>2016-08-29</td><td>4</td><td>8</td></tr><tr><td>SZILARDS</td><td>Szalai Szilárd</td><td>2016-09-20</td><td>2016-09-24</td><td>3</td><td>12</td></tr><tr><td>SZILARDS</td><td>Szalai Szilárd</td><td>2016-10-01</td><td>2016-10-08</td><td>3</td><td>12</td></tr><tr><td>SZILARDS</td><td>Szalai Szilárd</td><td>2017-01-16</td><td>2017-01-19</td><td>3</td><td>10</td></tr><tr><td>SZILARDS</td><td>Szalai Szilárd</td><td>2017-02-08</td><td>2017-02-15</td><td>1</td><td>9</td></tr><tr><td>szilvia1</td><td>Tari Szilvia</td><td>2016-05-14</td><td>2016-05-21</td><td>2</td><td>NULL</td></tr><tr><td>szilvia1</td><td>Tari Szilvia</td><td>2016-07-25</td><td>2016-07-28</td><td>2</td><td>2</td></tr><tr><td>szilvia1</td><td>Tari Szilvia</td><td>2016-05-28</td><td>2016-06-03</td><td>2</td><td>4</td></tr><tr><td>szilvia1</td><td>Tari Szilvia</td><td>2016-10-09</td><td>2016-10-10</td><td>3</td><td>6</td></tr><tr><td>szilvia1</td><td>Tari Szilvia</td><td>2016-10-25</td><td>2016-10-31</td><td>3</td><td>7</td></tr><tr><td>szilvia1</td><td>Tari Szilvia</td><td>2016-10-27</td><td>2016-10-28</td><td>2</td><td>8</td></tr><tr><td>szilvia1</td><td>Tari Szilvia</td><td>2016-12-25</td><td>2016-12-29</td><td>5</td><td>8</td></tr><tr><td>szilvia1</td><td>Tari Szilvia</td><td>2016-12-27</td><td>2017-01-02</td><td>2</td><td>10</td></tr><tr><td>szilvia1</td><td>Tari Szilvia</td><td>2017-01-28</td><td>2017-02-03</td><td>2</td><td>9</td></tr><tr><td>tamara2</td><td>Miklós Tamara</td><td>2016-08-12</td><td>2016-08-15</td><td>3</td><td>NULL</td></tr><tr><td>tamara2</td><td>Miklós Tamara</td><td>2016-11-15</td><td>2016-11-18</td><td>2</td><td>3</td></tr><tr><td>tamas</td><td>Antal Tamás</td><td>2016-05-17</td><td>2016-05-22</td><td>2</td><td>NULL</td></tr><tr><td>tamas</td><td>Antal Tamás</td><td>2016-08-24</td><td>2016-08-27</td><td>3</td><td>2</td></tr><tr><td>tamas</td><td>Antal Tamás</td><td>2016-06-14</td><td>2016-06-21</td><td>2</td><td>5</td></tr><tr><td>tamas</td><td>Antal Tamás</td><td>2017-02-14</td><td>2017-02-19</td><td>3</td><td>7</td></tr><tr><td>TAMASF</td><td>Fényes Tamás</td><td>2016-05-03</td><td>2016-05-04</td><td>2</td><td>NULL</td></tr><tr><td>TAMASF</td><td>Fényes Tamás</td><td>2016-06-10</td><td>2016-06-13</td><td>3</td><td>2</td></tr><tr><td>TAMASF</td><td>Fényes Tamás</td><td>2016-06-28</td><td>2016-07-05</td><td>3</td><td>5</td></tr><tr><td>TAMASF</td><td>Fényes Tamás</td><td>2016-07-04</td><td>2016-07-10</td><td>2</td><td>8</td></tr><tr><td>TAMASF</td><td>Fényes Tamás</td><td>2016-09-12</td><td>2016-09-18</td><td>3</td><td>8</td></tr><tr><td>TAMASF</td><td>Fényes Tamás</td><td>2016-12-02</td><td>2016-12-04</td><td>1</td><td>8</td></tr><tr><td>TAMASF</td><td>Fényes Tamás</td><td>2016-12-10</td><td>2016-12-14</td><td>3</td><td>6</td></tr><tr><td>TAMASF</td><td>Fényes Tamás</td><td>2017-02-12</td><td>2017-02-17</td><td>2</td><td>7</td></tr><tr><td>TAMASF</td><td>Fényes Tamás</td><td>2017-02-16</td><td>2017-02-19</td><td>4</td><td>6</td></tr><tr><td>tibor</td><td>Gombos Tibor</td><td>2016-10-09</td><td>2016-10-13</td><td>2</td><td>NULL</td></tr><tr><td>tibor</td><td>Gombos Tibor</td><td>2016-11-05</td><td>2016-11-09</td><td>1</td><td>2</td></tr><tr><td>tibor2</td><td>Dániel Tibor</td><td>2016-10-20</td><td>2016-10-25</td><td>2</td><td>NULL</td></tr><tr><td>tihamer</td><td>Kazy Tihamér</td><td>2016-07-20</td><td>2016-07-24</td><td>3</td><td>NULL</td></tr><tr><td>tihamer</td><td>Kazy Tihamér</td><td>2016-08-18</td><td>2016-08-22</td><td>3</td><td>3</td></tr><tr><td>tihamer</td><td>Kazy Tihamér</td><td>2016-05-30</td><td>2016-06-05</td><td>1</td><td>6</td></tr><tr><td>tihamer</td><td>Kazy Tihamér</td><td>2016-06-03</td><td>2016-06-08</td><td>5</td><td>7</td></tr><tr><td>tihamer</td><td>Kazy Tihamér</td><td>2016-10-19</td><td>2016-10-23</td><td>2</td><td>9</td></tr><tr><td>tihamer</td><td>Kazy Tihamér</td><td>2016-12-25</td><td>2016-12-26</td><td>2</td><td>8</td></tr><tr><td>timea</td><td>Papós Tímea</td><td>2016-12-26</td><td>2016-12-27</td><td>2</td><td>NULL</td></tr><tr><td>timea2</td><td>Dusha Tímea</td><td>2016-08-07</td><td>2016-08-10</td><td>3</td><td>NULL</td></tr><tr><td>timea2</td><td>Dusha Tímea</td><td>2016-06-06</td><td>2016-06-07</td><td>2</td><td>3</td></tr><tr><td>timea2</td><td>Dusha Tímea</td><td>2016-10-26</td><td>2016-10-29</td><td>3</td><td>5</td></tr><tr><td>timea2</td><td>Dusha Tímea</td><td>2016-11-27</td><td>2016-12-01</td><td>4</td><td>8</td></tr><tr><td>timea2</td><td>Dusha Tímea</td><td>2016-12-14</td><td>2016-12-16</td><td>4</td><td>9</td></tr><tr><td>tunde</td><td>Turcsik Tünde</td><td>2016-07-14</td><td>2016-07-21</td><td>1</td><td>NULL</td></tr><tr><td>tunde</td><td>Turcsik Tünde</td><td>2016-09-05</td><td>2016-09-12</td><td>2</td><td>1</td></tr><tr><td>tunde</td><td>Turcsik Tünde</td><td>2016-06-03</td><td>2016-06-07</td><td>3</td><td>3</td></tr><tr><td>tunde</td><td>Turcsik Tünde</td><td>2016-06-06</td><td>2016-06-12</td><td>3</td><td>6</td></tr><tr><td>tunde</td><td>Turcsik Tünde</td><td>2016-10-24</td><td>2016-10-30</td><td>3</td><td>8</td></tr><tr><td>tunde</td><td>Turcsik Tünde</td><td>2016-11-19</td><td>2016-11-20</td><td>3</td><td>9</td></tr><tr><td>tunde</td><td>Turcsik Tünde</td><td>2016-12-15</td><td>2016-12-20</td><td>3</td><td>9</td></tr><tr><td>tunde</td><td>Turcsik Tünde</td><td>2017-01-03</td><td>2017-01-06</td><td>5</td><td>9</td></tr><tr><td>valentin</td><td>Feró Valentin</td><td>2016-07-24</td><td>2016-07-29</td><td>1</td><td>NULL</td></tr><tr><td>valentin</td><td>Feró Valentin</td><td>2016-05-24</td><td>2016-05-30</td><td>4</td><td>1</td></tr><tr><td>valentin</td><td>Feró Valentin</td><td>2016-10-26</td><td>2016-10-30</td><td>3</td><td>5</td></tr><tr><td>valentin</td><td>Feró Valentin</td><td>2016-11-11</td><td>2016-11-17</td><td>3</td><td>8</td></tr><tr><td>valentin</td><td>Feró Valentin</td><td>2016-12-01</td><td>2016-12-05</td><td>3</td><td>10</td></tr><tr><td>veronika4</td><td>Tankó Veronika</td><td>2016-07-20</td><td>2016-07-26</td><td>3</td><td>NULL</td></tr><tr><td>veronika4</td><td>Tankó Veronika</td><td>2016-08-16</td><td>2016-08-21</td><td>1</td><td>3</td></tr><tr><td>veronika4</td><td>Tankó Veronika</td><td>2016-05-30</td><td>2016-06-04</td><td>2</td><td>4</td></tr><tr><td>veronika4</td><td>Tankó Veronika</td><td>2016-09-26</td><td>2016-10-03</td><td>2</td><td>6</td></tr><tr><td>veronika4</td><td>Tankó Veronika</td><td>2017-01-19</td><td>2017-01-24</td><td>3</td><td>5</td></tr><tr><td>veronika4</td><td>Tankó Veronika</td><td>2017-02-03</td><td>2017-02-05</td><td>2</td><td>7</td></tr><tr><td>VIKTORIAU</td><td>Urbán Viktoria</td><td>2016-04-30</td><td>2016-05-03</td><td>1</td><td>NULL</td></tr><tr><td>VIKTORIAU</td><td>Urbán Viktoria</td><td>2016-08-03</td><td>2016-08-04</td><td>2</td><td>1</td></tr><tr><td>VIKTORIAU</td><td>Urbán Viktoria</td><td>2016-10-14</td><td>2016-10-15</td><td>3</td><td>3</td></tr><tr><td>VIKTORIAU</td><td>Urbán Viktoria</td><td>2016-10-26</td><td>2016-11-02</td><td>4</td><td>6</td></tr><tr><td>VIKTORK</td><td>Keresztúri Viktor</td><td>2016-05-30</td><td>2016-06-01</td><td>2</td><td>NULL</td></tr><tr><td>VIKTORK</td><td>Keresztúri Viktor</td><td>2016-06-06</td><td>2016-06-07</td><td>4</td><td>2</td></tr><tr><td>vivien3</td><td>Boros Vivien</td><td>2016-05-02</td><td>2016-05-05</td><td>3</td><td>NULL</td></tr><tr><td>vivien3</td><td>Boros Vivien</td><td>2016-08-13</td><td>2016-08-18</td><td>2</td><td>3</td></tr><tr><td>vivien3</td><td>Boros Vivien</td><td>2016-09-01</td><td>2016-09-05</td><td>2</td><td>5</td></tr><tr><td>vivien3</td><td>Boros Vivien</td><td>2016-10-01</td><td>2016-10-04</td><td>1</td><td>7</td></tr><tr><td>vivien3</td><td>Boros Vivien</td><td>2016-11-17</td><td>2016-11-20</td><td>2</td><td>5</td></tr><tr><td>vivien3</td><td>Boros Vivien</td><td>2016-12-17</td><td>2016-12-21</td><td>2</td><td>5</td></tr><tr><td>vivien3</td><td>Boros Vivien</td><td>2016-12-24</td><td>2016-12-26</td><td>3</td><td>5</td></tr><tr><td>zoltan</td><td>Fodor Zoltán</td><td>2016-08-24</td><td>2016-08-31</td><td>2</td><td>NULL</td></tr><tr><td>zoltan</td><td>Fodor Zoltán</td><td>2016-09-05</td><td>2016-09-09</td><td>3</td><td>2</td></tr><tr><td>zoltan4</td><td>Barna Zoltán</td><td>2016-05-12</td><td>2016-05-16</td><td>3</td><td>NULL</td></tr><tr><td>zoltan4</td><td>Barna Zoltán</td><td>2016-05-13</td><td>2016-05-16</td><td>3</td><td>3</td></tr><tr><td>zoltan4</td><td>Barna Zoltán</td><td>2016-08-15</td><td>2016-08-21</td><td>1</td><td>6</td></tr><tr><td>zoltan4</td><td>Barna Zoltán</td><td>2016-08-16</td><td>2016-08-23</td><td>2</td><td>7</td></tr><tr><td>zoltan4</td><td>Barna Zoltán</td><td>2016-06-03</td><td>2016-06-06</td><td>1</td><td>6</td></tr><tr><td>zoltan4</td><td>Barna Zoltán</td><td>2016-09-30</td><td>2016-10-07</td><td>3</td><td>4</td></tr><tr><td>zoltan4</td><td>Barna Zoltán</td><td>2016-10-21</td><td>2016-10-24</td><td>5</td><td>6</td></tr><tr><td>zoltan4</td><td>Barna Zoltán</td><td>2016-10-26</td><td>2016-10-30</td><td>2</td><td>9</td></tr><tr><td>zoltan4</td><td>Barna Zoltán</td><td>2016-10-30</td><td>2016-11-06</td><td>1</td><td>10</td></tr><tr><td>zoltan4</td><td>Barna Zoltán</td><td>2016-11-19</td><td>2016-11-21</td><td>2</td><td>8</td></tr><tr><td>zoltan4</td><td>Barna Zoltán</td><td>2016-12-29</td><td>2017-01-04</td><td>1</td><td>5</td></tr><tr><td>zoltan4</td><td>Barna Zoltán</td><td>2017-01-01</td><td>2017-01-02</td><td>3</td><td>4</td></tr><tr><td>ZOLTANP</td><td>Pintér Zoltán</td><td>2016-07-20</td><td>2016-07-25</td><td>3</td><td>NULL</td></tr><tr><td>ZOLTANP</td><td>Pintér Zoltán</td><td>2016-06-05</td><td>2016-06-08</td><td>2</td><td>3</td></tr><tr><td>ZOLTANP</td><td>Pintér Zoltán</td><td>2016-06-06</td><td>2016-06-08</td><td>2</td><td>5</td></tr><tr><td>ZOLTANP</td><td>Pintér Zoltán</td><td>2016-10-19</td><td>2016-10-25</td><td>2</td><td>7</td></tr><tr><td>ZOLTANP</td><td>Pintér Zoltán</td><td>2016-12-07</td><td>2016-12-10</td><td>3</td><td>6</td></tr><tr><td>ZOLTANP</td><td>Pintér Zoltán</td><td>2016-12-25</td><td>2016-12-29</td><td>2</td><td>7</td></tr><tr><td>ZOLTANT</td><td>Tóth Zoltán</td><td>2016-05-01</td><td>2016-05-04</td><td>3</td><td>NULL</td></tr><tr><td>ZOLTANT</td><td>Tóth Zoltán</td><td>2016-07-14</td><td>2016-07-15</td><td>3</td><td>3</td></tr><tr><td>ZOLTANT</td><td>Tóth Zoltán</td><td>2017-01-16</td><td>2017-01-20</td><td>2</td><td>6</td></tr><tr><td>zsofi1</td><td>Molnár Zsófi</td><td>2016-06-16</td><td>2016-06-17</td><td>2</td><td>NULL</td></tr><tr><td>zsofi1</td><td>Molnár Zsófi</td><td>2017-02-18</td><td>2017-02-19</td><td>3</td><td>2</td></tr><tr><td>zsolt1</td><td>Pulai Zsolt</td><td>2016-04-14</td><td>2016-04-17</td><td>2</td><td>NULL</td></tr><tr><td>zsolt1</td><td>Pulai Zsolt</td><td>2016-07-31</td><td>2016-08-02</td><td>2</td><td>2</td></tr><tr><td>zsolt1</td><td>Pulai Zsolt</td><td>2016-06-06</td><td>2016-06-08</td><td>2</td><td>4</td></tr><tr><td>zsolt1</td><td>Pulai Zsolt</td><td>2016-06-07</td><td>2016-06-10</td><td>4</td><td>6</td></tr><tr><td>ZSOLTJ</td><td>Józsa Zsolt</td><td>2016-04-24</td><td>2016-04-26</td><td>4</td><td>NULL</td></tr><tr><td>ZSOLTJ</td><td>Józsa Zsolt</td><td>2016-05-09</td><td>2016-05-11</td><td>2</td><td>4</td></tr><tr><td>ZSOLTJ</td><td>Józsa Zsolt</td><td>2016-07-18</td><td>2016-07-19</td><td>2</td><td>6</td></tr><tr><td>ZSOLTJ</td><td>Józsa Zsolt</td><td>2016-05-28</td><td>2016-06-03</td><td>1</td><td>8</td></tr><tr><td>ZSOLTJ</td><td>Józsa Zsolt</td><td>2016-06-17</td><td>2016-06-19</td><td>2</td><td>5</td></tr><tr><td>ZSOLTJ</td><td>Józsa Zsolt</td><td>2016-10-01</td><td>2016-10-06</td><td>2</td><td>5</td></tr><tr><td>zsuzsa</td><td>Pusztai Zsuzsanna</td><td>2016-07-24</td><td>2016-07-25</td><td>3</td><td>NULL</td></tr><tr><td>zsuzsa</td><td>Pusztai Zsuzsanna</td><td>2016-08-28</td><td>2016-08-30</td><td>2</td><td>3</td></tr><tr><td>zsuzsa</td><td>Pusztai Zsuzsanna</td><td>2016-11-28</td><td>2016-12-04</td><td>3</td><td>5</td></tr><tr><td>zsuzsa3</td><td>Varsányi Zsuzsa</td><td>2016-07-30</td><td>2016-08-02</td><td>2</td><td>NULL</td></tr><tr><td>zsuzsa3</td><td>Varsányi Zsuzsa</td><td>2016-09-09</td><td>2016-09-10</td><td>2</td><td>2</td></tr><tr><td>zsuzsa3</td><td>Varsányi Zsuzsa</td><td>2016-09-28</td><td>2016-10-03</td><td>2</td><td>4</td></tr><tr><td>zsuzsa3</td><td>Varsányi Zsuzsa</td><td>2016-10-27</td><td>2016-11-03</td><td>4</td><td>6</td></tr><tr><td>zsuzsanna</td><td>Barta Zsuzsanna</td><td>2016-05-17</td><td>2016-05-23</td><td>2</td><td>NULL</td></tr><tr><td>zsuzsanna</td><td>Barta Zsuzsanna</td><td>2016-07-12</td><td>2016-07-15</td><td>2</td><td>2</td></tr><tr><td>zsuzsanna</td><td>Barta Zsuzsanna</td><td>2017-01-09</td><td>2017-01-16</td><td>1</td><td>4</td></tr><tr><td>zsuzsanna</td><td>Barta Zsuzsanna</td><td>2017-01-16</td><td>2017-01-22</td><td>2</td><td>5</td></tr><tr><td>ZSUZSAV</td><td>Vajda Zsuzsa</td><td>2016-04-14</td><td>2016-04-16</td><td>2</td><td>NULL</td></tr><tr><td>ZSUZSAV</td><td>Vajda Zsuzsa</td><td>2016-05-28</td><td>2016-06-01</td><td>4</td><td>2</td></tr><tr><td>ZSUZSAV</td><td>Vajda Zsuzsa</td><td>2016-06-15</td><td>2016-06-21</td><td>3</td><td>6</td></tr><tr><td>ZSUZSAV</td><td>Vajda Zsuzsa</td><td>2016-09-18</td><td>2016-09-20</td><td>2</td><td>9</td></tr><tr><td>ZSUZSAV</td><td>Vajda Zsuzsa</td><td>2016-10-26</td><td>2016-10-28</td><td>1</td><td>9</td></tr><tr><td>ZSUZSAV</td><td>Vajda Zsuzsa</td><td>2016-11-21</td><td>2016-11-24</td><td>3</td><td>6</td></tr></table>"
                    },
                    "metadata": {}
                }
            ],
            "execution_count": 9
        },
        {
            "cell_type": "markdown",
            "source": [
                "4. <span style=\"background-color: rgb(255, 255, 255); color: rgb(0, 0, 0); font-family: &quot;Open Sans&quot;, sans-serif; font-size: 14.44px;\">Készítsünk listát arról, hogy az egyes szálláshelyeken évente hány foglalás történt!&nbsp;</span> \n",
                "\n",
                "a. A lista jelenítse meg a szálláshely azonosítóját, nevét, az évet, és a foglalások számát!\n",
                "\n",
                "b. Egy új oszlopban jelenítsük meg a szálláshely eddigi éves foglalásainak számát is (az aktuálisat is beleértve). \n",
                "\n",
                "c. Az évnél a METTOL dátumot vegyük figyelembe! \n",
                "\n",
                "d. A lista ne tartalmazzon duplikált sorokat!"
            ],
            "metadata": {
                "azdata_cell_guid": "8e7fef82-8022-49a0-8255-fc2846c2134b"
            },
            "attachments": {}
        },
        {
            "cell_type": "code",
            "source": [
                ""
            ],
            "metadata": {
                "azdata_cell_guid": "36f7b396-4a1f-45e5-8720-2302537c91bc",
                "language": "sql"
            },
            "outputs": [],
            "execution_count": null
        },
        {
            "cell_type": "markdown",
            "source": [
                "5. <span style=\"background-color: rgb(255, 255, 255); color: rgb(0, 0, 0); font-family: &quot;Open Sans&quot;, sans-serif; font-size: 14.44px;\">Készítsük listát a szálláshelyekről! A lista tartalmazza a szálláshely azonosítóját, nevét, és a csillagok számát csillagszám szerint csökkenő, azon belül szállásnév szerint növekvő sorrendben!&nbsp;</span> \n",
                "\n",
                "a. Vegyünk fel két új oszlopot, amely a sorrend szerint előző szálláshely nevét, illetve azonosítóját is megjeleníti!"
            ],
            "metadata": {
                "azdata_cell_guid": "84239ca2-6b5e-49f5-9860-d44c11d6de32"
            },
            "attachments": {}
        },
        {
            "cell_type": "code",
            "source": [
                "SELECT SZALLAS_ID,\r\n",
                "       SZALLAS_NEV,\r\n",
                "       LAG(SZALLAS_NEV) OVER(ORDER BY CSILLAGOK_SZAMA DESC, SZALLAS_NEV ) ,\r\n",
                "       LAG(SZALLAS_ID) OVER(ORDER BY CSILLAGOK_SZAMA DESC, SZALLAS_NEV ) \r\n",
                "FROM Szallashely\r\n",
                "ORDER BY CSILLAGOK_SZAMA DESC, SZALLAS_NEV"
            ],
            "metadata": {
                "azdata_cell_guid": "06d9a62b-9430-424b-a135-d80e675f0eb3",
                "language": "sql"
            },
            "outputs": [
                {
                    "output_type": "display_data",
                    "data": {
                        "text/html": "(21 rows affected)"
                    },
                    "metadata": {}
                },
                {
                    "output_type": "display_data",
                    "data": {
                        "text/html": "Total execution time: 00:00:00.005"
                    },
                    "metadata": {}
                },
                {
                    "output_type": "execute_result",
                    "execution_count": 14,
                    "data": {
                        "application/vnd.dataresource+json": {
                            "schema": {
                                "fields": [
                                    {
                                        "name": "SZALLAS_ID"
                                    },
                                    {
                                        "name": "SZALLAS_NEV"
                                    },
                                    {
                                        "name": "(No column name)"
                                    },
                                    {
                                        "name": "(No column name)"
                                    }
                                ]
                            },
                            "data": [
                                {
                                    "SZALLAS_ID": "8",
                                    "SZALLAS_NEV": "Hotel Három Hattyú",
                                    "(No column name)": "NULL"
                                },
                                {
                                    "SZALLAS_ID": "10",
                                    "SZALLAS_NEV": "Lagúna Hotel",
                                    "(No column name)": "8"
                                },
                                {
                                    "SZALLAS_ID": "17",
                                    "SZALLAS_NEV": "Szarvas Hotel",
                                    "(No column name)": "10"
                                },
                                {
                                    "SZALLAS_ID": "16",
                                    "SZALLAS_NEV": "Bagoly Hotel",
                                    "(No column name)": "17"
                                },
                                {
                                    "SZALLAS_ID": "4",
                                    "SZALLAS_NEV": "Fortuna panzió",
                                    "(No column name)": "16"
                                },
                                {
                                    "SZALLAS_ID": "5",
                                    "SZALLAS_NEV": "Fortuna Panzió",
                                    "(No column name)": "4"
                                },
                                {
                                    "SZALLAS_ID": "12",
                                    "SZALLAS_NEV": "Gold Hotel",
                                    "(No column name)": "5"
                                },
                                {
                                    "SZALLAS_ID": "9",
                                    "SZALLAS_NEV": "Jáde panzió",
                                    "(No column name)": "12"
                                },
                                {
                                    "SZALLAS_ID": "6",
                                    "SZALLAS_NEV": "Kentaur Hotel",
                                    "(No column name)": "9"
                                },
                                {
                                    "SZALLAS_ID": "13",
                                    "SZALLAS_NEV": "Riviéra Panzió",
                                    "(No column name)": "6"
                                },
                                {
                                    "SZALLAS_ID": "15",
                                    "SZALLAS_NEV": "Tímárház Panzió",
                                    "(No column name)": "13"
                                },
                                {
                                    "SZALLAS_ID": "2",
                                    "SZALLAS_NEV": "Családi Ház",
                                    "(No column name)": "15"
                                },
                                {
                                    "SZALLAS_ID": "3",
                                    "SZALLAS_NEV": "Fortuna Apartman",
                                    "(No column name)": "2"
                                },
                                {
                                    "SZALLAS_ID": "18",
                                    "SZALLAS_NEV": "Fortuna Apartman",
                                    "(No column name)": "3"
                                },
                                {
                                    "SZALLAS_ID": "20",
                                    "SZALLAS_NEV": "Kollégium",
                                    "(No column name)": "18"
                                },
                                {
                                    "SZALLAS_ID": "21",
                                    "SZALLAS_NEV": "Müller Vendégház",
                                    "(No column name)": "20"
                                },
                                {
                                    "SZALLAS_ID": "19",
                                    "SZALLAS_NEV": "Nyárfás Vendégház",
                                    "(No column name)": "21"
                                },
                                {
                                    "SZALLAS_ID": "14",
                                    "SZALLAS_NEV": "Nyárfás Vendégház",
                                    "(No column name)": "19"
                                },
                                {
                                    "SZALLAS_ID": "11",
                                    "SZALLAS_NEV": "Partiszél Vendégház",
                                    "(No column name)": "14"
                                },
                                {
                                    "SZALLAS_ID": "1",
                                    "SZALLAS_NEV": "Sába-Ház",
                                    "(No column name)": "11"
                                },
                                {
                                    "SZALLAS_ID": "7",
                                    "SZALLAS_NEV": "Szieszta Apartmanház",
                                    "(No column name)": "1"
                                }
                            ]
                        },
                        "text/html": "<table><tr><th>SZALLAS_ID</th><th>SZALLAS_NEV</th><th>(No column name)</th><th>(No column name)</th></tr><tr><td>8</td><td>Hotel Három Hattyú</td><td>NULL</td><td>NULL</td></tr><tr><td>10</td><td>Lagúna Hotel</td><td>Hotel Három Hattyú</td><td>8</td></tr><tr><td>17</td><td>Szarvas Hotel</td><td>Lagúna Hotel</td><td>10</td></tr><tr><td>16</td><td>Bagoly Hotel</td><td>Szarvas Hotel</td><td>17</td></tr><tr><td>4</td><td>Fortuna panzió</td><td>Bagoly Hotel</td><td>16</td></tr><tr><td>5</td><td>Fortuna Panzió</td><td>Fortuna panzió</td><td>4</td></tr><tr><td>12</td><td>Gold Hotel</td><td>Fortuna Panzió</td><td>5</td></tr><tr><td>9</td><td>Jáde panzió</td><td>Gold Hotel</td><td>12</td></tr><tr><td>6</td><td>Kentaur Hotel</td><td>Jáde panzió</td><td>9</td></tr><tr><td>13</td><td>Riviéra Panzió</td><td>Kentaur Hotel</td><td>6</td></tr><tr><td>15</td><td>Tímárház Panzió</td><td>Riviéra Panzió</td><td>13</td></tr><tr><td>2</td><td>Családi Ház</td><td>Tímárház Panzió</td><td>15</td></tr><tr><td>3</td><td>Fortuna Apartman</td><td>Családi Ház</td><td>2</td></tr><tr><td>18</td><td>Fortuna Apartman</td><td>Fortuna Apartman</td><td>3</td></tr><tr><td>20</td><td>Kollégium</td><td>Fortuna Apartman</td><td>18</td></tr><tr><td>21</td><td>Müller Vendégház</td><td>Kollégium</td><td>20</td></tr><tr><td>19</td><td>Nyárfás Vendégház</td><td>Müller Vendégház</td><td>21</td></tr><tr><td>14</td><td>Nyárfás Vendégház</td><td>Nyárfás Vendégház</td><td>19</td></tr><tr><td>11</td><td>Partiszél Vendégház</td><td>Nyárfás Vendégház</td><td>14</td></tr><tr><td>1</td><td>Sába-Ház</td><td>Partiszél Vendégház</td><td>11</td></tr><tr><td>7</td><td>Szieszta Apartmanház</td><td>Sába-Ház</td><td>1</td></tr></table>"
                    },
                    "metadata": {}
                }
            ],
            "execution_count": 14
        },
        {
            "cell_type": "markdown",
            "source": [
                "6. <span style=\"background-color: rgb(255, 255, 255); color: rgb(0, 0, 0); font-family: &quot;Open Sans&quot;, sans-serif; font-size: 14.44px;\">Listázzuk azon termékeket, amelyekből az átlagosnál kevesebb van raktáron!&nbsp;</span> \n",
                "\n",
                "a. Csak a termék kódja és megnevezése jelenjen meg!"
            ],
            "metadata": {
                "azdata_cell_guid": "b0d15045-3c43-4f3a-b8d4-76b4f24e5546"
            },
            "attachments": {}
        },
        {
            "cell_type": "code",
            "source": [
                "select termekkod, megnevezes \r\n",
                "from Termek\r\n",
                "where KESZLET < --átlagos készlet\r\n",
                "(\r\n",
                "    SELECT AVG(keszlet)\r\n",
                "    FROM Termek\r\n",
                ")"
            ],
            "metadata": {
                "azdata_cell_guid": "f2b7400d-1255-40ac-9250-4d57f9da5357",
                "language": "sql"
            },
            "outputs": [],
            "execution_count": null
        },
        {
            "cell_type": "markdown",
            "source": [
                "7. <span style=\"background-color: rgb(255, 255, 255); color: rgb(0, 0, 0); font-family: &quot;Open Sans&quot;, sans-serif; font-size: 14.44px;\">Listázzuk azon ügyfeleket, akik még nem fizettek bankkártyával!&nbsp;</span> \n",
                "\n",
                "a. Csak az ügyfelek neve jelenjen meg!"
            ],
            "metadata": {
                "azdata_cell_guid": "7ebf7ddd-1bd2-4246-815a-be8ae37e3b5b"
            },
            "attachments": {}
        },
        {
            "cell_type": "code",
            "source": [
                "select nev \r\n",
                "from Ugyfel\r\n",
                "where [LOGIN] NOT IN \r\n",
                "(\r\n",
                "    --bankkártyával fizető ügyfelek loginja\r\n",
                "    select [LOGIN] --nem lehet null\r\n",
                "    from Rendeles\r\n",
                "    where FIZ_MOD='bankkártya'\r\n",
                ")"
            ],
            "metadata": {
                "azdata_cell_guid": "84b7e896-f36e-4985-88f5-e0f706494fef",
                "language": "sql"
            },
            "outputs": [
                {
                    "output_type": "display_data",
                    "data": {
                        "text/html": "(9 rows affected)"
                    },
                    "metadata": {}
                },
                {
                    "output_type": "display_data",
                    "data": {
                        "text/html": "Total execution time: 00:00:00.054"
                    },
                    "metadata": {}
                },
                {
                    "output_type": "execute_result",
                    "execution_count": 18,
                    "data": {
                        "application/vnd.dataresource+json": {
                            "schema": {
                                "fields": [
                                    {
                                        "name": "nev"
                                    }
                                ]
                            },
                            "data": [
                                {
                                    "nev": "Biró Alexander"
                                },
                                {
                                    "nev": "Csóti Attila"
                                },
                                {
                                    "nev": "Bagi Beáta"
                                },
                                {
                                    "nev": "Mór Ottó"
                                },
                                {
                                    "nev": "Molnár Eszter"
                                },
                                {
                                    "nev": "Kiss Anita"
                                },
                                {
                                    "nev": "Kispál Márk"
                                },
                                {
                                    "nev": "Nagy Péter"
                                },
                                {
                                    "nev": "Szűcs Norbert"
                                }
                            ]
                        },
                        "text/html": "<table><tr><th>nev</th></tr><tr><td>Biró Alexander</td></tr><tr><td>Csóti Attila</td></tr><tr><td>Bagi Beáta</td></tr><tr><td>Mór Ottó</td></tr><tr><td>Molnár Eszter</td></tr><tr><td>Kiss Anita</td></tr><tr><td>Kispál Márk</td></tr><tr><td>Nagy Péter</td></tr><tr><td>Szűcs Norbert</td></tr></table>"
                    },
                    "metadata": {}
                }
            ],
            "execution_count": 18
        },
        {
            "cell_type": "markdown",
            "source": [
                "8. <span style=\"background-color: rgb(255, 255, 255); color: rgb(0, 0, 0); font-family: &quot;Open Sans&quot;, sans-serif; font-size: 14.44px;\">Mennyibe kerül a második legnagyobb listaárú termék?</span>"
            ],
            "metadata": {
                "azdata_cell_guid": "27a3d3dc-eafb-4a5e-b103-9f465b9eda8f"
            },
            "attachments": {}
        },
        {
            "cell_type": "code",
            "source": [
                ""
            ],
            "metadata": {
                "azdata_cell_guid": "f09edb3f-649b-4a96-958e-9e12774ae8b7",
                "language": "sql"
            },
            "outputs": [],
            "execution_count": null
        },
        {
            "cell_type": "markdown",
            "source": [
                "9. <span style=\"background-color: rgb(255, 255, 255); color: rgb(0, 0, 0); font-family: &quot;Open Sans&quot;, sans-serif; font-size: 14.44px;\">Melyik raktár(ak)ban van az a termék, amelyből a legnagyobb készlet van?&nbsp;</span> \n",
                "\n",
                "a. Csak a raktár(ak) neve jelenjen meg!"
            ],
            "metadata": {
                "azdata_cell_guid": "f12a331a-0e26-4d3d-9c68-812316286577"
            },
            "attachments": {}
        },
        {
            "cell_type": "code",
            "source": [
                ""
            ],
            "metadata": {
                "azdata_cell_guid": "10a77fc9-e61a-46fc-a401-59720d82bc50",
                "language": "sql"
            },
            "outputs": [],
            "execution_count": null
        },
        {
            "cell_type": "markdown",
            "source": [
                "10. <span style=\"background-color: rgb(255, 255, 255); color: rgb(0, 0, 0); font-family: &quot;Open Sans&quot;, sans-serif; font-size: 14.44px;\">Melyek azok a termékek, amelyek listaára nagyobb, mint bármelyik olyan terméké, amelynek nevében az Ajándék szó szerepel?&nbsp;</span> \n",
                "\n",
                "a. A termékek kódját és nevét is jelenítsük meg!"
            ],
            "metadata": {
                "azdata_cell_guid": "9229e2b6-e200-4499-b95b-2d0222149831"
            },
            "attachments": {}
        },
        {
            "cell_type": "code",
            "source": [
                ""
            ],
            "metadata": {
                "azdata_cell_guid": "8b49ed67-28c6-4880-82a8-cd369e5bba99",
                "language": "sql"
            },
            "outputs": [],
            "execution_count": null
        },
        {
            "cell_type": "markdown",
            "source": [
                "11. <span style=\"background-color: rgb(255, 255, 255); color: rgb(0, 0, 0); font-family: &quot;Open Sans&quot;, sans-serif; font-size: 14.44px;\">Melyik hónapokban adtak le az ügyfelek több rendelést, mint januárban?&nbsp;</span> \n",
                "\n",
                "a. Elég a hónapok sorszámait megjeleníteni. \n",
                "\n",
                "b. A listát rendezzük a hónapok száma szerint növekvő sorrendbe!"
            ],
            "metadata": {
                "azdata_cell_guid": "7f5fc7a7-3b6a-4d89-b292-490830afb0c6"
            },
            "attachments": {}
        },
        {
            "cell_type": "code",
            "source": [
                ""
            ],
            "metadata": {
                "azdata_cell_guid": "4a9ece40-f782-4c0d-92cd-9c21969067ed",
                "language": "sql"
            },
            "outputs": [],
            "execution_count": null
        },
        {
            "cell_type": "markdown",
            "source": [
                "12. <span style=\"background-color: rgb(255, 255, 255); color: rgb(0, 0, 0); font-family: &quot;Open Sans&quot;, sans-serif; font-size: 14.44px;\">Melyek azok a termékek, amelyek listaára az átlagostól max. 20%-kal tér el?&nbsp;</span> \n",
                "\n",
                "a. A termék kódját és nevét is jelenítsük meg!"
            ],
            "metadata": {
                "azdata_cell_guid": "5a483c52-bb98-44bb-bd03-1146d4b0abfa"
            },
            "attachments": {}
        },
        {
            "cell_type": "code",
            "source": [
                ""
            ],
            "metadata": {
                "azdata_cell_guid": "dd6e89bd-08f9-4b18-8460-03c45b503df0",
                "language": "sql"
            },
            "outputs": [],
            "execution_count": null
        },
        {
            "cell_type": "markdown",
            "source": [
                "13. <span style=\"background-color: rgb(255, 255, 255); color: rgb(0, 0, 0); font-family: &quot;Open Sans&quot;, sans-serif; font-size: 14.44px;\">Készítsünk listát (sorszámonként) az egyes rendelések teljes összegéről!&nbsp;</span> \n",
                "\n",
                "a. Szűrjünk azon tételekre, ahol ez az érték nagyobb, mint Viktor Éva rendeléseinek teljes összege! \n",
                "\n",
                "b. A teljes összeg oszlopot nevezzük el értelemszerűen!"
            ],
            "metadata": {
                "azdata_cell_guid": "85d5cb66-96c6-42de-99cf-85ab22d08548"
            },
            "attachments": {}
        },
        {
            "cell_type": "code",
            "source": [
                ""
            ],
            "metadata": {
                "azdata_cell_guid": "cb07d64b-0eaa-498b-b4d2-0b46971e95ce",
                "language": "sql"
            },
            "outputs": [],
            "execution_count": null
        },
        {
            "cell_type": "markdown",
            "source": [
                "14. <span style=\"background-color: rgb(255, 255, 255); color: rgb(0, 0, 0); font-family: &quot;Open Sans&quot;, sans-serif; font-size: 14.44px;\">Listázzuk azokat a termékkategóriákat, amelyből 2017 januárban nem történt rendelés!&nbsp;</span> \n",
                "\n",
                "a. Elég a kategóriák nevét megjeleníteni!"
            ],
            "metadata": {
                "azdata_cell_guid": "f95ad665-a807-4099-bf06-64ed974f866f"
            },
            "attachments": {}
        },
        {
            "cell_type": "code",
            "source": [
                "--not exists\r\n",
                "select tk.KAT_NEV\r\n",
                "from Termekkategoria tk \r\n",
                "where not exists\r\n",
                "(\r\n",
                "    --2017 januári rendelés ugyanebből a kategóriából\r\n",
                "    select *\r\n",
                "    FROM rendeles r join Rendeles_tetel rt on r.sorszam=rt.SORSZAM join termek t on rt.TERMEKKOD=t.TERMEKKOD\r\n",
                "    where YEAR(REND_DATUM)=2017 AND \r\n",
                "          MONTH(REND_DATUM)=1 AND \r\n",
                "          tk.KAT_ID=t.KAT_ID  --korrelalt allekerdezes, kulso es belso select ossze van kotve\r\n",
                ")"
            ],
            "metadata": {
                "azdata_cell_guid": "74c7ec8a-ae4a-4d03-b1c4-e8f6bb1be12c",
                "language": "sql"
            },
            "outputs": [
                {
                    "output_type": "display_data",
                    "data": {
                        "text/html": "(13 rows affected)"
                    },
                    "metadata": {}
                },
                {
                    "output_type": "display_data",
                    "data": {
                        "text/html": "Total execution time: 00:00:00.049"
                    },
                    "metadata": {}
                },
                {
                    "output_type": "execute_result",
                    "execution_count": 19,
                    "data": {
                        "application/vnd.dataresource+json": {
                            "schema": {
                                "fields": [
                                    {
                                        "name": "KAT_NEV"
                                    }
                                ]
                            },
                            "data": [
                                {
                                    "KAT_NEV": "papír írószer"
                                },
                                {
                                    "KAT_NEV": "ruha"
                                },
                                {
                                    "KAT_NEV": "cipő"
                                },
                                {
                                    "KAT_NEV": "csomagoló anyag"
                                },
                                {
                                    "KAT_NEV": "háztartási papír"
                                },
                                {
                                    "KAT_NEV": "indigó"
                                },
                                {
                                    "KAT_NEV": "ing"
                                },
                                {
                                    "KAT_NEV": "írószer"
                                },
                                {
                                    "KAT_NEV": "kabát"
                                },
                                {
                                    "KAT_NEV": "kiegészítő"
                                },
                                {
                                    "KAT_NEV": "nadrág"
                                },
                                {
                                    "KAT_NEV": "papír"
                                },
                                {
                                    "KAT_NEV": "póló"
                                }
                            ]
                        },
                        "text/html": "<table><tr><th>KAT_NEV</th></tr><tr><td>papír írószer</td></tr><tr><td>ruha</td></tr><tr><td>cipő</td></tr><tr><td>csomagoló anyag</td></tr><tr><td>háztartási papír</td></tr><tr><td>indigó</td></tr><tr><td>ing</td></tr><tr><td>írószer</td></tr><tr><td>kabát</td></tr><tr><td>kiegészítő</td></tr><tr><td>nadrág</td></tr><tr><td>papír</td></tr><tr><td>póló</td></tr></table>"
                    },
                    "metadata": {}
                }
            ],
            "execution_count": 19
        },
        {
            "cell_type": "markdown",
            "source": [
                "15. <span style=\"background-color: rgb(255, 255, 255); color: rgb(0, 0, 0); font-family: &quot;Open Sans&quot;, sans-serif; font-size: 14.44px;\">Listázzuk azon rendelési tételeket, amelynek értéke nagyobb, mint a legdrágább termék listaára azon termékek közül, amelyek szülő kategóriája a ruha!</span>"
            ],
            "metadata": {
                "azdata_cell_guid": "93552388-ffec-49ff-99e5-ae8dc8072601"
            },
            "attachments": {}
        },
        {
            "cell_type": "code",
            "source": [
                ""
            ],
            "metadata": {
                "azdata_cell_guid": "0e7f547f-7d96-4611-b1c2-0fa84a581e79",
                "language": "sql"
            },
            "outputs": [],
            "execution_count": null
        },
        {
            "cell_type": "markdown",
            "source": [
                "ZH GYAKORLÁS"
            ],
            "metadata": {
                "azdata_cell_guid": "ef913b8c-cba3-4d77-8a6b-8861c4b22be0"
            },
            "attachments": {}
        },
        {
            "cell_type": "code",
            "source": [
                "--2. feladat\r\n",
                "SELECT *,\r\n",
                "        DATEDIFF(YEAR, szul_dat, GETDATE())- IIF(DATEADD(YEAR,DATEDIFF(YEAR, SZUL_DAT,GETDATE()), SZUL_DAT)>GETDATE(),1,0),  --zhba eleg a datediff\r\n",
                "        AVG(DATEDIFF(YEAR, szul_dat, GETDATE())- IIF(DATEADD(YEAR,DATEDIFF(YEAR, SZUL_DAT,GETDATE()), SZUL_DAT)>GETDATE(),1,0)) OVER(                  \r\n",
                "                    ORDER BY SZUL_DAT \r\n",
                "                    ROWS BETWEEN 2 PRECEDING AND 2 FOLLOWING)\r\n",
                "FROM Vendeg\r\n",
                "ORDER BY SZUL_DAT desc"
            ],
            "metadata": {
                "azdata_cell_guid": "6f1c0467-6317-4049-bca2-a15b76ececc2",
                "language": "sql"
            },
            "outputs": [
                {
                    "output_type": "display_data",
                    "data": {
                        "text/html": "(196 rows affected)"
                    },
                    "metadata": {}
                },
                {
                    "output_type": "display_data",
                    "data": {
                        "text/html": "Total execution time: 00:00:00.016"
                    },
                    "metadata": {}
                },
                {
                    "output_type": "execute_result",
                    "execution_count": 31,
                    "data": {
                        "application/vnd.dataresource+json": {
                            "schema": {
                                "fields": [
                                    {
                                        "name": "USERNEV"
                                    },
                                    {
                                        "name": "NEV"
                                    },
                                    {
                                        "name": "EMAIL"
                                    },
                                    {
                                        "name": "SZAML_CIM"
                                    },
                                    {
                                        "name": "SZUL_DAT"
                                    },
                                    {
                                        "name": "(No column name)"
                                    },
                                    {
                                        "name": "(No column name)"
                                    }
                                ]
                            },
                            "data": [
                                {
                                    "USERNEV": "eszter2",
                                    "NEV": "Balogh Eszter",
                                    "EMAIL": "eszter.balogh@mail.hu",
                                    "SZAML_CIM": "6760 Kistelek Kossuth utca 11.",
                                    "SZUL_DAT": "1998-01-31",
                                    "(No column name)": "27"
                                },
                                {
                                    "USERNEV": "istvan1",
                                    "NEV": "Vizi István",
                                    "EMAIL": "istván.vizi@mail.hu",
                                    "SZAML_CIM": "7086 Ozora Rákóczi utca 1.",
                                    "SZUL_DAT": "1997-12-01",
                                    "(No column name)": "27"
                                },
                                {
                                    "USERNEV": "TAMASF",
                                    "NEV": "Fényes Tamás",
                                    "EMAIL": "TAMASF@gmail.com",
                                    "SZAML_CIM": "9023 Győr Arany János utca 1.",
                                    "SZUL_DAT": "1997-11-06",
                                    "(No column name)": "27"
                                },
                                {
                                    "USERNEV": "andras2",
                                    "NEV": "Tóth András",
                                    "EMAIL": "andrás.tóth@mail.hu",
                                    "SZAML_CIM": "4071 Egyek Petőfi utca 30.",
                                    "SZUL_DAT": "1997-10-31",
                                    "(No column name)": "27"
                                },
                                {
                                    "USERNEV": "andras41",
                                    "NEV": "Komjáti András",
                                    "EMAIL": "andras41@gmail.com",
                                    "SZAML_CIM": "5065 Nagykörű Kossuth út 24.",
                                    "SZUL_DAT": "1997-10-25",
                                    "(No column name)": "27"
                                },
                                {
                                    "USERNEV": "NIKOLETTAT",
                                    "NEV": "Tatár Nikoletta",
                                    "EMAIL": "nikoletta.tatár@mail.hu",
                                    "SZAML_CIM": "1067 Budapest Győri utca 12.",
                                    "SZUL_DAT": "1997-10-19",
                                    "(No column name)": "27"
                                },
                                {
                                    "USERNEV": "MARKH",
                                    "NEV": "Horváth Márk",
                                    "EMAIL": "márk.horváth@mail.hu",
                                    "SZAML_CIM": "4400 Nyíregyháza Badacsonyi utca 12.",
                                    "SZUL_DAT": "1997-09-23",
                                    "(No column name)": "27"
                                },
                                {
                                    "USERNEV": "balint2",
                                    "NEV": "Vukasinovity Bálint",
                                    "EMAIL": "balint2@gmail.com",
                                    "SZAML_CIM": "2330 Dunaharaszti Béke utca 7.",
                                    "SZUL_DAT": "1997-09-03",
                                    "(No column name)": "27"
                                },
                                {
                                    "USERNEV": "JUDITH",
                                    "NEV": "Hídasi Judit",
                                    "EMAIL": "JUDITH@gmail.com",
                                    "SZAML_CIM": "2100 Gödöllő Fő út 169.",
                                    "SZUL_DAT": "1997-07-12",
                                    "(No column name)": "27"
                                },
                                {
                                    "USERNEV": "sandor4",
                                    "NEV": "Nagy Sándor",
                                    "EMAIL": "sandor4@gmail.com",
                                    "SZAML_CIM": "4600 Kisvárda Fő utca 47.",
                                    "SZUL_DAT": "1997-06-11",
                                    "(No column name)": "27"
                                },
                                {
                                    "USERNEV": "ANDRASE",
                                    "NEV": "Erdei András",
                                    "EMAIL": "ANDRASE@gmail.com",
                                    "SZAML_CIM": "5071 Besenyszög Szolnoki út 8.",
                                    "SZUL_DAT": "1997-05-29",
                                    "(No column name)": "27"
                                },
                                {
                                    "USERNEV": "MATEK",
                                    "NEV": "Koza Máté",
                                    "EMAIL": "máté.koza@mail.hu",
                                    "SZAML_CIM": "1011 Budapest Központi telep 3.",
                                    "SZUL_DAT": "1997-02-28",
                                    "(No column name)": "27"
                                },
                                {
                                    "USERNEV": "lala",
                                    "NEV": "Nagymihály Lajos",
                                    "EMAIL": "lajos.nagymihály@mail.hu",
                                    "SZAML_CIM": "8638 Balatonlelle Rákóczi út 200.",
                                    "SZUL_DAT": "1997-02-24",
                                    "(No column name)": "27"
                                },
                                {
                                    "USERNEV": "bernadett2",
                                    "NEV": "Kovács Bernadett",
                                    "EMAIL": "bernadett.kovács@mail.hu",
                                    "SZAML_CIM": "4200 Hajdúszoboszló Fő út 122.",
                                    "SZUL_DAT": "1996-08-20",
                                    "(No column name)": "28"
                                },
                                {
                                    "USERNEV": "fruzsina4",
                                    "NEV": "Frank Fruzsina",
                                    "EMAIL": "fruzsina4@gmail.com",
                                    "SZAML_CIM": "9700 Szombathely Szabadság utca 95.",
                                    "SZUL_DAT": "1996-08-16",
                                    "(No column name)": "28"
                                },
                                {
                                    "USERNEV": "andrea3",
                                    "NEV": "Szomor Andrea",
                                    "EMAIL": "andrea3@gmail.com",
                                    "SZAML_CIM": "7960 Sellye Bécsi utca 82.",
                                    "SZUL_DAT": "1996-05-10",
                                    "(No column name)": "28"
                                },
                                {
                                    "USERNEV": "VIKTORIAU",
                                    "NEV": "Urbán Viktoria",
                                    "EMAIL": "viktoria.urbán@mail.hu",
                                    "SZAML_CIM": "3860 Encs Népboltsor  2.",
                                    "SZUL_DAT": "1996-05-03",
                                    "(No column name)": "28"
                                },
                                {
                                    "USERNEV": "balint",
                                    "NEV": "Horváth Bálint",
                                    "EMAIL": "balint@gmail.com",
                                    "SZAML_CIM": "6646 Tömörkény Endrődi Sándor utca 47.",
                                    "SZUL_DAT": "1996-03-17",
                                    "(No column name)": "28"
                                },
                                {
                                    "USERNEV": "mark",
                                    "NEV": "Kispál Márk",
                                    "EMAIL": "márk.kispál@mail.hu",
                                    "SZAML_CIM": "1086 Budapest Juhászföldi út 1.",
                                    "SZUL_DAT": "1996-01-23",
                                    "(No column name)": "28"
                                },
                                {
                                    "USERNEV": "timea",
                                    "NEV": "Papós Tímea",
                                    "EMAIL": "timea@gmail.com",
                                    "SZAML_CIM": "1035 Budapest  Kossuth út 77.",
                                    "SZUL_DAT": "1996-01-08",
                                    "(No column name)": "29"
                                },
                                {
                                    "USERNEV": "maria1",
                                    "NEV": "Baráth Mária",
                                    "EMAIL": "mária.baráth@mail.hu",
                                    "SZAML_CIM": "1047 Budapest Posta köz 2.",
                                    "SZUL_DAT": "1995-11-19",
                                    "(No column name)": "29"
                                },
                                {
                                    "USERNEV": "miklos2",
                                    "NEV": "Gondos Miklós",
                                    "EMAIL": "miklos2@gmail.com",
                                    "SZAML_CIM": "2100 Gödöllő Árpád utca 23.",
                                    "SZUL_DAT": "1995-10-07",
                                    "(No column name)": "29"
                                },
                                {
                                    "USERNEV": "dora3",
                                    "NEV": "Sarodi Dóra",
                                    "EMAIL": "dóra.sarodi@mail.hu",
                                    "SZAML_CIM": "2855 Bokod Fő út 18.",
                                    "SZUL_DAT": "1995-05-18",
                                    "(No column name)": "29"
                                },
                                {
                                    "USERNEV": "ATTILAO",
                                    "NEV": "Opra Attila",
                                    "EMAIL": "ATTILAO@gmail.com",
                                    "SZAML_CIM": "8283 Káptalantóti Rákóczi út 200.",
                                    "SZUL_DAT": "1995-05-08",
                                    "(No column name)": "29"
                                },
                                {
                                    "USERNEV": "kati",
                                    "NEV": "Zatykó Katalin",
                                    "EMAIL": "katalin.zatykó@mail.hu",
                                    "SZAML_CIM": "7511 Ötvöskónyi Kossuth Lajos utca 6.",
                                    "SZUL_DAT": "1995-05-01",
                                    "(No column name)": "29"
                                },
                                {
                                    "USERNEV": "BELAF",
                                    "NEV": "Farkas Béla",
                                    "EMAIL": "BELAF@gmail.com",
                                    "SZAML_CIM": "5530 Vésztő Petőfi Sándor utca 3.",
                                    "SZUL_DAT": "1995-02-24",
                                    "(No column name)": "29"
                                },
                                {
                                    "USERNEV": "zsuzsanna",
                                    "NEV": "Barta Zsuzsanna",
                                    "EMAIL": "zsuzsanna.barta@mail.hu",
                                    "SZAML_CIM": "4172 Biharnagybajom Dózsa György utca 37.",
                                    "SZUL_DAT": "1994-10-07",
                                    "(No column name)": "30"
                                },
                                {
                                    "USERNEV": "beata4",
                                    "NEV": "Bagi Beáta",
                                    "EMAIL": "beáta.bagi@mail.hu",
                                    "SZAML_CIM": "8477 Tüskevár Felszabadulás utca 32.",
                                    "SZUL_DAT": "1994-03-19",
                                    "(No column name)": "30"
                                },
                                {
                                    "USERNEV": "polla",
                                    "NEV": "Palágyi Polla",
                                    "EMAIL": "polla@gmail.com",
                                    "SZAML_CIM": "2484 Agárd Fő út 18.",
                                    "SZUL_DAT": "1994-02-04",
                                    "(No column name)": "30"
                                },
                                {
                                    "USERNEV": "tibor",
                                    "NEV": "Gombos Tibor",
                                    "EMAIL": "tibor.gombos@mail.hu",
                                    "SZAML_CIM": "7100 Szekszárd Kossuth utca 77.",
                                    "SZUL_DAT": "1993-11-28",
                                    "(No column name)": "31"
                                },
                                {
                                    "USERNEV": "rajmond4",
                                    "NEV": "Rácz Rajmond",
                                    "EMAIL": "rajmond.rácz@mail.hu",
                                    "SZAML_CIM": "9155 Lébény Petőfi utca 1/2.",
                                    "SZUL_DAT": "1993-09-25",
                                    "(No column name)": "31"
                                },
                                {
                                    "USERNEV": "eszter4",
                                    "NEV": "Fülöp Eszter",
                                    "EMAIL": "eszter.fülöp@mail.hu",
                                    "SZAML_CIM": "3643 Dédestapolcsány Kossuth Lajos utca 47/b.",
                                    "SZUL_DAT": "1993-06-28",
                                    "(No column name)": "31"
                                },
                                {
                                    "USERNEV": "andrea",
                                    "NEV": "Kiss Andrea",
                                    "EMAIL": "andrea.kiss@mail.hu",
                                    "SZAML_CIM": "1113 Budapest Petőfi Sándor utca 87.",
                                    "SZUL_DAT": "1993-03-25",
                                    "(No column name)": "31"
                                },
                                {
                                    "USERNEV": "julia",
                                    "NEV": "Tóth Júlia",
                                    "EMAIL": "julia@gmail.com",
                                    "SZAML_CIM": "5310 Kisújszállás Árpád utca 4.",
                                    "SZUL_DAT": "1993-03-02",
                                    "(No column name)": "31"
                                },
                                {
                                    "USERNEV": "balazs1",
                                    "NEV": "Bozsik Balázs",
                                    "EMAIL": "balázs.bozsik@mail.hu",
                                    "SZAML_CIM": "2300 Ráckeve Bécsi utca 82.",
                                    "SZUL_DAT": "1992-11-03",
                                    "(No column name)": "32"
                                },
                                {
                                    "USERNEV": "SEBASTIANF",
                                    "NEV": "Foltényi Sebastián",
                                    "EMAIL": "SEBASTIANF@gmail.com",
                                    "SZAML_CIM": "7960 Sellye Grassalkovich út 10.",
                                    "SZUL_DAT": "1992-09-09",
                                    "(No column name)": "32"
                                },
                                {
                                    "USERNEV": "alexandra",
                                    "NEV": "Bagóczki Alexandra",
                                    "EMAIL": "alexandra.bagóczki@mail.hu",
                                    "SZAML_CIM": "2381 Táborfalva Petőfi utca 1/2.",
                                    "SZUL_DAT": "1992-03-25",
                                    "(No column name)": "32"
                                },
                                {
                                    "USERNEV": "sebestyen",
                                    "NEV": "Rab Sebestyén",
                                    "EMAIL": "sebestyen@gmail.com",
                                    "SZAML_CIM": "7130 Tolna Központi telep 3.",
                                    "SZUL_DAT": "1992-03-03",
                                    "(No column name)": "32"
                                },
                                {
                                    "USERNEV": "adam1",
                                    "NEV": "Kiss Ádám",
                                    "EMAIL": "ádám.kiss@mail.hu",
                                    "SZAML_CIM": "5630 Békés Szolnoki út 8.",
                                    "SZUL_DAT": "1991-12-28",
                                    "(No column name)": "33"
                                },
                                {
                                    "USERNEV": "norbert2",
                                    "NEV": "Hegedűs Norbert",
                                    "EMAIL": "norbert.hegedűs@mail.hu",
                                    "SZAML_CIM": "2081 Piliscsaba Rendeki utca 21.",
                                    "SZUL_DAT": "1991-07-17",
                                    "(No column name)": "33"
                                },
                                {
                                    "USERNEV": "tihamer",
                                    "NEV": "Kazy Tihamér",
                                    "EMAIL": "tihamér.kazy@mail.hu",
                                    "SZAML_CIM": "2370 Dabas Fő utca 60.",
                                    "SZUL_DAT": "1991-07-05",
                                    "(No column name)": "33"
                                },
                                {
                                    "USERNEV": "vivien3",
                                    "NEV": "Boros Vivien",
                                    "EMAIL": "vivien3@gmail.com",
                                    "SZAML_CIM": "2117 Isaszeg Fő út 122.",
                                    "SZUL_DAT": "1991-07-01",
                                    "(No column name)": "33"
                                },
                                {
                                    "USERNEV": "brigitta3",
                                    "NEV": "Pataki Brigitta",
                                    "EMAIL": "brigitta.pataki@mail.hu",
                                    "SZAML_CIM": "2730 Albertirsa Rendeki utca 21.",
                                    "SZUL_DAT": "1991-05-23",
                                    "(No column name)": "33"
                                },
                                {
                                    "USERNEV": "RENATAS",
                                    "NEV": "Szirmai Renáta",
                                    "EMAIL": "RENATAS@gmail.com",
                                    "SZAML_CIM": "2053 Herceghalom Kossuth utca 27.",
                                    "SZUL_DAT": "1991-03-26",
                                    "(No column name)": "33"
                                },
                                {
                                    "USERNEV": "david4",
                                    "NEV": "Berta Dávid",
                                    "EMAIL": "david4@gmail.com",
                                    "SZAML_CIM": "3500 Miskolc Balatoni út 12.",
                                    "SZUL_DAT": "1990-10-08",
                                    "(No column name)": "33"
                                },
                                {
                                    "USERNEV": "julianna4",
                                    "NEV": "Szabó Julianna",
                                    "EMAIL": "julianna4@gmail.com",
                                    "SZAML_CIM": "6700 Szeged Kossuth Lajos utca 6.",
                                    "SZUL_DAT": "1990-09-29",
                                    "(No column name)": "34"
                                },
                                {
                                    "USERNEV": "ilona3",
                                    "NEV": "Bosnyák Ilona",
                                    "EMAIL": "ilona3@gmail.com",
                                    "SZAML_CIM": "2483 Gárdony Posta köz 2.",
                                    "SZUL_DAT": "1990-08-06",
                                    "(No column name)": "34"
                                },
                                {
                                    "USERNEV": "szabolcs",
                                    "NEV": "Bodor Szabolcs",
                                    "EMAIL": "szabolcs.bodor@mail.hu",
                                    "SZAML_CIM": "6786 Ruzsa Ady Endre út 27.",
                                    "SZUL_DAT": "1990-07-16",
                                    "(No column name)": "34"
                                },
                                {
                                    "USERNEV": "arpad2",
                                    "NEV": "Ötvös Árpád",
                                    "EMAIL": "árpád.ötvös@mail.hu",
                                    "SZAML_CIM": "2600 Vác Padragi út 158.",
                                    "SZUL_DAT": "1990-06-08",
                                    "(No column name)": "34"
                                },
                                {
                                    "USERNEV": "GABORS",
                                    "NEV": "Szöllősi Gábor",
                                    "EMAIL": "GABORS@gmail.com",
                                    "SZAML_CIM": "3630 Putnok Kossuth utca 27.",
                                    "SZUL_DAT": "1990-05-31",
                                    "(No column name)": "34"
                                },
                                {
                                    "USERNEV": "ARPADH",
                                    "NEV": "Horváth Árpád",
                                    "EMAIL": "árpád.horváth@mail.hu",
                                    "SZAML_CIM": "7349 Szászvár Dózsa György u. 1.",
                                    "SZUL_DAT": "1990-05-18",
                                    "(No column name)": "34"
                                },
                                {
                                    "USERNEV": "annamaria1",
                                    "NEV": "Szűcs Annamária",
                                    "EMAIL": "annamária.szűcs@mail.hu",
                                    "SZAML_CIM": "1191 Budapest Rendeki utca 21.",
                                    "SZUL_DAT": "1990-04-27",
                                    "(No column name)": "34"
                                },
                                {
                                    "USERNEV": "balint1",
                                    "NEV": "Molnár Bálint",
                                    "EMAIL": "balint1@gmail.com",
                                    "SZAML_CIM": "9181 Kimle Fő út 169.",
                                    "SZUL_DAT": "1989-08-24",
                                    "(No column name)": "34"
                                },
                                {
                                    "USERNEV": "ARONK",
                                    "NEV": "Kelemen Áron",
                                    "EMAIL": "áron.kelemen@mail.hu",
                                    "SZAML_CIM": "8200 Veszprém Petőfi utca 8.",
                                    "SZUL_DAT": "1989-08-10",
                                    "(No column name)": "35"
                                },
                                {
                                    "USERNEV": "emese",
                                    "NEV": "Kuruc Emese",
                                    "EMAIL": "emese.kuruc@mail.hu",
                                    "SZAML_CIM": "6700 Szeged Rákóczi utca 67.",
                                    "SZUL_DAT": "1989-08-10",
                                    "(No column name)": "34"
                                },
                                {
                                    "USERNEV": "marton",
                                    "NEV": "Kalacsi Márton",
                                    "EMAIL": "marton@gmail.com",
                                    "SZAML_CIM": "5137 Jászkisér Fő út 169.",
                                    "SZUL_DAT": "1989-06-24",
                                    "(No column name)": "35"
                                },
                                {
                                    "USERNEV": "VIKTORK",
                                    "NEV": "Keresztúri Viktor",
                                    "EMAIL": "viktor.keresztúri@mail.hu",
                                    "SZAML_CIM": "2532 Tokodaltáró Nagy Lajos tér 4.",
                                    "SZUL_DAT": "1989-05-05",
                                    "(No column name)": "35"
                                },
                                {
                                    "USERNEV": "ISTVANV",
                                    "NEV": "Varga István",
                                    "EMAIL": "ISTVANV@gmail.com",
                                    "SZAML_CIM": "6320 Solt Hősök tere 11.",
                                    "SZUL_DAT": "1989-04-09",
                                    "(No column name)": "35"
                                },
                                {
                                    "USERNEV": "sandor3",
                                    "NEV": "Farkas Sándor",
                                    "EMAIL": "sándor.farkas@mail.hu",
                                    "SZAML_CIM": "8640 Fonyód Tanácsköztársaság tér 1.",
                                    "SZUL_DAT": "1989-01-27",
                                    "(No column name)": "35"
                                },
                                {
                                    "USERNEV": "roza2",
                                    "NEV": "Bucskó Róza",
                                    "EMAIL": "roza2@gmail.com",
                                    "SZAML_CIM": "5661 Újkígyós Arany János utca 3.",
                                    "SZUL_DAT": "1988-12-26",
                                    "(No column name)": "35"
                                },
                                {
                                    "USERNEV": "ANIKOS",
                                    "NEV": "Simon Anikó",
                                    "EMAIL": "ANIKOS@gmail.com",
                                    "SZAML_CIM": "5137 Jászkisér Bécsi utca 82.",
                                    "SZUL_DAT": "1988-12-14",
                                    "(No column name)": "36"
                                },
                                {
                                    "USERNEV": "AGNESK",
                                    "NEV": "Kovács Ágnes",
                                    "EMAIL": "AGNESK@gmail.com",
                                    "SZAML_CIM": "1084 Budapest Endrődi Sándor utca 47.",
                                    "SZUL_DAT": "1988-10-02",
                                    "(No column name)": "36"
                                },
                                {
                                    "USERNEV": "imre",
                                    "NEV": "Búza Imre",
                                    "EMAIL": "imre.búza@mail.hu",
                                    "SZAML_CIM": "9181 Kimle Petőfi Sándor tér 1.",
                                    "SZUL_DAT": "1988-09-30",
                                    "(No column name)": "36"
                                },
                                {
                                    "USERNEV": "zsolt1",
                                    "NEV": "Pulai Zsolt",
                                    "EMAIL": "zsolt.pulai@mail.hu",
                                    "SZAML_CIM": "8391 Sármellék Fő utca 60.",
                                    "SZUL_DAT": "1988-05-27",
                                    "(No column name)": "36"
                                },
                                {
                                    "USERNEV": "RENATAK",
                                    "NEV": "Kardos Renáta",
                                    "EMAIL": "renáta.kardos@mail.hu",
                                    "SZAML_CIM": "7086 Ozora Bécsi utca 82.",
                                    "SZUL_DAT": "1988-05-17",
                                    "(No column name)": "36"
                                },
                                {
                                    "USERNEV": "BERNADETTO",
                                    "NEV": "Orbán Bernadett",
                                    "EMAIL": "bernadett.orbán@mail.hu",
                                    "SZAML_CIM": "5085 Rákóczifalva Arany János utca 1.",
                                    "SZUL_DAT": "1987-12-07",
                                    "(No column name)": "36"
                                },
                                {
                                    "USERNEV": "KRISZTINAG",
                                    "NEV": "Gyárfás Krisztina",
                                    "EMAIL": "KRISZTINAG@gmail.com",
                                    "SZAML_CIM": "6762 Sándorfalva Arany János utca 1.",
                                    "SZUL_DAT": "1987-09-19",
                                    "(No column name)": "36"
                                },
                                {
                                    "USERNEV": "bence",
                                    "NEV": "Győrffy Bence",
                                    "EMAIL": "bence@gmail.com",
                                    "SZAML_CIM": "6900 Makó Árpád utca 23.",
                                    "SZUL_DAT": "1987-07-09",
                                    "(No column name)": "37"
                                },
                                {
                                    "USERNEV": "eszter",
                                    "NEV": "Molnár Eszter",
                                    "EMAIL": "eszter.molnár@mail.hu",
                                    "SZAML_CIM": "6800 Hódmezővásárhely Fő út 77.",
                                    "SZUL_DAT": "1987-05-10",
                                    "(No column name)": "37"
                                },
                                {
                                    "USERNEV": "gabor4",
                                    "NEV": "Telek Gábor",
                                    "EMAIL": "gábor.telek@mail.hu",
                                    "SZAML_CIM": "9071 Görbeháza Fő út 169.",
                                    "SZUL_DAT": "1987-03-15",
                                    "(No column name)": "37"
                                },
                                {
                                    "USERNEV": "henrik3",
                                    "NEV": "Nádudvari Henrik",
                                    "EMAIL": "henrik.nádudvari@mail.hu",
                                    "SZAML_CIM": "1077 Budapest Tanácsköztársaság tér 1.",
                                    "SZUL_DAT": "1986-12-05",
                                    "(No column name)": "37"
                                },
                                {
                                    "USERNEV": "ANDREAT",
                                    "NEV": "Tornyos Andrea",
                                    "EMAIL": "ANDREAT@gmail.com",
                                    "SZAML_CIM": "6131 Szank Bécsi utca 82.",
                                    "SZUL_DAT": "1986-11-14",
                                    "(No column name)": "38"
                                },
                                {
                                    "USERNEV": "dani",
                                    "NEV": "Vörös Dániel",
                                    "EMAIL": "daniel@gmail.com",
                                    "SZAML_CIM": "7150 Bonyhád Dózsa György u. 1.",
                                    "SZUL_DAT": "1986-10-14",
                                    "(No column name)": "38"
                                },
                                {
                                    "USERNEV": "balazs3",
                                    "NEV": "Bakódy Balázs",
                                    "EMAIL": "balazs3@gmail.com",
                                    "SZAML_CIM": "2131 Göd Arany János utca 1.",
                                    "SZUL_DAT": "1986-09-09",
                                    "(No column name)": "38"
                                },
                                {
                                    "USERNEV": "istvan",
                                    "NEV": "Soós István",
                                    "EMAIL": "istvan@gmail.com",
                                    "SZAML_CIM": "2370 Dabas Kossuth utca 27.",
                                    "SZUL_DAT": "1986-06-28",
                                    "(No column name)": "38"
                                },
                                {
                                    "USERNEV": "zoltan4",
                                    "NEV": "Barna Zoltán",
                                    "EMAIL": "zoltan4@gmail.com",
                                    "SZAML_CIM": "8313 Balatongyörök Jászai tér 21.",
                                    "SZUL_DAT": "1986-05-20",
                                    "(No column name)": "38"
                                },
                                {
                                    "USERNEV": "ARPADM",
                                    "NEV": "Móricz Árpád",
                                    "EMAIL": "árpád.móricz@mail.hu",
                                    "SZAML_CIM": "3910 Tokaj Rákóczi utca 67.",
                                    "SZUL_DAT": "1986-04-20",
                                    "(No column name)": "38"
                                },
                                {
                                    "USERNEV": "katalin4",
                                    "NEV": "Kertész Katalin",
                                    "EMAIL": "katalin4@gmail.com",
                                    "SZAML_CIM": "2800 Tatabánya Búvár utca 4.",
                                    "SZUL_DAT": "1986-04-13",
                                    "(No column name)": "38"
                                },
                                {
                                    "USERNEV": "valentin",
                                    "NEV": "Feró Valentin",
                                    "EMAIL": "valentin.feró@mail.hu",
                                    "SZAML_CIM": "3895 Gönc Búvár utca 4.",
                                    "SZUL_DAT": "1986-01-09",
                                    "(No column name)": "38"
                                },
                                {
                                    "USERNEV": "roland1",
                                    "NEV": "Ferencz Roland",
                                    "EMAIL": "roland.ferencz@mail.hu",
                                    "SZAML_CIM": "2424 Előszállás Fő út 169.",
                                    "SZUL_DAT": "1985-12-31",
                                    "(No column name)": "38"
                                },
                                {
                                    "USERNEV": "ZOLTANT",
                                    "NEV": "Tóth Zoltán",
                                    "EMAIL": "zoltán.tóth@mail.hu",
                                    "SZAML_CIM": "4244 Újfehértó Posta köz 2.",
                                    "SZUL_DAT": "1985-12-14",
                                    "(No column name)": "39"
                                },
                                {
                                    "USERNEV": "jozsef",
                                    "NEV": "Gergely József",
                                    "EMAIL": "jozsef@gmail.com",
                                    "SZAML_CIM": "6050 Lajosmizse Fő út 18.",
                                    "SZUL_DAT": "1985-11-01",
                                    "(No column name)": "39"
                                },
                                {
                                    "USERNEV": "peter4",
                                    "NEV": "Bíró Péter",
                                    "EMAIL": "péter.bíró@mail.hu",
                                    "SZAML_CIM": "5137 Jászkisér Rákóczi utca 67.",
                                    "SZUL_DAT": "1985-09-01",
                                    "(No column name)": "39"
                                },
                                {
                                    "USERNEV": "julia4",
                                    "NEV": "Nagy Júlia",
                                    "EMAIL": "julia4@gmail.com",
                                    "SZAML_CIM": "7000 Sárbogárd Jászai tér 21.",
                                    "SZUL_DAT": "1985-08-11",
                                    "(No column name)": "39"
                                },
                                {
                                    "USERNEV": "tibor2",
                                    "NEV": "Dániel Tibor",
                                    "EMAIL": "tibor2@gmail.com",
                                    "SZAML_CIM": "6646 Tömörkény Árpád utca 23.",
                                    "SZUL_DAT": "1985-02-02",
                                    "(No column name)": "39"
                                },
                                {
                                    "USERNEV": "balazs2",
                                    "NEV": "Szűcs Balázs",
                                    "EMAIL": "balázs.szűcs@mail.hu",
                                    "SZAML_CIM": "3170 Szécsény Szabadság utca 95.",
                                    "SZUL_DAT": "1984-10-31",
                                    "(No column name)": "39"
                                },
                                {
                                    "USERNEV": "bernadett1",
                                    "NEV": "Simon Bernadett",
                                    "EMAIL": "bernadett1@gmail.com",
                                    "SZAML_CIM": "2300 Ráckeve Fő utca 108.",
                                    "SZUL_DAT": "1984-10-13",
                                    "(No column name)": "40"
                                },
                                {
                                    "USERNEV": "JANOSP",
                                    "NEV": "Pálinkás János",
                                    "EMAIL": "JANOSP@gmail.com",
                                    "SZAML_CIM": "5920 Csorvás Padragi út 158.",
                                    "SZUL_DAT": "1984-10-12",
                                    "(No column name)": "40"
                                },
                                {
                                    "USERNEV": "tamas",
                                    "NEV": "Antal Tamás",
                                    "EMAIL": "tamás.antal@mail.hu",
                                    "SZAML_CIM": "4440 Tiszavasvári Posta köz 2.",
                                    "SZUL_DAT": "1984-09-05",
                                    "(No column name)": "40"
                                },
                                {
                                    "USERNEV": "edit",
                                    "NEV": "Bittmann Edit",
                                    "EMAIL": "edit.bittmann@mail.hu",
                                    "SZAML_CIM": "6077 Orgovány Fő utca 60.",
                                    "SZUL_DAT": "1984-04-20",
                                    "(No column name)": "40"
                                },
                                {
                                    "USERNEV": "andras4",
                                    "NEV": "Back András",
                                    "EMAIL": "andras4@gmail.com",
                                    "SZAML_CIM": "3783 Edelény Fő út 169.",
                                    "SZUL_DAT": "1984-04-07",
                                    "(No column name)": "40"
                                },
                                {
                                    "USERNEV": "csongor3",
                                    "NEV": "Nagymihály Csongor",
                                    "EMAIL": "csongor.nagymihály@mail.hu",
                                    "SZAML_CIM": "9181 Kimle Deák Ferenc út 5.",
                                    "SZUL_DAT": "1984-03-05",
                                    "(No column name)": "40"
                                },
                                {
                                    "USERNEV": "kristof4",
                                    "NEV": "Poprádi Kristóf",
                                    "EMAIL": "kristof4@gmail.com",
                                    "SZAML_CIM": "8220 Balatonalmádi Mészáros utca 7.",
                                    "SZUL_DAT": "1984-01-15",
                                    "(No column name)": "40"
                                },
                                {
                                    "USERNEV": "IBOLYAA",
                                    "NEV": "Andor Ibolya",
                                    "EMAIL": "ibolya.andor@mail.hu",
                                    "SZAML_CIM": "9023 Győr Posta köz 2.",
                                    "SZUL_DAT": "1983-11-27",
                                    "(No column name)": "41"
                                },
                                {
                                    "USERNEV": "zsofi1",
                                    "NEV": "Molnár Zsófi",
                                    "EMAIL": "zsofi1@gmail.com",
                                    "SZAML_CIM": "2730 Albertirsa Árpád utca 23.",
                                    "SZUL_DAT": "1983-11-17",
                                    "(No column name)": "41"
                                },
                                {
                                    "USERNEV": "ferenc1",
                                    "NEV": "Orosz Ferenc",
                                    "EMAIL": "ferenc.orosz@mail.hu",
                                    "SZAML_CIM": "5061 Tiszasüly Arany János utca 3.",
                                    "SZUL_DAT": "1983-10-08",
                                    "(No column name)": "41"
                                },
                                {
                                    "USERNEV": "ZSOLTJ",
                                    "NEV": "Józsa Zsolt",
                                    "EMAIL": "ZSOLTJ@gmail.com",
                                    "SZAML_CIM": "8315 Gyenesdiás Bajcsy-Zsilinszky utca 4.",
                                    "SZUL_DAT": "1983-09-29",
                                    "(No column name)": "41"
                                },
                                {
                                    "USERNEV": "veronika4",
                                    "NEV": "Tankó Veronika",
                                    "EMAIL": "veronika4@gmail.com",
                                    "SZAML_CIM": "6412 Balotaszállás Rendeki utca 21.",
                                    "SZUL_DAT": "1983-08-28",
                                    "(No column name)": "41"
                                },
                                {
                                    "USERNEV": "peter3",
                                    "NEV": "Szalai Péter",
                                    "EMAIL": "peter3@gmail.com",
                                    "SZAML_CIM": "1155 Budapest Arany János utca 3.",
                                    "SZUL_DAT": "1983-07-18",
                                    "(No column name)": "41"
                                },
                                {
                                    "USERNEV": "norbert4",
                                    "NEV": "Mile Norbert",
                                    "EMAIL": "norbert4@gmail.com",
                                    "SZAML_CIM": "3973 Cigánd Bajcsy-Zsilinszky utca 4.",
                                    "SZUL_DAT": "1983-06-15",
                                    "(No column name)": "41"
                                },
                                {
                                    "USERNEV": "georgij",
                                    "NEV": "Nyíri Georgij",
                                    "EMAIL": "georgij.nyíri@mail.hu",
                                    "SZAML_CIM": "8391 Sármellék Grassalkovich út 10.",
                                    "SZUL_DAT": "1983-02-23",
                                    "(No column name)": "41"
                                },
                                {
                                    "USERNEV": "gabriella1",
                                    "NEV": "Nagy Gabriella",
                                    "EMAIL": "gabriella1@gmail.com",
                                    "SZAML_CIM": "1077 Budapest Dob utca 1",
                                    "SZUL_DAT": "1982-11-01",
                                    "(No column name)": "41"
                                },
                                {
                                    "USERNEV": "attila1",
                                    "NEV": "Gulyás Attila",
                                    "EMAIL": "attila.gulyás@mail.hu",
                                    "SZAML_CIM": "3881 Abaújszántó Szolnoki út 8.",
                                    "SZUL_DAT": "1982-08-16",
                                    "(No column name)": "42"
                                },
                                {
                                    "USERNEV": "akos",
                                    "NEV": "Bíró Ákos",
                                    "EMAIL": "ákos.bíró@mail.hu",
                                    "SZAML_CIM": "9023 Győr Kossuth Lajos utca 47/b.",
                                    "SZUL_DAT": "1982-04-24",
                                    "(No column name)": "42"
                                },
                                {
                                    "USERNEV": "klaudia2",
                                    "NEV": "Bakó Klaudia",
                                    "EMAIL": "klaudia.bakó@mail.hu",
                                    "SZAML_CIM": "8254 Kővágóörs Kossuth Lajos utca 6.",
                                    "SZUL_DAT": "1982-04-16",
                                    "(No column name)": "42"
                                },
                                {
                                    "USERNEV": "AGNESH",
                                    "NEV": "Horváth Ágnes",
                                    "EMAIL": "AGNESH@gmail.com",
                                    "SZAML_CIM": "8200 Veszprém Rákóczi utca 21.",
                                    "SZUL_DAT": "1981-12-24",
                                    "(No column name)": "42"
                                },
                                {
                                    "USERNEV": "nikolett3",
                                    "NEV": "Horváth Nikolett",
                                    "EMAIL": "nikolett3@gmail.com",
                                    "SZAML_CIM": "1072 Budapest Arany János utca 1.",
                                    "SZUL_DAT": "1981-09-29",
                                    "(No column name)": "42"
                                },
                                {
                                    "USERNEV": "andrea4",
                                    "NEV": "Neizer Andrea",
                                    "EMAIL": "andrea4@gmail.com",
                                    "SZAML_CIM": "1124 Budapest Kiss u. 8.",
                                    "SZUL_DAT": "1981-05-17",
                                    "(No column name)": "43"
                                },
                                {
                                    "USERNEV": "BEATRIXS",
                                    "NEV": "Szekendi Beatrix",
                                    "EMAIL": "beatrix.szekendi@mail.hu",
                                    "SZAML_CIM": "4060 Balmazújváros Jászai tér 21.",
                                    "SZUL_DAT": "1981-04-06",
                                    "(No column name)": "43"
                                },
                                {
                                    "USERNEV": "EVAV",
                                    "NEV": "Viktor Éva",
                                    "EMAIL": "EVAV@gmail.com",
                                    "SZAML_CIM": "6913 Csanádpalota Arany János utca 3.",
                                    "SZUL_DAT": "1980-12-26",
                                    "(No column name)": "43"
                                },
                                {
                                    "USERNEV": "aladar",
                                    "NEV": "Dunai Aladár",
                                    "EMAIL": "aladár.dunai@mail.hu",
                                    "SZAML_CIM": "5931 Nagyszénás Árpád utca 23.",
                                    "SZUL_DAT": "1980-11-01",
                                    "(No column name)": "43"
                                },
                                {
                                    "USERNEV": "zsuzsa",
                                    "NEV": "Pusztai Zsuzsanna",
                                    "EMAIL": "zsuzsanna@gmail.com",
                                    "SZAML_CIM": "6783 Ásotthalom Badacsonyi utca 12.",
                                    "SZUL_DAT": "1980-09-17",
                                    "(No column name)": "44"
                                },
                                {
                                    "USERNEV": "ANDRASN",
                                    "NEV": "Nagy András",
                                    "EMAIL": "andrás.nagy@mail.hu",
                                    "SZAML_CIM": "6500 Baja Fő út 169.",
                                    "SZUL_DAT": "1980-09-05",
                                    "(No column name)": "44"
                                },
                                {
                                    "USERNEV": "SZABOLCSM",
                                    "NEV": "Miklós Szabolcs",
                                    "EMAIL": "szabolcs.miklós@mail.hu",
                                    "SZAML_CIM": "1102 Budapest Fő út 169.",
                                    "SZUL_DAT": "1980-08-11",
                                    "(No column name)": "44"
                                },
                                {
                                    "USERNEV": "tamara2",
                                    "NEV": "Miklós Tamara",
                                    "EMAIL": "tamara.miklós@mail.hu",
                                    "SZAML_CIM": "3910 Tokaj Kossuth út 39.",
                                    "SZUL_DAT": "1980-08-11",
                                    "(No column name)": "44"
                                },
                                {
                                    "USERNEV": "GYORGYO",
                                    "NEV": "Oroszi György",
                                    "EMAIL": "GYORGYO@gmail.com",
                                    "SZAML_CIM": "7220 Sarkad Dózsa György u. 1.",
                                    "SZUL_DAT": "1980-03-23",
                                    "(No column name)": "44"
                                },
                                {
                                    "USERNEV": "attila",
                                    "NEV": "Csóti Attila",
                                    "EMAIL": "attila@gmail.com",
                                    "SZAML_CIM": "3000 Hatvan Bajcsy-Zsilinszky utca 4.",
                                    "SZUL_DAT": "1979-12-25",
                                    "(No column name)": "44"
                                },
                                {
                                    "USERNEV": "agnes",
                                    "NEV": "Lengyel Ágnes",
                                    "EMAIL": "agnes@gmail.com",
                                    "SZAML_CIM": "5200 Törökszentmiklós Deák Ferenc út 5.",
                                    "SZUL_DAT": "1979-12-10",
                                    "(No column name)": "45"
                                },
                                {
                                    "USERNEV": "zoltan",
                                    "NEV": "Fodor Zoltán",
                                    "EMAIL": "zoltán.fodor@mail.hu",
                                    "SZAML_CIM": "3441 Mezőkeresztes Fő utca 23.",
                                    "SZUL_DAT": "1979-11-25",
                                    "(No column name)": "45"
                                },
                                {
                                    "USERNEV": "MIHALYJ",
                                    "NEV": "Juhász Mihály",
                                    "EMAIL": "mihály.juhász@mail.hu",
                                    "SZAML_CIM": "6786 Ruzsa Rákóczi utca 1.",
                                    "SZUL_DAT": "1979-10-12",
                                    "(No column name)": "45"
                                },
                                {
                                    "USERNEV": "krisztina",
                                    "NEV": "Szedlár Krisztina",
                                    "EMAIL": "krisztina@gmail.com",
                                    "SZAML_CIM": "6646 Tömörkény Arany János utca 1.",
                                    "SZUL_DAT": "1979-05-10",
                                    "(No column name)": "45"
                                },
                                {
                                    "USERNEV": "zsuzsa3",
                                    "NEV": "Varsányi Zsuzsa",
                                    "EMAIL": "zsuzsa.varsányi@mail.hu",
                                    "SZAML_CIM": "8600 Siófok Árpád utca 4.",
                                    "SZUL_DAT": "1979-03-06",
                                    "(No column name)": "45"
                                },
                                {
                                    "USERNEV": "MIKLOSB",
                                    "NEV": "Balla Miklós",
                                    "EMAIL": "miklós.balla@mail.hu",
                                    "SZAML_CIM": "4060 Balmazújváros Szent István utca 2.",
                                    "SZUL_DAT": "1979-02-16",
                                    "(No column name)": "45"
                                },
                                {
                                    "USERNEV": "daniel",
                                    "NEV": "Rácz Dániel",
                                    "EMAIL": "dániel.rácz@mail.hu",
                                    "SZAML_CIM": "9181 Kimle Szabadság tér 9.",
                                    "SZUL_DAT": "1978-11-28",
                                    "(No column name)": "46"
                                },
                                {
                                    "USERNEV": "lajos",
                                    "NEV": "Kiss Lajos",
                                    "EMAIL": "lajos.kiss@mail.hu",
                                    "SZAML_CIM": "1077 Budapest Dob utca 1",
                                    "SZUL_DAT": "1978-10-31",
                                    "(No column name)": "46"
                                },
                                {
                                    "USERNEV": "brigitta",
                                    "NEV": "Székely Brigitta",
                                    "EMAIL": "brigitta.székely@mail.hu",
                                    "SZAML_CIM": "2462 Martonvásár Fő utca 47.",
                                    "SZUL_DAT": "1978-09-13",
                                    "(No column name)": "46"
                                },
                                {
                                    "USERNEV": "jozsef2",
                                    "NEV": "Vajda József",
                                    "EMAIL": "józsef.vajda@mail.hu",
                                    "SZAML_CIM": "6700 Szeged Baracsi László utca 14.",
                                    "SZUL_DAT": "1978-09-04",
                                    "(No column name)": "46"
                                },
                                {
                                    "USERNEV": "ESZTERE",
                                    "NEV": "Érsek Eszter",
                                    "EMAIL": "eszter.érsek@mail.hu",
                                    "SZAML_CIM": "6785 Pusztamérges Kossuth Lajos utca 6.",
                                    "SZUL_DAT": "1978-08-28",
                                    "(No column name)": "46"
                                },
                                {
                                    "USERNEV": "kriszti",
                                    "NEV": "Horváth Krisztina",
                                    "EMAIL": "kriszti@gmail.com",
                                    "SZAML_CIM": "6060 Tiszakécske Árpád utca 4.",
                                    "SZUL_DAT": "1978-06-12",
                                    "(No column name)": "46"
                                },
                                {
                                    "USERNEV": "aniko4",
                                    "NEV": "Böröcz Anikó",
                                    "EMAIL": "aniko4@gmail.com",
                                    "SZAML_CIM": "2484 Agárd Petőfi Sándor tér 1.",
                                    "SZUL_DAT": "1978-03-26",
                                    "(No column name)": "46"
                                },
                                {
                                    "USERNEV": "andras21",
                                    "NEV": "Molnár András",
                                    "EMAIL": "andrás.molnár@mail.hu",
                                    "SZAML_CIM": "7900 Szigetvár Rákóczi utca 67.",
                                    "SZUL_DAT": "1977-11-16",
                                    "(No column name)": "46"
                                },
                                {
                                    "USERNEV": "bertalan",
                                    "NEV": "Csiger Bertalan",
                                    "EMAIL": "bertalan@gmail.com",
                                    "SZAML_CIM": "1192 Budapest Fő út 169.",
                                    "SZUL_DAT": "1977-10-15",
                                    "(No column name)": "47"
                                },
                                {
                                    "USERNEV": "ANNAMARIAR",
                                    "NEV": "Regős Annamária",
                                    "EMAIL": "ANNAMARIAR@gmail.com",
                                    "SZAML_CIM": "8283 Káptalantóti Petőfi Sándor tér 1.",
                                    "SZUL_DAT": "1977-09-26",
                                    "(No column name)": "47"
                                },
                                {
                                    "USERNEV": "ZOLTANP",
                                    "NEV": "Pintér Zoltán",
                                    "EMAIL": "zoltán.pintér@mail.hu",
                                    "SZAML_CIM": "6050 Lajosmizse Fő út 18.",
                                    "SZUL_DAT": "1977-06-07",
                                    "(No column name)": "47"
                                },
                                {
                                    "USERNEV": "robert2",
                                    "NEV": "Patay Róbert",
                                    "EMAIL": "robert2@gmail.com",
                                    "SZAML_CIM": "2370 Dabas Rákóczi utca 21.",
                                    "SZUL_DAT": "1977-01-08",
                                    "(No column name)": "47"
                                },
                                {
                                    "USERNEV": "ZSUZSAV",
                                    "NEV": "Vajda Zsuzsa",
                                    "EMAIL": "zsuzsa.vajda@mail.hu",
                                    "SZAML_CIM": "6786 Ruzsa Kossuth utca 77.",
                                    "SZUL_DAT": "1976-12-11",
                                    "(No column name)": "47"
                                },
                                {
                                    "USERNEV": "debora",
                                    "NEV": "Barna Debóra",
                                    "EMAIL": "debóra.barna@mail.hu",
                                    "SZAML_CIM": "1155 Budapest Fő út 169.",
                                    "SZUL_DAT": "1976-10-14",
                                    "(No column name)": "48"
                                },
                                {
                                    "USERNEV": "adam4",
                                    "NEV": "Bieniek Ádám",
                                    "EMAIL": "ádám.bieniek@mail.hu",
                                    "SZAML_CIM": "8630 Balatonboglár Juhászföldi út 1.",
                                    "SZUL_DAT": "1976-08-01",
                                    "(No column name)": "48"
                                },
                                {
                                    "USERNEV": "balu",
                                    "NEV": "Endresz Bálint",
                                    "EMAIL": "bálint.endresz@mail.hu",
                                    "SZAML_CIM": "3973 Cigánd Fő út 169.",
                                    "SZUL_DAT": "1976-08-01",
                                    "(No column name)": "48"
                                },
                                {
                                    "USERNEV": "imre1",
                                    "NEV": "Papp Imre",
                                    "EMAIL": "imre.papp@mail.hu",
                                    "SZAML_CIM": "1077 Budapest Szolnoki út 8.",
                                    "SZUL_DAT": "1976-06-25",
                                    "(No column name)": "48"
                                },
                                {
                                    "USERNEV": "peter1",
                                    "NEV": "Kozma Péter",
                                    "EMAIL": "peter1@gmail.com",
                                    "SZAML_CIM": "6913 Csanádpalota Központi telep 3.",
                                    "SZUL_DAT": "1976-03-18",
                                    "(No column name)": "48"
                                },
                                {
                                    "USERNEV": "peter2",
                                    "NEV": "Bozsó Péter",
                                    "EMAIL": "peter2@gmail.com",
                                    "SZAML_CIM": "4800 Vásárosnamény Zombori út 2/A",
                                    "SZUL_DAT": "1976-01-26",
                                    "(No column name)": "48"
                                },
                                {
                                    "USERNEV": "attila4",
                                    "NEV": "Baróti Attila",
                                    "EMAIL": "attila.baróti@mail.hu",
                                    "SZAML_CIM": "7149 Báta Arany János utca 3.",
                                    "SZUL_DAT": "1975-11-06",
                                    "(No column name)": "49"
                                },
                                {
                                    "USERNEV": "kornel4",
                                    "NEV": "Lukács Kornél",
                                    "EMAIL": "kornél.lukács@mail.hu",
                                    "SZAML_CIM": "2053 Herceghalom Bécsi utca 82.",
                                    "SZUL_DAT": "1975-09-30",
                                    "(No column name)": "49"
                                },
                                {
                                    "USERNEV": "timea2",
                                    "NEV": "Dusha Tímea",
                                    "EMAIL": "tímea.dusha@mail.hu",
                                    "SZAML_CIM": "5920 Csorvás Kossuth utca 8.",
                                    "SZUL_DAT": "1975-08-22",
                                    "(No column name)": "49"
                                },
                                {
                                    "USERNEV": "norbert5",
                                    "NEV": "Béres Norbert",
                                    "EMAIL": "norbert5@gmail.com",
                                    "SZAML_CIM": "8640 Fonyód Bajcsy-Zsilinszky utca 4.",
                                    "SZUL_DAT": "1975-07-27",
                                    "(No column name)": "49"
                                },
                                {
                                    "USERNEV": "JOZSEFG",
                                    "NEV": "Gyuris József",
                                    "EMAIL": "józsef.gyuris@mail.hu",
                                    "SZAML_CIM": "2660 Balassagyarmat Petőfi utca 1/2.",
                                    "SZUL_DAT": "1975-05-26",
                                    "(No column name)": "49"
                                },
                                {
                                    "USERNEV": "katka",
                                    "NEV": "Kovács Katalin",
                                    "EMAIL": "katalin.kovács@mail.hu",
                                    "SZAML_CIM": "8254 Kővágóörs Petőfi utca 22.",
                                    "SZUL_DAT": "1975-03-31",
                                    "(No column name)": "49"
                                },
                                {
                                    "USERNEV": "MATYASS",
                                    "NEV": "Szilágyi Mátyás",
                                    "EMAIL": "mátyás.szilágyi@mail.hu",
                                    "SZAML_CIM": "9023 Győr Kossuth Lajos utca 6.",
                                    "SZUL_DAT": "1975-03-22",
                                    "(No column name)": "49"
                                },
                                {
                                    "USERNEV": "denes",
                                    "NEV": "Tömböly Dénes",
                                    "EMAIL": "denes@gmail.com",
                                    "SZAML_CIM": "2400 Dunaújváros Kossuth út 39.",
                                    "SZUL_DAT": "1975-03-14",
                                    "(No column name)": "49"
                                },
                                {
                                    "USERNEV": "laszlo2",
                                    "NEV": "Móra László",
                                    "EMAIL": "lászló.móra@mail.hu",
                                    "SZAML_CIM": "9970 Szentgotthárd Petőfi utca 1/2.",
                                    "SZUL_DAT": "1975-02-19",
                                    "(No column name)": "50"
                                },
                                {
                                    "USERNEV": "JANOSG",
                                    "NEV": "Giliga János",
                                    "EMAIL": "JANOSG@gmail.com",
                                    "SZAML_CIM": "3300 Eger Deák Ferenc út 5.",
                                    "SZUL_DAT": "1975-01-03",
                                    "(No column name)": "50"
                                },
                                {
                                    "USERNEV": "MONIKAM",
                                    "NEV": "Mohos Mónika",
                                    "EMAIL": "mónika.mohos@mail.hu",
                                    "SZAML_CIM": "2241 Sülysáp Baracsi László utca 14.",
                                    "SZUL_DAT": "1974-10-01",
                                    "(No column name)": "50"
                                },
                                {
                                    "USERNEV": "GYONGYIK",
                                    "NEV": "Kornseé Gyöngyi",
                                    "EMAIL": "gyöngyi.kornseé@mail.hu",
                                    "SZAML_CIM": "8800 Nagykanizsa Fő út 60.",
                                    "SZUL_DAT": "1974-06-07",
                                    "(No column name)": "50"
                                },
                                {
                                    "USERNEV": "tunde",
                                    "NEV": "Turcsik Tünde",
                                    "EMAIL": "tunde@gmail.com",
                                    "SZAML_CIM": "7130 Tolna Fő út 122.",
                                    "SZUL_DAT": "1974-02-12",
                                    "(No column name)": "50"
                                },
                                {
                                    "USERNEV": "david",
                                    "NEV": "Ambrus Dávid",
                                    "EMAIL": "david@gmail.com",
                                    "SZAML_CIM": "1149 Budapest Fő út 18.",
                                    "SZUL_DAT": "1974-02-11",
                                    "(No column name)": "50"
                                },
                                {
                                    "USERNEV": "gabor1",
                                    "NEV": "Köves Gábor",
                                    "EMAIL": "gabor1@gmail.com",
                                    "SZAML_CIM": "6762 Sándorfalva Árpád utca 23.",
                                    "SZUL_DAT": "1973-07-15",
                                    "(No column name)": "51"
                                },
                                {
                                    "USERNEV": "BENCEB",
                                    "NEV": "Bajusz Bence",
                                    "EMAIL": "bence.bajusz@mail.hu",
                                    "SZAML_CIM": "8391 Sármellék Fő utca 56.",
                                    "SZUL_DAT": "1973-06-21",
                                    "(No column name)": "51"
                                },
                                {
                                    "USERNEV": "aniko",
                                    "NEV": "Tóth Anikó",
                                    "EMAIL": "aniko@gmail.com",
                                    "SZAML_CIM": "2085 Pilisvörösvár Deák Ferenc út 5.",
                                    "SZUL_DAT": "1973-06-03",
                                    "(No column name)": "51"
                                },
                                {
                                    "USERNEV": "sara",
                                    "NEV": "Farkas Sára",
                                    "EMAIL": "sára.farkas@mail.hu",
                                    "SZAML_CIM": "5940 Tótkomlós Felszabadulás utca 32.",
                                    "SZUL_DAT": "1973-04-05",
                                    "(No column name)": "51"
                                },
                                {
                                    "USERNEV": "matyas2",
                                    "NEV": "Botka Mátyás",
                                    "EMAIL": "matyas2@gmail.com",
                                    "SZAML_CIM": "2700 Cegléd Kossuth Lajos utca 6.",
                                    "SZUL_DAT": "1972-07-07",
                                    "(No column name)": "51"
                                },
                                {
                                    "USERNEV": "ROBERTP",
                                    "NEV": "Pásztor Róbert",
                                    "EMAIL": "ROBERTP@gmail.com",
                                    "SZAML_CIM": "5137 Jászkisér Ady Endre út 27.",
                                    "SZUL_DAT": "1972-05-16",
                                    "(No column name)": "52"
                                },
                                {
                                    "USERNEV": "BEATRIXK",
                                    "NEV": "Kerényi Beatrix",
                                    "EMAIL": "beatrix.kerényi@mail.hu",
                                    "SZAML_CIM": "7396 Magyarszék Kossuth Lajos utca 47/b.",
                                    "SZUL_DAT": "1972-04-06",
                                    "(No column name)": "52"
                                },
                                {
                                    "USERNEV": "nikoletta4",
                                    "NEV": "Kő Nikoletta",
                                    "EMAIL": "nikoletta4@gmail.com",
                                    "SZAML_CIM": "5537 Zsadány Fő út 18.",
                                    "SZUL_DAT": "1972-01-10",
                                    "(No column name)": "52"
                                },
                                {
                                    "USERNEV": "eva2",
                                    "NEV": "Perlinger Éva",
                                    "EMAIL": "eva2@gmail.com",
                                    "SZAML_CIM": "9653 Répcelak Bécsi utca 82.",
                                    "SZUL_DAT": "1971-08-19",
                                    "(No column name)": "52"
                                },
                                {
                                    "USERNEV": "aron2",
                                    "NEV": "Jakab Áron",
                                    "EMAIL": "aron2@gmail.com",
                                    "SZAML_CIM": "7133 Fadd Bajcsy-Zsilinszky utca 4.",
                                    "SZUL_DAT": "1971-04-26",
                                    "(No column name)": "53"
                                },
                                {
                                    "USERNEV": "andras3",
                                    "NEV": "Vígh András",
                                    "EMAIL": "andrás.vígh@mail.hu",
                                    "SZAML_CIM": "1118 Budapest Arany János utca 1.",
                                    "SZUL_DAT": "1971-04-02",
                                    "(No column name)": "53"
                                },
                                {
                                    "USERNEV": "anita",
                                    "NEV": "Hamvay-Kovács Anita",
                                    "EMAIL": "anita.hamvay-kovács@mail.hu",
                                    "SZAML_CIM": "7220 Sarkad Táncsics utca 19.",
                                    "SZUL_DAT": "1971-03-20",
                                    "(No column name)": "53"
                                },
                                {
                                    "USERNEV": "szilvia1",
                                    "NEV": "Tari Szilvia",
                                    "EMAIL": "szilvia.tari@mail.hu",
                                    "SZAML_CIM": "6080 Szabadszállás Bécsi utca 82.",
                                    "SZUL_DAT": "1971-03-09",
                                    "(No column name)": "53"
                                },
                                {
                                    "USERNEV": "david1",
                                    "NEV": "Sobják Dávid",
                                    "EMAIL": "david1@gmail.com",
                                    "SZAML_CIM": "5083 Kengyel Arany János utca 3.",
                                    "SZUL_DAT": "1970-08-16",
                                    "(No column name)": "54"
                                },
                                {
                                    "USERNEV": "krisztian4",
                                    "NEV": "Czérna Krisztián",
                                    "EMAIL": "krisztián.czérna@mail.hu",
                                    "SZAML_CIM": "1107 Budapest Dózsa György utca 37.",
                                    "SZUL_DAT": "1970-08-01",
                                    "(No column name)": "54"
                                },
                                {
                                    "USERNEV": "adam3",
                                    "NEV": "Barkóci Ádám",
                                    "EMAIL": "adam3@gmail.com",
                                    "SZAML_CIM": "3910 Tokaj Dózsa György utca 37.",
                                    "SZUL_DAT": "1970-06-07",
                                    "(No column name)": "54"
                                },
                                {
                                    "USERNEV": "sandor",
                                    "NEV": "Karasz Sándor",
                                    "EMAIL": "sandor@gmail.com",
                                    "SZAML_CIM": "8283 Káptalantóti Kossuth Lajos utca 1/a.",
                                    "SZUL_DAT": "1970-01-27",
                                    "(No column name)": "54"
                                },
                                {
                                    "USERNEV": "reka4",
                                    "NEV": "Szikszai Réka",
                                    "EMAIL": "réka.szikszai@mail.hu",
                                    "SZAML_CIM": "8254 Kővágóörs Templom utca 73.",
                                    "SZUL_DAT": "1969-11-27",
                                    "(No column name)": "54"
                                },
                                {
                                    "USERNEV": "krisztina1",
                                    "NEV": "Bori Krisztina",
                                    "EMAIL": "krisztina.bori@mail.hu",
                                    "SZAML_CIM": "2115 Vácszentlászló Fő utca 47.",
                                    "SZUL_DAT": "1969-10-13",
                                    "(No column name)": "55"
                                },
                                {
                                    "USERNEV": "norbert",
                                    "NEV": "Szűcs Norbert",
                                    "EMAIL": "norbert@gmail.com",
                                    "SZAML_CIM": "5071 Besenyszög Győri utca 12.",
                                    "SZUL_DAT": "1969-07-17",
                                    "(No column name)": "55"
                                },
                                {
                                    "USERNEV": "daniel1",
                                    "NEV": "Keszler Dániel",
                                    "EMAIL": "dániel.keszler@mail.hu",
                                    "SZAML_CIM": "3580 Tiszaújváros Kossuth Lajos utca 6.",
                                    "SZUL_DAT": "1969-07-16",
                                    "(No column name)": "55"
                                },
                                {
                                    "USERNEV": "LASZLOA",
                                    "NEV": "Antal László",
                                    "EMAIL": "lászló.antal@mail.hu",
                                    "SZAML_CIM": "2484 Agárd Bécsi utca 82.",
                                    "SZUL_DAT": "1969-06-29",
                                    "(No column name)": "55"
                                },
                                {
                                    "USERNEV": "gabriella10",
                                    "NEV": "Vida Gabriella",
                                    "EMAIL": "gabriella10@gmail.com",
                                    "SZAML_CIM": "2484 Agárd Arany János utca 3.",
                                    "SZUL_DAT": "1969-06-18",
                                    "(No column name)": "55"
                                },
                                {
                                    "USERNEV": "LASZLON",
                                    "NEV": "Nagy László",
                                    "EMAIL": "lászló.nagy@mail.hu",
                                    "SZAML_CIM": "1173 Budapest Jászai tér 21.",
                                    "SZUL_DAT": "1969-04-12",
                                    "(No column name)": "55"
                                },
                                {
                                    "USERNEV": "PETERB",
                                    "NEV": "Berendi Péter",
                                    "EMAIL": "péter.berendi@mail.hu",
                                    "SZAML_CIM": "3980 Sátoraljaújhely Vasút utca 4/10.",
                                    "SZUL_DAT": "1969-01-01",
                                    "(No column name)": "55"
                                },
                                {
                                    "USERNEV": "NANDORF",
                                    "NEV": "Fő Nándor",
                                    "EMAIL": "nándor.fő@mail.hu",
                                    "SZAML_CIM": "5920 Csorvás Bécsi utca 82.",
                                    "SZUL_DAT": "1968-11-12",
                                    "(No column name)": "55"
                                },
                                {
                                    "USERNEV": "kata",
                                    "NEV": "Gondos Katalin",
                                    "EMAIL": "katalin.gondos@mail.hu",
                                    "SZAML_CIM": "8237 Tihany Kossuth Lajos utca 6.",
                                    "SZUL_DAT": "1968-06-22",
                                    "(No column name)": "56"
                                },
                                {
                                    "USERNEV": "KRISZTIANM",
                                    "NEV": "Mogyródi Krisztián",
                                    "EMAIL": "KRISZTIANM@gmail.com",
                                    "SZAML_CIM": "9155 Lébény Jászai tér 21.",
                                    "SZUL_DAT": "1968-05-27",
                                    "(No column name)": "56"
                                },
                                {
                                    "USERNEV": "andi",
                                    "NEV": "Maródi Andrea",
                                    "EMAIL": "andrea.maródi@mail.hu",
                                    "SZAML_CIM": "5465 Cserkeszőlő Árpád utca 4.",
                                    "SZUL_DAT": "1968-05-07",
                                    "(No column name)": "56"
                                },
                                {
                                    "USERNEV": "roland",
                                    "NEV": "Tóth Roland",
                                    "EMAIL": "roland@gmail.com",
                                    "SZAML_CIM": "2000 Szentendre Fő út 169.",
                                    "SZUL_DAT": "1968-03-21",
                                    "(No column name)": "56"
                                },
                                {
                                    "USERNEV": "pal",
                                    "NEV": "Barabás Pál",
                                    "EMAIL": "pál.barabás@mail.hu",
                                    "SZAML_CIM": "1183 Budapest Szolnoki út 8.",
                                    "SZUL_DAT": "1968-02-06",
                                    "(No column name)": "56"
                                },
                                {
                                    "USERNEV": "katalin",
                                    "NEV": "Horváth Katalin",
                                    "EMAIL": "katalin.horváth@mail.hu",
                                    "SZAML_CIM": "2424 Előszállás Rákóczi út 200.",
                                    "SZUL_DAT": "1968-01-01",
                                    "(No column name)": "57"
                                },
                                {
                                    "USERNEV": "janos3",
                                    "NEV": "Harangozó János",
                                    "EMAIL": "janos3@gmail.com",
                                    "SZAML_CIM": "8700 Marcali Petőfi Sándor tér 1.",
                                    "SZUL_DAT": "1967-11-02",
                                    "(No column name)": "57"
                                },
                                {
                                    "USERNEV": "laszlo1",
                                    "NEV": "Farkas László",
                                    "EMAIL": "lászló.farkas@mail.hu",
                                    "SZAML_CIM": "5200 Törökszentmiklós Rendeki utca 21.",
                                    "SZUL_DAT": "1967-10-30",
                                    "(No column name)": "57"
                                },
                                {
                                    "USERNEV": "SZILARDS",
                                    "NEV": "Szalai Szilárd",
                                    "EMAIL": "szilárd.szalai@mail.hu",
                                    "SZAML_CIM": "1077 Budapest Fő út 18.",
                                    "SZUL_DAT": "1967-09-28",
                                    "(No column name)": "57"
                                },
                                {
                                    "USERNEV": "ROBERTI",
                                    "NEV": "Iván Róbert",
                                    "EMAIL": "róbert.iván@mail.hu",
                                    "SZAML_CIM": "2377 Örkény Petőfi Sándor utca 3.",
                                    "SZUL_DAT": "1967-07-02",
                                    "(No column name)": "57"
                                },
                                {
                                    "USERNEV": "eva",
                                    "NEV": "Enyedi Éva",
                                    "EMAIL": "eva@gmail.com",
                                    "SZAML_CIM": "4231 Bököny Petőfi utca 8.",
                                    "SZUL_DAT": "1967-06-30",
                                    "(No column name)": "57"
                                },
                                {
                                    "USERNEV": "agnes3",
                                    "NEV": "Hartyánszky Ágnes",
                                    "EMAIL": "agnes3@gmail.com",
                                    "SZAML_CIM": "6430 Bácsalmás Posta köz 2.",
                                    "SZUL_DAT": "1967-04-11",
                                    "(No column name)": "57"
                                },
                                {
                                    "USERNEV": "gusztav",
                                    "NEV": "Bárci Gusztáv",
                                    "EMAIL": "gusztav@gmail.com",
                                    "SZAML_CIM": "3643 Dédestapolcsány Endrődi Sándor utca 47.",
                                    "SZUL_DAT": "1967-02-25",
                                    "(No column name)": "57"
                                },
                                {
                                    "USERNEV": "anett3",
                                    "NEV": "Pivarcsi Anett",
                                    "EMAIL": "anett.pivarcsi@mail.hu",
                                    "SZAML_CIM": "1149 Budapest Fő út 60.",
                                    "SZUL_DAT": "1967-01-03",
                                    "(No column name)": "57"
                                }
                            ]
                        },
                        "text/html": "<table><tr><th>USERNEV</th><th>NEV</th><th>EMAIL</th><th>SZAML_CIM</th><th>SZUL_DAT</th><th>(No column name)</th><th>(No column name)</th></tr><tr><td>eszter2</td><td>Balogh Eszter</td><td>eszter.balogh@mail.hu</td><td>6760 Kistelek Kossuth utca 11.</td><td>1998-01-31</td><td>27</td><td>27</td></tr><tr><td>istvan1</td><td>Vizi István</td><td>istván.vizi@mail.hu</td><td>7086 Ozora Rákóczi utca 1.</td><td>1997-12-01</td><td>27</td><td>27</td></tr><tr><td>TAMASF</td><td>Fényes Tamás</td><td>TAMASF@gmail.com</td><td>9023 Győr Arany János utca 1.</td><td>1997-11-06</td><td>27</td><td>27</td></tr><tr><td>andras2</td><td>Tóth András</td><td>andrás.tóth@mail.hu</td><td>4071 Egyek Petőfi utca 30.</td><td>1997-10-31</td><td>27</td><td>27</td></tr><tr><td>andras41</td><td>Komjáti András</td><td>andras41@gmail.com</td><td>5065 Nagykörű Kossuth út 24.</td><td>1997-10-25</td><td>27</td><td>27</td></tr><tr><td>NIKOLETTAT</td><td>Tatár Nikoletta</td><td>nikoletta.tatár@mail.hu</td><td>1067 Budapest Győri utca 12.</td><td>1997-10-19</td><td>27</td><td>27</td></tr><tr><td>MARKH</td><td>Horváth Márk</td><td>márk.horváth@mail.hu</td><td>4400 Nyíregyháza Badacsonyi utca 12.</td><td>1997-09-23</td><td>27</td><td>27</td></tr><tr><td>balint2</td><td>Vukasinovity Bálint</td><td>balint2@gmail.com</td><td>2330 Dunaharaszti Béke utca 7.</td><td>1997-09-03</td><td>27</td><td>27</td></tr><tr><td>JUDITH</td><td>Hídasi Judit</td><td>JUDITH@gmail.com</td><td>2100 Gödöllő Fő út 169.</td><td>1997-07-12</td><td>27</td><td>27</td></tr><tr><td>sandor4</td><td>Nagy Sándor</td><td>sandor4@gmail.com</td><td>4600 Kisvárda Fő utca 47.</td><td>1997-06-11</td><td>27</td><td>27</td></tr><tr><td>ANDRASE</td><td>Erdei András</td><td>ANDRASE@gmail.com</td><td>5071 Besenyszög Szolnoki út 8.</td><td>1997-05-29</td><td>27</td><td>27</td></tr><tr><td>MATEK</td><td>Koza Máté</td><td>máté.koza@mail.hu</td><td>1011 Budapest Központi telep 3.</td><td>1997-02-28</td><td>28</td><td>27</td></tr><tr><td>lala</td><td>Nagymihály Lajos</td><td>lajos.nagymihály@mail.hu</td><td>8638 Balatonlelle Rákóczi út 200.</td><td>1997-02-24</td><td>28</td><td>27</td></tr><tr><td>bernadett2</td><td>Kovács Bernadett</td><td>bernadett.kovács@mail.hu</td><td>4200 Hajdúszoboszló Fő út 122.</td><td>1996-08-20</td><td>28</td><td>28</td></tr><tr><td>fruzsina4</td><td>Frank Fruzsina</td><td>fruzsina4@gmail.com</td><td>9700 Szombathely Szabadság utca 95.</td><td>1996-08-16</td><td>28</td><td>28</td></tr><tr><td>andrea3</td><td>Szomor Andrea</td><td>andrea3@gmail.com</td><td>7960 Sellye Bécsi utca 82.</td><td>1996-05-10</td><td>28</td><td>28</td></tr><tr><td>VIKTORIAU</td><td>Urbán Viktoria</td><td>viktoria.urbán@mail.hu</td><td>3860 Encs Népboltsor  2.</td><td>1996-05-03</td><td>28</td><td>28</td></tr><tr><td>balint</td><td>Horváth Bálint</td><td>balint@gmail.com</td><td>6646 Tömörkény Endrődi Sándor utca 47.</td><td>1996-03-17</td><td>29</td><td>28</td></tr><tr><td>mark</td><td>Kispál Márk</td><td>márk.kispál@mail.hu</td><td>1086 Budapest Juhászföldi út 1.</td><td>1996-01-23</td><td>29</td><td>28</td></tr><tr><td>timea</td><td>Papós Tímea</td><td>timea@gmail.com</td><td>1035 Budapest  Kossuth út 77.</td><td>1996-01-08</td><td>29</td><td>29</td></tr><tr><td>maria1</td><td>Baráth Mária</td><td>mária.baráth@mail.hu</td><td>1047 Budapest Posta köz 2.</td><td>1995-11-19</td><td>29</td><td>29</td></tr><tr><td>miklos2</td><td>Gondos Miklós</td><td>miklos2@gmail.com</td><td>2100 Gödöllő Árpád utca 23.</td><td>1995-10-07</td><td>29</td><td>29</td></tr><tr><td>dora3</td><td>Sarodi Dóra</td><td>dóra.sarodi@mail.hu</td><td>2855 Bokod Fő út 18.</td><td>1995-05-18</td><td>29</td><td>29</td></tr><tr><td>ATTILAO</td><td>Opra Attila</td><td>ATTILAO@gmail.com</td><td>8283 Káptalantóti Rákóczi út 200.</td><td>1995-05-08</td><td>29</td><td>29</td></tr><tr><td>kati</td><td>Zatykó Katalin</td><td>katalin.zatykó@mail.hu</td><td>7511 Ötvöskónyi Kossuth Lajos utca 6.</td><td>1995-05-01</td><td>29</td><td>29</td></tr><tr><td>BELAF</td><td>Farkas Béla</td><td>BELAF@gmail.com</td><td>5530 Vésztő Petőfi Sándor utca 3.</td><td>1995-02-24</td><td>30</td><td>29</td></tr><tr><td>zsuzsanna</td><td>Barta Zsuzsanna</td><td>zsuzsanna.barta@mail.hu</td><td>4172 Biharnagybajom Dózsa György utca 37.</td><td>1994-10-07</td><td>30</td><td>30</td></tr><tr><td>beata4</td><td>Bagi Beáta</td><td>beáta.bagi@mail.hu</td><td>8477 Tüskevár Felszabadulás utca 32.</td><td>1994-03-19</td><td>31</td><td>30</td></tr><tr><td>polla</td><td>Palágyi Polla</td><td>polla@gmail.com</td><td>2484 Agárd Fő út 18.</td><td>1994-02-04</td><td>31</td><td>30</td></tr><tr><td>tibor</td><td>Gombos Tibor</td><td>tibor.gombos@mail.hu</td><td>7100 Szekszárd Kossuth utca 77.</td><td>1993-11-28</td><td>31</td><td>31</td></tr><tr><td>rajmond4</td><td>Rácz Rajmond</td><td>rajmond.rácz@mail.hu</td><td>9155 Lébény Petőfi utca 1/2.</td><td>1993-09-25</td><td>31</td><td>31</td></tr><tr><td>eszter4</td><td>Fülöp Eszter</td><td>eszter.fülöp@mail.hu</td><td>3643 Dédestapolcsány Kossuth Lajos utca 47/b.</td><td>1993-06-28</td><td>31</td><td>31</td></tr><tr><td>andrea</td><td>Kiss Andrea</td><td>andrea.kiss@mail.hu</td><td>1113 Budapest Petőfi Sándor utca 87.</td><td>1993-03-25</td><td>32</td><td>31</td></tr><tr><td>julia</td><td>Tóth Júlia</td><td>julia@gmail.com</td><td>5310 Kisújszállás Árpád utca 4.</td><td>1993-03-02</td><td>32</td><td>31</td></tr><tr><td>balazs1</td><td>Bozsik Balázs</td><td>balázs.bozsik@mail.hu</td><td>2300 Ráckeve Bécsi utca 82.</td><td>1992-11-03</td><td>32</td><td>32</td></tr><tr><td>SEBASTIANF</td><td>Foltényi Sebastián</td><td>SEBASTIANF@gmail.com</td><td>7960 Sellye Grassalkovich út 10.</td><td>1992-09-09</td><td>32</td><td>32</td></tr><tr><td>alexandra</td><td>Bagóczki Alexandra</td><td>alexandra.bagóczki@mail.hu</td><td>2381 Táborfalva Petőfi utca 1/2.</td><td>1992-03-25</td><td>33</td><td>32</td></tr><tr><td>sebestyen</td><td>Rab Sebestyén</td><td>sebestyen@gmail.com</td><td>7130 Tolna Központi telep 3.</td><td>1992-03-03</td><td>33</td><td>32</td></tr><tr><td>adam1</td><td>Kiss Ádám</td><td>ádám.kiss@mail.hu</td><td>5630 Békés Szolnoki út 8.</td><td>1991-12-28</td><td>33</td><td>33</td></tr><tr><td>norbert2</td><td>Hegedűs Norbert</td><td>norbert.hegedűs@mail.hu</td><td>2081 Piliscsaba Rendeki utca 21.</td><td>1991-07-17</td><td>33</td><td>33</td></tr><tr><td>tihamer</td><td>Kazy Tihamér</td><td>tihamér.kazy@mail.hu</td><td>2370 Dabas Fő utca 60.</td><td>1991-07-05</td><td>33</td><td>33</td></tr><tr><td>vivien3</td><td>Boros Vivien</td><td>vivien3@gmail.com</td><td>2117 Isaszeg Fő út 122.</td><td>1991-07-01</td><td>33</td><td>33</td></tr><tr><td>brigitta3</td><td>Pataki Brigitta</td><td>brigitta.pataki@mail.hu</td><td>2730 Albertirsa Rendeki utca 21.</td><td>1991-05-23</td><td>33</td><td>33</td></tr><tr><td>RENATAS</td><td>Szirmai Renáta</td><td>RENATAS@gmail.com</td><td>2053 Herceghalom Kossuth utca 27.</td><td>1991-03-26</td><td>34</td><td>33</td></tr><tr><td>david4</td><td>Berta Dávid</td><td>david4@gmail.com</td><td>3500 Miskolc Balatoni út 12.</td><td>1990-10-08</td><td>34</td><td>33</td></tr><tr><td>julianna4</td><td>Szabó Julianna</td><td>julianna4@gmail.com</td><td>6700 Szeged Kossuth Lajos utca 6.</td><td>1990-09-29</td><td>34</td><td>34</td></tr><tr><td>ilona3</td><td>Bosnyák Ilona</td><td>ilona3@gmail.com</td><td>2483 Gárdony Posta köz 2.</td><td>1990-08-06</td><td>34</td><td>34</td></tr><tr><td>szabolcs</td><td>Bodor Szabolcs</td><td>szabolcs.bodor@mail.hu</td><td>6786 Ruzsa Ady Endre út 27.</td><td>1990-07-16</td><td>34</td><td>34</td></tr><tr><td>arpad2</td><td>Ötvös Árpád</td><td>árpád.ötvös@mail.hu</td><td>2600 Vác Padragi út 158.</td><td>1990-06-08</td><td>34</td><td>34</td></tr><tr><td>GABORS</td><td>Szöllősi Gábor</td><td>GABORS@gmail.com</td><td>3630 Putnok Kossuth utca 27.</td><td>1990-05-31</td><td>34</td><td>34</td></tr><tr><td>ARPADH</td><td>Horváth Árpád</td><td>árpád.horváth@mail.hu</td><td>7349 Szászvár Dózsa György u. 1.</td><td>1990-05-18</td><td>34</td><td>34</td></tr><tr><td>annamaria1</td><td>Szűcs Annamária</td><td>annamária.szűcs@mail.hu</td><td>1191 Budapest Rendeki utca 21.</td><td>1990-04-27</td><td>34</td><td>34</td></tr><tr><td>balint1</td><td>Molnár Bálint</td><td>balint1@gmail.com</td><td>9181 Kimle Fő út 169.</td><td>1989-08-24</td><td>35</td><td>34</td></tr><tr><td>ARONK</td><td>Kelemen Áron</td><td>áron.kelemen@mail.hu</td><td>8200 Veszprém Petőfi utca 8.</td><td>1989-08-10</td><td>35</td><td>35</td></tr><tr><td>emese</td><td>Kuruc Emese</td><td>emese.kuruc@mail.hu</td><td>6700 Szeged Rákóczi utca 67.</td><td>1989-08-10</td><td>35</td><td>34</td></tr><tr><td>marton</td><td>Kalacsi Márton</td><td>marton@gmail.com</td><td>5137 Jászkisér Fő út 169.</td><td>1989-06-24</td><td>35</td><td>35</td></tr><tr><td>VIKTORK</td><td>Keresztúri Viktor</td><td>viktor.keresztúri@mail.hu</td><td>2532 Tokodaltáró Nagy Lajos tér 4.</td><td>1989-05-05</td><td>35</td><td>35</td></tr><tr><td>ISTVANV</td><td>Varga István</td><td>ISTVANV@gmail.com</td><td>6320 Solt Hősök tere 11.</td><td>1989-04-09</td><td>35</td><td>35</td></tr><tr><td>sandor3</td><td>Farkas Sándor</td><td>sándor.farkas@mail.hu</td><td>8640 Fonyód Tanácsköztársaság tér 1.</td><td>1989-01-27</td><td>36</td><td>35</td></tr><tr><td>roza2</td><td>Bucskó Róza</td><td>roza2@gmail.com</td><td>5661 Újkígyós Arany János utca 3.</td><td>1988-12-26</td><td>36</td><td>35</td></tr><tr><td>ANIKOS</td><td>Simon Anikó</td><td>ANIKOS@gmail.com</td><td>5137 Jászkisér Bécsi utca 82.</td><td>1988-12-14</td><td>36</td><td>36</td></tr><tr><td>AGNESK</td><td>Kovács Ágnes</td><td>AGNESK@gmail.com</td><td>1084 Budapest Endrődi Sándor utca 47.</td><td>1988-10-02</td><td>36</td><td>36</td></tr><tr><td>imre</td><td>Búza Imre</td><td>imre.búza@mail.hu</td><td>9181 Kimle Petőfi Sándor tér 1.</td><td>1988-09-30</td><td>36</td><td>36</td></tr><tr><td>zsolt1</td><td>Pulai Zsolt</td><td>zsolt.pulai@mail.hu</td><td>8391 Sármellék Fő utca 60.</td><td>1988-05-27</td><td>36</td><td>36</td></tr><tr><td>RENATAK</td><td>Kardos Renáta</td><td>renáta.kardos@mail.hu</td><td>7086 Ozora Bécsi utca 82.</td><td>1988-05-17</td><td>36</td><td>36</td></tr><tr><td>BERNADETTO</td><td>Orbán Bernadett</td><td>bernadett.orbán@mail.hu</td><td>5085 Rákóczifalva Arany János utca 1.</td><td>1987-12-07</td><td>37</td><td>36</td></tr><tr><td>KRISZTINAG</td><td>Gyárfás Krisztina</td><td>KRISZTINAG@gmail.com</td><td>6762 Sándorfalva Arany János utca 1.</td><td>1987-09-19</td><td>37</td><td>36</td></tr><tr><td>bence</td><td>Győrffy Bence</td><td>bence@gmail.com</td><td>6900 Makó Árpád utca 23.</td><td>1987-07-09</td><td>37</td><td>37</td></tr><tr><td>eszter</td><td>Molnár Eszter</td><td>eszter.molnár@mail.hu</td><td>6800 Hódmezővásárhely Fő út 77.</td><td>1987-05-10</td><td>37</td><td>37</td></tr><tr><td>gabor4</td><td>Telek Gábor</td><td>gábor.telek@mail.hu</td><td>9071 Görbeháza Fő út 169.</td><td>1987-03-15</td><td>38</td><td>37</td></tr><tr><td>henrik3</td><td>Nádudvari Henrik</td><td>henrik.nádudvari@mail.hu</td><td>1077 Budapest Tanácsköztársaság tér 1.</td><td>1986-12-05</td><td>38</td><td>37</td></tr><tr><td>ANDREAT</td><td>Tornyos Andrea</td><td>ANDREAT@gmail.com</td><td>6131 Szank Bécsi utca 82.</td><td>1986-11-14</td><td>38</td><td>38</td></tr><tr><td>dani</td><td>Vörös Dániel</td><td>daniel@gmail.com</td><td>7150 Bonyhád Dózsa György u. 1.</td><td>1986-10-14</td><td>38</td><td>38</td></tr><tr><td>balazs3</td><td>Bakódy Balázs</td><td>balazs3@gmail.com</td><td>2131 Göd Arany János utca 1.</td><td>1986-09-09</td><td>38</td><td>38</td></tr><tr><td>istvan</td><td>Soós István</td><td>istvan@gmail.com</td><td>2370 Dabas Kossuth utca 27.</td><td>1986-06-28</td><td>38</td><td>38</td></tr><tr><td>zoltan4</td><td>Barna Zoltán</td><td>zoltan4@gmail.com</td><td>8313 Balatongyörök Jászai tér 21.</td><td>1986-05-20</td><td>38</td><td>38</td></tr><tr><td>ARPADM</td><td>Móricz Árpád</td><td>árpád.móricz@mail.hu</td><td>3910 Tokaj Rákóczi utca 67.</td><td>1986-04-20</td><td>38</td><td>38</td></tr><tr><td>katalin4</td><td>Kertész Katalin</td><td>katalin4@gmail.com</td><td>2800 Tatabánya Búvár utca 4.</td><td>1986-04-13</td><td>38</td><td>38</td></tr><tr><td>valentin</td><td>Feró Valentin</td><td>valentin.feró@mail.hu</td><td>3895 Gönc Búvár utca 4.</td><td>1986-01-09</td><td>39</td><td>38</td></tr><tr><td>roland1</td><td>Ferencz Roland</td><td>roland.ferencz@mail.hu</td><td>2424 Előszállás Fő út 169.</td><td>1985-12-31</td><td>39</td><td>38</td></tr><tr><td>ZOLTANT</td><td>Tóth Zoltán</td><td>zoltán.tóth@mail.hu</td><td>4244 Újfehértó Posta köz 2.</td><td>1985-12-14</td><td>39</td><td>39</td></tr><tr><td>jozsef</td><td>Gergely József</td><td>jozsef@gmail.com</td><td>6050 Lajosmizse Fő út 18.</td><td>1985-11-01</td><td>39</td><td>39</td></tr><tr><td>peter4</td><td>Bíró Péter</td><td>péter.bíró@mail.hu</td><td>5137 Jászkisér Rákóczi utca 67.</td><td>1985-09-01</td><td>39</td><td>39</td></tr><tr><td>julia4</td><td>Nagy Júlia</td><td>julia4@gmail.com</td><td>7000 Sárbogárd Jászai tér 21.</td><td>1985-08-11</td><td>39</td><td>39</td></tr><tr><td>tibor2</td><td>Dániel Tibor</td><td>tibor2@gmail.com</td><td>6646 Tömörkény Árpád utca 23.</td><td>1985-02-02</td><td>40</td><td>39</td></tr><tr><td>balazs2</td><td>Szűcs Balázs</td><td>balázs.szűcs@mail.hu</td><td>3170 Szécsény Szabadság utca 95.</td><td>1984-10-31</td><td>40</td><td>39</td></tr><tr><td>bernadett1</td><td>Simon Bernadett</td><td>bernadett1@gmail.com</td><td>2300 Ráckeve Fő utca 108.</td><td>1984-10-13</td><td>40</td><td>40</td></tr><tr><td>JANOSP</td><td>Pálinkás János</td><td>JANOSP@gmail.com</td><td>5920 Csorvás Padragi út 158.</td><td>1984-10-12</td><td>40</td><td>40</td></tr><tr><td>tamas</td><td>Antal Tamás</td><td>tamás.antal@mail.hu</td><td>4440 Tiszavasvári Posta köz 2.</td><td>1984-09-05</td><td>40</td><td>40</td></tr><tr><td>edit</td><td>Bittmann Edit</td><td>edit.bittmann@mail.hu</td><td>6077 Orgovány Fő utca 60.</td><td>1984-04-20</td><td>40</td><td>40</td></tr><tr><td>andras4</td><td>Back András</td><td>andras4@gmail.com</td><td>3783 Edelény Fő út 169.</td><td>1984-04-07</td><td>40</td><td>40</td></tr><tr><td>csongor3</td><td>Nagymihály Csongor</td><td>csongor.nagymihály@mail.hu</td><td>9181 Kimle Deák Ferenc út 5.</td><td>1984-03-05</td><td>41</td><td>40</td></tr><tr><td>kristof4</td><td>Poprádi Kristóf</td><td>kristof4@gmail.com</td><td>8220 Balatonalmádi Mészáros utca 7.</td><td>1984-01-15</td><td>41</td><td>40</td></tr><tr><td>IBOLYAA</td><td>Andor Ibolya</td><td>ibolya.andor@mail.hu</td><td>9023 Győr Posta köz 2.</td><td>1983-11-27</td><td>41</td><td>41</td></tr><tr><td>zsofi1</td><td>Molnár Zsófi</td><td>zsofi1@gmail.com</td><td>2730 Albertirsa Árpád utca 23.</td><td>1983-11-17</td><td>41</td><td>41</td></tr><tr><td>ferenc1</td><td>Orosz Ferenc</td><td>ferenc.orosz@mail.hu</td><td>5061 Tiszasüly Arany János utca 3.</td><td>1983-10-08</td><td>41</td><td>41</td></tr><tr><td>ZSOLTJ</td><td>Józsa Zsolt</td><td>ZSOLTJ@gmail.com</td><td>8315 Gyenesdiás Bajcsy-Zsilinszky utca 4.</td><td>1983-09-29</td><td>41</td><td>41</td></tr><tr><td>veronika4</td><td>Tankó Veronika</td><td>veronika4@gmail.com</td><td>6412 Balotaszállás Rendeki utca 21.</td><td>1983-08-28</td><td>41</td><td>41</td></tr><tr><td>peter3</td><td>Szalai Péter</td><td>peter3@gmail.com</td><td>1155 Budapest Arany János utca 3.</td><td>1983-07-18</td><td>41</td><td>41</td></tr><tr><td>norbert4</td><td>Mile Norbert</td><td>norbert4@gmail.com</td><td>3973 Cigánd Bajcsy-Zsilinszky utca 4.</td><td>1983-06-15</td><td>41</td><td>41</td></tr><tr><td>georgij</td><td>Nyíri Georgij</td><td>georgij.nyíri@mail.hu</td><td>8391 Sármellék Grassalkovich út 10.</td><td>1983-02-23</td><td>42</td><td>41</td></tr><tr><td>gabriella1</td><td>Nagy Gabriella</td><td>gabriella1@gmail.com</td><td>1077 Budapest Dob utca 1</td><td>1982-11-01</td><td>42</td><td>41</td></tr><tr><td>attila1</td><td>Gulyás Attila</td><td>attila.gulyás@mail.hu</td><td>3881 Abaújszántó Szolnoki út 8.</td><td>1982-08-16</td><td>42</td><td>42</td></tr><tr><td>akos</td><td>Bíró Ákos</td><td>ákos.bíró@mail.hu</td><td>9023 Győr Kossuth Lajos utca 47/b.</td><td>1982-04-24</td><td>42</td><td>42</td></tr><tr><td>klaudia2</td><td>Bakó Klaudia</td><td>klaudia.bakó@mail.hu</td><td>8254 Kővágóörs Kossuth Lajos utca 6.</td><td>1982-04-16</td><td>42</td><td>42</td></tr><tr><td>AGNESH</td><td>Horváth Ágnes</td><td>AGNESH@gmail.com</td><td>8200 Veszprém Rákóczi utca 21.</td><td>1981-12-24</td><td>43</td><td>42</td></tr><tr><td>nikolett3</td><td>Horváth Nikolett</td><td>nikolett3@gmail.com</td><td>1072 Budapest Arany János utca 1.</td><td>1981-09-29</td><td>43</td><td>42</td></tr><tr><td>andrea4</td><td>Neizer Andrea</td><td>andrea4@gmail.com</td><td>1124 Budapest Kiss u. 8.</td><td>1981-05-17</td><td>43</td><td>43</td></tr><tr><td>BEATRIXS</td><td>Szekendi Beatrix</td><td>beatrix.szekendi@mail.hu</td><td>4060 Balmazújváros Jászai tér 21.</td><td>1981-04-06</td><td>43</td><td>43</td></tr><tr><td>EVAV</td><td>Viktor Éva</td><td>EVAV@gmail.com</td><td>6913 Csanádpalota Arany János utca 3.</td><td>1980-12-26</td><td>44</td><td>43</td></tr><tr><td>aladar</td><td>Dunai Aladár</td><td>aladár.dunai@mail.hu</td><td>5931 Nagyszénás Árpád utca 23.</td><td>1980-11-01</td><td>44</td><td>43</td></tr><tr><td>zsuzsa</td><td>Pusztai Zsuzsanna</td><td>zsuzsanna@gmail.com</td><td>6783 Ásotthalom Badacsonyi utca 12.</td><td>1980-09-17</td><td>44</td><td>44</td></tr><tr><td>ANDRASN</td><td>Nagy András</td><td>andrás.nagy@mail.hu</td><td>6500 Baja Fő út 169.</td><td>1980-09-05</td><td>44</td><td>44</td></tr><tr><td>SZABOLCSM</td><td>Miklós Szabolcs</td><td>szabolcs.miklós@mail.hu</td><td>1102 Budapest Fő út 169.</td><td>1980-08-11</td><td>44</td><td>44</td></tr><tr><td>tamara2</td><td>Miklós Tamara</td><td>tamara.miklós@mail.hu</td><td>3910 Tokaj Kossuth út 39.</td><td>1980-08-11</td><td>44</td><td>44</td></tr><tr><td>GYORGYO</td><td>Oroszi György</td><td>GYORGYO@gmail.com</td><td>7220 Sarkad Dózsa György u. 1.</td><td>1980-03-23</td><td>45</td><td>44</td></tr><tr><td>attila</td><td>Csóti Attila</td><td>attila@gmail.com</td><td>3000 Hatvan Bajcsy-Zsilinszky utca 4.</td><td>1979-12-25</td><td>45</td><td>44</td></tr><tr><td>agnes</td><td>Lengyel Ágnes</td><td>agnes@gmail.com</td><td>5200 Törökszentmiklós Deák Ferenc út 5.</td><td>1979-12-10</td><td>45</td><td>45</td></tr><tr><td>zoltan</td><td>Fodor Zoltán</td><td>zoltán.fodor@mail.hu</td><td>3441 Mezőkeresztes Fő utca 23.</td><td>1979-11-25</td><td>45</td><td>45</td></tr><tr><td>MIHALYJ</td><td>Juhász Mihály</td><td>mihály.juhász@mail.hu</td><td>6786 Ruzsa Rákóczi utca 1.</td><td>1979-10-12</td><td>45</td><td>45</td></tr><tr><td>krisztina</td><td>Szedlár Krisztina</td><td>krisztina@gmail.com</td><td>6646 Tömörkény Arany János utca 1.</td><td>1979-05-10</td><td>45</td><td>45</td></tr><tr><td>zsuzsa3</td><td>Varsányi Zsuzsa</td><td>zsuzsa.varsányi@mail.hu</td><td>8600 Siófok Árpád utca 4.</td><td>1979-03-06</td><td>46</td><td>45</td></tr><tr><td>MIKLOSB</td><td>Balla Miklós</td><td>miklós.balla@mail.hu</td><td>4060 Balmazújváros Szent István utca 2.</td><td>1979-02-16</td><td>46</td><td>45</td></tr><tr><td>daniel</td><td>Rácz Dániel</td><td>dániel.rácz@mail.hu</td><td>9181 Kimle Szabadság tér 9.</td><td>1978-11-28</td><td>46</td><td>46</td></tr><tr><td>lajos</td><td>Kiss Lajos</td><td>lajos.kiss@mail.hu</td><td>1077 Budapest Dob utca 1</td><td>1978-10-31</td><td>46</td><td>46</td></tr><tr><td>brigitta</td><td>Székely Brigitta</td><td>brigitta.székely@mail.hu</td><td>2462 Martonvásár Fő utca 47.</td><td>1978-09-13</td><td>46</td><td>46</td></tr><tr><td>jozsef2</td><td>Vajda József</td><td>józsef.vajda@mail.hu</td><td>6700 Szeged Baracsi László utca 14.</td><td>1978-09-04</td><td>46</td><td>46</td></tr><tr><td>ESZTERE</td><td>Érsek Eszter</td><td>eszter.érsek@mail.hu</td><td>6785 Pusztamérges Kossuth Lajos utca 6.</td><td>1978-08-28</td><td>46</td><td>46</td></tr><tr><td>kriszti</td><td>Horváth Krisztina</td><td>kriszti@gmail.com</td><td>6060 Tiszakécske Árpád utca 4.</td><td>1978-06-12</td><td>46</td><td>46</td></tr><tr><td>aniko4</td><td>Böröcz Anikó</td><td>aniko4@gmail.com</td><td>2484 Agárd Petőfi Sándor tér 1.</td><td>1978-03-26</td><td>47</td><td>46</td></tr><tr><td>andras21</td><td>Molnár András</td><td>andrás.molnár@mail.hu</td><td>7900 Szigetvár Rákóczi utca 67.</td><td>1977-11-16</td><td>47</td><td>46</td></tr><tr><td>bertalan</td><td>Csiger Bertalan</td><td>bertalan@gmail.com</td><td>1192 Budapest Fő út 169.</td><td>1977-10-15</td><td>47</td><td>47</td></tr><tr><td>ANNAMARIAR</td><td>Regős Annamária</td><td>ANNAMARIAR@gmail.com</td><td>8283 Káptalantóti Petőfi Sándor tér 1.</td><td>1977-09-26</td><td>47</td><td>47</td></tr><tr><td>ZOLTANP</td><td>Pintér Zoltán</td><td>zoltán.pintér@mail.hu</td><td>6050 Lajosmizse Fő út 18.</td><td>1977-06-07</td><td>47</td><td>47</td></tr><tr><td>robert2</td><td>Patay Róbert</td><td>robert2@gmail.com</td><td>2370 Dabas Rákóczi utca 21.</td><td>1977-01-08</td><td>48</td><td>47</td></tr><tr><td>ZSUZSAV</td><td>Vajda Zsuzsa</td><td>zsuzsa.vajda@mail.hu</td><td>6786 Ruzsa Kossuth utca 77.</td><td>1976-12-11</td><td>48</td><td>47</td></tr><tr><td>debora</td><td>Barna Debóra</td><td>debóra.barna@mail.hu</td><td>1155 Budapest Fő út 169.</td><td>1976-10-14</td><td>48</td><td>48</td></tr><tr><td>adam4</td><td>Bieniek Ádám</td><td>ádám.bieniek@mail.hu</td><td>8630 Balatonboglár Juhászföldi út 1.</td><td>1976-08-01</td><td>48</td><td>48</td></tr><tr><td>balu</td><td>Endresz Bálint</td><td>bálint.endresz@mail.hu</td><td>3973 Cigánd Fő út 169.</td><td>1976-08-01</td><td>48</td><td>48</td></tr><tr><td>imre1</td><td>Papp Imre</td><td>imre.papp@mail.hu</td><td>1077 Budapest Szolnoki út 8.</td><td>1976-06-25</td><td>48</td><td>48</td></tr><tr><td>peter1</td><td>Kozma Péter</td><td>peter1@gmail.com</td><td>6913 Csanádpalota Központi telep 3.</td><td>1976-03-18</td><td>49</td><td>48</td></tr><tr><td>peter2</td><td>Bozsó Péter</td><td>peter2@gmail.com</td><td>4800 Vásárosnamény Zombori út 2/A</td><td>1976-01-26</td><td>49</td><td>48</td></tr><tr><td>attila4</td><td>Baróti Attila</td><td>attila.baróti@mail.hu</td><td>7149 Báta Arany János utca 3.</td><td>1975-11-06</td><td>49</td><td>49</td></tr><tr><td>kornel4</td><td>Lukács Kornél</td><td>kornél.lukács@mail.hu</td><td>2053 Herceghalom Bécsi utca 82.</td><td>1975-09-30</td><td>49</td><td>49</td></tr><tr><td>timea2</td><td>Dusha Tímea</td><td>tímea.dusha@mail.hu</td><td>5920 Csorvás Kossuth utca 8.</td><td>1975-08-22</td><td>49</td><td>49</td></tr><tr><td>norbert5</td><td>Béres Norbert</td><td>norbert5@gmail.com</td><td>8640 Fonyód Bajcsy-Zsilinszky utca 4.</td><td>1975-07-27</td><td>49</td><td>49</td></tr><tr><td>JOZSEFG</td><td>Gyuris József</td><td>józsef.gyuris@mail.hu</td><td>2660 Balassagyarmat Petőfi utca 1/2.</td><td>1975-05-26</td><td>49</td><td>49</td></tr><tr><td>katka</td><td>Kovács Katalin</td><td>katalin.kovács@mail.hu</td><td>8254 Kővágóörs Petőfi utca 22.</td><td>1975-03-31</td><td>49</td><td>49</td></tr><tr><td>MATYASS</td><td>Szilágyi Mátyás</td><td>mátyás.szilágyi@mail.hu</td><td>9023 Győr Kossuth Lajos utca 6.</td><td>1975-03-22</td><td>50</td><td>49</td></tr><tr><td>denes</td><td>Tömböly Dénes</td><td>denes@gmail.com</td><td>2400 Dunaújváros Kossuth út 39.</td><td>1975-03-14</td><td>50</td><td>49</td></tr><tr><td>laszlo2</td><td>Móra László</td><td>lászló.móra@mail.hu</td><td>9970 Szentgotthárd Petőfi utca 1/2.</td><td>1975-02-19</td><td>50</td><td>50</td></tr><tr><td>JANOSG</td><td>Giliga János</td><td>JANOSG@gmail.com</td><td>3300 Eger Deák Ferenc út 5.</td><td>1975-01-03</td><td>50</td><td>50</td></tr><tr><td>MONIKAM</td><td>Mohos Mónika</td><td>mónika.mohos@mail.hu</td><td>2241 Sülysáp Baracsi László utca 14.</td><td>1974-10-01</td><td>50</td><td>50</td></tr><tr><td>GYONGYIK</td><td>Kornseé Gyöngyi</td><td>gyöngyi.kornseé@mail.hu</td><td>8800 Nagykanizsa Fő út 60.</td><td>1974-06-07</td><td>50</td><td>50</td></tr><tr><td>tunde</td><td>Turcsik Tünde</td><td>tunde@gmail.com</td><td>7130 Tolna Fő út 122.</td><td>1974-02-12</td><td>51</td><td>50</td></tr><tr><td>david</td><td>Ambrus Dávid</td><td>david@gmail.com</td><td>1149 Budapest Fő út 18.</td><td>1974-02-11</td><td>51</td><td>50</td></tr><tr><td>gabor1</td><td>Köves Gábor</td><td>gabor1@gmail.com</td><td>6762 Sándorfalva Árpád utca 23.</td><td>1973-07-15</td><td>51</td><td>51</td></tr><tr><td>BENCEB</td><td>Bajusz Bence</td><td>bence.bajusz@mail.hu</td><td>8391 Sármellék Fő utca 56.</td><td>1973-06-21</td><td>51</td><td>51</td></tr><tr><td>aniko</td><td>Tóth Anikó</td><td>aniko@gmail.com</td><td>2085 Pilisvörösvár Deák Ferenc út 5.</td><td>1973-06-03</td><td>51</td><td>51</td></tr><tr><td>sara</td><td>Farkas Sára</td><td>sára.farkas@mail.hu</td><td>5940 Tótkomlós Felszabadulás utca 32.</td><td>1973-04-05</td><td>51</td><td>51</td></tr><tr><td>matyas2</td><td>Botka Mátyás</td><td>matyas2@gmail.com</td><td>2700 Cegléd Kossuth Lajos utca 6.</td><td>1972-07-07</td><td>52</td><td>51</td></tr><tr><td>ROBERTP</td><td>Pásztor Róbert</td><td>ROBERTP@gmail.com</td><td>5137 Jászkisér Ady Endre út 27.</td><td>1972-05-16</td><td>52</td><td>52</td></tr><tr><td>BEATRIXK</td><td>Kerényi Beatrix</td><td>beatrix.kerényi@mail.hu</td><td>7396 Magyarszék Kossuth Lajos utca 47/b.</td><td>1972-04-06</td><td>52</td><td>52</td></tr><tr><td>nikoletta4</td><td>Kő Nikoletta</td><td>nikoletta4@gmail.com</td><td>5537 Zsadány Fő út 18.</td><td>1972-01-10</td><td>53</td><td>52</td></tr><tr><td>eva2</td><td>Perlinger Éva</td><td>eva2@gmail.com</td><td>9653 Répcelak Bécsi utca 82.</td><td>1971-08-19</td><td>53</td><td>52</td></tr><tr><td>aron2</td><td>Jakab Áron</td><td>aron2@gmail.com</td><td>7133 Fadd Bajcsy-Zsilinszky utca 4.</td><td>1971-04-26</td><td>53</td><td>53</td></tr><tr><td>andras3</td><td>Vígh András</td><td>andrás.vígh@mail.hu</td><td>1118 Budapest Arany János utca 1.</td><td>1971-04-02</td><td>53</td><td>53</td></tr><tr><td>anita</td><td>Hamvay-Kovács Anita</td><td>anita.hamvay-kovács@mail.hu</td><td>7220 Sarkad Táncsics utca 19.</td><td>1971-03-20</td><td>54</td><td>53</td></tr><tr><td>szilvia1</td><td>Tari Szilvia</td><td>szilvia.tari@mail.hu</td><td>6080 Szabadszállás Bécsi utca 82.</td><td>1971-03-09</td><td>54</td><td>53</td></tr><tr><td>david1</td><td>Sobják Dávid</td><td>david1@gmail.com</td><td>5083 Kengyel Arany János utca 3.</td><td>1970-08-16</td><td>54</td><td>54</td></tr><tr><td>krisztian4</td><td>Czérna Krisztián</td><td>krisztián.czérna@mail.hu</td><td>1107 Budapest Dózsa György utca 37.</td><td>1970-08-01</td><td>54</td><td>54</td></tr><tr><td>adam3</td><td>Barkóci Ádám</td><td>adam3@gmail.com</td><td>3910 Tokaj Dózsa György utca 37.</td><td>1970-06-07</td><td>54</td><td>54</td></tr><tr><td>sandor</td><td>Karasz Sándor</td><td>sandor@gmail.com</td><td>8283 Káptalantóti Kossuth Lajos utca 1/a.</td><td>1970-01-27</td><td>55</td><td>54</td></tr><tr><td>reka4</td><td>Szikszai Réka</td><td>réka.szikszai@mail.hu</td><td>8254 Kővágóörs Templom utca 73.</td><td>1969-11-27</td><td>55</td><td>54</td></tr><tr><td>krisztina1</td><td>Bori Krisztina</td><td>krisztina.bori@mail.hu</td><td>2115 Vácszentlászló Fő utca 47.</td><td>1969-10-13</td><td>55</td><td>55</td></tr><tr><td>norbert</td><td>Szűcs Norbert</td><td>norbert@gmail.com</td><td>5071 Besenyszög Győri utca 12.</td><td>1969-07-17</td><td>55</td><td>55</td></tr><tr><td>daniel1</td><td>Keszler Dániel</td><td>dániel.keszler@mail.hu</td><td>3580 Tiszaújváros Kossuth Lajos utca 6.</td><td>1969-07-16</td><td>55</td><td>55</td></tr><tr><td>LASZLOA</td><td>Antal László</td><td>lászló.antal@mail.hu</td><td>2484 Agárd Bécsi utca 82.</td><td>1969-06-29</td><td>55</td><td>55</td></tr><tr><td>gabriella10</td><td>Vida Gabriella</td><td>gabriella10@gmail.com</td><td>2484 Agárd Arany János utca 3.</td><td>1969-06-18</td><td>55</td><td>55</td></tr><tr><td>LASZLON</td><td>Nagy László</td><td>lászló.nagy@mail.hu</td><td>1173 Budapest Jászai tér 21.</td><td>1969-04-12</td><td>55</td><td>55</td></tr><tr><td>PETERB</td><td>Berendi Péter</td><td>péter.berendi@mail.hu</td><td>3980 Sátoraljaújhely Vasút utca 4/10.</td><td>1969-01-01</td><td>56</td><td>55</td></tr><tr><td>NANDORF</td><td>Fő Nándor</td><td>nándor.fő@mail.hu</td><td>5920 Csorvás Bécsi utca 82.</td><td>1968-11-12</td><td>56</td><td>55</td></tr><tr><td>kata</td><td>Gondos Katalin</td><td>katalin.gondos@mail.hu</td><td>8237 Tihany Kossuth Lajos utca 6.</td><td>1968-06-22</td><td>56</td><td>56</td></tr><tr><td>KRISZTIANM</td><td>Mogyródi Krisztián</td><td>KRISZTIANM@gmail.com</td><td>9155 Lébény Jászai tér 21.</td><td>1968-05-27</td><td>56</td><td>56</td></tr><tr><td>andi</td><td>Maródi Andrea</td><td>andrea.maródi@mail.hu</td><td>5465 Cserkeszőlő Árpád utca 4.</td><td>1968-05-07</td><td>56</td><td>56</td></tr><tr><td>roland</td><td>Tóth Roland</td><td>roland@gmail.com</td><td>2000 Szentendre Fő út 169.</td><td>1968-03-21</td><td>57</td><td>56</td></tr><tr><td>pal</td><td>Barabás Pál</td><td>pál.barabás@mail.hu</td><td>1183 Budapest Szolnoki út 8.</td><td>1968-02-06</td><td>57</td><td>56</td></tr><tr><td>katalin</td><td>Horváth Katalin</td><td>katalin.horváth@mail.hu</td><td>2424 Előszállás Rákóczi út 200.</td><td>1968-01-01</td><td>57</td><td>57</td></tr><tr><td>janos3</td><td>Harangozó János</td><td>janos3@gmail.com</td><td>8700 Marcali Petőfi Sándor tér 1.</td><td>1967-11-02</td><td>57</td><td>57</td></tr><tr><td>laszlo1</td><td>Farkas László</td><td>lászló.farkas@mail.hu</td><td>5200 Törökszentmiklós Rendeki utca 21.</td><td>1967-10-30</td><td>57</td><td>57</td></tr><tr><td>SZILARDS</td><td>Szalai Szilárd</td><td>szilárd.szalai@mail.hu</td><td>1077 Budapest Fő út 18.</td><td>1967-09-28</td><td>57</td><td>57</td></tr><tr><td>ROBERTI</td><td>Iván Róbert</td><td>róbert.iván@mail.hu</td><td>2377 Örkény Petőfi Sándor utca 3.</td><td>1967-07-02</td><td>57</td><td>57</td></tr><tr><td>eva</td><td>Enyedi Éva</td><td>eva@gmail.com</td><td>4231 Bököny Petőfi utca 8.</td><td>1967-06-30</td><td>57</td><td>57</td></tr><tr><td>agnes3</td><td>Hartyánszky Ágnes</td><td>agnes3@gmail.com</td><td>6430 Bácsalmás Posta köz 2.</td><td>1967-04-11</td><td>57</td><td>57</td></tr><tr><td>gusztav</td><td>Bárci Gusztáv</td><td>gusztav@gmail.com</td><td>3643 Dédestapolcsány Endrődi Sándor utca 47.</td><td>1967-02-25</td><td>58</td><td>57</td></tr><tr><td>anett3</td><td>Pivarcsi Anett</td><td>anett.pivarcsi@mail.hu</td><td>1149 Budapest Fő út 60.</td><td>1967-01-03</td><td>58</td><td>57</td></tr></table>"
                    },
                    "metadata": {}
                }
            ],
            "execution_count": 31
        },
        {
            "cell_type": "code",
            "source": [
                "--3.feladat\r\n",
                "select distinct v.USERNEV, v.NEV\r\n",
                "from vendeg v join Foglalas f on v.USERNEV=f.UGYFEL_FK    --mivel inner join ezert biztos hogy foglaltak egyszer\r\n",
                "where not exists\r\n",
                "(\r\n",
                "    select *\r\n",
                "    from foglalas f2\r\n",
                "    where f2.UGYFEL_FK=f.UGYFEL_FK AND               --ha NOT IN-t hasznalok nem kell ez a sor mert a korrelacio csak az exists-nél kell\r\n",
                "          f2.FELNOTT_SZAM+f2.GYERMEK_SZAM <>2\r\n",
                ")"
            ],
            "metadata": {
                "azdata_cell_guid": "817ecea1-52cc-4a07-b5aa-a5849f29ff27",
                "language": "sql"
            },
            "outputs": [],
            "execution_count": null
        }
    ]
}