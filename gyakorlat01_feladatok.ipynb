{
    "metadata": {
        "kernelspec": {
            "name": "SQL",
            "display_name": "SQL",
            "language": "sql"
        },
        "language_info": {
            "name": "sql",
            "version": ""
        },
        "extensions": {
            "azuredatastudio": {
                "version": 1,
                "views": []
            }
        }
    },
    "nbformat_minor": 2,
    "nbformat": 4,
    "cells": [
        {
            "cell_type": "markdown",
            "source": [
                "1. Listázzuk a <span style=\"color: #800000;\">`kolcsonzes`</span> tábla következő oszlopait: ID, ki\\_datum, vissza\\_datum! \n",
                "\n",
                "  \n",
                "\n",
                "a.  Az ID oszlop neve legyen Azonosító\n",
                "\n",
                "b.  A ki\\_datum oszlop neve legyen Kölcsönzés\\_dátuma\n",
                "\n",
                "c.  A vissza\\_datum oszlop neve legyen Visszahozatal\\_dátuma"
            ],
            "metadata": {
                "azdata_cell_guid": "77f2d5b3-38e9-41cc-893f-f5afd02b97ef"
            },
            "attachments": {}
        },
        {
            "cell_type": "code",
            "source": [
                "SELECT ID AS 'Azonosító', --kölcsönző azonosítója\r\n",
                "        ki_datum AS 'Kölcsönzés dátuma',\r\n",
                "        vissza_datum AS 'Visszahozatal dátuma'\r\n",
                "FROM kolcsonzesek "
            ],
            "metadata": {
                "azdata_cell_guid": "bd3cef1a-4e6e-4ece-9dc3-aaa9d2b5d66d",
                "language": "sql"
            },
            "outputs": [
                {
                    "output_type": "display_data",
                    "data": {
                        "text/html": "(5 rows affected)"
                    },
                    "metadata": {}
                },
                {
                    "output_type": "display_data",
                    "data": {
                        "text/html": "Total execution time: 00:00:00.005"
                    },
                    "metadata": {}
                },
                {
                    "output_type": "execute_result",
                    "execution_count": 2,
                    "data": {
                        "application/vnd.dataresource+json": {
                            "schema": {
                                "fields": [
                                    {
                                        "name": "Azonosító"
                                    },
                                    {
                                        "name": "Kölcsönzés dátuma"
                                    },
                                    {
                                        "name": "Visszahozatal dátuma"
                                    }
                                ]
                            },
                            "data": [
                                {
                                    "Azonosító": "10",
                                    "Kölcsönzés dátuma": "2003-12-11",
                                    "Visszahozatal dátuma": "NULL"
                                },
                                {
                                    "Azonosító": "11",
                                    "Kölcsönzés dátuma": "2003-12-11",
                                    "Visszahozatal dátuma": "NULL"
                                },
                                {
                                    "Azonosító": "12",
                                    "Kölcsönzés dátuma": "2003-12-11",
                                    "Visszahozatal dátuma": "NULL"
                                },
                                {
                                    "Azonosító": "13",
                                    "Kölcsönzés dátuma": "2006-10-01",
                                    "Visszahozatal dátuma": "2006-10-10"
                                },
                                {
                                    "Azonosító": "14",
                                    "Kölcsönzés dátuma": "2006-10-02",
                                    "Visszahozatal dátuma": "2006-10-09"
                                }
                            ]
                        },
                        "text/html": "<table><tr><th>Azonosító</th><th>Kölcsönzés dátuma</th><th>Visszahozatal dátuma</th></tr><tr><td>10</td><td>2003-12-11</td><td>NULL</td></tr><tr><td>11</td><td>2003-12-11</td><td>NULL</td></tr><tr><td>12</td><td>2003-12-11</td><td>NULL</td></tr><tr><td>13</td><td>2006-10-01</td><td>2006-10-10</td></tr><tr><td>14</td><td>2006-10-02</td><td>2006-10-09</td></tr></table>"
                    },
                    "metadata": {}
                }
            ],
            "execution_count": 2
        },
        {
            "cell_type": "markdown",
            "source": [
                "2. Melyek azok a kölcsönzések, amelyek 2005.01.01 és 2007.01.01 között történtek?"
            ],
            "metadata": {
                "azdata_cell_guid": "88f5b4bb-f4c1-4bad-a0c7-b2592687b422"
            },
            "attachments": {}
        },
        {
            "cell_type": "code",
            "source": [
                "SELECT *\r\n",
                "FROM kolcsonzesek\r\n",
                "WHERE ki_datum BETWEEN '2005.01.01' AND '2007.01.01' --végpontok is benne vannak \r\n",
                "-- WHERE ki_datum >= '2005.01.01' AND "
            ],
            "metadata": {
                "azdata_cell_guid": "e9de5726-f036-4fb9-8c33-a873955ed886",
                "language": "sql"
            },
            "outputs": [
                {
                    "output_type": "display_data",
                    "data": {
                        "text/html": "(2 rows affected)"
                    },
                    "metadata": {}
                },
                {
                    "output_type": "display_data",
                    "data": {
                        "text/html": "Total execution time: 00:00:00.004"
                    },
                    "metadata": {}
                },
                {
                    "output_type": "execute_result",
                    "execution_count": 4,
                    "data": {
                        "application/vnd.dataresource+json": {
                            "schema": {
                                "fields": [
                                    {
                                        "name": "ID"
                                    },
                                    {
                                        "name": "ki"
                                    },
                                    {
                                        "name": "mit"
                                    },
                                    {
                                        "name": "ki_datum"
                                    },
                                    {
                                        "name": "vissza_datum"
                                    }
                                ]
                            },
                            "data": [
                                {
                                    "ID": "13",
                                    "ki": "1",
                                    "mit": "3",
                                    "ki_datum": "2006-10-01",
                                    "vissza_datum": "2006-10-10"
                                },
                                {
                                    "ID": "14",
                                    "ki": "2",
                                    "mit": "3",
                                    "ki_datum": "2006-10-02",
                                    "vissza_datum": "2006-10-09"
                                }
                            ]
                        },
                        "text/html": "<table><tr><th>ID</th><th>ki</th><th>mit</th><th>ki_datum</th><th>vissza_datum</th></tr><tr><td>13</td><td>1</td><td>3</td><td>2006-10-01</td><td>2006-10-10</td></tr><tr><td>14</td><td>2</td><td>3</td><td>2006-10-02</td><td>2006-10-09</td></tr></table>"
                    },
                    "metadata": {}
                }
            ],
            "execution_count": 4
        },
        {
            "cell_type": "markdown",
            "source": [
                "3. Melyek azok a tagok, akiknek kedvenc stílusa a játék, és nevük a-ra végződik?\n",
                "\n",
                "  \n",
                "\n",
                "a.  Csak a tagok neve jelenjen meg, az oszlop neve Név legyen"
            ],
            "metadata": {
                "azdata_cell_guid": "9e7249de-1b59-43d8-84b1-26fa7d81fc5a"
            },
            "attachments": {}
        },
        {
            "cell_type": "code",
            "source": [
                "SELECT nev AS 'név'\r\n",
                "FROM tagok \r\n",
                "WHERE nev LIKE '%a' AND \r\n",
                "    kedvencstilus='játék'"
            ],
            "metadata": {
                "azdata_cell_guid": "6405d3e8-a9b1-45d7-aa76-3b1e785ef6cc",
                "language": "sql"
            },
            "outputs": [
                {
                    "output_type": "display_data",
                    "data": {
                        "text/html": "(2 rows affected)"
                    },
                    "metadata": {}
                },
                {
                    "output_type": "display_data",
                    "data": {
                        "text/html": "Total execution time: 00:00:00.004"
                    },
                    "metadata": {}
                },
                {
                    "output_type": "execute_result",
                    "execution_count": 6,
                    "data": {
                        "application/vnd.dataresource+json": {
                            "schema": {
                                "fields": [
                                    {
                                        "name": "név"
                                    }
                                ]
                            },
                            "data": [
                                {
                                    "név": "Bodó Kinga"
                                },
                                {
                                    "név": "Garay Magdolna"
                                }
                            ]
                        },
                        "text/html": "<table><tr><th>név</th></tr><tr><td>Bodó Kinga</td></tr><tr><td>Garay Magdolna</td></tr></table>"
                    },
                    "metadata": {}
                }
            ],
            "execution_count": 6
        },
        {
            "cell_type": "markdown",
            "source": [
                "4. Listázzuk egy oszlopban a tagok nevét, címét és kedvenc stílusát összefűzve! \n",
                "\n",
                "  \n",
                "\n",
                "a.  A nevet, címet és a stílust kötőjellel válasszuk el\n",
                "\n",
                "b.  A kötőjelek előtt és után legyen 1-1 szóköz\n",
                "\n",
                "c.  Az oszlop neve legyen TAG\n",
                "\n",
                "d.  Kinga keresztnevű tagok ne legyenek benne a listában"
            ],
            "metadata": {
                "azdata_cell_guid": "6478e469-c094-472c-a772-ccd5b5c61516"
            },
            "attachments": {}
        },
        {
            "cell_type": "code",
            "source": [
                "valami megint"
            ],
            "metadata": {
                "azdata_cell_guid": "02031ea2-3838-458d-839c-228e3b362b61",
                "language": "sql"
            },
            "outputs": [],
            "execution_count": null
        },
        {
            "cell_type": "markdown",
            "source": [
                "5. Mennyi lenne a dvd-k nettó ára, ha 20%-kal csökkenne? \n",
                "\n",
                "  \n",
                "\n",
                "a.  Csak a dvd-k címét és a csökkentett árat jelenítsük meg\n",
                "\n",
                "b.  A csökkentett árat nevezzük el diszkont\\_ar-nak"
            ],
            "metadata": {
                "azdata_cell_guid": "9edbbaf9-c276-4898-9a01-e1b2993c089f"
            },
            "attachments": {}
        },
        {
            "cell_type": "code",
            "source": [
                "SELECT cim AS 'cím',\r\n",
                "        nettoar * 0.8 AS 'diszkont ár'\r\n",
                "FROM dvd"
            ],
            "metadata": {
                "azdata_cell_guid": "5ad5fdcb-2878-4111-861a-833bcd50e935",
                "language": "sql"
            },
            "outputs": [
                {
                    "output_type": "display_data",
                    "data": {
                        "text/html": "(318 rows affected)"
                    },
                    "metadata": {}
                },
                {
                    "output_type": "display_data",
                    "data": {
                        "text/html": "Total execution time: 00:00:00.008"
                    },
                    "metadata": {}
                },
                {
                    "output_type": "execute_result",
                    "execution_count": 14,
                    "data": {
                        "application/vnd.dataresource+json": {
                            "schema": {
                                "fields": [
                                    {
                                        "name": "cím"
                                    },
                                    {
                                        "name": "diszkont ár"
                                    }
                                ]
                            },
                            "data": [
                                {
                                    "cím": "NULL",
                                    "diszkont ár": "3087,2000000000003"
                                },
                                {
                                    "cím": "A II. világháború története (1999)",
                                    "diszkont ár": "3395,2000000000003"
                                },
                                {
                                    "cím": "3D Dinosaur - adventure",
                                    "diszkont ár": "4032,8"
                                },
                                {
                                    "cím": "3D virtuális origami (2000)",
                                    "diszkont ár": "4284"
                                },
                                {
                                    "cím": "Az 1848-1849-iki szabadságharc története (2002)",
                                    "diszkont ár": "4560"
                                },
                                {
                                    "cím": "Ablak zsiráf (1999)",
                                    "diszkont ár": "2832"
                                },
                                {
                                    "cím": "Ady Endre összes művei (1999)",
                                    "diszkont ár": "3392,8"
                                },
                                {
                                    "cím": "Afrika",
                                    "diszkont ár": "4254,400000000001"
                                },
                                {
                                    "cím": "Age of Empires (2000)",
                                    "diszkont ár": "3585,6000000000004"
                                },
                                {
                                    "cím": "Airport Inc.",
                                    "diszkont ár": "3448,8"
                                },
                                {
                                    "cím": "American Rodeo : BullRider 2000 (2001)",
                                    "diszkont ár": "4472,8"
                                },
                                {
                                    "cím": "Angol : 8-10 éveseknek (2002)",
                                    "diszkont ár": "3882,4"
                                },
                                {
                                    "cím": "Angol és német nyelvtani gyakorlatok (2002)",
                                    "diszkont ár": "3924,8"
                                },
                                {
                                    "cím": "Angol szótanító CD-ROM",
                                    "diszkont ár": "3559,2000000000003"
                                },
                                {
                                    "cím": "Angol szótanító CD-ROM",
                                    "diszkont ár": "3555,2000000000003"
                                },
                                {
                                    "cím": "Angol szótár (1996)",
                                    "diszkont ár": "2807,2000000000003"
                                },
                                {
                                    "cím": "Angol-magyar, Magyar-angol hangosszótár",
                                    "diszkont ár": "4120,8"
                                },
                                {
                                    "cím": "Angol-magyar nagyszótár (Halász Előd)",
                                    "diszkont ár": "4510,400000000001"
                                },
                                {
                                    "cím": "Az áramvonalas fakanál",
                                    "diszkont ár": "4564,8"
                                },
                                {
                                    "cím": "Arany János: A bajusz (2002)",
                                    "diszkont ár": "2712,8"
                                },
                                {
                                    "cím": "Az Árpád-ház története",
                                    "diszkont ár": "4017,6000000000004"
                                },
                                {
                                    "cím": "Art Attack (1998)",
                                    "diszkont ár": "3131,2000000000003"
                                },
                                {
                                    "cím": "Art puzzle (1998)",
                                    "diszkont ár": "4628,8"
                                },
                                {
                                    "cím": "Az ásványok világa",
                                    "diszkont ár": "4499,2"
                                },
                                {
                                    "cím": "Ausztrália",
                                    "diszkont ár": "4260,8"
                                },
                                {
                                    "cím": "Auto 2000 - Kerékvilág",
                                    "diszkont ár": "3570,4"
                                },
                                {
                                    "cím": "Ázsia (2000)",
                                    "diszkont ár": "2498,4"
                                },
                                {
                                    "cím": "Biblia (1995)",
                                    "diszkont ár": "3552"
                                },
                                {
                                    "cím": "Biológia '97",
                                    "diszkont ár": "4434,400000000001"
                                },
                                {
                                    "cím": "Biológia (2000)",
                                    "diszkont ár": "3055,2000000000003"
                                },
                                {
                                    "cím": "Biológia (2001)",
                                    "diszkont ár": "3033,6000000000004"
                                },
                                {
                                    "cím": "Biológia : 12-14 éveseknek (2003)",
                                    "diszkont ár": "2785,6000000000004"
                                },
                                {
                                    "cím": "Blinky Bill : A fantasztikus léggömbkaland",
                                    "diszkont ár": "3260,8"
                                },
                                {
                                    "cím": "Broken Sword II. (cop. 1997)",
                                    "diszkont ár": "3601,6000000000004"
                                },
                                {
                                    "cím": "Budapest kalauz",
                                    "diszkont ár": "3243,2000000000003"
                                },
                                {
                                    "cím": "Budapest Museum",
                                    "diszkont ár": "4233,6"
                                },
                                {
                                    "cím": "Buggy",
                                    "diszkont ár": "4664"
                                },
                                {
                                    "cím": "Byte Magyarország (2002)",
                                    "diszkont ár": "2621,6000000000004"
                                },
                                {
                                    "cím": "Caesar III.",
                                    "diszkont ár": "3308,8"
                                },
                                {
                                    "cím": "Capitalism II. (2001)",
                                    "diszkont ár": "4849,6"
                                },
                                {
                                    "cím": "Capitalism Plus",
                                    "diszkont ár": "4024"
                                },
                                {
                                    "cím": "Castle Explorer",
                                    "diszkont ár": "2965,6000000000004"
                                },
                                {
                                    "cím": "CD Panoráma 1-4. (1998)",
                                    "diszkont ár": "4337,6"
                                },
                                {
                                    "cím": "Computer iskola (1998)",
                                    "diszkont ár": "4208"
                                },
                                {
                                    "cím": "Csizmás kandúr (1998)",
                                    "diszkont ár": "4745,6"
                                },
                                {
                                    "cím": "Csodálatos univerzum (1997)",
                                    "diszkont ár": "3269,6000000000004"
                                },
                                {
                                    "cím": "Dél-Amerika (1999)",
                                    "diszkont ár": "3199,2000000000003"
                                },
                                {
                                    "cím": "Dementia 1-5. (1997)",
                                    "diszkont ár": "4735,2"
                                },
                                {
                                    "cím": "Deutsch: Anfanger (kezdő) + Telepítő ",
                                    "diszkont ár": "4506,400000000001"
                                },
                                {
                                    "cím": "Deutsch: Fortgeschrittene (haladó) + Installation",
                                    "diszkont ár": "4627,2"
                                },
                                {
                                    "cím": "Deutsch: Mittelstufe (középhaladó)+ Telepítő",
                                    "diszkont ár": "3501,6000000000004"
                                },
                                {
                                    "cím": "Diablo",
                                    "diszkont ár": "4775,2"
                                },
                                {
                                    "cím": "Diablo II. (2000)",
                                    "diszkont ár": "3920"
                                },
                                {
                                    "cím": "Dicső napok és hétköznapok 1848 - Digitális forrásgyűjtemény 1.",
                                    "diszkont ár": "4488,8"
                                },
                                {
                                    "cím": "Dreams to Reality 1-2. (1997)",
                                    "diszkont ár": "3759,2000000000003"
                                },
                                {
                                    "cím": "Duke Nukem 3D",
                                    "diszkont ár": "4379,2"
                                },
                                {
                                    "cím": "Dungeon Keeper 2. (1999)",
                                    "diszkont ár": "2695,2000000000003"
                                },
                                {
                                    "cím": "E-Games : Collector's Edition (2001)",
                                    "diszkont ár": "4466,400000000001"
                                },
                                {
                                    "cím": "Éléstár (1998)",
                                    "diszkont ár": "2606,4"
                                },
                                {
                                    "cím": "Élet a polgárosodó Magyarországon (2001)",
                                    "diszkont ár": "4457,6"
                                },
                                {
                                    "cím": "Életképek 1848 (1998)",
                                    "diszkont ár": "3368,8"
                                },
                                {
                                    "cím": "Az ember tragédiája",
                                    "diszkont ár": "3436"
                                },
                                {
                                    "cím": "Encarta World Atlas '99 1-2. (1998)",
                                    "diszkont ár": "4267,2"
                                },
                                {
                                    "cím": "Enemy Engaged RAH-66",
                                    "diszkont ár": "4173,6"
                                },
                                {
                                    "cím": "English 1-2. + Telepítő",
                                    "diszkont ár": "4172"
                                },
                                {
                                    "cím": "English: Intermediate (haladó)",
                                    "diszkont ár": "2901,6000000000004"
                                },
                                {
                                    "cím": "English by Stealth  lásd: Lopva angolul",
                                    "diszkont ár": "3582,4"
                                },
                                {
                                    "cím": "Erdély (1996)",
                                    "diszkont ár": "3999,2000000000003"
                                },
                                {
                                    "cím": "Espanol: Intermedio + Telepítő",
                                    "diszkont ár": "3131,2000000000003"
                                },
                                {
                                    "cím": "Espanol: Principiante + Telepítő",
                                    "diszkont ár": "4705,6"
                                },
                                {
                                    "cím": "Észak-Amerika",
                                    "diszkont ár": "3195,2000000000003"
                                },
                                {
                                    "cím": "Európa",
                                    "diszkont ár": "4216"
                                },
                                {
                                    "cím": "The F.A. Premier League Stars 2001",
                                    "diszkont ár": "3096,8"
                                },
                                {
                                    "cím": "Felvételi példatár : Angol",
                                    "diszkont ár": "3100,8"
                                },
                                {
                                    "cím": "Felvételi példatár : Biológia, földrajz",
                                    "diszkont ár": "2572"
                                },
                                {
                                    "cím": "Felvételi példatár : Kémia, fizika",
                                    "diszkont ár": "4680,8"
                                },
                                {
                                    "cím": "Felvételi példatár : Magyar nyelv és irodalom",
                                    "diszkont ár": "4764"
                                },
                                {
                                    "cím": "Felvételi példatár : Matematika",
                                    "diszkont ár": "4007,2000000000003"
                                },
                                {
                                    "cím": "Felvételi példatár : Német",
                                    "diszkont ár": "2481,6000000000004"
                                },
                                {
                                    "cím": "FIFA, 2000 (1999)",
                                    "diszkont ár": "4047,2000000000003"
                                },
                                {
                                    "cím": "Fighting Force (1998)",
                                    "diszkont ár": "3840"
                                },
                                {
                                    "cím": "Final Liberation (1997)",
                                    "diszkont ár": "3705,6000000000004"
                                },
                                {
                                    "cím": "Fitness mesterfokon / Béres Alexandra (2001)",
                                    "diszkont ár": "3685,6000000000004"
                                },
                                {
                                    "cím": "Fizika : 12-14 éveseknek (2002)",
                                    "diszkont ár": "2987,2000000000003"
                                },
                                {
                                    "cím": "Fizika felkészítő az érettségi és felvételi vizsgára",
                                    "diszkont ár": "3848"
                                },
                                {
                                    "cím": "Fizika világa (2001)",
                                    "diszkont ár": "4610,400000000001"
                                },
                                {
                                    "cím": "A Föld élővilága",
                                    "diszkont ár": "4720"
                                },
                                {
                                    "cím": "Földrajz: 10-14 éveseknek (2002)",
                                    "diszkont ár": "3144"
                                },
                                {
                                    "cím": "Földrajz: érettségi előkészítő (2002)",
                                    "diszkont ár": "2538,4"
                                },
                                {
                                    "cím": "Francais 1-2. + Telepítő",
                                    "diszkont ár": "3230,4"
                                },
                                {
                                    "cím": "Francais: Débutan (kezdő) + Telepítő",
                                    "diszkont ár": "3016"
                                },
                                {
                                    "cím": "Francais: Moyen + Telepítő",
                                    "diszkont ár": "4495,2"
                                },
                                {
                                    "cím": "Francia-magyar szótár",
                                    "diszkont ár": "2852,8"
                                },
                                {
                                    "cím": "Funschool in Dreamland (1995)",
                                    "diszkont ár": "3812,8"
                                },
                                {
                                    "cím": "Geolexikon 4.2 : földtani adatbázis (2002)",
                                    "diszkont ár": "3681,6000000000004"
                                },
                                {
                                    "cím": "Gépírás 2000",
                                    "diszkont ár": "3148,8"
                                },
                                {
                                    "cím": "Gondolattár: aforizmák, szállóigék",
                                    "diszkont ár": "4276,8"
                                },
                                {
                                    "cím": "GTA 2",
                                    "diszkont ár": "4004"
                                },
                                {
                                    "cím": "Hadiflották I. (2002)",
                                    "diszkont ár": "4099,2"
                                },
                                {
                                    "cím": "Hadtudományi lexikon (1998)",
                                    "diszkont ár": "2812"
                                },
                                {
                                    "cím": "Hajdúböszörmény",
                                    "diszkont ár": "3024,8"
                                },
                                {
                                    "cím": "Halak, kétéltűek, hüllők",
                                    "diszkont ár": "3322,4"
                                },
                                {
                                    "cím": "Half-Life (1996)",
                                    "diszkont ár": "4324"
                                },
                                {
                                    "cím": "Half-Life Generation: Game of the Year Edition (2002)",
                                    "diszkont ár": "2964"
                                },
                                {
                                    "cím": "Half-Life Generation: Counter Strike (2002)",
                                    "diszkont ár": "4595,2"
                                },
                                {
                                    "cím": "Half-Life Generation: Blue Shift (2002)",
                                    "diszkont ár": "4582,400000000001"
                                },
                                {
                                    "cím": "Harry Potter és a bölcsek köve (2001)",
                                    "diszkont ár": "3577,6000000000004"
                                },
                                {
                                    "cím": "Haza és haladás",
                                    "diszkont ár": "2784,8"
                                },
                                {
                                    "cím": "A hét világcsoda (2001)",
                                    "diszkont ár": "2529,6000000000004"
                                },
                                {
                                    "cím": "Home Desing 3D (1998)",
                                    "diszkont ár": "3429,6000000000004"
                                },
                                {
                                    "cím": "Hupikék törpikék: teletransportörp (1999)",
                                    "diszkont ár": "2488"
                                },
                                {
                                    "cím": "Informatika - Internet - Iskola",
                                    "diszkont ár": "2986,4"
                                },
                                {
                                    "cím": "Interaktív angol nyelvész kurzus haladó szint 1-5.",
                                    "diszkont ár": "3673,6000000000004"
                                },
                                {
                                    "cím": "Interaktív angol nyelvész kurzus kezdő szint",
                                    "diszkont ár": "3346,4"
                                },
                                {
                                    "cím": "Interaktív angol nyelvész kurzus középhaladó szint",
                                    "diszkont ár": "2492"
                                },
                                {
                                    "cím": "Interaktív magyar nyelvtan",
                                    "diszkont ár": "3823,2000000000003"
                                },
                                {
                                    "cím": "International Rally Championship",
                                    "diszkont ár": "3112"
                                },
                                {
                                    "cím": "Internet (1996)",
                                    "diszkont ár": "3947,2000000000003"
                                },
                                {
                                    "cím": "Introduction to Archeology",
                                    "diszkont ár": "3018,4"
                                },
                                {
                                    "cím": "Investigating 20th Century Art (1994)",
                                    "diszkont ár": "3515,2000000000003"
                                },
                                {
                                    "cím": "Az ipari forradalom kora (2000)",
                                    "diszkont ár": "4065,6000000000004"
                                },
                                {
                                    "cím": "Irodalmi arcképcsarnok",
                                    "diszkont ár": "3092,8"
                                },
                                {
                                    "cím": "Irodalom  felkészítő az érettségi és felvételi vizsgára",
                                    "diszkont ár": "4523,2"
                                },
                                {
                                    "cím": "Irodalom (1998)",
                                    "diszkont ár": "4500"
                                },
                                {
                                    "cím": "Italiano (1998) + Installation",
                                    "diszkont ár": "4348,8"
                                },
                                {
                                    "cím": "Italiano 1-2. (1998) + Installation",
                                    "diszkont ár": "4865,6"
                                },
                                {
                                    "cím": "Italiano 1-2. (1998) + Installation",
                                    "diszkont ár": "2735,2000000000003"
                                },
                                {
                                    "cím": "Jancsó",
                                    "diszkont ár": "3363,2000000000003"
                                },
                                {
                                    "cím": "Japán : képes kulturális atlasz (2001)",
                                    "diszkont ár": "3567,2000000000003"
                                },
                                {
                                    "cím": "Játékfilmek 1963-tól napjainkig",
                                    "diszkont ár": "2510,4"
                                },
                                {
                                    "cím": "Játszóház (1998)",
                                    "diszkont ár": "4239,2"
                                },
                                {
                                    "cím": "Jókai összes művei (2001)",
                                    "diszkont ár": "3814,4"
                                },
                                {
                                    "cím": "József Attila (1998)",
                                    "diszkont ár": "3096"
                                },
                                {
                                    "cím": "A jövő titkai - Interaktív horoszkóp (1998)",
                                    "diszkont ár": "4857,6"
                                },
                                {
                                    "cím": "Kártyaváros",
                                    "diszkont ár": "2485,6000000000004"
                                },
                                {
                                    "cím": "Kémia Kalauz 2.",
                                    "diszkont ár": "4075,2000000000003"
                                },
                                {
                                    "cím": "A kémkedés és a hírszerzés története (2002)",
                                    "diszkont ár": "4676"
                                },
                                {
                                    "cím": "Képes krónika (1996)",
                                    "diszkont ár": "3144,8"
                                },
                                {
                                    "cím": "Képtárak (1995)",
                                    "diszkont ár": "4326,400000000001"
                                },
                                {
                                    "cím": "Kereszt és félhold",
                                    "diszkont ár": "3441,6000000000004"
                                },
                                {
                                    "cím": "Kétfejű sas: A Habsburg-uralom Magyarországon (1699-1790)",
                                    "diszkont ár": "4367,2"
                                },
                                {
                                    "cím": "Kettős kötődés: Az Osztrák-Magyar Monarchia (1867-1918)",
                                    "diszkont ár": "3863,2000000000003"
                                },
                                {
                                    "cím": "Kínai falatok",
                                    "diszkont ár": "3640"
                                },
                                {
                                    "cím": "Királyi könyvek 1-9. kötet",
                                    "diszkont ár": "2604,8"
                                },
                                {
                                    "cím": "Királyi könyvek 18-26. kötet",
                                    "diszkont ár": "4405,6"
                                },
                                {
                                    "cím": "Királyi könyvek 27-38. kötet : 1703-1740 (2002)",
                                    "diszkont ár": "4380,8"
                                },
                                {
                                    "cím": "Kispál és a borz (1998)",
                                    "diszkont ár": "4584"
                                },
                                {
                                    "cím": "Kossuth Lajos összes munkái (2002)",
                                    "diszkont ár": "3671,2000000000003"
                                },
                                {
                                    "cím": "Környezetvédelmi kalauz (1999)",
                                    "diszkont ár": "4406,400000000001"
                                },
                                {
                                    "cím": "Kötelező olvasmányok könyvtára 1. (2002)",
                                    "diszkont ár": "2875,2000000000003"
                                },
                                {
                                    "cím": "A kőszívű ember fiai - Egri csillagok",
                                    "diszkont ár": "4430,400000000001"
                                },
                                {
                                    "cím": "A kutyák: A család kedvencei",
                                    "diszkont ár": "3970,4"
                                },
                                {
                                    "cím": "Kutyatár",
                                    "diszkont ár": "4188"
                                },
                                {
                                    "cím": "KvízIQ : A hét világcsoda (2001)",
                                    "diszkont ár": "2760,8"
                                },
                                {
                                    "cím": "Lakáskultúra 2000 (2000)",
                                    "diszkont ár": "4677,6"
                                },
                                {
                                    "cím": "Lakáskultúra 1999 (1999)",
                                    "diszkont ár": "4331,2"
                                },
                                {
                                    "cím": "Lakáskultúra 1998 (1998)",
                                    "diszkont ár": "4392,8"
                                },
                                {
                                    "cím": "Lakáskultúra 1997 (1997)",
                                    "diszkont ár": "2735,2000000000003"
                                },
                                {
                                    "cím": "Lakáskultúra 1996 (1996)",
                                    "diszkont ár": "3367,2000000000003"
                                },
                                {
                                    "cím": "Lands of Lore II. 1-4. (1997)",
                                    "diszkont ár": "3449,6000000000004"
                                },
                                {
                                    "cím": "Landscape Design 3D (1998)",
                                    "diszkont ár": "3960,8"
                                },
                                {
                                    "cím": "Legféltettebb természeti értékeink",
                                    "diszkont ár": "4066,4"
                                },
                                {
                                    "cím": "Legszebb vadnövényeink",
                                    "diszkont ár": "3550,4"
                                },
                                {
                                    "cím": "Leonardo da Vinci",
                                    "diszkont ár": "4094,4"
                                },
                                {
                                    "cím": "Lilenthal Andor sakkjátszmái",
                                    "diszkont ár": "2915,2000000000003"
                                },
                                {
                                    "cím": "Lopva angolul /English by Stealth 1.",
                                    "diszkont ár": "4344,8"
                                },
                                {
                                    "cím": "Lopva angolul /English by Stealth 2.",
                                    "diszkont ár": "3677,6000000000004"
                                },
                                {
                                    "cím": "Lopva angolul /English by Stealth 3.",
                                    "diszkont ár": "3880,8"
                                },
                                {
                                    "cím": "Lovagkirályok (1301-1437) (1997)",
                                    "diszkont ár": "3494,4"
                                },
                                {
                                    "cím": "LoveQ, SexQ : szerelmi intelligencia (2001)",
                                    "diszkont ár": "2900,8"
                                },
                                {
                                    "cím": "M1 Tank (1998)",
                                    "diszkont ár": "4784,8"
                                },
                                {
                                    "cím": "Mackó úr (2002)",
                                    "diszkont ár": "3705,6000000000004"
                                },
                                {
                                    "cím": "Madárdalos kirándulások - Madártani oktató CD-ROM (1999)",
                                    "diszkont ár": "2726,4"
                                },
                                {
                                    "cím": "Magyar bélyegek katalógusa",
                                    "diszkont ár": "3228"
                                },
                                {
                                    "cím": "Magyar fontok '97",
                                    "diszkont ár": "3076"
                                },
                                {
                                    "cím": "A Magyar Koronázási Jelvények",
                                    "diszkont ár": "3297,6000000000004"
                                },
                                {
                                    "cím": "Magyar nyelv és irodalom",
                                    "diszkont ár": "3763,2000000000003"
                                },
                                {
                                    "cím": "Magyar színházművészet a világban",
                                    "diszkont ár": "4126,400000000001"
                                },
                                {
                                    "cím": "Magyarország, 1944-1956 (2001)",
                                    "diszkont ár": "3936,8"
                                },
                                {
                                    "cím": "Magyarország, 1944-1956 (2001)",
                                    "diszkont ár": "2938,4"
                                },
                                {
                                    "cím": "Magyarország Nemzeti Parkjai I.",
                                    "diszkont ár": "2678,4"
                                },
                                {
                                    "cím": "Magyarország Nemzeti Parkjai II.",
                                    "diszkont ár": "2701,6000000000004"
                                },
                                {
                                    "cím": "Magyarországi várak (1998)",
                                    "diszkont ár": "4367,2"
                                },
                                {
                                    "cím": "Mahjongg Master (1998)",
                                    "diszkont ár": "4338,400000000001"
                                },
                                {
                                    "cím": "Manó Angol 1.",
                                    "diszkont ár": "4681,6"
                                },
                                {
                                    "cím": "Manó Angol 1. (2002)",
                                    "diszkont ár": "4840,8"
                                },
                                {
                                    "cím": "Manó Angol 2.",
                                    "diszkont ár": "4282,400000000001"
                                },
                                {
                                    "cím": "Manó Angol 2. (2000)",
                                    "diszkont ár": "4854,400000000001"
                                },
                                {
                                    "cím": "Manó Élővilág",
                                    "diszkont ár": "2779,2000000000003"
                                },
                                {
                                    "cím": "Manó Élővilág (2002)",
                                    "diszkont ár": "3904,8"
                                },
                                {
                                    "cím": "Manó IQ (2001)",
                                    "diszkont ár": "4306,400000000001"
                                },
                                {
                                    "cím": "Manó Kaland (2002)",
                                    "diszkont ár": "4773,6"
                                },
                                {
                                    "cím": "Manó Magyarország (2002)",
                                    "diszkont ár": "3320"
                                },
                                {
                                    "cím": "Manó Matek 1.",
                                    "diszkont ár": "4796"
                                },
                                {
                                    "cím": "Manó Matek 1. (2002)",
                                    "diszkont ár": "4316,8"
                                },
                                {
                                    "cím": "Manó Matek 2. (1999)",
                                    "diszkont ár": "4454,400000000001"
                                },
                                {
                                    "cím": "Manó Matek 2. (1999)",
                                    "diszkont ár": "2828,8"
                                },
                                {
                                    "cím": "Manó Matek 3.",
                                    "diszkont ár": "3842,4"
                                },
                                {
                                    "cím": "Manó Muzsika",
                                    "diszkont ár": "3996,8"
                                },
                                {
                                    "cím": "Manó Muzsika",
                                    "diszkont ár": "2712,8"
                                },
                                {
                                    "cím": "Manó Német 2.",
                                    "diszkont ár": "3713,6000000000004"
                                },
                                {
                                    "cím": "Manó Olvasás 1.",
                                    "diszkont ár": "4676"
                                },
                                {
                                    "cím": "Manó Puzzle (2002)",
                                    "diszkont ár": "4862,400000000001"
                                },
                                {
                                    "cím": "Matematika (1998)",
                                    "diszkont ár": "2484"
                                },
                                {
                                    "cím": "Matematika felkészítő az érettségi és felvételi vizsgára",
                                    "diszkont ár": "3692,8"
                                },
                                {
                                    "cím": "Matematika kalauz (1997)",
                                    "diszkont ár": "2652"
                                },
                                {
                                    "cím": "Mig-29 (1998)",
                                    "diszkont ár": "4032"
                                },
                                {
                                    "cím": "Mikszáth Kálmán összes művei",
                                    "diszkont ár": "3828,8"
                                },
                                {
                                    "cím": "Mini Manó Tavasz",
                                    "diszkont ár": "3781,6000000000004"
                                },
                                {
                                    "cím": "MoBi Mouse: A fordító egér",
                                    "diszkont ár": "4028,8"
                                },
                                {
                                    "cím": "Monopoly Junior",
                                    "diszkont ár": "3179,2000000000003"
                                },
                                {
                                    "cím": "Mons Sacer Pannoniae (2001)",
                                    "diszkont ár": "3528"
                                },
                                {
                                    "cím": "Moving Puzzle Action Flight (2000)",
                                    "diszkont ár": "4381,6"
                                },
                                {
                                    "cím": "Multimédiás Menedzsment Könyvtár 1. - Változásmenedzsment",
                                    "diszkont ár": "4845,6"
                                },
                                {
                                    "cím": "Multimédiás Menedzsment Könyvtár 2. - Önszervezés",
                                    "diszkont ár": "2623,2000000000003"
                                },
                                {
                                    "cím": "Musique! (1997)",
                                    "diszkont ár": "4268,8"
                                },
                                {
                                    "cím": "Művészet és mesterség",
                                    "diszkont ár": "4878,400000000001"
                                },
                                {
                                    "cím": "Művészet és művészek (2002)",
                                    "diszkont ár": "2792"
                                },
                                {
                                    "cím": "Nagy képes világtörténet (Matczáli Henrik) (1998)",
                                    "diszkont ár": "3509,6000000000004"
                                },
                                {
                                    "cím": "Nagy vicc tár",
                                    "diszkont ár": "4458,400000000001"
                                },
                                {
                                    "cím": "A Nagybányai Festőiskola (1998)",
                                    "diszkont ár": "3901,6000000000004"
                                },
                                {
                                    "cím": "NASA 1.",
                                    "diszkont ár": "4774,400000000001"
                                },
                                {
                                    "cím": "NASA 2.",
                                    "diszkont ár": "3317,6000000000004"
                                },
                                {
                                    "cím": "Na, So Was? - Minden helyzetben otthonosan",
                                    "diszkont ár": "2880"
                                },
                                {
                                    "cím": "Német : 8-10 éveseknek (2002)",
                                    "diszkont ár": "3003,2000000000003"
                                },
                                {
                                    "cím": "Német szótanító CD-ROM",
                                    "diszkont ár": "2650,4"
                                },
                                {
                                    "cím": "Németh László összes műve",
                                    "diszkont ár": "3597,6000000000004"
                                },
                                {
                                    "cím": "New York : a tragédiák városa (2001)",
                                    "diszkont ár": "2978,4"
                                },
                                {
                                    "cím": "NHL 2001",
                                    "diszkont ár": "4193,6"
                                },
                                {
                                    "cím": "Nincs királyi út - A matematika kultúrtörténete",
                                    "diszkont ár": "3482,4"
                                },
                                {
                                    "cím": "Nyelvész : Angol és német haladóknak (1997)",
                                    "diszkont ár": "2817,6000000000004"
                                },
                                {
                                    "cím": "Nyelvtan összefoglaló : érettségi előkészítő (2002)",
                                    "diszkont ár": "2950,4"
                                },
                                {
                                    "cím": "Az óceán világa - Maldiv szigetek (2000)",
                                    "diszkont ár": "4666,400000000001"
                                },
                                {
                                    "cím": "Ókori lexikon",
                                    "diszkont ár": "2497,6000000000004"
                                },
                                {
                                    "cím": "Olasz-magyar, magyar-olasz digitális szótár",
                                    "diszkont ár": "3285,6000000000004"
                                },
                                {
                                    "cím": "Olasz szótanító CD-ROM",
                                    "diszkont ár": "4086,4"
                                },
                                {
                                    "cím": "Orosz (1998)",
                                    "diszkont ár": "4807,2"
                                },
                                {
                                    "cím": "Orosz-magyar nagyszótár",
                                    "diszkont ár": "3732,8"
                                },
                                {
                                    "cím": "Az Országos Széchényi Könyvtár corvinái, 2002 (2002)",
                                    "diszkont ár": "3802,4"
                                },
                                {
                                    "cím": "Az Osztrák-Magyar Monarchia írásban és képekben (2001)",
                                    "diszkont ár": "3487,2000000000003"
                                },
                                {
                                    "cím": "Paddle Bash (2001)",
                                    "diszkont ár": "3149,6000000000004"
                                },
                                {
                                    "cím": "Pannon Enciklopédia (1998)",
                                    "diszkont ár": "3684,8"
                                },
                                {
                                    "cím": "Pannonhalmi Főapátság (2001)",
                                    "diszkont ár": "4653,6"
                                },
                                {
                                    "cím": "Panzer General III: Scorched Earth (2000)",
                                    "diszkont ár": "4846,400000000001"
                                },
                                {
                                    "cím": "People's General (1998)",
                                    "diszkont ár": "4498,400000000001"
                                },
                                {
                                    "cím": "Petőfi Sándor: Arany Lacinak (2002)",
                                    "diszkont ár": "4390,400000000001"
                                },
                                {
                                    "cím": "Petőfi Sándor összes költeményei",
                                    "diszkont ár": "3025,6000000000004"
                                },
                                {
                                    "cím": "Plane Crazy",
                                    "diszkont ár": "4008,8"
                                },
                                {
                                    "cím": "Quake III. (2001)",
                                    "diszkont ár": "2515,2000000000003"
                                },
                                {
                                    "cím": "Rákóczi-szabadságharc",
                                    "diszkont ár": "3822,4"
                                },
                                {
                                    "cím": "Rally Championship",
                                    "diszkont ár": "2484,8"
                                },
                                {
                                    "cím": "Rayman: Matek és olvasás",
                                    "diszkont ár": "3587,2000000000003"
                                },
                                {
                                    "cím": "Re-Volt (1999)",
                                    "diszkont ár": "3191,2000000000003"
                                },
                                {
                                    "cím": "The Settlers III. 1-2. (1998)",
                                    "diszkont ár": "3413,6000000000004"
                                },
                                {
                                    "cím": "The Settlers IV. (2001)",
                                    "diszkont ár": "3314,4"
                                },
                                {
                                    "cím": "Shanghai (1997)",
                                    "diszkont ár": "4720"
                                },
                                {
                                    "cím": "The Sims",
                                    "diszkont ár": "3234,4"
                                },
                                {
                                    "cím": "Sonic Racer",
                                    "diszkont ár": "2760"
                                },
                                {
                                    "cím": "Spanyol (1997)",
                                    "diszkont ár": "3020"
                                },
                                {
                                    "cím": "Spanyol-magyar szótár",
                                    "diszkont ár": "4587,2"
                                },
                                {
                                    "cím": "Star Wars: Battle for Naboo",
                                    "diszkont ár": "2816"
                                },
                                {
                                    "cím": "Star Wars: Force Commander (2001)",
                                    "diszkont ár": "4628"
                                },
                                {
                                    "cím": "Star Wars : Rogue Squadron 3D",
                                    "diszkont ár": "4642,400000000001"
                                },
                                {
                                    "cím": "Supreme Snowboarding",
                                    "diszkont ár": "3320,8"
                                },
                                {
                                    "cím": "Szabadítsd ki a kisoroszlánt!",
                                    "diszkont ár": "4429,6"
                                },
                                {
                                    "cím": "Szabadságharc 1848-49 (1988)",
                                    "diszkont ár": "4848"
                                },
                                {
                                    "cím": "A szabadságharc népzenei emlékei",
                                    "diszkont ár": "4149,6"
                                },
                                {
                                    "cím": "Szolfézs: Kezdőknek és haladóknak",
                                    "diszkont ár": "3593,6000000000004"
                                },
                                {
                                    "cím": "Talk To Me Deutsch 2-4.",
                                    "diszkont ár": "4792"
                                },
                                {
                                    "cím": "Talk To Me English 1.",
                                    "diszkont ár": "3794,4"
                                },
                                {
                                    "cím": "Talk To Me Francais 1-2.",
                                    "diszkont ár": "3978,4"
                                },
                                {
                                    "cím": "Tankok, tüzérség (2002)",
                                    "diszkont ár": "4867,2"
                                },
                                {
                                    "cím": "Tanulj tovább! 2000 (2000)",
                                    "diszkont ár": "3448"
                                },
                                {
                                    "cím": "Táplálkozás, életmód mesterfokon (2002)",
                                    "diszkont ár": "3584"
                                },
                                {
                                    "cím": "Target English (1998)",
                                    "diszkont ár": "4848,8"
                                },
                                {
                                    "cím": "Tarzan",
                                    "diszkont ár": "2989,6000000000004"
                                },
                                {
                                    "cím": "Terrorizmus (2002)",
                                    "diszkont ár": "3901,6000000000004"
                                },
                                {
                                    "cím": "Testbeszéd (1998)",
                                    "diszkont ár": "4305,6"
                                },
                                {
                                    "cím": "Tesztre készen: angol (1998)",
                                    "diszkont ár": "3325,6000000000004"
                                },
                                {
                                    "cím": "Tesztre készen: német (1998)",
                                    "diszkont ár": "3652,8"
                                },
                                {
                                    "cím": "Thaiföldi ízek (1999)",
                                    "diszkont ár": "4200"
                                },
                                {
                                    "cím": "Timeshock!",
                                    "diszkont ár": "4127,2"
                                },
                                {
                                    "cím": "Tomi megmenti a tengert (2000)",
                                    "diszkont ár": "3460"
                                },
                                {
                                    "cím": "Touché - The Adventures of the Fifth",
                                    "diszkont ár": "3638,4"
                                },
                                {
                                    "cím": "Toy Story 2.",
                                    "diszkont ár": "3047,2000000000003"
                                },
                                {
                                    "cím": "Történelem (1998)",
                                    "diszkont ár": "2989,6000000000004"
                                },
                                {
                                    "cím": "Történelem : 10-14 éveseknek (2002)",
                                    "diszkont ár": "2989,6000000000004"
                                },
                                {
                                    "cím": "Történelem : középiskola 1. osztály (2002)",
                                    "diszkont ár": "2988,8"
                                },
                                {
                                    "cím": "Történelem : középiskola 4. osztály (2002)",
                                    "diszkont ár": "4508"
                                },
                                {
                                    "cím": "Traffic Giant",
                                    "diszkont ár": "3508"
                                },
                                {
                                    "cím": "Train Simulator (2002)",
                                    "diszkont ár": "4342,400000000001"
                                },
                                {
                                    "cím": "Trickstyle",
                                    "diszkont ár": "3720,8"
                                },
                                {
                                    "cím": "A tudás próbája (2001)",
                                    "diszkont ár": "4368,8"
                                },
                                {
                                    "cím": "Turul : 1883-1900 (2002)",
                                    "diszkont ár": "4190,400000000001"
                                },
                                {
                                    "cím": "UEFA Champions Leage Season",
                                    "diszkont ár": "4417,6"
                                },
                                {
                                    "cím": "Új Könyvek 1994-2000 (2002)",
                                    "diszkont ár": "4819,2"
                                },
                                {
                                    "cím": "Az Univerzum története",
                                    "diszkont ár": "2923,2000000000003"
                                },
                                {
                                    "cím": "Utazás a csillagok között (1998)",
                                    "diszkont ár": "4564"
                                },
                                {
                                    "cím": "Utazás a Naprendszerben",
                                    "diszkont ár": "2865,6000000000004"
                                },
                                {
                                    "cím": "Utazás a Naprendszerben 2.",
                                    "diszkont ár": "4793,6"
                                },
                                {
                                    "cím": "Úton 2. (1998)",
                                    "diszkont ár": "4380,8"
                                },
                                {
                                    "cím": "Üzleti protokoll CD (2002)",
                                    "diszkont ár": "3912,8"
                                },
                                {
                                    "cím": "Várak, kastélyok, legendák 1.",
                                    "diszkont ár": "3389,6000000000004"
                                },
                                {
                                    "cím": "Várak, kastélyok, legendák 2. (2002)",
                                    "diszkont ár": "2650,4"
                                },
                                {
                                    "cím": "A varázslatos emberi test (1998)",
                                    "diszkont ár": "3890,4"
                                },
                                {
                                    "cím": "Varázslatos szülinap",
                                    "diszkont ár": "4569,6"
                                },
                                {
                                    "cím": "Varázslatos történelmi nyomozás",
                                    "diszkont ár": "3516"
                                },
                                {
                                    "cím": "A városi élet a Római Birodalomban (1999)",
                                    "diszkont ár": "4599,2"
                                },
                                {
                                    "cím": "A Vazul-ág (1038-1301) (1997)",
                                    "diszkont ár": "3248"
                                },
                                {
                                    "cím": "Világatlasz '99 (1998)",
                                    "diszkont ár": "4319,2"
                                },
                                {
                                    "cím": "Világatlasz '99 (1998)",
                                    "diszkont ár": "4161,6"
                                },
                                {
                                    "cím": "Világatlasz (2001)",
                                    "diszkont ár": "2756,8"
                                },
                                {
                                    "cím": "Világirodalom : Az ókortól napjainkig (2001)",
                                    "diszkont ár": "2876"
                                },
                                {
                                    "cím": "Volt egyszer egy Magyarország",
                                    "diszkont ár": "4241,6"
                                },
                                {
                                    "cím": "Warcraft III. (2002)",
                                    "diszkont ár": "4619,2"
                                },
                                {
                                    "cím": "William Shakespeare összes művei",
                                    "diszkont ár": "3549,6000000000004"
                                },
                                {
                                    "cím": "Zielpunkt Deutsch (1997)",
                                    "diszkont ár": "3315,2000000000003"
                                },
                                {
                                    "cím": "Zöld Ödön a földgömbön",
                                    "diszkont ár": "4852"
                                }
                            ]
                        },
                        "text/html": "<table><tr><th>cím</th><th>diszkont ár</th></tr><tr><td>NULL</td><td>3087,2000000000003</td></tr><tr><td>A II. világháború története (1999)</td><td>3395,2000000000003</td></tr><tr><td>3D Dinosaur - adventure</td><td>4032,8</td></tr><tr><td>3D virtuális origami (2000)</td><td>4284</td></tr><tr><td>Az 1848-1849-iki szabadságharc története (2002)</td><td>4560</td></tr><tr><td>Ablak zsiráf (1999)</td><td>2832</td></tr><tr><td>Ady Endre összes művei (1999)</td><td>3392,8</td></tr><tr><td>Afrika</td><td>4254,400000000001</td></tr><tr><td>Age of Empires (2000)</td><td>3585,6000000000004</td></tr><tr><td>Airport Inc.</td><td>3448,8</td></tr><tr><td>American Rodeo : BullRider 2000 (2001)</td><td>4472,8</td></tr><tr><td>Angol : 8-10 éveseknek (2002)</td><td>3882,4</td></tr><tr><td>Angol és német nyelvtani gyakorlatok (2002)</td><td>3924,8</td></tr><tr><td>Angol szótanító CD-ROM</td><td>3559,2000000000003</td></tr><tr><td>Angol szótanító CD-ROM</td><td>3555,2000000000003</td></tr><tr><td>Angol szótár (1996)</td><td>2807,2000000000003</td></tr><tr><td>Angol-magyar, Magyar-angol hangosszótár</td><td>4120,8</td></tr><tr><td>Angol-magyar nagyszótár (Halász Előd)</td><td>4510,400000000001</td></tr><tr><td>Az áramvonalas fakanál</td><td>4564,8</td></tr><tr><td>Arany János: A bajusz (2002)</td><td>2712,8</td></tr><tr><td>Az Árpád-ház története</td><td>4017,6000000000004</td></tr><tr><td>Art Attack (1998)</td><td>3131,2000000000003</td></tr><tr><td>Art puzzle (1998)</td><td>4628,8</td></tr><tr><td>Az ásványok világa</td><td>4499,2</td></tr><tr><td>Ausztrália</td><td>4260,8</td></tr><tr><td>Auto 2000 - Kerékvilág</td><td>3570,4</td></tr><tr><td>Ázsia (2000)</td><td>2498,4</td></tr><tr><td>Biblia (1995)</td><td>3552</td></tr><tr><td>Biológia '97</td><td>4434,400000000001</td></tr><tr><td>Biológia (2000)</td><td>3055,2000000000003</td></tr><tr><td>Biológia (2001)</td><td>3033,6000000000004</td></tr><tr><td>Biológia : 12-14 éveseknek (2003)</td><td>2785,6000000000004</td></tr><tr><td>Blinky Bill : A fantasztikus léggömbkaland</td><td>3260,8</td></tr><tr><td>Broken Sword II. (cop. 1997)</td><td>3601,6000000000004</td></tr><tr><td>Budapest kalauz</td><td>3243,2000000000003</td></tr><tr><td>Budapest Museum</td><td>4233,6</td></tr><tr><td>Buggy</td><td>4664</td></tr><tr><td>Byte Magyarország (2002)</td><td>2621,6000000000004</td></tr><tr><td>Caesar III.</td><td>3308,8</td></tr><tr><td>Capitalism II. (2001)</td><td>4849,6</td></tr><tr><td>Capitalism Plus</td><td>4024</td></tr><tr><td>Castle Explorer</td><td>2965,6000000000004</td></tr><tr><td>CD Panoráma 1-4. (1998)</td><td>4337,6</td></tr><tr><td>Computer iskola (1998)</td><td>4208</td></tr><tr><td>Csizmás kandúr (1998)</td><td>4745,6</td></tr><tr><td>Csodálatos univerzum (1997)</td><td>3269,6000000000004</td></tr><tr><td>Dél-Amerika (1999)</td><td>3199,2000000000003</td></tr><tr><td>Dementia 1-5. (1997)</td><td>4735,2</td></tr><tr><td>Deutsch: Anfanger (kezdő) + Telepítő </td><td>4506,400000000001</td></tr><tr><td>Deutsch: Fortgeschrittene (haladó) + Installation</td><td>4627,2</td></tr><tr><td>Deutsch: Mittelstufe (középhaladó)+ Telepítő</td><td>3501,6000000000004</td></tr><tr><td>Diablo</td><td>4775,2</td></tr><tr><td>Diablo II. (2000)</td><td>3920</td></tr><tr><td>Dicső napok és hétköznapok 1848 - Digitális forrásgyűjtemény 1.</td><td>4488,8</td></tr><tr><td>Dreams to Reality 1-2. (1997)</td><td>3759,2000000000003</td></tr><tr><td>Duke Nukem 3D</td><td>4379,2</td></tr><tr><td>Dungeon Keeper 2. (1999)</td><td>2695,2000000000003</td></tr><tr><td>E-Games : Collector's Edition (2001)</td><td>4466,400000000001</td></tr><tr><td>Éléstár (1998)</td><td>2606,4</td></tr><tr><td>Élet a polgárosodó Magyarországon (2001)</td><td>4457,6</td></tr><tr><td>Életképek 1848 (1998)</td><td>3368,8</td></tr><tr><td>Az ember tragédiája</td><td>3436</td></tr><tr><td>Encarta World Atlas '99 1-2. (1998)</td><td>4267,2</td></tr><tr><td>Enemy Engaged RAH-66</td><td>4173,6</td></tr><tr><td>English 1-2. + Telepítő</td><td>4172</td></tr><tr><td>English: Intermediate (haladó)</td><td>2901,6000000000004</td></tr><tr><td>English by Stealth  lásd: Lopva angolul</td><td>3582,4</td></tr><tr><td>Erdély (1996)</td><td>3999,2000000000003</td></tr><tr><td>Espanol: Intermedio + Telepítő</td><td>3131,2000000000003</td></tr><tr><td>Espanol: Principiante + Telepítő</td><td>4705,6</td></tr><tr><td>Észak-Amerika</td><td>3195,2000000000003</td></tr><tr><td>Európa</td><td>4216</td></tr><tr><td>The F.A. Premier League Stars 2001</td><td>3096,8</td></tr><tr><td>Felvételi példatár : Angol</td><td>3100,8</td></tr><tr><td>Felvételi példatár : Biológia, földrajz</td><td>2572</td></tr><tr><td>Felvételi példatár : Kémia, fizika</td><td>4680,8</td></tr><tr><td>Felvételi példatár : Magyar nyelv és irodalom</td><td>4764</td></tr><tr><td>Felvételi példatár : Matematika</td><td>4007,2000000000003</td></tr><tr><td>Felvételi példatár : Német</td><td>2481,6000000000004</td></tr><tr><td>FIFA, 2000 (1999)</td><td>4047,2000000000003</td></tr><tr><td>Fighting Force (1998)</td><td>3840</td></tr><tr><td>Final Liberation (1997)</td><td>3705,6000000000004</td></tr><tr><td>Fitness mesterfokon / Béres Alexandra (2001)</td><td>3685,6000000000004</td></tr><tr><td>Fizika : 12-14 éveseknek (2002)</td><td>2987,2000000000003</td></tr><tr><td>Fizika felkészítő az érettségi és felvételi vizsgára</td><td>3848</td></tr><tr><td>Fizika világa (2001)</td><td>4610,400000000001</td></tr><tr><td>A Föld élővilága</td><td>4720</td></tr><tr><td>Földrajz: 10-14 éveseknek (2002)</td><td>3144</td></tr><tr><td>Földrajz: érettségi előkészítő (2002)</td><td>2538,4</td></tr><tr><td>Francais 1-2. + Telepítő</td><td>3230,4</td></tr><tr><td>Francais: Débutan (kezdő) + Telepítő</td><td>3016</td></tr><tr><td>Francais: Moyen + Telepítő</td><td>4495,2</td></tr><tr><td>Francia-magyar szótár</td><td>2852,8</td></tr><tr><td>Funschool in Dreamland (1995)</td><td>3812,8</td></tr><tr><td>Geolexikon 4.2 : földtani adatbázis (2002)</td><td>3681,6000000000004</td></tr><tr><td>Gépírás 2000</td><td>3148,8</td></tr><tr><td>Gondolattár: aforizmák, szállóigék</td><td>4276,8</td></tr><tr><td>GTA 2</td><td>4004</td></tr><tr><td>Hadiflották I. (2002)</td><td>4099,2</td></tr><tr><td>Hadtudományi lexikon (1998)</td><td>2812</td></tr><tr><td>Hajdúböszörmény</td><td>3024,8</td></tr><tr><td>Halak, kétéltűek, hüllők</td><td>3322,4</td></tr><tr><td>Half-Life (1996)</td><td>4324</td></tr><tr><td>Half-Life Generation: Game of the Year Edition (2002)</td><td>2964</td></tr><tr><td>Half-Life Generation: Counter Strike (2002)</td><td>4595,2</td></tr><tr><td>Half-Life Generation: Blue Shift (2002)</td><td>4582,400000000001</td></tr><tr><td>Harry Potter és a bölcsek köve (2001)</td><td>3577,6000000000004</td></tr><tr><td>Haza és haladás</td><td>2784,8</td></tr><tr><td>A hét világcsoda (2001)</td><td>2529,6000000000004</td></tr><tr><td>Home Desing 3D (1998)</td><td>3429,6000000000004</td></tr><tr><td>Hupikék törpikék: teletransportörp (1999)</td><td>2488</td></tr><tr><td>Informatika - Internet - Iskola</td><td>2986,4</td></tr><tr><td>Interaktív angol nyelvész kurzus haladó szint 1-5.</td><td>3673,6000000000004</td></tr><tr><td>Interaktív angol nyelvész kurzus kezdő szint</td><td>3346,4</td></tr><tr><td>Interaktív angol nyelvész kurzus középhaladó szint</td><td>2492</td></tr><tr><td>Interaktív magyar nyelvtan</td><td>3823,2000000000003</td></tr><tr><td>International Rally Championship</td><td>3112</td></tr><tr><td>Internet (1996)</td><td>3947,2000000000003</td></tr><tr><td>Introduction to Archeology</td><td>3018,4</td></tr><tr><td>Investigating 20th Century Art (1994)</td><td>3515,2000000000003</td></tr><tr><td>Az ipari forradalom kora (2000)</td><td>4065,6000000000004</td></tr><tr><td>Irodalmi arcképcsarnok</td><td>3092,8</td></tr><tr><td>Irodalom  felkészítő az érettségi és felvételi vizsgára</td><td>4523,2</td></tr><tr><td>Irodalom (1998)</td><td>4500</td></tr><tr><td>Italiano (1998) + Installation</td><td>4348,8</td></tr><tr><td>Italiano 1-2. (1998) + Installation</td><td>4865,6</td></tr><tr><td>Italiano 1-2. (1998) + Installation</td><td>2735,2000000000003</td></tr><tr><td>Jancsó</td><td>3363,2000000000003</td></tr><tr><td>Japán : képes kulturális atlasz (2001)</td><td>3567,2000000000003</td></tr><tr><td>Játékfilmek 1963-tól napjainkig</td><td>2510,4</td></tr><tr><td>Játszóház (1998)</td><td>4239,2</td></tr><tr><td>Jókai összes művei (2001)</td><td>3814,4</td></tr><tr><td>József Attila (1998)</td><td>3096</td></tr><tr><td>A jövő titkai - Interaktív horoszkóp (1998)</td><td>4857,6</td></tr><tr><td>Kártyaváros</td><td>2485,6000000000004</td></tr><tr><td>Kémia Kalauz 2.</td><td>4075,2000000000003</td></tr><tr><td>A kémkedés és a hírszerzés története (2002)</td><td>4676</td></tr><tr><td>Képes krónika (1996)</td><td>3144,8</td></tr><tr><td>Képtárak (1995)</td><td>4326,400000000001</td></tr><tr><td>Kereszt és félhold</td><td>3441,6000000000004</td></tr><tr><td>Kétfejű sas: A Habsburg-uralom Magyarországon (1699-1790)</td><td>4367,2</td></tr><tr><td>Kettős kötődés: Az Osztrák-Magyar Monarchia (1867-1918)</td><td>3863,2000000000003</td></tr><tr><td>Kínai falatok</td><td>3640</td></tr><tr><td>Királyi könyvek 1-9. kötet</td><td>2604,8</td></tr><tr><td>Királyi könyvek 18-26. kötet</td><td>4405,6</td></tr><tr><td>Királyi könyvek 27-38. kötet : 1703-1740 (2002)</td><td>4380,8</td></tr><tr><td>Kispál és a borz (1998)</td><td>4584</td></tr><tr><td>Kossuth Lajos összes munkái (2002)</td><td>3671,2000000000003</td></tr><tr><td>Környezetvédelmi kalauz (1999)</td><td>4406,400000000001</td></tr><tr><td>Kötelező olvasmányok könyvtára 1. (2002)</td><td>2875,2000000000003</td></tr><tr><td>A kőszívű ember fiai - Egri csillagok</td><td>4430,400000000001</td></tr><tr><td>A kutyák: A család kedvencei</td><td>3970,4</td></tr><tr><td>Kutyatár</td><td>4188</td></tr><tr><td>KvízIQ : A hét világcsoda (2001)</td><td>2760,8</td></tr><tr><td>Lakáskultúra 2000 (2000)</td><td>4677,6</td></tr><tr><td>Lakáskultúra 1999 (1999)</td><td>4331,2</td></tr><tr><td>Lakáskultúra 1998 (1998)</td><td>4392,8</td></tr><tr><td>Lakáskultúra 1997 (1997)</td><td>2735,2000000000003</td></tr><tr><td>Lakáskultúra 1996 (1996)</td><td>3367,2000000000003</td></tr><tr><td>Lands of Lore II. 1-4. (1997)</td><td>3449,6000000000004</td></tr><tr><td>Landscape Design 3D (1998)</td><td>3960,8</td></tr><tr><td>Legféltettebb természeti értékeink</td><td>4066,4</td></tr><tr><td>Legszebb vadnövényeink</td><td>3550,4</td></tr><tr><td>Leonardo da Vinci</td><td>4094,4</td></tr><tr><td>Lilenthal Andor sakkjátszmái</td><td>2915,2000000000003</td></tr><tr><td>Lopva angolul /English by Stealth 1.</td><td>4344,8</td></tr><tr><td>Lopva angolul /English by Stealth 2.</td><td>3677,6000000000004</td></tr><tr><td>Lopva angolul /English by Stealth 3.</td><td>3880,8</td></tr><tr><td>Lovagkirályok (1301-1437) (1997)</td><td>3494,4</td></tr><tr><td>LoveQ, SexQ : szerelmi intelligencia (2001)</td><td>2900,8</td></tr><tr><td>M1 Tank (1998)</td><td>4784,8</td></tr><tr><td>Mackó úr (2002)</td><td>3705,6000000000004</td></tr><tr><td>Madárdalos kirándulások - Madártani oktató CD-ROM (1999)</td><td>2726,4</td></tr><tr><td>Magyar bélyegek katalógusa</td><td>3228</td></tr><tr><td>Magyar fontok '97</td><td>3076</td></tr><tr><td>A Magyar Koronázási Jelvények</td><td>3297,6000000000004</td></tr><tr><td>Magyar nyelv és irodalom</td><td>3763,2000000000003</td></tr><tr><td>Magyar színházművészet a világban</td><td>4126,400000000001</td></tr><tr><td>Magyarország, 1944-1956 (2001)</td><td>3936,8</td></tr><tr><td>Magyarország, 1944-1956 (2001)</td><td>2938,4</td></tr><tr><td>Magyarország Nemzeti Parkjai I.</td><td>2678,4</td></tr><tr><td>Magyarország Nemzeti Parkjai II.</td><td>2701,6000000000004</td></tr><tr><td>Magyarországi várak (1998)</td><td>4367,2</td></tr><tr><td>Mahjongg Master (1998)</td><td>4338,400000000001</td></tr><tr><td>Manó Angol 1.</td><td>4681,6</td></tr><tr><td>Manó Angol 1. (2002)</td><td>4840,8</td></tr><tr><td>Manó Angol 2.</td><td>4282,400000000001</td></tr><tr><td>Manó Angol 2. (2000)</td><td>4854,400000000001</td></tr><tr><td>Manó Élővilág</td><td>2779,2000000000003</td></tr><tr><td>Manó Élővilág (2002)</td><td>3904,8</td></tr><tr><td>Manó IQ (2001)</td><td>4306,400000000001</td></tr><tr><td>Manó Kaland (2002)</td><td>4773,6</td></tr><tr><td>Manó Magyarország (2002)</td><td>3320</td></tr><tr><td>Manó Matek 1.</td><td>4796</td></tr><tr><td>Manó Matek 1. (2002)</td><td>4316,8</td></tr><tr><td>Manó Matek 2. (1999)</td><td>4454,400000000001</td></tr><tr><td>Manó Matek 2. (1999)</td><td>2828,8</td></tr><tr><td>Manó Matek 3.</td><td>3842,4</td></tr><tr><td>Manó Muzsika</td><td>3996,8</td></tr><tr><td>Manó Muzsika</td><td>2712,8</td></tr><tr><td>Manó Német 2.</td><td>3713,6000000000004</td></tr><tr><td>Manó Olvasás 1.</td><td>4676</td></tr><tr><td>Manó Puzzle (2002)</td><td>4862,400000000001</td></tr><tr><td>Matematika (1998)</td><td>2484</td></tr><tr><td>Matematika felkészítő az érettségi és felvételi vizsgára</td><td>3692,8</td></tr><tr><td>Matematika kalauz (1997)</td><td>2652</td></tr><tr><td>Mig-29 (1998)</td><td>4032</td></tr><tr><td>Mikszáth Kálmán összes művei</td><td>3828,8</td></tr><tr><td>Mini Manó Tavasz</td><td>3781,6000000000004</td></tr><tr><td>MoBi Mouse: A fordító egér</td><td>4028,8</td></tr><tr><td>Monopoly Junior</td><td>3179,2000000000003</td></tr><tr><td>Mons Sacer Pannoniae (2001)</td><td>3528</td></tr><tr><td>Moving Puzzle Action Flight (2000)</td><td>4381,6</td></tr><tr><td>Multimédiás Menedzsment Könyvtár 1. - Változásmenedzsment</td><td>4845,6</td></tr><tr><td>Multimédiás Menedzsment Könyvtár 2. - Önszervezés</td><td>2623,2000000000003</td></tr><tr><td>Musique! (1997)</td><td>4268,8</td></tr><tr><td>Művészet és mesterség</td><td>4878,400000000001</td></tr><tr><td>Művészet és művészek (2002)</td><td>2792</td></tr><tr><td>Nagy képes világtörténet (Matczáli Henrik) (1998)</td><td>3509,6000000000004</td></tr><tr><td>Nagy vicc tár</td><td>4458,400000000001</td></tr><tr><td>A Nagybányai Festőiskola (1998)</td><td>3901,6000000000004</td></tr><tr><td>NASA 1.</td><td>4774,400000000001</td></tr><tr><td>NASA 2.</td><td>3317,6000000000004</td></tr><tr><td>Na, So Was? - Minden helyzetben otthonosan</td><td>2880</td></tr><tr><td>Német : 8-10 éveseknek (2002)</td><td>3003,2000000000003</td></tr><tr><td>Német szótanító CD-ROM</td><td>2650,4</td></tr><tr><td>Németh László összes műve</td><td>3597,6000000000004</td></tr><tr><td>New York : a tragédiák városa (2001)</td><td>2978,4</td></tr><tr><td>NHL 2001</td><td>4193,6</td></tr><tr><td>Nincs királyi út - A matematika kultúrtörténete</td><td>3482,4</td></tr><tr><td>Nyelvész : Angol és német haladóknak (1997)</td><td>2817,6000000000004</td></tr><tr><td>Nyelvtan összefoglaló : érettségi előkészítő (2002)</td><td>2950,4</td></tr><tr><td>Az óceán világa - Maldiv szigetek (2000)</td><td>4666,400000000001</td></tr><tr><td>Ókori lexikon</td><td>2497,6000000000004</td></tr><tr><td>Olasz-magyar, magyar-olasz digitális szótár</td><td>3285,6000000000004</td></tr><tr><td>Olasz szótanító CD-ROM</td><td>4086,4</td></tr><tr><td>Orosz (1998)</td><td>4807,2</td></tr><tr><td>Orosz-magyar nagyszótár</td><td>3732,8</td></tr><tr><td>Az Országos Széchényi Könyvtár corvinái, 2002 (2002)</td><td>3802,4</td></tr><tr><td>Az Osztrák-Magyar Monarchia írásban és képekben (2001)</td><td>3487,2000000000003</td></tr><tr><td>Paddle Bash (2001)</td><td>3149,6000000000004</td></tr><tr><td>Pannon Enciklopédia (1998)</td><td>3684,8</td></tr><tr><td>Pannonhalmi Főapátság (2001)</td><td>4653,6</td></tr><tr><td>Panzer General III: Scorched Earth (2000)</td><td>4846,400000000001</td></tr><tr><td>People's General (1998)</td><td>4498,400000000001</td></tr><tr><td>Petőfi Sándor: Arany Lacinak (2002)</td><td>4390,400000000001</td></tr><tr><td>Petőfi Sándor összes költeményei</td><td>3025,6000000000004</td></tr><tr><td>Plane Crazy</td><td>4008,8</td></tr><tr><td>Quake III. (2001)</td><td>2515,2000000000003</td></tr><tr><td>Rákóczi-szabadságharc</td><td>3822,4</td></tr><tr><td>Rally Championship</td><td>2484,8</td></tr><tr><td>Rayman: Matek és olvasás</td><td>3587,2000000000003</td></tr><tr><td>Re-Volt (1999)</td><td>3191,2000000000003</td></tr><tr><td>The Settlers III. 1-2. (1998)</td><td>3413,6000000000004</td></tr><tr><td>The Settlers IV. (2001)</td><td>3314,4</td></tr><tr><td>Shanghai (1997)</td><td>4720</td></tr><tr><td>The Sims</td><td>3234,4</td></tr><tr><td>Sonic Racer</td><td>2760</td></tr><tr><td>Spanyol (1997)</td><td>3020</td></tr><tr><td>Spanyol-magyar szótár</td><td>4587,2</td></tr><tr><td>Star Wars: Battle for Naboo</td><td>2816</td></tr><tr><td>Star Wars: Force Commander (2001)</td><td>4628</td></tr><tr><td>Star Wars : Rogue Squadron 3D</td><td>4642,400000000001</td></tr><tr><td>Supreme Snowboarding</td><td>3320,8</td></tr><tr><td>Szabadítsd ki a kisoroszlánt!</td><td>4429,6</td></tr><tr><td>Szabadságharc 1848-49 (1988)</td><td>4848</td></tr><tr><td>A szabadságharc népzenei emlékei</td><td>4149,6</td></tr><tr><td>Szolfézs: Kezdőknek és haladóknak</td><td>3593,6000000000004</td></tr><tr><td>Talk To Me Deutsch 2-4.</td><td>4792</td></tr><tr><td>Talk To Me English 1.</td><td>3794,4</td></tr><tr><td>Talk To Me Francais 1-2.</td><td>3978,4</td></tr><tr><td>Tankok, tüzérség (2002)</td><td>4867,2</td></tr><tr><td>Tanulj tovább! 2000 (2000)</td><td>3448</td></tr><tr><td>Táplálkozás, életmód mesterfokon (2002)</td><td>3584</td></tr><tr><td>Target English (1998)</td><td>4848,8</td></tr><tr><td>Tarzan</td><td>2989,6000000000004</td></tr><tr><td>Terrorizmus (2002)</td><td>3901,6000000000004</td></tr><tr><td>Testbeszéd (1998)</td><td>4305,6</td></tr><tr><td>Tesztre készen: angol (1998)</td><td>3325,6000000000004</td></tr><tr><td>Tesztre készen: német (1998)</td><td>3652,8</td></tr><tr><td>Thaiföldi ízek (1999)</td><td>4200</td></tr><tr><td>Timeshock!</td><td>4127,2</td></tr><tr><td>Tomi megmenti a tengert (2000)</td><td>3460</td></tr><tr><td>Touché - The Adventures of the Fifth</td><td>3638,4</td></tr><tr><td>Toy Story 2.</td><td>3047,2000000000003</td></tr><tr><td>Történelem (1998)</td><td>2989,6000000000004</td></tr><tr><td>Történelem : 10-14 éveseknek (2002)</td><td>2989,6000000000004</td></tr><tr><td>Történelem : középiskola 1. osztály (2002)</td><td>2988,8</td></tr><tr><td>Történelem : középiskola 4. osztály (2002)</td><td>4508</td></tr><tr><td>Traffic Giant</td><td>3508</td></tr><tr><td>Train Simulator (2002)</td><td>4342,400000000001</td></tr><tr><td>Trickstyle</td><td>3720,8</td></tr><tr><td>A tudás próbája (2001)</td><td>4368,8</td></tr><tr><td>Turul : 1883-1900 (2002)</td><td>4190,400000000001</td></tr><tr><td>UEFA Champions Leage Season</td><td>4417,6</td></tr><tr><td>Új Könyvek 1994-2000 (2002)</td><td>4819,2</td></tr><tr><td>Az Univerzum története</td><td>2923,2000000000003</td></tr><tr><td>Utazás a csillagok között (1998)</td><td>4564</td></tr><tr><td>Utazás a Naprendszerben</td><td>2865,6000000000004</td></tr><tr><td>Utazás a Naprendszerben 2.</td><td>4793,6</td></tr><tr><td>Úton 2. (1998)</td><td>4380,8</td></tr><tr><td>Üzleti protokoll CD (2002)</td><td>3912,8</td></tr><tr><td>Várak, kastélyok, legendák 1.</td><td>3389,6000000000004</td></tr><tr><td>Várak, kastélyok, legendák 2. (2002)</td><td>2650,4</td></tr><tr><td>A varázslatos emberi test (1998)</td><td>3890,4</td></tr><tr><td>Varázslatos szülinap</td><td>4569,6</td></tr><tr><td>Varázslatos történelmi nyomozás</td><td>3516</td></tr><tr><td>A városi élet a Római Birodalomban (1999)</td><td>4599,2</td></tr><tr><td>A Vazul-ág (1038-1301) (1997)</td><td>3248</td></tr><tr><td>Világatlasz '99 (1998)</td><td>4319,2</td></tr><tr><td>Világatlasz '99 (1998)</td><td>4161,6</td></tr><tr><td>Világatlasz (2001)</td><td>2756,8</td></tr><tr><td>Világirodalom : Az ókortól napjainkig (2001)</td><td>2876</td></tr><tr><td>Volt egyszer egy Magyarország</td><td>4241,6</td></tr><tr><td>Warcraft III. (2002)</td><td>4619,2</td></tr><tr><td>William Shakespeare összes művei</td><td>3549,6000000000004</td></tr><tr><td>Zielpunkt Deutsch (1997)</td><td>3315,2000000000003</td></tr><tr><td>Zöld Ödön a földgömbön</td><td>4852</td></tr></table>"
                    },
                    "metadata": {}
                }
            ],
            "execution_count": 14
        },
        {
            "cell_type": "markdown",
            "source": [
                "6. Melyek azok a kölcsönzések, ahol még nem hozták vissza a dvd-t?"
            ],
            "metadata": {
                "azdata_cell_guid": "5fe65c1c-2479-45ac-ad03-ec99d12eae21"
            },
            "attachments": {}
        },
        {
            "cell_type": "code",
            "source": [
                "SELECT *\r\n",
                "FROM kolcsonzesek\r\n",
                "WHERE vissza_datum  "
            ],
            "metadata": {
                "azdata_cell_guid": "924f2dde-f1c2-4def-a7f9-dbf4bace7735",
                "language": "sql"
            },
            "outputs": [
                {
                    "output_type": "display_data",
                    "data": {
                        "text/html": "(0 rows affected)"
                    },
                    "metadata": {}
                },
                {
                    "output_type": "display_data",
                    "data": {
                        "text/html": "Total execution time: 00:00:00.046"
                    },
                    "metadata": {}
                },
                {
                    "output_type": "execute_result",
                    "execution_count": 12,
                    "data": {
                        "application/vnd.dataresource+json": {
                            "schema": {
                                "fields": [
                                    {
                                        "name": "ID"
                                    },
                                    {
                                        "name": "ki"
                                    },
                                    {
                                        "name": "mit"
                                    },
                                    {
                                        "name": "ki_datum"
                                    },
                                    {
                                        "name": "vissza_datum"
                                    }
                                ]
                            },
                            "data": []
                        },
                        "text/html": "<table><tr><th>ID</th><th>ki</th><th>mit</th><th>ki_datum</th><th>vissza_datum</th></tr></table>"
                    },
                    "metadata": {}
                }
            ],
            "execution_count": 12
        },
        {
            "cell_type": "markdown",
            "source": [
                "7. Listázzuk azon diákok nevét és születési idejét, akik 1984-ben vagy 1985-ben születtek!  \n",
                "\n",
                "  \n",
                "\n",
                "a.  A születési dátum csak az évet, hónapot és a napot tartalmazza! \n",
                "\n",
                "b.  A születési dátum oszlopát nevezzük el 'Születési idő'-nek!"
            ],
            "metadata": {
                "azdata_cell_guid": "3aeb6bf5-b111-40d5-92b2-9712ce335696"
            },
            "attachments": {}
        },
        {
            "cell_type": "code",
            "source": [
                "SELECT nev AS 'Név',\r\n",
                "        CAST(Szulido AS date) AS 'Születési idő'\r\n",
                "\r\n",
                "        --left(cast(szulido as nvarchar(25)), 11)\r\n",
                "\r\n",
                "        --cast(YEAR(szulido) as nvarchar(4)) + '-' +\r\n",
                "        --cast(month(szulido) as nvarchar(2)) +  '-' +\r\n",
                "        --cast(DAY(szulido) as nvarchar(2)) \r\n",
                "\r\n",
                "FROM diak\r\n",
                "WHERE YEAR(Szulido) = '1984' OR YEAR(Szulido) = '1985'\r\n",
                "--where year(szulido) IN (1984,1985)"
            ],
            "metadata": {
                "azdata_cell_guid": "3e89b651-f56f-4102-af52-30eb2bbe360d",
                "language": "sql"
            },
            "outputs": [
                {
                    "output_type": "display_data",
                    "data": {
                        "text/html": "(3 rows affected)"
                    },
                    "metadata": {}
                },
                {
                    "output_type": "display_data",
                    "data": {
                        "text/html": "Total execution time: 00:00:00.005"
                    },
                    "metadata": {}
                },
                {
                    "output_type": "execute_result",
                    "execution_count": 23,
                    "data": {
                        "application/vnd.dataresource+json": {
                            "schema": {
                                "fields": [
                                    {
                                        "name": "Név"
                                    },
                                    {
                                        "name": "(No column name)"
                                    }
                                ]
                            },
                            "data": [
                                {
                                    "Név": "Kovács Imre",
                                    "(No column name)": "Mar  2 1984"
                                },
                                {
                                    "Név": "Kapos Petra",
                                    "(No column name)": "Dec 23 1985"
                                },
                                {
                                    "Név": "Koppány Olga",
                                    "(No column name)": "Feb 28 1984"
                                }
                            ]
                        },
                        "text/html": "<table><tr><th>Név</th><th>(No column name)</th></tr><tr><td>Kovács Imre</td><td>Mar  2 1984</td></tr><tr><td>Kapos Petra</td><td>Dec 23 1985</td></tr><tr><td>Koppány Olga</td><td>Feb 28 1984</td></tr></table>"
                    },
                    "metadata": {}
                }
            ],
            "execution_count": 23
        },
        {
            "cell_type": "markdown",
            "source": [
                "8. Készítsünk lekérdezést, amely a tanulók nevét és az ebből képzett felhasználói nevét tartalmazza. \n",
                "\n",
                "  \n",
                "\n",
                "a.  A felhasználói név álljon a név első kettő, illetve utolsó kettő betűjének összefűzéséből!\n",
                "\n",
                "b.  A listát szűrjük azon tanulókra, akik teljes neve - szóközzel együtt - legalább 10 betűs!"
            ],
            "metadata": {
                "azdata_cell_guid": "26a504dc-ff6a-439f-94c0-4580eca3eacf"
            },
            "attachments": {}
        },
        {
            "cell_type": "code",
            "source": [
                "SELECT LEFT(nev, 2) + RIGHT(nev, 2)\r\n",
                "FROM diak\r\n",
                "WHERE LEN(nev)>=10"
            ],
            "metadata": {
                "azdata_cell_guid": "1cbb8aeb-78b5-4350-aa45-e3202fdab85b",
                "language": "sql"
            },
            "outputs": [
                {
                    "output_type": "display_data",
                    "data": {
                        "text/html": "(8 rows affected)"
                    },
                    "metadata": {}
                },
                {
                    "output_type": "display_data",
                    "data": {
                        "text/html": "Total execution time: 00:00:00.005"
                    },
                    "metadata": {}
                },
                {
                    "output_type": "execute_result",
                    "execution_count": 25,
                    "data": {
                        "application/vnd.dataresource+json": {
                            "schema": {
                                "fields": [
                                    {
                                        "name": "(No column name)"
                                    }
                                ]
                            },
                            "data": [
                                {
                                    "(No column name)": "Kore"
                                },
                                {
                                    "(No column name)": "Hoil"
                                },
                                {
                                    "(No column name)": "Kara"
                                },
                                {
                                    "(No column name)": "Csna"
                                },
                                {
                                    "(No column name)": "Nyás"
                                },
                                {
                                    "(No column name)": "Orma"
                                },
                                {
                                    "(No column name)": "Koga"
                                },
                                {
                                    "(No column name)": "Koia"
                                }
                            ]
                        },
                        "text/html": "<table><tr><th>(No column name)</th></tr><tr><td>Kore</td></tr><tr><td>Hoil</td></tr><tr><td>Kara</td></tr><tr><td>Csna</td></tr><tr><td>Nyás</td></tr><tr><td>Orma</td></tr><tr><td>Koga</td></tr><tr><td>Koia</td></tr></table>"
                    },
                    "metadata": {}
                }
            ],
            "execution_count": 25
        },
        {
            "cell_type": "markdown",
            "source": [
                "9. Készítsünk listát a diákok adatairól, ahol a diákok neve úgy jelenik meg, hogy először a keresztnév, majd a vezetéknév, közöttük szóközzel!  \n",
                "\n",
                "a.  Ezen felül a születési idő három külön oszlopban jelenjen meg (év, hónap, nap). \n",
                "\n",
                "b.  Az oszlopokat nevezzük el értelemszerűen!"
            ],
            "metadata": {
                "azdata_cell_guid": "435e2860-2dd5-4877-90f4-34a43baeb53c"
            },
            "attachments": {}
        },
        {
            "cell_type": "code",
            "source": [
                ""
            ],
            "metadata": {
                "azdata_cell_guid": "ce846351-ddbe-4d8e-b8fb-2a92c73ac80b",
                "language": "sql"
            },
            "outputs": [],
            "execution_count": null
        },
        {
            "cell_type": "markdown",
            "source": [
                "10. Készítsünk listát a munkák azonosítójáról és megnevezéséről! Egy új oszlopban azt is jelenítsük meg, hogy melyik munka hetente mennyit fizet! \n",
                "\n",
                "a.  Az oszlop neve legyen Heti bér, az értéket kerekítsük 1000 forintra! \n",
                "\n",
                "b.  A listát szűrjük azon rekordokra, ahol a kerekített heti bér 10000 Ft felett van!"
            ],
            "metadata": {
                "azdata_cell_guid": "217c5772-afe2-4a7c-b913-e3a3e09d6411"
            },
            "attachments": {}
        },
        {
            "cell_type": "code",
            "source": [
                "SELECT munkaId, \r\n",
                "       allas,\r\n",
                "       ROUND(oradij * oraszam * 5, -3)  AS 'Heti bér'\r\n",
                "FROM munka\r\n",
                "WHERE  ROUND(oradij * oraszam * 5, -3) > 10000"
            ],
            "metadata": {
                "azdata_cell_guid": "a9cc0926-3dbd-4ed8-8179-1c39d64a0762",
                "language": "sql",
                "tags": []
            },
            "outputs": [
                {
                    "output_type": "display_data",
                    "data": {
                        "text/html": "(7 rows affected)"
                    },
                    "metadata": {}
                },
                {
                    "output_type": "display_data",
                    "data": {
                        "text/html": "Total execution time: 00:00:00.011"
                    },
                    "metadata": {}
                },
                {
                    "output_type": "execute_result",
                    "execution_count": 35,
                    "data": {
                        "application/vnd.dataresource+json": {
                            "schema": {
                                "fields": [
                                    {
                                        "name": "munkaId"
                                    },
                                    {
                                        "name": "allas"
                                    },
                                    {
                                        "name": "Heti bér"
                                    }
                                ]
                            },
                            "data": [
                                {
                                    "munkaId": "5",
                                    "allas": "kézbesítő",
                                    "Heti bér": "14000"
                                },
                                {
                                    "munkaId": "7",
                                    "allas": "eladó",
                                    "Heti bér": "12000"
                                },
                                {
                                    "munkaId": "16",
                                    "allas": "pincér",
                                    "Heti bér": "14000"
                                },
                                {
                                    "munkaId": "17",
                                    "allas": "pincér",
                                    "Heti bér": "14000"
                                },
                                {
                                    "munkaId": "20",
                                    "allas": "takarító",
                                    "Heti bér": "11000"
                                },
                                {
                                    "munkaId": "21",
                                    "allas": "takarító",
                                    "Heti bér": "11000"
                                },
                                {
                                    "munkaId": "41",
                                    "allas": "eladó",
                                    "Heti bér": "12000"
                                }
                            ]
                        },
                        "text/html": "<table><tr><th>munkaId</th><th>allas</th><th>Heti bér</th></tr><tr><td>5</td><td>kézbesítő</td><td>14000</td></tr><tr><td>7</td><td>eladó</td><td>12000</td></tr><tr><td>16</td><td>pincér</td><td>14000</td></tr><tr><td>17</td><td>pincér</td><td>14000</td></tr><tr><td>20</td><td>takarító</td><td>11000</td></tr><tr><td>21</td><td>takarító</td><td>11000</td></tr><tr><td>41</td><td>eladó</td><td>12000</td></tr></table>"
                    },
                    "metadata": {}
                }
            ],
            "execution_count": 35
        },
        {
            "cell_type": "markdown",
            "source": [
                "11. A diákok számára differenciált béremelést terveznek: a középiskolások esetében 33%, egyéb esetben 17% mértékben. Készítsünk listát, amely tartalmazza a munkák azonosítóját, az állás nevét, az eredeti óradíjat és a tervezett emelt óradíjat.\n",
                "\n",
                "  \n",
                "\n",
                "a.  Az oszlopoknak adjuk nevet értelemszerűen!\n",
                "\n",
                "b.  Az emelt óradíj összegét kerekítsük egészre! (Az esetlegesen megjelenő 0 tizedesjegyekkel ne foglalkozzunk)"
            ],
            "metadata": {
                "azdata_cell_guid": "d2340f5f-1614-473c-b937-85740d67f7c1"
            },
            "attachments": {}
        },
        {
            "cell_type": "code",
            "source": [
                ""
            ],
            "metadata": {
                "azdata_cell_guid": "e99c2c53-898f-4787-b0e6-182d106dc16f",
                "language": "sql"
            },
            "outputs": [],
            "execution_count": null
        },
        {
            "cell_type": "markdown",
            "source": [
                "12. A diákok számára próbaidőt írnak elő, amely a munka kezdetétől számítva 3 hónapig tart.    Jelenítsük meg a munka tábla adatait egy új oszloppal kiegészítve, amelyik a próbaidő    végének dátumát mutatja!  \n",
                "\n",
                "  \n",
                "\n",
                "a.  Az oszlop neve Próbaidő vége legyen! \n",
                "\n",
                "b.  A lista ne tartalmazza azokat a munkákat, ahol a diákok azonosítója nincs megadva!"
            ],
            "metadata": {
                "azdata_cell_guid": "a765e9d6-58b3-4171-872a-78f3118fd6e3"
            },
            "attachments": {}
        },
        {
            "cell_type": "code",
            "source": [
                ""
            ],
            "metadata": {
                "azdata_cell_guid": "422e8127-b652-4d3a-bfd7-9b1637b5781e",
                "language": "sql"
            },
            "outputs": [],
            "execution_count": null
        },
        {
            "cell_type": "markdown",
            "source": [
                "13. Készítsünk listát a munkák azonosítóiról és a megnevezésükről! A megnevezés allas-óraszám formában jelenjen meg, pl: eladó-4. \n",
                "\n",
                "  \n",
                "\n",
                "a.  Jelenítsük meg a dátumot is, de csak a évet és a hónapot, pl: 2003-07! \n",
                "\n",
                "b.  Ennek az oszlopnak 'Kezdés hónapja' legyen a neve! A listát szűrjük a nyári hónapokra!"
            ],
            "metadata": {
                "azdata_cell_guid": "3f9237ae-f109-401c-acb9-31d75e73331b"
            },
            "attachments": {}
        },
        {
            "cell_type": "code",
            "source": [
                ""
            ],
            "metadata": {
                "azdata_cell_guid": "4b31bb89-cfbc-46b1-8639-85c462877786",
                "language": "sql"
            },
            "outputs": [],
            "execution_count": null
        },
        {
            "cell_type": "markdown",
            "source": [
                "14. Készítsünk listát a diákok adatairól, amely a Nev oszlop helyén a diák monogramját jeleníti meg (keresztnév, illetve vezetéknév első betűje összefűzve). \n",
                "\n",
                "a.  A listát szűrjük 1983.01.01 és 1987.06.01 között született diákokra!"
            ],
            "metadata": {
                "azdata_cell_guid": "f634e09a-85ef-4e70-8ec6-ef355dfddaa7"
            },
            "attachments": {}
        },
        {
            "cell_type": "code",
            "source": [
                ""
            ],
            "metadata": {
                "azdata_cell_guid": "88abc55b-2c78-495b-a72f-3f8f4eb5fe70",
                "language": "sql"
            },
            "outputs": [],
            "execution_count": null
        },
        {
            "cell_type": "markdown",
            "source": [
                "15. A diákok a munkakezdés évének utolsó napján bónuszt kapnak, amennyiben az adott évben legalább 6 hónapot dolgoznak. \n",
                "\n",
                "  \n",
                "\n",
                "a.  Jelenítsük meg, hogy az egyes munkák adatait, egy új oszlopban az éves bónusz napját is 'Bónusz dátum' néven! \n",
                "\n",
                "b.  A lista csak a bónuszra jogosultak adatait tartalmazza!"
            ],
            "metadata": {
                "azdata_cell_guid": "4cbf2f0d-a65d-480a-8186-ccdb24498443"
            },
            "attachments": {}
        },
        {
            "cell_type": "code",
            "source": [
                ""
            ],
            "metadata": {
                "azdata_cell_guid": "c148aee8-bc85-40bf-b80a-a4898a6c05cb",
                "language": "sql"
            },
            "outputs": [],
            "execution_count": null
        }
    ]
}