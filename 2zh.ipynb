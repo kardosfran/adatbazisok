{
    "metadata": {
        "kernelspec": {
            "name": "SQL",
            "display_name": "SQL",
            "language": "sql"
        },
        "language_info": {
            "name": "sql",
            "version": ""
        }
    },
    "nbformat_minor": 2,
    "nbformat": 4,
    "cells": [
        {
            "cell_type": "code",
            "source": [
                "--1. feladat\r\n",
                "SELECT SZOBA_ID ,year(mettol), COUNT(*),\r\n",
                "CASE \r\n",
                "         WHEN GROUPING_ID(SZOBA_ID ,year(mettol)) = 1 THEN 'Részösszeg'\r\n",
                "         WHEN GROUPING_ID(SZOBA_ID ,year(mettol)) = 3 THEN 'Végösszeg'\r\n",
                "         ELSE year(mettol)\r\n",
                "         END AS 'foglalás'\r\n",
                "\r\n",
                "FROM Szoba sz JOIN Foglalas f ON sz.SZOBA_ID=f.SZOBA_FK\r\n",
                "GROUP BY ROLLUP(szoba_id,YEAR(METTOL))"
            ],
            "metadata": {
                "azdata_cell_guid": "a6c9fa15-66b5-4743-8c2b-efeffeecb195",
                "language": "sql"
            },
            "outputs": [
                {
                    "output_type": "display_data",
                    "data": {
                        "text/html": "(513 rows affected)"
                    },
                    "metadata": {}
                },
                {
                    "output_type": "display_data",
                    "data": {
                        "text/html": "Total execution time: 00:00:00.063"
                    },
                    "metadata": {}
                },
                {
                    "output_type": "execute_result",
                    "metadata": {},
                    "execution_count": 11,
                    "data": {
                        "application/vnd.dataresource+json": {
                            "schema": {
                                "fields": [
                                    {
                                        "name": "SZOBA_ID"
                                    },
                                    {
                                        "name": "(No column name)"
                                    },
                                    {
                                        "name": "(No column name)"
                                    }
                                ]
                            },
                            "data": [
                                {
                                    "SZOBA_ID": "1",
                                    "(No column name)": "8"
                                },
                                {
                                    "SZOBA_ID": "1",
                                    "(No column name)": "8"
                                },
                                {
                                    "SZOBA_ID": "2",
                                    "(No column name)": "4"
                                },
                                {
                                    "SZOBA_ID": "2",
                                    "(No column name)": "4"
                                },
                                {
                                    "SZOBA_ID": "3",
                                    "(No column name)": "6"
                                },
                                {
                                    "SZOBA_ID": "3",
                                    "(No column name)": "2"
                                },
                                {
                                    "SZOBA_ID": "3",
                                    "(No column name)": "8"
                                },
                                {
                                    "SZOBA_ID": "4",
                                    "(No column name)": "5"
                                },
                                {
                                    "SZOBA_ID": "4",
                                    "(No column name)": "1"
                                },
                                {
                                    "SZOBA_ID": "4",
                                    "(No column name)": "6"
                                },
                                {
                                    "SZOBA_ID": "5",
                                    "(No column name)": "4"
                                },
                                {
                                    "SZOBA_ID": "5",
                                    "(No column name)": "4"
                                },
                                {
                                    "SZOBA_ID": "6",
                                    "(No column name)": "6"
                                },
                                {
                                    "SZOBA_ID": "6",
                                    "(No column name)": "6"
                                },
                                {
                                    "SZOBA_ID": "7",
                                    "(No column name)": "6"
                                },
                                {
                                    "SZOBA_ID": "7",
                                    "(No column name)": "6"
                                },
                                {
                                    "SZOBA_ID": "8",
                                    "(No column name)": "5"
                                },
                                {
                                    "SZOBA_ID": "8",
                                    "(No column name)": "5"
                                },
                                {
                                    "SZOBA_ID": "9",
                                    "(No column name)": "4"
                                },
                                {
                                    "SZOBA_ID": "9",
                                    "(No column name)": "2"
                                },
                                {
                                    "SZOBA_ID": "9",
                                    "(No column name)": "6"
                                },
                                {
                                    "SZOBA_ID": "10",
                                    "(No column name)": "4"
                                },
                                {
                                    "SZOBA_ID": "10",
                                    "(No column name)": "4"
                                },
                                {
                                    "SZOBA_ID": "11",
                                    "(No column name)": "3"
                                },
                                {
                                    "SZOBA_ID": "11",
                                    "(No column name)": "1"
                                },
                                {
                                    "SZOBA_ID": "11",
                                    "(No column name)": "4"
                                },
                                {
                                    "SZOBA_ID": "12",
                                    "(No column name)": "8"
                                },
                                {
                                    "SZOBA_ID": "12",
                                    "(No column name)": "1"
                                },
                                {
                                    "SZOBA_ID": "12",
                                    "(No column name)": "9"
                                },
                                {
                                    "SZOBA_ID": "13",
                                    "(No column name)": "3"
                                },
                                {
                                    "SZOBA_ID": "13",
                                    "(No column name)": "1"
                                },
                                {
                                    "SZOBA_ID": "13",
                                    "(No column name)": "4"
                                },
                                {
                                    "SZOBA_ID": "14",
                                    "(No column name)": "2"
                                },
                                {
                                    "SZOBA_ID": "14",
                                    "(No column name)": "1"
                                },
                                {
                                    "SZOBA_ID": "14",
                                    "(No column name)": "3"
                                },
                                {
                                    "SZOBA_ID": "15",
                                    "(No column name)": "4"
                                },
                                {
                                    "SZOBA_ID": "15",
                                    "(No column name)": "2"
                                },
                                {
                                    "SZOBA_ID": "15",
                                    "(No column name)": "6"
                                },
                                {
                                    "SZOBA_ID": "16",
                                    "(No column name)": "4"
                                },
                                {
                                    "SZOBA_ID": "16",
                                    "(No column name)": "1"
                                },
                                {
                                    "SZOBA_ID": "16",
                                    "(No column name)": "5"
                                },
                                {
                                    "SZOBA_ID": "17",
                                    "(No column name)": "5"
                                },
                                {
                                    "SZOBA_ID": "17",
                                    "(No column name)": "1"
                                },
                                {
                                    "SZOBA_ID": "17",
                                    "(No column name)": "6"
                                },
                                {
                                    "SZOBA_ID": "18",
                                    "(No column name)": "5"
                                },
                                {
                                    "SZOBA_ID": "18",
                                    "(No column name)": "1"
                                },
                                {
                                    "SZOBA_ID": "18",
                                    "(No column name)": "6"
                                },
                                {
                                    "SZOBA_ID": "19",
                                    "(No column name)": "5"
                                },
                                {
                                    "SZOBA_ID": "19",
                                    "(No column name)": "1"
                                },
                                {
                                    "SZOBA_ID": "19",
                                    "(No column name)": "6"
                                },
                                {
                                    "SZOBA_ID": "20",
                                    "(No column name)": "5"
                                },
                                {
                                    "SZOBA_ID": "20",
                                    "(No column name)": "5"
                                },
                                {
                                    "SZOBA_ID": "21",
                                    "(No column name)": "4"
                                },
                                {
                                    "SZOBA_ID": "21",
                                    "(No column name)": "4"
                                },
                                {
                                    "SZOBA_ID": "22",
                                    "(No column name)": "6"
                                },
                                {
                                    "SZOBA_ID": "22",
                                    "(No column name)": "6"
                                },
                                {
                                    "SZOBA_ID": "23",
                                    "(No column name)": "3"
                                },
                                {
                                    "SZOBA_ID": "23",
                                    "(No column name)": "3"
                                },
                                {
                                    "SZOBA_ID": "24",
                                    "(No column name)": "2"
                                },
                                {
                                    "SZOBA_ID": "24",
                                    "(No column name)": "1"
                                },
                                {
                                    "SZOBA_ID": "24",
                                    "(No column name)": "3"
                                },
                                {
                                    "SZOBA_ID": "25",
                                    "(No column name)": "2"
                                },
                                {
                                    "SZOBA_ID": "25",
                                    "(No column name)": "2"
                                },
                                {
                                    "SZOBA_ID": "26",
                                    "(No column name)": "2"
                                },
                                {
                                    "SZOBA_ID": "26",
                                    "(No column name)": "2"
                                },
                                {
                                    "SZOBA_ID": "27",
                                    "(No column name)": "6"
                                },
                                {
                                    "SZOBA_ID": "27",
                                    "(No column name)": "1"
                                },
                                {
                                    "SZOBA_ID": "27",
                                    "(No column name)": "7"
                                },
                                {
                                    "SZOBA_ID": "28",
                                    "(No column name)": "5"
                                },
                                {
                                    "SZOBA_ID": "28",
                                    "(No column name)": "1"
                                },
                                {
                                    "SZOBA_ID": "28",
                                    "(No column name)": "6"
                                },
                                {
                                    "SZOBA_ID": "29",
                                    "(No column name)": "5"
                                },
                                {
                                    "SZOBA_ID": "29",
                                    "(No column name)": "1"
                                },
                                {
                                    "SZOBA_ID": "29",
                                    "(No column name)": "6"
                                },
                                {
                                    "SZOBA_ID": "30",
                                    "(No column name)": "3"
                                },
                                {
                                    "SZOBA_ID": "30",
                                    "(No column name)": "3"
                                },
                                {
                                    "SZOBA_ID": "31",
                                    "(No column name)": "3"
                                },
                                {
                                    "SZOBA_ID": "31",
                                    "(No column name)": "3"
                                },
                                {
                                    "SZOBA_ID": "32",
                                    "(No column name)": "1"
                                },
                                {
                                    "SZOBA_ID": "32",
                                    "(No column name)": "1"
                                },
                                {
                                    "SZOBA_ID": "33",
                                    "(No column name)": "6"
                                },
                                {
                                    "SZOBA_ID": "33",
                                    "(No column name)": "6"
                                },
                                {
                                    "SZOBA_ID": "34",
                                    "(No column name)": "4"
                                },
                                {
                                    "SZOBA_ID": "34",
                                    "(No column name)": "4"
                                },
                                {
                                    "SZOBA_ID": "35",
                                    "(No column name)": "6"
                                },
                                {
                                    "SZOBA_ID": "35",
                                    "(No column name)": "3"
                                },
                                {
                                    "SZOBA_ID": "35",
                                    "(No column name)": "9"
                                },
                                {
                                    "SZOBA_ID": "36",
                                    "(No column name)": "6"
                                },
                                {
                                    "SZOBA_ID": "36",
                                    "(No column name)": "6"
                                },
                                {
                                    "SZOBA_ID": "37",
                                    "(No column name)": "3"
                                },
                                {
                                    "SZOBA_ID": "37",
                                    "(No column name)": "3"
                                },
                                {
                                    "SZOBA_ID": "38",
                                    "(No column name)": "5"
                                },
                                {
                                    "SZOBA_ID": "38",
                                    "(No column name)": "3"
                                },
                                {
                                    "SZOBA_ID": "38",
                                    "(No column name)": "8"
                                },
                                {
                                    "SZOBA_ID": "39",
                                    "(No column name)": "4"
                                },
                                {
                                    "SZOBA_ID": "39",
                                    "(No column name)": "3"
                                },
                                {
                                    "SZOBA_ID": "39",
                                    "(No column name)": "7"
                                },
                                {
                                    "SZOBA_ID": "40",
                                    "(No column name)": "4"
                                },
                                {
                                    "SZOBA_ID": "40",
                                    "(No column name)": "4"
                                },
                                {
                                    "SZOBA_ID": "41",
                                    "(No column name)": "2"
                                },
                                {
                                    "SZOBA_ID": "41",
                                    "(No column name)": "2"
                                },
                                {
                                    "SZOBA_ID": "42",
                                    "(No column name)": "5"
                                },
                                {
                                    "SZOBA_ID": "42",
                                    "(No column name)": "1"
                                },
                                {
                                    "SZOBA_ID": "42",
                                    "(No column name)": "6"
                                },
                                {
                                    "SZOBA_ID": "43",
                                    "(No column name)": "6"
                                },
                                {
                                    "SZOBA_ID": "43",
                                    "(No column name)": "2"
                                },
                                {
                                    "SZOBA_ID": "43",
                                    "(No column name)": "8"
                                },
                                {
                                    "SZOBA_ID": "44",
                                    "(No column name)": "4"
                                },
                                {
                                    "SZOBA_ID": "44",
                                    "(No column name)": "2"
                                },
                                {
                                    "SZOBA_ID": "44",
                                    "(No column name)": "6"
                                },
                                {
                                    "SZOBA_ID": "45",
                                    "(No column name)": "5"
                                },
                                {
                                    "SZOBA_ID": "45",
                                    "(No column name)": "5"
                                },
                                {
                                    "SZOBA_ID": "46",
                                    "(No column name)": "3"
                                },
                                {
                                    "SZOBA_ID": "46",
                                    "(No column name)": "1"
                                },
                                {
                                    "SZOBA_ID": "46",
                                    "(No column name)": "4"
                                },
                                {
                                    "SZOBA_ID": "47",
                                    "(No column name)": "2"
                                },
                                {
                                    "SZOBA_ID": "47",
                                    "(No column name)": "2"
                                },
                                {
                                    "SZOBA_ID": "48",
                                    "(No column name)": "6"
                                },
                                {
                                    "SZOBA_ID": "48",
                                    "(No column name)": "3"
                                },
                                {
                                    "SZOBA_ID": "48",
                                    "(No column name)": "9"
                                },
                                {
                                    "SZOBA_ID": "49",
                                    "(No column name)": "6"
                                },
                                {
                                    "SZOBA_ID": "49",
                                    "(No column name)": "1"
                                },
                                {
                                    "SZOBA_ID": "49",
                                    "(No column name)": "7"
                                },
                                {
                                    "SZOBA_ID": "50",
                                    "(No column name)": "4"
                                },
                                {
                                    "SZOBA_ID": "50",
                                    "(No column name)": "4"
                                },
                                {
                                    "SZOBA_ID": "51",
                                    "(No column name)": "3"
                                },
                                {
                                    "SZOBA_ID": "51",
                                    "(No column name)": "2"
                                },
                                {
                                    "SZOBA_ID": "51",
                                    "(No column name)": "5"
                                },
                                {
                                    "SZOBA_ID": "52",
                                    "(No column name)": "3"
                                },
                                {
                                    "SZOBA_ID": "52",
                                    "(No column name)": "2"
                                },
                                {
                                    "SZOBA_ID": "52",
                                    "(No column name)": "5"
                                },
                                {
                                    "SZOBA_ID": "53",
                                    "(No column name)": "2"
                                },
                                {
                                    "SZOBA_ID": "53",
                                    "(No column name)": "2"
                                },
                                {
                                    "SZOBA_ID": "54",
                                    "(No column name)": "6"
                                },
                                {
                                    "SZOBA_ID": "54",
                                    "(No column name)": "6"
                                },
                                {
                                    "SZOBA_ID": "55",
                                    "(No column name)": "6"
                                },
                                {
                                    "SZOBA_ID": "55",
                                    "(No column name)": "2"
                                },
                                {
                                    "SZOBA_ID": "55",
                                    "(No column name)": "8"
                                },
                                {
                                    "SZOBA_ID": "56",
                                    "(No column name)": "2"
                                },
                                {
                                    "SZOBA_ID": "56",
                                    "(No column name)": "2"
                                },
                                {
                                    "SZOBA_ID": "57",
                                    "(No column name)": "2"
                                },
                                {
                                    "SZOBA_ID": "57",
                                    "(No column name)": "2"
                                },
                                {
                                    "SZOBA_ID": "57",
                                    "(No column name)": "4"
                                },
                                {
                                    "SZOBA_ID": "58",
                                    "(No column name)": "12"
                                },
                                {
                                    "SZOBA_ID": "58",
                                    "(No column name)": "1"
                                },
                                {
                                    "SZOBA_ID": "58",
                                    "(No column name)": "13"
                                },
                                {
                                    "SZOBA_ID": "59",
                                    "(No column name)": "6"
                                },
                                {
                                    "SZOBA_ID": "59",
                                    "(No column name)": "1"
                                },
                                {
                                    "SZOBA_ID": "59",
                                    "(No column name)": "7"
                                },
                                {
                                    "SZOBA_ID": "60",
                                    "(No column name)": "1"
                                },
                                {
                                    "SZOBA_ID": "60",
                                    "(No column name)": "1"
                                },
                                {
                                    "SZOBA_ID": "61",
                                    "(No column name)": "4"
                                },
                                {
                                    "SZOBA_ID": "61",
                                    "(No column name)": "1"
                                },
                                {
                                    "SZOBA_ID": "61",
                                    "(No column name)": "5"
                                },
                                {
                                    "SZOBA_ID": "62",
                                    "(No column name)": "4"
                                },
                                {
                                    "SZOBA_ID": "62",
                                    "(No column name)": "1"
                                },
                                {
                                    "SZOBA_ID": "62",
                                    "(No column name)": "5"
                                },
                                {
                                    "SZOBA_ID": "63",
                                    "(No column name)": "4"
                                },
                                {
                                    "SZOBA_ID": "63",
                                    "(No column name)": "4"
                                },
                                {
                                    "SZOBA_ID": "64",
                                    "(No column name)": "3"
                                },
                                {
                                    "SZOBA_ID": "64",
                                    "(No column name)": "3"
                                },
                                {
                                    "SZOBA_ID": "64",
                                    "(No column name)": "6"
                                },
                                {
                                    "SZOBA_ID": "65",
                                    "(No column name)": "1"
                                },
                                {
                                    "SZOBA_ID": "65",
                                    "(No column name)": "1"
                                },
                                {
                                    "SZOBA_ID": "66",
                                    "(No column name)": "4"
                                },
                                {
                                    "SZOBA_ID": "66",
                                    "(No column name)": "4"
                                },
                                {
                                    "SZOBA_ID": "67",
                                    "(No column name)": "4"
                                },
                                {
                                    "SZOBA_ID": "67",
                                    "(No column name)": "2"
                                },
                                {
                                    "SZOBA_ID": "67",
                                    "(No column name)": "6"
                                },
                                {
                                    "SZOBA_ID": "68",
                                    "(No column name)": "3"
                                },
                                {
                                    "SZOBA_ID": "68",
                                    "(No column name)": "3"
                                },
                                {
                                    "SZOBA_ID": "69",
                                    "(No column name)": "4"
                                },
                                {
                                    "SZOBA_ID": "69",
                                    "(No column name)": "4"
                                },
                                {
                                    "SZOBA_ID": "70",
                                    "(No column name)": "10"
                                },
                                {
                                    "SZOBA_ID": "70",
                                    "(No column name)": "1"
                                },
                                {
                                    "SZOBA_ID": "70",
                                    "(No column name)": "11"
                                },
                                {
                                    "SZOBA_ID": "71",
                                    "(No column name)": "3"
                                },
                                {
                                    "SZOBA_ID": "71",
                                    "(No column name)": "3"
                                },
                                {
                                    "SZOBA_ID": "72",
                                    "(No column name)": "4"
                                },
                                {
                                    "SZOBA_ID": "72",
                                    "(No column name)": "4"
                                },
                                {
                                    "SZOBA_ID": "73",
                                    "(No column name)": "4"
                                },
                                {
                                    "SZOBA_ID": "73",
                                    "(No column name)": "4"
                                },
                                {
                                    "SZOBA_ID": "74",
                                    "(No column name)": "9"
                                },
                                {
                                    "SZOBA_ID": "74",
                                    "(No column name)": "9"
                                },
                                {
                                    "SZOBA_ID": "75",
                                    "(No column name)": "1"
                                },
                                {
                                    "SZOBA_ID": "75",
                                    "(No column name)": "2"
                                },
                                {
                                    "SZOBA_ID": "75",
                                    "(No column name)": "3"
                                },
                                {
                                    "SZOBA_ID": "76",
                                    "(No column name)": "2"
                                },
                                {
                                    "SZOBA_ID": "76",
                                    "(No column name)": "1"
                                },
                                {
                                    "SZOBA_ID": "76",
                                    "(No column name)": "3"
                                },
                                {
                                    "SZOBA_ID": "77",
                                    "(No column name)": "4"
                                },
                                {
                                    "SZOBA_ID": "77",
                                    "(No column name)": "2"
                                },
                                {
                                    "SZOBA_ID": "77",
                                    "(No column name)": "6"
                                },
                                {
                                    "SZOBA_ID": "78",
                                    "(No column name)": "5"
                                },
                                {
                                    "SZOBA_ID": "78",
                                    "(No column name)": "1"
                                },
                                {
                                    "SZOBA_ID": "78",
                                    "(No column name)": "6"
                                },
                                {
                                    "SZOBA_ID": "79",
                                    "(No column name)": "4"
                                },
                                {
                                    "SZOBA_ID": "79",
                                    "(No column name)": "1"
                                },
                                {
                                    "SZOBA_ID": "79",
                                    "(No column name)": "5"
                                },
                                {
                                    "SZOBA_ID": "80",
                                    "(No column name)": "7"
                                },
                                {
                                    "SZOBA_ID": "80",
                                    "(No column name)": "7"
                                },
                                {
                                    "SZOBA_ID": "81",
                                    "(No column name)": "1"
                                },
                                {
                                    "SZOBA_ID": "81",
                                    "(No column name)": "4"
                                },
                                {
                                    "SZOBA_ID": "81",
                                    "(No column name)": "5"
                                },
                                {
                                    "SZOBA_ID": "82",
                                    "(No column name)": "6"
                                },
                                {
                                    "SZOBA_ID": "82",
                                    "(No column name)": "6"
                                },
                                {
                                    "SZOBA_ID": "83",
                                    "(No column name)": "8"
                                },
                                {
                                    "SZOBA_ID": "83",
                                    "(No column name)": "8"
                                },
                                {
                                    "SZOBA_ID": "84",
                                    "(No column name)": "4"
                                },
                                {
                                    "SZOBA_ID": "84",
                                    "(No column name)": "4"
                                },
                                {
                                    "SZOBA_ID": "85",
                                    "(No column name)": "3"
                                },
                                {
                                    "SZOBA_ID": "85",
                                    "(No column name)": "1"
                                },
                                {
                                    "SZOBA_ID": "85",
                                    "(No column name)": "4"
                                },
                                {
                                    "SZOBA_ID": "86",
                                    "(No column name)": "4"
                                },
                                {
                                    "SZOBA_ID": "86",
                                    "(No column name)": "1"
                                },
                                {
                                    "SZOBA_ID": "86",
                                    "(No column name)": "5"
                                },
                                {
                                    "SZOBA_ID": "87",
                                    "(No column name)": "4"
                                },
                                {
                                    "SZOBA_ID": "87",
                                    "(No column name)": "1"
                                },
                                {
                                    "SZOBA_ID": "87",
                                    "(No column name)": "5"
                                },
                                {
                                    "SZOBA_ID": "88",
                                    "(No column name)": "6"
                                },
                                {
                                    "SZOBA_ID": "88",
                                    "(No column name)": "2"
                                },
                                {
                                    "SZOBA_ID": "88",
                                    "(No column name)": "8"
                                },
                                {
                                    "SZOBA_ID": "89",
                                    "(No column name)": "7"
                                },
                                {
                                    "SZOBA_ID": "89",
                                    "(No column name)": "1"
                                },
                                {
                                    "SZOBA_ID": "89",
                                    "(No column name)": "8"
                                },
                                {
                                    "SZOBA_ID": "90",
                                    "(No column name)": "4"
                                },
                                {
                                    "SZOBA_ID": "90",
                                    "(No column name)": "4"
                                },
                                {
                                    "SZOBA_ID": "91",
                                    "(No column name)": "4"
                                },
                                {
                                    "SZOBA_ID": "91",
                                    "(No column name)": "4"
                                },
                                {
                                    "SZOBA_ID": "92",
                                    "(No column name)": "4"
                                },
                                {
                                    "SZOBA_ID": "92",
                                    "(No column name)": "2"
                                },
                                {
                                    "SZOBA_ID": "92",
                                    "(No column name)": "6"
                                },
                                {
                                    "SZOBA_ID": "93",
                                    "(No column name)": "5"
                                },
                                {
                                    "SZOBA_ID": "93",
                                    "(No column name)": "5"
                                },
                                {
                                    "SZOBA_ID": "94",
                                    "(No column name)": "8"
                                },
                                {
                                    "SZOBA_ID": "94",
                                    "(No column name)": "2"
                                },
                                {
                                    "SZOBA_ID": "94",
                                    "(No column name)": "10"
                                },
                                {
                                    "SZOBA_ID": "95",
                                    "(No column name)": "3"
                                },
                                {
                                    "SZOBA_ID": "95",
                                    "(No column name)": "1"
                                },
                                {
                                    "SZOBA_ID": "95",
                                    "(No column name)": "4"
                                },
                                {
                                    "SZOBA_ID": "96",
                                    "(No column name)": "5"
                                },
                                {
                                    "SZOBA_ID": "96",
                                    "(No column name)": "2"
                                },
                                {
                                    "SZOBA_ID": "96",
                                    "(No column name)": "7"
                                },
                                {
                                    "SZOBA_ID": "97",
                                    "(No column name)": "5"
                                },
                                {
                                    "SZOBA_ID": "97",
                                    "(No column name)": "2"
                                },
                                {
                                    "SZOBA_ID": "97",
                                    "(No column name)": "7"
                                },
                                {
                                    "SZOBA_ID": "98",
                                    "(No column name)": "4"
                                },
                                {
                                    "SZOBA_ID": "98",
                                    "(No column name)": "4"
                                },
                                {
                                    "SZOBA_ID": "99",
                                    "(No column name)": "4"
                                },
                                {
                                    "SZOBA_ID": "99",
                                    "(No column name)": "1"
                                },
                                {
                                    "SZOBA_ID": "99",
                                    "(No column name)": "5"
                                },
                                {
                                    "SZOBA_ID": "100",
                                    "(No column name)": "3"
                                },
                                {
                                    "SZOBA_ID": "100",
                                    "(No column name)": "1"
                                },
                                {
                                    "SZOBA_ID": "100",
                                    "(No column name)": "4"
                                },
                                {
                                    "SZOBA_ID": "101",
                                    "(No column name)": "2"
                                },
                                {
                                    "SZOBA_ID": "101",
                                    "(No column name)": "1"
                                },
                                {
                                    "SZOBA_ID": "101",
                                    "(No column name)": "3"
                                },
                                {
                                    "SZOBA_ID": "102",
                                    "(No column name)": "2"
                                },
                                {
                                    "SZOBA_ID": "102",
                                    "(No column name)": "2"
                                },
                                {
                                    "SZOBA_ID": "103",
                                    "(No column name)": "3"
                                },
                                {
                                    "SZOBA_ID": "103",
                                    "(No column name)": "1"
                                },
                                {
                                    "SZOBA_ID": "103",
                                    "(No column name)": "4"
                                },
                                {
                                    "SZOBA_ID": "104",
                                    "(No column name)": "2"
                                },
                                {
                                    "SZOBA_ID": "104",
                                    "(No column name)": "2"
                                },
                                {
                                    "SZOBA_ID": "104",
                                    "(No column name)": "4"
                                },
                                {
                                    "SZOBA_ID": "105",
                                    "(No column name)": "1"
                                },
                                {
                                    "SZOBA_ID": "105",
                                    "(No column name)": "1"
                                },
                                {
                                    "SZOBA_ID": "105",
                                    "(No column name)": "2"
                                },
                                {
                                    "SZOBA_ID": "106",
                                    "(No column name)": "5"
                                },
                                {
                                    "SZOBA_ID": "106",
                                    "(No column name)": "1"
                                },
                                {
                                    "SZOBA_ID": "106",
                                    "(No column name)": "6"
                                },
                                {
                                    "SZOBA_ID": "107",
                                    "(No column name)": "3"
                                },
                                {
                                    "SZOBA_ID": "107",
                                    "(No column name)": "2"
                                },
                                {
                                    "SZOBA_ID": "107",
                                    "(No column name)": "5"
                                },
                                {
                                    "SZOBA_ID": "108",
                                    "(No column name)": "2"
                                },
                                {
                                    "SZOBA_ID": "108",
                                    "(No column name)": "2"
                                },
                                {
                                    "SZOBA_ID": "109",
                                    "(No column name)": "6"
                                },
                                {
                                    "SZOBA_ID": "109",
                                    "(No column name)": "1"
                                },
                                {
                                    "SZOBA_ID": "109",
                                    "(No column name)": "7"
                                },
                                {
                                    "SZOBA_ID": "110",
                                    "(No column name)": "6"
                                },
                                {
                                    "SZOBA_ID": "110",
                                    "(No column name)": "2"
                                },
                                {
                                    "SZOBA_ID": "110",
                                    "(No column name)": "8"
                                },
                                {
                                    "SZOBA_ID": "111",
                                    "(No column name)": "5"
                                },
                                {
                                    "SZOBA_ID": "111",
                                    "(No column name)": "5"
                                },
                                {
                                    "SZOBA_ID": "112",
                                    "(No column name)": "4"
                                },
                                {
                                    "SZOBA_ID": "112",
                                    "(No column name)": "1"
                                },
                                {
                                    "SZOBA_ID": "112",
                                    "(No column name)": "5"
                                },
                                {
                                    "SZOBA_ID": "113",
                                    "(No column name)": "3"
                                },
                                {
                                    "SZOBA_ID": "113",
                                    "(No column name)": "2"
                                },
                                {
                                    "SZOBA_ID": "113",
                                    "(No column name)": "5"
                                },
                                {
                                    "SZOBA_ID": "114",
                                    "(No column name)": "3"
                                },
                                {
                                    "SZOBA_ID": "114",
                                    "(No column name)": "1"
                                },
                                {
                                    "SZOBA_ID": "114",
                                    "(No column name)": "4"
                                },
                                {
                                    "SZOBA_ID": "115",
                                    "(No column name)": "5"
                                },
                                {
                                    "SZOBA_ID": "115",
                                    "(No column name)": "2"
                                },
                                {
                                    "SZOBA_ID": "115",
                                    "(No column name)": "7"
                                },
                                {
                                    "SZOBA_ID": "116",
                                    "(No column name)": "2"
                                },
                                {
                                    "SZOBA_ID": "116",
                                    "(No column name)": "2"
                                },
                                {
                                    "SZOBA_ID": "117",
                                    "(No column name)": "7"
                                },
                                {
                                    "SZOBA_ID": "117",
                                    "(No column name)": "1"
                                },
                                {
                                    "SZOBA_ID": "117",
                                    "(No column name)": "8"
                                },
                                {
                                    "SZOBA_ID": "118",
                                    "(No column name)": "5"
                                },
                                {
                                    "SZOBA_ID": "118",
                                    "(No column name)": "2"
                                },
                                {
                                    "SZOBA_ID": "118",
                                    "(No column name)": "7"
                                },
                                {
                                    "SZOBA_ID": "119",
                                    "(No column name)": "3"
                                },
                                {
                                    "SZOBA_ID": "119",
                                    "(No column name)": "2"
                                },
                                {
                                    "SZOBA_ID": "119",
                                    "(No column name)": "5"
                                },
                                {
                                    "SZOBA_ID": "120",
                                    "(No column name)": "4"
                                },
                                {
                                    "SZOBA_ID": "120",
                                    "(No column name)": "2"
                                },
                                {
                                    "SZOBA_ID": "120",
                                    "(No column name)": "6"
                                },
                                {
                                    "SZOBA_ID": "121",
                                    "(No column name)": "8"
                                },
                                {
                                    "SZOBA_ID": "121",
                                    "(No column name)": "8"
                                },
                                {
                                    "SZOBA_ID": "122",
                                    "(No column name)": "8"
                                },
                                {
                                    "SZOBA_ID": "122",
                                    "(No column name)": "1"
                                },
                                {
                                    "SZOBA_ID": "122",
                                    "(No column name)": "9"
                                },
                                {
                                    "SZOBA_ID": "123",
                                    "(No column name)": "5"
                                },
                                {
                                    "SZOBA_ID": "123",
                                    "(No column name)": "5"
                                },
                                {
                                    "SZOBA_ID": "124",
                                    "(No column name)": "4"
                                },
                                {
                                    "SZOBA_ID": "124",
                                    "(No column name)": "2"
                                },
                                {
                                    "SZOBA_ID": "124",
                                    "(No column name)": "6"
                                },
                                {
                                    "SZOBA_ID": "125",
                                    "(No column name)": "1"
                                },
                                {
                                    "SZOBA_ID": "125",
                                    "(No column name)": "1"
                                },
                                {
                                    "SZOBA_ID": "126",
                                    "(No column name)": "4"
                                },
                                {
                                    "SZOBA_ID": "126",
                                    "(No column name)": "2"
                                },
                                {
                                    "SZOBA_ID": "126",
                                    "(No column name)": "6"
                                },
                                {
                                    "SZOBA_ID": "127",
                                    "(No column name)": "6"
                                },
                                {
                                    "SZOBA_ID": "127",
                                    "(No column name)": "1"
                                },
                                {
                                    "SZOBA_ID": "127",
                                    "(No column name)": "7"
                                },
                                {
                                    "SZOBA_ID": "128",
                                    "(No column name)": "3"
                                },
                                {
                                    "SZOBA_ID": "128",
                                    "(No column name)": "2"
                                },
                                {
                                    "SZOBA_ID": "128",
                                    "(No column name)": "5"
                                },
                                {
                                    "SZOBA_ID": "129",
                                    "(No column name)": "2"
                                },
                                {
                                    "SZOBA_ID": "129",
                                    "(No column name)": "2"
                                },
                                {
                                    "SZOBA_ID": "129",
                                    "(No column name)": "4"
                                },
                                {
                                    "SZOBA_ID": "130",
                                    "(No column name)": "5"
                                },
                                {
                                    "SZOBA_ID": "130",
                                    "(No column name)": "1"
                                },
                                {
                                    "SZOBA_ID": "130",
                                    "(No column name)": "6"
                                },
                                {
                                    "SZOBA_ID": "131",
                                    "(No column name)": "4"
                                },
                                {
                                    "SZOBA_ID": "131",
                                    "(No column name)": "1"
                                },
                                {
                                    "SZOBA_ID": "131",
                                    "(No column name)": "5"
                                },
                                {
                                    "SZOBA_ID": "132",
                                    "(No column name)": "5"
                                },
                                {
                                    "SZOBA_ID": "132",
                                    "(No column name)": "1"
                                },
                                {
                                    "SZOBA_ID": "132",
                                    "(No column name)": "6"
                                },
                                {
                                    "SZOBA_ID": "133",
                                    "(No column name)": "5"
                                },
                                {
                                    "SZOBA_ID": "133",
                                    "(No column name)": "1"
                                },
                                {
                                    "SZOBA_ID": "133",
                                    "(No column name)": "6"
                                },
                                {
                                    "SZOBA_ID": "134",
                                    "(No column name)": "5"
                                },
                                {
                                    "SZOBA_ID": "134",
                                    "(No column name)": "1"
                                },
                                {
                                    "SZOBA_ID": "134",
                                    "(No column name)": "6"
                                },
                                {
                                    "SZOBA_ID": "135",
                                    "(No column name)": "3"
                                },
                                {
                                    "SZOBA_ID": "135",
                                    "(No column name)": "3"
                                },
                                {
                                    "SZOBA_ID": "136",
                                    "(No column name)": "3"
                                },
                                {
                                    "SZOBA_ID": "136",
                                    "(No column name)": "3"
                                },
                                {
                                    "SZOBA_ID": "137",
                                    "(No column name)": "6"
                                },
                                {
                                    "SZOBA_ID": "137",
                                    "(No column name)": "6"
                                },
                                {
                                    "SZOBA_ID": "138",
                                    "(No column name)": "7"
                                },
                                {
                                    "SZOBA_ID": "138",
                                    "(No column name)": "7"
                                },
                                {
                                    "SZOBA_ID": "139",
                                    "(No column name)": "5"
                                },
                                {
                                    "SZOBA_ID": "139",
                                    "(No column name)": "2"
                                },
                                {
                                    "SZOBA_ID": "139",
                                    "(No column name)": "7"
                                },
                                {
                                    "SZOBA_ID": "140",
                                    "(No column name)": "8"
                                },
                                {
                                    "SZOBA_ID": "140",
                                    "(No column name)": "8"
                                },
                                {
                                    "SZOBA_ID": "141",
                                    "(No column name)": "6"
                                },
                                {
                                    "SZOBA_ID": "141",
                                    "(No column name)": "6"
                                },
                                {
                                    "SZOBA_ID": "142",
                                    "(No column name)": "1"
                                },
                                {
                                    "SZOBA_ID": "142",
                                    "(No column name)": "1"
                                },
                                {
                                    "SZOBA_ID": "142",
                                    "(No column name)": "2"
                                },
                                {
                                    "SZOBA_ID": "143",
                                    "(No column name)": "6"
                                },
                                {
                                    "SZOBA_ID": "143",
                                    "(No column name)": "1"
                                },
                                {
                                    "SZOBA_ID": "143",
                                    "(No column name)": "7"
                                },
                                {
                                    "SZOBA_ID": "144",
                                    "(No column name)": "4"
                                },
                                {
                                    "SZOBA_ID": "144",
                                    "(No column name)": "1"
                                },
                                {
                                    "SZOBA_ID": "144",
                                    "(No column name)": "5"
                                },
                                {
                                    "SZOBA_ID": "145",
                                    "(No column name)": "5"
                                },
                                {
                                    "SZOBA_ID": "145",
                                    "(No column name)": "1"
                                },
                                {
                                    "SZOBA_ID": "145",
                                    "(No column name)": "6"
                                },
                                {
                                    "SZOBA_ID": "146",
                                    "(No column name)": "5"
                                },
                                {
                                    "SZOBA_ID": "146",
                                    "(No column name)": "1"
                                },
                                {
                                    "SZOBA_ID": "146",
                                    "(No column name)": "6"
                                },
                                {
                                    "SZOBA_ID": "147",
                                    "(No column name)": "1"
                                },
                                {
                                    "SZOBA_ID": "147",
                                    "(No column name)": "1"
                                },
                                {
                                    "SZOBA_ID": "148",
                                    "(No column name)": "5"
                                },
                                {
                                    "SZOBA_ID": "148",
                                    "(No column name)": "1"
                                },
                                {
                                    "SZOBA_ID": "148",
                                    "(No column name)": "6"
                                },
                                {
                                    "SZOBA_ID": "149",
                                    "(No column name)": "6"
                                },
                                {
                                    "SZOBA_ID": "149",
                                    "(No column name)": "1"
                                },
                                {
                                    "SZOBA_ID": "149",
                                    "(No column name)": "7"
                                },
                                {
                                    "SZOBA_ID": "150",
                                    "(No column name)": "5"
                                },
                                {
                                    "SZOBA_ID": "150",
                                    "(No column name)": "1"
                                },
                                {
                                    "SZOBA_ID": "150",
                                    "(No column name)": "6"
                                },
                                {
                                    "SZOBA_ID": "151",
                                    "(No column name)": "3"
                                },
                                {
                                    "SZOBA_ID": "151",
                                    "(No column name)": "3"
                                },
                                {
                                    "SZOBA_ID": "152",
                                    "(No column name)": "3"
                                },
                                {
                                    "SZOBA_ID": "152",
                                    "(No column name)": "1"
                                },
                                {
                                    "SZOBA_ID": "152",
                                    "(No column name)": "4"
                                },
                                {
                                    "SZOBA_ID": "153",
                                    "(No column name)": "2"
                                },
                                {
                                    "SZOBA_ID": "153",
                                    "(No column name)": "3"
                                },
                                {
                                    "SZOBA_ID": "153",
                                    "(No column name)": "5"
                                },
                                {
                                    "SZOBA_ID": "154",
                                    "(No column name)": "4"
                                },
                                {
                                    "SZOBA_ID": "154",
                                    "(No column name)": "1"
                                },
                                {
                                    "SZOBA_ID": "154",
                                    "(No column name)": "5"
                                },
                                {
                                    "SZOBA_ID": "155",
                                    "(No column name)": "4"
                                },
                                {
                                    "SZOBA_ID": "155",
                                    "(No column name)": "1"
                                },
                                {
                                    "SZOBA_ID": "155",
                                    "(No column name)": "5"
                                },
                                {
                                    "SZOBA_ID": "156",
                                    "(No column name)": "4"
                                },
                                {
                                    "SZOBA_ID": "156",
                                    "(No column name)": "3"
                                },
                                {
                                    "SZOBA_ID": "156",
                                    "(No column name)": "7"
                                },
                                {
                                    "SZOBA_ID": "157",
                                    "(No column name)": "4"
                                },
                                {
                                    "SZOBA_ID": "157",
                                    "(No column name)": "1"
                                },
                                {
                                    "SZOBA_ID": "157",
                                    "(No column name)": "5"
                                },
                                {
                                    "SZOBA_ID": "158",
                                    "(No column name)": "3"
                                },
                                {
                                    "SZOBA_ID": "158",
                                    "(No column name)": "3"
                                },
                                {
                                    "SZOBA_ID": "160",
                                    "(No column name)": "4"
                                },
                                {
                                    "SZOBA_ID": "160",
                                    "(No column name)": "1"
                                },
                                {
                                    "SZOBA_ID": "160",
                                    "(No column name)": "5"
                                },
                                {
                                    "SZOBA_ID": "161",
                                    "(No column name)": "5"
                                },
                                {
                                    "SZOBA_ID": "161",
                                    "(No column name)": "1"
                                },
                                {
                                    "SZOBA_ID": "161",
                                    "(No column name)": "6"
                                },
                                {
                                    "SZOBA_ID": "162",
                                    "(No column name)": "3"
                                },
                                {
                                    "SZOBA_ID": "162",
                                    "(No column name)": "3"
                                },
                                {
                                    "SZOBA_ID": "163",
                                    "(No column name)": "6"
                                },
                                {
                                    "SZOBA_ID": "163",
                                    "(No column name)": "1"
                                },
                                {
                                    "SZOBA_ID": "163",
                                    "(No column name)": "7"
                                },
                                {
                                    "SZOBA_ID": "164",
                                    "(No column name)": "5"
                                },
                                {
                                    "SZOBA_ID": "164",
                                    "(No column name)": "5"
                                },
                                {
                                    "SZOBA_ID": "165",
                                    "(No column name)": "7"
                                },
                                {
                                    "SZOBA_ID": "165",
                                    "(No column name)": "7"
                                },
                                {
                                    "SZOBA_ID": "166",
                                    "(No column name)": "2"
                                },
                                {
                                    "SZOBA_ID": "166",
                                    "(No column name)": "1"
                                },
                                {
                                    "SZOBA_ID": "166",
                                    "(No column name)": "3"
                                },
                                {
                                    "SZOBA_ID": "167",
                                    "(No column name)": "1"
                                },
                                {
                                    "SZOBA_ID": "167",
                                    "(No column name)": "1"
                                },
                                {
                                    "SZOBA_ID": "167",
                                    "(No column name)": "2"
                                },
                                {
                                    "SZOBA_ID": "168",
                                    "(No column name)": "5"
                                },
                                {
                                    "SZOBA_ID": "168",
                                    "(No column name)": "5"
                                },
                                {
                                    "SZOBA_ID": "169",
                                    "(No column name)": "5"
                                },
                                {
                                    "SZOBA_ID": "169",
                                    "(No column name)": "1"
                                },
                                {
                                    "SZOBA_ID": "169",
                                    "(No column name)": "6"
                                },
                                {
                                    "SZOBA_ID": "170",
                                    "(No column name)": "5"
                                },
                                {
                                    "SZOBA_ID": "170",
                                    "(No column name)": "5"
                                },
                                {
                                    "SZOBA_ID": "171",
                                    "(No column name)": "4"
                                },
                                {
                                    "SZOBA_ID": "171",
                                    "(No column name)": "1"
                                },
                                {
                                    "SZOBA_ID": "171",
                                    "(No column name)": "5"
                                },
                                {
                                    "SZOBA_ID": "172",
                                    "(No column name)": "7"
                                },
                                {
                                    "SZOBA_ID": "172",
                                    "(No column name)": "2"
                                },
                                {
                                    "SZOBA_ID": "172",
                                    "(No column name)": "9"
                                },
                                {
                                    "SZOBA_ID": "173",
                                    "(No column name)": "3"
                                },
                                {
                                    "SZOBA_ID": "173",
                                    "(No column name)": "1"
                                },
                                {
                                    "SZOBA_ID": "173",
                                    "(No column name)": "4"
                                },
                                {
                                    "SZOBA_ID": "174",
                                    "(No column name)": "4"
                                },
                                {
                                    "SZOBA_ID": "174",
                                    "(No column name)": "4"
                                },
                                {
                                    "SZOBA_ID": "175",
                                    "(No column name)": "5"
                                },
                                {
                                    "SZOBA_ID": "175",
                                    "(No column name)": "5"
                                },
                                {
                                    "SZOBA_ID": "176",
                                    "(No column name)": "4"
                                },
                                {
                                    "SZOBA_ID": "176",
                                    "(No column name)": "2"
                                },
                                {
                                    "SZOBA_ID": "176",
                                    "(No column name)": "6"
                                },
                                {
                                    "SZOBA_ID": "177",
                                    "(No column name)": "3"
                                },
                                {
                                    "SZOBA_ID": "177",
                                    "(No column name)": "1"
                                },
                                {
                                    "SZOBA_ID": "177",
                                    "(No column name)": "4"
                                },
                                {
                                    "SZOBA_ID": "178",
                                    "(No column name)": "4"
                                },
                                {
                                    "SZOBA_ID": "178",
                                    "(No column name)": "4"
                                },
                                {
                                    "SZOBA_ID": "179",
                                    "(No column name)": "2"
                                },
                                {
                                    "SZOBA_ID": "179",
                                    "(No column name)": "1"
                                },
                                {
                                    "SZOBA_ID": "179",
                                    "(No column name)": "3"
                                },
                                {
                                    "SZOBA_ID": "180",
                                    "(No column name)": "1"
                                },
                                {
                                    "SZOBA_ID": "180",
                                    "(No column name)": "2"
                                },
                                {
                                    "SZOBA_ID": "180",
                                    "(No column name)": "3"
                                },
                                {
                                    "SZOBA_ID": "181",
                                    "(No column name)": "6"
                                },
                                {
                                    "SZOBA_ID": "181",
                                    "(No column name)": "6"
                                },
                                {
                                    "SZOBA_ID": "182",
                                    "(No column name)": "10"
                                },
                                {
                                    "SZOBA_ID": "182",
                                    "(No column name)": "2"
                                },
                                {
                                    "SZOBA_ID": "182",
                                    "(No column name)": "12"
                                },
                                {
                                    "SZOBA_ID": "183",
                                    "(No column name)": "3"
                                },
                                {
                                    "SZOBA_ID": "183",
                                    "(No column name)": "1"
                                },
                                {
                                    "SZOBA_ID": "183",
                                    "(No column name)": "4"
                                },
                                {
                                    "SZOBA_ID": "184",
                                    "(No column name)": "4"
                                },
                                {
                                    "SZOBA_ID": "184",
                                    "(No column name)": "4"
                                },
                                {
                                    "SZOBA_ID": "185",
                                    "(No column name)": "10"
                                },
                                {
                                    "SZOBA_ID": "185",
                                    "(No column name)": "2"
                                },
                                {
                                    "SZOBA_ID": "185",
                                    "(No column name)": "12"
                                },
                                {
                                    "SZOBA_ID": "186",
                                    "(No column name)": "3"
                                },
                                {
                                    "SZOBA_ID": "186",
                                    "(No column name)": "1"
                                },
                                {
                                    "SZOBA_ID": "186",
                                    "(No column name)": "4"
                                },
                                {
                                    "SZOBA_ID": "187",
                                    "(No column name)": "7"
                                },
                                {
                                    "SZOBA_ID": "187",
                                    "(No column name)": "7"
                                },
                                {
                                    "SZOBA_ID": "188",
                                    "(No column name)": "6"
                                },
                                {
                                    "SZOBA_ID": "188",
                                    "(No column name)": "6"
                                },
                                {
                                    "SZOBA_ID": "189",
                                    "(No column name)": "3"
                                },
                                {
                                    "SZOBA_ID": "189",
                                    "(No column name)": "2"
                                },
                                {
                                    "SZOBA_ID": "189",
                                    "(No column name)": "5"
                                },
                                {
                                    "SZOBA_ID": "190",
                                    "(No column name)": "4"
                                },
                                {
                                    "SZOBA_ID": "190",
                                    "(No column name)": "1"
                                },
                                {
                                    "SZOBA_ID": "190",
                                    "(No column name)": "5"
                                },
                                {
                                    "SZOBA_ID": "191",
                                    "(No column name)": "3"
                                },
                                {
                                    "SZOBA_ID": "191",
                                    "(No column name)": "2"
                                },
                                {
                                    "SZOBA_ID": "191",
                                    "(No column name)": "5"
                                },
                                {
                                    "SZOBA_ID": "192",
                                    "(No column name)": "2"
                                },
                                {
                                    "SZOBA_ID": "192",
                                    "(No column name)": "2"
                                },
                                {
                                    "SZOBA_ID": "193",
                                    "(No column name)": "7"
                                },
                                {
                                    "SZOBA_ID": "193",
                                    "(No column name)": "7"
                                },
                                {
                                    "SZOBA_ID": "194",
                                    "(No column name)": "1"
                                },
                                {
                                    "SZOBA_ID": "194",
                                    "(No column name)": "1"
                                },
                                {
                                    "SZOBA_ID": "195",
                                    "(No column name)": "4"
                                },
                                {
                                    "SZOBA_ID": "195",
                                    "(No column name)": "2"
                                },
                                {
                                    "SZOBA_ID": "195",
                                    "(No column name)": "6"
                                },
                                {
                                    "SZOBA_ID": "196",
                                    "(No column name)": "4"
                                },
                                {
                                    "SZOBA_ID": "196",
                                    "(No column name)": "4"
                                },
                                {
                                    "SZOBA_ID": "197",
                                    "(No column name)": "6"
                                },
                                {
                                    "SZOBA_ID": "197",
                                    "(No column name)": "6"
                                },
                                {
                                    "SZOBA_ID": "198",
                                    "(No column name)": "7"
                                },
                                {
                                    "SZOBA_ID": "198",
                                    "(No column name)": "1"
                                },
                                {
                                    "SZOBA_ID": "198",
                                    "(No column name)": "8"
                                },
                                {
                                    "SZOBA_ID": "NULL",
                                    "(No column name)": "1027"
                                }
                            ]
                        },
                        "text/html": [
                            "<table>",
                            "<tr><th>SZOBA_ID</th><th>(No column name)</th><th>(No column name)</th></tr>",
                            "<tr><td>1</td><td>2016</td><td>8</td></tr>",
                            "<tr><td>1</td><td>NULL</td><td>8</td></tr>",
                            "<tr><td>2</td><td>2016</td><td>4</td></tr>",
                            "<tr><td>2</td><td>NULL</td><td>4</td></tr>",
                            "<tr><td>3</td><td>2016</td><td>6</td></tr>",
                            "<tr><td>3</td><td>2017</td><td>2</td></tr>",
                            "<tr><td>3</td><td>NULL</td><td>8</td></tr>",
                            "<tr><td>4</td><td>2016</td><td>5</td></tr>",
                            "<tr><td>4</td><td>2017</td><td>1</td></tr>",
                            "<tr><td>4</td><td>NULL</td><td>6</td></tr>",
                            "<tr><td>5</td><td>2016</td><td>4</td></tr>",
                            "<tr><td>5</td><td>NULL</td><td>4</td></tr>",
                            "<tr><td>6</td><td>2016</td><td>6</td></tr>",
                            "<tr><td>6</td><td>NULL</td><td>6</td></tr>",
                            "<tr><td>7</td><td>2016</td><td>6</td></tr>",
                            "<tr><td>7</td><td>NULL</td><td>6</td></tr>",
                            "<tr><td>8</td><td>2016</td><td>5</td></tr>",
                            "<tr><td>8</td><td>NULL</td><td>5</td></tr>",
                            "<tr><td>9</td><td>2016</td><td>4</td></tr>",
                            "<tr><td>9</td><td>2017</td><td>2</td></tr>",
                            "<tr><td>9</td><td>NULL</td><td>6</td></tr>",
                            "<tr><td>10</td><td>2016</td><td>4</td></tr>",
                            "<tr><td>10</td><td>NULL</td><td>4</td></tr>",
                            "<tr><td>11</td><td>2016</td><td>3</td></tr>",
                            "<tr><td>11</td><td>2017</td><td>1</td></tr>",
                            "<tr><td>11</td><td>NULL</td><td>4</td></tr>",
                            "<tr><td>12</td><td>2016</td><td>8</td></tr>",
                            "<tr><td>12</td><td>2017</td><td>1</td></tr>",
                            "<tr><td>12</td><td>NULL</td><td>9</td></tr>",
                            "<tr><td>13</td><td>2016</td><td>3</td></tr>",
                            "<tr><td>13</td><td>2017</td><td>1</td></tr>",
                            "<tr><td>13</td><td>NULL</td><td>4</td></tr>",
                            "<tr><td>14</td><td>2016</td><td>2</td></tr>",
                            "<tr><td>14</td><td>2017</td><td>1</td></tr>",
                            "<tr><td>14</td><td>NULL</td><td>3</td></tr>",
                            "<tr><td>15</td><td>2016</td><td>4</td></tr>",
                            "<tr><td>15</td><td>2017</td><td>2</td></tr>",
                            "<tr><td>15</td><td>NULL</td><td>6</td></tr>",
                            "<tr><td>16</td><td>2016</td><td>4</td></tr>",
                            "<tr><td>16</td><td>2017</td><td>1</td></tr>",
                            "<tr><td>16</td><td>NULL</td><td>5</td></tr>",
                            "<tr><td>17</td><td>2016</td><td>5</td></tr>",
                            "<tr><td>17</td><td>2017</td><td>1</td></tr>",
                            "<tr><td>17</td><td>NULL</td><td>6</td></tr>",
                            "<tr><td>18</td><td>2016</td><td>5</td></tr>",
                            "<tr><td>18</td><td>2017</td><td>1</td></tr>",
                            "<tr><td>18</td><td>NULL</td><td>6</td></tr>",
                            "<tr><td>19</td><td>2016</td><td>5</td></tr>",
                            "<tr><td>19</td><td>2017</td><td>1</td></tr>",
                            "<tr><td>19</td><td>NULL</td><td>6</td></tr>",
                            "<tr><td>20</td><td>2016</td><td>5</td></tr>",
                            "<tr><td>20</td><td>NULL</td><td>5</td></tr>",
                            "<tr><td>21</td><td>2016</td><td>4</td></tr>",
                            "<tr><td>21</td><td>NULL</td><td>4</td></tr>",
                            "<tr><td>22</td><td>2016</td><td>6</td></tr>",
                            "<tr><td>22</td><td>NULL</td><td>6</td></tr>",
                            "<tr><td>23</td><td>2016</td><td>3</td></tr>",
                            "<tr><td>23</td><td>NULL</td><td>3</td></tr>",
                            "<tr><td>24</td><td>2016</td><td>2</td></tr>",
                            "<tr><td>24</td><td>2017</td><td>1</td></tr>",
                            "<tr><td>24</td><td>NULL</td><td>3</td></tr>",
                            "<tr><td>25</td><td>2016</td><td>2</td></tr>",
                            "<tr><td>25</td><td>NULL</td><td>2</td></tr>",
                            "<tr><td>26</td><td>2016</td><td>2</td></tr>",
                            "<tr><td>26</td><td>NULL</td><td>2</td></tr>",
                            "<tr><td>27</td><td>2016</td><td>6</td></tr>",
                            "<tr><td>27</td><td>2017</td><td>1</td></tr>",
                            "<tr><td>27</td><td>NULL</td><td>7</td></tr>",
                            "<tr><td>28</td><td>2016</td><td>5</td></tr>",
                            "<tr><td>28</td><td>2017</td><td>1</td></tr>",
                            "<tr><td>28</td><td>NULL</td><td>6</td></tr>",
                            "<tr><td>29</td><td>2016</td><td>5</td></tr>",
                            "<tr><td>29</td><td>2017</td><td>1</td></tr>",
                            "<tr><td>29</td><td>NULL</td><td>6</td></tr>",
                            "<tr><td>30</td><td>2016</td><td>3</td></tr>",
                            "<tr><td>30</td><td>NULL</td><td>3</td></tr>",
                            "<tr><td>31</td><td>2016</td><td>3</td></tr>",
                            "<tr><td>31</td><td>NULL</td><td>3</td></tr>",
                            "<tr><td>32</td><td>2016</td><td>1</td></tr>",
                            "<tr><td>32</td><td>NULL</td><td>1</td></tr>",
                            "<tr><td>33</td><td>2016</td><td>6</td></tr>",
                            "<tr><td>33</td><td>NULL</td><td>6</td></tr>",
                            "<tr><td>34</td><td>2016</td><td>4</td></tr>",
                            "<tr><td>34</td><td>NULL</td><td>4</td></tr>",
                            "<tr><td>35</td><td>2016</td><td>6</td></tr>",
                            "<tr><td>35</td><td>2017</td><td>3</td></tr>",
                            "<tr><td>35</td><td>NULL</td><td>9</td></tr>",
                            "<tr><td>36</td><td>2016</td><td>6</td></tr>",
                            "<tr><td>36</td><td>NULL</td><td>6</td></tr>",
                            "<tr><td>37</td><td>2016</td><td>3</td></tr>",
                            "<tr><td>37</td><td>NULL</td><td>3</td></tr>",
                            "<tr><td>38</td><td>2016</td><td>5</td></tr>",
                            "<tr><td>38</td><td>2017</td><td>3</td></tr>",
                            "<tr><td>38</td><td>NULL</td><td>8</td></tr>",
                            "<tr><td>39</td><td>2016</td><td>4</td></tr>",
                            "<tr><td>39</td><td>2017</td><td>3</td></tr>",
                            "<tr><td>39</td><td>NULL</td><td>7</td></tr>",
                            "<tr><td>40</td><td>2016</td><td>4</td></tr>",
                            "<tr><td>40</td><td>NULL</td><td>4</td></tr>",
                            "<tr><td>41</td><td>2016</td><td>2</td></tr>",
                            "<tr><td>41</td><td>NULL</td><td>2</td></tr>",
                            "<tr><td>42</td><td>2016</td><td>5</td></tr>",
                            "<tr><td>42</td><td>2017</td><td>1</td></tr>",
                            "<tr><td>42</td><td>NULL</td><td>6</td></tr>",
                            "<tr><td>43</td><td>2016</td><td>6</td></tr>",
                            "<tr><td>43</td><td>2017</td><td>2</td></tr>",
                            "<tr><td>43</td><td>NULL</td><td>8</td></tr>",
                            "<tr><td>44</td><td>2016</td><td>4</td></tr>",
                            "<tr><td>44</td><td>2017</td><td>2</td></tr>",
                            "<tr><td>44</td><td>NULL</td><td>6</td></tr>",
                            "<tr><td>45</td><td>2016</td><td>5</td></tr>",
                            "<tr><td>45</td><td>NULL</td><td>5</td></tr>",
                            "<tr><td>46</td><td>2016</td><td>3</td></tr>",
                            "<tr><td>46</td><td>2017</td><td>1</td></tr>",
                            "<tr><td>46</td><td>NULL</td><td>4</td></tr>",
                            "<tr><td>47</td><td>2016</td><td>2</td></tr>",
                            "<tr><td>47</td><td>NULL</td><td>2</td></tr>",
                            "<tr><td>48</td><td>2016</td><td>6</td></tr>",
                            "<tr><td>48</td><td>2017</td><td>3</td></tr>",
                            "<tr><td>48</td><td>NULL</td><td>9</td></tr>",
                            "<tr><td>49</td><td>2016</td><td>6</td></tr>",
                            "<tr><td>49</td><td>2017</td><td>1</td></tr>",
                            "<tr><td>49</td><td>NULL</td><td>7</td></tr>",
                            "<tr><td>50</td><td>2016</td><td>4</td></tr>",
                            "<tr><td>50</td><td>NULL</td><td>4</td></tr>",
                            "<tr><td>51</td><td>2016</td><td>3</td></tr>",
                            "<tr><td>51</td><td>2017</td><td>2</td></tr>",
                            "<tr><td>51</td><td>NULL</td><td>5</td></tr>",
                            "<tr><td>52</td><td>2016</td><td>3</td></tr>",
                            "<tr><td>52</td><td>2017</td><td>2</td></tr>",
                            "<tr><td>52</td><td>NULL</td><td>5</td></tr>",
                            "<tr><td>53</td><td>2016</td><td>2</td></tr>",
                            "<tr><td>53</td><td>NULL</td><td>2</td></tr>",
                            "<tr><td>54</td><td>2016</td><td>6</td></tr>",
                            "<tr><td>54</td><td>NULL</td><td>6</td></tr>",
                            "<tr><td>55</td><td>2016</td><td>6</td></tr>",
                            "<tr><td>55</td><td>2017</td><td>2</td></tr>",
                            "<tr><td>55</td><td>NULL</td><td>8</td></tr>",
                            "<tr><td>56</td><td>2016</td><td>2</td></tr>",
                            "<tr><td>56</td><td>NULL</td><td>2</td></tr>",
                            "<tr><td>57</td><td>2016</td><td>2</td></tr>",
                            "<tr><td>57</td><td>2017</td><td>2</td></tr>",
                            "<tr><td>57</td><td>NULL</td><td>4</td></tr>",
                            "<tr><td>58</td><td>2016</td><td>12</td></tr>",
                            "<tr><td>58</td><td>2017</td><td>1</td></tr>",
                            "<tr><td>58</td><td>NULL</td><td>13</td></tr>",
                            "<tr><td>59</td><td>2016</td><td>6</td></tr>",
                            "<tr><td>59</td><td>2017</td><td>1</td></tr>",
                            "<tr><td>59</td><td>NULL</td><td>7</td></tr>",
                            "<tr><td>60</td><td>2016</td><td>1</td></tr>",
                            "<tr><td>60</td><td>NULL</td><td>1</td></tr>",
                            "<tr><td>61</td><td>2016</td><td>4</td></tr>",
                            "<tr><td>61</td><td>2017</td><td>1</td></tr>",
                            "<tr><td>61</td><td>NULL</td><td>5</td></tr>",
                            "<tr><td>62</td><td>2016</td><td>4</td></tr>",
                            "<tr><td>62</td><td>2017</td><td>1</td></tr>",
                            "<tr><td>62</td><td>NULL</td><td>5</td></tr>",
                            "<tr><td>63</td><td>2016</td><td>4</td></tr>",
                            "<tr><td>63</td><td>NULL</td><td>4</td></tr>",
                            "<tr><td>64</td><td>2016</td><td>3</td></tr>",
                            "<tr><td>64</td><td>2017</td><td>3</td></tr>",
                            "<tr><td>64</td><td>NULL</td><td>6</td></tr>",
                            "<tr><td>65</td><td>2016</td><td>1</td></tr>",
                            "<tr><td>65</td><td>NULL</td><td>1</td></tr>",
                            "<tr><td>66</td><td>2016</td><td>4</td></tr>",
                            "<tr><td>66</td><td>NULL</td><td>4</td></tr>",
                            "<tr><td>67</td><td>2016</td><td>4</td></tr>",
                            "<tr><td>67</td><td>2017</td><td>2</td></tr>",
                            "<tr><td>67</td><td>NULL</td><td>6</td></tr>",
                            "<tr><td>68</td><td>2016</td><td>3</td></tr>",
                            "<tr><td>68</td><td>NULL</td><td>3</td></tr>",
                            "<tr><td>69</td><td>2016</td><td>4</td></tr>",
                            "<tr><td>69</td><td>NULL</td><td>4</td></tr>",
                            "<tr><td>70</td><td>2016</td><td>10</td></tr>",
                            "<tr><td>70</td><td>2017</td><td>1</td></tr>",
                            "<tr><td>70</td><td>NULL</td><td>11</td></tr>",
                            "<tr><td>71</td><td>2016</td><td>3</td></tr>",
                            "<tr><td>71</td><td>NULL</td><td>3</td></tr>",
                            "<tr><td>72</td><td>2016</td><td>4</td></tr>",
                            "<tr><td>72</td><td>NULL</td><td>4</td></tr>",
                            "<tr><td>73</td><td>2016</td><td>4</td></tr>",
                            "<tr><td>73</td><td>NULL</td><td>4</td></tr>",
                            "<tr><td>74</td><td>2016</td><td>9</td></tr>",
                            "<tr><td>74</td><td>NULL</td><td>9</td></tr>",
                            "<tr><td>75</td><td>2016</td><td>1</td></tr>",
                            "<tr><td>75</td><td>2017</td><td>2</td></tr>",
                            "<tr><td>75</td><td>NULL</td><td>3</td></tr>",
                            "<tr><td>76</td><td>2016</td><td>2</td></tr>",
                            "<tr><td>76</td><td>2017</td><td>1</td></tr>",
                            "<tr><td>76</td><td>NULL</td><td>3</td></tr>",
                            "<tr><td>77</td><td>2016</td><td>4</td></tr>",
                            "<tr><td>77</td><td>2017</td><td>2</td></tr>",
                            "<tr><td>77</td><td>NULL</td><td>6</td></tr>",
                            "<tr><td>78</td><td>2016</td><td>5</td></tr>",
                            "<tr><td>78</td><td>2017</td><td>1</td></tr>",
                            "<tr><td>78</td><td>NULL</td><td>6</td></tr>",
                            "<tr><td>79</td><td>2016</td><td>4</td></tr>",
                            "<tr><td>79</td><td>2017</td><td>1</td></tr>",
                            "<tr><td>79</td><td>NULL</td><td>5</td></tr>",
                            "<tr><td>80</td><td>2016</td><td>7</td></tr>",
                            "<tr><td>80</td><td>NULL</td><td>7</td></tr>",
                            "<tr><td>81</td><td>2016</td><td>1</td></tr>",
                            "<tr><td>81</td><td>2017</td><td>4</td></tr>",
                            "<tr><td>81</td><td>NULL</td><td>5</td></tr>",
                            "<tr><td>82</td><td>2016</td><td>6</td></tr>",
                            "<tr><td>82</td><td>NULL</td><td>6</td></tr>",
                            "<tr><td>83</td><td>2016</td><td>8</td></tr>",
                            "<tr><td>83</td><td>NULL</td><td>8</td></tr>",
                            "<tr><td>84</td><td>2016</td><td>4</td></tr>",
                            "<tr><td>84</td><td>NULL</td><td>4</td></tr>",
                            "<tr><td>85</td><td>2016</td><td>3</td></tr>",
                            "<tr><td>85</td><td>2017</td><td>1</td></tr>",
                            "<tr><td>85</td><td>NULL</td><td>4</td></tr>",
                            "<tr><td>86</td><td>2016</td><td>4</td></tr>",
                            "<tr><td>86</td><td>2017</td><td>1</td></tr>",
                            "<tr><td>86</td><td>NULL</td><td>5</td></tr>",
                            "<tr><td>87</td><td>2016</td><td>4</td></tr>",
                            "<tr><td>87</td><td>2017</td><td>1</td></tr>",
                            "<tr><td>87</td><td>NULL</td><td>5</td></tr>",
                            "<tr><td>88</td><td>2016</td><td>6</td></tr>",
                            "<tr><td>88</td><td>2017</td><td>2</td></tr>",
                            "<tr><td>88</td><td>NULL</td><td>8</td></tr>",
                            "<tr><td>89</td><td>2016</td><td>7</td></tr>",
                            "<tr><td>89</td><td>2017</td><td>1</td></tr>",
                            "<tr><td>89</td><td>NULL</td><td>8</td></tr>",
                            "<tr><td>90</td><td>2016</td><td>4</td></tr>",
                            "<tr><td>90</td><td>NULL</td><td>4</td></tr>",
                            "<tr><td>91</td><td>2016</td><td>4</td></tr>",
                            "<tr><td>91</td><td>NULL</td><td>4</td></tr>",
                            "<tr><td>92</td><td>2016</td><td>4</td></tr>",
                            "<tr><td>92</td><td>2017</td><td>2</td></tr>",
                            "<tr><td>92</td><td>NULL</td><td>6</td></tr>",
                            "<tr><td>93</td><td>2016</td><td>5</td></tr>",
                            "<tr><td>93</td><td>NULL</td><td>5</td></tr>",
                            "<tr><td>94</td><td>2016</td><td>8</td></tr>",
                            "<tr><td>94</td><td>2017</td><td>2</td></tr>",
                            "<tr><td>94</td><td>NULL</td><td>10</td></tr>",
                            "<tr><td>95</td><td>2016</td><td>3</td></tr>",
                            "<tr><td>95</td><td>2017</td><td>1</td></tr>",
                            "<tr><td>95</td><td>NULL</td><td>4</td></tr>",
                            "<tr><td>96</td><td>2016</td><td>5</td></tr>",
                            "<tr><td>96</td><td>2017</td><td>2</td></tr>",
                            "<tr><td>96</td><td>NULL</td><td>7</td></tr>",
                            "<tr><td>97</td><td>2016</td><td>5</td></tr>",
                            "<tr><td>97</td><td>2017</td><td>2</td></tr>",
                            "<tr><td>97</td><td>NULL</td><td>7</td></tr>",
                            "<tr><td>98</td><td>2016</td><td>4</td></tr>",
                            "<tr><td>98</td><td>NULL</td><td>4</td></tr>",
                            "<tr><td>99</td><td>2016</td><td>4</td></tr>",
                            "<tr><td>99</td><td>2017</td><td>1</td></tr>",
                            "<tr><td>99</td><td>NULL</td><td>5</td></tr>",
                            "<tr><td>100</td><td>2016</td><td>3</td></tr>",
                            "<tr><td>100</td><td>2017</td><td>1</td></tr>",
                            "<tr><td>100</td><td>NULL</td><td>4</td></tr>",
                            "<tr><td>101</td><td>2016</td><td>2</td></tr>",
                            "<tr><td>101</td><td>2017</td><td>1</td></tr>",
                            "<tr><td>101</td><td>NULL</td><td>3</td></tr>",
                            "<tr><td>102</td><td>2016</td><td>2</td></tr>",
                            "<tr><td>102</td><td>NULL</td><td>2</td></tr>",
                            "<tr><td>103</td><td>2016</td><td>3</td></tr>",
                            "<tr><td>103</td><td>2017</td><td>1</td></tr>",
                            "<tr><td>103</td><td>NULL</td><td>4</td></tr>",
                            "<tr><td>104</td><td>2016</td><td>2</td></tr>",
                            "<tr><td>104</td><td>2017</td><td>2</td></tr>",
                            "<tr><td>104</td><td>NULL</td><td>4</td></tr>",
                            "<tr><td>105</td><td>2016</td><td>1</td></tr>",
                            "<tr><td>105</td><td>2017</td><td>1</td></tr>",
                            "<tr><td>105</td><td>NULL</td><td>2</td></tr>",
                            "<tr><td>106</td><td>2016</td><td>5</td></tr>",
                            "<tr><td>106</td><td>2017</td><td>1</td></tr>",
                            "<tr><td>106</td><td>NULL</td><td>6</td></tr>",
                            "<tr><td>107</td><td>2016</td><td>3</td></tr>",
                            "<tr><td>107</td><td>2017</td><td>2</td></tr>",
                            "<tr><td>107</td><td>NULL</td><td>5</td></tr>",
                            "<tr><td>108</td><td>2016</td><td>2</td></tr>",
                            "<tr><td>108</td><td>NULL</td><td>2</td></tr>",
                            "<tr><td>109</td><td>2016</td><td>6</td></tr>",
                            "<tr><td>109</td><td>2017</td><td>1</td></tr>",
                            "<tr><td>109</td><td>NULL</td><td>7</td></tr>",
                            "<tr><td>110</td><td>2016</td><td>6</td></tr>",
                            "<tr><td>110</td><td>2017</td><td>2</td></tr>",
                            "<tr><td>110</td><td>NULL</td><td>8</td></tr>",
                            "<tr><td>111</td><td>2016</td><td>5</td></tr>",
                            "<tr><td>111</td><td>NULL</td><td>5</td></tr>",
                            "<tr><td>112</td><td>2016</td><td>4</td></tr>",
                            "<tr><td>112</td><td>2017</td><td>1</td></tr>",
                            "<tr><td>112</td><td>NULL</td><td>5</td></tr>",
                            "<tr><td>113</td><td>2016</td><td>3</td></tr>",
                            "<tr><td>113</td><td>2017</td><td>2</td></tr>",
                            "<tr><td>113</td><td>NULL</td><td>5</td></tr>",
                            "<tr><td>114</td><td>2016</td><td>3</td></tr>",
                            "<tr><td>114</td><td>2017</td><td>1</td></tr>",
                            "<tr><td>114</td><td>NULL</td><td>4</td></tr>",
                            "<tr><td>115</td><td>2016</td><td>5</td></tr>",
                            "<tr><td>115</td><td>2017</td><td>2</td></tr>",
                            "<tr><td>115</td><td>NULL</td><td>7</td></tr>",
                            "<tr><td>116</td><td>2017</td><td>2</td></tr>",
                            "<tr><td>116</td><td>NULL</td><td>2</td></tr>",
                            "<tr><td>117</td><td>2016</td><td>7</td></tr>",
                            "<tr><td>117</td><td>2017</td><td>1</td></tr>",
                            "<tr><td>117</td><td>NULL</td><td>8</td></tr>",
                            "<tr><td>118</td><td>2016</td><td>5</td></tr>",
                            "<tr><td>118</td><td>2017</td><td>2</td></tr>",
                            "<tr><td>118</td><td>NULL</td><td>7</td></tr>",
                            "<tr><td>119</td><td>2016</td><td>3</td></tr>",
                            "<tr><td>119</td><td>2017</td><td>2</td></tr>",
                            "<tr><td>119</td><td>NULL</td><td>5</td></tr>",
                            "<tr><td>120</td><td>2016</td><td>4</td></tr>",
                            "<tr><td>120</td><td>2017</td><td>2</td></tr>",
                            "<tr><td>120</td><td>NULL</td><td>6</td></tr>",
                            "<tr><td>121</td><td>2016</td><td>8</td></tr>",
                            "<tr><td>121</td><td>NULL</td><td>8</td></tr>",
                            "<tr><td>122</td><td>2016</td><td>8</td></tr>",
                            "<tr><td>122</td><td>2017</td><td>1</td></tr>",
                            "<tr><td>122</td><td>NULL</td><td>9</td></tr>",
                            "<tr><td>123</td><td>2016</td><td>5</td></tr>",
                            "<tr><td>123</td><td>NULL</td><td>5</td></tr>",
                            "<tr><td>124</td><td>2016</td><td>4</td></tr>",
                            "<tr><td>124</td><td>2017</td><td>2</td></tr>",
                            "<tr><td>124</td><td>NULL</td><td>6</td></tr>",
                            "<tr><td>125</td><td>2016</td><td>1</td></tr>",
                            "<tr><td>125</td><td>NULL</td><td>1</td></tr>",
                            "<tr><td>126</td><td>2016</td><td>4</td></tr>",
                            "<tr><td>126</td><td>2017</td><td>2</td></tr>",
                            "<tr><td>126</td><td>NULL</td><td>6</td></tr>",
                            "<tr><td>127</td><td>2016</td><td>6</td></tr>",
                            "<tr><td>127</td><td>2017</td><td>1</td></tr>",
                            "<tr><td>127</td><td>NULL</td><td>7</td></tr>",
                            "<tr><td>128</td><td>2016</td><td>3</td></tr>",
                            "<tr><td>128</td><td>2017</td><td>2</td></tr>",
                            "<tr><td>128</td><td>NULL</td><td>5</td></tr>",
                            "<tr><td>129</td><td>2016</td><td>2</td></tr>",
                            "<tr><td>129</td><td>2017</td><td>2</td></tr>",
                            "<tr><td>129</td><td>NULL</td><td>4</td></tr>",
                            "<tr><td>130</td><td>2016</td><td>5</td></tr>",
                            "<tr><td>130</td><td>2017</td><td>1</td></tr>",
                            "<tr><td>130</td><td>NULL</td><td>6</td></tr>",
                            "<tr><td>131</td><td>2016</td><td>4</td></tr>",
                            "<tr><td>131</td><td>2017</td><td>1</td></tr>",
                            "<tr><td>131</td><td>NULL</td><td>5</td></tr>",
                            "<tr><td>132</td><td>2016</td><td>5</td></tr>",
                            "<tr><td>132</td><td>2017</td><td>1</td></tr>",
                            "<tr><td>132</td><td>NULL</td><td>6</td></tr>",
                            "<tr><td>133</td><td>2016</td><td>5</td></tr>",
                            "<tr><td>133</td><td>2017</td><td>1</td></tr>",
                            "<tr><td>133</td><td>NULL</td><td>6</td></tr>",
                            "<tr><td>134</td><td>2016</td><td>5</td></tr>",
                            "<tr><td>134</td><td>2017</td><td>1</td></tr>",
                            "<tr><td>134</td><td>NULL</td><td>6</td></tr>",
                            "<tr><td>135</td><td>2016</td><td>3</td></tr>",
                            "<tr><td>135</td><td>NULL</td><td>3</td></tr>",
                            "<tr><td>136</td><td>2016</td><td>3</td></tr>",
                            "<tr><td>136</td><td>NULL</td><td>3</td></tr>",
                            "<tr><td>137</td><td>2016</td><td>6</td></tr>",
                            "<tr><td>137</td><td>NULL</td><td>6</td></tr>",
                            "<tr><td>138</td><td>2016</td><td>7</td></tr>",
                            "<tr><td>138</td><td>NULL</td><td>7</td></tr>",
                            "<tr><td>139</td><td>2016</td><td>5</td></tr>",
                            "<tr><td>139</td><td>2017</td><td>2</td></tr>",
                            "<tr><td>139</td><td>NULL</td><td>7</td></tr>",
                            "<tr><td>140</td><td>2016</td><td>8</td></tr>",
                            "<tr><td>140</td><td>NULL</td><td>8</td></tr>",
                            "<tr><td>141</td><td>2016</td><td>6</td></tr>",
                            "<tr><td>141</td><td>NULL</td><td>6</td></tr>",
                            "<tr><td>142</td><td>2016</td><td>1</td></tr>",
                            "<tr><td>142</td><td>2017</td><td>1</td></tr>",
                            "<tr><td>142</td><td>NULL</td><td>2</td></tr>",
                            "<tr><td>143</td><td>2016</td><td>6</td></tr>",
                            "<tr><td>143</td><td>2017</td><td>1</td></tr>",
                            "<tr><td>143</td><td>NULL</td><td>7</td></tr>",
                            "<tr><td>144</td><td>2016</td><td>4</td></tr>",
                            "<tr><td>144</td><td>2017</td><td>1</td></tr>",
                            "<tr><td>144</td><td>NULL</td><td>5</td></tr>",
                            "<tr><td>145</td><td>2016</td><td>5</td></tr>",
                            "<tr><td>145</td><td>2017</td><td>1</td></tr>",
                            "<tr><td>145</td><td>NULL</td><td>6</td></tr>",
                            "<tr><td>146</td><td>2016</td><td>5</td></tr>",
                            "<tr><td>146</td><td>2017</td><td>1</td></tr>",
                            "<tr><td>146</td><td>NULL</td><td>6</td></tr>",
                            "<tr><td>147</td><td>2016</td><td>1</td></tr>",
                            "<tr><td>147</td><td>NULL</td><td>1</td></tr>",
                            "<tr><td>148</td><td>2016</td><td>5</td></tr>",
                            "<tr><td>148</td><td>2017</td><td>1</td></tr>",
                            "<tr><td>148</td><td>NULL</td><td>6</td></tr>",
                            "<tr><td>149</td><td>2016</td><td>6</td></tr>",
                            "<tr><td>149</td><td>2017</td><td>1</td></tr>",
                            "<tr><td>149</td><td>NULL</td><td>7</td></tr>",
                            "<tr><td>150</td><td>2016</td><td>5</td></tr>",
                            "<tr><td>150</td><td>2017</td><td>1</td></tr>",
                            "<tr><td>150</td><td>NULL</td><td>6</td></tr>",
                            "<tr><td>151</td><td>2016</td><td>3</td></tr>",
                            "<tr><td>151</td><td>NULL</td><td>3</td></tr>",
                            "<tr><td>152</td><td>2016</td><td>3</td></tr>",
                            "<tr><td>152</td><td>2017</td><td>1</td></tr>",
                            "<tr><td>152</td><td>NULL</td><td>4</td></tr>",
                            "<tr><td>153</td><td>2016</td><td>2</td></tr>",
                            "<tr><td>153</td><td>2017</td><td>3</td></tr>",
                            "<tr><td>153</td><td>NULL</td><td>5</td></tr>",
                            "<tr><td>154</td><td>2016</td><td>4</td></tr>",
                            "<tr><td>154</td><td>2017</td><td>1</td></tr>",
                            "<tr><td>154</td><td>NULL</td><td>5</td></tr>",
                            "<tr><td>155</td><td>2016</td><td>4</td></tr>",
                            "<tr><td>155</td><td>2017</td><td>1</td></tr>",
                            "<tr><td>155</td><td>NULL</td><td>5</td></tr>",
                            "<tr><td>156</td><td>2016</td><td>4</td></tr>",
                            "<tr><td>156</td><td>2017</td><td>3</td></tr>",
                            "<tr><td>156</td><td>NULL</td><td>7</td></tr>",
                            "<tr><td>157</td><td>2016</td><td>4</td></tr>",
                            "<tr><td>157</td><td>2017</td><td>1</td></tr>",
                            "<tr><td>157</td><td>NULL</td><td>5</td></tr>",
                            "<tr><td>158</td><td>2016</td><td>3</td></tr>",
                            "<tr><td>158</td><td>NULL</td><td>3</td></tr>",
                            "<tr><td>160</td><td>2016</td><td>4</td></tr>",
                            "<tr><td>160</td><td>2017</td><td>1</td></tr>",
                            "<tr><td>160</td><td>NULL</td><td>5</td></tr>",
                            "<tr><td>161</td><td>2016</td><td>5</td></tr>",
                            "<tr><td>161</td><td>2017</td><td>1</td></tr>",
                            "<tr><td>161</td><td>NULL</td><td>6</td></tr>",
                            "<tr><td>162</td><td>2016</td><td>3</td></tr>",
                            "<tr><td>162</td><td>NULL</td><td>3</td></tr>",
                            "<tr><td>163</td><td>2016</td><td>6</td></tr>",
                            "<tr><td>163</td><td>2017</td><td>1</td></tr>",
                            "<tr><td>163</td><td>NULL</td><td>7</td></tr>",
                            "<tr><td>164</td><td>2016</td><td>5</td></tr>",
                            "<tr><td>164</td><td>NULL</td><td>5</td></tr>",
                            "<tr><td>165</td><td>2016</td><td>7</td></tr>",
                            "<tr><td>165</td><td>NULL</td><td>7</td></tr>",
                            "<tr><td>166</td><td>2016</td><td>2</td></tr>",
                            "<tr><td>166</td><td>2017</td><td>1</td></tr>",
                            "<tr><td>166</td><td>NULL</td><td>3</td></tr>",
                            "<tr><td>167</td><td>2016</td><td>1</td></tr>",
                            "<tr><td>167</td><td>2017</td><td>1</td></tr>",
                            "<tr><td>167</td><td>NULL</td><td>2</td></tr>",
                            "<tr><td>168</td><td>2016</td><td>5</td></tr>",
                            "<tr><td>168</td><td>NULL</td><td>5</td></tr>",
                            "<tr><td>169</td><td>2016</td><td>5</td></tr>",
                            "<tr><td>169</td><td>2017</td><td>1</td></tr>",
                            "<tr><td>169</td><td>NULL</td><td>6</td></tr>",
                            "<tr><td>170</td><td>2016</td><td>5</td></tr>",
                            "<tr><td>170</td><td>NULL</td><td>5</td></tr>",
                            "<tr><td>171</td><td>2016</td><td>4</td></tr>",
                            "<tr><td>171</td><td>2017</td><td>1</td></tr>",
                            "<tr><td>171</td><td>NULL</td><td>5</td></tr>",
                            "<tr><td>172</td><td>2016</td><td>7</td></tr>",
                            "<tr><td>172</td><td>2017</td><td>2</td></tr>",
                            "<tr><td>172</td><td>NULL</td><td>9</td></tr>",
                            "<tr><td>173</td><td>2016</td><td>3</td></tr>",
                            "<tr><td>173</td><td>2017</td><td>1</td></tr>",
                            "<tr><td>173</td><td>NULL</td><td>4</td></tr>",
                            "<tr><td>174</td><td>2016</td><td>4</td></tr>",
                            "<tr><td>174</td><td>NULL</td><td>4</td></tr>",
                            "<tr><td>175</td><td>2016</td><td>5</td></tr>",
                            "<tr><td>175</td><td>NULL</td><td>5</td></tr>",
                            "<tr><td>176</td><td>2016</td><td>4</td></tr>",
                            "<tr><td>176</td><td>2017</td><td>2</td></tr>",
                            "<tr><td>176</td><td>NULL</td><td>6</td></tr>",
                            "<tr><td>177</td><td>2016</td><td>3</td></tr>",
                            "<tr><td>177</td><td>2017</td><td>1</td></tr>",
                            "<tr><td>177</td><td>NULL</td><td>4</td></tr>",
                            "<tr><td>178</td><td>2016</td><td>4</td></tr>",
                            "<tr><td>178</td><td>NULL</td><td>4</td></tr>",
                            "<tr><td>179</td><td>2016</td><td>2</td></tr>",
                            "<tr><td>179</td><td>2017</td><td>1</td></tr>",
                            "<tr><td>179</td><td>NULL</td><td>3</td></tr>",
                            "<tr><td>180</td><td>2016</td><td>1</td></tr>",
                            "<tr><td>180</td><td>2017</td><td>2</td></tr>",
                            "<tr><td>180</td><td>NULL</td><td>3</td></tr>",
                            "<tr><td>181</td><td>2016</td><td>6</td></tr>",
                            "<tr><td>181</td><td>NULL</td><td>6</td></tr>",
                            "<tr><td>182</td><td>2016</td><td>10</td></tr>",
                            "<tr><td>182</td><td>2017</td><td>2</td></tr>",
                            "<tr><td>182</td><td>NULL</td><td>12</td></tr>",
                            "<tr><td>183</td><td>2016</td><td>3</td></tr>",
                            "<tr><td>183</td><td>2017</td><td>1</td></tr>",
                            "<tr><td>183</td><td>NULL</td><td>4</td></tr>",
                            "<tr><td>184</td><td>2016</td><td>4</td></tr>",
                            "<tr><td>184</td><td>NULL</td><td>4</td></tr>",
                            "<tr><td>185</td><td>2016</td><td>10</td></tr>",
                            "<tr><td>185</td><td>2017</td><td>2</td></tr>",
                            "<tr><td>185</td><td>NULL</td><td>12</td></tr>",
                            "<tr><td>186</td><td>2016</td><td>3</td></tr>",
                            "<tr><td>186</td><td>2017</td><td>1</td></tr>",
                            "<tr><td>186</td><td>NULL</td><td>4</td></tr>",
                            "<tr><td>187</td><td>2016</td><td>7</td></tr>",
                            "<tr><td>187</td><td>NULL</td><td>7</td></tr>",
                            "<tr><td>188</td><td>2016</td><td>6</td></tr>",
                            "<tr><td>188</td><td>NULL</td><td>6</td></tr>",
                            "<tr><td>189</td><td>2016</td><td>3</td></tr>",
                            "<tr><td>189</td><td>2017</td><td>2</td></tr>",
                            "<tr><td>189</td><td>NULL</td><td>5</td></tr>",
                            "<tr><td>190</td><td>2016</td><td>4</td></tr>",
                            "<tr><td>190</td><td>2017</td><td>1</td></tr>",
                            "<tr><td>190</td><td>NULL</td><td>5</td></tr>",
                            "<tr><td>191</td><td>2016</td><td>3</td></tr>",
                            "<tr><td>191</td><td>2017</td><td>2</td></tr>",
                            "<tr><td>191</td><td>NULL</td><td>5</td></tr>",
                            "<tr><td>192</td><td>2016</td><td>2</td></tr>",
                            "<tr><td>192</td><td>NULL</td><td>2</td></tr>",
                            "<tr><td>193</td><td>2016</td><td>7</td></tr>",
                            "<tr><td>193</td><td>NULL</td><td>7</td></tr>",
                            "<tr><td>194</td><td>2016</td><td>1</td></tr>",
                            "<tr><td>194</td><td>NULL</td><td>1</td></tr>",
                            "<tr><td>195</td><td>2016</td><td>4</td></tr>",
                            "<tr><td>195</td><td>2017</td><td>2</td></tr>",
                            "<tr><td>195</td><td>NULL</td><td>6</td></tr>",
                            "<tr><td>196</td><td>2016</td><td>4</td></tr>",
                            "<tr><td>196</td><td>NULL</td><td>4</td></tr>",
                            "<tr><td>197</td><td>2016</td><td>6</td></tr>",
                            "<tr><td>197</td><td>NULL</td><td>6</td></tr>",
                            "<tr><td>198</td><td>2016</td><td>7</td></tr>",
                            "<tr><td>198</td><td>2017</td><td>1</td></tr>",
                            "<tr><td>198</td><td>NULL</td><td>8</td></tr>",
                            "<tr><td>NULL</td><td>NULL</td><td>1027</td></tr>",
                            "</table>"
                        ]
                    }
                }
            ],
            "execution_count": 11
        },
        {
            "cell_type": "code",
            "source": [
                "--2.feladat\r\n",
                "select szallas_nev, count(*) as 'foglalásszám'\r\n",
                "from szallashely sz join szoba szo on sz.SZALLAS_ID=szo.SZALLAS_FK join foglalas f on szo.SZOBA_ID=f.SZOBA_FK\r\n",
                "Group by szallas_nev\r\n",
                "having count(*)>\r\n",
                "(select count(*)\r\n",
                "from szallashely sz join szoba szo on sz.SZALLAS_ID=szo.SZALLAS_FK join foglalas f on szo.SZOBA_ID=f.SZOBA_FK\r\n",
                "where szallas_nev='Fortuna panzió'\r\n",
                "Group by szallas_nev)\r\n",
                "\r\n",
                "\r\n",
                ""
            ],
            "metadata": {
                "azdata_cell_guid": "e65b78b4-23c7-4bcc-991d-e7d6193d9d34",
                "language": "sql"
            },
            "outputs": [
                {
                    "output_type": "display_data",
                    "data": {
                        "text/html": "(3 rows affected)"
                    },
                    "metadata": {}
                },
                {
                    "output_type": "display_data",
                    "data": {
                        "text/html": "Total execution time: 00:00:00.019"
                    },
                    "metadata": {}
                },
                {
                    "output_type": "execute_result",
                    "metadata": {},
                    "execution_count": 7,
                    "data": {
                        "application/vnd.dataresource+json": {
                            "schema": {
                                "fields": [
                                    {
                                        "name": "szallas_nev"
                                    },
                                    {
                                        "name": "foglalásszám"
                                    }
                                ]
                            },
                            "data": [
                                {
                                    "szallas_nev": "Gold Hotel",
                                    "foglalásszám": "179"
                                },
                                {
                                    "szallas_nev": "Hotel Három Hattyú",
                                    "foglalásszám": "204"
                                },
                                {
                                    "szallas_nev": "Kentaur Hotel",
                                    "foglalásszám": "179"
                                }
                            ]
                        },
                        "text/html": [
                            "<table>",
                            "<tr><th>szallas_nev</th><th>foglalásszám</th></tr>",
                            "<tr><td>Gold Hotel</td><td>179</td></tr>",
                            "<tr><td>Hotel Három Hattyú</td><td>204</td></tr>",
                            "<tr><td>Kentaur Hotel</td><td>179</td></tr>",
                            "</table>"
                        ]
                    }
                }
            ],
            "execution_count": 7
        }
    ]
}