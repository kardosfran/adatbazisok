{
    "metadata": {
        "kernelspec": {
            "name": "SQL",
            "display_name": "SQL",
            "language": "sql"
        },
        "language_info": {
            "name": "sql",
            "version": ""
        }
    },
    "nbformat_minor": 2,
    "nbformat": 4,
    "cells": [
        {
            "cell_type": "markdown",
            "source": [
                "1\\. L<span style=\"color: var(--vscode-foreground);\">ekérdezés, a Rendeles tábla LOGIN oszlopában található stringek hossza és az adott hosszúságú stringek darabszáma</span>"
            ],
            "metadata": {
                "azdata_cell_guid": "f045ad3a-b6c9-45a1-813f-e7f50d4bdd42"
            },
            "attachments": {}
        },
        {
            "cell_type": "code",
            "source": [
                "SELECT LEN([LOGIN]) AS 'Hossz',\r\n",
                "       COUNT(*) AS 'Darabszám'\r\n",
                "FROM Rendeles\r\n",
                "GROUP BY LEN([LOGIN])\r\n",
                "ORDER BY COUNT(*) DESC"
            ],
            "metadata": {
                "azdata_cell_guid": "96c6b105-7555-4fcd-b667-3ec7ee081004",
                "language": "sql",
                "tags": []
            },
            "outputs": [
                {
                    "output_type": "display_data",
                    "data": {
                        "text/html": "(9 rows affected)"
                    },
                    "metadata": {}
                },
                {
                    "output_type": "display_data",
                    "data": {
                        "text/html": "Total execution time: 00:00:00.054"
                    },
                    "metadata": {}
                },
                {
                    "output_type": "execute_result",
                    "metadata": {},
                    "execution_count": 24,
                    "data": {
                        "application/vnd.dataresource+json": {
                            "schema": {
                                "fields": [
                                    {
                                        "name": "Hossz"
                                    },
                                    {
                                        "name": "Darabszám"
                                    }
                                ]
                            },
                            "data": [
                                {
                                    "Hossz": "7",
                                    "Darabszám": "9471"
                                },
                                {
                                    "Hossz": "5",
                                    "Darabszám": "5283"
                                },
                                {
                                    "Hossz": "6",
                                    "Darabszám": "4780"
                                },
                                {
                                    "Hossz": "8",
                                    "Darabszám": "3873"
                                },
                                {
                                    "Hossz": "9",
                                    "Darabszám": "1421"
                                },
                                {
                                    "Hossz": "4",
                                    "Darabszám": "1406"
                                },
                                {
                                    "Hossz": "10",
                                    "Darabszám": "993"
                                },
                                {
                                    "Hossz": "3",
                                    "Darabszám": "842"
                                },
                                {
                                    "Hossz": "11",
                                    "Darabszám": "16"
                                }
                            ]
                        },
                        "text/html": [
                            "<table>",
                            "<tr><th>Hossz</th><th>Darabszám</th></tr>",
                            "<tr><td>7</td><td>9471</td></tr>",
                            "<tr><td>5</td><td>5283</td></tr>",
                            "<tr><td>6</td><td>4780</td></tr>",
                            "<tr><td>8</td><td>3873</td></tr>",
                            "<tr><td>9</td><td>1421</td></tr>",
                            "<tr><td>4</td><td>1406</td></tr>",
                            "<tr><td>10</td><td>993</td></tr>",
                            "<tr><td>3</td><td>842</td></tr>",
                            "<tr><td>11</td><td>16</td></tr>",
                            "</table>"
                        ]
                    }
                }
            ],
            "execution_count": 24
        },
        {
            "cell_type": "markdown",
            "source": [
                "2\\. Lekérdezés, a Rendeles tábla szall\\_cim oszlopában levő null értékek százalékos megoszlása"
            ],
            "metadata": {
                "azdata_cell_guid": "b27299f2-aca9-4e6e-be57-64d34f36402a"
            },
            "attachments": {}
        },
        {
            "cell_type": "code",
            "source": [
                "SELECT  100* SUM(IIF(szall_cim IS NULL, 1,0))/COUNT(*) AS 'szazalek'\r\n",
                "FROM Rendeles"
            ],
            "metadata": {
                "azdata_cell_guid": "3bf2f13d-19f0-47fc-91b1-81eafb7aa459",
                "language": "sql",
                "tags": [
                    "hide_input"
                ]
            },
            "outputs": [
                {
                    "output_type": "display_data",
                    "data": {
                        "text/html": "(1 row affected)"
                    },
                    "metadata": {}
                },
                {
                    "output_type": "display_data",
                    "data": {
                        "text/html": "Total execution time: 00:00:00.031"
                    },
                    "metadata": {}
                },
                {
                    "output_type": "execute_result",
                    "metadata": {},
                    "execution_count": 28,
                    "data": {
                        "application/vnd.dataresource+json": {
                            "schema": {
                                "fields": [
                                    {
                                        "name": "szazalek"
                                    }
                                ]
                            },
                            "data": [
                                {
                                    "szazalek": "77"
                                }
                            ]
                        },
                        "text/html": [
                            "<table>",
                            "<tr><th>szazalek</th></tr>",
                            "<tr><td>77</td></tr>",
                            "</table>"
                        ]
                    }
                }
            ],
            "execution_count": 28
        },
        {
            "cell_type": "markdown",
            "source": [
                "![](data:image/png;base64,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)"
            ],
            "metadata": {
                "azdata_cell_guid": "fa669d00-0901-4082-9143-583608c20f02"
            },
            "attachments": {}
        },
        {
            "cell_type": "markdown",
            "source": [
                "3\\. Lekérdezés, a Rendeles tábla, SORSZÁM oszlop értékeinek minimuma, maximuma, átlaga és szórása."
            ],
            "metadata": {
                "azdata_cell_guid": "36ff9420-9724-4d57-9feb-2bcd73975bb4"
            },
            "attachments": {}
        },
        {
            "cell_type": "code",
            "source": [
                "SELECT MIN(SORSZAM) AS 'minimum', \r\n",
                "       MAX(SORSZAM) AS 'maximum', \r\n",
                "       AVG(SORSZAM) AS 'átlag', \r\n",
                "       STDEV(SORSZAM) AS 'szórás'\r\n",
                "FROM Rendeles\r\n",
                "WHERE SORSZAM IS NOT NULL"
            ],
            "metadata": {
                "azdata_cell_guid": "f8bca0e8-b016-4209-b12c-a7c12f280dbb",
                "language": "sql"
            },
            "outputs": [
                {
                    "output_type": "display_data",
                    "data": {
                        "text/html": "(1 row affected)"
                    },
                    "metadata": {}
                },
                {
                    "output_type": "display_data",
                    "data": {
                        "text/html": "Total execution time: 00:00:00.080"
                    },
                    "metadata": {}
                },
                {
                    "output_type": "execute_result",
                    "metadata": {},
                    "execution_count": 35,
                    "data": {
                        "application/vnd.dataresource+json": {
                            "schema": {
                                "fields": [
                                    {
                                        "name": "minimum"
                                    },
                                    {
                                        "name": "maximum"
                                    },
                                    {
                                        "name": "átlag"
                                    },
                                    {
                                        "name": "szórás"
                                    }
                                ]
                            },
                            "data": [
                                {
                                    "minimum": "1",
                                    "maximum": "28085",
                                    "átlag": "14043",
                                    "szórás": "8107,58549137781"
                                }
                            ]
                        },
                        "text/html": [
                            "<table>",
                            "<tr><th>minimum</th><th>maximum</th><th>átlag</th><th>szórás</th></tr>",
                            "<tr><td>1</td><td>28085</td><td>14043</td><td>8107,58549137781</td></tr>",
                            "</table>"
                        ]
                    }
                }
            ],
            "execution_count": 35
        }
    ]
}