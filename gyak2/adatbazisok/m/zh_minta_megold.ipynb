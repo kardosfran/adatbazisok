{
    "metadata": {
        "kernelspec": {
            "name": "SQL",
            "display_name": "SQL",
            "language": "sql"
        },
        "language_info": {
            "name": "sql",
            "version": ""
        }
    },
    "nbformat_minor": 2,
    "nbformat": 4,
    "cells": [
        {
            "cell_type": "markdown",
            "source": [
                "1. <span style=\"background-color: rgb(255, 255, 255); color: rgb(0, 0, 0); font-family: &quot;Open Sans&quot;, sans-serif; font-size: 14.44px;\">Kérdezzük le, hogy melyik ügyfél (USERNEV) hány különböző szálláshelyen foglalt!</span>\n",
                "\n",
                "a. A listában azok az ügyfelek is jelenjenek meg, akiknek még nem volt foglalásuk\n",
                "\n",
                "b. Megfelelően jelölve jelenjen meg a végösszeg is!"
            ],
            "metadata": {
                "azdata_cell_guid": "212bd10e-c5e0-42a9-872e-92d8181f645b"
            },
            "attachments": {}
        },
        {
            "cell_type": "code",
            "source": [
                "SELECT IIF(v.usernev IS NULL, 'Végösszeg', v.usernev) AS 'Ügyfél',\r\n",
                "       COUNT(DISTINCT(szh.SZALLAS_ID)) AS 'Különböző szálláshelyek száma'\r\n",
                "FROM Vendeg v LEFT JOIN Foglalas f ON v.USERNEV = f.UGYFEL_FK\r\n",
                "              LEFT JOIN Szoba sz ON f.SZOBA_FK = sz.SZOBA_ID\r\n",
                "              LEFT JOIN Szallashely szh ON sz.SZALLAS_FK = szh.SZALLAS_ID\r\n",
                "GROUP BY ROLLUP(v.USERNEV)\r\n",
                ""
            ],
            "metadata": {
                "azdata_cell_guid": "126ba0f9-ffa5-43dd-aae5-500649e6f961",
                "language": "sql"
            },
            "outputs": [
{
    "output_type": "display_data",
    "data": {
        "text/html": "Warning: Null value is eliminated by an aggregate or other SET operation."
    },
    "metadata": {}
}, {
    "output_type": "display_data",
    "data": {
        "text/html": "(197 rows affected)"
    },
    "metadata": {}
}, {
    "output_type": "display_data",
    "data": {
        "text/html": "Total execution time: 00:00:00.034"
    },
    "metadata": {}
}, {
    "output_type": "execute_result",
    "metadata": {},
    "execution_count": 2,
    "data": {
        "application/vnd.dataresource+json": {
            "schema": {
                "fields": [
                    {
                        "name": "Ügyfél"
                    },
                    {
                        "name": "Különböző szálláshelyek száma"
                    }
                ]
            },
            "data": [
                {
                    "Ügyfél": "adam1",
                    "Különböző szálláshelyek száma": "2"
                },
                {
                    "Ügyfél": "adam3",
                    "Különböző szálláshelyek száma": "2"
                },
                {
                    "Ügyfél": "adam4",
                    "Különböző szálláshelyek száma": "5"
                },
                {
                    "Ügyfél": "agnes",
                    "Különböző szálláshelyek száma": "4"
                },
                {
                    "Ügyfél": "agnes3",
                    "Különböző szálláshelyek száma": "3"
                },
                {
                    "Ügyfél": "AGNESH",
                    "Különböző szálláshelyek száma": "5"
                },
                {
                    "Ügyfél": "AGNESK",
                    "Különböző szálláshelyek száma": "3"
                },
                {
                    "Ügyfél": "akos",
                    "Különböző szálláshelyek száma": "7"
                },
                {
                    "Ügyfél": "aladar",
                    "Különböző szálláshelyek száma": "3"
                },
                {
                    "Ügyfél": "alexandra",
                    "Különböző szálláshelyek száma": "6"
                },
                {
                    "Ügyfél": "andi",
                    "Különböző szálláshelyek száma": "4"
                },
                {
                    "Ügyfél": "andras2",
                    "Különböző szálláshelyek száma": "3"
                },
                {
                    "Ügyfél": "andras21",
                    "Különböző szálláshelyek száma": "6"
                },
                {
                    "Ügyfél": "andras3",
                    "Különböző szálláshelyek száma": "5"
                },
                {
                    "Ügyfél": "andras4",
                    "Különböző szálláshelyek száma": "2"
                },
                {
                    "Ügyfél": "andras41",
                    "Különböző szálláshelyek száma": "5"
                },
                {
                    "Ügyfél": "ANDRASE",
                    "Különböző szálláshelyek száma": "3"
                },
                {
                    "Ügyfél": "ANDRASN",
                    "Különböző szálláshelyek száma": "1"
                },
                {
                    "Ügyfél": "andrea",
                    "Különböző szálláshelyek száma": "4"
                },
                {
                    "Ügyfél": "andrea3",
                    "Különböző szálláshelyek száma": "1"
                },
                {
                    "Ügyfél": "andrea4",
                    "Különböző szálláshelyek száma": "2"
                },
                {
                    "Ügyfél": "ANDREAT",
                    "Különböző szálláshelyek száma": "2"
                },
                {
                    "Ügyfél": "anett3",
                    "Különböző szálláshelyek száma": "6"
                },
                {
                    "Ügyfél": "aniko",
                    "Különböző szálláshelyek száma": "3"
                },
                {
                    "Ügyfél": "aniko4",
                    "Különböző szálláshelyek száma": "3"
                },
                {
                    "Ügyfél": "ANIKOS",
                    "Különböző szálláshelyek száma": "6"
                },
                {
                    "Ügyfél": "anita",
                    "Különböző szálláshelyek száma": "4"
                },
                {
                    "Ügyfél": "annamaria1",
                    "Különböző szálláshelyek száma": "1"
                },
                {
                    "Ügyfél": "ANNAMARIAR",
                    "Különböző szálláshelyek száma": "5"
                },
                {
                    "Ügyfél": "aron2",
                    "Különböző szálláshelyek száma": "5"
                },
                {
                    "Ügyfél": "ARONK",
                    "Különböző szálláshelyek száma": "8"
                },
                {
                    "Ügyfél": "arpad2",
                    "Különböző szálláshelyek száma": "4"
                },
                {
                    "Ügyfél": "ARPADH",
                    "Különböző szálláshelyek száma": "3"
                },
                {
                    "Ügyfél": "ARPADM",
                    "Különböző szálláshelyek száma": "5"
                },
                {
                    "Ügyfél": "attila",
                    "Különböző szálláshelyek száma": "3"
                },
                {
                    "Ügyfél": "attila1",
                    "Különböző szálláshelyek száma": "5"
                },
                {
                    "Ügyfél": "attila4",
                    "Különböző szálláshelyek száma": "3"
                },
                {
                    "Ügyfél": "ATTILAO",
                    "Különböző szálláshelyek száma": "2"
                },
                {
                    "Ügyfél": "balazs1",
                    "Különböző szálláshelyek száma": "6"
                },
                {
                    "Ügyfél": "balazs2",
                    "Különböző szálláshelyek száma": "8"
                },
                {
                    "Ügyfél": "balazs3",
                    "Különböző szálláshelyek száma": "4"
                },
                {
                    "Ügyfél": "balint",
                    "Különböző szálláshelyek száma": "3"
                },
                {
                    "Ügyfél": "balint1",
                    "Különböző szálláshelyek száma": "9"
                },
                {
                    "Ügyfél": "balint2",
                    "Különböző szálláshelyek száma": "1"
                },
                {
                    "Ügyfél": "balu",
                    "Különböző szálláshelyek száma": "2"
                },
                {
                    "Ügyfél": "beata4",
                    "Különböző szálláshelyek száma": "4"
                },
                {
                    "Ügyfél": "BEATRIXK",
                    "Különböző szálláshelyek száma": "7"
                },
                {
                    "Ügyfél": "BEATRIXS",
                    "Különböző szálláshelyek száma": "5"
                },
                {
                    "Ügyfél": "BELAF",
                    "Különböző szálláshelyek száma": "3"
                },
                {
                    "Ügyfél": "bence",
                    "Különböző szálláshelyek száma": "6"
                },
                {
                    "Ügyfél": "BENCEB",
                    "Különböző szálláshelyek száma": "4"
                },
                {
                    "Ügyfél": "bernadett1",
                    "Különböző szálláshelyek száma": "5"
                },
                {
                    "Ügyfél": "bernadett2",
                    "Különböző szálláshelyek száma": "5"
                },
                {
                    "Ügyfél": "BERNADETTO",
                    "Különböző szálláshelyek száma": "6"
                },
                {
                    "Ügyfél": "bertalan",
                    "Különböző szálláshelyek száma": "4"
                },
                {
                    "Ügyfél": "brigitta",
                    "Különböző szálláshelyek száma": "4"
                },
                {
                    "Ügyfél": "brigitta3",
                    "Különböző szálláshelyek száma": "4"
                },
                {
                    "Ügyfél": "csongor3",
                    "Különböző szálláshelyek száma": "6"
                },
                {
                    "Ügyfél": "dani",
                    "Különböző szálláshelyek száma": "6"
                },
                {
                    "Ügyfél": "daniel",
                    "Különböző szálláshelyek száma": "5"
                },
                {
                    "Ügyfél": "daniel1",
                    "Különböző szálláshelyek száma": "5"
                },
                {
                    "Ügyfél": "david",
                    "Különböző szálláshelyek száma": "6"
                },
                {
                    "Ügyfél": "david1",
                    "Különböző szálláshelyek száma": "5"
                },
                {
                    "Ügyfél": "david4",
                    "Különböző szálláshelyek száma": "1"
                },
                {
                    "Ügyfél": "debora",
                    "Különböző szálláshelyek száma": "4"
                },
                {
                    "Ügyfél": "denes",
                    "Különböző szálláshelyek száma": "3"
                },
                {
                    "Ügyfél": "dora3",
                    "Különböző szálláshelyek száma": "4"
                },
                {
                    "Ügyfél": "edit",
                    "Különböző szálláshelyek száma": "5"
                },
                {
                    "Ügyfél": "emese",
                    "Különböző szálláshelyek száma": "3"
                },
                {
                    "Ügyfél": "eszter",
                    "Különböző szálláshelyek száma": "4"
                },
                {
                    "Ügyfél": "eszter2",
                    "Különböző szálláshelyek száma": "5"
                },
                {
                    "Ügyfél": "eszter4",
                    "Különböző szálláshelyek száma": "3"
                },
                {
                    "Ügyfél": "ESZTERE",
                    "Különböző szálláshelyek száma": "3"
                },
                {
                    "Ügyfél": "eva",
                    "Különböző szálláshelyek száma": "2"
                },
                {
                    "Ügyfél": "eva2",
                    "Különböző szálláshelyek száma": "3"
                },
                {
                    "Ügyfél": "EVAV",
                    "Különböző szálláshelyek száma": "4"
                },
                {
                    "Ügyfél": "ferenc1",
                    "Különböző szálláshelyek száma": "4"
                },
                {
                    "Ügyfél": "fruzsina4",
                    "Különböző szálláshelyek száma": "5"
                },
                {
                    "Ügyfél": "gabor1",
                    "Különböző szálláshelyek száma": "5"
                },
                {
                    "Ügyfél": "gabor4",
                    "Különböző szálláshelyek száma": "4"
                },
                {
                    "Ügyfél": "GABORS",
                    "Különböző szálláshelyek száma": "0"
                },
                {
                    "Ügyfél": "gabriella1",
                    "Különböző szálláshelyek száma": "4"
                },
                {
                    "Ügyfél": "gabriella10",
                    "Különböző szálláshelyek száma": "1"
                },
                {
                    "Ügyfél": "georgij",
                    "Különböző szálláshelyek száma": "4"
                },
                {
                    "Ügyfél": "gusztav",
                    "Különböző szálláshelyek száma": "5"
                },
                {
                    "Ügyfél": "GYONGYIK",
                    "Különböző szálláshelyek száma": "7"
                },
                {
                    "Ügyfél": "GYORGYO",
                    "Különböző szálláshelyek száma": "3"
                },
                {
                    "Ügyfél": "henrik3",
                    "Különböző szálláshelyek száma": "3"
                },
                {
                    "Ügyfél": "IBOLYAA",
                    "Különböző szálláshelyek száma": "2"
                },
                {
                    "Ügyfél": "ilona3",
                    "Különböző szálláshelyek száma": "2"
                },
                {
                    "Ügyfél": "imre",
                    "Különböző szálláshelyek száma": "2"
                },
                {
                    "Ügyfél": "imre1",
                    "Különböző szálláshelyek száma": "4"
                },
                {
                    "Ügyfél": "istvan",
                    "Különböző szálláshelyek száma": "3"
                },
                {
                    "Ügyfél": "istvan1",
                    "Különböző szálláshelyek száma": "4"
                },
                {
                    "Ügyfél": "ISTVANV",
                    "Különböző szálláshelyek száma": "2"
                },
                {
                    "Ügyfél": "janos3",
                    "Különböző szálláshelyek száma": "5"
                },
                {
                    "Ügyfél": "JANOSG",
                    "Különböző szálláshelyek száma": "3"
                },
                {
                    "Ügyfél": "JANOSP",
                    "Különböző szálláshelyek száma": "3"
                },
                {
                    "Ügyfél": "jozsef",
                    "Különböző szálláshelyek száma": "3"
                },
                {
                    "Ügyfél": "jozsef2",
                    "Különböző szálláshelyek száma": "3"
                },
                {
                    "Ügyfél": "JOZSEFG",
                    "Különböző szálláshelyek száma": "5"
                },
                {
                    "Ügyfél": "JUDITH",
                    "Különböző szálláshelyek száma": "3"
                },
                {
                    "Ügyfél": "julia",
                    "Különböző szálláshelyek száma": "2"
                },
                {
                    "Ügyfél": "julia4",
                    "Különböző szálláshelyek száma": "2"
                },
                {
                    "Ügyfél": "julianna4",
                    "Különböző szálláshelyek száma": "4"
                },
                {
                    "Ügyfél": "kata",
                    "Különböző szálláshelyek száma": "5"
                },
                {
                    "Ügyfél": "katalin",
                    "Különböző szálláshelyek száma": "6"
                },
                {
                    "Ügyfél": "katalin4",
                    "Különböző szálláshelyek száma": "3"
                },
                {
                    "Ügyfél": "kati",
                    "Különböző szálláshelyek száma": "4"
                },
                {
                    "Ügyfél": "katka",
                    "Különböző szálláshelyek száma": "4"
                },
                {
                    "Ügyfél": "klaudia2",
                    "Különböző szálláshelyek száma": "3"
                },
                {
                    "Ügyfél": "kornel4",
                    "Különböző szálláshelyek száma": "3"
                },
                {
                    "Ügyfél": "kristof4",
                    "Különböző szálláshelyek száma": "2"
                },
                {
                    "Ügyfél": "kriszti",
                    "Különböző szálláshelyek száma": "6"
                },
                {
                    "Ügyfél": "krisztian4",
                    "Különböző szálláshelyek száma": "6"
                },
                {
                    "Ügyfél": "KRISZTIANM",
                    "Különböző szálláshelyek száma": "6"
                },
                {
                    "Ügyfél": "krisztina",
                    "Különböző szálláshelyek száma": "5"
                },
                {
                    "Ügyfél": "krisztina1",
                    "Különböző szálláshelyek száma": "4"
                },
                {
                    "Ügyfél": "KRISZTINAG",
                    "Különböző szálláshelyek száma": "5"
                },
                {
                    "Ügyfél": "lajos",
                    "Különböző szálláshelyek száma": "3"
                },
                {
                    "Ügyfél": "lala",
                    "Különböző szálláshelyek száma": "5"
                },
                {
                    "Ügyfél": "laszlo1",
                    "Különböző szálláshelyek száma": "1"
                },
                {
                    "Ügyfél": "laszlo2",
                    "Különböző szálláshelyek száma": "5"
                },
                {
                    "Ügyfél": "LASZLOA",
                    "Különböző szálláshelyek száma": "3"
                },
                {
                    "Ügyfél": "LASZLON",
                    "Különböző szálláshelyek száma": "5"
                },
                {
                    "Ügyfél": "maria1",
                    "Különböző szálláshelyek száma": "6"
                },
                {
                    "Ügyfél": "mark",
                    "Különböző szálláshelyek száma": "3"
                },
                {
                    "Ügyfél": "MARKH",
                    "Különböző szálláshelyek száma": "2"
                },
                {
                    "Ügyfél": "marton",
                    "Különböző szálláshelyek száma": "6"
                },
                {
                    "Ügyfél": "MATEK",
                    "Különböző szálláshelyek száma": "3"
                },
                {
                    "Ügyfél": "matyas2",
                    "Különböző szálláshelyek száma": "2"
                },
                {
                    "Ügyfél": "MATYASS",
                    "Különböző szálláshelyek száma": "5"
                },
                {
                    "Ügyfél": "MIHALYJ",
                    "Különböző szálláshelyek száma": "4"
                },
                {
                    "Ügyfél": "miklos2",
                    "Különböző szálláshelyek száma": "3"
                },
                {
                    "Ügyfél": "MIKLOSB",
                    "Különböző szálláshelyek száma": "3"
                },
                {
                    "Ügyfél": "MONIKAM",
                    "Különböző szálláshelyek száma": "5"
                },
                {
                    "Ügyfél": "NANDORF",
                    "Különböző szálláshelyek száma": "2"
                },
                {
                    "Ügyfél": "nikolett3",
                    "Különböző szálláshelyek száma": "4"
                },
                {
                    "Ügyfél": "nikoletta4",
                    "Különböző szálláshelyek száma": "4"
                },
                {
                    "Ügyfél": "NIKOLETTAT",
                    "Különböző szálláshelyek száma": "4"
                },
                {
                    "Ügyfél": "norbert",
                    "Különböző szálláshelyek száma": "4"
                },
                {
                    "Ügyfél": "norbert2",
                    "Különböző szálláshelyek száma": "5"
                },
                {
                    "Ügyfél": "norbert4",
                    "Különböző szálláshelyek száma": "5"
                },
                {
                    "Ügyfél": "norbert5",
                    "Különböző szálláshelyek száma": "2"
                },
                {
                    "Ügyfél": "pal",
                    "Különböző szálláshelyek száma": "3"
                },
                {
                    "Ügyfél": "peter1",
                    "Különböző szálláshelyek száma": "3"
                },
                {
                    "Ügyfél": "peter2",
                    "Különböző szálláshelyek száma": "4"
                },
                {
                    "Ügyfél": "peter3",
                    "Különböző szálláshelyek száma": "3"
                },
                {
                    "Ügyfél": "peter4",
                    "Különböző szálláshelyek száma": "7"
                },
                {
                    "Ügyfél": "PETERB",
                    "Különböző szálláshelyek száma": "3"
                },
                {
                    "Ügyfél": "polla",
                    "Különböző szálláshelyek száma": "4"
                },
                {
                    "Ügyfél": "rajmond4",
                    "Különböző szálláshelyek száma": "4"
                },
                {
                    "Ügyfél": "reka4",
                    "Különböző szálláshelyek száma": "4"
                },
                {
                    "Ügyfél": "RENATAK",
                    "Különböző szálláshelyek száma": "5"
                },
                {
                    "Ügyfél": "RENATAS",
                    "Különböző szálláshelyek száma": "3"
                },
                {
                    "Ügyfél": "robert2",
                    "Különböző szálláshelyek száma": "4"
                },
                {
                    "Ügyfél": "ROBERTI",
                    "Különböző szálláshelyek száma": "4"
                },
                {
                    "Ügyfél": "ROBERTP",
                    "Különböző szálláshelyek száma": "2"
                },
                {
                    "Ügyfél": "roland",
                    "Különböző szálláshelyek száma": "3"
                },
                {
                    "Ügyfél": "roland1",
                    "Különböző szálláshelyek száma": "4"
                },
                {
                    "Ügyfél": "roza2",
                    "Különböző szálláshelyek száma": "3"
                },
                {
                    "Ügyfél": "sandor",
                    "Különböző szálláshelyek száma": "4"
                },
                {
                    "Ügyfél": "sandor3",
                    "Különböző szálláshelyek száma": "3"
                },
                {
                    "Ügyfél": "sandor4",
                    "Különböző szálláshelyek száma": "3"
                },
                {
                    "Ügyfél": "sara",
                    "Különböző szálláshelyek száma": "9"
                },
                {
                    "Ügyfél": "SEBASTIANF",
                    "Különböző szálláshelyek száma": "3"
                },
                {
                    "Ügyfél": "sebestyen",
                    "Különböző szálláshelyek száma": "2"
                },
                {
                    "Ügyfél": "szabolcs",
                    "Különböző szálláshelyek száma": "1"
                },
                {
                    "Ügyfél": "SZABOLCSM",
                    "Különböző szálláshelyek száma": "4"
                },
                {
                    "Ügyfél": "SZILARDS",
                    "Különböző szálláshelyek száma": "5"
                },
                {
                    "Ügyfél": "szilvia1",
                    "Különböző szálláshelyek száma": "6"
                },
                {
                    "Ügyfél": "tamara2",
                    "Különböző szálláshelyek száma": "2"
                },
                {
                    "Ügyfél": "tamas",
                    "Különböző szálláshelyek száma": "4"
                },
                {
                    "Ügyfél": "TAMASF",
                    "Különböző szálláshelyek száma": "6"
                },
                {
                    "Ügyfél": "tibor",
                    "Különböző szálláshelyek száma": "2"
                },
                {
                    "Ügyfél": "tibor2",
                    "Különböző szálláshelyek száma": "1"
                },
                {
                    "Ügyfél": "tihamer",
                    "Különböző szálláshelyek száma": "4"
                },
                {
                    "Ügyfél": "timea",
                    "Különböző szálláshelyek száma": "1"
                },
                {
                    "Ügyfél": "timea2",
                    "Különböző szálláshelyek száma": "5"
                },
                {
                    "Ügyfél": "tunde",
                    "Különböző szálláshelyek száma": "7"
                },
                {
                    "Ügyfél": "valentin",
                    "Különböző szálláshelyek száma": "5"
                },
                {
                    "Ügyfél": "veronika4",
                    "Különböző szálláshelyek száma": "4"
                },
                {
                    "Ügyfél": "VIKTORIAU",
                    "Különböző szálláshelyek száma": "4"
                },
                {
                    "Ügyfél": "VIKTORK",
                    "Különböző szálláshelyek száma": "2"
                },
                {
                    "Ügyfél": "vivien3",
                    "Különböző szálláshelyek száma": "5"
                },
                {
                    "Ügyfél": "zoltan",
                    "Különböző szálláshelyek száma": "2"
                },
                {
                    "Ügyfél": "zoltan4",
                    "Különböző szálláshelyek száma": "5"
                },
                {
                    "Ügyfél": "ZOLTANP",
                    "Különböző szálláshelyek száma": "3"
                },
                {
                    "Ügyfél": "ZOLTANT",
                    "Különböző szálláshelyek száma": "2"
                },
                {
                    "Ügyfél": "zsofi1",
                    "Különböző szálláshelyek száma": "2"
                },
                {
                    "Ügyfél": "zsolt1",
                    "Különböző szálláshelyek száma": "2"
                },
                {
                    "Ügyfél": "ZSOLTJ",
                    "Különböző szálláshelyek száma": "6"
                },
                {
                    "Ügyfél": "zsuzsa",
                    "Különböző szálláshelyek száma": "2"
                },
                {
                    "Ügyfél": "zsuzsa3",
                    "Különböző szálláshelyek száma": "4"
                },
                {
                    "Ügyfél": "zsuzsanna",
                    "Különböző szálláshelyek száma": "4"
                },
                {
                    "Ügyfél": "ZSUZSAV",
                    "Különböző szálláshelyek száma": "5"
                },
                {
                    "Ügyfél": "Végösszeg",
                    "Különböző szálláshelyek száma": "12"
                }
            ]
        },
        "text/html": [
            "<table>",
            "<tr><th>Ügyfél</th><th>Különböző szálláshelyek száma</th></tr>",
            "<tr><td>adam1</td><td>2</td></tr>",
            "<tr><td>adam3</td><td>2</td></tr>",
            "<tr><td>adam4</td><td>5</td></tr>",
            "<tr><td>agnes</td><td>4</td></tr>",
            "<tr><td>agnes3</td><td>3</td></tr>",
            "<tr><td>AGNESH</td><td>5</td></tr>",
            "<tr><td>AGNESK</td><td>3</td></tr>",
            "<tr><td>akos</td><td>7</td></tr>",
            "<tr><td>aladar</td><td>3</td></tr>",
            "<tr><td>alexandra</td><td>6</td></tr>",
            "<tr><td>andi</td><td>4</td></tr>",
            "<tr><td>andras2</td><td>3</td></tr>",
            "<tr><td>andras21</td><td>6</td></tr>",
            "<tr><td>andras3</td><td>5</td></tr>",
            "<tr><td>andras4</td><td>2</td></tr>",
            "<tr><td>andras41</td><td>5</td></tr>",
            "<tr><td>ANDRASE</td><td>3</td></tr>",
            "<tr><td>ANDRASN</td><td>1</td></tr>",
            "<tr><td>andrea</td><td>4</td></tr>",
            "<tr><td>andrea3</td><td>1</td></tr>",
            "<tr><td>andrea4</td><td>2</td></tr>",
            "<tr><td>ANDREAT</td><td>2</td></tr>",
            "<tr><td>anett3</td><td>6</td></tr>",
            "<tr><td>aniko</td><td>3</td></tr>",
            "<tr><td>aniko4</td><td>3</td></tr>",
            "<tr><td>ANIKOS</td><td>6</td></tr>",
            "<tr><td>anita</td><td>4</td></tr>",
            "<tr><td>annamaria1</td><td>1</td></tr>",
            "<tr><td>ANNAMARIAR</td><td>5</td></tr>",
            "<tr><td>aron2</td><td>5</td></tr>",
            "<tr><td>ARONK</td><td>8</td></tr>",
            "<tr><td>arpad2</td><td>4</td></tr>",
            "<tr><td>ARPADH</td><td>3</td></tr>",
            "<tr><td>ARPADM</td><td>5</td></tr>",
            "<tr><td>attila</td><td>3</td></tr>",
            "<tr><td>attila1</td><td>5</td></tr>",
            "<tr><td>attila4</td><td>3</td></tr>",
            "<tr><td>ATTILAO</td><td>2</td></tr>",
            "<tr><td>balazs1</td><td>6</td></tr>",
            "<tr><td>balazs2</td><td>8</td></tr>",
            "<tr><td>balazs3</td><td>4</td></tr>",
            "<tr><td>balint</td><td>3</td></tr>",
            "<tr><td>balint1</td><td>9</td></tr>",
            "<tr><td>balint2</td><td>1</td></tr>",
            "<tr><td>balu</td><td>2</td></tr>",
            "<tr><td>beata4</td><td>4</td></tr>",
            "<tr><td>BEATRIXK</td><td>7</td></tr>",
            "<tr><td>BEATRIXS</td><td>5</td></tr>",
            "<tr><td>BELAF</td><td>3</td></tr>",
            "<tr><td>bence</td><td>6</td></tr>",
            "<tr><td>BENCEB</td><td>4</td></tr>",
            "<tr><td>bernadett1</td><td>5</td></tr>",
            "<tr><td>bernadett2</td><td>5</td></tr>",
            "<tr><td>BERNADETTO</td><td>6</td></tr>",
            "<tr><td>bertalan</td><td>4</td></tr>",
            "<tr><td>brigitta</td><td>4</td></tr>",
            "<tr><td>brigitta3</td><td>4</td></tr>",
            "<tr><td>csongor3</td><td>6</td></tr>",
            "<tr><td>dani</td><td>6</td></tr>",
            "<tr><td>daniel</td><td>5</td></tr>",
            "<tr><td>daniel1</td><td>5</td></tr>",
            "<tr><td>david</td><td>6</td></tr>",
            "<tr><td>david1</td><td>5</td></tr>",
            "<tr><td>david4</td><td>1</td></tr>",
            "<tr><td>debora</td><td>4</td></tr>",
            "<tr><td>denes</td><td>3</td></tr>",
            "<tr><td>dora3</td><td>4</td></tr>",
            "<tr><td>edit</td><td>5</td></tr>",
            "<tr><td>emese</td><td>3</td></tr>",
            "<tr><td>eszter</td><td>4</td></tr>",
            "<tr><td>eszter2</td><td>5</td></tr>",
            "<tr><td>eszter4</td><td>3</td></tr>",
            "<tr><td>ESZTERE</td><td>3</td></tr>",
            "<tr><td>eva</td><td>2</td></tr>",
            "<tr><td>eva2</td><td>3</td></tr>",
            "<tr><td>EVAV</td><td>4</td></tr>",
            "<tr><td>ferenc1</td><td>4</td></tr>",
            "<tr><td>fruzsina4</td><td>5</td></tr>",
            "<tr><td>gabor1</td><td>5</td></tr>",
            "<tr><td>gabor4</td><td>4</td></tr>",
            "<tr><td>GABORS</td><td>0</td></tr>",
            "<tr><td>gabriella1</td><td>4</td></tr>",
            "<tr><td>gabriella10</td><td>1</td></tr>",
            "<tr><td>georgij</td><td>4</td></tr>",
            "<tr><td>gusztav</td><td>5</td></tr>",
            "<tr><td>GYONGYIK</td><td>7</td></tr>",
            "<tr><td>GYORGYO</td><td>3</td></tr>",
            "<tr><td>henrik3</td><td>3</td></tr>",
            "<tr><td>IBOLYAA</td><td>2</td></tr>",
            "<tr><td>ilona3</td><td>2</td></tr>",
            "<tr><td>imre</td><td>2</td></tr>",
            "<tr><td>imre1</td><td>4</td></tr>",
            "<tr><td>istvan</td><td>3</td></tr>",
            "<tr><td>istvan1</td><td>4</td></tr>",
            "<tr><td>ISTVANV</td><td>2</td></tr>",
            "<tr><td>janos3</td><td>5</td></tr>",
            "<tr><td>JANOSG</td><td>3</td></tr>",
            "<tr><td>JANOSP</td><td>3</td></tr>",
            "<tr><td>jozsef</td><td>3</td></tr>",
            "<tr><td>jozsef2</td><td>3</td></tr>",
            "<tr><td>JOZSEFG</td><td>5</td></tr>",
            "<tr><td>JUDITH</td><td>3</td></tr>",
            "<tr><td>julia</td><td>2</td></tr>",
            "<tr><td>julia4</td><td>2</td></tr>",
            "<tr><td>julianna4</td><td>4</td></tr>",
            "<tr><td>kata</td><td>5</td></tr>",
            "<tr><td>katalin</td><td>6</td></tr>",
            "<tr><td>katalin4</td><td>3</td></tr>",
            "<tr><td>kati</td><td>4</td></tr>",
            "<tr><td>katka</td><td>4</td></tr>",
            "<tr><td>klaudia2</td><td>3</td></tr>",
            "<tr><td>kornel4</td><td>3</td></tr>",
            "<tr><td>kristof4</td><td>2</td></tr>",
            "<tr><td>kriszti</td><td>6</td></tr>",
            "<tr><td>krisztian4</td><td>6</td></tr>",
            "<tr><td>KRISZTIANM</td><td>6</td></tr>",
            "<tr><td>krisztina</td><td>5</td></tr>",
            "<tr><td>krisztina1</td><td>4</td></tr>",
            "<tr><td>KRISZTINAG</td><td>5</td></tr>",
            "<tr><td>lajos</td><td>3</td></tr>",
            "<tr><td>lala</td><td>5</td></tr>",
            "<tr><td>laszlo1</td><td>1</td></tr>",
            "<tr><td>laszlo2</td><td>5</td></tr>",
            "<tr><td>LASZLOA</td><td>3</td></tr>",
            "<tr><td>LASZLON</td><td>5</td></tr>",
            "<tr><td>maria1</td><td>6</td></tr>",
            "<tr><td>mark</td><td>3</td></tr>",
            "<tr><td>MARKH</td><td>2</td></tr>",
            "<tr><td>marton</td><td>6</td></tr>",
            "<tr><td>MATEK</td><td>3</td></tr>",
            "<tr><td>matyas2</td><td>2</td></tr>",
            "<tr><td>MATYASS</td><td>5</td></tr>",
            "<tr><td>MIHALYJ</td><td>4</td></tr>",
            "<tr><td>miklos2</td><td>3</td></tr>",
            "<tr><td>MIKLOSB</td><td>3</td></tr>",
            "<tr><td>MONIKAM</td><td>5</td></tr>",
            "<tr><td>NANDORF</td><td>2</td></tr>",
            "<tr><td>nikolett3</td><td>4</td></tr>",
            "<tr><td>nikoletta4</td><td>4</td></tr>",
            "<tr><td>NIKOLETTAT</td><td>4</td></tr>",
            "<tr><td>norbert</td><td>4</td></tr>",
            "<tr><td>norbert2</td><td>5</td></tr>",
            "<tr><td>norbert4</td><td>5</td></tr>",
            "<tr><td>norbert5</td><td>2</td></tr>",
            "<tr><td>pal</td><td>3</td></tr>",
            "<tr><td>peter1</td><td>3</td></tr>",
            "<tr><td>peter2</td><td>4</td></tr>",
            "<tr><td>peter3</td><td>3</td></tr>",
            "<tr><td>peter4</td><td>7</td></tr>",
            "<tr><td>PETERB</td><td>3</td></tr>",
            "<tr><td>polla</td><td>4</td></tr>",
            "<tr><td>rajmond4</td><td>4</td></tr>",
            "<tr><td>reka4</td><td>4</td></tr>",
            "<tr><td>RENATAK</td><td>5</td></tr>",
            "<tr><td>RENATAS</td><td>3</td></tr>",
            "<tr><td>robert2</td><td>4</td></tr>",
            "<tr><td>ROBERTI</td><td>4</td></tr>",
            "<tr><td>ROBERTP</td><td>2</td></tr>",
            "<tr><td>roland</td><td>3</td></tr>",
            "<tr><td>roland1</td><td>4</td></tr>",
            "<tr><td>roza2</td><td>3</td></tr>",
            "<tr><td>sandor</td><td>4</td></tr>",
            "<tr><td>sandor3</td><td>3</td></tr>",
            "<tr><td>sandor4</td><td>3</td></tr>",
            "<tr><td>sara</td><td>9</td></tr>",
            "<tr><td>SEBASTIANF</td><td>3</td></tr>",
            "<tr><td>sebestyen</td><td>2</td></tr>",
            "<tr><td>szabolcs</td><td>1</td></tr>",
            "<tr><td>SZABOLCSM</td><td>4</td></tr>",
            "<tr><td>SZILARDS</td><td>5</td></tr>",
            "<tr><td>szilvia1</td><td>6</td></tr>",
            "<tr><td>tamara2</td><td>2</td></tr>",
            "<tr><td>tamas</td><td>4</td></tr>",
            "<tr><td>TAMASF</td><td>6</td></tr>",
            "<tr><td>tibor</td><td>2</td></tr>",
            "<tr><td>tibor2</td><td>1</td></tr>",
            "<tr><td>tihamer</td><td>4</td></tr>",
            "<tr><td>timea</td><td>1</td></tr>",
            "<tr><td>timea2</td><td>5</td></tr>",
            "<tr><td>tunde</td><td>7</td></tr>",
            "<tr><td>valentin</td><td>5</td></tr>",
            "<tr><td>veronika4</td><td>4</td></tr>",
            "<tr><td>VIKTORIAU</td><td>4</td></tr>",
            "<tr><td>VIKTORK</td><td>2</td></tr>",
            "<tr><td>vivien3</td><td>5</td></tr>",
            "<tr><td>zoltan</td><td>2</td></tr>",
            "<tr><td>zoltan4</td><td>5</td></tr>",
            "<tr><td>ZOLTANP</td><td>3</td></tr>",
            "<tr><td>ZOLTANT</td><td>2</td></tr>",
            "<tr><td>zsofi1</td><td>2</td></tr>",
            "<tr><td>zsolt1</td><td>2</td></tr>",
            "<tr><td>ZSOLTJ</td><td>6</td></tr>",
            "<tr><td>zsuzsa</td><td>2</td></tr>",
            "<tr><td>zsuzsa3</td><td>4</td></tr>",
            "<tr><td>zsuzsanna</td><td>4</td></tr>",
            "<tr><td>ZSUZSAV</td><td>5</td></tr>",
            "<tr><td>Végösszeg</td><td>12</td></tr>",
            "</table>"
        ]
    }
}
],
            "execution_count": 2
        },
        {
            "cell_type": "markdown",
            "source": [
                "2. <span style=\"background-color: rgb(255, 255, 255); color: rgb(0, 0, 0); font-family: &quot;Open Sans&quot;, sans-serif; font-size: 14.44px;\">Készítsünk listát, amely megjeleníti a vendégek adatait!</span>\n",
                "\n",
                "- Egy új oszlopban számoljuk ki a vendég életkorát (években)\n",
                "- Egy másik új oszlopban határozzuk meg, hogy születési dátum szerint növekvő rendezésnél mennyi az adott ügyfél. az előtte lévő 2 ügyfél és az utána lévő 2 ügyfél átlagos életkora! Az oszlopot nevezzük el értelemszerűen!"
            ],
            "metadata": {
                "azdata_cell_guid": "218e67ee-59b0-4d39-b7b2-6170ebd25591"
            },
            "attachments": {}
        },
        {
            "cell_type": "code",
            "source": [
                "SELECT *,\r\n",
                "       DATEDIFF(YEAR, szul_dat, GETDATE()) AS 'Életkor',\r\n",
                "       AVG(DATEDIFF(YEAR, szul_dat, GETDATE()))\r\n",
                "           OVER(ORDER BY szul_dat ROWS BETWEEN 2 PRECEDING AND 2 FOLLOWING) AS 'Átlagos életkor'\r\n",
                "FROM Vendeg"
            ],
            "metadata": {
                "azdata_cell_guid": "937b1d99-ee45-4f29-bda9-c8488ca4af96",
                "language": "sql"
            },
            "outputs": [],
            "execution_count": null
        },
        {
            "cell_type": "markdown",
            "source": [
                "3. <span style=\"background-color: rgb(255, 255, 255); color: rgb(0, 0, 0); font-family: &quot;Open Sans&quot;, sans-serif; font-size: 14.44px;\">Egészítsük ki a megkezdett lekérdezést, amely listázza azon vendégek azonosítóját és nevét, akik már legalább egyszer foglaltak, és MINDEN ESETBEN összesen két fő számára (felnőtt + gyermek szám összege)!&nbsp;</span> \n",
                "\n",
                " a. A lista ne tartalmazzon ismétlődő sorokat!"
            ],
            "metadata": {
                "azdata_cell_guid": "eaa27fbe-84c4-4e77-8593-9cc2c081459a"
            },
            "attachments": {}
        },
        {
            "cell_type": "code",
            "source": [
                "SELECT v.USERNEV, v.NEV\r\n",
                "FROM Vendeg v JOIN Foglalas f ON v.USERNEV = f.UGYFEL_FK \r\n",
                "WHERE NOT EXISTS\r\n",
                "( \r\n",
                "  SELECT *\r\n",
                "  FROM Foglalas f2 \r\n",
                "  WHERE v.USERNEV = f2.UGYFEL_FK\r\n",
                " AND f2.FELNOTT_SZAM + f2.GYERMEK_SZAM <>2\r\n",
                ")"
            ],
            "metadata": {
                "azdata_cell_guid": "a9c2fc01-522e-4d8a-8303-39392f778948",
                "language": "sql"
            },
            "outputs": [],
            "execution_count": null
        }
    ]
}